{
 "cells": [
  {
   "cell_type": "code",
   "execution_count": 4,
   "metadata": {},
   "outputs": [],
   "source": [
    "import datetime as dt\n",
    "import glob\n",
    "import re\n",
    "import dateutil\n",
    "import matplotlib.pyplot as plt\n",
    "import os\n",
    "import numpy as np\n",
    "import collections as coll\n",
    "import pandas as pd\n",
    "%matplotlib inline  "
   ]
  },
  {
   "cell_type": "code",
   "execution_count": 5,
   "metadata": {},
   "outputs": [
    {
     "name": "stdout",
     "output_type": "stream",
     "text": [
      "The autoreload extension is already loaded. To reload it, use:\n",
      "  %reload_ext autoreload\n"
     ]
    }
   ],
   "source": [
    "%load_ext autoreload\n",
    "%autoreload 2\n",
    "import latexml_err_mess_stats as err"
   ]
  },
  {
   "cell_type": "code",
   "execution_count": 17,
   "metadata": {},
   "outputs": [
    {
     "name": "stdout",
     "output_type": "stream",
     "text": [
      "Success Fail Fatal Maxed Timed Died no_tex\n",
      "  120.0 18.0   4.0  14.0   3.0  0.0    2.0\n",
      "Counter({None: 54, 'ascii': 45, 'utf-8': 21, 'ISO-8859-1': 8, 'None': 7, 'Windows-1252': 5})\n",
      "NANs 2\n",
      "(0.803, 151.625] 85\n",
      "(151.625, 301.25] 39\n",
      "(301.25, 450.875] 10\n",
      "(750.125, 899.75] 1\n",
      "(1049.375, 1199.0] 3\n"
     ]
    },
    {
     "data": {
      "text/plain": [
       "140"
      ]
     },
     "execution_count": 17,
     "metadata": {},
     "output_type": "execute_result"
    }
   ],
   "source": [
    "lst_error_files = glob.glob('../test_latexml/*')\n",
    "err.summary(lst_error_files)\n",
    "len(lst_error_files)"
   ]
  },
  {
   "cell_type": "code",
   "execution_count": 16,
   "metadata": {},
   "outputs": [
    {
     "data": {
      "text/plain": [
       "Counter({Interval(151.625, 301.25, closed='right'): 39,\n",
       "         Interval(0.803, 151.625, closed='right'): 85,\n",
       "         Interval(301.25, 450.875, closed='right'): 10,\n",
       "         Interval(750.125, 899.75, closed='right'): 1,\n",
       "         Interval(1049.375, 1199.0, closed='right'): 3})"
      ]
     },
     "execution_count": 16,
     "metadata": {},
     "output_type": "execute_result"
    }
   ],
   "source": [
    "p_lst = list(map(err.ParseLaTeXMLLog, lst_error_files))\n",
    "p_times = [p.time_secs for p in p_lst]\n",
    "Cut,bins = pd.cut(p_times, 8, retbins=True)\n",
    "count = coll.Counter(Cut)\n",
    "#for c in sorted(list(count)):\n",
    "#    print(c, count[c])\n",
    "del count[np.nan]\n",
    "count\n",
    "del count[np.nan]\n",
    "count"
   ]
  },
  {
   "cell_type": "code",
   "execution_count": 54,
   "metadata": {},
   "outputs": [
    {
     "data": {
      "text/plain": [
       "array([  0.745,  64.75 , 128.5  , 192.25 , 256.   ])"
      ]
     },
     "execution_count": 54,
     "metadata": {},
     "output_type": "execute_result"
    }
   ],
   "source": [
    "bins"
   ]
  },
  {
   "cell_type": "code",
   "execution_count": 50,
   "metadata": {},
   "outputs": [
    {
     "name": "stdout",
     "output_type": "stream",
     "text": [
      "(0.745, 16.938]\n",
      "(48.812, 64.75]\n",
      "(32.875, 48.812]\n",
      "(16.938, 32.875]\n",
      "(32.875, 48.812]\n",
      "(16.938, 32.875]\n",
      "(32.875, 48.812]\n",
      "(16.938, 32.875]\n",
      "(32.875, 48.812]\n",
      "(16.938, 32.875]\n",
      "(0.745, 16.938]\n",
      "(16.938, 32.875]\n",
      "(16.938, 32.875]\n",
      "(16.938, 32.875]\n",
      "(0.745, 16.938]\n",
      "(16.938, 32.875]\n",
      "(48.812, 64.75]\n",
      "(16.938, 32.875]\n",
      "(48.812, 64.75]\n",
      "(48.812, 64.75]\n",
      "(32.875, 48.812]\n",
      "(0.745, 16.938]\n",
      "(64.75, 80.688]\n",
      "(16.938, 32.875]\n",
      "(16.938, 32.875]\n",
      "(0.745, 16.938]\n",
      "(0.745, 16.938]\n",
      "(32.875, 48.812]\n",
      "(240.062, 256.0]\n",
      "(16.938, 32.875]\n",
      "(32.875, 48.812]\n",
      "(32.875, 48.812]\n",
      "(16.938, 32.875]\n",
      "(16.938, 32.875]\n",
      "(16.938, 32.875]\n",
      "(16.938, 32.875]\n",
      "(80.688, 96.625]\n",
      "(16.938, 32.875]\n",
      "(16.938, 32.875]\n",
      "(32.875, 48.812]\n",
      "(48.812, 64.75]\n",
      "(0.745, 16.938]\n",
      "(0.745, 16.938]\n",
      "(48.812, 64.75]\n",
      "(16.938, 32.875]\n",
      "(16.938, 32.875]\n",
      "(16.938, 32.875]\n",
      "(0.745, 16.938]\n",
      "(48.812, 64.75]\n",
      "(0.745, 16.938]\n",
      "(0.745, 16.938]\n",
      "(16.938, 32.875]\n",
      "(16.938, 32.875]\n",
      "(16.938, 32.875]\n",
      "(64.75, 80.688]\n",
      "(16.938, 32.875]\n",
      "(16.938, 32.875]\n",
      "(112.562, 128.5]\n",
      "(16.938, 32.875]\n",
      "(32.875, 48.812]\n",
      "(0.745, 16.938]\n",
      "(112.562, 128.5]\n",
      "(16.938, 32.875]\n",
      "(48.812, 64.75]\n",
      "(0.745, 16.938]\n",
      "(16.938, 32.875]\n",
      "(16.938, 32.875]\n",
      "(16.938, 32.875]\n",
      "(32.875, 48.812]\n",
      "(16.938, 32.875]\n",
      "(0.745, 16.938]\n",
      "(144.438, 160.375]\n",
      "(16.938, 32.875]\n",
      "(16.938, 32.875]\n",
      "(64.75, 80.688]\n",
      "(16.938, 32.875]\n",
      "(16.938, 32.875]\n",
      "(16.938, 32.875]\n",
      "(16.938, 32.875]\n",
      "(32.875, 48.812]\n",
      "(16.938, 32.875]\n",
      "(48.812, 64.75]\n",
      "(0.745, 16.938]\n",
      "(0.745, 16.938]\n",
      "(16.938, 32.875]\n",
      "(16.938, 32.875]\n",
      "(0.745, 16.938]\n",
      "(16.938, 32.875]\n",
      "(16.938, 32.875]\n",
      "(16.938, 32.875]\n",
      "(0.745, 16.938]\n",
      "(32.875, 48.812]\n"
     ]
    }
   ],
   "source": [
    "for c in Cut:\n",
    "    print(c.)"
   ]
  },
  {
   "cell_type": "code",
   "execution_count": 202,
   "metadata": {},
   "outputs": [
    {
     "name": "stdout",
     "output_type": "stream",
     "text": [
      "fe: 1 ee: 101 fn: data/problem_files_starting_1703/1703.01379/latexml_errors_mess.txt\n",
      "Finished in less than 1200 seconds\n",
      "\n",
      "1200\n",
      "-----------------\n",
      "fe: 1 ee: 101 fn: data/problem_files_starting_1703/1703.01398/latexml_errors_mess.txt\n",
      "Finished in less than 1200 seconds\n",
      "\n",
      "1200\n",
      "-----------------\n",
      "fe: 1 ee: 101 fn: data/problem_files_starting_1703/1703.01376/latexml_errors_mess.txt\n",
      "Finished in less than 1200 seconds\n",
      "\n",
      "1200\n",
      "-----------------\n"
     ]
    }
   ],
   "source": [
    "encoding_lst = []\n",
    "for l in lst_error_files:\n",
    "    p = err.ParseLaTeXMLLog(l)\n",
    "    if p.fatal_errors:\n",
    "        print('fe: %s ee: %s fn: %s'%(p.fatal_errors, p.errors, p.filename))\n",
    "        print(p.commentary()[-1])\n",
    "        G = re.search('Finished in less than (\\d+) seconds', p.commentary()[-1]).group(1)\n",
    "        \n",
    "        print(G)\n",
    "        print('-----------------')"
   ]
  },
  {
   "cell_type": "code",
   "execution_count": 151,
   "metadata": {},
   "outputs": [
    {
     "name": "stdout",
     "output_type": "stream",
     "text": [
      "\n",
      "Conversion complete: 8 warnings; 13 errors; 10 undefined macros[\\authorcontributions, \\doi, \\authordeclaration, \\significancestatement, \\templatetype, \\ifthenelse, \\correspondingauthor, \\dates, \\leadauthor, \\verticaladjustment]; 7 missing files[t1enc.def, pnas-new.cls, babel.sty, tikz.sty, algpseudocode.sty, keyval.sty, algorithm.sty].\n",
      "(None, '8 warnings; ', '13 errors; ', None, '10 undefined macros[\\\\authorcontributions, \\\\doi, \\\\authordeclaration, \\\\significancestatement, \\\\templatetype, \\\\ifthenelse, \\\\correspondingauthor, \\\\dates, \\\\leadauthor, \\\\verticaladjustment]; ', None)\n"
     ]
    }
   ],
   "source": [
    "I = lst_error_files.index(list(filter(lambda s: '1703.01352' in s, lst_error_files ))[0])\n",
    "with open(lst_error_files[20], 'r') as err_file:\n",
    "    err = err_file.read()\n",
    "print(re.search('\\nConversion complete:(.*)', err).group(0))    \n",
    "print(re.search('\\nConversion complete: (No obvious problems\\.)?(\\d+ warnings?[;\\.] ?)?(\\d+ errors?[;\\.] ?)?(\\d+ fatal errors?[;\\.] ?)?(\\d+ undefined macros?\\[[\\*\\@\\{\\}\\\\\\\\,\\w\\. ]+\\][;\\.] ?)?(\\d+ missing files?\\[[,\\w\\. ]+\\])?.*\\n', err).groups())\n"
   ]
  },
  {
   "cell_type": "code",
   "execution_count": 183,
   "metadata": {},
   "outputs": [
    {
     "data": {
      "text/plain": [
       "('data/problem_files_starting_1703/1703.01389', 'latexml_errors_mess.txt')"
      ]
     },
     "execution_count": 183,
     "metadata": {},
     "output_type": "execute_result"
    }
   ],
   "source": [
    "os.path.split(lst_error_files[3])"
   ]
  },
  {
   "cell_type": "code",
   "execution_count": 4,
   "metadata": {},
   "outputs": [
    {
     "data": {
      "text/plain": [
       "1.8833333333333333"
      ]
     },
     "execution_count": 4,
     "metadata": {},
     "output_type": "execute_result"
    }
   ],
   "source": [
    "def time_from_latexml_log(f):\n",
    "    '''\n",
    "   return time in seconds that a latexml process spent as it appears on the logs\n",
    "   time is returned in seconds\n",
    "    '''\n",
    "    with open(f,'r') as open_file:\n",
    "        file_content = open_file.read()\n",
    "        start = re.search('\\nprocessing started (.*)\\n', file_content).group(1)\n",
    "        finish = re.search('\\nprocessing finished (.*)\\n', file_content).group(1)\n",
    "        d1 = dateutil.parser.parse(start)\n",
    "        d2 = dateutil.parser.parse(finish)\n",
    "    return (d2-d1).seconds\n",
    "\n",
    "time_from_latexml_log('data/nanopterons2/latexml_errors_mess.txt')/60.0"
   ]
  },
  {
   "cell_type": "code",
   "execution_count": 4,
   "metadata": {},
   "outputs": [],
   "source": [
    "duration_lst = []\n",
    "for f in lst_error_files:\n",
    "    with open(f,'r') as open_file:\n",
    "        file_content = open_file.read()\n",
    "        start = re.search('\\nprocessing started (.*)\\n', file_content).group(1)\n",
    "        finish = re.search('\\nprocessing finished (.*)\\n', file_content).group(1)\n",
    "        d1 = dateutil.parser.parse(start)\n",
    "        d2 = dateutil.parser.parse(finish)\n",
    "        duration_lst.append((d2-d1).seconds/60.0)"
   ]
  },
  {
   "cell_type": "code",
   "execution_count": 5,
   "metadata": {},
   "outputs": [
    {
     "data": {
      "text/plain": [
       "(array([79., 43.,  9.,  2.,  1.,  0.,  0.,  0.,  0.,  0.,  0.,  0.,  0.,\n",
       "         0.,  0.,  1.,  0.,  0.,  0.,  0.,  0.,  0.,  0.,  0.,  0.,  0.,\n",
       "         0.,  0.,  0.,  3.]),\n",
       " array([1.66666667e-02, 6.82222222e-01, 1.34777778e+00, 2.01333333e+00,\n",
       "        2.67888889e+00, 3.34444444e+00, 4.01000000e+00, 4.67555556e+00,\n",
       "        5.34111111e+00, 6.00666667e+00, 6.67222222e+00, 7.33777778e+00,\n",
       "        8.00333333e+00, 8.66888889e+00, 9.33444444e+00, 1.00000000e+01,\n",
       "        1.06655556e+01, 1.13311111e+01, 1.19966667e+01, 1.26622222e+01,\n",
       "        1.33277778e+01, 1.39933333e+01, 1.46588889e+01, 1.53244444e+01,\n",
       "        1.59900000e+01, 1.66555556e+01, 1.73211111e+01, 1.79866667e+01,\n",
       "        1.86522222e+01, 1.93177778e+01, 1.99833333e+01]),\n",
       " <a list of 30 Patch objects>)"
      ]
     },
     "execution_count": 5,
     "metadata": {},
     "output_type": "execute_result"
    },
    {
     "data": {
      "image/png": "[encoded data removed]",
      "text/plain": [
       "<Figure size 432x288 with 1 Axes>"
      ]
     },
     "metadata": {
      "needs_background": "light"
     },
     "output_type": "display_data"
    }
   ],
   "source": [
    "plt.hist(duration_lst, bins=30)"
   ]
  },
  {
   "cell_type": "code",
   "execution_count": null,
   "metadata": {},
   "outputs": [],
   "source": []
  }
 ],
 "metadata": {
  "jupytext": {
   "formats": "ipynb,py:light"
  },
  "kernelspec": {
   "display_name": "Python 3",
   "language": "python",
   "name": "python3"
  },
  "language_info": {
   "codemirror_mode": {
    "name": "ipython",
    "version": 3
   },
   "file_extension": ".py",
   "mimetype": "text/x-python",
   "name": "python",
   "nbconvert_exporter": "python",
   "pygments_lexer": "ipython3",
   "version": "3.7.3"
  }
 },
 "nbformat": 4,
 "nbformat_minor": 4
}
