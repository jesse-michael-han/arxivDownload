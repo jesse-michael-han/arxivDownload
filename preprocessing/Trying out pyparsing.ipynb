{
 "cells": [
  {
   "cell_type": "code",
   "execution_count": 60,
   "metadata": {},
   "outputs": [],
   "source": [
    "from pyparsing import \\\n",
    "        Literal, Word, ZeroOrMore, OneOrMore, Group, Dict, Optional, \\\n",
    "        printables, ParseException, restOfLine, empty, \\\n",
    "        Combine, nums, alphanums, Suppress, SkipTo, Forward, printables, alphas, oneOf\n",
    "import pprint\n",
    "import prepro as pp"
   ]
  },
  {
   "cell_type": "code",
   "execution_count": 15,
   "metadata": {},
   "outputs": [
    {
     "name": "stdout",
     "output_type": "stream",
     "text": [
      "['123-456789']\n"
     ]
    }
   ],
   "source": [
    "#ssn ::= num+ '-' num+ '-' num+\n",
    "#num ::= '0' | '1' | '2' etc\n",
    "dash = '-'\n",
    "ssn = Combine(Word(nums, exact=3) +\n",
    "                 dash + Word(nums, exact=2) +\n",
    "                 Suppress('-') + Word(nums, exact=4))\n",
    "target = '123-45-6789'\n",
    "result = ssn.parseString(target)\n",
    "print(result)"
   ]
  },
  {
   "cell_type": "code",
   "execution_count": 42,
   "metadata": {},
   "outputs": [],
   "source": [
    "def patt(cs):\n",
    "    '''\n",
    "   Remove the cs with its arguments \n",
    "   with recursion on curly brackets\n",
    "    '''\n",
    "    cs_literal = Literal(cs).suppress()\n",
    "    bslash = Literal('\\\\').suppress()\n",
    "    lbrace = Literal('{').suppress()\n",
    "    rbrace = Literal('}').suppress()\n",
    "    parens = Word(\"()%\\\\\")\n",
    "    inside = SkipTo(rbrace)\n",
    "    allchars = Word(printables, excludeChars=\"{}\")\n",
    "    inside = ZeroOrMore(allchars)\n",
    "    inside.setParseAction(lambda tok: \" \".join(tok))\n",
    "    content = Forward()\n",
    "    content << OneOrMore(allchars|(lbrace + ZeroOrMore(content) + rbrace))\n",
    "    #content << (allchars + lbrace + ZeroOrMore(content) + rbrace)\n",
    "    content.setParseAction(lambda tok: \" \".join(tok))\n",
    "\n",
    "    return bslash + cs_literal + lbrace + content + rbrace\n",
    "\n",
    "class CommandCleaner:\n",
    "    def __init__(self, *xargs, **kwargs):\n",
    "        '''\n",
    "       *package* is the package name: ex \"xy\" \n",
    "       *environments* is a list of the environments provided by the package:\n",
    "           [ \"xyenvirons\", ]\n",
    "        *standalones* is a list of macros that the package also provides:\n",
    "           [ \"xymatrix\" ]\n",
    "        '''\n",
    "        if xargs:\n",
    "            self.pattern = patt(xargs[0])\n",
    "    \n",
    "    def show_matches(self, docum):\n",
    "        '''\n",
    "        Print the matches\n",
    "        '''\n",
    "        return self.pattern.searchString(docum)\n",
    "    \n",
    "    def del_matches(self, docum):\n",
    "        pass\n",
    "    \n",
    "        "
   ]
  },
  {
   "cell_type": "code",
   "execution_count": 45,
   "metadata": {},
   "outputs": [
    {
     "data": {
      "text/plain": [
       "'(\\\\Sh(\\\\mathcal C ), \\\\underline B ) \\\\ar[r]_i \\\\ar[d]_\\\\pi & (\\\\Sh(\\\\mathcal C ), \\\\mathcal O ) \\\\\\\\ (\\\\Sh(*), B)'"
      ]
     },
     "execution_count": 45,
     "metadata": {},
     "output_type": "execute_result"
    }
   ],
   "source": [
    "cc = CommandCleaner('xymatrix')\n",
    "cc.show_matches(short_example)[0][0]"
   ]
  },
  {
   "cell_type": "code",
   "execution_count": 19,
   "metadata": {},
   "outputs": [],
   "source": [
    "example_ini = '''[DEFAULT]\n",
    "ServerAliveInterval = 45\n",
    "Compression = yes\n",
    "CompressionLevel = 9\n",
    "ForwardX11 = yes\n",
    "\n",
    "[bitbucket.org]\n",
    "User = hg\n",
    "\n",
    "[topsecret.server.com]\n",
    "Port = 50022\n",
    "ForwardX11 = no'''"
   ]
  },
  {
   "cell_type": "code",
   "execution_count": 24,
   "metadata": {},
   "outputs": [
    {
     "name": "stdout",
     "output_type": "stream",
     "text": [
      "../../example.ini\n",
      "[ [ 'DEFAULT',\n",
      "    ['ServerAliveInterval', '45'],\n",
      "    ['Compression', 'yes'],\n",
      "    ['CompressionLevel', '9'],\n",
      "    ['ForwardX11', 'yes']],\n",
      "  ['bitbucket.org', ['User', 'hg']],\n",
      "  ['topsecret.server.com', ['Port', '50022'], ['ForwardX11', 'no']]]\n",
      "\n"
     ]
    },
    {
     "data": {
      "text/plain": [
       "([(['DEFAULT', (['ServerAliveInterval', '45'], {}), (['Compression', 'yes'], {}), (['CompressionLevel', '9'], {}), (['ForwardX11', 'yes'], {})], {'ServerAliveInterval': ['45'], 'Compression': ['yes'], 'CompressionLevel': ['9'], 'ForwardX11': ['yes']}), (['bitbucket.org', (['User', 'hg'], {})], {'User': ['hg']}), (['topsecret.server.com', (['Port', '50022'], {}), (['ForwardX11', 'no'], {})], {'Port': ['50022'], 'ForwardX11': ['no']})], {'DEFAULT': [([(['ServerAliveInterval', '45'], {}), (['Compression', 'yes'], {}), (['CompressionLevel', '9'], {}), (['ForwardX11', 'yes'], {})], {'ServerAliveInterval': ['45'], 'Compression': ['yes'], 'CompressionLevel': ['9'], 'ForwardX11': ['yes']})], 'bitbucket.org': [([(['User', 'hg'], {})], {'User': ['hg']})], 'topsecret.server.com': [([(['Port', '50022'], {}), (['ForwardX11', 'no'], {})], {'Port': ['50022'], 'ForwardX11': ['no']})]})"
      ]
     },
     "execution_count": 24,
     "metadata": {},
     "output_type": "execute_result"
    }
   ],
   "source": [
    "inibnf = None\n",
    "def inifile_BNF():\n",
    "    global inibnf\n",
    "    \n",
    "    if not inibnf:\n",
    "\n",
    "        # punctuation\n",
    "        lbrack = Literal(\"[\").suppress()\n",
    "        rbrack = Literal(\"]\").suppress()\n",
    "        equals = Literal(\"=\").suppress()\n",
    "        semi   = Literal(\";\")\n",
    "        \n",
    "        comment = semi + Optional( restOfLine )\n",
    "        \n",
    "        nonrbrack = \"\".join( [ c for c in printables if c != \"]\" ] ) + \" \\t\"\n",
    "        nonequals = \"\".join( [ c for c in printables if c != \"=\" ] ) + \" \\t\"\n",
    "        \n",
    "        sectionDef = lbrack + Word( nonrbrack ) + rbrack\n",
    "        keyDef = ~lbrack + Word( nonequals ) + equals + empty + restOfLine\n",
    "        # strip any leading or trailing blanks from key\n",
    "        def stripKey(tokens):\n",
    "            tokens[0] = tokens[0].strip()\n",
    "        keyDef.setParseAction(stripKey)\n",
    "        \n",
    "        # using Dict will allow retrieval of named data fields as attributes of the parsed results\n",
    "        inibnf = Dict( ZeroOrMore( Group( sectionDef + Dict( ZeroOrMore( Group( keyDef ) ) ) ) ) )\n",
    "        \n",
    "        inibnf.ignore( comment )\n",
    "        \n",
    "    return inibnf\n",
    "\n",
    "\n",
    "pp = pprint.PrettyPrinter(2)\n",
    "\n",
    "def test( strng ):\n",
    "    print(strng)\n",
    "    try:\n",
    "        iniFile = open(strng)\n",
    "        iniData = \"\".join( iniFile.readlines() )\n",
    "        bnf = inifile_BNF()\n",
    "        tokens = bnf.parseString( iniData )\n",
    "        pp.pprint( tokens.asList() )\n",
    "\n",
    "    except ParseException as err:\n",
    "        print(err.line)\n",
    "        print(\" \"*(err.column-1) + \"^\")\n",
    "        print(err)\n",
    "    \n",
    "    iniFile.close()\n",
    "    print()\n",
    "    return tokens\n",
    "test('../../example.ini')"
   ]
  },
  {
   "cell_type": "code",
   "execution_count": 77,
   "metadata": {},
   "outputs": [
    {
     "name": "stdout",
     "output_type": "stream",
     "text": [
      " red\n",
      "['red']\n",
      "\n",
      " 100 ( hi )\n",
      "['100', 'hi']\n",
      "\n",
      " ( red 100 blue )\n",
      "['red', '100', 'blue']\n",
      "\n",
      " ( green ( ( 1 2 ) mauve ) plaid () )\n",
      "['green', '1', '2', 'mauve', 'plaid']\n",
      "\n"
     ]
    }
   ],
   "source": [
    "alphaword = Word(alphas)\n",
    "integer = Word(nums)\n",
    "sexp = Forward()\n",
    "LPAREN = Suppress(\"(\")\n",
    "RPAREN = Suppress(\")\")\n",
    "sexp << OneOrMore( alphaword | integer | ( LPAREN + ZeroOrMore(sexp) + RPAREN ))\n",
    "tests = \"\"\"\\\n",
    " red\n",
    " 100 ( hi )\n",
    " ( red 100 blue )\n",
    " ( green ( ( 1 2 ) mauve ) plaid () )\"\"\".splitlines()\n",
    "for t in tests:\n",
    "    print(t)\n",
    "    print(sexp.parseString(t))\n",
    "    print()"
   ]
  },
  {
   "cell_type": "code",
   "execution_count": 27,
   "metadata": {},
   "outputs": [],
   "source": [
    "with open('../tests/tex_files/reinhardt/reinhardt-optimal-control.tex', 'r') as rein_file:\n",
    "    rein = rein_file.read()\n",
    "with open('../tests/tex_files/short_xymatrix_example.tex') as xymatrix_file:\n",
    "    short_example = xymatrix_file.read()\n",
    "with open('../../stacks-tests/orig/perfect.tex') as xymatrix_file:\n",
    "    stacks_example = xymatrix_file.read()"
   ]
  },
  {
   "cell_type": "code",
   "execution_count": 64,
   "metadata": {},
   "outputs": [
    {
     "name": "stdout",
     "output_type": "stream",
     "text": [
      "['C']\n",
      "['C']\n",
      "['C']\n",
      "['O']\n",
      "['(\\\\Sh(\\\\mathcal C ), \\\\underline B ) \\\\ar[r]_i \\\\ar[d]_\\\\pi & (\\\\Sh(\\\\mathcal C ), \\\\mathcal O ) \\\\\\\\ (\\\\Sh(*), B)']\n",
      "['O']\n"
     ]
    },
    {
     "data": {
      "text/plain": [
       "'We endow $ $ with the chaotic topology\\n(Sites, Example \\\\ref{sites-example-indiscrete}), i.e., we endow\\n$ $ with the structure of a site where coverings are given by\\nidentities so that all presheaves are sheaves.\\nMoreover, we endow $ $ with two sheaves of rings. The first\\nis the sheaf $ $ which sends to object $(P, \\\\alpha)$ to $P$.\\nThen second is the constant sheaf $B$, which we will denote\\n$\\\\underline{B}$. We obtain the following diagram of morphisms of\\nringed topoi\\n\\\\begin{equation}\\n\\\\label{equation-pi}\\n\\\\vcenter{\\n \\n}\\n\\\\end{equation}\\nThe morphism $i$ is the identity on underlying topoi and\\n$i^\\\\sharp :   \\\\to \\\\underline{B}$ is the obvious map.\\nThe map $\\\\pi$ is as in Cohomology on Sites, Example\\n\\\\ref{sites-cohomology-example-category-to-point}.\\nAn important role will be played in the following\\nby the derived functors\\n'"
      ]
     },
     "execution_count": 64,
     "metadata": {},
     "output_type": "execute_result"
    }
   ],
   "source": [
    "cstikzfig = oneOf([\"\\\\tikzfig\", \"\\\\mathcal\"]).suppress()\n",
    "lbrace = Literal('{').suppress()\n",
    "rbrace = Literal('}').suppress()\n",
    "parens = Word(\"()%\\\\\")\n",
    "inside = SkipTo(rbrace)\n",
    "allchars = Word(printables, excludeChars=\"{}\")\n",
    "inside = ZeroOrMore(allchars)\n",
    "inside.setParseAction(lambda tok: \" \".join(tok))\n",
    "content = Forward()\n",
    "content << OneOrMore(allchars|(lbrace + ZeroOrMore(content) + rbrace))\n",
    "#content << (allchars + lbrace + ZeroOrMore(content) + rbrace)\n",
    "content.setParseAction(lambda tok: \" \".join(tok))\n",
    "tikzfig = cstikzfig + lbrace + inside + rbrace + lbrace + inside + rbrace + lbrace + content + rbrace\n",
    "\n",
    "csxymatrix = oneOf([\"\\\\xymatrix\",\"\\\\mathcal\"]).suppress()\n",
    "xymatrix = csxymatrix + lbrace + content + rbrace\n",
    "\n",
    "search_res = tikzfig.searchString(rein)\n",
    "search_res = xymatrix.searchString(short_example)\n",
    "\n",
    "#tikzfig.setParseAction(lambda s: ' ')\n",
    "#clean_str = tikzfig.transformString(rein)\n",
    "\n",
    "xymatrix.setParseAction(lambda s: ' ')\n",
    "clean_str = xymatrix.transformString(short_example)\n",
    "\n",
    "#with open('../../stacks-tests/clean/perfect.tex','+w') as rein_file:\n",
    "#    rein_file.write(clean_str)\n",
    "\n",
    "for k,r in enumerate(search_res):\n",
    "#    name, expl, text  = r\n",
    "#    print(k,' ', name,' -- ', expl[:15],' -- ', text[:25], '...', text[-25:])\n",
    "    #name, expl = r\n",
    "    #print(k, ' ',name,' -- ', expl[:15],'...',expl[-15:])\n",
    "    #name, expl, text  = r\n",
    "    #print(k,' ', name,' -- ', expl[:15],' -- ', text[:25], '...', text[-25:])\n",
    "    #name, expl = r #print(k, ' ',name,' -- ', expl[:15],'...',expl[-15:])\n",
    "    print(r)\n",
    "clean_str"
   ]
  },
  {
   "cell_type": "code",
   "execution_count": 59,
   "metadata": {},
   "outputs": [
    {
     "name": "stdout",
     "output_type": "stream",
     "text": [
      "We endow $\\mathcal{C}$ with the chaotic topology\n",
      "(Sites, Example \\ref{sites-example-indiscrete}), i.e., we endow\n",
      "$\\mathcal{C}$ with the structure of a site where coverings are given by\n",
      "identities so that all presheaves are sheaves.\n",
      "Moreover, we endow $\\mathcal{C}$ with two sheaves of rings. The first\n",
      "is the sheaf $\\mathcal{O}$ which sends to object $(P, \\alpha)$ to $P$.\n",
      "Then second is the constant sheaf $B$, which we will denote\n",
      "$ $. We obtain the following diagram of morphisms of\n",
      "ringed topoi\n",
      "\\begin{equation}\n",
      "\\label{equation-pi}\n",
      "\\vcenter{\n",
      "\\xymatrix{\n",
      "(\\Sh(\\mathcal{C}),  ) \\ar[r]_i \\ar[d]_\\pi &\n",
      "(\\Sh(\\mathcal{C}), \\mathcal{O}) \\\\\n",
      "(\\Sh(*), B)\n",
      "}\n",
      "}\n",
      "\\end{equation}\n",
      "The morphism $i$ is the identity on underlying topoi and\n",
      "$i^\\sharp : \\mathcal{O} \\to  $ is the obvious map.\n",
      "The map $\\pi$ is as in Cohomology on Sites, Example\n",
      "\\ref{sites-cohomology-example-category-to-point}.\n",
      "An important role will be played in the following\n",
      "by the derived functors\n",
      "\n"
     ]
    }
   ],
   "source": [
    "cc = pp.CommandCleaner('underline').del_matches(short_example)\n",
    "print(cc)"
   ]
  },
  {
   "cell_type": "code",
   "execution_count": null,
   "metadata": {},
   "outputs": [],
   "source": []
  }
 ],
 "metadata": {
  "jupytext": {
   "formats": "ipynb,py:light"
  },
  "kernelspec": {
   "display_name": "Python 3",
   "language": "python",
   "name": "python3"
  },
  "language_info": {
   "codemirror_mode": {
    "name": "ipython",
    "version": 3
   },
   "file_extension": ".py",
   "mimetype": "text/x-python",
   "name": "python",
   "nbconvert_exporter": "python",
   "pygments_lexer": "ipython3",
   "version": "3.7.4"
  }
 },
 "nbformat": 4,
 "nbformat_minor": 2
}
