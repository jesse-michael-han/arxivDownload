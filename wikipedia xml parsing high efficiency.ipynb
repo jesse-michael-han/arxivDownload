{
 "cells": [
  {
   "cell_type": "code",
   "execution_count": 94,
   "metadata": {},
   "outputs": [],
   "source": [
    "from lxml import etree\n",
    "from bz2 import BZ2File\n",
    "import re"
   ]
  },
  {
   "cell_type": "code",
   "execution_count": 92,
   "metadata": {
    "scrolled": false
   },
   "outputs": [
    {
     "name": "stdout",
     "output_type": "stream",
     "text": [
      "Anatomy\n",
      "Acoustics\n",
      "Associative property\n",
      "Associative algebra\n",
      "Amdahl's law\n",
      "Angular momentum\n",
      "Abelian group\n",
      "Ascending chain condition\n",
      "Boolean algebra (structure)\n",
      "Banach space\n",
      "BPP (complexity)\n",
      "Bilinear map\n",
      "Bioterrorism\n",
      "Crime\n",
      "Chaitin's constant\n",
      "Currying\n",
      "Cistron\n",
      "Characteristic subgroup\n",
      "Dimensional analysis\n",
      "Determinant\n",
      "Diffeomorphism\n",
      "Commutator subgroup\n",
      "Equivalence relation\n",
      "Extermination camp\n",
      "Field (mathematics)\n",
      "Functor\n",
      "Gamma function\n",
      "Genetically modified organism\n",
      "Geodesy\n",
      "Group velocity\n",
      "Group action\n",
      "Gini coefficient\n",
      "Grothendieck topology\n",
      "Homomorphism\n",
      "Holomorphic function\n",
      "Hertz\n",
      "Hypnotherapy\n",
      "Inner product space\n",
      "Idempotence\n",
      "Integral domain\n",
      "Kilogram\n",
      "Knapsack problem\n",
      "Trade union\n",
      "Luminance\n",
      "Basis (linear algebra)\n",
      "Legendre symbol\n",
      "Mongols\n",
      "Medium shot\n",
      "Monoid\n",
      "Metric space\n",
      "Natural monopoly\n",
      "Normal distribution\n",
      "Null set\n",
      "Nasal consonant\n",
      "Net (mathematics)\n",
      "Online algorithm\n",
      "Outline of physical science\n",
      "Profinite group\n",
      "Prakrit\n",
      "Primitive recursive function\n",
      "Pacifism\n",
      "Quantum entanglement\n",
      "Radian\n",
      "Remembrance of the Dead\n",
      "Riemann integral\n",
      "Soundness\n",
      "Satanism\n",
      "Semigroup\n",
      "Steradian\n",
      "Symplectic manifold\n",
      "Spherical coordinate system\n",
      "Slope\n"
     ]
    }
   ],
   "source": [
    "path = '/home/luis/MisDocumentos/arxivBulkDownload/enwiki-20190201-pages-articles-multistream.xml.bz2'\n",
    "ns = '{http://www.mediawiki.org/xml/export-0.10/}'\n",
    "nsp = {'wiki':'http://www.mediawiki.org/xml/export-0.10/'}\n",
    "with BZ2File(path) as xml_file:\n",
    "    parser = etree.iterparse(xml_file, tag=ns+'page')\n",
    "    senti = 0\n",
    "    for event,elem in parser:\n",
    "        text = elem.find('wiki:revision/wiki:text', namespaces=nsp)\n",
    "        title = elem.find(ns+'title')\n",
    "        if '== Definition ==' in text.text:\n",
    "            print(title.text)\n",
    "        elem.clear()\n",
    "        text.clear()\n",
    "        title.clear()\n",
    "        while elem.getprevious() is not None:\n",
    "            del elem.getparent()[0]\n",
    "        while text.getprevious() is not None:\n",
    "            del text.getparent()[0]\n",
    "        while title.getprevious() is not None:\n",
    "            del title.getparent()[0]\n",
    "\n",
    "        if senti > 20000:\n",
    "            break\n",
    "        senti += 1"
   ]
  },
  {
   "cell_type": "code",
   "execution_count": 56,
   "metadata": {},
   "outputs": [
    {
     "data": {
      "text/plain": [
       "[<Element {http://www.mediawiki.org/xml/export-0.10/}text at 0x7ff8605ef388>,\n",
       " <Element {http://www.mediawiki.org/xml/export-0.10/}text at 0x7ff8605ef3c8>]"
      ]
     },
     "execution_count": 56,
     "metadata": {},
     "output_type": "execute_result"
    }
   ],
   "source": [
    "nsp = {'wiki':'http://www.mediawiki.org/xml/export-0.10/'}\n",
    "elem.xpath('//wiki:revision/wiki:text', namespaces=nsp)"
   ]
  },
  {
   "cell_type": "code",
   "execution_count": 73,
   "metadata": {},
   "outputs": [
    {
     "data": {
      "text/plain": [
       "[]"
      ]
     },
     "execution_count": 73,
     "metadata": {},
     "output_type": "execute_result"
    }
   ],
   "source": [
    "[e.tag for e in elem.iterchildren()]"
   ]
  },
  {
   "cell_type": "code",
   "execution_count": 7,
   "metadata": {},
   "outputs": [
    {
     "ename": "TypeError",
     "evalue": "reading file objects must return bytes objects",
     "output_type": "error",
     "traceback": [
      "\u001b[0;31m---------------------------------------------------------------------------\u001b[0m",
      "\u001b[0;31mTypeError\u001b[0m                                 Traceback (most recent call last)",
      "\u001b[0;32m<ipython-input-7-100c1e5e0c2b>\u001b[0m in \u001b[0;36m<module>\u001b[0;34m\u001b[0m\n\u001b[1;32m      2\u001b[0m \u001b[0;32mwith\u001b[0m \u001b[0mopen\u001b[0m\u001b[0;34m(\u001b[0m\u001b[0mpath\u001b[0m\u001b[0;34m,\u001b[0m \u001b[0;34m'r'\u001b[0m\u001b[0;34m)\u001b[0m \u001b[0;32mas\u001b[0m \u001b[0mxml_file\u001b[0m\u001b[0;34m:\u001b[0m\u001b[0;34m\u001b[0m\u001b[0;34m\u001b[0m\u001b[0m\n\u001b[1;32m      3\u001b[0m     \u001b[0mparser\u001b[0m \u001b[0;34m=\u001b[0m \u001b[0metree\u001b[0m\u001b[0;34m.\u001b[0m\u001b[0miterparse\u001b[0m\u001b[0;34m(\u001b[0m\u001b[0mxml_file\u001b[0m\u001b[0;34m,\u001b[0m \u001b[0mevents\u001b[0m\u001b[0;34m=\u001b[0m\u001b[0;34m(\u001b[0m\u001b[0;34m'end'\u001b[0m\u001b[0;34m,\u001b[0m\u001b[0;34m)\u001b[0m\u001b[0;34m,\u001b[0m \u001b[0mtag\u001b[0m\u001b[0;34m=\u001b[0m\u001b[0;34m'title'\u001b[0m\u001b[0;34m)\u001b[0m\u001b[0;34m\u001b[0m\u001b[0;34m\u001b[0m\u001b[0m\n\u001b[0;32m----> 4\u001b[0;31m     \u001b[0;32mfor\u001b[0m \u001b[0mevents\u001b[0m\u001b[0;34m,\u001b[0m\u001b[0melem\u001b[0m \u001b[0;32min\u001b[0m \u001b[0mparser\u001b[0m\u001b[0;34m:\u001b[0m\u001b[0;34m\u001b[0m\u001b[0;34m\u001b[0m\u001b[0m\n\u001b[0m\u001b[1;32m      5\u001b[0m         \u001b[0;32mpass\u001b[0m\u001b[0;34m\u001b[0m\u001b[0;34m\u001b[0m\u001b[0m\n\u001b[1;32m      6\u001b[0m     \u001b[0melem\u001b[0m\u001b[0;34m.\u001b[0m\u001b[0mclear\u001b[0m\u001b[0;34m(\u001b[0m\u001b[0;34m)\u001b[0m\u001b[0;34m\u001b[0m\u001b[0;34m\u001b[0m\u001b[0m\n",
      "\u001b[0;32msrc/lxml/iterparse.pxi\u001b[0m in \u001b[0;36mlxml.etree.iterparse.__next__\u001b[0;34m()\u001b[0m\n",
      "\u001b[0;32msrc/lxml/iterparse.pxi\u001b[0m in \u001b[0;36mlxml.etree.iterparse.__next__\u001b[0;34m()\u001b[0m\n",
      "\u001b[0;32msrc/lxml/iterparse.pxi\u001b[0m in \u001b[0;36mlxml.etree.iterparse._read_more_events\u001b[0;34m()\u001b[0m\n",
      "\u001b[0;31mTypeError\u001b[0m: reading file objects must return bytes objects"
     ]
    }
   ],
   "source": [
    "path = '/mnt/wikipedia/enwiki-20190201-pages-articles-multistream.xml'\n",
    "with open(path, 'r') as xml_file:\n",
    "    parser = etree.iterparse(xml_file, events=('end',), tag='title')\n",
    "    for event,elem in parser:\n",
    "        pass\n",
    "        elem.clear()\n",
    "        while elem.getprevious() is not None:\n",
    "            del elem.getparent()[0]"
   ]
  },
  {
   "cell_type": "code",
   "execution_count": 152,
   "metadata": {},
   "outputs": [],
   "source": [
    "test_str = ''' 1848|work=google.com.ec|accessdate=5 June 2016|last1=Sudan|first1=Elisa|year=1921}}&lt;/ref&gt;\n",
    "{{clear}}\n",
    "\n",
    "== formal Definition ==\n",
    "{{main|International Workingmen's Association|Paris Commune}}\n",
    "[[File:Bakunin.png|thumb|upright|Anarchist [[Mikhail Bakunin]] opposed the [[Marxism|Marxist]] aim of [[dictatorship of the proletariat]] in favour of universal rebellion and allied himself with the federalists in the [[Interna\n",
    "tional Workingmen's Association|First International]] before his expulsion by the Marxists&lt;ref name=bbc/&gt;]]\n",
    "In Europe, harsh reaction followed the [[revolutions of 1848]], during which ten countries had experienced brief or long-term social upheaval as groups carried out nationalist uprisings. After most of these attempts at systemat\n",
    "ic change ended in failure, [[conservative]] elements took advantage of the divided groups of [[Socialism|socialists]], [[Liberalism|liberals]] and [[Nationalism|nationalists]] along with anarchists to prevent further revolt.&l\n",
    "t;ref&gt;{{cite book |last=Breunig |first=Charles |title=The Age of Revolution and Reaction, 1789–1850 |year=1977 |publisher=W.W. Norton &amp; Company|location=New York|isbn=978-0-393-09143-4 }}&lt;/ref&gt; In Spain, Ramón de l\n",
    "a Sagra established the anarchist journal ''El Porvenir'' in La Coruña in 1845 which was inspired by Proudhon's ideas.&lt;ref name=&quot;britannica.com&quot;&gt;{{cite web|url=http://www.britannica.com/EBchecked/topic/22753/ana\n",
    "rchism/66525/Anarchism-in-Spain#ref539322|title=anarchism :: Anarchism in Spain|work=Encyclopædia Britannica|access-date=24 April 2014}}&lt;/ref&gt; The Catalan politician [[Francesc Pi i Margall]] became the principal translat\n",
    "or of Proudhon's works into Spanish&lt;ref&gt;[[George Woodcock]]. ''Anarchism: a history of libertarian movements''. p 357&lt;/ref&gt; and later briefly became President of Spain in 1873 while being the leader of the [[Federal\n",
    " Democratic Republican Party]]. According to George Woodcock: &quot;These translations were to have a profound and lasting effect on the development of Spanish anarchism after 1870, but before that time Proudhonian ideas, as in\n",
    "terpreted by Pi, already provided much of the inspiration for the federalist movement which sprang up in the early 1860s&quot;.&lt;ref&gt;George Woodcock. ''Anarchism: a history of libertarian movements''. p. 357&lt;/ref&gt; Ac\n",
    "cording to the ''[[Encyclopædia Britannica]]'': &quot;During the Spanish revolution of 1873, Pi y Margall [[Cantonal Revolution|attempted to establish a decentralised, or &quot;cantonalist,&quot; political system]] on Proudhoni\n",
    "an lines&quot;.&lt;ref name=&quot;britannica.com&quot; /&gt;\n",
    "\n",
    "In 1864, the [[International Workingmen's Association]] (sometimes called the First International) united diverse revolutionary currents including French followers of Proudhon,&lt;ref&gt;{{cite book | last = Blin | first = Arna\n",
    "ud | title = The History of Terrorism | publisher = University of California Press | location = Berkeley | year = 2007 | isbn = 978-0-520-24709-3 |page=116}}&lt;/ref&gt; [[Blanquism|Blanquists]], [[Philadelphes]], English trade\n",
    " unionists, socialists and [[Social democracy|social democrats]]. Due to its links to active workers' movements, the International became a significant organisation. [[Karl Marx]] became a leading figure in the International an\n",
    "d a member of its General Council. Proudhon's followers, the [[Mutualism (economic theory)|mutualists]], opposed Marx's [[state socialism]], advocating political [[abstentionism]] and small property holdings.&lt;ref&gt;{{cite b\n",
    "ook | last = Dodson | first = Edward | title = The Discovery of First Principles: Volume 2 | publisher = Authorhouse | page=312 | year = 2002 | isbn = 978-0-595-24912-1 }}&lt;/ref&gt;&lt;ref&gt;{{cite book | last = Thomas | fir\n",
    "st = Paul | title = Karl Marx and the Anarchists | publisher = Routledge &amp; Kegan Paul |ref=harv | location = London | year = 1985 | isbn = 978-0-7102-0685-5 |page=187}}&lt;/ref&gt; Woodcock also reports that the [[Individua\n",
    "list anarchism in the United States|American individualist anarchists]] [[Lysander Spooner]] and [[William Batchelder Greene]] had been members of the First International.&lt;ref name=&quot;Woodcock&quot;&gt;{{cite book|last=Wo\n",
    "odcock|first=G.|authorlink=George Woodcock|title=Anarchism: A History of Libertarian Ideas and Movements|year=1962|publisher=Penguin|location=Melbourne|page=460}}&lt;/ref&gt; In 1868, following their unsuccessful participation \n",
    "in the [[League of Peace and Freedom]] (LPF) Russian revolutionary [[Mikhail Bakunin]] and his [[collectivist anarchist]] associates joined the First International, which had decided not to get involved with the LPF.&lt;ref&gt;\n",
    "{{cite book | last = Thomas | first = Paul | title = Karl Marx and the Anarchists | publisher = Routledge and Kegan Paul | location = London | year = 1980 | isbn = 978-0-7102-0685-5 |page=304}}&lt;/ref&gt; They allied themselve\n",
    "s with the [[federalist]] socialist sections of the International,&lt;ref&gt;{{cite book | last = Bak | first = Jǹos | title = Liberty and Socialism | publisher = Rowman &amp; Littlefield Publishers | location = Lanham | year =\n",
    " 1991 | isbn = 978-0-8476-7680-4 |page=2\"'''"
   ]
  },
  {
   "cell_type": "code",
   "execution_count": 171,
   "metadata": {},
   "outputs": [
    {
     "data": {
      "text/plain": [
       "[('formal Definition',\n",
       "  \"{{main|International Workingmen's Association|Paris Commune}}\\n[[File:Bakunin.png|thumb|upright|Anarchist [[Mikhail Bakunin]] opposed the [[Marxism|Marxist]] aim of [[dictatorship of the proletariat]] in favour of universal rebellion and allied himself with the federalists in the [[Interna\\ntional Workingmen's Association|First International]] before his expulsion by the Marxists&lt;ref name=bbc/&gt;]]\\nIn Europe, harsh reaction followed the [[revolutions of 1848]], during which ten countries had experienced brief or long-term social upheaval as groups carried out nationalist uprisings. After most of these attempts at systemat\\nic change ended in failure, [[conservative]] elements took advantage of the divided groups of [[Socialism|socialists]], [[Liberalism|liberals]] and [[Nationalism|nationalists]] along with anarchists to prevent further revolt.&l\\nt;ref&gt;{{cite book |last=Breunig |first=Charles |title=The Age of Revolution and Reaction, 1789–1850 |year=1977 |publisher=W.W. Norton &amp; Company|location=New York|isbn=978-0-393-09143-4 }}&lt;/ref&gt; In Spain, Ramón de l\\na Sagra established the anarchist journal ''El Porvenir'' in La Coruña in 1845 which was inspired by Proudhon's ideas.&lt;ref name=&quot;britannica.com&quot;&gt;{{cite web|url=http://www.britannica.com/EBchecked/topic/22753/ana\\nrchism/66525/Anarchism-in-Spain#ref539322|title=anarchism :: Anarchism in Spain|work=Encyclopædia Britannica|access-date=24 April 2014}}&lt;/ref&gt; The Catalan politician [[Francesc Pi i Margall]] became the principal translat\\nor of Proudhon's works into Spanish&lt;ref&gt;[[George Woodcock]]. ''Anarchism: a history of libertarian movements''. p 357&lt;/ref&gt; and later briefly became President of Spain in 1873 while being the leader of the [[Federal\\n Democratic Republican Party]]. According to George Woodcock: &quot;These translations were to have a profound and lasting effect on the development of Spanish anarchism after 1870, but before that time Proudhonian ideas, as in\\nterpreted by Pi, already provided much of the inspiration for the federalist movement which sprang up in the early 1860s&quot;.&lt;ref&gt;George Woodcock. ''Anarchism: a history of libertarian movements''. p. 357&lt;/ref&gt; Ac\\ncording to the ''[[Encyclopædia Britannica]]'': &quot;During the Spanish revolution of 1873, Pi y Margall [[Cantonal Revolution|attempted to establish a decentralised, or &quot;cantonalist,&quot; political system]] on Proudhoni\\nan lines&quot;.&lt;ref name=&quot;britannica.com&quot; /&gt;\")]"
      ]
     },
     "execution_count": 171,
     "metadata": {},
     "output_type": "execute_result"
    }
   ],
   "source": [
    "reg_expr = re.compile('=+ (.*definition) =+\\\\n(.*)\\\\n\\\\n',re.I | re.DOTALL)\n",
    "re.findall(reg_expr, test_str)"
   ]
  },
  {
   "cell_type": "code",
   "execution_count": 183,
   "metadata": {},
   "outputs": [],
   "source": [
    "with open('../test_def.txt', 'r') as test_f:\n",
    "    test = test_f.readlines()"
   ]
  },
  {
   "cell_type": "code",
   "execution_count": 193,
   "metadata": {},
   "outputs": [
    {
     "name": "stdout",
     "output_type": "stream",
     "text": [
      "Acoustics is defined by [[ANSI/ASA S1.1-2013]] as \"(a) Science of [[sound]], including its production, transmission, and effects, including biological and psychological effects. (b) Those qualities of a room that, together, determine its character with respect to auditory effects.\"\n"
     ]
    }
   ],
   "source": [
    "t1 = test[2]\n",
    "r = t1.split(' --- ')[2]\n",
    "print(eval(r))"
   ]
  },
  {
   "cell_type": "code",
   "execution_count": 191,
   "metadata": {},
   "outputs": [
    {
     "name": "stdout",
     "output_type": "stream",
     "text": [
      "{{Main article|New SI definitions|CODATA 2018}}\n",
      "Rather than a definition in terms of the force between two current-carrying wires, it has been proposed that the ampere should be defined in terms of the rate of flow of elementary charges.<ref name = \"Beyond\" /> Since a [[coulomb]] is approximately equal to {{val|6.2415093|e=18}} [[elementary charge]]s (such as those carried by [[proton]]s, or the negative of those carried by [[electron]]s), one ampere is approximately equivalent to {{val|6.2415093|e=18}} elementary charges moving past a boundary in one second. ({{val|6.2415093|e=18}} is the reciprocal of the value of the elementary charge in coulombs.<ref>{{Citation | url = http://physics.nist.gov/cgi-bin/cuu/Value?e | publisher = NIST | place = US | title = Physics | contribution = Value | deadurl = no | archiveurl = https://web.archive.org/web/20150424223347/http://physics.nist.gov/cgi-bin/cuu/Value?e | archivedate = 24 April 2015 | df = dmy-all }}.</ref>) The proposed change would define 1&nbsp;A as being the current in the direction of flow of a particular number of elementary charges per second. In 2005, the [[International Committee for Weights and Measures]] (CIPM) agreed to study the proposed change. The [[New SI definitions|new definition]] was discussed at the 25th [[General Conference on Weights and Measures]] (CGPM) in 2014 but for the time being was not adopted.\n"
     ]
    }
   ],
   "source": [
    "print(eval(r))"
   ]
  },
  {
   "cell_type": "code",
   "execution_count": null,
   "metadata": {},
   "outputs": [],
   "source": []
  }
 ],
 "metadata": {
  "kernelspec": {
   "display_name": "Python 3",
   "language": "python",
   "name": "python3"
  },
  "language_info": {
   "codemirror_mode": {
    "name": "ipython",
    "version": 3
   },
   "file_extension": ".py",
   "mimetype": "text/x-python",
   "name": "python",
   "nbconvert_exporter": "python",
   "pygments_lexer": "ipython3",
   "version": "3.7.1"
  }
 },
 "nbformat": 4,
 "nbformat_minor": 2
}
