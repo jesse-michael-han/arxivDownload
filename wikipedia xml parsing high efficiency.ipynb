{
 "cells": [
  {
   "cell_type": "code",
   "execution_count": 2,
   "metadata": {},
   "outputs": [],
   "source": [
    "from lxml import etree\n",
    "from bz2 import BZ2File"
   ]
  },
  {
   "cell_type": "code",
   "execution_count": 92,
   "metadata": {
    "scrolled": false
   },
   "outputs": [
    {
     "name": "stdout",
     "output_type": "stream",
     "text": [
      "Anatomy\n",
      "Acoustics\n",
      "Associative property\n",
      "Associative algebra\n",
      "Amdahl's law\n",
      "Angular momentum\n",
      "Abelian group\n",
      "Ascending chain condition\n",
      "Boolean algebra (structure)\n",
      "Banach space\n",
      "BPP (complexity)\n",
      "Bilinear map\n",
      "Bioterrorism\n",
      "Crime\n",
      "Chaitin's constant\n",
      "Currying\n",
      "Cistron\n",
      "Characteristic subgroup\n",
      "Dimensional analysis\n",
      "Determinant\n",
      "Diffeomorphism\n",
      "Commutator subgroup\n",
      "Equivalence relation\n",
      "Extermination camp\n",
      "Field (mathematics)\n",
      "Functor\n",
      "Gamma function\n",
      "Genetically modified organism\n",
      "Geodesy\n",
      "Group velocity\n",
      "Group action\n",
      "Gini coefficient\n",
      "Grothendieck topology\n",
      "Homomorphism\n",
      "Holomorphic function\n",
      "Hertz\n",
      "Hypnotherapy\n",
      "Inner product space\n",
      "Idempotence\n",
      "Integral domain\n",
      "Kilogram\n",
      "Knapsack problem\n",
      "Trade union\n",
      "Luminance\n",
      "Basis (linear algebra)\n",
      "Legendre symbol\n",
      "Mongols\n",
      "Medium shot\n",
      "Monoid\n",
      "Metric space\n",
      "Natural monopoly\n",
      "Normal distribution\n",
      "Null set\n",
      "Nasal consonant\n",
      "Net (mathematics)\n",
      "Online algorithm\n",
      "Outline of physical science\n",
      "Profinite group\n",
      "Prakrit\n",
      "Primitive recursive function\n",
      "Pacifism\n",
      "Quantum entanglement\n",
      "Radian\n",
      "Remembrance of the Dead\n",
      "Riemann integral\n",
      "Soundness\n",
      "Satanism\n",
      "Semigroup\n",
      "Steradian\n",
      "Symplectic manifold\n",
      "Spherical coordinate system\n",
      "Slope\n"
     ]
    }
   ],
   "source": [
    "path = '/home/luis/MisDocumentos/arxivBulkDownload/enwiki-20190201-pages-articles-multistream.xml.bz2'\n",
    "ns = '{http://www.mediawiki.org/xml/export-0.10/}'\n",
    "nsp = {'wiki':'http://www.mediawiki.org/xml/export-0.10/'}\n",
    "with BZ2File(path) as xml_file:\n",
    "    parser = etree.iterparse(xml_file, tag=ns+'page')\n",
    "    senti = 0\n",
    "    for event,elem in parser:\n",
    "        text = elem.find('wiki:revision/wiki:text', namespaces=nsp)\n",
    "        title = elem.find(ns+'title')\n",
    "        if '== Definition ==' in text.text:\n",
    "            print(title.text)\n",
    "        elem.clear()\n",
    "        text.clear()\n",
    "        title.clear()\n",
    "        while elem.getprevious() is not None:\n",
    "            del elem.getparent()[0]\n",
    "        while text.getprevious() is not None:\n",
    "            del text.getparent()[0]\n",
    "        while title.getprevious() is not None:\n",
    "            del title.getparent()[0]\n",
    "\n",
    "        if senti > 20000:\n",
    "            break\n",
    "        senti += 1"
   ]
  },
  {
   "cell_type": "code",
   "execution_count": 56,
   "metadata": {},
   "outputs": [
    {
     "data": {
      "text/plain": [
       "[<Element {http://www.mediawiki.org/xml/export-0.10/}text at 0x7ff8605ef388>,\n",
       " <Element {http://www.mediawiki.org/xml/export-0.10/}text at 0x7ff8605ef3c8>]"
      ]
     },
     "execution_count": 56,
     "metadata": {},
     "output_type": "execute_result"
    }
   ],
   "source": [
    "nsp = {'wiki':'http://www.mediawiki.org/xml/export-0.10/'}\n",
    "elem.xpath('//wiki:revision/wiki:text', namespaces=nsp)"
   ]
  },
  {
   "cell_type": "code",
   "execution_count": 73,
   "metadata": {},
   "outputs": [
    {
     "data": {
      "text/plain": [
       "[]"
      ]
     },
     "execution_count": 73,
     "metadata": {},
     "output_type": "execute_result"
    }
   ],
   "source": [
    "[e.tag for e in elem.iterchildren()]"
   ]
  },
  {
   "cell_type": "code",
   "execution_count": 7,
   "metadata": {},
   "outputs": [
    {
     "ename": "TypeError",
     "evalue": "reading file objects must return bytes objects",
     "output_type": "error",
     "traceback": [
      "\u001b[0;31m---------------------------------------------------------------------------\u001b[0m",
      "\u001b[0;31mTypeError\u001b[0m                                 Traceback (most recent call last)",
      "\u001b[0;32m<ipython-input-7-100c1e5e0c2b>\u001b[0m in \u001b[0;36m<module>\u001b[0;34m\u001b[0m\n\u001b[1;32m      2\u001b[0m \u001b[0;32mwith\u001b[0m \u001b[0mopen\u001b[0m\u001b[0;34m(\u001b[0m\u001b[0mpath\u001b[0m\u001b[0;34m,\u001b[0m \u001b[0;34m'r'\u001b[0m\u001b[0;34m)\u001b[0m \u001b[0;32mas\u001b[0m \u001b[0mxml_file\u001b[0m\u001b[0;34m:\u001b[0m\u001b[0;34m\u001b[0m\u001b[0;34m\u001b[0m\u001b[0m\n\u001b[1;32m      3\u001b[0m     \u001b[0mparser\u001b[0m \u001b[0;34m=\u001b[0m \u001b[0metree\u001b[0m\u001b[0;34m.\u001b[0m\u001b[0miterparse\u001b[0m\u001b[0;34m(\u001b[0m\u001b[0mxml_file\u001b[0m\u001b[0;34m,\u001b[0m \u001b[0mevents\u001b[0m\u001b[0;34m=\u001b[0m\u001b[0;34m(\u001b[0m\u001b[0;34m'end'\u001b[0m\u001b[0;34m,\u001b[0m\u001b[0;34m)\u001b[0m\u001b[0;34m,\u001b[0m \u001b[0mtag\u001b[0m\u001b[0;34m=\u001b[0m\u001b[0;34m'title'\u001b[0m\u001b[0;34m)\u001b[0m\u001b[0;34m\u001b[0m\u001b[0;34m\u001b[0m\u001b[0m\n\u001b[0;32m----> 4\u001b[0;31m     \u001b[0;32mfor\u001b[0m \u001b[0mevents\u001b[0m\u001b[0;34m,\u001b[0m\u001b[0melem\u001b[0m \u001b[0;32min\u001b[0m \u001b[0mparser\u001b[0m\u001b[0;34m:\u001b[0m\u001b[0;34m\u001b[0m\u001b[0;34m\u001b[0m\u001b[0m\n\u001b[0m\u001b[1;32m      5\u001b[0m         \u001b[0;32mpass\u001b[0m\u001b[0;34m\u001b[0m\u001b[0;34m\u001b[0m\u001b[0m\n\u001b[1;32m      6\u001b[0m     \u001b[0melem\u001b[0m\u001b[0;34m.\u001b[0m\u001b[0mclear\u001b[0m\u001b[0;34m(\u001b[0m\u001b[0;34m)\u001b[0m\u001b[0;34m\u001b[0m\u001b[0;34m\u001b[0m\u001b[0m\n",
      "\u001b[0;32msrc/lxml/iterparse.pxi\u001b[0m in \u001b[0;36mlxml.etree.iterparse.__next__\u001b[0;34m()\u001b[0m\n",
      "\u001b[0;32msrc/lxml/iterparse.pxi\u001b[0m in \u001b[0;36mlxml.etree.iterparse.__next__\u001b[0;34m()\u001b[0m\n",
      "\u001b[0;32msrc/lxml/iterparse.pxi\u001b[0m in \u001b[0;36mlxml.etree.iterparse._read_more_events\u001b[0;34m()\u001b[0m\n",
      "\u001b[0;31mTypeError\u001b[0m: reading file objects must return bytes objects"
     ]
    }
   ],
   "source": [
    "path = '/mnt/wikipedia/enwiki-20190201-pages-articles-multistream.xml'\n",
    "with open(path, 'r') as xml_file:\n",
    "    parser = etree.iterparse(xml_file, events=('end',), tag='title')\n",
    "    for event,elem in parser:\n",
    "        pass\n",
    "        elem.clear()\n",
    "        while elem.getprevious() is not None:\n",
    "            del elem.getparent()[0]"
   ]
  },
  {
   "cell_type": "code",
   "execution_count": 80,
   "metadata": {},
   "outputs": [
    {
     "ename": "TypeError",
     "evalue": "'>' not supported between instances of 'int' and 'NoneType'",
     "output_type": "error",
     "traceback": [
      "\u001b[0;31m---------------------------------------------------------------------------\u001b[0m",
      "\u001b[0;31mTypeError\u001b[0m                                 Traceback (most recent call last)",
      "\u001b[0;32m<ipython-input-80-620d470bfd4c>\u001b[0m in \u001b[0;36m<module>\u001b[0;34m\u001b[0m\n\u001b[0;32m----> 1\u001b[0;31m \u001b[0;36m4\u001b[0m\u001b[0;34m>\u001b[0m\u001b[0;32mNone\u001b[0m\u001b[0;34m\u001b[0m\u001b[0;34m\u001b[0m\u001b[0m\n\u001b[0m",
      "\u001b[0;31mTypeError\u001b[0m: '>' not supported between instances of 'int' and 'NoneType'"
     ]
    }
   ],
   "source": [
    "4>None"
   ]
  },
  {
   "cell_type": "code",
   "execution_count": null,
   "metadata": {},
   "outputs": [],
   "source": []
  }
 ],
 "metadata": {
  "kernelspec": {
   "display_name": "Python 3",
   "language": "python",
   "name": "python3"
  },
  "language_info": {
   "codemirror_mode": {
    "name": "ipython",
    "version": 3
   },
   "file_extension": ".py",
   "mimetype": "text/x-python",
   "name": "python",
   "nbconvert_exporter": "python",
   "pygments_lexer": "ipython3",
   "version": "3.7.1"
  }
 },
 "nbformat": 4,
 "nbformat_minor": 2
}
