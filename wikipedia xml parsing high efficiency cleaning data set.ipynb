{
 "cells": [
  {
   "cell_type": "code",
   "execution_count": 2,
   "metadata": {},
   "outputs": [],
   "source": [
    "from lxml import etree\n",
    "from bz2 import BZ2File\n",
    "import sys\n",
    "#sys.path.insert(0, './dewiki/')\n",
    "#import dewiki\n",
    "sys.path.insert(0, './unwiki')\n",
    "import unwiki\n",
    "import re"
   ]
  },
  {
   "cell_type": "code",
   "execution_count": 1,
   "metadata": {},
   "outputs": [],
   "source": [
    "%load_ext autoreload\n",
    "%autoreload 2"
   ]
  },
  {
   "cell_type": "code",
   "execution_count": 4,
   "metadata": {},
   "outputs": [],
   "source": [
    "from wikiparse import search_defs"
   ]
  },
  {
   "cell_type": "code",
   "execution_count": 59,
   "metadata": {
    "scrolled": true
   },
   "outputs": [
    {
     "name": "stdout",
     "output_type": "stream",
     "text": [
      "{'title': 'Ampere', 'section': 'Definition', 'definition': '\\nSI defines ampere as follows:\\n\\nThe ampere is that constant current which, if maintained in two straight paralle\\nl conductors of infinite length, of negligible circular cross-section, and place\\nd one metre apart in vacuum, would produce between these conductors a force \\nequal to  newtons per metre of length.\\n\\n\\nAmpère\\'s force law states that \\nthere is an attractive or repulsive force between two parallel wires carrying an\\n electric current. This force is used in the formal definition of the ampere.\\n\\nThe SI unit of charge, the coulomb, \"is the quantity of electricity car\\nried in 1 second by a current of 1 ampere\". Conversely, a current of one ampere is one coulomb of charge go\\ning past a given point per second:\\n_display_math_\\nIn general, charge Q is determined by steady current I flowing for a tim\\ne t as .\\n\\nConstant, instantaneous and average current are expressed in amperes (as in \"the charging current is 1.2 A\") and the charge accumulated, or p assed through a circuit over a period of time is expressed in coulombs (as in \"the battery charge is \"). Th\\ne relation of the ampere (C/s) to the coulomb is the same as that of the watt]\\n] (J/s) to the joule.', 'matches': True}\n",
      "{'title': 'Ampere', 'section': ' Proposed future definition', 'definition': '\\nRather than a definition in terms of the force between two current-carrying wire\\ns, it has been proposed that the ampere should be defined in terms of the rate o\\nf flow of elementary charges.) The prop\\nosed change would define 1 A as being the current in the direction of f\\nlow of a particular number of elementary charges per second. In 2005, the Inte\\nrnational Committee for Weights and Measures (CIPM) agreed to study the propos\\ned change. The new definition was discussed at the 25th [\\n[General Conference on Weights and Measures (CGPM) in 2014 but for the time be\\ning was not adopted.', 'matches': True}\n"
     ]
    }
   ],
   "source": [
    "#with open('../ampere_wiki.xml','r') as ampere_f:\n",
    "#    amp = ampere_f.read()\n",
    "amp_tree = etree.parse('../ampere_wiki.xml')\n",
    "res = search_defs(amp_tree)\n",
    "for r in res:\n",
    "    print(r)"
   ]
  },
  {
   "cell_type": "code",
   "execution_count": 27,
   "metadata": {},
   "outputs": [
    {
     "ename": "NameError",
     "evalue": "name 'elem' is not defined",
     "output_type": "error",
     "traceback": [
      "\u001b[0;31m---------------------------------------------------------------------------\u001b[0m",
      "\u001b[0;31mNameError\u001b[0m                                 Traceback (most recent call last)",
      "\u001b[0;32m<ipython-input-27-9dd5eefbcf87>\u001b[0m in \u001b[0;36m<module>\u001b[0;34m\u001b[0m\n\u001b[1;32m      1\u001b[0m \u001b[0mnsp\u001b[0m \u001b[0;34m=\u001b[0m \u001b[0;34m{\u001b[0m\u001b[0;34m'wiki'\u001b[0m\u001b[0;34m:\u001b[0m\u001b[0;34m'http://www.mediawiki.org/xml/export-0.10/'\u001b[0m\u001b[0;34m}\u001b[0m\u001b[0;34m\u001b[0m\u001b[0;34m\u001b[0m\u001b[0m\n\u001b[0;32m----> 2\u001b[0;31m \u001b[0melem\u001b[0m\u001b[0;34m.\u001b[0m\u001b[0mxpath\u001b[0m\u001b[0;34m(\u001b[0m\u001b[0;34m'//wiki:revision/wiki:text'\u001b[0m\u001b[0;34m,\u001b[0m \u001b[0mnamespaces\u001b[0m\u001b[0;34m=\u001b[0m\u001b[0mnsp\u001b[0m\u001b[0;34m)\u001b[0m\u001b[0;34m\u001b[0m\u001b[0;34m\u001b[0m\u001b[0m\n\u001b[0m",
      "\u001b[0;31mNameError\u001b[0m: name 'elem' is not defined"
     ]
    }
   ],
   "source": [
    "nsp = {'wiki':'http://www.mediawiki.org/xml/export-0.10/'}\n",
    "elem.xpath('//wiki:revision/wiki:text', namespaces=nsp)"
   ]
  },
  {
   "cell_type": "code",
   "execution_count": 3,
   "metadata": {},
   "outputs": [],
   "source": [
    "with open('./data/wiki_definitions.txt', 'r') as wiki_f:\n",
    "    wiki = wiki_f.readlines()"
   ]
  },
  {
   "cell_type": "code",
   "execution_count": 24,
   "metadata": {},
   "outputs": [
    {
     "name": "stdout",
     "output_type": "stream",
     "text": [
      "Aggregative game     Definition  \n",
      "Consider a standard [[non-cooperative game]] with ''n'' players, where <math> S_i \\subseteq \\mathbb{R} </math> is the [[Strategy (game theory)|strategy]] set of player ''i'', <math> S=S_1 \\times S_2 \\times \\ldots \\times S_n </math> is the joint strategy set, and <math>f_i:S \\to \\mathbb{R} </math> is the [[payoff function]] of player ''i''. The game is then called an ''aggregative game'' if for each player ''i'' there exists a function <math>\\tilde{f}_i:S_i \\times \\mathbb{R} \\to \\mathbb{R} </math> such that for all <math> s \\in S </math>:\n",
      "----------------------\n",
      "Consider a standard non-cooperative game with n players, where _inline_math_ is the strategy set of player i, _inline_math_ is the joint strategy set, and _inline_math_ is the payoff function of player i. The game is then called an aggregative game if for each player i there exists a function _inline_math_ such that for all _inline_math_:\n"
     ]
    }
   ],
   "source": [
    "title, section, w_raw = wiki[1038].split('---')\n",
    "w = eval(w_raw)\n",
    "print(title, section)\n",
    "print(w)\n",
    "print('----------------------')\n",
    "print(unwiki.loads(w))"
   ]
  },
  {
   "cell_type": "code",
   "execution_count": null,
   "metadata": {},
   "outputs": [],
   "source": []
  }
 ],
 "metadata": {
  "kernelspec": {
   "display_name": "Python 3",
   "language": "python",
   "name": "python3"
  },
  "language_info": {
   "codemirror_mode": {
    "name": "ipython",
    "version": 3
   },
   "file_extension": ".py",
   "mimetype": "text/x-python",
   "name": "python",
   "nbconvert_exporter": "python",
   "pygments_lexer": "ipython3",
   "version": "3.7.1"
  }
 },
 "nbformat": 4,
 "nbformat_minor": 2
}
