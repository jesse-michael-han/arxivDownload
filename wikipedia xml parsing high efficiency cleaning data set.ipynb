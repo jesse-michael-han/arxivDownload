{
 "cells": [
  {
   "cell_type": "code",
   "execution_count": 2,
   "metadata": {},
   "outputs": [],
   "source": [
    "from lxml import etree\n",
    "from bz2 import BZ2File\n",
    "import sys\n",
    "#sys.path.insert(0, './dewiki/')\n",
    "#import dewiki\n",
    "sys.path.insert(0, './unwiki')\n",
    "import unwiki\n",
    "import re"
   ]
  },
  {
   "cell_type": "code",
   "execution_count": 1,
   "metadata": {},
   "outputs": [],
   "source": [
    "%load_ext autoreload\n",
    "%autoreload 2"
   ]
  },
  {
   "cell_type": "code",
   "execution_count": 92,
   "metadata": {
    "scrolled": true
   },
   "outputs": [
    {
     "name": "stdout",
     "output_type": "stream",
     "text": [
      "Anatomy\n",
      "Acoustics\n",
      "Associative property\n",
      "Associative algebra\n",
      "Amdahl's law\n",
      "Angular momentum\n",
      "Abelian group\n",
      "Ascending chain condition\n",
      "Boolean algebra (structure)\n",
      "Banach space\n",
      "BPP (complexity)\n",
      "Bilinear map\n",
      "Bioterrorism\n",
      "Crime\n",
      "Chaitin's constant\n",
      "Currying\n",
      "Cistron\n",
      "Characteristic subgroup\n",
      "Dimensional analysis\n",
      "Determinant\n",
      "Diffeomorphism\n",
      "Commutator subgroup\n",
      "Equivalence relation\n",
      "Extermination camp\n",
      "Field (mathematics)\n",
      "Functor\n",
      "Gamma function\n",
      "Genetically modified organism\n",
      "Geodesy\n",
      "Group velocity\n",
      "Group action\n",
      "Gini coefficient\n",
      "Grothendieck topology\n",
      "Homomorphism\n",
      "Holomorphic function\n",
      "Hertz\n",
      "Hypnotherapy\n",
      "Inner product space\n",
      "Idempotence\n",
      "Integral domain\n",
      "Kilogram\n",
      "Knapsack problem\n",
      "Trade union\n",
      "Luminance\n",
      "Basis (linear algebra)\n",
      "Legendre symbol\n",
      "Mongols\n",
      "Medium shot\n",
      "Monoid\n",
      "Metric space\n",
      "Natural monopoly\n",
      "Normal distribution\n",
      "Null set\n",
      "Nasal consonant\n",
      "Net (mathematics)\n",
      "Online algorithm\n",
      "Outline of physical science\n",
      "Profinite group\n",
      "Prakrit\n",
      "Primitive recursive function\n",
      "Pacifism\n",
      "Quantum entanglement\n",
      "Radian\n",
      "Remembrance of the Dead\n",
      "Riemann integral\n",
      "Soundness\n",
      "Satanism\n",
      "Semigroup\n",
      "Steradian\n",
      "Symplectic manifold\n",
      "Spherical coordinate system\n",
      "Slope\n"
     ]
    }
   ],
   "source": [
    "path = '/home/luis/MisDocumentos/arxivBulkDownload/enwiki-20190201-pages-articles-multistream.xml.bz2'\n",
    "ns = '{http://www.mediawiki.org/xml/export-0.10/}'\n",
    "nsp = {'wiki':'http://www.mediawiki.org/xml/export-0.10/'}\n",
    "with BZ2File(path) as xml_file:\n",
    "    parser = etree.iterparse(xml_file, tag=ns+'page')\n",
    "    senti = 0\n",
    "    for event,elem in parser:\n",
    "        text = elem.find('wiki:revision/wiki:text', namespaces=nsp)\n",
    "        title = elem.find(ns+'title')\n",
    "        if '== Definition ==' in text.text:\n",
    "            print(title.text)\n",
    "        elem.clear()\n",
    "        text.clear()\n",
    "        title.clear()\n",
    "        while elem.getprevious() is not None:\n",
    "            del elem.getparent()[0]\n",
    "        while text.getprevious() is not None:\n",
    "            del text.getparent()[0]\n",
    "        while title.getprevious() is not None:\n",
    "            del title.getparent()[0]\n",
    "\n",
    "        if senti > 20000:\n",
    "            break\n",
    "        senti += 1"
   ]
  },
  {
   "cell_type": "code",
   "execution_count": 56,
   "metadata": {},
   "outputs": [
    {
     "data": {
      "text/plain": [
       "[<Element {http://www.mediawiki.org/xml/export-0.10/}text at 0x7ff8605ef388>,\n",
       " <Element {http://www.mediawiki.org/xml/export-0.10/}text at 0x7ff8605ef3c8>]"
      ]
     },
     "execution_count": 56,
     "metadata": {},
     "output_type": "execute_result"
    }
   ],
   "source": [
    "nsp = {'wiki':'http://www.mediawiki.org/xml/export-0.10/'}\n",
    "elem.xpath('//wiki:revision/wiki:text', namespaces=nsp)"
   ]
  },
  {
   "cell_type": "code",
   "execution_count": 73,
   "metadata": {},
   "outputs": [
    {
     "data": {
      "text/plain": [
       "[]"
      ]
     },
     "execution_count": 73,
     "metadata": {},
     "output_type": "execute_result"
    }
   ],
   "source": [
    "[e.tag for e in elem.iterchildren()]"
   ]
  },
  {
   "cell_type": "code",
   "execution_count": 152,
   "metadata": {},
   "outputs": [],
   "source": [
    "test_str = ''' 1848|work=google.com.ec|accessdate=5 June 2016|last1=Sudan|first1=Elisa|year=1921}}&lt;/ref&gt;\n",
    "{{clear}}\n",
    "\n",
    "== formal Definition ==\n",
    "{{main|International Workingmen's Association|Paris Commune}}\n",
    "[[File:Bakunin.png|thumb|upright|Anarchist [[Mikhail Bakunin]] opposed the [[Marxism|Marxist]] aim of [[dictatorship of the proletariat]] in favour of universal rebellion and allied himself with the federalists in the [[Interna\n",
    "tional Workingmen's Association|First International]] before his expulsion by the Marxists&lt;ref name=bbc/&gt;]]\n",
    "In Europe, harsh reaction followed the [[revolutions of 1848]], during which ten countries had experienced brief or long-term social upheaval as groups carried out nationalist uprisings. After most of these attempts at systemat\n",
    "ic change ended in failure, [[conservative]] elements took advantage of the divided groups of [[Socialism|socialists]], [[Liberalism|liberals]] and [[Nationalism|nationalists]] along with anarchists to prevent further revolt.&l\n",
    "t;ref&gt;{{cite book |last=Breunig |first=Charles |title=The Age of Revolution and Reaction, 1789–1850 |year=1977 |publisher=W.W. Norton &amp; Company|location=New York|isbn=978-0-393-09143-4 }}&lt;/ref&gt; In Spain, Ramón de l\n",
    "a Sagra established the anarchist journal ''El Porvenir'' in La Coruña in 1845 which was inspired by Proudhon's ideas.&lt;ref name=&quot;britannica.com&quot;&gt;{{cite web|url=http://www.britannica.com/EBchecked/topic/22753/ana\n",
    "rchism/66525/Anarchism-in-Spain#ref539322|title=anarchism :: Anarchism in Spain|work=Encyclopædia Britannica|access-date=24 April 2014}}&lt;/ref&gt; The Catalan politician [[Francesc Pi i Margall]] became the principal translat\n",
    "or of Proudhon's works into Spanish&lt;ref&gt;[[George Woodcock]]. ''Anarchism: a history of libertarian movements''. p 357&lt;/ref&gt; and later briefly became President of Spain in 1873 while being the leader of the [[Federal\n",
    " Democratic Republican Party]]. According to George Woodcock: &quot;These translations were to have a profound and lasting effect on the development of Spanish anarchism after 1870, but before that time Proudhonian ideas, as in\n",
    "terpreted by Pi, already provided much of the inspiration for the federalist movement which sprang up in the early 1860s&quot;.&lt;ref&gt;George Woodcock. ''Anarchism: a history of libertarian movements''. p. 357&lt;/ref&gt; Ac\n",
    "cording to the ''[[Encyclopædia Britannica]]'': &quot;During the Spanish revolution of 1873, Pi y Margall [[Cantonal Revolution|attempted to establish a decentralised, or &quot;cantonalist,&quot; political system]] on Proudhoni\n",
    "an lines&quot;.&lt;ref name=&quot;britannica.com&quot; /&gt;\n",
    "\n",
    "In 1864, the [[International Workingmen's Association]] (sometimes called the First International) united diverse revolutionary currents including French followers of Proudhon,&lt;ref&gt;{{cite book | last = Blin | first = Arna\n",
    "ud | title = The History of Terrorism | publisher = University of California Press | location = Berkeley | year = 2007 | isbn = 978-0-520-24709-3 |page=116}}&lt;/ref&gt; [[Blanquism|Blanquists]], [[Philadelphes]], English trade\n",
    " unionists, socialists and [[Social democracy|social democrats]]. Due to its links to active workers' movements, the International became a significant organisation. [[Karl Marx]] became a leading figure in the International an\n",
    "d a member of its General Council. Proudhon's followers, the [[Mutualism (economic theory)|mutualists]], opposed Marx's [[state socialism]], advocating political [[abstentionism]] and small property holdings.&lt;ref&gt;{{cite b\n",
    "ook | last = Dodson | first = Edward | title = The Discovery of First Principles: Volume 2 | publisher = Authorhouse | page=312 | year = 2002 | isbn = 978-0-595-24912-1 }}&lt;/ref&gt;&lt;ref&gt;{{cite book | last = Thomas | fir\n",
    "st = Paul | title = Karl Marx and the Anarchists | publisher = Routledge &amp; Kegan Paul |ref=harv | location = London | year = 1985 | isbn = 978-0-7102-0685-5 |page=187}}&lt;/ref&gt; Woodcock also reports that the [[Individua\n",
    "list anarchism in the United States|American individualist anarchists]] [[Lysander Spooner]] and [[William Batchelder Greene]] had been members of the First International.&lt;ref name=&quot;Woodcock&quot;&gt;{{cite book|last=Wo\n",
    "odcock|first=G.|authorlink=George Woodcock|title=Anarchism: A History of Libertarian Ideas and Movements|year=1962|publisher=Penguin|location=Melbourne|page=460}}&lt;/ref&gt; In 1868, following their unsuccessful participation \n",
    "in the [[League of Peace and Freedom]] (LPF) Russian revolutionary [[Mikhail Bakunin]] and his [[collectivist anarchist]] associates joined the First International, which had decided not to get involved with the LPF.&lt;ref&gt;\n",
    "{{cite book | last = Thomas | first = Paul | title = Karl Marx and the Anarchists | publisher = Routledge and Kegan Paul | location = London | year = 1980 | isbn = 978-0-7102-0685-5 |page=304}}&lt;/ref&gt; They allied themselve\n",
    "s with the [[federalist]] socialist sections of the International,&lt;ref&gt;{{cite book | last = Bak | first = Jǹos | title = Liberty and Socialism | publisher = Rowman &amp; Littlefield Publishers | location = Lanham | year =\n",
    " 1991 | isbn = 978-0-8476-7680-4 |page=2\"'''"
   ]
  },
  {
   "cell_type": "code",
   "execution_count": 2,
   "metadata": {
    "scrolled": true
   },
   "outputs": [
    {
     "ename": "NameError",
     "evalue": "name 'test' is not defined",
     "output_type": "error",
     "traceback": [
      "\u001b[0;31m---------------------------------------------------------------------------\u001b[0m",
      "\u001b[0;31mNameError\u001b[0m                                 Traceback (most recent call last)",
      "\u001b[0;32m<ipython-input-2-aad7db8b2a91>\u001b[0m in \u001b[0;36m<module>\u001b[0;34m\u001b[0m\n\u001b[0;32m----> 1\u001b[0;31m \u001b[0mt1\u001b[0m \u001b[0;34m=\u001b[0m \u001b[0mtest\u001b[0m\u001b[0;34m[\u001b[0m\u001b[0;36m3\u001b[0m\u001b[0;34m]\u001b[0m\u001b[0;34m\u001b[0m\u001b[0;34m\u001b[0m\u001b[0m\n\u001b[0m\u001b[1;32m      2\u001b[0m \u001b[0mr\u001b[0m \u001b[0;34m=\u001b[0m \u001b[0mt1\u001b[0m\u001b[0;34m.\u001b[0m\u001b[0msplit\u001b[0m\u001b[0;34m(\u001b[0m\u001b[0;34m' --- '\u001b[0m\u001b[0;34m)\u001b[0m\u001b[0;34m[\u001b[0m\u001b[0;36m2\u001b[0m\u001b[0;34m]\u001b[0m\u001b[0;34m\u001b[0m\u001b[0;34m\u001b[0m\u001b[0m\n\u001b[1;32m      3\u001b[0m \u001b[0mprint\u001b[0m\u001b[0;34m(\u001b[0m\u001b[0meval\u001b[0m\u001b[0;34m(\u001b[0m\u001b[0mr\u001b[0m\u001b[0;34m)\u001b[0m\u001b[0;34m)\u001b[0m\u001b[0;34m\u001b[0m\u001b[0;34m\u001b[0m\u001b[0m\n",
      "\u001b[0;31mNameError\u001b[0m: name 'test' is not defined"
     ]
    }
   ],
   "source": [
    "t1 = test[3]\n",
    "r = t1.split(' --- ')[2]\n",
    "print(eval(r))"
   ]
  },
  {
   "cell_type": "code",
   "execution_count": 3,
   "metadata": {},
   "outputs": [],
   "source": [
    "with open('../wiki_definitions.txt', 'r') as wiki_f:\n",
    "    wiki = wiki_f.readlines()"
   ]
  },
  {
   "cell_type": "code",
   "execution_count": 9,
   "metadata": {},
   "outputs": [
    {
     "name": "stdout",
     "output_type": "stream",
     "text": [
      "Cyclic permutation     Definition  \n",
      "[[image:050712_perm_3.png|thumb|upright=1.7|Diagram of a cyclic permutation with two fixed points; a 6-cycle and two 1-cycles. |190x190px]]\n",
      "A [[permutation]] is called a cyclic permutation if and only if it has a single nontrivial cycle (a cycle of length > 1).<ref>{{citation|first=Kenneth P.|last=Bogart|title=Introductory Combinatorics|year=1990|edition=2nd|publisher=Harcourt, Brace, Jovanovich|isbn=0-15-541576-X|page=486}}</ref>\n",
      "----------------------\n",
      "\n",
      "A permutation is called a cyclic permutation if and only if it has a single nontrivial cycle (a cycle of length > 1).\n"
     ]
    }
   ],
   "source": [
    "title, section, w_raw = wiki[259].split('---')\n",
    "w = eval(w_raw)\n",
    "print(title, section)\n",
    "print(w)\n",
    "print('----------------------')\n",
    "print(unwiki.loads(w))"
   ]
  },
  {
   "cell_type": "code",
   "execution_count": 73,
   "metadata": {},
   "outputs": [],
   "source": [
    "curly_math_regex = re.compile(r\"\"\"(?P<math>{{\\s*math\\s*\\|)(.*?)(?(math)}}|)\n",
    "                               \"\"\", re.X)\n",
    "#for r in curly_math_regex.finditer(w):\n",
    "#    print(r.group(0))\n",
    "ww = re.sub(curly_math_regex, r\"\\2\", w)"
   ]
  },
  {
   "cell_type": "code",
   "execution_count": 71,
   "metadata": {},
   "outputs": [
    {
     "name": "stdout",
     "output_type": "stream",
     "text": [
      "A Banach space is a [[vector space]] {{mvar|X}} over the field {{math|'''R'''}} of real numbers, or over the field {{math|'''C'''}} of complex numbers, which is equipped with a [[norm (mathematics)|norm]] _inline_math_ and which is [[complete metric space|complete]] with respect to the distance function induced by the norm, that is to say, for every [[Cauchy sequence]] {{math|{''x<sub>n</sub>''} }} in {{mvar|X}}, there exists an element {{mvar|x}} in {{mvar|X}} such that\n"
     ]
    }
   ],
   "source": [
    "regex = re.compile(r\"\"\"<ref.*</ref>|      #refs are links in square brackets\n",
    "                       <ref.*/>|          #some ref tags don't have a closing bracket\n",
    "                       </ref>\n",
    "                       \"\"\", re.X|re.S)\n",
    "display_math_regex = re.compile(r\"\"\"^:\\s*<math>(.*?)</math>$  #Display Math starts with a colon \n",
    "                    \"\"\", re.X|re.S|re.M)\n",
    "inline_math_regex = re.compile(r\"\"\"<math>.*?</math>\"\"\", re.X)\n",
    "\n",
    "def remove_tags(desc):\n",
    "    first = regex.sub('',desc)\n",
    "    second = display_math_regex.sub('_display_math_', first)\n",
    "    third = inline_math_regex.sub('_inline_math_', second)\n",
    "    return third\n",
    "print(remove_tags(w))"
   ]
  },
  {
   "cell_type": "code",
   "execution_count": null,
   "metadata": {},
   "outputs": [],
   "source": []
  }
 ],
 "metadata": {
  "kernelspec": {
   "display_name": "Python 3",
   "language": "python",
   "name": "python3"
  },
  "language_info": {
   "codemirror_mode": {
    "name": "ipython",
    "version": 3
   },
   "file_extension": ".py",
   "mimetype": "text/x-python",
   "name": "python",
   "nbconvert_exporter": "python",
   "pygments_lexer": "ipython3",
   "version": "3.7.1"
  }
 },
 "nbformat": 4,
 "nbformat_minor": 2
}
