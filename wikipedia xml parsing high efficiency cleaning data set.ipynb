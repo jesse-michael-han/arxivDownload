{
 "cells": [
  {
   "cell_type": "code",
   "execution_count": 4,
   "metadata": {},
   "outputs": [],
   "source": [
    "from lxml import etree\n",
    "from bz2 import BZ2File\n",
    "import sys\n",
    "#sys.path.insert(0, './dewiki/')\n",
    "#import dewiki\n",
    "sys.path.insert(0, './unwiki')\n",
    "import re"
   ]
  },
  {
   "cell_type": "code",
   "execution_count": 11,
   "metadata": {},
   "outputs": [
    {
     "name": "stdout",
     "output_type": "stream",
     "text": [
      "The autoreload extension is already loaded. To reload it, use:\n",
      "  %reload_ext autoreload\n"
     ]
    }
   ],
   "source": [
    "%load_ext autoreload\n",
    "%autoreload 2\n",
    "from unwiki import unwiki\n",
    "from wikiparse import search_defs"
   ]
  },
  {
   "cell_type": "code",
   "execution_count": 9,
   "metadata": {},
   "outputs": [],
   "source": [
    "with open('./data/wiki_definitions_improved.txt', 'r') as wiki_f:\n",
    "    wiki = wiki_f.readlines()"
   ]
  },
  {
   "cell_type": "code",
   "execution_count": 12,
   "metadata": {
    "scrolled": false
   },
   "outputs": [
    {
     "name": "stdout",
     "output_type": "stream",
     "text": [
      "Predation     Definition  \n",
      "[[File:IndianSpiderWasp.JPG|thumb|upright|left|[[Pompilidae|Spider wasps]] paralyse and eventually kill their hosts, but are considered [[parasitoid]]s, not predators.]]\n",
      "\n",
      "At the most basic level, predators kill and eat other organisms. However, the concept of predation is broad, defined differently in different contexts, and includes a wide variety of feeding methods; and some relationships that result in the prey's death are not generally called predation. A [[parasitoid]], such as an [[ichneumon wasp]], lays its eggs in or on its host; the eggs hatch into larvae, which eat the host, and it inevitably dies. Zoologists generally call this a form of [[parasitism]], though conventionally parasites are thought not to kill their hosts. A predator can be defined to differ from a parasitoid in two ways: it kills its prey immediately; and it has many prey, captured over its lifetime, where a parasitoid's larva has just one, or at least has its food supply provisioned for it on just one occasion.<ref>{{cite book |last1=Gurr |first1=Geoff M. |last2=Wratten |first2=Stephen D. |last3=Snyder |first3=William E. |title=Biodiversity and Insect Pests: Key Issues for Sustainable Management |url=https://books.google.com/books?id=-ng4hIDQ_k8C&pg=PT105 |year=2012 |publisher=John Wiley & Sons |isbn=978-1-118-23185-2 |page=105}}</ref><ref name=LaffertyKuris2002/> \n",
      "\n",
      "[[File:Predation's Boundaries.svg|thumb|upright=1.5|Relation of predation to other feeding strategies]]\n",
      "\n",
      "There are other difficult and borderline cases. [[Micropredator]]s are small animals that, like predators, feed entirely on other organisms; they include [[flea]]s and [[mosquito]]es that consume blood from living animals, and [[aphid]]s that consume sap from living plants. However, since they typically do not kill their hosts, they are now often thought of as parasites.<ref name=PoulinRandhawa2015>{{cite journal |last1=Poulin |first1=Robert |author1link=Robert Poulin (zoologist) |last2=Randhawa |first2=Haseeb S. |title=Evolution of parasitism along convergent lines: from ecology to genomics |journal=Parasitology |date=February 2015 |volume=142 |issue=Suppl 1 |pages=S6–S15 |doi=10.1017/S0031182013001674 |pmc=4413784 |pmid=24229807}}</ref><ref name=Rollinson>{{cite book |author=Poulin, Robert |authorlink=Robert Poulin (zoologist) |editor1=Rollinson, D. |editor2=Hay, S. I. |title=The Many Roads to Parasitism: A Tale of Convergence |work=Advances in Parasitology |url=https://books.google.com/books?id=9y4AlXka7t0C&pg=PA28 |year=2011 |publisher=Academic Press |isbn=978-0-12-385897-9 |pages=27–28}}</ref> Animals that [[Grazing|graze]] on [[phytoplankton]] or mats of microbes are predators, as they consume and kill their food organisms; but herbivores that browse leaves are not, as their food plants usually survive the assault.<ref name=\"Bengtson2002\"/> However, when animals eat seeds (''[[Seed predation|seed predation]]'' or ''granivory'') or eggs (''[[egg predation]]''), they are consuming entire living organisms, which by definition makes them predators,<ref name=Janzen>{{cite journal |last1=Janzen |first1=D. H. |year=1971 |title=Seed Predation by Animals |journal=Annual Review of Ecology and Systematics |volume=2 |page=465 |doi=10.1146/annurev.es.02.110171.002341}}</ref><ref name=\"NilssonBjörkman1985\">{{cite journal |last1=Nilsson |first1=Sven G. |last2=Björkman |first2=Christer |last3=Forslund |first3=Pär |last4=Höglund |first4=Jacob |title=Egg predation in forest bird communities on islands and mainland |journal=Oecologia |volume=66 |issue=4 |year=1985 |pages=511–515 |doi=10.1007/BF00379342|pmid=28310791 |bibcode=1985Oecol..66..511N }}</ref> albeit unconventional ones: for instance, a mouse that eats grass seeds has no adaptations for tracking, catching and subduing prey and its teeth are not adapted to slicing through flesh.<ref name=HulmeBenkman2002/><ref name=Janzen/>\n",
      "\n",
      "[[Scavenger]]s, organisms that only eat organisms found already dead, are not predators, but many predators such as the [[jackal]] and the [[hyena]] scavenge when the opportunity arises.<ref>{{cite journal |last=Kane |first=Adam |last2=Healy |first2=Kevin |last3=Guillerme |first3=Thomas |last4=Ruxton |first4=Graeme D. |last5=Jackson |first5=Andrew L. |date=2017 |title=A recipe for scavenging in vertebrates – the natural history of a behaviour |journal=Ecography |volume=40 |issue=2 |pages=324–334 |doi=10.1111/ecog.02817|hdl=10468/3213 }}</ref><ref>{{Cite book |last=Kruuk |first=Hans |title=The Spotted Hyena: A Study of Predation and Social Behaviour |publisher=University of California Press |year=1972 |isbn=978-0226455082| pages=107–108}}</ref><ref name=\"Bengtson2002\"/> Among invertebrates, [[social wasp]]s (yellowjackets) are both hunters and scavengers of other insects.<ref name=\"Schmidt2009\">{{Cite book |last1=Schmidt |first1=Justin O. |title=Wasps |journal=Encyclopedia of Insects |year=2009 |edition=Second |pages=1049–1052 |doi=10.1016/B978-0-12-374144-8.00275-7|isbn=9780123741448 }}</ref>\n",
      "----------------------\n",
      "\n",
      "\n",
      "At the most basic level, predators kill and eat other organisms. However, the concept of predation is broad, defined differently in different contexts, and includes a wide variety of feeding methods; and some relationships that result in the prey's death are not generally called predation. A parasitoid, such as an ichneumon wasp, lays its eggs in or on its host; the eggs hatch into larvae, which eat the host, and it inevitably dies. Zoologists generally call this a form of parasitism, though conventionally parasites are thought not to kill their hosts. A predator can be defined to differ from a parasitoid in two ways: it kills its prey immediately; and it has many prey, captured over its lifetime, where a parasitoid's larva has just one, or at least has its food supply provisioned for it on just one occasion. \n",
      "\n",
      "\n",
      "\n",
      "There are other difficult and borderline cases. Micropredators are small animals that, like predators, feed entirely on other organisms; they include fleas and mosquitoes that consume blood from living animals, and aphids that consume sap from living plants. However, since they typically do not kill their hosts, they are now often thought of as parasites. Animals that graze on phytoplankton or mats of microbes are predators, as they consume and kill their food organisms; but herbivores that browse leaves are not, as their food plants usually survive the assault. However, when animals eat seeds (seed predation or granivory) or eggs (egg predation), they are consuming entire living organisms, which by definition makes them predators, albeit unconventional ones: for instance, a mouse that eats grass seeds has no adaptations for tracking, catching and subduing prey and its teeth are not adapted to slicing through flesh.\n",
      "\n",
      "Scavengers, organisms that only eat organisms found already dead, are not predators, but many predators such as the jackal and the hyena scavenge when the opportunity arises. Among invertebrates, social wasps (yellowjackets) are both hunters and scavengers of other insects.\n"
     ]
    }
   ],
   "source": [
    "title, section, w_raw = wiki[450].split('-#-%-')\n",
    "w = eval(w_raw)\n",
    "print(title, section)\n",
    "print(w)\n",
    "print('----------------------')\n",
    "print(unwiki.loads(w))"
   ]
  },
  {
   "cell_type": "code",
   "execution_count": 69,
   "metadata": {},
   "outputs": [],
   "source": [
    "def paren_matcher (n):\n",
    "    # poor man's matched paren scanning, gives up\n",
    "    # after n+1 levels.  Matches any string with balanced\n",
    "    # parens inside; add the outer parens yourself if needed.\n",
    "    # Nongreedy.\n",
    "    return r\"[^()]*?(?:\\[\\[\"*n+r\"[^()]*?\"+r\"\\]\\][^()]*?)*?\"*n\n",
    "brac = re.compile(r'\\[\\['+paren_matcher(5)+r'\\]\\]')"
   ]
  },
  {
   "cell_type": "code",
   "execution_count": 71,
   "metadata": {},
   "outputs": [
    {
     "data": {
      "text/plain": [
       "'hola i'"
      ]
     },
     "execution_count": 71,
     "metadata": {},
     "output_type": "execute_result"
    }
   ],
   "source": [
    "brac.sub('i', 'hola [[que :: ;; $$$ peks[[esto 43432 se mamo]]]]')"
   ]
  },
  {
   "cell_type": "code",
   "execution_count": 64,
   "metadata": {},
   "outputs": [
    {
     "data": {
      "text/plain": [
       "'[^()]*?(?:\\\\[[^()]*?\\\\][^()]*?)*?'"
      ]
     },
     "execution_count": 64,
     "metadata": {},
     "output_type": "execute_result"
    }
   ],
   "source": [
    "paren_matcher(1)"
   ]
  },
  {
   "cell_type": "code",
   "execution_count": 36,
   "metadata": {},
   "outputs": [
    {
     "data": {
      "text/plain": [
       "'hola la bien lele'"
      ]
     },
     "execution_count": 36,
     "metadata": {},
     "output_type": "execute_result"
    }
   ],
   "source": [
    "R = re.compile(r't')\n",
    "R.sub('l' , 'hola ta bien tete')"
   ]
  },
  {
   "cell_type": "code",
   "execution_count": null,
   "metadata": {},
   "outputs": [],
   "source": []
  }
 ],
 "metadata": {
  "kernelspec": {
   "display_name": "Python 3",
   "language": "python",
   "name": "python3"
  },
  "language_info": {
   "codemirror_mode": {
    "name": "ipython",
    "version": 3
   },
   "file_extension": ".py",
   "mimetype": "text/x-python",
   "name": "python",
   "nbconvert_exporter": "python",
   "pygments_lexer": "ipython3",
   "version": "3.7.2"
  }
 },
 "nbformat": 4,
 "nbformat_minor": 2
}
