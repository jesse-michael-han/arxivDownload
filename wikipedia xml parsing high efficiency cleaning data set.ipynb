{
 "cells": [
  {
   "cell_type": "code",
   "execution_count": 2,
   "metadata": {},
   "outputs": [],
   "source": [
    "from lxml import etree\n",
    "from bz2 import BZ2File\n",
    "import sys\n",
    "#sys.path.insert(0, './dewiki/')\n",
    "#import dewiki\n",
    "sys.path.insert(0, './unwiki')\n",
    "import unwiki\n",
    "import re"
   ]
  },
  {
   "cell_type": "code",
   "execution_count": 1,
   "metadata": {},
   "outputs": [],
   "source": [
    "%load_ext autoreload\n",
    "%autoreload 2"
   ]
  },
  {
   "cell_type": "code",
   "execution_count": 92,
   "metadata": {
    "scrolled": true
   },
   "outputs": [
    {
     "name": "stdout",
     "output_type": "stream",
     "text": [
      "Anatomy\n",
      "Acoustics\n",
      "Associative property\n",
      "Associative algebra\n",
      "Amdahl's law\n",
      "Angular momentum\n",
      "Abelian group\n",
      "Ascending chain condition\n",
      "Boolean algebra (structure)\n",
      "Banach space\n",
      "BPP (complexity)\n",
      "Bilinear map\n",
      "Bioterrorism\n",
      "Crime\n",
      "Chaitin's constant\n",
      "Currying\n",
      "Cistron\n",
      "Characteristic subgroup\n",
      "Dimensional analysis\n",
      "Determinant\n",
      "Diffeomorphism\n",
      "Commutator subgroup\n",
      "Equivalence relation\n",
      "Extermination camp\n",
      "Field (mathematics)\n",
      "Functor\n",
      "Gamma function\n",
      "Genetically modified organism\n",
      "Geodesy\n",
      "Group velocity\n",
      "Group action\n",
      "Gini coefficient\n",
      "Grothendieck topology\n",
      "Homomorphism\n",
      "Holomorphic function\n",
      "Hertz\n",
      "Hypnotherapy\n",
      "Inner product space\n",
      "Idempotence\n",
      "Integral domain\n",
      "Kilogram\n",
      "Knapsack problem\n",
      "Trade union\n",
      "Luminance\n",
      "Basis (linear algebra)\n",
      "Legendre symbol\n",
      "Mongols\n",
      "Medium shot\n",
      "Monoid\n",
      "Metric space\n",
      "Natural monopoly\n",
      "Normal distribution\n",
      "Null set\n",
      "Nasal consonant\n",
      "Net (mathematics)\n",
      "Online algorithm\n",
      "Outline of physical science\n",
      "Profinite group\n",
      "Prakrit\n",
      "Primitive recursive function\n",
      "Pacifism\n",
      "Quantum entanglement\n",
      "Radian\n",
      "Remembrance of the Dead\n",
      "Riemann integral\n",
      "Soundness\n",
      "Satanism\n",
      "Semigroup\n",
      "Steradian\n",
      "Symplectic manifold\n",
      "Spherical coordinate system\n",
      "Slope\n"
     ]
    }
   ],
   "source": [
    "path = '/home/luis/MisDocumentos/arxivBulkDownload/enwiki-20190201-pages-articles-multistream.xml.bz2'\n",
    "ns = '{http://www.mediawiki.org/xml/export-0.10/}'\n",
    "nsp = {'wiki':'http://www.mediawiki.org/xml/export-0.10/'}\n",
    "with BZ2File(path) as xml_file:\n",
    "    parser = etree.iterparse(xml_file, tag=ns+'page')\n",
    "    senti = 0\n",
    "    for event,elem in parser:\n",
    "        text = elem.find('wiki:revision/wiki:text', namespaces=nsp)\n",
    "        title = elem.find(ns+'title')\n",
    "        if '== Definition ==' in text.text:\n",
    "            print(title.text)\n",
    "        elem.clear()\n",
    "        text.clear()\n",
    "        title.clear()\n",
    "        while elem.getprevious() is not None:\n",
    "            del elem.getparent()[0]\n",
    "        while text.getprevious() is not None:\n",
    "            del text.getparent()[0]\n",
    "        while title.getprevious() is not None:\n",
    "            del title.getparent()[0]\n",
    "\n",
    "        if senti > 20000:\n",
    "            break\n",
    "        senti += 1"
   ]
  },
  {
   "cell_type": "code",
   "execution_count": 56,
   "metadata": {},
   "outputs": [
    {
     "data": {
      "text/plain": [
       "[<Element {http://www.mediawiki.org/xml/export-0.10/}text at 0x7ff8605ef388>,\n",
       " <Element {http://www.mediawiki.org/xml/export-0.10/}text at 0x7ff8605ef3c8>]"
      ]
     },
     "execution_count": 56,
     "metadata": {},
     "output_type": "execute_result"
    }
   ],
   "source": [
    "nsp = {'wiki':'http://www.mediawiki.org/xml/export-0.10/'}\n",
    "elem.xpath('//wiki:revision/wiki:text', namespaces=nsp)"
   ]
  },
  {
   "cell_type": "code",
   "execution_count": 3,
   "metadata": {},
   "outputs": [],
   "source": [
    "with open('./data/wiki_definitions.txt', 'r') as wiki_f:\n",
    "    wiki = wiki_f.readlines()"
   ]
  },
  {
   "cell_type": "code",
   "execution_count": 24,
   "metadata": {},
   "outputs": [
    {
     "name": "stdout",
     "output_type": "stream",
     "text": [
      "Aggregative game     Definition  \n",
      "Consider a standard [[non-cooperative game]] with ''n'' players, where <math> S_i \\subseteq \\mathbb{R} </math> is the [[Strategy (game theory)|strategy]] set of player ''i'', <math> S=S_1 \\times S_2 \\times \\ldots \\times S_n </math> is the joint strategy set, and <math>f_i:S \\to \\mathbb{R} </math> is the [[payoff function]] of player ''i''. The game is then called an ''aggregative game'' if for each player ''i'' there exists a function <math>\\tilde{f}_i:S_i \\times \\mathbb{R} \\to \\mathbb{R} </math> such that for all <math> s \\in S </math>:\n",
      "----------------------\n",
      "Consider a standard non-cooperative game with n players, where _inline_math_ is the strategy set of player i, _inline_math_ is the joint strategy set, and _inline_math_ is the payoff function of player i. The game is then called an aggregative game if for each player i there exists a function _inline_math_ such that for all _inline_math_:\n"
     ]
    }
   ],
   "source": [
    "title, section, w_raw = wiki[1038].split('---')\n",
    "w = eval(w_raw)\n",
    "print(title, section)\n",
    "print(w)\n",
    "print('----------------------')\n",
    "print(unwiki.loads(w))"
   ]
  },
  {
   "cell_type": "code",
   "execution_count": null,
   "metadata": {},
   "outputs": [],
   "source": []
  }
 ],
 "metadata": {
  "kernelspec": {
   "display_name": "Python 3",
   "language": "python",
   "name": "python3"
  },
  "language_info": {
   "codemirror_mode": {
    "name": "ipython",
    "version": 3
   },
   "file_extension": ".py",
   "mimetype": "text/x-python",
   "name": "python",
   "nbconvert_exporter": "python",
   "pygments_lexer": "ipython3",
   "version": "3.7.2"
  }
 },
 "nbformat": 4,
 "nbformat_minor": 2
}
