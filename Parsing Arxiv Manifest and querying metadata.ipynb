{
 "cells": [
  {
   "cell_type": "code",
   "execution_count": 9,
   "metadata": {},
   "outputs": [],
   "source": [
    "import xml.etree.ElementTree as ET\n",
    "import pandas as pd\n",
    "with open('../manifest_jan_2019.xml', 'r') as f:\n",
    "    mani = ET.parse(f)"
   ]
  },
  {
   "cell_type": "code",
   "execution_count": 10,
   "metadata": {},
   "outputs": [],
   "source": [
    "root = mani.getroot()\n",
    "def parse_element(elem):\n",
    "    return_dict = {}\n",
    "    for e in elem:\n",
    "        return_dict[e.tag] = e.text\n",
    "    return return_dict\n",
    "def parse_root(root):\n",
    "        return [parse_element(child) for child in iter(root) if child.tag != 'timestamp']\n",
    "\n",
    "filedf = pd.DataFrame(parse_root(root))\n",
    "filedf[['num_items', 'size']] = filedf[['num_items', 'size']].astype(int)\n",
    "filedf['filename'] = filedf['filename'].astype(str)"
   ]
  },
  {
   "cell_type": "code",
   "execution_count": 3,
   "metadata": {},
   "outputs": [],
   "source": [
    "import hashlib "
   ]
  },
  {
   "cell_type": "code",
   "execution_count": 71,
   "metadata": {},
   "outputs": [
    {
     "data": {
      "text/plain": [
       "'fe34df50d3426c745ea9a8b5ed924859'"
      ]
     },
     "execution_count": 71,
     "metadata": {},
     "output_type": "execute_result"
    }
   ],
   "source": [
    "hash_md5 = hashlib.md5()\n",
    "with open('../arXiv_src_1804_001.tar', \"rb\") as f:\n",
    "    for chunk in iter(lambda: f.read(4096), b\"\"):\n",
    "        hash_md5.update(chunk)\n",
    "hash_md5.hexdigest()"
   ]
  },
  {
   "cell_type": "code",
   "execution_count": 11,
   "metadata": {},
   "outputs": [
    {
     "data": {
      "text/plain": [
       "content_md5sum    cacbfede21d5dfef26f367ec99384546\n",
       "filename                src/arXiv_src_0001_001.tar\n",
       "first_item                         astro-ph0001001\n",
       "last_item                          quant-ph0001119\n",
       "md5sum            949ae880fbaf4649a485a8d9e07f370b\n",
       "num_items                                     2364\n",
       "seq_num                                          1\n",
       "size                                     225605507\n",
       "timestamp                      2010-12-23 00:13:59\n",
       "yymm                                          0001\n",
       "Name: 0, dtype: object"
      ]
     },
     "execution_count": 11,
     "metadata": {},
     "output_type": "execute_result"
    }
   ],
   "source": [
    "s = filedf.iloc[0]; s"
   ]
  },
  {
   "cell_type": "code",
   "execution_count": 23,
   "metadata": {},
   "outputs": [
    {
     "data": {
      "text/plain": [
       "26"
      ]
     },
     "execution_count": 23,
     "metadata": {},
     "output_type": "execute_result"
    }
   ],
   "source": [
    "len(s['filename'])"
   ]
  },
  {
   "cell_type": "code",
   "execution_count": 46,
   "metadata": {},
   "outputs": [],
   "source": [
    "import subprocess\n",
    "P = subprocess.run(['/bin/s3cmd', 'get', '--requester-pays', 's3://arxiv/src/arXiv_src_1804_006.tar', '..'], \n",
    "                   stderr=subprocess.PIPE,\n",
    "                   stdout=subprocess.PIPE)"
   ]
  },
  {
   "cell_type": "code",
   "execution_count": 41,
   "metadata": {
    "scrolled": true
   },
   "outputs": [
    {
     "data": {
      "text/plain": [
       "b\"download: 's3://arxiv/src/arXiv_src_1804_006sab.tar' -> '../arXiv_src_1804_006sab.tar'  [1 of 1]\\ndownload: 's3://arxiv/src/arXiv_src_1804_006sab.tar' -> '../arXiv_src_1804_006sab.tar'  [1 of 1]\\n\""
      ]
     },
     "execution_count": 41,
     "metadata": {},
     "output_type": "execute_result"
    }
   ],
   "source": [
    "P.stdout"
   ]
  },
  {
   "cell_type": "code",
   "execution_count": 42,
   "metadata": {},
   "outputs": [
    {
     "data": {
      "text/plain": [
       "b'ERROR: S3 error: 404 (NoSuchKey): The specified key does not exist.\\n'"
      ]
     },
     "execution_count": 42,
     "metadata": {},
     "output_type": "execute_result"
    }
   ],
   "source": [
    "P.stderr"
   ]
  },
  {
   "cell_type": "code",
   "execution_count": 45,
   "metadata": {
    "scrolled": true
   },
   "outputs": [
    {
     "ename": "CalledProcessError",
     "evalue": "Command '['/bin/s3cmd', 'get', '--requester-pays', 's3://arxiv/src/arXiv_src_1804_006sab.tar', '..']' returned non-zero exit status 12.",
     "output_type": "error",
     "traceback": [
      "\u001b[0;31m---------------------------------------------------------------------------\u001b[0m",
      "\u001b[0;31mCalledProcessError\u001b[0m                        Traceback (most recent call last)",
      "\u001b[0;32m<ipython-input-45-3e67dcb1c608>\u001b[0m in \u001b[0;36m<module>\u001b[0;34m()\u001b[0m\n\u001b[0;32m----> 1\u001b[0;31m \u001b[0mP\u001b[0m\u001b[0;34m.\u001b[0m\u001b[0mcheck_returncode\u001b[0m\u001b[0;34m(\u001b[0m\u001b[0;34m)\u001b[0m\u001b[0;34m\u001b[0m\u001b[0m\n\u001b[0m",
      "\u001b[0;32m/usr/lib/python3.6/subprocess.py\u001b[0m in \u001b[0;36mcheck_returncode\u001b[0;34m(self)\u001b[0m\n\u001b[1;32m    367\u001b[0m         \u001b[0;32mif\u001b[0m \u001b[0mself\u001b[0m\u001b[0;34m.\u001b[0m\u001b[0mreturncode\u001b[0m\u001b[0;34m:\u001b[0m\u001b[0;34m\u001b[0m\u001b[0m\n\u001b[1;32m    368\u001b[0m             raise CalledProcessError(self.returncode, self.args, self.stdout,\n\u001b[0;32m--> 369\u001b[0;31m                                      self.stderr)\n\u001b[0m\u001b[1;32m    370\u001b[0m \u001b[0;34m\u001b[0m\u001b[0m\n\u001b[1;32m    371\u001b[0m \u001b[0;34m\u001b[0m\u001b[0m\n",
      "\u001b[0;31mCalledProcessError\u001b[0m: Command '['/bin/s3cmd', 'get', '--requester-pays', 's3://arxiv/src/arXiv_src_1804_006sab.tar', '..']' returned non-zero exit status 12."
     ]
    }
   ],
   "source": [
    "P.check_returncode()"
   ]
  },
  {
   "cell_type": "code",
   "execution_count": 55,
   "metadata": {},
   "outputs": [
    {
     "data": {
      "text/plain": [
       "0    False\n",
       "1     True\n",
       "2    False\n",
       "3    False\n",
       "4    False\n",
       "Name: filename, dtype: bool"
      ]
     },
     "execution_count": 55,
     "metadata": {},
     "output_type": "execute_result"
    }
   ],
   "source": [
    "df.filename.isin(notdf.filename)"
   ]
  },
  {
   "cell_type": "code",
   "execution_count": 57,
   "metadata": {},
   "outputs": [],
   "source": [
    "df.to_csv('head_df.csv')"
   ]
  },
  {
   "cell_type": "code",
   "execution_count": 58,
   "metadata": {},
   "outputs": [],
   "source": [
    "notdf.to_csv('notdf.csv')"
   ]
  },
  {
   "cell_type": "code",
   "execution_count": 35,
   "metadata": {
    "collapsed": true,
    "jupyter": {
     "outputs_hidden": true
    }
   },
   "outputs": [
    {
     "name": "stderr",
     "output_type": "stream",
     "text": [
      "/usr/lib/python3.6/site-packages/pandas/core/frame.py:6211: FutureWarning: Sorting because non-concatenation axis is not aligned. A future version\n",
      "of pandas will change to not sort by default.\n",
      "\n",
      "To accept the future behavior, pass 'sort=False'.\n",
      "\n",
      "To retain the current behavior and silence the warning, pass 'sort=True'.\n",
      "\n",
      "  sort=sort)\n"
     ]
    },
    {
     "data": {
      "text/html": [
       "<div>\n",
       "<style scoped>\n",
       "    .dataframe tbody tr th:only-of-type {\n",
       "        vertical-align: middle;\n",
       "    }\n",
       "\n",
       "    .dataframe tbody tr th {\n",
       "        vertical-align: top;\n",
       "    }\n",
       "\n",
       "    .dataframe thead th {\n",
       "        text-align: right;\n",
       "    }\n",
       "</style>\n",
       "<table border=\"1\" class=\"dataframe\">\n",
       "  <thead>\n",
       "    <tr style=\"text-align: right;\">\n",
       "      <th></th>\n",
       "      <th>Unnamed: 0.1</th>\n",
       "      <th>filename</th>\n",
       "    </tr>\n",
       "  </thead>\n",
       "  <tbody>\n",
       "    <tr>\n",
       "      <th>0</th>\n",
       "      <td>NaN</td>\n",
       "      <td>hola</td>\n",
       "    </tr>\n",
       "  </tbody>\n",
       "</table>\n",
       "</div>"
      ],
      "text/plain": [
       "  Unnamed: 0.1 filename\n",
       "0          NaN     hola"
      ]
     },
     "execution_count": 35,
     "metadata": {},
     "output_type": "execute_result"
    }
   ],
   "source": [
    "nondf = pd.read_csv('/home/luis/mountpoint/arXiv_src/downloaded_log.csv',index_col=0)\n",
    "nondf.append(pd.DataFrame([{'filename':'hola'}]), ignore_index=True)"
   ]
  },
  {
   "cell_type": "code",
   "execution_count": 3,
   "metadata": {},
   "outputs": [
    {
     "data": {
      "text/plain": [
       "True"
      ]
     },
     "execution_count": 3,
     "metadata": {},
     "output_type": "execute_result"
    }
   ],
   "source": [
    "import os\n",
    "os.path.ismount('/mnt')"
   ]
  },
  {
   "cell_type": "code",
   "execution_count": 39,
   "metadata": {},
   "outputs": [
    {
     "data": {
      "text/html": [
       "<div>\n",
       "<style scoped>\n",
       "    .dataframe tbody tr th:only-of-type {\n",
       "        vertical-align: middle;\n",
       "    }\n",
       "\n",
       "    .dataframe tbody tr th {\n",
       "        vertical-align: top;\n",
       "    }\n",
       "\n",
       "    .dataframe thead th {\n",
       "        text-align: right;\n",
       "    }\n",
       "</style>\n",
       "<table border=\"1\" class=\"dataframe\">\n",
       "  <thead>\n",
       "    <tr style=\"text-align: right;\">\n",
       "      <th></th>\n",
       "      <th>filename</th>\n",
       "    </tr>\n",
       "  </thead>\n",
       "  <tbody>\n",
       "    <tr>\n",
       "      <th>0</th>\n",
       "      <td>src/arXiv_src_0001_001.tar</td>\n",
       "    </tr>\n",
       "  </tbody>\n",
       "</table>\n",
       "</div>"
      ],
      "text/plain": [
       "                     filename\n",
       "0  src/arXiv_src_0001_001.tar"
      ]
     },
     "execution_count": 39,
     "metadata": {},
     "output_type": "execute_result"
    }
   ],
   "source": [
    "notdf"
   ]
  },
  {
   "cell_type": "code",
   "execution_count": 4,
   "metadata": {},
   "outputs": [
    {
     "name": "stdout",
     "output_type": "stream",
     "text": [
      "The autoreload extension is already loaded. To reload it, use:\n",
      "  %reload_ext autoreload\n"
     ]
    }
   ],
   "source": [
    "%load_ext autoreload\n",
    "%autoreload 2"
   ]
  },
  {
   "cell_type": "code",
   "execution_count": 25,
   "metadata": {},
   "outputs": [],
   "source": [
    "from dload import DownloadMan, parse_manifest\n",
    "mountpoint = '/mnt/arXiv_src/'\n",
    "allfiles = 'allfiles2.csv'\n",
    "doun = 'downloaded_log.csv'\n",
    "error_log = 'error.log'\n",
    "D = DownloadMan(mountpoint, allfiles, doun, error_log)"
   ]
  },
  {
   "cell_type": "code",
   "execution_count": 238,
   "metadata": {},
   "outputs": [
    {
     "data": {
      "text/plain": [
       "(1, '[0-9]{4}/([0-9]{4})\\\\.([0-9]{4,5})')"
      ]
     },
     "execution_count": 238,
     "metadata": {},
     "output_type": "execute_result"
    }
   ],
   "source": [
    "import process as P\n",
    "import re\n",
    "name = re.match(r'.*([a-z]+)([0-9]{7}).+', '0703/math0703071.gz') \n",
    "name.group(1)\n",
    "P.tar2api2('0703/math0703071.gz', sep='*')\n",
    "P.detect_format('0701/1701.00112')"
   ]
  },
  {
   "cell_type": "code",
   "execution_count": 285,
   "metadata": {},
   "outputs": [
    {
     "ename": "ValueError",
     "evalue": "There is no file at /mnt/arXiv_src/src/arXiv_src_0701_003.tar",
     "output_type": "error",
     "traceback": [
      "\u001b[0;31m---------------------------------------------------------------------------\u001b[0m",
      "\u001b[0;31mValueError\u001b[0m                                Traceback (most recent call last)",
      "\u001b[0;32m<ipython-input-285-368c7d47022b>\u001b[0m in \u001b[0;36m<module>\u001b[0;34m()\u001b[0m\n\u001b[1;32m      1\u001b[0m \u001b[0;32mimport\u001b[0m \u001b[0mprocess\u001b[0m \u001b[0;32mas\u001b[0m \u001b[0mP\u001b[0m\u001b[0;34m\u001b[0m\u001b[0m\n\u001b[0;32m----> 2\u001b[0;31m \u001b[0mxx\u001b[0m \u001b[0;34m=\u001b[0m \u001b[0mP\u001b[0m\u001b[0;34m.\u001b[0m\u001b[0mXtraction\u001b[0m\u001b[0;34m(\u001b[0m\u001b[0;34m'/mnt/arXiv_src/src/arXiv_src_0701_003.tar'\u001b[0m\u001b[0;34m)\u001b[0m\u001b[0;34m\u001b[0m\u001b[0m\n\u001b[0m",
      "\u001b[0;32m~/MisDocumentos/arxivBulkDownload/arxivDownload/process.py\u001b[0m in \u001b[0;36m__init__\u001b[0;34m(self, tar_path, *argv, **kwarg)\u001b[0m\n\u001b[1;32m    111\u001b[0m             \u001b[0mself\u001b[0m\u001b[0;34m.\u001b[0m\u001b[0mtar_path\u001b[0m \u001b[0;34m=\u001b[0m \u001b[0mtar_path\u001b[0m\u001b[0;34m\u001b[0m\u001b[0m\n\u001b[1;32m    112\u001b[0m         \u001b[0;32melse\u001b[0m\u001b[0;34m:\u001b[0m\u001b[0;34m\u001b[0m\u001b[0m\n\u001b[0;32m--> 113\u001b[0;31m             \u001b[0;32mraise\u001b[0m\u001b[0;34m(\u001b[0m\u001b[0mValueError\u001b[0m\u001b[0;34m(\u001b[0m\u001b[0;34m'There is no file at %s'\u001b[0m\u001b[0;34m%\u001b[0m\u001b[0mtar_path\u001b[0m\u001b[0;34m)\u001b[0m\u001b[0;34m)\u001b[0m\u001b[0;34m\u001b[0m\u001b[0m\n\u001b[0m\u001b[1;32m    114\u001b[0m         \u001b[0mprint\u001b[0m\u001b[0;34m(\u001b[0m\u001b[0;34m'untaring file: %s    \\r'\u001b[0m\u001b[0;34m%\u001b[0m\u001b[0mtar_path\u001b[0m\u001b[0;34m,\u001b[0m\u001b[0mend\u001b[0m\u001b[0;34m=\u001b[0m\u001b[0;34m'\\r'\u001b[0m\u001b[0;34m)\u001b[0m\u001b[0;34m\u001b[0m\u001b[0m\n\u001b[1;32m    115\u001b[0m         \u001b[0;32mwith\u001b[0m \u001b[0mtarfile\u001b[0m\u001b[0;34m.\u001b[0m\u001b[0mopen\u001b[0m\u001b[0;34m(\u001b[0m\u001b[0mtar_path\u001b[0m\u001b[0;34m)\u001b[0m \u001b[0;32mas\u001b[0m \u001b[0mfa\u001b[0m\u001b[0;34m:\u001b[0m\u001b[0;34m\u001b[0m\u001b[0m\n",
      "\u001b[0;31mValueError\u001b[0m: There is no file at /mnt/arXiv_src/src/arXiv_src_0701_003.tar"
     ]
    }
   ],
   "source": [
    "import process as P\n",
    "xx = P.Xtraction('/mnt/arXiv_src/src/arXiv_src_0701_003.tar')"
   ]
  },
  {
   "cell_type": "code",
   "execution_count": 284,
   "metadata": {},
   "outputs": [
    {
     "name": "stdout",
     "output_type": "stream",
     "text": [
      "\u001b[Kwriting file 0701/math0701036               \u001b[Kwriting file 0701/math0701046               \u001b[Kwriting file 0701/math0701053               \u001b[Kwriting file 0701/math0701074               \u001b[Kwriting file 0701/math0701091               \u001b[Kwriting file 0701/math0701105               \u001b[Kwriting file 0701/math0701110               \u001b[Kwriting file 0701/math0701115               \u001b[Kwriting file 0701/math0701138               \u001b[Kwriting file 0701/math0701194               \u001b[Kwriting file 0701/math0701213               \u001b[Kwriting file 0701/math0701246               \u001b[Kwriting file 0701/math0701255               \u001b[Kwriting file 0701/math0701257               \u001b[Kwriting file 0701/math0701297               \u001b[Kwriting file 0701/math0701311               \u001b[Kwriting file 0701/math0701312               \u001b[Kwriting file 0701/math0701315               \u001b[Kwriting file 0701/math0701319               \u001b[Kwriting file 0701/math0701336               \u001b[Kwriting file 0701/math0701353               \u001b[Kwriting file 0701/math0701374               \u001b[Kwriting file 0701/math0701376               \u001b[Kwriting file 0701/math0701388               \u001b[Kwriting file 0701/math0701402               \u001b[Kwriting file 0701/math0701406               \u001b[Kwriting file 0701/math0701407               \u001b[Kwriting file 0701/math0701409               \u001b[Kwriting file 0701/math0701423               \u001b[Kwriting file 0701/math0701456               \u001b[Kwriting file 0701/math0701459               \u001b[Kwriting file 0701/math0701466               \u001b[Kwriting file 0701/math0701472               \u001b[Kwriting file 0701/math0701475               \u001b[Kwriting file 0701/math0701479               \u001b[Kwriting file 0701/math0701487               \u001b[Kwriting file 0701/math0701502               \u001b[Kwriting file 0701/math0701507               \u001b[Kwriting file 0701/math0701511               \u001b[Kwriting file 0701/math0701521               \u001b[Kwriting file 0701/math0701522               \u001b[Kwriting file 0701/math0701532               \u001b[Kwriting file 0701/math0701538               \u001b[Kwriting file 0701/math0701546               \u001b[Kwriting file 0701/math0701559               \u001b[Kwriting file 0701/math0701566               \u001b[Kwriting file 0701/math0701590               \u001b[Kwriting file 0701/math0701596               \u001b[Kwriting file 0701/math0701597               \u001b[Kwriting file 0701/math0701620               \u001b[Kwriting file 0701/math0701641               \u001b[Kwriting file 0701/math0701642               \u001b[Kwriting file 0701/math0701662               \u001b[Kwriting file 0701/math0701663               \u001b[Kwriting file 0701/math0701667               \u001b[Kwriting file 0701/math0701669               \u001b[Kwriting file 0701/math0701670               \u001b[Kwriting file 0701/math0701671               \u001b[Kwriting file 0701/math0701672               \u001b[Kwriting file 0701/math0701680               \u001b[Kwriting file 0701/math0701683               \u001b[Kwriting file 0701/math0701720               \u001b[Kwriting file 0701/math0701734               \u001b[Kwriting file 0701/math0701750               \u001b[Kwriting file 0701/math0701782               \u001b[Kwriting file 0701/math0701823               \u001b[Kwriting file 0701/math0701839               \u001b[Kwriting file 0701/math0701867               \u001b[Kwriting file 0701/math0701874               \u001b[Kwriting file 0701/math0701877               \u001b[Kwriting file 0701/math0701885               \u001b[Kwriting file 0701/math0701889               \u001b[Kwriting file 0701/math0701894               \u001b[Kwriting file 0701/math0701895               \u001b[Kwriting file 0701/math0701903               \u001b[Kwriting file 0701/math0701936               successful extraction of  arXiv_src_0701_002.tar      \n"
     ]
    },
    {
     "data": {
      "text/plain": [
       "True"
      ]
     },
     "execution_count": 284,
     "metadata": {},
     "output_type": "execute_result"
    }
   ],
   "source": [
    "xx.extract_tar('../check6', 'math.AG')"
   ]
  },
  {
   "cell_type": "code",
   "execution_count": 192,
   "metadata": {},
   "outputs": [
    {
     "name": "stdout",
     "output_type": "stream",
     "text": [
      "\u001b[Kwriting file 1501/1501.00859.gz               \u001b[Kwriting file 1501/1501.00930.gz               \u001b[Kwriting file 1501/1501.00906.gz               \u001b[Kwriting file 1501/1501.01120.gz               successful extraction of  arXiv_src_1501_002.tar      \n",
      "CPU times: user 5.45 s, sys: 58 ms, total: 5.51 s\n",
      "Wall time: 5.73 s\n"
     ]
    },
    {
     "data": {
      "text/plain": [
       "True"
      ]
     },
     "execution_count": 192,
     "metadata": {},
     "output_type": "execute_result"
    }
   ],
   "source": [
    "%time xx.extract_tar('../check4', 'math.DG')"
   ]
  },
  {
   "cell_type": "code",
   "execution_count": 292,
   "metadata": {},
   "outputs": [
    {
     "data": {
      "text/plain": [
       "['0701/math0701590.gz']"
      ]
     },
     "execution_count": 292,
     "metadata": {},
     "output_type": "execute_result"
    }
   ],
   "source": [
    "[s for s in xx.art_lst if '0701590' in s]"
   ]
  },
  {
   "cell_type": "code",
   "execution_count": 51,
   "metadata": {},
   "outputs": [
    {
     "name": "stdout",
     "output_type": "stream",
     "text": [
      "[0, 1, 2, 3, 4, 5, 6, 7, 8, 9, 10, 11, 12]\n"
     ]
    }
   ],
   "source": [
    "ll = list(range(13))\n",
    "length = 4\n",
    "lal = []\n",
    "i = 0\n",
    "while i*length < len(ll):\n",
    "    seclen = min((i+1)*length, len(ll))\n",
    "    lal += list(range(i*length, seclen))\n",
    "    i += 1\n",
    "print(lal)"
   ]
  },
  {
   "cell_type": "code",
   "execution_count": 105,
   "metadata": {},
   "outputs": [
    {
     "data": {
      "text/plain": [
       "'../mathy/1804_001'"
      ]
     },
     "execution_count": 105,
     "metadata": {},
     "output_type": "execute_result"
    }
   ],
   "source": [
    "xx.path_dir('../mathy')"
   ]
  },
  {
   "cell_type": "code",
   "execution_count": 99,
   "metadata": {},
   "outputs": [
    {
     "ename": "NameError",
     "evalue": "name 'D' is not defined",
     "output_type": "error",
     "traceback": [
      "\u001b[0;31m---------------------------------------------------------------------------\u001b[0m",
      "\u001b[0;31mNameError\u001b[0m                                 Traceback (most recent call last)",
      "\u001b[0;32m<ipython-input-99-86f0eb2ad4c1>\u001b[0m in \u001b[0;36m<module>\u001b[0;34m()\u001b[0m\n\u001b[0;32m----> 1\u001b[0;31m \u001b[0mD\u001b[0m\u001b[0;34m.\u001b[0m\u001b[0mcheck_md5\u001b[0m\u001b[0;34m(\u001b[0m\u001b[0;34m)\u001b[0m\u001b[0;34m\u001b[0m\u001b[0m\n\u001b[0m",
      "\u001b[0;31mNameError\u001b[0m: name 'D' is not defined"
     ]
    }
   ],
   "source": [
    "D.check_md5()"
   ]
  },
  {
   "cell_type": "code",
   "execution_count": 7,
   "metadata": {},
   "outputs": [],
   "source": [
    "new_all = parse_manifest('../arXiv_src_manifest_Oct_2019.xml')"
   ]
  },
  {
   "cell_type": "code",
   "execution_count": 10,
   "metadata": {},
   "outputs": [],
   "source": [
    "new_all.to_csv('../arXiv_src_manifest_Oct_2019.csv')"
   ]
  },
  {
   "cell_type": "code",
   "execution_count": 12,
   "metadata": {},
   "outputs": [
    {
     "data": {
      "text/plain": [
       "'1b621f41cd46b9d3388351ba9e3aefaf'"
      ]
     },
     "execution_count": 12,
     "metadata": {},
     "output_type": "execute_result"
    }
   ],
   "source": [
    "fname = 'src/arXiv_src_1607_002.tar'\n",
    "D.md5sum(fname)"
   ]
  },
  {
   "cell_type": "code",
   "execution_count": 13,
   "metadata": {},
   "outputs": [
    {
     "data": {
      "text/html": [
       "<div>\n",
       "<style scoped>\n",
       "    .dataframe tbody tr th:only-of-type {\n",
       "        vertical-align: middle;\n",
       "    }\n",
       "\n",
       "    .dataframe tbody tr th {\n",
       "        vertical-align: top;\n",
       "    }\n",
       "\n",
       "    .dataframe thead th {\n",
       "        text-align: right;\n",
       "    }\n",
       "</style>\n",
       "<table border=\"1\" class=\"dataframe\">\n",
       "  <thead>\n",
       "    <tr style=\"text-align: right;\">\n",
       "      <th></th>\n",
       "      <th>content_md5sum</th>\n",
       "      <th>filename</th>\n",
       "      <th>first_item</th>\n",
       "      <th>last_item</th>\n",
       "      <th>md5sum</th>\n",
       "      <th>num_items</th>\n",
       "      <th>seq_num</th>\n",
       "      <th>size</th>\n",
       "      <th>timestamp</th>\n",
       "      <th>yymm</th>\n",
       "    </tr>\n",
       "  </thead>\n",
       "  <tbody>\n",
       "    <tr>\n",
       "      <th>1218</th>\n",
       "      <td>8979b2424c6d31c8be791aa675ef05ba</td>\n",
       "      <td>src/arXiv_src_1607_002.tar</td>\n",
       "      <td>1607.00463</td>\n",
       "      <td>1607.00988</td>\n",
       "      <td>a29303e80c4f753e17209a9f6238f2c5</td>\n",
       "      <td>526</td>\n",
       "      <td>2</td>\n",
       "      <td>545216578</td>\n",
       "      <td>2017-07-05 05:41:14</td>\n",
       "      <td>1607</td>\n",
       "    </tr>\n",
       "  </tbody>\n",
       "</table>\n",
       "</div>"
      ],
      "text/plain": [
       "                        content_md5sum                    filename  \\\n",
       "1218  8979b2424c6d31c8be791aa675ef05ba  src/arXiv_src_1607_002.tar   \n",
       "\n",
       "      first_item   last_item                            md5sum  num_items  \\\n",
       "1218  1607.00463  1607.00988  a29303e80c4f753e17209a9f6238f2c5        526   \n",
       "\n",
       "      seq_num       size            timestamp  yymm  \n",
       "1218        2  545216578  2017-07-05 05:41:14  1607  "
      ]
     },
     "execution_count": 13,
     "metadata": {},
     "output_type": "execute_result"
    }
   ],
   "source": [
    "D.allfiles_df[D.allfiles_df.filename == fname]"
   ]
  },
  {
   "cell_type": "code",
   "execution_count": 14,
   "metadata": {},
   "outputs": [
    {
     "data": {
      "text/html": [
       "<div>\n",
       "<style scoped>\n",
       "    .dataframe tbody tr th:only-of-type {\n",
       "        vertical-align: middle;\n",
       "    }\n",
       "\n",
       "    .dataframe tbody tr th {\n",
       "        vertical-align: top;\n",
       "    }\n",
       "\n",
       "    .dataframe thead th {\n",
       "        text-align: right;\n",
       "    }\n",
       "</style>\n",
       "<table border=\"1\" class=\"dataframe\">\n",
       "  <thead>\n",
       "    <tr style=\"text-align: right;\">\n",
       "      <th></th>\n",
       "      <th>content_md5sum</th>\n",
       "      <th>filename</th>\n",
       "      <th>first_item</th>\n",
       "      <th>last_item</th>\n",
       "      <th>md5sum</th>\n",
       "      <th>num_items</th>\n",
       "      <th>seq_num</th>\n",
       "      <th>size</th>\n",
       "      <th>timestamp</th>\n",
       "      <th>yymm</th>\n",
       "    </tr>\n",
       "  </thead>\n",
       "  <tbody>\n",
       "    <tr>\n",
       "      <th>1218</th>\n",
       "      <td>2446538d56ddee4f0e28ee65937b6189</td>\n",
       "      <td>src/arXiv_src_1607_002.tar</td>\n",
       "      <td>1607.00463</td>\n",
       "      <td>1607.00988</td>\n",
       "      <td>1b621f41cd46b9d3388351ba9e3aefaf</td>\n",
       "      <td>526</td>\n",
       "      <td>2</td>\n",
       "      <td>556653925</td>\n",
       "      <td>2018-07-05 06:37:36</td>\n",
       "      <td>1607</td>\n",
       "    </tr>\n",
       "  </tbody>\n",
       "</table>\n",
       "</div>"
      ],
      "text/plain": [
       "                        content_md5sum                    filename  \\\n",
       "1218  2446538d56ddee4f0e28ee65937b6189  src/arXiv_src_1607_002.tar   \n",
       "\n",
       "      first_item   last_item                            md5sum num_items  \\\n",
       "1218  1607.00463  1607.00988  1b621f41cd46b9d3388351ba9e3aefaf       526   \n",
       "\n",
       "     seq_num       size            timestamp  yymm  \n",
       "1218       2  556653925  2018-07-05 06:37:36  1607  "
      ]
     },
     "execution_count": 14,
     "metadata": {},
     "output_type": "execute_result"
    }
   ],
   "source": [
    "new_all[new_all.filename == fname]"
   ]
  },
  {
   "cell_type": "code",
   "execution_count": 22,
   "metadata": {},
   "outputs": [
    {
     "data": {
      "text/plain": [
       "'5c0c499b3cc7c4961e522aa55e8974a5'"
      ]
     },
     "execution_count": 22,
     "metadata": {},
     "output_type": "execute_result"
    }
   ],
   "source": [
    "D.allfiles_df[D.allfiles_df.filename == fname].md5sum.iloc[0]"
   ]
  },
  {
   "cell_type": "code",
   "execution_count": 24,
   "metadata": {},
   "outputs": [
    {
     "data": {
      "text/plain": [
       "116.614211313"
      ]
     },
     "execution_count": 24,
     "metadata": {},
     "output_type": "execute_result"
    }
   ],
   "source": [
    "sum([D.filesize(fn[0]) for fn in list(D.downloaded_df.values)])/1e9"
   ]
  },
  {
   "cell_type": "code",
   "execution_count": null,
   "metadata": {
    "collapsed": true,
    "jupyter": {
     "outputs_hidden": true
    }
   },
   "outputs": [
    {
     "name": "stdout",
     "output_type": "stream",
     "text": [
      "Dowloand of file src/arXiv_src_0003_001.tar successful\n",
      "Dowloand of file src/arXiv_src_0004_001.tar successful\n",
      "Dowloand of file src/arXiv_src_0005_001.tar successful\n",
      "Dowloand of file src/arXiv_src_0006_001.tar successful\n",
      "Dowloand of file src/arXiv_src_0007_001.tar successful\n",
      "Dowloand of file src/arXiv_src_0008_001.tar successful\n",
      "Dowloand of file src/arXiv_src_0009_001.tar successful\n",
      "Dowloand of file src/arXiv_src_0010_001.tar successful\n",
      "Dowloand of file src/arXiv_src_0011_001.tar successful\n",
      "Dowloand of file src/arXiv_src_0012_001.tar successful\n",
      "Dowloand of file src/arXiv_src_0101_001.tar successful\n",
      "Dowloand of file src/arXiv_src_0102_001.tar successful\n",
      "Dowloand of file src/arXiv_src_0103_001.tar successful\n",
      "Dowloand of file src/arXiv_src_0104_001.tar successful\n",
      "Dowloand of file src/arXiv_src_0105_001.tar successful\n",
      "Dowloand of file src/arXiv_src_0106_001.tar successful\n",
      "Dowloand of file src/arXiv_src_0107_001.tar successful\n",
      "Dowloand of file src/arXiv_src_0108_001.tar successful\n",
      "Dowloand of file src/arXiv_src_0109_001.tar successful\n",
      "Dowloand of file src/arXiv_src_0110_001.tar successful\n",
      "Dowloand of file src/arXiv_src_0111_001.tar successful\n",
      "Dowloand of file src/arXiv_src_0112_001.tar successful\n",
      "Dowloand of file src/arXiv_src_0201_001.tar successful\n",
      "Dowloand of file src/arXiv_src_0202_001.tar successful\n",
      "Dowloand of file src/arXiv_src_0203_001.tar successful\n",
      "Dowloand of file src/arXiv_src_0204_001.tar successful\n",
      "Dowloand of file src/arXiv_src_0205_001.tar successful\n",
      "Dowloand of file src/arXiv_src_0206_001.tar successful\n",
      "Dowloand of file src/arXiv_src_0207_001.tar successful\n",
      "Dowloand of file src/arXiv_src_0208_001.tar successful\n",
      "Dowloand of file src/arXiv_src_0209_001.tar successful\n",
      "Dowloand of file src/arXiv_src_0210_001.tar successful\n",
      "Dowloand of file src/arXiv_src_0211_001.tar successful\n",
      "Dowloand of file src/arXiv_src_0212_001.tar successful\n",
      "Dowloand of file src/arXiv_src_0301_001.tar successful\n",
      "Dowloand of file src/arXiv_src_0302_001.tar successful\n",
      "Dowloand of file src/arXiv_src_0303_001.tar successful\n",
      "Dowloand of file src/arXiv_src_0304_001.tar successful\n",
      "Dowloand of file src/arXiv_src_0305_001.tar successful\n",
      "Dowloand of file src/arXiv_src_0306_001.tar successful\n",
      "Dowloand of file src/arXiv_src_0307_001.tar successful\n",
      "Dowloand of file src/arXiv_src_0308_001.tar successful\n",
      "Dowloand of file src/arXiv_src_0309_001.tar successful\n",
      "Dowloand of file src/arXiv_src_0310_001.tar successful\n",
      "Dowloand of file src/arXiv_src_0311_001.tar successful\n",
      "Dowloand of file src/arXiv_src_0312_001.tar successful\n",
      "Dowloand of file src/arXiv_src_0401_001.tar successful\n",
      "Dowloand of file src/arXiv_src_0402_001.tar successful\n",
      "Dowloand of file src/arXiv_src_0403_001.tar successful\n",
      "Dowloand of file src/arXiv_src_0404_001.tar successful\n",
      "Dowloand of file src/arXiv_src_0405_001.tar successful\n",
      "Dowloand of file src/arXiv_src_0406_001.tar successful\n",
      "Dowloand of file src/arXiv_src_0406_002.tar successful\n",
      "Dowloand of file src/arXiv_src_0407_001.tar successful\n",
      "Dowloand of file src/arXiv_src_0407_002.tar successful\n",
      "Dowloand of file src/arXiv_src_0408_001.tar successful\n",
      "Dowloand of file src/arXiv_src_0409_001.tar successful\n",
      "Dowloand of file src/arXiv_src_0409_002.tar successful\n",
      "Dowloand of file src/arXiv_src_0410_001.tar successful\n",
      "Dowloand of file src/arXiv_src_0410_002.tar successful\n",
      "Dowloand of file src/arXiv_src_0411_001.tar successful\n",
      "Dowloand of file src/arXiv_src_0411_002.tar successful\n",
      "Dowloand of file src/arXiv_src_0412_001.tar successful\n",
      "Dowloand of file src/arXiv_src_0412_002.tar successful\n",
      "Dowloand of file src/arXiv_src_0501_001.tar successful\n",
      "Dowloand of file src/arXiv_src_0501_002.tar successful\n",
      "Dowloand of file src/arXiv_src_0502_001.tar successful\n",
      "Dowloand of file src/arXiv_src_0502_002.tar successful\n",
      "Dowloand of file src/arXiv_src_0503_001.tar successful\n",
      "Dowloand of file src/arXiv_src_0503_002.tar successful\n",
      "Dowloand of file src/arXiv_src_0504_001.tar successful\n",
      "Dowloand of file src/arXiv_src_0504_002.tar successful\n",
      "Dowloand of file src/arXiv_src_0505_001.tar successful\n",
      "Dowloand of file src/arXiv_src_0505_002.tar successful\n",
      "Dowloand of file src/arXiv_src_0506_001.tar successful\n",
      "Dowloand of file src/arXiv_src_0506_002.tar successful\n",
      "Dowloand of file src/arXiv_src_0507_001.tar successful\n",
      "Dowloand of file src/arXiv_src_0507_002.tar successful\n",
      "Dowloand of file src/arXiv_src_0508_001.tar successful\n",
      "Dowloand of file src/arXiv_src_0508_002.tar successful\n"
     ]
    }
   ],
   "source": [
    "keep_going = 0\n",
    "while keep_going == 0:\n",
    "    keep_going = D.get_next()\n",
    "    if D.check_md5():\n",
    "        pass\n",
    "    else:\n",
    "        break"
   ]
  },
  {
   "cell_type": "code",
   "execution_count": 45,
   "metadata": {},
   "outputs": [
    {
     "ename": "AttributeError",
     "evalue": "'NoneType' object has no attribute 'text'",
     "output_type": "error",
     "traceback": [
      "\u001b[0;31m---------------------------------------------------------------------------\u001b[0m",
      "\u001b[0;31mAttributeError\u001b[0m                            Traceback (most recent call last)",
      "\u001b[0;32m<ipython-input-45-4a7c3b7db0bc>\u001b[0m in \u001b[0;36m<module>\u001b[0;34m()\u001b[0m\n\u001b[1;32m      4\u001b[0m \u001b[0mroot\u001b[0m \u001b[0;34m=\u001b[0m \u001b[0mET\u001b[0m\u001b[0;34m.\u001b[0m\u001b[0mfromstring\u001b[0m\u001b[0;34m(\u001b[0m\u001b[0mdata\u001b[0m\u001b[0;34m)\u001b[0m\u001b[0;34m\u001b[0m\u001b[0m\n\u001b[1;32m      5\u001b[0m \u001b[0mres\u001b[0m \u001b[0;34m=\u001b[0m \u001b[0mroot\u001b[0m\u001b[0;34m.\u001b[0m\u001b[0mgetchildren\u001b[0m\u001b[0;34m(\u001b[0m\u001b[0;34m)\u001b[0m\u001b[0;34m[\u001b[0m\u001b[0;34m-\u001b[0m\u001b[0;36m1\u001b[0m\u001b[0;34m]\u001b[0m\u001b[0;34m\u001b[0m\u001b[0m\n\u001b[0;32m----> 6\u001b[0;31m \u001b[0mres\u001b[0m\u001b[0;34m.\u001b[0m\u001b[0mfind\u001b[0m\u001b[0;34m(\u001b[0m\u001b[0;34m'title'\u001b[0m\u001b[0;34m)\u001b[0m\u001b[0;34m.\u001b[0m\u001b[0mtext\u001b[0m\u001b[0;34m\u001b[0m\u001b[0m\n\u001b[0m",
      "\u001b[0;31mAttributeError\u001b[0m: 'NoneType' object has no attribute 'text'"
     ]
    }
   ],
   "source": [
    "import urllib.request as req\n",
    "url = 'http://export.arxiv.org/api/query?search_query=id:1804.00020&start=0&max_results=5'\n",
    "data = req.urlopen(url).read()\n",
    "root = ET.fromstring(data)\n",
    "res = root.getchildren()[-1]\n",
    "res.find('title').text"
   ]
  },
  {
   "cell_type": "code",
   "execution_count": 38,
   "metadata": {
    "collapsed": true,
    "jupyter": {
     "outputs_hidden": true
    }
   },
   "outputs": [
    {
     "name": "stdout",
     "output_type": "stream",
     "text": [
      "{http://www.w3.org/2005/Atom}id\n",
      "{http://www.w3.org/2005/Atom}updated\n",
      "{http://www.w3.org/2005/Atom}published\n",
      "{http://www.w3.org/2005/Atom}title\n",
      "{http://www.w3.org/2005/Atom}summary\n",
      "{http://www.w3.org/2005/Atom}author\n",
      "{http://www.w3.org/2005/Atom}author\n",
      "{http://arxiv.org/schemas/atom}comment\n",
      "{http://www.w3.org/2005/Atom}link\n",
      "{http://www.w3.org/2005/Atom}link\n",
      "{http://arxiv.org/schemas/atom}primary_category\n",
      "{http://www.w3.org/2005/Atom}category\n"
     ]
    }
   ],
   "source": [
    "for el in res.getchildren():\n",
    "    print(el.tag)"
   ]
  },
  {
   "cell_type": "code",
   "execution_count": 4,
   "metadata": {},
   "outputs": [],
   "source": [
    "import sys\n",
    "sys.path.insert(0,'arxiv.py/')\n",
    "import arxiv"
   ]
  },
  {
   "cell_type": "code",
   "execution_count": 37,
   "metadata": {},
   "outputs": [
    {
     "data": {
      "text/plain": [
       "1"
      ]
     },
     "execution_count": 37,
     "metadata": {},
     "output_type": "execute_result"
    }
   ],
   "source": [
    "import arxiv\n",
    "D = arxiv.query(id_list=['1601.00690'])\n",
    "len(D)\n",
    "#for d in D[0].keys():\n",
    "#    print(d,D[0][d])"
   ]
  },
  {
   "cell_type": "code",
   "execution_count": 38,
   "metadata": {
    "collapsed": true,
    "jupyter": {
     "outputs_hidden": true
    }
   },
   "outputs": [
    {
     "name": "stdout",
     "output_type": "stream",
     "text": [
      "id  ::  http://arxiv.org/abs/1601.00690v1\n",
      "guidislink  ::  True\n",
      "updated  ::  2016-01-04T22:34:29Z\n",
      "updated_parsed  ::  time.struct_time(tm_year=2016, tm_mon=1, tm_mday=4, tm_hour=22, tm_min=34, tm_sec=29, tm_wday=0, tm_yday=4, tm_isdst=0)\n",
      "published  ::  2016-01-04T22:34:29Z\n",
      "published_parsed  ::  time.struct_time(tm_year=2016, tm_mon=1, tm_mday=4, tm_hour=22, tm_min=34, tm_sec=29, tm_wday=0, tm_yday=4, tm_isdst=0)\n",
      "title  ::  Lecture notes on the dynamics of the Weil-Petersson flow\n",
      "title_detail  ::  {'type': 'text/plain', 'language': None, 'base': 'http://export.arxiv.org/api/query?search_query=&id_list=1601.00690&start=0&max_results=10&sortBy=relevance&sortOrder=descending', 'value': 'Lecture notes on the dynamics of the Weil-Petersson flow'}\n",
      "summary  ::  This text grew out of some lecture notes prepared by the author in the\n",
      "occasion of a series of three lectures during the workshop \"Young\n",
      "mathematicians in dynamical systems\" organized by Francoise Dal'bo, Louis\n",
      "Funar, Boris Hasselblatt and Barbara Schapira in November 2013 at CIRM,\n",
      "Marseille, France.\n",
      "  The three lectures at the origin of this text were part of a minicourse by\n",
      "Keith Burns, Boris Hasselblatt and the author around the recent theorem of\n",
      "Burns-Masur-Wilkinson on the ergodicity of the Weil-Petersson (WP) geodesic\n",
      "flow.\n",
      "  The goal of these notes is the same of the author's lectures: we cover some\n",
      "of the aspects related to moduli spaces of Riemann surfaces (and Teichmueller\n",
      "theory) in the Burns-Masur-Wilkinson's proof of the ergodicity of WP flow.\n",
      "summary_detail  ::  {'type': 'text/plain', 'language': None, 'base': 'http://export.arxiv.org/api/query?search_query=&id_list=1601.00690&start=0&max_results=10&sortBy=relevance&sortOrder=descending', 'value': 'This text grew out of some lecture notes prepared by the author in the\\noccasion of a series of three lectures during the workshop \"Young\\nmathematicians in dynamical systems\" organized by Francoise Dal\\'bo, Louis\\nFunar, Boris Hasselblatt and Barbara Schapira in November 2013 at CIRM,\\nMarseille, France.\\n  The three lectures at the origin of this text were part of a minicourse by\\nKeith Burns, Boris Hasselblatt and the author around the recent theorem of\\nBurns-Masur-Wilkinson on the ergodicity of the Weil-Petersson (WP) geodesic\\nflow.\\n  The goal of these notes is the same of the author\\'s lectures: we cover some\\nof the aspects related to moduli spaces of Riemann surfaces (and Teichmueller\\ntheory) in the Burns-Masur-Wilkinson\\'s proof of the ergodicity of WP flow.'}\n",
      "authors  ::  ['Carlos Matheus']\n",
      "author_detail  ::  {'name': 'Carlos Matheus'}\n",
      "author  ::  Carlos Matheus\n",
      "arxiv_comment  ::  73 pages, 20 figures. Lecture notes written up in 2014 after a\n",
      "  minicourse delivered at CIRM during the term of Boris Hasselblatt's\n",
      "  Jean-Morlet Chair. Submitted to Springer's \"CIRM Jean-Morlet Chair subseries\"\n",
      "  (http://www.springer.com/series/13828?detailsPage=free)\n",
      "links  ::  [{'href': 'http://arxiv.org/abs/1601.00690v1', 'rel': 'alternate', 'type': 'text/html'}, {'title': 'pdf', 'href': 'http://arxiv.org/pdf/1601.00690v1', 'rel': 'related', 'type': 'application/pdf'}]\n",
      "arxiv_primary_category  ::  {'term': 'math.DS', 'scheme': 'http://arxiv.org/schemas/atom'}\n",
      "tags  ::  [{'term': 'math.DS', 'scheme': 'http://arxiv.org/schemas/atom', 'label': None}]\n",
      "pdf_url  ::  http://arxiv.org/pdf/1601.00690v1\n",
      "affiliation  ::  None\n",
      "arxiv_url  ::  http://arxiv.org/abs/1601.00690v1\n",
      "journal_reference  ::  None\n",
      "doi  ::  None\n"
     ]
    }
   ],
   "source": [
    "for k in D[0].keys():\n",
    "    print(k , ' :: ' , D[0][k])"
   ]
  },
  {
   "cell_type": "code",
   "execution_count": 32,
   "metadata": {},
   "outputs": [
    {
     "data": {
      "text/plain": [
       "90"
      ]
     },
     "execution_count": 32,
     "metadata": {},
     "output_type": "execute_result"
    }
   ],
   "source": [
    "len(repr(D[0]['tags']))"
   ]
  },
  {
   "cell_type": "code",
   "execution_count": 29,
   "metadata": {
    "collapsed": true,
    "jupyter": {
     "outputs_hidden": true
    }
   },
   "outputs": [
    {
     "name": "stdout",
     "output_type": "stream",
     "text": [
      "id http://arxiv.org/abs/1601.00105v2\n",
      "guidislink True\n",
      "updated 2017-04-17T15:46:45Z\n",
      "updated_parsed time.struct_time(tm_year=2017, tm_mon=4, tm_mday=17, tm_hour=15, tm_min=46, tm_sec=45, tm_wday=0, tm_yday=107, tm_isdst=0)\n",
      "published 2016-01-01T19:28:20Z\n",
      "published_parsed time.struct_time(tm_year=2016, tm_mon=1, tm_mday=1, tm_hour=19, tm_min=28, tm_sec=20, tm_wday=4, tm_yday=1, tm_isdst=0)\n",
      "title Long-Time Predictability in Disordered Spin Systems Following a Deep\n",
      "  Quench\n",
      "title_detail {'type': 'text/plain', 'language': None, 'base': 'http://export.arxiv.org/api/query?search_query=&id_list=1601.00105&start=0&max_results=10&sortBy=relevance&sortOrder=descending', 'value': 'Long-Time Predictability in Disordered Spin Systems Following a Deep\\n  Quench'}\n",
      "summary We study the problem of predictability, or \"nature vs. nurture\", in several\n",
      "disordered Ising spin systems evolving at zero temperature from a random\n",
      "initial state: how much does the final state depend on the information\n",
      "contained in the initial state, and how much depends on the detailed history of\n",
      "the system? Our numerical studies of the \"dynamical order parameter\" in\n",
      "Edwards-Anderson Ising spin glasses and random ferromagnets indicate that the\n",
      "influence of the initial state decays as dimension increases. Similarly, this\n",
      "same order parameter for the Sherrington-Kirkpatrick infinite-range spin glass\n",
      "indicates that this information decays as the number of spins increases. Based\n",
      "on these results, we conjecture that the influence of the initial state on the\n",
      "final state decays to zero in finite-dimensional random-bond spin systems as\n",
      "dimension goes to infinity, regardless of the presence of frustration. We also\n",
      "study the rate at which spins \"freeze out\" to a final state as a function of\n",
      "dimensionality and number of spins; here the results indicate that the number\n",
      "of \"active\" spins at long times increases with dimension (for short-range\n",
      "systems) or number of spins (for infinite-range systems). We provide\n",
      "theoretical arguments to support these conjectures, and also study analytically\n",
      "several mean-field models: the random energy model, the uniform Curie-Weiss\n",
      "ferromagnet, and the disordered Curie-Weiss ferromagnet. We find that for these\n",
      "models, the information contained in the initial state does not decay in the\n",
      "thermodynamic limit-- in fact, it fully determines the final state. Unlike in\n",
      "short-range models, the presence of frustration in mean-field models\n",
      "dramatically alters the dynamical behavior with respect to the issue of\n",
      "predictability.\n",
      "summary_detail {'type': 'text/plain', 'language': None, 'base': 'http://export.arxiv.org/api/query?search_query=&id_list=1601.00105&start=0&max_results=10&sortBy=relevance&sortOrder=descending', 'value': 'We study the problem of predictability, or \"nature vs. nurture\", in several\\ndisordered Ising spin systems evolving at zero temperature from a random\\ninitial state: how much does the final state depend on the information\\ncontained in the initial state, and how much depends on the detailed history of\\nthe system? Our numerical studies of the \"dynamical order parameter\" in\\nEdwards-Anderson Ising spin glasses and random ferromagnets indicate that the\\ninfluence of the initial state decays as dimension increases. Similarly, this\\nsame order parameter for the Sherrington-Kirkpatrick infinite-range spin glass\\nindicates that this information decays as the number of spins increases. Based\\non these results, we conjecture that the influence of the initial state on the\\nfinal state decays to zero in finite-dimensional random-bond spin systems as\\ndimension goes to infinity, regardless of the presence of frustration. We also\\nstudy the rate at which spins \"freeze out\" to a final state as a function of\\ndimensionality and number of spins; here the results indicate that the number\\nof \"active\" spins at long times increases with dimension (for short-range\\nsystems) or number of spins (for infinite-range systems). We provide\\ntheoretical arguments to support these conjectures, and also study analytically\\nseveral mean-field models: the random energy model, the uniform Curie-Weiss\\nferromagnet, and the disordered Curie-Weiss ferromagnet. We find that for these\\nmodels, the information contained in the initial state does not decay in the\\nthermodynamic limit-- in fact, it fully determines the final state. Unlike in\\nshort-range models, the presence of frustration in mean-field models\\ndramatically alters the dynamical behavior with respect to the issue of\\npredictability.'}\n",
      "authors ['J. Ye', 'R. Gheissari', 'J. Machta', 'C. M. Newman', 'D. L. Stein']\n",
      "author_detail {'name': 'D. L. Stein'}\n",
      "author D. L. Stein\n",
      "links [{'title': 'doi', 'href': 'http://dx.doi.org/10.1103/PhysRevE.95.042101', 'rel': 'related', 'type': 'text/html'}, {'href': 'http://arxiv.org/abs/1601.00105v2', 'rel': 'alternate', 'type': 'text/html'}, {'title': 'pdf', 'href': 'http://arxiv.org/pdf/1601.00105v2', 'rel': 'related', 'type': 'application/pdf'}]\n",
      "arxiv_comment 14 pages, 10 figures\n",
      "arxiv_primary_category {'term': 'cond-mat.stat-mech', 'scheme': 'http://arxiv.org/schemas/atom'}\n",
      "tags [{'term': 'cond-mat.stat-mech', 'scheme': 'http://arxiv.org/schemas/atom', 'label': None}]\n",
      "pdf_url http://arxiv.org/pdf/1601.00105v2\n",
      "affiliation None\n",
      "arxiv_url http://arxiv.org/abs/1601.00105v2\n",
      "journal_reference Phys. Rev. E 95, 042101 (2017)\n",
      "doi 10.1103/PhysRevE.95.042101\n"
     ]
    }
   ],
   "source": [
    "# arxiv API usage\n",
    "D = arxiv.query(id_list=['1601.00105'])\n",
    "for k in D[0].keys():\n",
    "    print(k,D[0][k])"
   ]
  },
  {
   "cell_type": "code",
   "execution_count": 221,
   "metadata": {},
   "outputs": [
    {
     "data": {
      "text/plain": [
       "[{'href': 'http://arxiv.org/abs/1805.02773v1',\n",
       "  'rel': 'alternate',\n",
       "  'type': 'text/html'},\n",
       " {'title': 'pdf',\n",
       "  'href': 'http://arxiv.org/pdf/1805.02773v1',\n",
       "  'rel': 'related',\n",
       "  'type': 'application/pdf'}]"
      ]
     },
     "execution_count": 221,
     "metadata": {},
     "output_type": "execute_result"
    }
   ],
   "source": [
    "arxiv.query(id_list=['1805.02773'])[0].links"
   ]
  },
  {
   "cell_type": "code",
   "execution_count": 26,
   "metadata": {},
   "outputs": [],
   "source": [
    "year_month = '1804.'\n",
    "id_list = [year_month + str(k).zfill(5) for k in range(1,263)]\n",
    "dicts = arxiv.query(id_list=id_list, max_results=300)"
   ]
  },
  {
   "cell_type": "code",
   "execution_count": 89,
   "metadata": {
    "collapsed": true,
    "jupyter": {
     "outputs_hidden": true
    }
   },
   "outputs": [
    {
     "data": {
      "text/plain": [
       "[{'id': 'http://arxiv.org/abs/1804.00018v1',\n",
       "  'guidislink': True,\n",
       "  'updated': '2018-03-30T18:11:49Z',\n",
       "  'updated_parsed': time.struct_time(tm_year=2018, tm_mon=3, tm_mday=30, tm_hour=18, tm_min=11, tm_sec=49, tm_wday=4, tm_yday=89, tm_isdst=0),\n",
       "  'published': '2018-03-30T18:11:49Z',\n",
       "  'published_parsed': time.struct_time(tm_year=2018, tm_mon=3, tm_mday=30, tm_hour=18, tm_min=11, tm_sec=49, tm_wday=4, tm_yday=89, tm_isdst=0),\n",
       "  'title': 'Uniqueness of convex ancient solutions to mean curvature flow in higher\\n  dimensions',\n",
       "  'title_detail': {'type': 'text/plain',\n",
       "   'language': None,\n",
       "   'base': 'http://export.arxiv.org/api/query?search_query=&id_list=1804.00001%2C1804.00002%2C1804.00003%2C1804.00004%2C1804.00005%2C1804.00006%2C1804.00007%2C1804.00008%2C1804.00009%2C1804.00010%2C1804.00011%2C1804.00012%2C1804.00013%2C1804.00014%2C1804.00015%2C1804.00016%2C1804.00017%2C1804.00018%2C1804.00019%2C1804.00020%2C1804.00021%2C1804.00022%2C1804.00023%2C1804.00024%2C1804.00025%2C1804.00026%2C1804.00027%2C1804.00028%2C1804.00029%2C1804.00030%2C1804.00031%2C1804.00032%2C1804.00033%2C1804.00034%2C1804.00035%2C1804.00036%2C1804.00037%2C1804.00038%2C1804.00039%2C1804.00040%2C1804.00041%2C1804.00042%2C1804.00043%2C1804.00044%2C1804.00045%2C1804.00046%2C1804.00047%2C1804.00048%2C1804.00049%2C1804.00050%2C1804.00051%2C1804.00052%2C1804.00053%2C1804.00054%2C1804.00055%2C1804.00056%2C1804.00057%2C1804.00058%2C1804.00059%2C1804.00060%2C1804.00061%2C1804.00062%2C1804.00063%2C1804.00064%2C1804.00065%2C1804.00066%2C1804.00067%2C1804.00068%2C1804.00069%2C1804.00070%2C1804.00071%2C1804.00072%2C1804.00073%2C1804.00074%2C1804.00075%2C1804.00076%2C1804.00077%2C1804.00078%2C1804.00079%2C1804.00080%2C1804.00081%2C1804.00082%2C1804.00083%2C1804.00084%2C1804.00085%2C1804.00086%2C1804.00087%2C1804.00088%2C1804.00089%2C1804.00090%2C1804.00091%2C1804.00092%2C1804.00093%2C1804.00094%2C1804.00095%2C1804.00096%2C1804.00097%2C1804.00098%2C1804.00099%2C1804.00100%2C1804.00101%2C1804.00102%2C1804.00103%2C1804.00104%2C1804.00105%2C1804.00106%2C1804.00107%2C1804.00108%2C1804.00109%2C1804.00110%2C1804.00111%2C1804.00112%2C1804.00113%2C1804.00114%2C1804.00115%2C1804.00116%2C1804.00117%2C1804.00118%2C1804.00119%2C1804.00120%2C1804.00121%2C1804.00122%2C1804.00123%2C1804.00124%2C1804.00125%2C1804.00126%2C1804.00127%2C1804.00128%2C1804.00129%2C1804.00130%2C1804.00131%2C1804.00132%2C1804.00133%2C1804.00134%2C1804.00135%2C1804.00136%2C1804.00137%2C1804.00138%2C1804.00139%2C1804.00140%2C1804.00141%2C1804.00142%2C1804.00143%2C1804.00144%2C1804.00145%2C1804.00146%2C1804.00147%2C1804.00148%2C1804.00149%2C1804.00150%2C1804.00151%2C1804.00152%2C1804.00153%2C1804.00154%2C1804.00155%2C1804.00156%2C1804.00157%2C1804.00158%2C1804.00159%2C1804.00160%2C1804.00161%2C1804.00162%2C1804.00163%2C1804.00164%2C1804.00165%2C1804.00166%2C1804.00167%2C1804.00168%2C1804.00169%2C1804.00170%2C1804.00171%2C1804.00172%2C1804.00173%2C1804.00174%2C1804.00175%2C1804.00176%2C1804.00177%2C1804.00178%2C1804.00179%2C1804.00180%2C1804.00181%2C1804.00182%2C1804.00183%2C1804.00184%2C1804.00185%2C1804.00186%2C1804.00187%2C1804.00188%2C1804.00189%2C1804.00190%2C1804.00191%2C1804.00192%2C1804.00193%2C1804.00194%2C1804.00195%2C1804.00196%2C1804.00197%2C1804.00198%2C1804.00199%2C1804.00200%2C1804.00201%2C1804.00202%2C1804.00203%2C1804.00204%2C1804.00205%2C1804.00206%2C1804.00207%2C1804.00208%2C1804.00209%2C1804.00210%2C1804.00211%2C1804.00212%2C1804.00213%2C1804.00214%2C1804.00215%2C1804.00216%2C1804.00217%2C1804.00218%2C1804.00219%2C1804.00220%2C1804.00221%2C1804.00222%2C1804.00223%2C1804.00224%2C1804.00225%2C1804.00226%2C1804.00227%2C1804.00228%2C1804.00229%2C1804.00230%2C1804.00231%2C1804.00232%2C1804.00233%2C1804.00234%2C1804.00235%2C1804.00236%2C1804.00237%2C1804.00238%2C1804.00239%2C1804.00240%2C1804.00241%2C1804.00242%2C1804.00243%2C1804.00244%2C1804.00245%2C1804.00246%2C1804.00247%2C1804.00248%2C1804.00249%2C1804.00250%2C1804.00251%2C1804.00252%2C1804.00253%2C1804.00254%2C1804.00255%2C1804.00256%2C1804.00257%2C1804.00258%2C1804.00259%2C1804.00260%2C1804.00261%2C1804.00262&start=0&max_results=300&sortBy=relevance&sortOrder=descending',\n",
       "   'value': 'Uniqueness of convex ancient solutions to mean curvature flow in higher\\n  dimensions'},\n",
       "  'summary': 'In this paper, we consider noncompact ancient solutions to the mean curvature\\nflow in $\\\\mathbb{R}^{n+1}$ ($n \\\\geq 3$) which are strictly convex, uniformly\\ntwo-convex, and noncollapsed. We prove that such an ancient solution is a\\nrotationally symmetric translating soliton.',\n",
       "  'summary_detail': {'type': 'text/plain',\n",
       "   'language': None,\n",
       "   'base': 'http://export.arxiv.org/api/query?search_query=&id_list=1804.00001%2C1804.00002%2C1804.00003%2C1804.00004%2C1804.00005%2C1804.00006%2C1804.00007%2C1804.00008%2C1804.00009%2C1804.00010%2C1804.00011%2C1804.00012%2C1804.00013%2C1804.00014%2C1804.00015%2C1804.00016%2C1804.00017%2C1804.00018%2C1804.00019%2C1804.00020%2C1804.00021%2C1804.00022%2C1804.00023%2C1804.00024%2C1804.00025%2C1804.00026%2C1804.00027%2C1804.00028%2C1804.00029%2C1804.00030%2C1804.00031%2C1804.00032%2C1804.00033%2C1804.00034%2C1804.00035%2C1804.00036%2C1804.00037%2C1804.00038%2C1804.00039%2C1804.00040%2C1804.00041%2C1804.00042%2C1804.00043%2C1804.00044%2C1804.00045%2C1804.00046%2C1804.00047%2C1804.00048%2C1804.00049%2C1804.00050%2C1804.00051%2C1804.00052%2C1804.00053%2C1804.00054%2C1804.00055%2C1804.00056%2C1804.00057%2C1804.00058%2C1804.00059%2C1804.00060%2C1804.00061%2C1804.00062%2C1804.00063%2C1804.00064%2C1804.00065%2C1804.00066%2C1804.00067%2C1804.00068%2C1804.00069%2C1804.00070%2C1804.00071%2C1804.00072%2C1804.00073%2C1804.00074%2C1804.00075%2C1804.00076%2C1804.00077%2C1804.00078%2C1804.00079%2C1804.00080%2C1804.00081%2C1804.00082%2C1804.00083%2C1804.00084%2C1804.00085%2C1804.00086%2C1804.00087%2C1804.00088%2C1804.00089%2C1804.00090%2C1804.00091%2C1804.00092%2C1804.00093%2C1804.00094%2C1804.00095%2C1804.00096%2C1804.00097%2C1804.00098%2C1804.00099%2C1804.00100%2C1804.00101%2C1804.00102%2C1804.00103%2C1804.00104%2C1804.00105%2C1804.00106%2C1804.00107%2C1804.00108%2C1804.00109%2C1804.00110%2C1804.00111%2C1804.00112%2C1804.00113%2C1804.00114%2C1804.00115%2C1804.00116%2C1804.00117%2C1804.00118%2C1804.00119%2C1804.00120%2C1804.00121%2C1804.00122%2C1804.00123%2C1804.00124%2C1804.00125%2C1804.00126%2C1804.00127%2C1804.00128%2C1804.00129%2C1804.00130%2C1804.00131%2C1804.00132%2C1804.00133%2C1804.00134%2C1804.00135%2C1804.00136%2C1804.00137%2C1804.00138%2C1804.00139%2C1804.00140%2C1804.00141%2C1804.00142%2C1804.00143%2C1804.00144%2C1804.00145%2C1804.00146%2C1804.00147%2C1804.00148%2C1804.00149%2C1804.00150%2C1804.00151%2C1804.00152%2C1804.00153%2C1804.00154%2C1804.00155%2C1804.00156%2C1804.00157%2C1804.00158%2C1804.00159%2C1804.00160%2C1804.00161%2C1804.00162%2C1804.00163%2C1804.00164%2C1804.00165%2C1804.00166%2C1804.00167%2C1804.00168%2C1804.00169%2C1804.00170%2C1804.00171%2C1804.00172%2C1804.00173%2C1804.00174%2C1804.00175%2C1804.00176%2C1804.00177%2C1804.00178%2C1804.00179%2C1804.00180%2C1804.00181%2C1804.00182%2C1804.00183%2C1804.00184%2C1804.00185%2C1804.00186%2C1804.00187%2C1804.00188%2C1804.00189%2C1804.00190%2C1804.00191%2C1804.00192%2C1804.00193%2C1804.00194%2C1804.00195%2C1804.00196%2C1804.00197%2C1804.00198%2C1804.00199%2C1804.00200%2C1804.00201%2C1804.00202%2C1804.00203%2C1804.00204%2C1804.00205%2C1804.00206%2C1804.00207%2C1804.00208%2C1804.00209%2C1804.00210%2C1804.00211%2C1804.00212%2C1804.00213%2C1804.00214%2C1804.00215%2C1804.00216%2C1804.00217%2C1804.00218%2C1804.00219%2C1804.00220%2C1804.00221%2C1804.00222%2C1804.00223%2C1804.00224%2C1804.00225%2C1804.00226%2C1804.00227%2C1804.00228%2C1804.00229%2C1804.00230%2C1804.00231%2C1804.00232%2C1804.00233%2C1804.00234%2C1804.00235%2C1804.00236%2C1804.00237%2C1804.00238%2C1804.00239%2C1804.00240%2C1804.00241%2C1804.00242%2C1804.00243%2C1804.00244%2C1804.00245%2C1804.00246%2C1804.00247%2C1804.00248%2C1804.00249%2C1804.00250%2C1804.00251%2C1804.00252%2C1804.00253%2C1804.00254%2C1804.00255%2C1804.00256%2C1804.00257%2C1804.00258%2C1804.00259%2C1804.00260%2C1804.00261%2C1804.00262&start=0&max_results=300&sortBy=relevance&sortOrder=descending',\n",
       "   'value': 'In this paper, we consider noncompact ancient solutions to the mean curvature\\nflow in $\\\\mathbb{R}^{n+1}$ ($n \\\\geq 3$) which are strictly convex, uniformly\\ntwo-convex, and noncollapsed. We prove that such an ancient solution is a\\nrotationally symmetric translating soliton.'},\n",
       "  'authors': ['S. Brendle', 'K. Choi'],\n",
       "  'author_detail': {'name': 'K. Choi'},\n",
       "  'author': 'K. Choi',\n",
       "  'arxiv_comment': 'In this paper, we extend the result in arxiv:1711.00823 to higher\\n  dimensions, assuming uniform two-convex',\n",
       "  'links': [{'href': 'http://arxiv.org/abs/1804.00018v1',\n",
       "    'rel': 'alternate',\n",
       "    'type': 'text/html'},\n",
       "   {'title': 'pdf',\n",
       "    'href': 'http://arxiv.org/pdf/1804.00018v1',\n",
       "    'rel': 'related',\n",
       "    'type': 'application/pdf'}],\n",
       "  'arxiv_primary_category': {'term': 'math.DG',\n",
       "   'scheme': 'http://arxiv.org/schemas/atom'},\n",
       "  'tags': [{'term': 'math.DG',\n",
       "    'scheme': 'http://arxiv.org/schemas/atom',\n",
       "    'label': None}],\n",
       "  'pdf_url': 'http://arxiv.org/pdf/1804.00018v1',\n",
       "  'affiliation': 'None',\n",
       "  'arxiv_url': 'http://arxiv.org/abs/1804.00018v1',\n",
       "  'journal_reference': None,\n",
       "  'doi': None},\n",
       " {'id': 'http://arxiv.org/abs/1804.00193v1',\n",
       "  'guidislink': True,\n",
       "  'updated': '2018-03-31T16:44:00Z',\n",
       "  'updated_parsed': time.struct_time(tm_year=2018, tm_mon=3, tm_mday=31, tm_hour=16, tm_min=44, tm_sec=0, tm_wday=5, tm_yday=90, tm_isdst=0),\n",
       "  'published': '2018-03-31T16:44:00Z',\n",
       "  'published_parsed': time.struct_time(tm_year=2018, tm_mon=3, tm_mday=31, tm_hour=16, tm_min=44, tm_sec=0, tm_wday=5, tm_yday=90, tm_isdst=0),\n",
       "  'title': 'An almost splitting theorem for a warped product space',\n",
       "  'title_detail': {'type': 'text/plain',\n",
       "   'language': None,\n",
       "   'base': 'http://export.arxiv.org/api/query?search_query=&id_list=1804.00001%2C1804.00002%2C1804.00003%2C1804.00004%2C1804.00005%2C1804.00006%2C1804.00007%2C1804.00008%2C1804.00009%2C1804.00010%2C1804.00011%2C1804.00012%2C1804.00013%2C1804.00014%2C1804.00015%2C1804.00016%2C1804.00017%2C1804.00018%2C1804.00019%2C1804.00020%2C1804.00021%2C1804.00022%2C1804.00023%2C1804.00024%2C1804.00025%2C1804.00026%2C1804.00027%2C1804.00028%2C1804.00029%2C1804.00030%2C1804.00031%2C1804.00032%2C1804.00033%2C1804.00034%2C1804.00035%2C1804.00036%2C1804.00037%2C1804.00038%2C1804.00039%2C1804.00040%2C1804.00041%2C1804.00042%2C1804.00043%2C1804.00044%2C1804.00045%2C1804.00046%2C1804.00047%2C1804.00048%2C1804.00049%2C1804.00050%2C1804.00051%2C1804.00052%2C1804.00053%2C1804.00054%2C1804.00055%2C1804.00056%2C1804.00057%2C1804.00058%2C1804.00059%2C1804.00060%2C1804.00061%2C1804.00062%2C1804.00063%2C1804.00064%2C1804.00065%2C1804.00066%2C1804.00067%2C1804.00068%2C1804.00069%2C1804.00070%2C1804.00071%2C1804.00072%2C1804.00073%2C1804.00074%2C1804.00075%2C1804.00076%2C1804.00077%2C1804.00078%2C1804.00079%2C1804.00080%2C1804.00081%2C1804.00082%2C1804.00083%2C1804.00084%2C1804.00085%2C1804.00086%2C1804.00087%2C1804.00088%2C1804.00089%2C1804.00090%2C1804.00091%2C1804.00092%2C1804.00093%2C1804.00094%2C1804.00095%2C1804.00096%2C1804.00097%2C1804.00098%2C1804.00099%2C1804.00100%2C1804.00101%2C1804.00102%2C1804.00103%2C1804.00104%2C1804.00105%2C1804.00106%2C1804.00107%2C1804.00108%2C1804.00109%2C1804.00110%2C1804.00111%2C1804.00112%2C1804.00113%2C1804.00114%2C1804.00115%2C1804.00116%2C1804.00117%2C1804.00118%2C1804.00119%2C1804.00120%2C1804.00121%2C1804.00122%2C1804.00123%2C1804.00124%2C1804.00125%2C1804.00126%2C1804.00127%2C1804.00128%2C1804.00129%2C1804.00130%2C1804.00131%2C1804.00132%2C1804.00133%2C1804.00134%2C1804.00135%2C1804.00136%2C1804.00137%2C1804.00138%2C1804.00139%2C1804.00140%2C1804.00141%2C1804.00142%2C1804.00143%2C1804.00144%2C1804.00145%2C1804.00146%2C1804.00147%2C1804.00148%2C1804.00149%2C1804.00150%2C1804.00151%2C1804.00152%2C1804.00153%2C1804.00154%2C1804.00155%2C1804.00156%2C1804.00157%2C1804.00158%2C1804.00159%2C1804.00160%2C1804.00161%2C1804.00162%2C1804.00163%2C1804.00164%2C1804.00165%2C1804.00166%2C1804.00167%2C1804.00168%2C1804.00169%2C1804.00170%2C1804.00171%2C1804.00172%2C1804.00173%2C1804.00174%2C1804.00175%2C1804.00176%2C1804.00177%2C1804.00178%2C1804.00179%2C1804.00180%2C1804.00181%2C1804.00182%2C1804.00183%2C1804.00184%2C1804.00185%2C1804.00186%2C1804.00187%2C1804.00188%2C1804.00189%2C1804.00190%2C1804.00191%2C1804.00192%2C1804.00193%2C1804.00194%2C1804.00195%2C1804.00196%2C1804.00197%2C1804.00198%2C1804.00199%2C1804.00200%2C1804.00201%2C1804.00202%2C1804.00203%2C1804.00204%2C1804.00205%2C1804.00206%2C1804.00207%2C1804.00208%2C1804.00209%2C1804.00210%2C1804.00211%2C1804.00212%2C1804.00213%2C1804.00214%2C1804.00215%2C1804.00216%2C1804.00217%2C1804.00218%2C1804.00219%2C1804.00220%2C1804.00221%2C1804.00222%2C1804.00223%2C1804.00224%2C1804.00225%2C1804.00226%2C1804.00227%2C1804.00228%2C1804.00229%2C1804.00230%2C1804.00231%2C1804.00232%2C1804.00233%2C1804.00234%2C1804.00235%2C1804.00236%2C1804.00237%2C1804.00238%2C1804.00239%2C1804.00240%2C1804.00241%2C1804.00242%2C1804.00243%2C1804.00244%2C1804.00245%2C1804.00246%2C1804.00247%2C1804.00248%2C1804.00249%2C1804.00250%2C1804.00251%2C1804.00252%2C1804.00253%2C1804.00254%2C1804.00255%2C1804.00256%2C1804.00257%2C1804.00258%2C1804.00259%2C1804.00260%2C1804.00261%2C1804.00262&start=0&max_results=300&sortBy=relevance&sortOrder=descending',\n",
       "   'value': 'An almost splitting theorem for a warped product space'},\n",
       "  'summary': 'We prove an almost splitting theorem for the warped product space with warped\\nfunction $f(r)=\\\\cosh\\\\left(r\\\\sqrt{\\\\frac{\\\\lambda}{n-2}}\\\\right)$.',\n",
       "  'summary_detail': {'type': 'text/plain',\n",
       "   'language': None,\n",
       "   'base': 'http://export.arxiv.org/api/query?search_query=&id_list=1804.00001%2C1804.00002%2C1804.00003%2C1804.00004%2C1804.00005%2C1804.00006%2C1804.00007%2C1804.00008%2C1804.00009%2C1804.00010%2C1804.00011%2C1804.00012%2C1804.00013%2C1804.00014%2C1804.00015%2C1804.00016%2C1804.00017%2C1804.00018%2C1804.00019%2C1804.00020%2C1804.00021%2C1804.00022%2C1804.00023%2C1804.00024%2C1804.00025%2C1804.00026%2C1804.00027%2C1804.00028%2C1804.00029%2C1804.00030%2C1804.00031%2C1804.00032%2C1804.00033%2C1804.00034%2C1804.00035%2C1804.00036%2C1804.00037%2C1804.00038%2C1804.00039%2C1804.00040%2C1804.00041%2C1804.00042%2C1804.00043%2C1804.00044%2C1804.00045%2C1804.00046%2C1804.00047%2C1804.00048%2C1804.00049%2C1804.00050%2C1804.00051%2C1804.00052%2C1804.00053%2C1804.00054%2C1804.00055%2C1804.00056%2C1804.00057%2C1804.00058%2C1804.00059%2C1804.00060%2C1804.00061%2C1804.00062%2C1804.00063%2C1804.00064%2C1804.00065%2C1804.00066%2C1804.00067%2C1804.00068%2C1804.00069%2C1804.00070%2C1804.00071%2C1804.00072%2C1804.00073%2C1804.00074%2C1804.00075%2C1804.00076%2C1804.00077%2C1804.00078%2C1804.00079%2C1804.00080%2C1804.00081%2C1804.00082%2C1804.00083%2C1804.00084%2C1804.00085%2C1804.00086%2C1804.00087%2C1804.00088%2C1804.00089%2C1804.00090%2C1804.00091%2C1804.00092%2C1804.00093%2C1804.00094%2C1804.00095%2C1804.00096%2C1804.00097%2C1804.00098%2C1804.00099%2C1804.00100%2C1804.00101%2C1804.00102%2C1804.00103%2C1804.00104%2C1804.00105%2C1804.00106%2C1804.00107%2C1804.00108%2C1804.00109%2C1804.00110%2C1804.00111%2C1804.00112%2C1804.00113%2C1804.00114%2C1804.00115%2C1804.00116%2C1804.00117%2C1804.00118%2C1804.00119%2C1804.00120%2C1804.00121%2C1804.00122%2C1804.00123%2C1804.00124%2C1804.00125%2C1804.00126%2C1804.00127%2C1804.00128%2C1804.00129%2C1804.00130%2C1804.00131%2C1804.00132%2C1804.00133%2C1804.00134%2C1804.00135%2C1804.00136%2C1804.00137%2C1804.00138%2C1804.00139%2C1804.00140%2C1804.00141%2C1804.00142%2C1804.00143%2C1804.00144%2C1804.00145%2C1804.00146%2C1804.00147%2C1804.00148%2C1804.00149%2C1804.00150%2C1804.00151%2C1804.00152%2C1804.00153%2C1804.00154%2C1804.00155%2C1804.00156%2C1804.00157%2C1804.00158%2C1804.00159%2C1804.00160%2C1804.00161%2C1804.00162%2C1804.00163%2C1804.00164%2C1804.00165%2C1804.00166%2C1804.00167%2C1804.00168%2C1804.00169%2C1804.00170%2C1804.00171%2C1804.00172%2C1804.00173%2C1804.00174%2C1804.00175%2C1804.00176%2C1804.00177%2C1804.00178%2C1804.00179%2C1804.00180%2C1804.00181%2C1804.00182%2C1804.00183%2C1804.00184%2C1804.00185%2C1804.00186%2C1804.00187%2C1804.00188%2C1804.00189%2C1804.00190%2C1804.00191%2C1804.00192%2C1804.00193%2C1804.00194%2C1804.00195%2C1804.00196%2C1804.00197%2C1804.00198%2C1804.00199%2C1804.00200%2C1804.00201%2C1804.00202%2C1804.00203%2C1804.00204%2C1804.00205%2C1804.00206%2C1804.00207%2C1804.00208%2C1804.00209%2C1804.00210%2C1804.00211%2C1804.00212%2C1804.00213%2C1804.00214%2C1804.00215%2C1804.00216%2C1804.00217%2C1804.00218%2C1804.00219%2C1804.00220%2C1804.00221%2C1804.00222%2C1804.00223%2C1804.00224%2C1804.00225%2C1804.00226%2C1804.00227%2C1804.00228%2C1804.00229%2C1804.00230%2C1804.00231%2C1804.00232%2C1804.00233%2C1804.00234%2C1804.00235%2C1804.00236%2C1804.00237%2C1804.00238%2C1804.00239%2C1804.00240%2C1804.00241%2C1804.00242%2C1804.00243%2C1804.00244%2C1804.00245%2C1804.00246%2C1804.00247%2C1804.00248%2C1804.00249%2C1804.00250%2C1804.00251%2C1804.00252%2C1804.00253%2C1804.00254%2C1804.00255%2C1804.00256%2C1804.00257%2C1804.00258%2C1804.00259%2C1804.00260%2C1804.00261%2C1804.00262&start=0&max_results=300&sortBy=relevance&sortOrder=descending',\n",
       "   'value': 'We prove an almost splitting theorem for the warped product space with warped\\nfunction $f(r)=\\\\cosh\\\\left(r\\\\sqrt{\\\\frac{\\\\lambda}{n-2}}\\\\right)$.'},\n",
       "  'authors': ['Paul Woon Yin Lee'],\n",
       "  'author_detail': {'name': 'Paul Woon Yin Lee'},\n",
       "  'author': 'Paul Woon Yin Lee',\n",
       "  'arxiv_comment': '20 pages',\n",
       "  'links': [{'href': 'http://arxiv.org/abs/1804.00193v1',\n",
       "    'rel': 'alternate',\n",
       "    'type': 'text/html'},\n",
       "   {'title': 'pdf',\n",
       "    'href': 'http://arxiv.org/pdf/1804.00193v1',\n",
       "    'rel': 'related',\n",
       "    'type': 'application/pdf'}],\n",
       "  'arxiv_primary_category': {'term': 'math.DG',\n",
       "   'scheme': 'http://arxiv.org/schemas/atom'},\n",
       "  'tags': [{'term': 'math.DG',\n",
       "    'scheme': 'http://arxiv.org/schemas/atom',\n",
       "    'label': None},\n",
       "   {'term': '53C21, 53C24',\n",
       "    'scheme': 'http://arxiv.org/schemas/atom',\n",
       "    'label': None}],\n",
       "  'pdf_url': 'http://arxiv.org/pdf/1804.00193v1',\n",
       "  'affiliation': 'None',\n",
       "  'arxiv_url': 'http://arxiv.org/abs/1804.00193v1',\n",
       "  'journal_reference': None,\n",
       "  'doi': None},\n",
       " {'id': 'http://arxiv.org/abs/1804.00259v2',\n",
       "  'guidislink': True,\n",
       "  'updated': '2018-04-11T20:54:51Z',\n",
       "  'updated_parsed': time.struct_time(tm_year=2018, tm_mon=4, tm_mday=11, tm_hour=20, tm_min=54, tm_sec=51, tm_wday=2, tm_yday=101, tm_isdst=0),\n",
       "  'published': '2018-04-01T05:38:29Z',\n",
       "  'published_parsed': time.struct_time(tm_year=2018, tm_mon=4, tm_mday=1, tm_hour=5, tm_min=38, tm_sec=29, tm_wday=6, tm_yday=91, tm_isdst=0),\n",
       "  'title': 'Surfaces of revolution with prescribed mean and skew curvatures in\\n  Lorentz-Minkowski space',\n",
       "  'title_detail': {'type': 'text/plain',\n",
       "   'language': None,\n",
       "   'base': 'http://export.arxiv.org/api/query?search_query=&id_list=1804.00001%2C1804.00002%2C1804.00003%2C1804.00004%2C1804.00005%2C1804.00006%2C1804.00007%2C1804.00008%2C1804.00009%2C1804.00010%2C1804.00011%2C1804.00012%2C1804.00013%2C1804.00014%2C1804.00015%2C1804.00016%2C1804.00017%2C1804.00018%2C1804.00019%2C1804.00020%2C1804.00021%2C1804.00022%2C1804.00023%2C1804.00024%2C1804.00025%2C1804.00026%2C1804.00027%2C1804.00028%2C1804.00029%2C1804.00030%2C1804.00031%2C1804.00032%2C1804.00033%2C1804.00034%2C1804.00035%2C1804.00036%2C1804.00037%2C1804.00038%2C1804.00039%2C1804.00040%2C1804.00041%2C1804.00042%2C1804.00043%2C1804.00044%2C1804.00045%2C1804.00046%2C1804.00047%2C1804.00048%2C1804.00049%2C1804.00050%2C1804.00051%2C1804.00052%2C1804.00053%2C1804.00054%2C1804.00055%2C1804.00056%2C1804.00057%2C1804.00058%2C1804.00059%2C1804.00060%2C1804.00061%2C1804.00062%2C1804.00063%2C1804.00064%2C1804.00065%2C1804.00066%2C1804.00067%2C1804.00068%2C1804.00069%2C1804.00070%2C1804.00071%2C1804.00072%2C1804.00073%2C1804.00074%2C1804.00075%2C1804.00076%2C1804.00077%2C1804.00078%2C1804.00079%2C1804.00080%2C1804.00081%2C1804.00082%2C1804.00083%2C1804.00084%2C1804.00085%2C1804.00086%2C1804.00087%2C1804.00088%2C1804.00089%2C1804.00090%2C1804.00091%2C1804.00092%2C1804.00093%2C1804.00094%2C1804.00095%2C1804.00096%2C1804.00097%2C1804.00098%2C1804.00099%2C1804.00100%2C1804.00101%2C1804.00102%2C1804.00103%2C1804.00104%2C1804.00105%2C1804.00106%2C1804.00107%2C1804.00108%2C1804.00109%2C1804.00110%2C1804.00111%2C1804.00112%2C1804.00113%2C1804.00114%2C1804.00115%2C1804.00116%2C1804.00117%2C1804.00118%2C1804.00119%2C1804.00120%2C1804.00121%2C1804.00122%2C1804.00123%2C1804.00124%2C1804.00125%2C1804.00126%2C1804.00127%2C1804.00128%2C1804.00129%2C1804.00130%2C1804.00131%2C1804.00132%2C1804.00133%2C1804.00134%2C1804.00135%2C1804.00136%2C1804.00137%2C1804.00138%2C1804.00139%2C1804.00140%2C1804.00141%2C1804.00142%2C1804.00143%2C1804.00144%2C1804.00145%2C1804.00146%2C1804.00147%2C1804.00148%2C1804.00149%2C1804.00150%2C1804.00151%2C1804.00152%2C1804.00153%2C1804.00154%2C1804.00155%2C1804.00156%2C1804.00157%2C1804.00158%2C1804.00159%2C1804.00160%2C1804.00161%2C1804.00162%2C1804.00163%2C1804.00164%2C1804.00165%2C1804.00166%2C1804.00167%2C1804.00168%2C1804.00169%2C1804.00170%2C1804.00171%2C1804.00172%2C1804.00173%2C1804.00174%2C1804.00175%2C1804.00176%2C1804.00177%2C1804.00178%2C1804.00179%2C1804.00180%2C1804.00181%2C1804.00182%2C1804.00183%2C1804.00184%2C1804.00185%2C1804.00186%2C1804.00187%2C1804.00188%2C1804.00189%2C1804.00190%2C1804.00191%2C1804.00192%2C1804.00193%2C1804.00194%2C1804.00195%2C1804.00196%2C1804.00197%2C1804.00198%2C1804.00199%2C1804.00200%2C1804.00201%2C1804.00202%2C1804.00203%2C1804.00204%2C1804.00205%2C1804.00206%2C1804.00207%2C1804.00208%2C1804.00209%2C1804.00210%2C1804.00211%2C1804.00212%2C1804.00213%2C1804.00214%2C1804.00215%2C1804.00216%2C1804.00217%2C1804.00218%2C1804.00219%2C1804.00220%2C1804.00221%2C1804.00222%2C1804.00223%2C1804.00224%2C1804.00225%2C1804.00226%2C1804.00227%2C1804.00228%2C1804.00229%2C1804.00230%2C1804.00231%2C1804.00232%2C1804.00233%2C1804.00234%2C1804.00235%2C1804.00236%2C1804.00237%2C1804.00238%2C1804.00239%2C1804.00240%2C1804.00241%2C1804.00242%2C1804.00243%2C1804.00244%2C1804.00245%2C1804.00246%2C1804.00247%2C1804.00248%2C1804.00249%2C1804.00250%2C1804.00251%2C1804.00252%2C1804.00253%2C1804.00254%2C1804.00255%2C1804.00256%2C1804.00257%2C1804.00258%2C1804.00259%2C1804.00260%2C1804.00261%2C1804.00262&start=0&max_results=300&sortBy=relevance&sortOrder=descending',\n",
       "   'value': 'Surfaces of revolution with prescribed mean and skew curvatures in\\n  Lorentz-Minkowski space'},\n",
       "  'summary': 'In this work, we investigate the problem of finding surfaces in the\\nLorentz-Minkowski 3-space with prescribed skew (S) and mean (H) curvatures,\\nwhich are defined through the discriminant of the characteristic polynomial of\\nthe shape operator and its trace, respectively. After showing that H and S can\\nbe interpreted in terms of the expected value and standard deviation of the\\nnormal curvature seen as a random variable, we address the problem of\\nprescribed curvatures for surfaces of revolution. For surfaces with a\\nnon-lightlike axis and prescribed H, the strategy consists in rewriting the\\nequation for H, which is initially a nonlinear second order Ordinary\\nDifferential Equation (ODE), as a linear first order ODE with coefficients in a\\ncertain ring of hypercomplex numbers along the generating curves: complex\\nnumbers for curves on a spacelike plane and Lorentz numbers for curves on a\\ntimelike plane. We also solve the problem for revolution surfaces with a\\nlightlike axis by using a certain ODE with real coefficients. On the other\\nhand, for the skew curvature problem, we rewrite the equation for S, which is\\ninitially a nonlinear second order ODE, as a linear first order ODE with real\\ncoefficients. In all the problems, we are able to find the parameterization for\\nthe generating curves in terms of certain integrals of H and S.',\n",
       "  'summary_detail': {'type': 'text/plain',\n",
       "   'language': None,\n",
       "   'base': 'http://export.arxiv.org/api/query?search_query=&id_list=1804.00001%2C1804.00002%2C1804.00003%2C1804.00004%2C1804.00005%2C1804.00006%2C1804.00007%2C1804.00008%2C1804.00009%2C1804.00010%2C1804.00011%2C1804.00012%2C1804.00013%2C1804.00014%2C1804.00015%2C1804.00016%2C1804.00017%2C1804.00018%2C1804.00019%2C1804.00020%2C1804.00021%2C1804.00022%2C1804.00023%2C1804.00024%2C1804.00025%2C1804.00026%2C1804.00027%2C1804.00028%2C1804.00029%2C1804.00030%2C1804.00031%2C1804.00032%2C1804.00033%2C1804.00034%2C1804.00035%2C1804.00036%2C1804.00037%2C1804.00038%2C1804.00039%2C1804.00040%2C1804.00041%2C1804.00042%2C1804.00043%2C1804.00044%2C1804.00045%2C1804.00046%2C1804.00047%2C1804.00048%2C1804.00049%2C1804.00050%2C1804.00051%2C1804.00052%2C1804.00053%2C1804.00054%2C1804.00055%2C1804.00056%2C1804.00057%2C1804.00058%2C1804.00059%2C1804.00060%2C1804.00061%2C1804.00062%2C1804.00063%2C1804.00064%2C1804.00065%2C1804.00066%2C1804.00067%2C1804.00068%2C1804.00069%2C1804.00070%2C1804.00071%2C1804.00072%2C1804.00073%2C1804.00074%2C1804.00075%2C1804.00076%2C1804.00077%2C1804.00078%2C1804.00079%2C1804.00080%2C1804.00081%2C1804.00082%2C1804.00083%2C1804.00084%2C1804.00085%2C1804.00086%2C1804.00087%2C1804.00088%2C1804.00089%2C1804.00090%2C1804.00091%2C1804.00092%2C1804.00093%2C1804.00094%2C1804.00095%2C1804.00096%2C1804.00097%2C1804.00098%2C1804.00099%2C1804.00100%2C1804.00101%2C1804.00102%2C1804.00103%2C1804.00104%2C1804.00105%2C1804.00106%2C1804.00107%2C1804.00108%2C1804.00109%2C1804.00110%2C1804.00111%2C1804.00112%2C1804.00113%2C1804.00114%2C1804.00115%2C1804.00116%2C1804.00117%2C1804.00118%2C1804.00119%2C1804.00120%2C1804.00121%2C1804.00122%2C1804.00123%2C1804.00124%2C1804.00125%2C1804.00126%2C1804.00127%2C1804.00128%2C1804.00129%2C1804.00130%2C1804.00131%2C1804.00132%2C1804.00133%2C1804.00134%2C1804.00135%2C1804.00136%2C1804.00137%2C1804.00138%2C1804.00139%2C1804.00140%2C1804.00141%2C1804.00142%2C1804.00143%2C1804.00144%2C1804.00145%2C1804.00146%2C1804.00147%2C1804.00148%2C1804.00149%2C1804.00150%2C1804.00151%2C1804.00152%2C1804.00153%2C1804.00154%2C1804.00155%2C1804.00156%2C1804.00157%2C1804.00158%2C1804.00159%2C1804.00160%2C1804.00161%2C1804.00162%2C1804.00163%2C1804.00164%2C1804.00165%2C1804.00166%2C1804.00167%2C1804.00168%2C1804.00169%2C1804.00170%2C1804.00171%2C1804.00172%2C1804.00173%2C1804.00174%2C1804.00175%2C1804.00176%2C1804.00177%2C1804.00178%2C1804.00179%2C1804.00180%2C1804.00181%2C1804.00182%2C1804.00183%2C1804.00184%2C1804.00185%2C1804.00186%2C1804.00187%2C1804.00188%2C1804.00189%2C1804.00190%2C1804.00191%2C1804.00192%2C1804.00193%2C1804.00194%2C1804.00195%2C1804.00196%2C1804.00197%2C1804.00198%2C1804.00199%2C1804.00200%2C1804.00201%2C1804.00202%2C1804.00203%2C1804.00204%2C1804.00205%2C1804.00206%2C1804.00207%2C1804.00208%2C1804.00209%2C1804.00210%2C1804.00211%2C1804.00212%2C1804.00213%2C1804.00214%2C1804.00215%2C1804.00216%2C1804.00217%2C1804.00218%2C1804.00219%2C1804.00220%2C1804.00221%2C1804.00222%2C1804.00223%2C1804.00224%2C1804.00225%2C1804.00226%2C1804.00227%2C1804.00228%2C1804.00229%2C1804.00230%2C1804.00231%2C1804.00232%2C1804.00233%2C1804.00234%2C1804.00235%2C1804.00236%2C1804.00237%2C1804.00238%2C1804.00239%2C1804.00240%2C1804.00241%2C1804.00242%2C1804.00243%2C1804.00244%2C1804.00245%2C1804.00246%2C1804.00247%2C1804.00248%2C1804.00249%2C1804.00250%2C1804.00251%2C1804.00252%2C1804.00253%2C1804.00254%2C1804.00255%2C1804.00256%2C1804.00257%2C1804.00258%2C1804.00259%2C1804.00260%2C1804.00261%2C1804.00262&start=0&max_results=300&sortBy=relevance&sortOrder=descending',\n",
       "   'value': 'In this work, we investigate the problem of finding surfaces in the\\nLorentz-Minkowski 3-space with prescribed skew (S) and mean (H) curvatures,\\nwhich are defined through the discriminant of the characteristic polynomial of\\nthe shape operator and its trace, respectively. After showing that H and S can\\nbe interpreted in terms of the expected value and standard deviation of the\\nnormal curvature seen as a random variable, we address the problem of\\nprescribed curvatures for surfaces of revolution. For surfaces with a\\nnon-lightlike axis and prescribed H, the strategy consists in rewriting the\\nequation for H, which is initially a nonlinear second order Ordinary\\nDifferential Equation (ODE), as a linear first order ODE with coefficients in a\\ncertain ring of hypercomplex numbers along the generating curves: complex\\nnumbers for curves on a spacelike plane and Lorentz numbers for curves on a\\ntimelike plane. We also solve the problem for revolution surfaces with a\\nlightlike axis by using a certain ODE with real coefficients. On the other\\nhand, for the skew curvature problem, we rewrite the equation for S, which is\\ninitially a nonlinear second order ODE, as a linear first order ODE with real\\ncoefficients. In all the problems, we are able to find the parameterization for\\nthe generating curves in terms of certain integrals of H and S.'},\n",
       "  'authors': ['Luiz C. B. da Silva'],\n",
       "  'author_detail': {'name': 'Luiz C. B. da Silva'},\n",
       "  'author': 'Luiz C. B. da Silva',\n",
       "  'arxiv_comment': '25 pages, 4 figures. For this 2nd version we corrected some typos and\\n  also established an Euler theorem for the normal curvature along with an\\n  interpretation of H and S as the expected value and standard deviation of the\\n  normal curvature seen as a random variable',\n",
       "  'links': [{'href': 'http://arxiv.org/abs/1804.00259v2',\n",
       "    'rel': 'alternate',\n",
       "    'type': 'text/html'},\n",
       "   {'title': 'pdf',\n",
       "    'href': 'http://arxiv.org/pdf/1804.00259v2',\n",
       "    'rel': 'related',\n",
       "    'type': 'application/pdf'}],\n",
       "  'arxiv_primary_category': {'term': 'math.DG',\n",
       "   'scheme': 'http://arxiv.org/schemas/atom'},\n",
       "  'tags': [{'term': 'math.DG',\n",
       "    'scheme': 'http://arxiv.org/schemas/atom',\n",
       "    'label': None},\n",
       "   {'term': '53A10, 53A55, 53B30',\n",
       "    'scheme': 'http://arxiv.org/schemas/atom',\n",
       "    'label': None}],\n",
       "  'pdf_url': 'http://arxiv.org/pdf/1804.00259v2',\n",
       "  'affiliation': 'None',\n",
       "  'arxiv_url': 'http://arxiv.org/abs/1804.00259v2',\n",
       "  'journal_reference': None,\n",
       "  'doi': None}]"
      ]
     },
     "execution_count": 89,
     "metadata": {},
     "output_type": "execute_result"
    }
   ],
   "source": [
    "diff_geom = [d for d in dicts if d.get('tags',None)[0]['term']=='math.DG']\n",
    "diff_geom"
   ]
  },
  {
   "cell_type": "code",
   "execution_count": 90,
   "metadata": {},
   "outputs": [
    {
     "data": {
      "text/plain": [
       "['Uniqueness of convex ancient solutions to mean curvature flow in higher\\n  dimensions',\n",
       " 'An almost splitting theorem for a warped product space',\n",
       " 'Surfaces of revolution with prescribed mean and skew curvatures in\\n  Lorentz-Minkowski space']"
      ]
     },
     "execution_count": 90,
     "metadata": {},
     "output_type": "execute_result"
    }
   ],
   "source": [
    "[d.title for d in diff_geom]"
   ]
  },
  {
   "cell_type": "code",
   "execution_count": 29,
   "metadata": {},
   "outputs": [],
   "source": [
    "math = [d for d in dicts if 'math' in d['tags'][0]['term']]"
   ]
  },
  {
   "cell_type": "code",
   "execution_count": 43,
   "metadata": {
    "collapsed": true,
    "jupyter": {
     "outputs_hidden": true
    }
   },
   "outputs": [
    {
     "data": {
      "text/plain": [
       "{'math-ph',\n",
       " 'math.AG',\n",
       " 'math.AP',\n",
       " 'math.CO',\n",
       " 'math.CV',\n",
       " 'math.DG',\n",
       " 'math.DS',\n",
       " 'math.FA',\n",
       " 'math.HO',\n",
       " 'math.KT',\n",
       " 'math.LO',\n",
       " 'math.MG',\n",
       " 'math.NA',\n",
       " 'math.NT',\n",
       " 'math.OA',\n",
       " 'math.OC',\n",
       " 'math.PR',\n",
       " 'math.QA',\n",
       " 'math.RA',\n",
       " 'math.RT',\n",
       " 'math.SP',\n",
       " 'math.ST'}"
      ]
     },
     "execution_count": 43,
     "metadata": {},
     "output_type": "execute_result"
    }
   ],
   "source": [
    "set([d['tags'][0]['term'] for d in math])"
   ]
  },
  {
   "cell_type": "code",
   "execution_count": 86,
   "metadata": {},
   "outputs": [
    {
     "data": {
      "text/plain": [
       "['1804/1804.00018.gz', '1804/1804.00193.gz', '1804/1804.00259.gz']"
      ]
     },
     "execution_count": 86,
     "metadata": {},
     "output_type": "execute_result"
    }
   ],
   "source": [
    "import re\n",
    "def api2tar(id_str):\n",
    "    '''\n",
    "    The arxiv API produces ids in the format:\n",
    "    http://arxiv.org/abs/1804.00018v1',\n",
    " http://arxiv.org/abs/1804.00193v1',\n",
    " http://arxiv.org/abs/1804.00259v2\n",
    "    The tar files have name format:\n",
    "    <TarInfo '1804/1804.00020.gz' at 0x7f0ba68c8cc8>\n",
    "    '''\n",
    "    name = re.match(r'.*([0-9]{4})\\.([0-9]{5})',id_str)\n",
    "    return name.group(1) + '/' + name.group(1) + '.' + name.group(2) + '.gz'\n",
    "    \n",
    "    \n",
    "[api2tar(d.id) for d in dicts if d.get('tags',None)[0]['term']=='math.DG']"
   ]
  },
  {
   "cell_type": "code",
   "execution_count": 78,
   "metadata": {
    "collapsed": true,
    "jupyter": {
     "outputs_hidden": true
    }
   },
   "outputs": [
    {
     "data": {
      "text/plain": [
       "{'id': 'http://arxiv.org/abs/1804.00001v1',\n",
       " 'guidislink': True,\n",
       " 'updated': '2018-03-30T11:08:38Z',\n",
       " 'updated_parsed': time.struct_time(tm_year=2018, tm_mon=3, tm_mday=30, tm_hour=11, tm_min=8, tm_sec=38, tm_wday=4, tm_yday=89, tm_isdst=0),\n",
       " 'published': '2018-03-30T11:08:38Z',\n",
       " 'published_parsed': time.struct_time(tm_year=2018, tm_mon=3, tm_mday=30, tm_hour=11, tm_min=8, tm_sec=38, tm_wday=4, tm_yday=89, tm_isdst=0),\n",
       " 'title': 'Phenomenological analysis of densification mechanism during spark plasma\\n  sintering of MgAl2O4',\n",
       " 'title_detail': {'type': 'text/plain',\n",
       "  'language': None,\n",
       "  'base': 'http://export.arxiv.org/api/query?search_query=&id_list=1804.00001%2C1804.00002%2C1804.00003%2C1804.00004%2C1804.00005%2C1804.00006%2C1804.00007%2C1804.00008%2C1804.00009%2C1804.00010%2C1804.00011%2C1804.00012%2C1804.00013%2C1804.00014%2C1804.00015%2C1804.00016%2C1804.00017%2C1804.00018%2C1804.00019%2C1804.00020%2C1804.00021%2C1804.00022%2C1804.00023%2C1804.00024%2C1804.00025%2C1804.00026%2C1804.00027%2C1804.00028%2C1804.00029%2C1804.00030%2C1804.00031%2C1804.00032%2C1804.00033%2C1804.00034%2C1804.00035%2C1804.00036%2C1804.00037%2C1804.00038%2C1804.00039%2C1804.00040%2C1804.00041%2C1804.00042%2C1804.00043%2C1804.00044%2C1804.00045%2C1804.00046%2C1804.00047%2C1804.00048%2C1804.00049%2C1804.00050%2C1804.00051%2C1804.00052%2C1804.00053%2C1804.00054%2C1804.00055%2C1804.00056%2C1804.00057%2C1804.00058%2C1804.00059%2C1804.00060%2C1804.00061%2C1804.00062%2C1804.00063%2C1804.00064%2C1804.00065%2C1804.00066%2C1804.00067%2C1804.00068%2C1804.00069%2C1804.00070%2C1804.00071%2C1804.00072%2C1804.00073%2C1804.00074%2C1804.00075%2C1804.00076%2C1804.00077%2C1804.00078%2C1804.00079%2C1804.00080%2C1804.00081%2C1804.00082%2C1804.00083%2C1804.00084%2C1804.00085%2C1804.00086%2C1804.00087%2C1804.00088%2C1804.00089%2C1804.00090%2C1804.00091%2C1804.00092%2C1804.00093%2C1804.00094%2C1804.00095%2C1804.00096%2C1804.00097%2C1804.00098%2C1804.00099%2C1804.00100%2C1804.00101%2C1804.00102%2C1804.00103%2C1804.00104%2C1804.00105%2C1804.00106%2C1804.00107%2C1804.00108%2C1804.00109%2C1804.00110%2C1804.00111%2C1804.00112%2C1804.00113%2C1804.00114%2C1804.00115%2C1804.00116%2C1804.00117%2C1804.00118%2C1804.00119%2C1804.00120%2C1804.00121%2C1804.00122%2C1804.00123%2C1804.00124%2C1804.00125%2C1804.00126%2C1804.00127%2C1804.00128%2C1804.00129%2C1804.00130%2C1804.00131%2C1804.00132%2C1804.00133%2C1804.00134%2C1804.00135%2C1804.00136%2C1804.00137%2C1804.00138%2C1804.00139%2C1804.00140%2C1804.00141%2C1804.00142%2C1804.00143%2C1804.00144%2C1804.00145%2C1804.00146%2C1804.00147%2C1804.00148%2C1804.00149%2C1804.00150%2C1804.00151%2C1804.00152%2C1804.00153%2C1804.00154%2C1804.00155%2C1804.00156%2C1804.00157%2C1804.00158%2C1804.00159%2C1804.00160%2C1804.00161%2C1804.00162%2C1804.00163%2C1804.00164%2C1804.00165%2C1804.00166%2C1804.00167%2C1804.00168%2C1804.00169%2C1804.00170%2C1804.00171%2C1804.00172%2C1804.00173%2C1804.00174%2C1804.00175%2C1804.00176%2C1804.00177%2C1804.00178%2C1804.00179%2C1804.00180%2C1804.00181%2C1804.00182%2C1804.00183%2C1804.00184%2C1804.00185%2C1804.00186%2C1804.00187%2C1804.00188%2C1804.00189%2C1804.00190%2C1804.00191%2C1804.00192%2C1804.00193%2C1804.00194%2C1804.00195%2C1804.00196%2C1804.00197%2C1804.00198%2C1804.00199%2C1804.00200%2C1804.00201%2C1804.00202%2C1804.00203%2C1804.00204%2C1804.00205%2C1804.00206%2C1804.00207%2C1804.00208%2C1804.00209%2C1804.00210%2C1804.00211%2C1804.00212%2C1804.00213%2C1804.00214%2C1804.00215%2C1804.00216%2C1804.00217%2C1804.00218%2C1804.00219%2C1804.00220%2C1804.00221%2C1804.00222%2C1804.00223%2C1804.00224%2C1804.00225%2C1804.00226%2C1804.00227%2C1804.00228%2C1804.00229%2C1804.00230%2C1804.00231%2C1804.00232%2C1804.00233%2C1804.00234%2C1804.00235%2C1804.00236%2C1804.00237%2C1804.00238%2C1804.00239%2C1804.00240%2C1804.00241%2C1804.00242%2C1804.00243%2C1804.00244%2C1804.00245%2C1804.00246%2C1804.00247%2C1804.00248%2C1804.00249%2C1804.00250%2C1804.00251%2C1804.00252%2C1804.00253%2C1804.00254%2C1804.00255%2C1804.00256%2C1804.00257%2C1804.00258%2C1804.00259%2C1804.00260%2C1804.00261%2C1804.00262&start=0&max_results=300&sortBy=relevance&sortOrder=descending',\n",
       "  'value': 'Phenomenological analysis of densification mechanism during spark plasma\\n  sintering of MgAl2O4'},\n",
       " 'summary': 'Spark plasma sintering (SPS) of MgAl2O4 powder was investigated at\\ntemperatures between 1200 and 1300{\\\\deg}C. A significant grain growth was\\nobserved during densification. The densification rate always exhibits at least\\none strong minimum, and resumes after an incubation period. Transmission\\nelectron microscopy investigations performed on sintered samples never revealed\\nextensive dislocation activity in the elemental grains. The densification\\nmechanism involved during SPS was determined by anisothermal (investigation of\\nthe heating stage of a SPS run) and isothermal methods (investigation at given\\nsoak temperatures). Grain-boundary sliding, accommodated by an in-series\\n{interface-reaction/lattice diffusion of the O$^2$-anions} mechanism controlled\\nby the interface-reaction step, governs densification. The\\nzero-densification-rate period, detected for all soak temperatures, arise from\\nthe difficulty of annealing vacancies, necessary for the densification to\\nproceed. The detection of atomic ledges at grain boundaries and the\\nmodification of the stoichiometry of spinel during SPS could be related to the\\ndifficulty to anneal vacancies at temperature soaks.',\n",
       " 'summary_detail': {'type': 'text/plain',\n",
       "  'language': None,\n",
       "  'base': 'http://export.arxiv.org/api/query?search_query=&id_list=1804.00001%2C1804.00002%2C1804.00003%2C1804.00004%2C1804.00005%2C1804.00006%2C1804.00007%2C1804.00008%2C1804.00009%2C1804.00010%2C1804.00011%2C1804.00012%2C1804.00013%2C1804.00014%2C1804.00015%2C1804.00016%2C1804.00017%2C1804.00018%2C1804.00019%2C1804.00020%2C1804.00021%2C1804.00022%2C1804.00023%2C1804.00024%2C1804.00025%2C1804.00026%2C1804.00027%2C1804.00028%2C1804.00029%2C1804.00030%2C1804.00031%2C1804.00032%2C1804.00033%2C1804.00034%2C1804.00035%2C1804.00036%2C1804.00037%2C1804.00038%2C1804.00039%2C1804.00040%2C1804.00041%2C1804.00042%2C1804.00043%2C1804.00044%2C1804.00045%2C1804.00046%2C1804.00047%2C1804.00048%2C1804.00049%2C1804.00050%2C1804.00051%2C1804.00052%2C1804.00053%2C1804.00054%2C1804.00055%2C1804.00056%2C1804.00057%2C1804.00058%2C1804.00059%2C1804.00060%2C1804.00061%2C1804.00062%2C1804.00063%2C1804.00064%2C1804.00065%2C1804.00066%2C1804.00067%2C1804.00068%2C1804.00069%2C1804.00070%2C1804.00071%2C1804.00072%2C1804.00073%2C1804.00074%2C1804.00075%2C1804.00076%2C1804.00077%2C1804.00078%2C1804.00079%2C1804.00080%2C1804.00081%2C1804.00082%2C1804.00083%2C1804.00084%2C1804.00085%2C1804.00086%2C1804.00087%2C1804.00088%2C1804.00089%2C1804.00090%2C1804.00091%2C1804.00092%2C1804.00093%2C1804.00094%2C1804.00095%2C1804.00096%2C1804.00097%2C1804.00098%2C1804.00099%2C1804.00100%2C1804.00101%2C1804.00102%2C1804.00103%2C1804.00104%2C1804.00105%2C1804.00106%2C1804.00107%2C1804.00108%2C1804.00109%2C1804.00110%2C1804.00111%2C1804.00112%2C1804.00113%2C1804.00114%2C1804.00115%2C1804.00116%2C1804.00117%2C1804.00118%2C1804.00119%2C1804.00120%2C1804.00121%2C1804.00122%2C1804.00123%2C1804.00124%2C1804.00125%2C1804.00126%2C1804.00127%2C1804.00128%2C1804.00129%2C1804.00130%2C1804.00131%2C1804.00132%2C1804.00133%2C1804.00134%2C1804.00135%2C1804.00136%2C1804.00137%2C1804.00138%2C1804.00139%2C1804.00140%2C1804.00141%2C1804.00142%2C1804.00143%2C1804.00144%2C1804.00145%2C1804.00146%2C1804.00147%2C1804.00148%2C1804.00149%2C1804.00150%2C1804.00151%2C1804.00152%2C1804.00153%2C1804.00154%2C1804.00155%2C1804.00156%2C1804.00157%2C1804.00158%2C1804.00159%2C1804.00160%2C1804.00161%2C1804.00162%2C1804.00163%2C1804.00164%2C1804.00165%2C1804.00166%2C1804.00167%2C1804.00168%2C1804.00169%2C1804.00170%2C1804.00171%2C1804.00172%2C1804.00173%2C1804.00174%2C1804.00175%2C1804.00176%2C1804.00177%2C1804.00178%2C1804.00179%2C1804.00180%2C1804.00181%2C1804.00182%2C1804.00183%2C1804.00184%2C1804.00185%2C1804.00186%2C1804.00187%2C1804.00188%2C1804.00189%2C1804.00190%2C1804.00191%2C1804.00192%2C1804.00193%2C1804.00194%2C1804.00195%2C1804.00196%2C1804.00197%2C1804.00198%2C1804.00199%2C1804.00200%2C1804.00201%2C1804.00202%2C1804.00203%2C1804.00204%2C1804.00205%2C1804.00206%2C1804.00207%2C1804.00208%2C1804.00209%2C1804.00210%2C1804.00211%2C1804.00212%2C1804.00213%2C1804.00214%2C1804.00215%2C1804.00216%2C1804.00217%2C1804.00218%2C1804.00219%2C1804.00220%2C1804.00221%2C1804.00222%2C1804.00223%2C1804.00224%2C1804.00225%2C1804.00226%2C1804.00227%2C1804.00228%2C1804.00229%2C1804.00230%2C1804.00231%2C1804.00232%2C1804.00233%2C1804.00234%2C1804.00235%2C1804.00236%2C1804.00237%2C1804.00238%2C1804.00239%2C1804.00240%2C1804.00241%2C1804.00242%2C1804.00243%2C1804.00244%2C1804.00245%2C1804.00246%2C1804.00247%2C1804.00248%2C1804.00249%2C1804.00250%2C1804.00251%2C1804.00252%2C1804.00253%2C1804.00254%2C1804.00255%2C1804.00256%2C1804.00257%2C1804.00258%2C1804.00259%2C1804.00260%2C1804.00261%2C1804.00262&start=0&max_results=300&sortBy=relevance&sortOrder=descending',\n",
       "  'value': 'Spark plasma sintering (SPS) of MgAl2O4 powder was investigated at\\ntemperatures between 1200 and 1300{\\\\deg}C. A significant grain growth was\\nobserved during densification. The densification rate always exhibits at least\\none strong minimum, and resumes after an incubation period. Transmission\\nelectron microscopy investigations performed on sintered samples never revealed\\nextensive dislocation activity in the elemental grains. The densification\\nmechanism involved during SPS was determined by anisothermal (investigation of\\nthe heating stage of a SPS run) and isothermal methods (investigation at given\\nsoak temperatures). Grain-boundary sliding, accommodated by an in-series\\n{interface-reaction/lattice diffusion of the O$^2$-anions} mechanism controlled\\nby the interface-reaction step, governs densification. The\\nzero-densification-rate period, detected for all soak temperatures, arise from\\nthe difficulty of annealing vacancies, necessary for the densification to\\nproceed. The detection of atomic ledges at grain boundaries and the\\nmodification of the stoichiometry of spinel during SPS could be related to the\\ndifficulty to anneal vacancies at temperature soaks.'},\n",
       " 'authors': ['Guillaume Bernard-Granger',\n",
       "  'Nassira Benameur',\n",
       "  'Ahmed Addad',\n",
       "  'Mats Nygren',\n",
       "  'Christian Guizard',\n",
       "  'Sylvain Deville'],\n",
       " 'author_detail': {'name': 'Sylvain Deville'},\n",
       " 'author': 'Sylvain Deville',\n",
       " 'links': [{'title': 'doi',\n",
       "   'href': 'http://dx.doi.org/10.1557/jmr.2009.0243',\n",
       "   'rel': 'related',\n",
       "   'type': 'text/html'},\n",
       "  {'href': 'http://arxiv.org/abs/1804.00001v1',\n",
       "   'rel': 'alternate',\n",
       "   'type': 'text/html'},\n",
       "  {'title': 'pdf',\n",
       "   'href': 'http://arxiv.org/pdf/1804.00001v1',\n",
       "   'rel': 'related',\n",
       "   'type': 'application/pdf'}],\n",
       " 'arxiv_comment': '22 pages, 12 figures',\n",
       " 'arxiv_primary_category': {'term': 'cond-mat.mtrl-sci',\n",
       "  'scheme': 'http://arxiv.org/schemas/atom'},\n",
       " 'tags': [{'term': 'cond-mat.mtrl-sci',\n",
       "   'scheme': 'http://arxiv.org/schemas/atom',\n",
       "   'label': None}],\n",
       " 'pdf_url': 'http://arxiv.org/pdf/1804.00001v1',\n",
       " 'affiliation': 'None',\n",
       " 'arxiv_url': 'http://arxiv.org/abs/1804.00001v1',\n",
       " 'journal_reference': 'Journal of Materials Research, Volume 24, Issue 6, June 2009 , pp.\\n  2011-2020',\n",
       " 'doi': '10.1557/jmr.2009.0243'}"
      ]
     },
     "execution_count": 78,
     "metadata": {},
     "output_type": "execute_result"
    }
   ],
   "source": [
    "DD = dicts[0]\n",
    "DD"
   ]
  },
  {
   "cell_type": "code",
   "execution_count": 1,
   "metadata": {},
   "outputs": [
    {
     "name": "stdout",
     "output_type": "stream",
     "text": [
      "[<TarInfo '0303' at 0x7f1f185017c0>, <TarInfo '0303/math0303004.gz' at 0x7f1f183ef4c0>, <TarInfo '0303/math0303002.gz' at 0x7f1f183ef400>, <TarInfo '0303/math0303003.gz' at 0x7f1f183ef580>, <TarInfo '0303/math0303005.gz' at 0x7f1f183ef640>, <TarInfo '0303/math0303008.gz' at 0x7f1f183ef700>, <TarInfo '0303/math0303001.gz' at 0x7f1f183ef7c0>, <TarInfo '0303/math0303009.pdf' at 0x7f1f183ef880>, <TarInfo '0303/math0303006.gz' at 0x7f1f183ef940>, <TarInfo '0303/math0303007.gz' at 0x7f1f183efa00>]\n"
     ]
    }
   ],
   "source": [
    "import tarfile\n",
    "\n",
    "with tarfile.open('tests/minitest.tar') as ff:\n",
    "    art_lst = [k for k in ff.getmembers()]\n",
    "print(art_lst)"
   ]
  },
  {
   "cell_type": "code",
   "execution_count": 2,
   "metadata": {},
   "outputs": [
    {
     "name": "stdout",
     "output_type": "stream",
     "text": [
      "<TarInfo '1804' at 0x7f1f184237c0>\n",
      "<TarInfo '1804/1804.01586.gz' at 0x7f1f18423700>\n",
      "<TarInfo '1804/1804.01592.gz' at 0x7f1f18423640>\n",
      "<TarInfo '1804/1804.01583.gz' at 0x7f1f18423880>\n",
      "<TarInfo '1804/1804.01585.gz' at 0x7f1f18423940>\n",
      "<TarInfo '1804/1804.01588.gz' at 0x7f1f18423a00>\n",
      "<TarInfo '1804/1804.01589.gz' at 0x7f1f18423ac0>\n",
      "<TarInfo '1804/1804.01587.pdf' at 0x7f1f18423b80>\n",
      "<TarInfo '1804/1804.01584.gz' at 0x7f1f18423c40>\n",
      "<TarInfo '1804/1804.01591.gz' at 0x7f1f18423d00>\n",
      "<TarInfo '1804/1804.01590.gz' at 0x7f1f18423dc0>\n",
      "<TarInfo '1804/1804.01593.pdf' at 0x7f1f18423e80>\n"
     ]
    }
   ],
   "source": [
    "import magic\n",
    "with tarfile.open('tests/minitest2.tar') as ff:\n",
    "    for f in ff:\n",
    "        print(f)\n",
    "        \n",
    "ff.close()"
   ]
  },
  {
   "cell_type": "code",
   "execution_count": 24,
   "metadata": {},
   "outputs": [
    {
     "name": "stdout",
     "output_type": "stream",
     "text": [
      "1)   FileMagic(mime_type='application/gzip', encoding='binary', name='gzip compressed data, was \"0303002.tar\", last modified: Fri Feb 28 21:28:24 2003, max compression, from Unix')\n"
     ]
    },
    {
     "data": {
      "text/plain": [
       "[<TarInfo 'JCMI.Fig.1.eps' at 0x7f1f08755f40>,\n",
       " <TarInfo 'JCMI.Fig.2.eps' at 0x7f1f081d3f40>,\n",
       " <TarInfo 'JCMI.Final.ii' at 0x7f1f081f0640>]"
      ]
     },
     "execution_count": 24,
     "metadata": {},
     "output_type": "execute_result"
    }
   ],
   "source": [
    "ff = tarfile.open('tests/minitest.tar')\n",
    "fi = ff.getmembers()[2]\n",
    "fobj = ff.extractfile(fi.name)\n",
    "print(\"1)  \", magic.detect_from_content(fobj.read(2048)))\n",
    "fobj.seek(0)\n",
    "unz_file = tarfile.open(fileobj=fobj, mode='r:gz')\n",
    "unz_file.getmembers()\n",
    "#unz_file = gzip.open(fobj, 'rb')\n",
    "#print(\"2)  \", magic.detect_from_content(unz_file.read(2048)))\n",
    "#unz_file.seek(0)\n",
    "#unz_tar = tarfile.open(fileobj=unz_file)\n",
    "#print(unz_tar.getmembers())"
   ]
  },
  {
   "cell_type": "code",
   "execution_count": 27,
   "metadata": {},
   "outputs": [
    {
     "name": "stdout",
     "output_type": "stream",
     "text": [
      "1804/1804.01586.gz gzip compressed data, last modified: Fri Jun  1 00:13:46 2018, from Unix\n",
      "     * is regular  True\n",
      "1804/1804.01592.gz gzip compressed data, last modified: Fri Apr  6 00:01:57 2018, from Unix\n",
      "     * is regular  True\n",
      "1804/1804.01583.gz gzip compressed data, last modified: Mon May 14 00:08:43 2018, from Unix\n",
      "     * is regular  True\n",
      "1804/1804.01585.gz gzip compressed data, last modified: Fri Apr  6 00:01:52 2018, from Unix\n",
      "     * is regular  True\n",
      "1804/1804.01588.gz gzip compressed data, last modified: Fri Apr  6 00:01:53 2018, from Unix\n",
      "     * is regular  True\n",
      "1804/1804.01589.gz gzip compressed data, was \"BianchiDinizV2.tex\", last modified: Wed Apr 18 20:49:48 2018, max compression, from Unix\n"
     ]
    },
    {
     "ename": "ReadError",
     "evalue": "invalid header",
     "output_type": "error",
     "traceback": [
      "\u001b[0;31m---------------------------------------------------------------------------\u001b[0m",
      "\u001b[0;31mValueError\u001b[0m                                Traceback (most recent call last)",
      "\u001b[0;32m/usr/lib/python3.8/tarfile.py\u001b[0m in \u001b[0;36mnti\u001b[0;34m(s)\u001b[0m\n\u001b[1;32m    186\u001b[0m             \u001b[0ms\u001b[0m \u001b[0;34m=\u001b[0m \u001b[0mnts\u001b[0m\u001b[0;34m(\u001b[0m\u001b[0ms\u001b[0m\u001b[0;34m,\u001b[0m \u001b[0;34m\"ascii\"\u001b[0m\u001b[0;34m,\u001b[0m \u001b[0;34m\"strict\"\u001b[0m\u001b[0;34m)\u001b[0m\u001b[0;34m\u001b[0m\u001b[0;34m\u001b[0m\u001b[0m\n\u001b[0;32m--> 187\u001b[0;31m             \u001b[0mn\u001b[0m \u001b[0;34m=\u001b[0m \u001b[0mint\u001b[0m\u001b[0;34m(\u001b[0m\u001b[0ms\u001b[0m\u001b[0;34m.\u001b[0m\u001b[0mstrip\u001b[0m\u001b[0;34m(\u001b[0m\u001b[0;34m)\u001b[0m \u001b[0;32mor\u001b[0m \u001b[0;34m\"0\"\u001b[0m\u001b[0;34m,\u001b[0m \u001b[0;36m8\u001b[0m\u001b[0;34m)\u001b[0m\u001b[0;34m\u001b[0m\u001b[0;34m\u001b[0m\u001b[0m\n\u001b[0m\u001b[1;32m    188\u001b[0m         \u001b[0;32mexcept\u001b[0m \u001b[0mValueError\u001b[0m\u001b[0;34m:\u001b[0m\u001b[0;34m\u001b[0m\u001b[0;34m\u001b[0m\u001b[0m\n",
      "\u001b[0;31mValueError\u001b[0m: invalid literal for int() with base 8: 'athrsfs,'",
      "\nDuring handling of the above exception, another exception occurred:\n",
      "\u001b[0;31mInvalidHeaderError\u001b[0m                        Traceback (most recent call last)",
      "\u001b[0;32m/usr/lib/python3.8/tarfile.py\u001b[0m in \u001b[0;36mnext\u001b[0;34m(self)\u001b[0m\n\u001b[1;32m   2312\u001b[0m             \u001b[0;32mtry\u001b[0m\u001b[0;34m:\u001b[0m\u001b[0;34m\u001b[0m\u001b[0;34m\u001b[0m\u001b[0m\n\u001b[0;32m-> 2313\u001b[0;31m                 \u001b[0mtarinfo\u001b[0m \u001b[0;34m=\u001b[0m \u001b[0mself\u001b[0m\u001b[0;34m.\u001b[0m\u001b[0mtarinfo\u001b[0m\u001b[0;34m.\u001b[0m\u001b[0mfromtarfile\u001b[0m\u001b[0;34m(\u001b[0m\u001b[0mself\u001b[0m\u001b[0;34m)\u001b[0m\u001b[0;34m\u001b[0m\u001b[0;34m\u001b[0m\u001b[0m\n\u001b[0m\u001b[1;32m   2314\u001b[0m             \u001b[0;32mexcept\u001b[0m \u001b[0mEOFHeaderError\u001b[0m \u001b[0;32mas\u001b[0m \u001b[0me\u001b[0m\u001b[0;34m:\u001b[0m\u001b[0;34m\u001b[0m\u001b[0;34m\u001b[0m\u001b[0m\n",
      "\u001b[0;32m/usr/lib/python3.8/tarfile.py\u001b[0m in \u001b[0;36mfromtarfile\u001b[0;34m(cls, tarfile)\u001b[0m\n\u001b[1;32m   1102\u001b[0m         \u001b[0mbuf\u001b[0m \u001b[0;34m=\u001b[0m \u001b[0mtarfile\u001b[0m\u001b[0;34m.\u001b[0m\u001b[0mfileobj\u001b[0m\u001b[0;34m.\u001b[0m\u001b[0mread\u001b[0m\u001b[0;34m(\u001b[0m\u001b[0mBLOCKSIZE\u001b[0m\u001b[0;34m)\u001b[0m\u001b[0;34m\u001b[0m\u001b[0;34m\u001b[0m\u001b[0m\n\u001b[0;32m-> 1103\u001b[0;31m         \u001b[0mobj\u001b[0m \u001b[0;34m=\u001b[0m \u001b[0mcls\u001b[0m\u001b[0;34m.\u001b[0m\u001b[0mfrombuf\u001b[0m\u001b[0;34m(\u001b[0m\u001b[0mbuf\u001b[0m\u001b[0;34m,\u001b[0m \u001b[0mtarfile\u001b[0m\u001b[0;34m.\u001b[0m\u001b[0mencoding\u001b[0m\u001b[0;34m,\u001b[0m \u001b[0mtarfile\u001b[0m\u001b[0;34m.\u001b[0m\u001b[0merrors\u001b[0m\u001b[0;34m)\u001b[0m\u001b[0;34m\u001b[0m\u001b[0;34m\u001b[0m\u001b[0m\n\u001b[0m\u001b[1;32m   1104\u001b[0m         \u001b[0mobj\u001b[0m\u001b[0;34m.\u001b[0m\u001b[0moffset\u001b[0m \u001b[0;34m=\u001b[0m \u001b[0mtarfile\u001b[0m\u001b[0;34m.\u001b[0m\u001b[0mfileobj\u001b[0m\u001b[0;34m.\u001b[0m\u001b[0mtell\u001b[0m\u001b[0;34m(\u001b[0m\u001b[0;34m)\u001b[0m \u001b[0;34m-\u001b[0m \u001b[0mBLOCKSIZE\u001b[0m\u001b[0;34m\u001b[0m\u001b[0;34m\u001b[0m\u001b[0m\n",
      "\u001b[0;32m/usr/lib/python3.8/tarfile.py\u001b[0m in \u001b[0;36mfrombuf\u001b[0;34m(cls, buf, encoding, errors)\u001b[0m\n\u001b[1;32m   1044\u001b[0m \u001b[0;34m\u001b[0m\u001b[0m\n\u001b[0;32m-> 1045\u001b[0;31m         \u001b[0mchksum\u001b[0m \u001b[0;34m=\u001b[0m \u001b[0mnti\u001b[0m\u001b[0;34m(\u001b[0m\u001b[0mbuf\u001b[0m\u001b[0;34m[\u001b[0m\u001b[0;36m148\u001b[0m\u001b[0;34m:\u001b[0m\u001b[0;36m156\u001b[0m\u001b[0;34m]\u001b[0m\u001b[0;34m)\u001b[0m\u001b[0;34m\u001b[0m\u001b[0;34m\u001b[0m\u001b[0m\n\u001b[0m\u001b[1;32m   1046\u001b[0m         \u001b[0;32mif\u001b[0m \u001b[0mchksum\u001b[0m \u001b[0;32mnot\u001b[0m \u001b[0;32min\u001b[0m \u001b[0mcalc_chksums\u001b[0m\u001b[0;34m(\u001b[0m\u001b[0mbuf\u001b[0m\u001b[0;34m)\u001b[0m\u001b[0;34m:\u001b[0m\u001b[0;34m\u001b[0m\u001b[0;34m\u001b[0m\u001b[0m\n",
      "\u001b[0;32m/usr/lib/python3.8/tarfile.py\u001b[0m in \u001b[0;36mnti\u001b[0;34m(s)\u001b[0m\n\u001b[1;32m    188\u001b[0m         \u001b[0;32mexcept\u001b[0m \u001b[0mValueError\u001b[0m\u001b[0;34m:\u001b[0m\u001b[0;34m\u001b[0m\u001b[0;34m\u001b[0m\u001b[0m\n\u001b[0;32m--> 189\u001b[0;31m             \u001b[0;32mraise\u001b[0m \u001b[0mInvalidHeaderError\u001b[0m\u001b[0;34m(\u001b[0m\u001b[0;34m\"invalid header\"\u001b[0m\u001b[0;34m)\u001b[0m\u001b[0;34m\u001b[0m\u001b[0;34m\u001b[0m\u001b[0m\n\u001b[0m\u001b[1;32m    190\u001b[0m     \u001b[0;32mreturn\u001b[0m \u001b[0mn\u001b[0m\u001b[0;34m\u001b[0m\u001b[0;34m\u001b[0m\u001b[0m\n",
      "\u001b[0;31mInvalidHeaderError\u001b[0m: invalid header",
      "\nDuring handling of the above exception, another exception occurred:\n",
      "\u001b[0;31mReadError\u001b[0m                                 Traceback (most recent call last)",
      "\u001b[0;32m<ipython-input-27-94da94af6d14>\u001b[0m in \u001b[0;36m<module>\u001b[0;34m\u001b[0m\n\u001b[1;32m      7\u001b[0m         \u001b[0;32mif\u001b[0m \u001b[0;34m'gzip compressed'\u001b[0m \u001b[0;32min\u001b[0m \u001b[0mthe_magic\u001b[0m\u001b[0;34m.\u001b[0m\u001b[0mname\u001b[0m\u001b[0;34m:\u001b[0m\u001b[0;34m\u001b[0m\u001b[0;34m\u001b[0m\u001b[0m\n\u001b[1;32m      8\u001b[0m             \u001b[0;32mtry\u001b[0m\u001b[0;34m:\u001b[0m\u001b[0;34m\u001b[0m\u001b[0;34m\u001b[0m\u001b[0m\n\u001b[0;32m----> 9\u001b[0;31m                 \u001b[0;32mwith\u001b[0m \u001b[0mtarfile\u001b[0m\u001b[0;34m.\u001b[0m\u001b[0mopen\u001b[0m\u001b[0;34m(\u001b[0m\u001b[0mfileobj\u001b[0m\u001b[0;34m=\u001b[0m\u001b[0mfobj\u001b[0m\u001b[0;34m,\u001b[0m \u001b[0mmode\u001b[0m\u001b[0;34m=\u001b[0m\u001b[0;34m'r:gz'\u001b[0m\u001b[0;34m)\u001b[0m \u001b[0;32mas\u001b[0m \u001b[0munzipped_file\u001b[0m\u001b[0;34m:\u001b[0m\u001b[0;34m\u001b[0m\u001b[0;34m\u001b[0m\u001b[0m\n\u001b[0m\u001b[1;32m     10\u001b[0m                     \u001b[0;31m#snd_magic = magic.detect_from_fobj(unzipped_file)\u001b[0m\u001b[0;34m\u001b[0m\u001b[0;34m\u001b[0m\u001b[0;34m\u001b[0m\u001b[0m\n\u001b[1;32m     11\u001b[0m                     \u001b[0mprint\u001b[0m\u001b[0;34m(\u001b[0m\u001b[0;34m\"     * is regular \"\u001b[0m\u001b[0;34m,\u001b[0m \u001b[0munzipped_file\u001b[0m\u001b[0;34m.\u001b[0m\u001b[0mnext\u001b[0m\u001b[0;34m(\u001b[0m\u001b[0;34m)\u001b[0m\u001b[0;34m.\u001b[0m\u001b[0misreg\u001b[0m\u001b[0;34m(\u001b[0m\u001b[0;34m)\u001b[0m\u001b[0;34m)\u001b[0m\u001b[0;34m\u001b[0m\u001b[0;34m\u001b[0m\u001b[0m\n",
      "\u001b[0;32m/usr/lib/python3.8/tarfile.py\u001b[0m in \u001b[0;36mopen\u001b[0;34m(cls, name, mode, fileobj, bufsize, **kwargs)\u001b[0m\n\u001b[1;32m   1615\u001b[0m             \u001b[0;32melse\u001b[0m\u001b[0;34m:\u001b[0m\u001b[0;34m\u001b[0m\u001b[0;34m\u001b[0m\u001b[0m\n\u001b[1;32m   1616\u001b[0m                 \u001b[0;32mraise\u001b[0m \u001b[0mCompressionError\u001b[0m\u001b[0;34m(\u001b[0m\u001b[0;34m\"unknown compression type %r\"\u001b[0m \u001b[0;34m%\u001b[0m \u001b[0mcomptype\u001b[0m\u001b[0;34m)\u001b[0m\u001b[0;34m\u001b[0m\u001b[0;34m\u001b[0m\u001b[0m\n\u001b[0;32m-> 1617\u001b[0;31m             \u001b[0;32mreturn\u001b[0m \u001b[0mfunc\u001b[0m\u001b[0;34m(\u001b[0m\u001b[0mname\u001b[0m\u001b[0;34m,\u001b[0m \u001b[0mfilemode\u001b[0m\u001b[0;34m,\u001b[0m \u001b[0mfileobj\u001b[0m\u001b[0;34m,\u001b[0m \u001b[0;34m**\u001b[0m\u001b[0mkwargs\u001b[0m\u001b[0;34m)\u001b[0m\u001b[0;34m\u001b[0m\u001b[0;34m\u001b[0m\u001b[0m\n\u001b[0m\u001b[1;32m   1618\u001b[0m \u001b[0;34m\u001b[0m\u001b[0m\n\u001b[1;32m   1619\u001b[0m         \u001b[0;32melif\u001b[0m \u001b[0;34m\"|\"\u001b[0m \u001b[0;32min\u001b[0m \u001b[0mmode\u001b[0m\u001b[0;34m:\u001b[0m\u001b[0;34m\u001b[0m\u001b[0;34m\u001b[0m\u001b[0m\n",
      "\u001b[0;32m/usr/lib/python3.8/tarfile.py\u001b[0m in \u001b[0;36mgzopen\u001b[0;34m(cls, name, mode, fileobj, compresslevel, **kwargs)\u001b[0m\n\u001b[1;32m   1669\u001b[0m \u001b[0;34m\u001b[0m\u001b[0m\n\u001b[1;32m   1670\u001b[0m         \u001b[0;32mtry\u001b[0m\u001b[0;34m:\u001b[0m\u001b[0;34m\u001b[0m\u001b[0;34m\u001b[0m\u001b[0m\n\u001b[0;32m-> 1671\u001b[0;31m             \u001b[0mt\u001b[0m \u001b[0;34m=\u001b[0m \u001b[0mcls\u001b[0m\u001b[0;34m.\u001b[0m\u001b[0mtaropen\u001b[0m\u001b[0;34m(\u001b[0m\u001b[0mname\u001b[0m\u001b[0;34m,\u001b[0m \u001b[0mmode\u001b[0m\u001b[0;34m,\u001b[0m \u001b[0mfileobj\u001b[0m\u001b[0;34m,\u001b[0m \u001b[0;34m**\u001b[0m\u001b[0mkwargs\u001b[0m\u001b[0;34m)\u001b[0m\u001b[0;34m\u001b[0m\u001b[0;34m\u001b[0m\u001b[0m\n\u001b[0m\u001b[1;32m   1672\u001b[0m         \u001b[0;32mexcept\u001b[0m \u001b[0mOSError\u001b[0m\u001b[0;34m:\u001b[0m\u001b[0;34m\u001b[0m\u001b[0;34m\u001b[0m\u001b[0m\n\u001b[1;32m   1673\u001b[0m             \u001b[0mfileobj\u001b[0m\u001b[0;34m.\u001b[0m\u001b[0mclose\u001b[0m\u001b[0;34m(\u001b[0m\u001b[0;34m)\u001b[0m\u001b[0;34m\u001b[0m\u001b[0;34m\u001b[0m\u001b[0m\n",
      "\u001b[0;32m/usr/lib/python3.8/tarfile.py\u001b[0m in \u001b[0;36mtaropen\u001b[0;34m(cls, name, mode, fileobj, **kwargs)\u001b[0m\n\u001b[1;32m   1645\u001b[0m         \u001b[0;32mif\u001b[0m \u001b[0mmode\u001b[0m \u001b[0;32mnot\u001b[0m \u001b[0;32min\u001b[0m \u001b[0;34m(\u001b[0m\u001b[0;34m\"r\"\u001b[0m\u001b[0;34m,\u001b[0m \u001b[0;34m\"a\"\u001b[0m\u001b[0;34m,\u001b[0m \u001b[0;34m\"w\"\u001b[0m\u001b[0;34m,\u001b[0m \u001b[0;34m\"x\"\u001b[0m\u001b[0;34m)\u001b[0m\u001b[0;34m:\u001b[0m\u001b[0;34m\u001b[0m\u001b[0;34m\u001b[0m\u001b[0m\n\u001b[1;32m   1646\u001b[0m             \u001b[0;32mraise\u001b[0m \u001b[0mValueError\u001b[0m\u001b[0;34m(\u001b[0m\u001b[0;34m\"mode must be 'r', 'a', 'w' or 'x'\"\u001b[0m\u001b[0;34m)\u001b[0m\u001b[0;34m\u001b[0m\u001b[0;34m\u001b[0m\u001b[0m\n\u001b[0;32m-> 1647\u001b[0;31m         \u001b[0;32mreturn\u001b[0m \u001b[0mcls\u001b[0m\u001b[0;34m(\u001b[0m\u001b[0mname\u001b[0m\u001b[0;34m,\u001b[0m \u001b[0mmode\u001b[0m\u001b[0;34m,\u001b[0m \u001b[0mfileobj\u001b[0m\u001b[0;34m,\u001b[0m \u001b[0;34m**\u001b[0m\u001b[0mkwargs\u001b[0m\u001b[0;34m)\u001b[0m\u001b[0;34m\u001b[0m\u001b[0;34m\u001b[0m\u001b[0m\n\u001b[0m\u001b[1;32m   1648\u001b[0m \u001b[0;34m\u001b[0m\u001b[0m\n\u001b[1;32m   1649\u001b[0m     \u001b[0;34m@\u001b[0m\u001b[0mclassmethod\u001b[0m\u001b[0;34m\u001b[0m\u001b[0;34m\u001b[0m\u001b[0m\n",
      "\u001b[0;32m/usr/lib/python3.8/tarfile.py\u001b[0m in \u001b[0;36m__init__\u001b[0;34m(self, name, mode, fileobj, format, tarinfo, dereference, ignore_zeros, encoding, errors, pax_headers, debug, errorlevel, copybufsize)\u001b[0m\n\u001b[1;32m   1508\u001b[0m             \u001b[0;32mif\u001b[0m \u001b[0mself\u001b[0m\u001b[0;34m.\u001b[0m\u001b[0mmode\u001b[0m \u001b[0;34m==\u001b[0m \u001b[0;34m\"r\"\u001b[0m\u001b[0;34m:\u001b[0m\u001b[0;34m\u001b[0m\u001b[0;34m\u001b[0m\u001b[0m\n\u001b[1;32m   1509\u001b[0m                 \u001b[0mself\u001b[0m\u001b[0;34m.\u001b[0m\u001b[0mfirstmember\u001b[0m \u001b[0;34m=\u001b[0m \u001b[0;32mNone\u001b[0m\u001b[0;34m\u001b[0m\u001b[0;34m\u001b[0m\u001b[0m\n\u001b[0;32m-> 1510\u001b[0;31m                 \u001b[0mself\u001b[0m\u001b[0;34m.\u001b[0m\u001b[0mfirstmember\u001b[0m \u001b[0;34m=\u001b[0m \u001b[0mself\u001b[0m\u001b[0;34m.\u001b[0m\u001b[0mnext\u001b[0m\u001b[0;34m(\u001b[0m\u001b[0;34m)\u001b[0m\u001b[0;34m\u001b[0m\u001b[0;34m\u001b[0m\u001b[0m\n\u001b[0m\u001b[1;32m   1511\u001b[0m \u001b[0;34m\u001b[0m\u001b[0m\n\u001b[1;32m   1512\u001b[0m             \u001b[0;32mif\u001b[0m \u001b[0mself\u001b[0m\u001b[0;34m.\u001b[0m\u001b[0mmode\u001b[0m \u001b[0;34m==\u001b[0m \u001b[0;34m\"a\"\u001b[0m\u001b[0;34m:\u001b[0m\u001b[0;34m\u001b[0m\u001b[0;34m\u001b[0m\u001b[0m\n",
      "\u001b[0;32m/usr/lib/python3.8/tarfile.py\u001b[0m in \u001b[0;36mnext\u001b[0;34m(self)\u001b[0m\n\u001b[1;32m   2323\u001b[0m                     \u001b[0;32mcontinue\u001b[0m\u001b[0;34m\u001b[0m\u001b[0;34m\u001b[0m\u001b[0m\n\u001b[1;32m   2324\u001b[0m                 \u001b[0;32melif\u001b[0m \u001b[0mself\u001b[0m\u001b[0;34m.\u001b[0m\u001b[0moffset\u001b[0m \u001b[0;34m==\u001b[0m \u001b[0;36m0\u001b[0m\u001b[0;34m:\u001b[0m\u001b[0;34m\u001b[0m\u001b[0;34m\u001b[0m\u001b[0m\n\u001b[0;32m-> 2325\u001b[0;31m                     \u001b[0;32mraise\u001b[0m \u001b[0mReadError\u001b[0m\u001b[0;34m(\u001b[0m\u001b[0mstr\u001b[0m\u001b[0;34m(\u001b[0m\u001b[0me\u001b[0m\u001b[0;34m)\u001b[0m\u001b[0;34m)\u001b[0m\u001b[0;34m\u001b[0m\u001b[0;34m\u001b[0m\u001b[0m\n\u001b[0m\u001b[1;32m   2326\u001b[0m             \u001b[0;32mexcept\u001b[0m \u001b[0mEmptyHeaderError\u001b[0m\u001b[0;34m:\u001b[0m\u001b[0;34m\u001b[0m\u001b[0;34m\u001b[0m\u001b[0m\n\u001b[1;32m   2327\u001b[0m                 \u001b[0;32mif\u001b[0m \u001b[0mself\u001b[0m\u001b[0;34m.\u001b[0m\u001b[0moffset\u001b[0m \u001b[0;34m==\u001b[0m \u001b[0;36m0\u001b[0m\u001b[0;34m:\u001b[0m\u001b[0;34m\u001b[0m\u001b[0;34m\u001b[0m\u001b[0m\n",
      "\u001b[0;31mReadError\u001b[0m: invalid header"
     ]
    }
   ],
   "source": [
    "with tarfile.open('tests/minitest2.tar') as ff:\n",
    "    for fi in ff.getmembers()[1:]:\n",
    "        fobj = ff.extractfile(fi.name)\n",
    "        the_magic = magic.detect_from_content(fobj.read(2048))\n",
    "        fobj.seek(0)\n",
    "        print(fi.name,the_magic.name)\n",
    "        if 'gzip compressed' in the_magic.name:\n",
    "            try:\n",
    "                with tarfile.open(fileobj=fobj, mode='r:gz') as unzipped_file:\n",
    "                    #snd_magic = magic.detect_from_fobj(unzipped_file)\n",
    "                    print(\"     * is regular \", unzipped_file.next().isreg())\n",
    "                    #unzipped_file.seek(0)\n",
    "                    #if snd_magic.mime_type == 'application/x-tar':\n",
    "                    #    unzipped.getmembers()\n",
    "            except gzip.BadGzipFile:\n",
    "                print('gave me badgzipfile')"
   ]
  },
  {
   "cell_type": "code",
   "execution_count": 14,
   "metadata": {},
   "outputs": [
    {
     "name": "stdout",
     "output_type": "stream",
     "text": [
      "1804/1804.01586.gz gzip compressed data, last modified: Fri Jun  1 00:13:46 2018, from Unix\n",
      "     *  FileMagic(mime_type='application/x-tar', encoding='binary', name='POSIX tar archive (GNU)')\n",
      "[<TarInfo 'custom.bbx' at 0x7f1f18423640>, <TarInfo 'disloc-drag-semiiso-v2.bbl' at 0x7f1f18423a00>, <TarInfo 'disloc-drag-semiiso-v2.tex' at 0x7f1f18423ac0>, <TarInfo 'figures' at 0x7f1f184237c0>, <TarInfo 'figures/disloc_core' at 0x7f1f18423940>, <TarInfo 'figures/disloc_core/dsq_Fe_1.5708.pdf' at 0x7f1f18423f40>, <TarInfo 'figures/disloc_core/dsq_ISO_1.5708.pdf' at 0x7f1f18423c40>, <TarInfo 'figures/B_room_semiiso_compare_Cu.pdf' at 0x7f1f18423880>, <TarInfo 'figures/B_ZnSn.pdf' at 0x7f1f18423700>, <TarInfo 'figures/B_room_semiiso_compare_0.7854.pdf' at 0x7f1f18423dc0>, <TarInfo 'figures/B_room_semiiso_compare_1.5708.pdf' at 0x7f1f081f04c0>, <TarInfo 'figures/B_room_semiiso_compare_0.0000.pdf' at 0x7f1f081f0340>, <TarInfo 'figures/B_Cu.pdf' at 0x7f1f081f0400>, <TarInfo 'figures/B_anis_neg_Fe.pdf' at 0x7f1f081f0280>, <TarInfo 'utphys-custom.bst' at 0x7f1f081f0640>]\n",
      "1804/1804.01592.gz gzip compressed data, last modified: Fri Apr  6 00:01:57 2018, from Unix\n",
      "     *  FileMagic(mime_type='application/x-tar', encoding='binary', name='POSIX tar archive (GNU)')\n",
      "[<TarInfo 'Ridge_sec1.tex' at 0x7f1f081f0a00>, <TarInfo 'Ridge_sec2.tex' at 0x7f1f18423640>, <TarInfo 'Ridge_sec3-1.tex' at 0x7f1f18423ac0>, <TarInfo 'Ridge_sec3-234.tex' at 0x7f1f184237c0>, <TarInfo 'Ridge_sec3-5.tex' at 0x7f1f18423940>, <TarInfo 'Ridge_sec3-a.tex' at 0x7f1f18423f40>, <TarInfo 'Ridge_sec4.tex' at 0x7f1f18423c40>, <TarInfo 'Ridge_sec5.tex' at 0x7f1f18423880>, <TarInfo 'Ridge.tex' at 0x7f1f18423a00>]\n",
      "1804/1804.01583.gz gzip compressed data, last modified: Mon May 14 00:08:43 2018, from Unix\n",
      "     *  FileMagic(mime_type='application/x-tar', encoding='binary', name='POSIX tar archive (GNU)')\n",
      "[<TarInfo 'abstract.tex' at 0x7f1f18423700>, <TarInfo 'basic_efficiency.tex' at 0x7f1f18423640>, <TarInfo 'basic.tex' at 0x7f1f18423ac0>, <TarInfo 'computational.tex' at 0x7f1f18423940>, <TarInfo 'conclusion.tex' at 0x7f1f184237c0>, <TarInfo 'evaluation.tex' at 0x7f1f18423c40>, <TarInfo 'figures' at 0x7f1f18423f40>, <TarInfo 'figures/ha_plot.pdf' at 0x7f1f18423a00>, <TarInfo 'figures/heat_reach.png' at 0x7f1f18423880>, <TarInfo 'figures/heat_sym_summary.dat' at 0x7f1f18423dc0>, <TarInfo 'figures/heli.pdf' at 0x7f1f081f04c0>, <TarInfo 'figures/mimetype' at 0x7f1f081f0a00>, <TarInfo 'figures/meta.xml' at 0x7f1f081f0280>, <TarInfo 'figures/content.xml' at 0x7f1f081f0340>, <TarInfo 'figures/Pictures' at 0x7f1f081f0400>, <TarInfo 'figures/Pictures/1000020100000468000002AE72EEC70D.png' at 0x7f1f081f0700>, <TarInfo 'figures/styles.xml' at 0x7f1f081f0640>, <TarInfo 'figures/Configurations2' at 0x7f1f081f0b80>, <TarInfo 'figures/Configurations2/popupmenu' at 0x7f1f081f0c40>, <TarInfo 'figures/Configurations2/progressbar' at 0x7f1f081f0940>, <TarInfo 'figures/Configurations2/toolpanel' at 0x7f1f081f0ac0>, <TarInfo 'figures/Configurations2/floater' at 0x7f1f081f0d00>, <TarInfo 'figures/Configurations2/accelerator' at 0x7f1f081f0dc0>, <TarInfo 'figures/Configurations2/menubar' at 0x7f1f081f0e80>, <TarInfo 'figures/Configurations2/toolbar' at 0x7f1f081f0f40>, <TarInfo 'figures/Configurations2/statusbar' at 0x7f1f081f07c0>, <TarInfo 'figures/Configurations2/images' at 0x7f1f081f0580>, <TarInfo 'figures/Configurations2/images/Bitmaps' at 0x7f1f081f0880>, <TarInfo 'figures/Object 1' at 0x7f1f081f2040>, <TarInfo 'figures/Object 1/Configurations2' at 0x7f1f081f2100>, <TarInfo 'figures/Object 1/Configurations2/menubar' at 0x7f1f081f21c0>, <TarInfo 'figures/Object 1/Configurations2/popupmenu' at 0x7f1f081f2280>, <TarInfo 'figures/Object 1/Configurations2/statusbar' at 0x7f1f081f2340>, <TarInfo 'figures/Object 1/Configurations2/floater' at 0x7f1f081f24c0>, <TarInfo 'figures/Object 1/Configurations2/accelerator' at 0x7f1f081f2400>, <TarInfo 'figures/Object 1/Configurations2/images' at 0x7f1f081f2580>, <TarInfo 'figures/Object 1/Configurations2/images/Bitmaps' at 0x7f1f081f2640>, <TarInfo 'figures/Object 1/Configurations2/progressbar' at 0x7f1f081f2700>, <TarInfo 'figures/Object 1/Configurations2/toolpanel' at 0x7f1f081f27c0>, <TarInfo 'figures/Object 1/Configurations2/toolbar' at 0x7f1f081f2880>, <TarInfo 'figures/Object 1/content.xml' at 0x7f1f081f2940>, <TarInfo 'figures/Object 1/settings.xml' at 0x7f1f081f2a00>, <TarInfo 'figures/Thumbnails' at 0x7f1f081f2ac0>, <TarInfo 'figures/Thumbnails/thumbnail.png' at 0x7f1f081f2c40>, <TarInfo 'figures/Object 2' at 0x7f1f081f2b80>, <TarInfo 'figures/Object 2/Configurations2' at 0x7f1f081f2dc0>, <TarInfo 'figures/Object 2/Configurations2/menubar' at 0x7f1f081f2d00>, <TarInfo 'figures/Object 2/Configurations2/popupmenu' at 0x7f1f081f2e80>, <TarInfo 'figures/Object 2/Configurations2/statusbar' at 0x7f1f081f2f40>, <TarInfo 'figures/Object 2/Configurations2/floater' at 0x7f1f081d5040>, <TarInfo 'figures/Object 2/Configurations2/accelerator' at 0x7f1f081d5340>, <TarInfo 'figures/Object 2/Configurations2/progressbar' at 0x7f1f081d5100>, <TarInfo 'figures/Object 2/Configurations2/toolpanel' at 0x7f1f081d51c0>, <TarInfo 'figures/Object 2/Configurations2/images' at 0x7f1f081d5280>, <TarInfo 'figures/Object 2/Configurations2/images/Bitmaps' at 0x7f1f081d5580>, <TarInfo 'figures/Object 2/Configurations2/toolbar' at 0x7f1f081d5400>, <TarInfo 'figures/Object 2/content.xml' at 0x7f1f081d54c0>, <TarInfo 'figures/Object 2/settings.xml' at 0x7f1f081d5640>, <TarInfo 'figures/settings.xml' at 0x7f1f081d5880>, <TarInfo 'figures/Object 3' at 0x7f1f081d57c0>, <TarInfo 'figures/Object 3/Configurations2' at 0x7f1f081d5940>, <TarInfo 'figures/Object 3/Configurations2/menubar' at 0x7f1f081d5700>, <TarInfo 'figures/Object 3/Configurations2/popupmenu' at 0x7f1f081d5a00>, <TarInfo 'figures/Object 3/Configurations2/statusbar' at 0x7f1f081d5dc0>, <TarInfo 'figures/Object 3/Configurations2/floater' at 0x7f1f081d5ac0>, <TarInfo 'figures/Object 3/Configurations2/accelerator' at 0x7f1f081d5b80>, <TarInfo 'figures/Object 3/Configurations2/progressbar' at 0x7f1f081d5c40>, <TarInfo 'figures/Object 3/Configurations2/toolpanel' at 0x7f1f081d5d00>, <TarInfo 'figures/Object 3/Configurations2/images' at 0x7f1f081d5e80>, <TarInfo 'figures/Object 3/Configurations2/images/Bitmaps' at 0x7f1f081d5f40>, <TarInfo 'figures/Object 3/Configurations2/toolbar' at 0x7f1f081ca040>, <TarInfo 'figures/Object 3/settings.xml' at 0x7f1f081ca100>, <TarInfo 'figures/Object 3/content.xml' at 0x7f1f081ca1c0>, <TarInfo 'figures/ObjectReplacements' at 0x7f1f081ca340>, <TarInfo 'figures/ObjectReplacements/Object_2' at 0x7f1f081ca280>, <TarInfo 'figures/ObjectReplacements/Object_3' at 0x7f1f081ca400>, <TarInfo 'figures/ObjectReplacements/Object_1' at 0x7f1f081ca4c0>, <TarInfo 'figures/META-INF' at 0x7f1f081ca580>, <TarInfo 'figures/META-INF/manifest.xml' at 0x7f1f081ca640>, <TarInfo 'heat_nonsym.tex' at 0x7f1f081ca700>, <TarInfo 'heli_single.tex' at 0x7f1f081ca880>, <TarInfo 'intro.tex' at 0x7f1f081ca7c0>, <TarInfo 'llncs.cls' at 0x7f1f081ca940>, <TarInfo 'llncsdoc.sty' at 0x7f1f081caac0>, <TarInfo 'main.bbl' at 0x7f1f081cab80>, <TarInfo 'main.fdb_latexmk' at 0x7f1f081caa00>, <TarInfo 'main.fls' at 0x7f1f081cad00>, <TarInfo 'main.tex' at 0x7f1f081cadc0>, <TarInfo 'Makefile' at 0x7f1f081cae80>, <TarInfo 'memory.tex' at 0x7f1f081cac40>, <TarInfo 'outline1.tex' at 0x7f1f081caf40>, <TarInfo 'outline2.tex' at 0x7f1efbc78100>, <TarInfo 'outline3.tex' at 0x7f1efbc78040>, <TarInfo 'outline_fig.tex' at 0x7f1efbc781c0>, <TarInfo 'prelude1.aux' at 0x7f1efbc78340>, <TarInfo 'related_work.tex' at 0x7f1efbc78280>, <TarInfo 'scalability.tex' at 0x7f1efbc78400>, <TarInfo 'splncs04.bst' at 0x7f1efbc78580>]\n",
      "1804/1804.01585.gz gzip compressed data, last modified: Fri Apr  6 00:01:52 2018, from Unix\n",
      "     *  FileMagic(mime_type='application/x-tar', encoding='binary', name='POSIX tar archive (GNU)')\n",
      "[<TarInfo 'Fig1.pdf' at 0x7f1efbc78700>, <TarInfo 'Fig2.pdf' at 0x7f1f18423700>, <TarInfo 'Fig3.pdf' at 0x7f1f18423ac0>, <TarInfo 'main.bbl' at 0x7f1f18423940>, <TarInfo 'main.tex' at 0x7f1f184237c0>]\n",
      "1804/1804.01588.gz gzip compressed data, last modified: Fri Apr  6 00:01:53 2018, from Unix\n",
      "     *  FileMagic(mime_type='application/x-tar', encoding='binary', name='POSIX tar archive (GNU)')\n",
      "[<TarInfo 'algcompatible.sty' at 0x7f1f18423f40>, <TarInfo 'algorithmicx.sty' at 0x7f1f18423700>, <TarInfo 'figs' at 0x7f1f18423ac0>, <TarInfo 'figs/.svn' at 0x7f1f184237c0>, <TarInfo 'figs/.svn/all-wcprops' at 0x7f1f18423940>, <TarInfo 'figs/.svn/entries' at 0x7f1f18423c40>, <TarInfo 'figs/.svn/prop-base' at 0x7f1f18423640>, <TarInfo 'figs/.svn/prop-base/fig-1.pdf.svn-base' at 0x7f1f18423dc0>, <TarInfo 'figs/.svn/prop-base/fig-klein-ssp.pdf.svn-base' at 0x7f1f18423a00>, <TarInfo 'figs/.svn/prop-base/fig-p-t-p.pdf.svn-base' at 0x7f1f18423880>, <TarInfo 'figs/.svn/prop-base/fig-P3.pdf.svn-base' at 0x7f1f081f04c0>, <TarInfo 'figs/.svn/prop-base/fig-Phase1.pdf.svn-base' at 0x7f1f081f0a00>, <TarInfo 'figs/.svn/prop-base/fig-sibling.pdf.svn-base' at 0x7f1f081f0280>, <TarInfo 'figs/.svn/prop-base/sibling-pay-for.pdf.svn-base' at 0x7f1f081f0340>, <TarInfo 'figs/.svn/props' at 0x7f1f081f0400>, <TarInfo 'figs/.svn/text-base' at 0x7f1f081f0640>, <TarInfo 'figs/.svn/text-base/drawing.svg.svn-base' at 0x7f1f081f0700>, <TarInfo 'figs/.svn/text-base/fig-1.pdf.svn-base' at 0x7f1f081f0b80>, <TarInfo 'figs/.svn/text-base/fig-1.svg.svn-base' at 0x7f1f081f0940>, <TarInfo 'figs/.svn/text-base/fig-2.svg.svn-base' at 0x7f1f081f0ac0>, <TarInfo 'figs/.svn/text-base/fig-3.svg.svn-base' at 0x7f1f081f0d00>, <TarInfo 'figs/.svn/text-base/fig-klein-ssp.pdf.svn-base' at 0x7f1f081f0dc0>, <TarInfo 'figs/.svn/text-base/fig-klein-ssp.svg.svn-base' at 0x7f1f081f0e80>, <TarInfo 'figs/.svn/text-base/fig-p-t-p.pdf.svn-base' at 0x7f1f081f0f40>, <TarInfo 'figs/.svn/text-base/fig-p-t-p.svg.svn-base' at 0x7f1f081f07c0>, <TarInfo 'figs/.svn/text-base/fig-P2.pdf.svn-base' at 0x7f1f081f0580>, <TarInfo 'figs/.svn/text-base/fig-P2.svg.svn-base' at 0x7f1f081f0880>, <TarInfo 'figs/.svn/text-base/fig-P3.pdf.svn-base' at 0x7f1f081f0c40>, <TarInfo 'figs/.svn/text-base/fig-P3.svg.svn-base' at 0x7f1f081f2100>, <TarInfo 'figs/.svn/text-base/fig-Phase1.pdf.svn-base' at 0x7f1f081f21c0>, <TarInfo 'figs/.svn/text-base/fig-Phase2.pdf.svn-base' at 0x7f1f081f2280>, <TarInfo 'figs/.svn/text-base/fig-sibling.pdf.svn-base' at 0x7f1f081f2040>, <TarInfo 'figs/.svn/text-base/fig-sibling.svg.svn-base' at 0x7f1f081f24c0>, <TarInfo 'figs/.svn/text-base/sibling-pay-for.pdf.svn-base' at 0x7f1f081f2400>, <TarInfo 'figs/.svn/text-base/sibling-pay-for.svg.svn-base' at 0x7f1f081f2580>, <TarInfo 'figs/.svn/text-base/stretch.pdf.svn-base' at 0x7f1f081f2640>, <TarInfo 'figs/.svn/text-base/stretch.svg.svn-base' at 0x7f1f081f2700>, <TarInfo 'figs/.svn/tmp' at 0x7f1f081f27c0>, <TarInfo 'figs/.svn/tmp/prop-base' at 0x7f1f081f2880>, <TarInfo 'figs/.svn/tmp/props' at 0x7f1f081f2340>, <TarInfo 'figs/.svn/tmp/text-base' at 0x7f1f081f2940>, <TarInfo 'figs/drawing.svg' at 0x7f1f081f2a00>, <TarInfo 'figs/fig-1.pdf' at 0x7f1f081f2ac0>, <TarInfo 'figs/fig-1.svg' at 0x7f1f081f2b80>, <TarInfo 'figs/fig-2.svg' at 0x7f1f081f2dc0>, <TarInfo 'figs/fig-3.svg' at 0x7f1f081f2d00>, <TarInfo 'figs/fig-canonical-pair.svg' at 0x7f1f081f2e80>, <TarInfo 'figs/fig-klein-ssp.pdf' at 0x7f1f081f2f40>, <TarInfo 'figs/fig-klein-ssp.svg' at 0x7f1f081f2c40>, <TarInfo 'figs/fig-p-t-p.pdf' at 0x7f1f081d5340>, <TarInfo 'figs/fig-p-t-p.svg' at 0x7f1f081d5100>, <TarInfo 'figs/fig-P2.pdf' at 0x7f1f081d51c0>, <TarInfo 'figs/fig-P2.svg' at 0x7f1f081d5280>, <TarInfo 'figs/fig-P3.pdf' at 0x7f1f081d5580>, <TarInfo 'figs/fig-P3.svg' at 0x7f1f081d5400>, <TarInfo 'figs/fig-Phase1.pdf' at 0x7f1f081d54c0>, <TarInfo 'figs/fig-Phase12.pdf' at 0x7f1f081d5640>, <TarInfo 'figs/fig-Phase12.svg' at 0x7f1f081d5040>, <TarInfo 'figs/fig-Phase2.pdf' at 0x7f1f081d57c0>, <TarInfo 'figs/fig-sibling-1.pdf' at 0x7f1f081d5940>, <TarInfo 'figs/fig-sibling.pdf' at 0x7f1f081d5880>, <TarInfo 'figs/fig-sibling.svg' at 0x7f1f081d5a00>, <TarInfo 'figs/sibling-pay-for.pdf' at 0x7f1f081d5dc0>, <TarInfo 'figs/sibling-pay-for.svg' at 0x7f1f081d5ac0>, <TarInfo 'figs/stretch.pdf' at 0x7f1f081d5b80>, <TarInfo 'figs/stretch.svg' at 0x7f1f081d5c40>, <TarInfo 'mdframed.sty' at 0x7f1f081d5d00>, <TarInfo 'subset-minor-spanner.bbl' at 0x7f1f081d5e80>, <TarInfo 'subset-minor-spanner.tex' at 0x7f1f081d5f40>, <TarInfo 'tcolorbox.sty' at 0x7f1f081d5700>]\n",
      "1804/1804.01589.gz gzip compressed data, was \"BianchiDinizV2.tex\", last modified: Wed Apr 18 20:49:48 2018, max compression, from Unix\n",
      "     *  FileMagic(mime_type='text/x-tex', encoding='us-ascii', name='LaTeX 2e document, ASCII text, with very long lines, with CRLF line terminators')\n",
      "1804/1804.01587.pdf PDF document, version 1.7\n",
      "1804/1804.01584.gz gzip compressed data, last modified: Fri Apr  6 00:01:52 2018, from Unix\n",
      "     *  FileMagic(mime_type='application/x-tar', encoding='binary', name='POSIX tar archive (GNU)')\n",
      "[<TarInfo 'aastex61.cls' at 0x7f1f081d31c0>, <TarInfo 'msfinal.tex' at 0x7f1f18423f40>, <TarInfo 'sma_noemaco10_spectrum_systemic_zoom.eps' at 0x7f1f18423ac0>]\n",
      "1804/1804.01591.gz gzip compressed data, last modified: Fri Apr  6 00:01:56 2018, from Unix\n",
      "     *  FileMagic(mime_type='application/x-tar', encoding='binary', name='POSIX tar archive (GNU)')\n",
      "[<TarInfo 'fig10a.pdf' at 0x7f1f18423940>, <TarInfo 'fig10b.pdf' at 0x7f1f18423f40>, <TarInfo 'fig11.pdf' at 0x7f1f184237c0>, <TarInfo 'fig12a-1.pdf' at 0x7f1f18423700>, <TarInfo 'fig12a-2.pdf' at 0x7f1f18423c40>, <TarInfo 'fig12b-1.pdf' at 0x7f1f18423dc0>, <TarInfo 'fig12b-2.pdf' at 0x7f1f18423640>, <TarInfo 'fig13a-1.pdf' at 0x7f1f18423a00>, <TarInfo 'fig13a-2.pdf' at 0x7f1f18423880>, <TarInfo 'fig13b-1.pdf' at 0x7f1f18423ac0>, <TarInfo 'fig13b-2.pdf' at 0x7f1f081f0a00>, <TarInfo 'fig14.pdf' at 0x7f1f081f0280>, <TarInfo 'fig1a.pdf' at 0x7f1f081f0340>, <TarInfo 'fig1b.pdf' at 0x7f1f081f04c0>, <TarInfo 'fig2a.pdf' at 0x7f1f081f0640>, <TarInfo 'fig2b.pdf' at 0x7f1f081f0700>, <TarInfo 'fig3.pdf' at 0x7f1f081f0b80>, <TarInfo 'fig4a.pdf' at 0x7f1f081f0940>, <TarInfo 'fig4b.pdf' at 0x7f1f081f0ac0>, <TarInfo 'fig5a.pdf' at 0x7f1f081f0d00>, <TarInfo 'fig5b.pdf' at 0x7f1f081f0dc0>, <TarInfo 'fig6a.pdf' at 0x7f1f081f0e80>, <TarInfo 'fig6b.pdf' at 0x7f1f081f0f40>, <TarInfo 'fig7a.pdf' at 0x7f1f081f07c0>, <TarInfo 'fig7b.pdf' at 0x7f1f081f0580>, <TarInfo 'fig8a.pdf' at 0x7f1f081f0880>, <TarInfo 'fig8b.pdf' at 0x7f1f081f0c40>, <TarInfo 'fig9a.pdf' at 0x7f1f081f0400>, <TarInfo 'fig9b.pdf' at 0x7f1f081d31c0>, <TarInfo 'fig9c.pdf' at 0x7f1f081d3100>, <TarInfo 'Manuscript.bbl' at 0x7f1f081d3280>, <TarInfo 'Manuscript.tex' at 0x7f1f081d3340>]\n",
      "1804/1804.01590.gz gzip compressed data, last modified: Fri Apr  6 00:01:55 2018, from Unix\n",
      "     *  FileMagic(mime_type='application/x-tar', encoding='binary', name='POSIX tar archive (GNU)')\n",
      "[<TarInfo 'manuscript.bbl' at 0x7f1f081d3580>, <TarInfo 'manuscript.tex' at 0x7f1f18423940>, <TarInfo 'mol_cryst_minim_fixed.pdf' at 0x7f1f184237c0>, <TarInfo 'mol_minim_algorithm.pdf' at 0x7f1f18423700>, <TarInfo 'mol_minim_cond.pdf' at 0x7f1f18423c40>, <TarInfo 'mol_minim_ff.pdf' at 0x7f1f18423dc0>, <TarInfo 'mol_minim.pdf' at 0x7f1f18423640>, <TarInfo 'mol_saddle.pdf' at 0x7f1f18423a00>]\n",
      "1804/1804.01593.pdf PDF document, version 1.2\n"
     ]
    }
   ],
   "source": [
    "import gzip\n",
    "with tarfile.open('tests/minitest2.tar') as ff:\n",
    "    for fi in ff.getmembers()[1:]:\n",
    "        fobj = ff.extractfile(fi.name)\n",
    "        the_magic = magic.detect_from_content(fobj.read(2048))\n",
    "        fobj.seek(0)\n",
    "        print(fi.name,the_magic.name)\n",
    "        if 'gzip compressed' in the_magic.name:\n",
    "            try:\n",
    "                with gzip.open(fobj,'rb') as unzipped_file:\n",
    "                    snd_magic = magic.detect_from_content(unzipped_file.read(2048))\n",
    "                    unzipped_file.seek(0)\n",
    "                    print(\"     * \", snd_magic)\n",
    "                    if snd_magic.mime_type == 'application/x-tar':\n",
    "                        with tarfile.open(fileobj=unzipped_file) as tars:\n",
    "                            print(tars.getmembers())\n",
    "            except gzip.BadGzipFile:\n",
    "                print('gave me badgzipfile')"
   ]
  },
  {
   "cell_type": "code",
   "execution_count": 110,
   "metadata": {},
   "outputs": [
    {
     "data": {
      "text/plain": [
       "\u001b[0;31mSignature:\u001b[0m \u001b[0mtarfile\u001b[0m\u001b[0;34m.\u001b[0m\u001b[0mopen\u001b[0m\u001b[0;34m(\u001b[0m\u001b[0mname\u001b[0m\u001b[0;34m=\u001b[0m\u001b[0;32mNone\u001b[0m\u001b[0;34m,\u001b[0m \u001b[0mmode\u001b[0m\u001b[0;34m=\u001b[0m\u001b[0;34m'r'\u001b[0m\u001b[0;34m,\u001b[0m \u001b[0mfileobj\u001b[0m\u001b[0;34m=\u001b[0m\u001b[0;32mNone\u001b[0m\u001b[0;34m,\u001b[0m \u001b[0mbufsize\u001b[0m\u001b[0;34m=\u001b[0m\u001b[0;36m10240\u001b[0m\u001b[0;34m,\u001b[0m \u001b[0;34m**\u001b[0m\u001b[0mkwargs\u001b[0m\u001b[0;34m)\u001b[0m\u001b[0;34m\u001b[0m\u001b[0;34m\u001b[0m\u001b[0m\n",
       "\u001b[0;31mDocstring:\u001b[0m\n",
       "Open a tar archive for reading, writing or appending. Return\n",
       "an appropriate TarFile class.\n",
       "\n",
       "mode:\n",
       "'r' or 'r:*' open for reading with transparent compression\n",
       "'r:'         open for reading exclusively uncompressed\n",
       "'r:gz'       open for reading with gzip compression\n",
       "'r:bz2'      open for reading with bzip2 compression\n",
       "'r:xz'       open for reading with lzma compression\n",
       "'a' or 'a:'  open for appending, creating the file if necessary\n",
       "'w' or 'w:'  open for writing without compression\n",
       "'w:gz'       open for writing with gzip compression\n",
       "'w:bz2'      open for writing with bzip2 compression\n",
       "'w:xz'       open for writing with lzma compression\n",
       "\n",
       "'x' or 'x:'  create a tarfile exclusively without compression, raise\n",
       "             an exception if the file is already created\n",
       "'x:gz'       create a gzip compressed tarfile, raise an exception\n",
       "             if the file is already created\n",
       "'x:bz2'      create a bzip2 compressed tarfile, raise an exception\n",
       "             if the file is already created\n",
       "'x:xz'       create an lzma compressed tarfile, raise an exception\n",
       "             if the file is already created\n",
       "\n",
       "'r|*'        open a stream of tar blocks with transparent compression\n",
       "'r|'         open an uncompressed stream of tar blocks for reading\n",
       "'r|gz'       open a gzip compressed stream of tar blocks\n",
       "'r|bz2'      open a bzip2 compressed stream of tar blocks\n",
       "'r|xz'       open an lzma compressed stream of tar blocks\n",
       "'w|'         open an uncompressed stream for writing\n",
       "'w|gz'       open a gzip compressed stream for writing\n",
       "'w|bz2'      open a bzip2 compressed stream for writing\n",
       "'w|xz'       open an lzma compressed stream for writing\n",
       "\u001b[0;31mFile:\u001b[0m      /usr/lib/python3.8/tarfile.py\n",
       "\u001b[0;31mType:\u001b[0m      method\n"
      ]
     },
     "metadata": {},
     "output_type": "display_data"
    }
   ],
   "source": [
    "tarfile.open?"
   ]
  },
  {
   "cell_type": "code",
   "execution_count": 95,
   "metadata": {},
   "outputs": [],
   "source": [
    "with open('./zhu_untared.tex', 'w') as f:\n",
    "    f.write(zhu_str.decode('utf-8'))"
   ]
  },
  {
   "cell_type": "code",
   "execution_count": 93,
   "metadata": {
    "collapsed": true,
    "jupyter": {
     "outputs_hidden": true
    }
   },
   "outputs": [
    {
     "name": "stdout",
     "output_type": "stream",
     "text": [
      "b\"\\\\documentclass[psamsfonts,a4paper]{amsart}\\r\\n\\r\\n%-------Packages---------\\r\\n\\\\usepackage{amssymb,amsfonts}\\r\\n\\\\usepackage{amsaddr}\\r\\n\\\\usepackage[all,arc]{xy}\\r\\n\\\\usepackage{enumerate}\\r\\n%\\\\usepackage{mathrsfs}\\r\\n\\\\usepackage{tikz}\\r\\n\\\\usepackage{parskip}\\r\\n\\\\usepackage[margin=2.5cm]{geometry}\\r\\n\\\\usepackage{eucal}\\r\\n\\r\\n%--------Theorem Environments--------\\r\\n%theoremstyle{plain} --- default\\r\\n\\r\\n\\r\\n\\\\newtheorem{thm}{Theorem}[section]\\r\\n\\r\\n% Reinsert ``[section]'' here if you want theorems numbered by section.\\r\\n\\r\\n\\\\newtheorem{cor}[thm]{Corollary}\\r\\n\\\\newtheorem{prop}[thm]{Proposition}\\r\\n\\\\newtheorem{lemma}[thm]{Lemma}\\r\\n\\\\newtheorem{conj}[thm]{Conjecture}\\r\\n\\\\newtheorem{quest}[thm]{Question}\\r\\n\\r\\n\\\\theoremstyle{definition}\\r\\n\\\\newtheorem{defn}[thm]{Definition}\\r\\n\\\\newtheorem{defns}[thm]{Definitions}\\r\\n\\\\newtheorem{con}[thm]{Construction}\\r\\n\\\\newtheorem{exmp}[thm]{Example}\\r\\n\\\\newtheorem{exmps}[thm]{Examples}\\r\\n\\\\newtheorem{notn}[thm]{Notation}\\r\\n\\\\newtheorem{notns}[thm]{Notations}\\r\\n\\\\newtheorem{addm}[thm]{Addendum}\\r\\n\\\\newtheorem{exer}[thm]{Exercise}\\r\\n\\\\newtheorem{nolabel}[thm]{}\\r\\n\\r\\n\\\\theoremstyle{remark}\\r\\n\\\\newtheorem{rem}[thm]{Remark}\\r\\n\\\\newtheorem{rems}[thm]{Remarks}\\r\\n\\\\newtheorem{warn}[thm]{Warning}\\r\\n\\\\newtheorem{sch}[thm]{Scholium}\\r\\n\\r\\n\\\\makeatletter\\r\\n\\\\let\\\\c@equation\\\\c@thm\\r\\n\\\\makeatother\\r\\n\\\\numberwithin{equation}{section}\\r\\n\\r\\n\\r\\n\\r\\n\\r\\n% ---------------- Mathematical commands ----------------\\r\\n\\r\\n\\\\DeclareMathOperator{\\\\ad}{ad}\\r\\n\\\\DeclareMathOperator{\\\\ber}{Ber}\\r\\n\\\\DeclareMathOperator{\\\\der}{Der}\\r\\n\\\\DeclareMathOperator{\\\\ann}{Ann}\\r\\n\\\\DeclareMathOperator{\\\\aut}{Aut}\\r\\n\\\\DeclareMathOperator{\\\\ch}{Ch}\\r\\n\\\\DeclareMathOperator{\\\\en}{End}\\r\\n\\\\DeclareMathOperator{\\\\gr}{gr}\\r\\n\\\\DeclareMathOperator{\\\\Hom}{Hom}\\r\\n\\\\DeclareMathOperator{\\\\Imag}{Im}\\r\\n\\\\DeclareMathOperator{\\\\ind}{Ind}\\r\\n\\\\DeclareMathOperator{\\\\Real}{Re}\\r\\n\\\\DeclareMathOperator{\\\\res}{Res}\\r\\n\\\\DeclareMathOperator{\\\\spec}{Spec}\\r\\n\\\\DeclareMathOperator{\\\\str}{STr}\\r\\n\\\\DeclareMathOperator{\\\\tr}{Tr}\\r\\n\\\\DeclareMathOperator{\\\\zhu}{Zhu}\\r\\n\\r\\n\\\\newcommand{\\\\modd}[1]{#1\\\\text{{\\\\sf -mod}}}\\r\\n\\r\\n\\\\newcommand{\\\\C}{\\\\mathbb{C}}\\r\\n\\\\newcommand{\\\\F}{\\\\mathbb{F}}\\r\\n\\\\newcommand{\\\\PP}{\\\\mathbb{P}}\\r\\n\\\\newcommand{\\\\Q}{\\\\mathbb{Q}}\\r\\n\\\\newcommand{\\\\R}{\\\\mathbb{R}}\\r\\n\\\\newcommand{\\\\Z}{\\\\mathbb{Z}}\\r\\n\\r\\n\\\\newcommand{\\\\CG}{\\\\mathcal{G}}\\r\\n\\\\newcommand{\\\\CK}{\\\\mathcal{K}}\\r\\n\\\\newcommand{\\\\CA}{\\\\mathcal{A}}\\r\\n\\r\\n\\\\newcommand{\\\\B}{\\\\mathcal{B}}\\r\\n\\\\newcommand{\\\\CC}{\\\\mathcal{C}}\\r\\n\\\\newcommand{\\\\CD}{\\\\mathcal{D}}\\r\\n\\\\newcommand{\\\\HH}{\\\\mathcal{H}}\\r\\n\\\\newcommand{\\\\LL}{\\\\mathcal{L}}\\r\\n\\\\newcommand{\\\\M}{\\\\mathcal{M}}\\r\\n\\\\newcommand{\\\\OO}{\\\\mathcal{O}}\\r\\n\\\\newcommand{\\\\SSS}{\\\\mathcal{S}}\\r\\n\\\\newcommand{\\\\V}{\\\\mathcal{V}}\\r\\n\\\\newcommand{\\\\W}{\\\\mathcal{W}}\\r\\n\\\\newcommand{\\\\Y}{\\\\mathcal{Y}}\\r\\n\\\\newcommand{\\\\CF}{\\\\mathcal{F}}\\r\\n\\\\newcommand{\\\\KK}{\\\\mathcal{K}}\\r\\n\\r\\n\\\\newcommand{\\\\ma}{\\\\mathfrak{a}}\\r\\n\\\\newcommand{\\\\g}{\\\\mathfrak{g}}\\r\\n\\\\newcommand{\\\\h}{\\\\mathfrak{h}}\\r\\n\\\\newcommand{\\\\m}{\\\\mathfrak{m}}\\r\\n\\\\newcommand{\\\\n}{\\\\mathfrak{n}}\\r\\n\\r\\n\\\\newcommand{\\\\al}{\\\\alpha}\\r\\n\\\\newcommand{\\\\ga}{\\\\gamma}\\r\\n\\\\newcommand{\\\\G}{\\\\Gamma}\\r\\n\\\\newcommand{\\\\D}{\\\\Delta}\\r\\n\\\\newcommand{\\\\eps}{\\\\epsilon}\\r\\n\\\\newcommand{\\\\la}{\\\\lambda}\\r\\n\\\\newcommand{\\\\La}{\\\\Lambda}\\r\\n\\\\newcommand{\\\\om}{\\\\omega}\\r\\n\\\\newcommand{\\\\vp}{\\\\varphi}\\r\\n\\\\newcommand{\\\\Om}{\\\\Omega}\\r\\n\\r\\n\\\\newcommand{\\\\ov}{\\\\overline}\\r\\n\\r\\n%\\\\newcommand{\\\\vac}{{\\\\left|0\\\\right>}}\\r\\n\\\\newcommand{\\\\vac}{\\\\mathbf{1}}\\r\\n\\r\\n\\\\newcommand{\\\\DD}{\\\\nabla}\\r\\n\\r\\n\\\\newcommand{\\\\coord}{\\\\text{Coord}}\\r\\n\\\\newcommand{\\\\vir}{\\\\text{Vir}}\\r\\n\\r\\n\\r\\n\\\\newcommand{\\\\op}{\\\\text{op}}\\r\\n\\r\\n\\r\\n\\r\\n\\r\\n\\r\\n%--------Meta Data: Fill in your info------\\r\\n\\\\title[A short construction of the Zhu Algebra]{A short construction of the Zhu Algebra}\\r\\n\\\\author[*]{Jethro van Ekeren}\\r\\n\\\\author[**]{Reimundo Heluani}\\r\\n\\r\\n\\r\\n\\r\\n\\\\begin{document}\\r\\n\\r\\n\\r\\n%% ----------------------------------------------------- %%\\r\\n\\r\\n\\r\\n\\r\\n\\r\\n\\\\begin{center}\\r\\n{\\\\LARGE \\\\bf A short construction of the Zhu Algebra} \\\\par \\\\bigskip\\r\\n\\r\\n\\\\renewcommand*{\\\\thefootnote}{\\\\fnsymbol{footnote}}\\r\\n{\\\\normalsize\\r\\nJethro van Ekeren\\\\footnote{email: \\\\texttt{jethrovanekeren@gmail.com}}\\\\textsuperscript{1},\\r\\nReimundo Heluani\\\\textsuperscript{2}\\r\\n}\\r\\n\\r\\n\\\\par \\\\bigskip\\r\\n\\r\\n\\\\textsuperscript{1}{\\\\footnotesize Instituto de Matem\\\\'{a}tica e Estat\\\\'{i}stica (GMA), UFF, Niter\\\\'{o}i RJ, Brazil}\\r\\n\\r\\n\\\\par\\r\\n\\\\textsuperscript{2}{\\\\footnotesize Instituto Nacional de Matem\\\\'{a}tica Pura e Aplicada, Rio de Janeiro, RJ, Brazil}\\r\\n\\r\\n\\r\\n\\\\par \\\\bigskip\\r\\n\\\\end{center}\\r\\n\\r\\n\\r\\n\\\\vspace*{10mm}\\r\\n\\r\\n\\\\noindent\\r\\n\\\\textbf{Abstract.} We investigate associative quotients of vertex algebras. We also give a short construction of the Zhu algebra, and a proof of its associativity using elliptic functions.\\r\\n\\r\\n\\\\vspace*{10mm}\\r\\n\\r\\n\\r\\n\\r\\n\\r\\n\\\\section{Introduction}\\\\label{section.intro}\\r\\n\\r\\n\\\\begin{nolabel}\\nLet $V$ be a vertex algebra. In \\\\cite{Zhu-thesis} and \\\\cite{Z96} Y. Zhu introduced two associative algebras $\\\\zhu(V)$ and $R_V$ constructed as quotients of $V$ equipped with products defined explicitly in terms of its $n^{\\\\text{th}}$ products. The purpose of this note is to present a brief and uniform construction of $\\\\zhu(V)$ and $R_V$ as well as a short proof of the associativity of $\\\\zhu(V)$ utilising elliptic functions.\\r\\n\\r\\nThe representation theory of $\\\\zhu(V)$ is closely connected with that of $V$ (for $V$ a conformal vertex algebra now). There are adjoint functors between the categories of $\\\\zhu(V)$-modules and of positive energy $V$-modules, and these functors induce bijections between the sets of isomorphism classes of simple objects in each category. The existence of an associative algebra with these properties is not in itself surprising since the category of all $V$-modules is equivalent to the category of smooth modules of its enveloping algebra $U(V) = \\\\bigoplus_{n \\\\in \\\\Z} U(V)_n$, and so the algebra $\\\\widetilde{U} = UU(V)_0 / (U(V) \\\\cdot U(V)_{>0})_0$ does the job. And indeed $\\\\zhu(V) \\\\cong \\\\widetilde{U}$. What is nontrivial is the presentation of $\\\\zhu(V)$ as an explicit quotient of $V$, which lends itself to practical applications.\\r\\n\\r\\nThe algebra $\\\\zhu(V)$ was introduced by Zhu in the context of his study of the behaviour of conformal blocks for singular families of elliptic curves with nodal singular fibre. Our use of elliptic functions to prove associativity of $\\\\zhu(V)$ lies closer, in fact, to this point of view on the latter than to its representation theoretic interpretation.\\r \\n\\\\end{nolabel} \\n\\n\\\\begin{nolabel}\\nLet $V$ be a vertex algebra and $f \\\\in \\\\mathbb{C}\\\\left( (t) \\\\right)$ a Laurent series. We have a bilinear operation $V \\\\otimes V \\\\rightarrow V$, \\\\[ a \\\\otimes b \\\\mapsto a_{(f)}b := \\\\res_t f(t)a(t)b \\\\]\\nwhich we refer to as the $(f)$-product. We study quotients of the form $Z_f(V) := V/\\\\left(V_{(f)}(T V ) \\\\right)$ equipped with the algebraic structure of $(f)$-product. Here $V_{(f)}(T V )$ is the  ideal in $V$ generated by $TV$ under the $(f)$-product. It turns out that associativity of such quotients (when well defined) imposes very restrictive conditions on $f$. Let $f(t) = \\\\zeta(t, \\\\omega_1, \\\\omega_2)$ be Weierstrass' zeta function, depending on the two periods $\\\\omega_{1},\\\\omega_2 \\\\in \\\\mathbb{C}$. This function does not quite satisfy the conditions guaranteeing associativity of $Z_f(V)$, but its limit $\\\\omega_1 \\\\rightarrow \\\\infty$ does satisfy these conditions, and one recovers Zhu's algebra $\\\\zhu(V)$ (or rather an isomorphic algebra found by Huang \\\\cite{Huang.duality} ). On the other hand the limit $\\\\omega_2 \\\\mapsto \\\\infty$ recovers Zhu's $C_2$-algebra $R_V$.\\n\\\\label{no:limits}\\n\\\\end{nolabel}\\n\\r\\n%The role played by $R_V$ in Zhu's work is more technical. Finite dimensionality of $R_V$ guarantees the existence of differential equations of Fuchsian type satisfied by the torus $1$-point functions of $V$ and consequently the convergence of the formal series defining the latter. Subsequent work has nevertheless revealed that $R_V$ and the scheme $X_V = \\\\spec{R_V}$ known as the \\\\emph{associated variety} have representation theoretic significance. Miyamoto showed that $\\\\dim{R_V} < \\\\infty$ is enough to guarantee modular behaviour of torus $1$-point functions \\\\cite{MiyaC2}, and work of Arakawa has made $X_V$ into a useful tool in the representation theory of $W$-algebras \\\\cite{Arakawa.assoc}. Mention Higgs Branch maybe ????\\r\\n\\r\\n%% The grading of $V$ by eigenvalues of $L_0$ induces a grading of $R_V$, and a filtration of $\\\\zhu(V)$. There is a surjection\\r\\n%% \\\\[\\r\\n%% R_V \\\\rightarrow \\\\gr^\\\\bullet \\\\zhu(V).\\r\\n%% \\\\]\\r\\n\\r\\n\\r\\n\\r\\n\\r\\n\\r\\n\\r\\n\\r\\n\\r\\n\\r\\n\\r\\n\\r\\n\\r\\n\\\\section{Vertex Algebras}\\\\label{section.notation}\\r\\n\\r\\nFor the basics of formal calculus and the definition of vertex algebra we refer to Kac's book \\\\cite{Kac.VA.Book}. The formal delta function is defined to be\\r\\n\\\\[\\r\\n\\\\delta(z, w) = \\\\sum_{n \\\\in \\\\Z} z^{-n-1} w^n \\\\in \\\\C[[z^{\\\\pm 1}, w^{\\\\pm 1}]].\\r\\n\\\\]\\r\\nThe ring morphism\\r\\n\\\\[\\r\\ni_{z,w} : \\\\C[[z, w]][z^{-1}, w^{-1}, (z-w)^{-1}] \\\\rightarrow \\\\C((z))((w))\\r\\n\\\\]\\r\\nis defined by Taylor expansion of $(z-w)^n$ in positive powers of $w$. Note that the image of $i_{w,z}$ is $\\\\C((w))((z))$ which is distinct from $\\\\C((z))((w))$. We denote differentiation by $\\\\partial$, appending the variable as a subscript when necessary to avoid confusion. We abbreviate $\\\\tfrac{1}{j!}\\\\partial^j$ as $\\\\partial^{(j)}$. The formal residue of $f(z) = \\\\sum_{n\\\\in \\\\Z} f_n z^n$ is defined to be\\r\\n\\\\[\\r\\n\\\\res_z f(z) dz = f_{-1}.\\r\\n\\\\]\\r\\nThe relations \\r\\n\\\\begin{align}\\\\label{totalderivative}\\r\\n\\\\partial_w^{(j)}\\\\delta(z,w) = (-1)^j \\\\partial_z^{(j)}\\\\delta(z,w) \\\\quad \\\\text{and} \\\\quad \\\\res_z\\\\left( f(z)\\\\partial_z^{(j)}\\\\delta(z, w) \\\\right) dz = (-1)^j \\\\partial_w^{(j)}f(w).\\r\\n\\\\end{align}\\r\\nare easily verified.\\r\\n\\r\\nA vertex algebra is a vector space $V$ together with a linear map\\r\\n\\\\[\\r\\nV \\\\otimes V \\\\rightarrow V((z)), \\\\quad \\\\text{written} \\\\quad a \\\\otimes b \\\\mapsto a(z)b = \\\\sum_{n\\\\in \\\\Z} a(n)b z^{-n-1},\\r\\n\\\\]\\r\\nas well as a vacuum vector $\\\\vac$ and translation operator $T \\\\in \\\\en(V)$, which satisfy the Borcherds identity\\r\\n\\\\begin{align}\\\\label{borfor}\\r\\n[a(x)b](w) = \\\\res_z\\\\left(a(z)b(w)i_{z,w} - b(w)a(z)i_{w,z}\\\\right)\\\\delta(x,z-w)dz,\\r\\n\\\\end{align}\\r\\nthe vacuum axiom\\r\\n\\\\[\\r\\n\\\\vac(z) = 1_V \\\\quad \\\\text{and} \\\\quad a(z)\\\\vac \\\\in a + zV[[z]],\\r\\n\\\\]\\r\\nand the translation invariance axiom\\r\\n\\\\[\\r\\n[Ta](z) = \\\\partial_z a(z).\\r\\n\\\\]\\r\\nSome useful consequences of the axioms are the commutator formula\\r\\n\\\\begin{align}\\\\label{commfor}\\r\\n[a(z),b(w)] = \\\\sum_{j \\\\in \\\\Z_+} [a(j)b](w)\\\\partial_w^{(j)}\\\\delta(z,w),\\r\\n\\\\end{align}\\r\\nand the skew-symmetry formula\\r\\n\\\\begin{align}\\\\label{sksym}\\r\\na(z)b = e^{zT}b(-z)a.\\r\\n\\\\end{align}\\r\\n\\r\\n\\\\section{Associative Quotients of Vertex Algebras}\\\\label{section.quotients}\\r\\n\\r\\nLet $V$ be a vertex algebra, and let $f$ be a Laurent series. For any $a, b \\\\in V$ we denote by $a_{(f)}b$ the vector $\\\\res_z f(z)a(z)b \\\\,dz \\\\in V$. For example $a_{(1)}b = a(0)b$ and $(Ta)_{(f)}b = -a_{(\\\\partial f)}b$. We call the bilinear operation\\r\\n\\\\[\\r\\nV \\\\otimes V \\\\rightarrow V, \\\\quad a \\\\otimes b \\\\mapsto a_{(f)}b\\r\\n\\\\]\\r\\nthe $f$-product. Sometimes we abuse this notation, writing for example $a_{(f(-z))}b$ to designate the product $a_{(g)}b$ where $g(z) = f(-z)$.\\r\\n\\r\\nIn this section we study $f$-products and subspaces of $V$ of the form\\r\\n\\\\[\\r\\nV_{(f)}V = \\\\left< a_{(f)}b | a, b \\\\in V \\\\right>,\\r\\n\\\\]\\r\\nwhere here, and throughout the paper, $\\\\left<\\\\cdots \\\\right>$ denotes $\\\\C$-linear span. In particular, we should like to determine natural conditions on Laurent series $f, g$ under which $V_{(g)}V$ becomes an ideal for the $f$-product.\\r\\n\\r\\n\\r\\n\\r\\n\\r\\nDirect computation with the commutator formula (\\\\ref{commfor}) yields\\r\\n\\\\begin{align}\\\\label{idealstart}\\r\\n\\\\begin{split}\\r\\na_{(f)}(b_{(g)}c)\\r\\n%\\r\\n&= \\\\res_z \\\\res_w f(z) g(w) a(z)b(w) c \\\\,dw \\\\,dz \\\\\\\\\\r\\n%\\r\\n&= \\\\res_z \\\\res_w f(z) g(w) b(w)a(z) c \\\\,dw \\\\,dz + \\\\res_z \\\\res_w f(z) g(w) [a(z),b(w)] c \\\\,dw \\\\,dz \\\\\\\\\\r\\n%\\r\\n&= b_{(g)}(a_{(f)}c) + \\\\sum_{j \\\\in \\\\Z_+} \\\\res_z \\\\res_w f(z) g(w) [a{(j)}b](w) c \\\\partial_w^{(j)}\\\\delta(z,w) \\\\,dw \\\\,dz.\\r\\n\\\\end{split}\\r\\n\\\\end{align}\\r\\nUsing (\\\\ref{totalderivative}) the $j^{\\\\text{th}}$ summand here simplifies to\\r\\n\\\\begin{align*}\\r\\n(-1)^j \\\\res_z \\\\res_w f(z) g(w) [a{(j)}b](w) c \\\\partial_z^{(j)}\\\\delta(z,w) \\\\,dw \\\\,dz\\r\\n%\\r\\n&= \\\\res_z \\\\res_w (\\\\partial_z^{(j)}f(z)) g(w) [a{(j)}b](w) c \\\\delta(z,w) \\\\,dw \\\\,dz \\\\\\\\\\r\\n%\\r\\n&= \\\\res_w (\\\\partial_w^{(j)}f(w)) g(w) [a{(j)}b](w) c \\\\,dw \\\\,dz.\\r\\n\\\\end{align*}\\r\\n%% \\\\begin{align*}\\r\\n%% \\\\res_z \\\\res_w f(z) g(w) [a{(j)}b](w) c \\\\partial_w^{(j)}\\\\delta(z,w)\\r\\n%% %\\r\\n%% &= (-1)^j \\\\res_z \\\\res_w f(z) g(w) [a{(j)}b](w) c \\\\partial_z^{(j)}\\\\delta(z,w) \\\\\\\\\\r\\n%% %\\r\\n%% &= \\\\res_z \\\\res_w (\\\\partial_z^{(j)}f(z)) g(w) [a{(j)}b](w) c \\\\delta(z,w) \\\\\\\\\\r\\n%% %\\r\\n%% &= \\\\res_w (\\\\partial_w^{(j)}f(w)) g(w) [a{(j)}b](w) c.\\r\\n%% \\\\end{align*}\\r\\n\\r\\nThe only universal way (that is, by placing conditions on $f$ and $g$ but not on $V$) to guarantee $a_{(f)}(b_{(g)}c) \\\\in V_{(g)}V$ is to require\\r\\n\\\\begin{align}\\\\label{leftideal.condition}\\r\\ng(z) \\\\partial_z^{(j)}f(z) \\\\in \\\\left<\\\\partial_z^{(k)} g(z) | k \\\\in \\\\Z_+ \\\\right> \\\\quad \\\\text{for all $j \\\\in \\\\Z_+$}.\\r\\n\\\\end{align}\\r\\n\\r\\n\\r\\n%% {\\\\color{red}One might wish to require it only for $j \\\\geq 1$, and somehow deal with\\r\\n%% \\\\[\\r\\n%% (a{(0)}b)_{(fg)}c.\\r\\n%% \\\\]\\r\\n%% }\\r\\n\\r\\n\\r\\nSimilarly, direct computation with the Borcherds identity (\\\\ref{borfor}) yields\\r\\n\\\\begin{align}\\\\label{assocstart}\\r\\n  \\\\begin{split}\\r\\n(a_{(f)}b)_{(f)}c\\r\\n%\\r\\n&= \\\\res_x \\\\res_w f(x) f(w) [a(x)b](w) c \\\\,dw \\\\,dx \\\\\\\\\\r\\n%\\r\\n&= \\\\res_x \\\\res_w \\\\res_z f(x) f(w) \\\\left(a(z)b(w)c i_{z,w} - b(w)a(z)c i_{w,z}\\\\right)\\\\delta(x,z-w) \\\\,dz \\\\,dw \\\\,dx \\\\\\\\\\r\\n%\\r\\n&= \\\\res_w \\\\res_z f(w) \\\\left(a(z)b(w)c i_{z,w} - b(w)a(z)c i_{w,z}\\\\right) f(z-w) \\\\,dz \\\\,dw.\\r\\n\\\\end{split}\\r\\n\\\\end{align}\\r\\nSubstituting the expansions\\r\\n\\\\[\\r\\ni_{z,w}f(z-w) = \\\\sum_{j \\\\in \\\\Z_+} (-w)^j f^{(j)}(z) \\\\quad \\\\text{and} \\\\quad i_{w,z}f(z-w) = \\\\sum_{j \\\\in \\\\Z_+} z^j f^{(j)}(-w)\\r\\n\\\\]\\r\\ninto the final line of (\\\\ref{assocstart}) reduces the two summands there to\\r\\n\\\\begin{align*}\\r\\na_{(f)}(b_{(f)}c) + \\\\sum_{j \\\\in \\\\Z_{\\\\geq 1}} (-1)^j a_{(\\\\partial^{(j)}f)}(b_{(z^j f(z))}c) \\\\quad \\\\text{and} \\\\quad -\\\\sum_{j \\\\in \\\\Z_+} b_{(\\\\partial^{(j)}f(-z) f(z))}(a(j)c),\\r\\n\\\\end{align*}\\r\\nrespectively.\\r\\n% {\\\\color{red}Awkward notation here. Need functional notation for $z^n$ and $f(-z)$}\\r\\n\\r\\n\\r\\n\\r\\n\\r\\n% \\\\begin{align*}\\r\\n% &= \\\\res_w \\\\res_z f(w) a(z)b(w)c i_{z,w} f(z-w) \\\\\\\\\\r\\n% %\\r\\n% &= \\\\sum_{j \\\\geq 0} \\\\res_w \\\\res_z  (-w)^j [\\\\partial_z^{(j)} f](z) f(w) a(z)b(w)c \\\\\\\\\\r\\n% %\\r\\n% &= a_{(f)}(b_{(f)}c) + \\\\sum_{j \\\\geq 1} (-1)^j a_{(\\\\partial^{(j)}f)}(b_{(w^j f)}c)\\r\\n% \\\\end{align*}\\r\\n\\r\\n\\r\\n% \\\\begin{align*}\\r\\n% &= \\\\res_w \\\\res_z f(w) b(w)a(z)c i_{w,z}f(z-w) \\\\\\\\\\r\\n% %\\r\\n% &= \\\\sum_{j \\\\geq 0} \\\\res_w \\\\res_z z^j f^{(j)}(-w) f(w) b(w)a(z)c \\\\\\\\\\r\\n% %\\r\\n% &= \\\\sum_{j \\\\geq 0} \\\\res_w f^{(j)}(-w) f(w) b(w) a(j)c \\\\\\\\\\r\\n% %\\r\\n% &= \\\\sum_{j \\\\geq 0} b_{(f^{(j)}(-w) f(w))}(a(j)c)\\r\\n% \\\\end{align*}\\r\\n\\r\\nThe relation\\r\\n\\\\[\\r\\n(a_{(f)}b)_{(f)}c - a_{(f)}(b_{(f)}c) \\\\in V_{(g)}V\\r\\n\\\\]\\r\\nis thus assured by the conditions\\r\\n\\\\begin{align}\\\\label{associativity.condition1}\\r\\n\\\\partial_z^{(j)}f(z) &\\\\in \\\\left<\\\\partial_z^{(k)} g(z) | k \\\\in \\\\Z_+ \\\\right> \\\\quad \\\\text{for all $j \\\\in \\\\Z_{\\\\geq 1}$}, \\\\\\\\\\r\\n%\\r\\n\\\\label{associativity.condition2} \\\\text{and} \\\\quad \\r\\n%\\r\\nf(z) \\\\partial_z^{(j)}f(-z) &\\\\in \\\\left<\\\\partial_z^{(k)} g(z) | k \\\\in \\\\Z_+ \\\\right> \\\\quad \\\\text{for all $j \\\\in \\\\Z_+$}.\\r\\n\\\\end{align}\\r\\n\\r\\n\\r\\n\\r\\n%% \\\\begin{align*}\\r\\n%%   \\\\begin{split}\\r\\n%% (a_{(g)}b)_{(f)}c\\r\\n%% %\\r\\n%% &= \\\\res_x \\\\res_w g(x) f(w) [a(x)b](w) c \\\\\\\\\\r\\n%% %\\r\\n%% &= \\\\res_x \\\\res_w \\\\res_z g(x) f(w) \\\\left(a(z)b(w)c i_{z,w} - b(w)a(z)c i_{w,z}\\\\right)\\\\delta(x,z-w) \\\\\\\\\\r\\n%% %\\r\\n%% &= \\\\res_w \\\\res_z f(w) \\\\left(a(z)b(w)c i_{z,w} - b(w)a(z)c i_{w,z}\\\\right) g(z-w).\\r\\n%% \\\\end{split}\\r\\n%% \\\\end{align*}\\r\\n\\r\\nBy repeating the last calculation with $g(x)$ in place of $f(x)$ we see that the relation $(a_{(g)}b)_{(f)}c \\\\in V_{(g)}V$ is assured by\\r\\n\\\\begin{align}\\\\label{rightideal.condition}\\r\\nf(z) \\\\partial_z^{(j)}g(-z) &\\\\in \\\\left<\\\\partial_z^{(k)} g(z) | k \\\\in \\\\Z_+ \\\\right> \\\\quad \\\\text{for all $j \\\\in \\\\Z_+$}.\\r\\n\\\\end{align}\\r\\n\\r\\n\\r\\n\\r\\n\\r\\n\\r\\nIf the $z^{-1}$ coefficient of $g(z) = \\\\sum g_n z^n$ is nonzero then $V_{(g)}V = V$. So we exclude this case as trivial. On the other hand we should like $\\\\vac$ to be a unit of $V / V_{(g)}V$. But $\\\\vac_{(f)}a = f_{-1} a$, so we are forced to require\\r\\n\\\\begin{align}\\\\label{unit.condition}\\r\\nf_{-1} = 1.\\r\\n\\\\end{align}\\r\\nIt follows from this and (\\\\ref{leftideal.condition}) that $g(z)$ has nonzero singular part. \\r\\n%Suppose the lowest nontrivial coefficient of $f(z) = \\\\sum f_n z^n$ is $f_N$\\r\\n\\r\\nIf we impose the condition\\r\\n\\\\begin{align}\\\\label{non.higher.condition}\\r\\nf(z) \\\\in z^{-1} + \\\\C[[z]]\\r\\n\\\\end{align}\\r\\nthen (\\\\ref{associativity.condition1}) forces $g = \\\\partial f$ (after a possible rescaling). Hence by (\\\\ref{associativity.condition2}) we have\\r\\n\\\\begin{align}\\\\label{f.ODE}\\r\\nf(-z)f(z) = \\\\partial_z f(z).\\r\\n\\\\end{align}\\r\\nObserve that $f(-z)f(z)$ is an even function of $z$, hence $\\\\partial_z f(z)$ is too, and so $f(z)$ takes the form $c/2 + F(z)$ for some constant $c$ and odd function $F(z)$. Then (\\\\ref{f.ODE}) becomes\\r\\n\\\\[\\r\\n\\\\partial_z F(z) = c^2/4 - F(z)^2.\\r\\n\\\\]\\r\\nIntegrating this equation, and reimposing (\\\\ref{unit.condition}), yields the two solutions\\r\\n\\\\begin{align}\\r\\nf(z) &= z^{-1}, \\\\label{C2.solution} \\\\\\\\\\r\\n%\\r\\n\\\\text{or} \\\\quad f(z) &= c \\\\frac{e^{cz}}{e^{cz}-1} \\\\quad \\\\quad \\\\text{for some $c \\\\neq 0$}. \\\\label{Zhu.solution}\\r\\n\\\\end{align}\\r\\n%% \\\\begin{align*}\\r\\n%% f(z) &= Az^{-1} & \\\\text{if $c = 0$}, \\\\\\\\\\r\\n%% %\\r\\n%% \\\\text{and} \\\\quad f(z) &= 2c \\\\frac{Ae^{2cz}}{Ae^{2cz}-1} & \\\\text{if $c \\\\neq 0$}.\\r\\n%% \\\\end{align*}\\r\\n\\r\\n\\r\\n\\r\\n\\r\\n% Now {\\\\color{red}as noted by HUANG} this is isomorphic to the Zhu algebra. But the change of coordinates is due to Zhu. See if it is explained in \\\\cite{Zhu96}\\r\\n\\r\\n\\r\\n\\\\begin{prop}\\\\label{zhu.is.assoc}\\r\\nFor $f$ either solution \\\\textup{(}\\\\ref{C2.solution}\\\\textup{)} or \\\\textup{(}\\\\ref{Zhu.solution}\\\\textup{)} and $g = \\\\partial f$, the quotient $V / V_{(g)}V$ is an associative algebra with respect to the $f$-product, and $\\\\vac$ is a unit.\\r\\n\\\\end{prop}\\r\\n\\r\\n\\\\begin{proof}\\r\\nConditions (\\\\ref{unit.condition}) and (\\\\ref{associativity.condition1}) are satisfied already, as is (\\\\ref{associativity.condition2}) for $j=0$. Condition (\\\\ref{rightideal.condition}) follows from (\\\\ref{associativity.condition2}) since $g = \\\\partial f$. It remains to verify that (\\\\ref{leftideal.condition}) and the remaining parts of (\\\\ref{associativity.condition2}) hold. In other words it remains to show that\\r\\n  \\\\[\\r\\n\\\\left<\\\\partial^{(k)} g | k \\\\in \\\\Z_+ \\\\right>\\r\\n\\\\]\\r\\nis closed under multiplication by $g$ and by $f$. This follows from Lemma \\\\ref{zhu.closure} of the next section. The algebras are unital because of condition (\\\\ref{non.higher.condition}).\\r\\n\\\\end{proof}\\r\\n\\r\\nWe denote by $\\\\zhu_c(V)$ the algebra associated with (\\\\ref{Zhu.solution}). It was shown by Huang {\\\\cite[Proposition 6.3]{Huang.duality}} that $\\\\zhu_{2\\\\pi i}(V)$ is isomorphic to Zhu's algebra $A(V)$ as defined in \\\\cite{Z96}. In fact the $\\\\zhu_c(V)$ are isomorphic \\\\cite{DK06} for all $c \\\\neq 0$. The algebra associated with (\\\\ref{C2.solution}) is Zhu's $C_2$-algebra, denoted $R_V$. The bracket $\\\\{a,b\\\\} = a(0)b$ is well defined on $R_V$ and makes it into a Poisson algebra.\\r\\n\\r\\n\\r\\n\\r\\n%% Recall that a formal deformation of an associative $\\\\C$-algebra $A$ is an assocative product $\\\\circ_t$ on the $\\\\C[[t]]$-algebra $A[[t]]$ that extends the product on $A$ in the sense that\\r\\n%% \\\\[\\r\\n%% \\\\left.{a \\\\circ_t b}\\\\right|_{t=0} = ab.\\r\\n%% \\\\]\\r\\n%% A formal deformation of a commutative algebra $A$ gives it the structure of a Poisson algebra via\\r\\n%% \\\\[\\r\\n%% \\\\{a,b\\\\} = \\\\left.\\\\frac{a \\\\circ_t b - b \\\\circ_t a}{t}\\\\right|_{t=0},\\r\\n%% \\\\]\\r\\n%% and the formal deformation is then said to be a deformation quantisation of the Poisson algebra $(A, \\\\{\\\\cdot,\\\\cdot\\\\})$.\\r\\n\\r\\nBefore proceeding we record a useful computation. Since $a_{(g)}\\\\vac = a_{(-2)}\\\\vac = -Ta$ we have $TV \\\\subset V_{(g)}V$. The skew-symmetry formula (\\\\ref{sksym}) implies in general that\\r\\n\\\\begin{align}\\\\label{generalcomm}\\r\\n  \\\\begin{split}\\r\\n  a_{(f)}b = \\\\res_z f(z) e^{zT}b(-z)a \\\\,dz\\r\\n  = -b_{(f(-z))}a \\\\mod{TV}.\\r\\n  \\\\end{split}\\r\\n\\\\end{align}\\r\\nFor the function (\\\\ref{Zhu.solution}), which satisfies $f(-z) = -f(z) + c$, we obtain\\r\\n\\\\begin{align}\\\\label{fcomm}\\r\\na_{(f)}b - b_{(f)}a = c \\\\,\\\\, a(0)b \\\\mod{V_{(g)}V}.\\r\\n\\\\end{align}\\r\\n\\r\\nClearly the $c \\\\rightarrow 0$ limit of (\\\\ref{Zhu.solution}), i.e.,\\r\\n\\\\[\\r\\nf(z) = z^{-1} + \\\\frac{c}{2} + \\\\frac{c^2}{12} z + \\\\cdots\\r\\n\\\\]\\r\\nrecovers (\\\\ref{C2.solution}).\\r\\n\\r\\n\\r\\n\\r\\n\\r\\n\\\\begin{rem}\\\\label{higher.zhu.remark}\\r\\nBy relaxing condition (\\\\ref{non.higher.condition}) one may obtain many additional solutions $(f, g)$ to the remaining relations, hence many additional associative, but no longer unital, quotients of $V$. If $g$ is taken to be $\\\\partial f$ then replacement of the ideal $V_{(g)}V$ with $TV + V_{(g)}V$ permits one to dispense with condition (\\\\ref{non.higher.condition}) while maintaining unitality of the quotient. This follows from the obvious inclusions\\r\\n\\\\[\\r\\n(TV)_{(f)}V \\\\subset V_{(\\\\partial f)}V, \\\\quad \\\\text{and} \\\\quad V_{(f)}(TV) \\\\subset TV + (TV)_{(f)}V.\\r\\n\\\\]\\r\\nIn this way further associative quotients of $V$ are obtained, such as\\r\\n\\\\begin{align}\\\\label{higher.zhu.half}\\r\\nV/(TV + V_{(\\\\partial f_{1/2})}V), \\\\quad \\\\text{equipped with the $f$-product, where} \\\\quad f_{1/2}(z) = \\\\frac{e^{2z}}{(e^z-1)^2}.\\r\\n\\\\end{align}\\r\\nThe higher Zhu algebras of Dong, Li and Mason \\\\cite{DLM.VA.and.assoc} are obtained in a very similar way. For instance $\\\\zhu_1(V)$ may be presented as $V / (TV + V_{(g)}V)$ equipped with the $f$-product, where\\r\\n\\\\[\\r\\ng(z) = \\\\frac{e^{2z}}{(e^z-1)^4}, \\\\quad \\\\text{and} \\\\quad f(z) = \\\\frac{e^{3z}-3e^{2z}}{(e^z-1)^3}.\\r\\n\\\\]\\r\\n%In fact these algebras are obtained \\\\cite{JVE.higher.Zhu} as quotients $V/J$ equipped with an $f$-product, where $J$ is the two-sided ideal generated under the $f$-product by $TV$.\\r\\n\\\\end{rem}\\r\\n\\r\\n\\r\\n\\r\\n\\r\\n\\r\\n\\\\section{Elliptic Functions}\\\\label{section.elliptic}\\r\\n\\r\\nIn this section we recall some facts about elliptic function following the standard references {\\\\cite{Apostol.Book}} and {\\\\cite{Lang.Book.elliptic}}. We then complete the proof of Proposition \\\\ref{zhu.is.assoc}.\\r\\n\\r\\n%The fact that the solutions to (\\\\ref{f.ODE}) satisfy the many other conditions (...) necessary to ensure that $J$ be an ideal, and associativity of $(V/J, *)$ seems surprising on the face of it. In fact it can be somewhat demystified in the context of elliptic functions.\\r\\n\\r\\nLet $\\\\HH$ denote the upper half complex plane. For some $\\\\tau \\\\in \\\\HH$ let $\\\\La = \\\\La_\\\\tau$ denote the lattice $\\\\Z + \\\\Z\\\\tau \\\\subset \\\\C$. Then the Weierstrass elliptic function is defined to be\\r\\n\\\\begin{align*}\\r\\n\\\\wp(z,\\\\tau) = \\\\frac{1}{z^2} + \\\\sum_{\\\\la \\\\in \\\\La \\\\backslash 0} \\\\left(\\\\frac{1}{(z-\\\\la)^2} - \\\\frac{1}{\\\\la^2}\\\\right).\\r\\n  \\\\end{align*}\\r\\nIt is $\\\\La$-periodic and meromorphic on $\\\\C$ with poles on $\\\\La$. The ring of elliptic functions, i.e., of $\\\\La$-periodic mermorphic functions on $\\\\C$ with poles on $\\\\La$, is spanned over $\\\\C$ by $\\\\ov\\\\wp(z,\\\\tau)$ and its derivatives in $z$ together with the constant function $1$. The Laurent series expansion of $\\\\wp$ at $z=0$ takes the form\\r\\n\\\\begin{align}\\\\label{wp.laurent}\\r\\n\\\\wp(z,\\\\tau) = z^{-2} + \\\\sum_{k=2}^\\\\infty (2k-1) G_{2k}(\\\\tau) z^{2k-2},\\r\\n\\\\end{align}\\r\\nwhere the Eisenstein series $G_{2k}(\\\\tau)$ is defined by\\r\\n\\\\begin{align}\\\\label{eisenstein.fourier}\\r\\nG_{2k}(\\\\tau) = \\\\sum_{n \\\\in \\\\Z \\\\backslash 0} \\\\frac{1}{n^{2k}} + \\\\sum_{m \\\\in \\\\Z \\\\backslash 0} \\\\sum_{n \\\\in \\\\Z} \\\\frac{1}{(m\\\\tau+n)^{2k}}\\r\\n\\\\end{align}\\r\\nfor all $k \\\\geq 1$. The well known Fourier expansion of $G_{2k}$ in powers of $q = e^{2\\\\pi i \\\\tau}$ is given by\\r\\n\\\\[\\r\\nG_{2k}(\\\\tau) = (-1)^{k+1}(2\\\\pi)^{2k}\\\\frac{B_{2k }}{(2k)!}E_{2k}, \\\\quad \\\\text{where} \\\\quad E_{2k}=1- \\\\frac{4k}{B_{2k }} \\\\sum_{n=1}^\\\\infty \\\\frac{n^{2k-1} q^n}{1-q^n},\\r\\n\\\\]\\r\\nand where the Bernoulli numbers $B_n$ are defined by $\\\\sum_{n=0}^\\\\infty B_n / n! = x / (e^x-1)$.\\r\\n\\r\\nIt will be more convenient for us to work with $\\\\ov\\\\wp(z,\\\\tau)=\\\\wp(z,\\\\tau)+G_2(\\\\tau)$, which can be expressed as\\r\\n\\\\begin{align}\\\\label{wp.Lambert}\\r\\n  \\\\ov\\\\wp(z,\\\\tau) = (2\\\\pi i)^2 \\\\frac{e^{2\\\\pi i z}}{(e^{2\\\\pi i z}-1)^2} + (2\\\\pi i)^2 \\\\sum_{n=1}^\\\\infty \\\\frac{n q^n}{1-q^n} \\\\left[e^{2\\\\pi i n z} + e^{-2\\\\pi i n z}\\\\right],\\r\\n\\\\end{align}\\r\\non the domain of convergence $|\\\\Imag(z)| < \\\\Imag(\\\\tau)$ of the right hand side.\\r\\n% Verified with Mathematica.\\r\\n\\r\\n\\r\\nThe Weierstrass quasiperiodic function is defined to be\\r\\n\\\\begin{align*}\\r\\n  \\\\zeta(z,\\\\tau) = \\\\frac{1}{z} + \\\\sum_{\\\\la \\\\in \\\\La \\\\backslash 0} \\\\left( \\\\frac{1}{z-\\\\la} + \\\\frac{z+\\\\la}{\\\\la^2} \\\\right).\\r\\n\\\\end{align*}\\r\\nIts Laurent series expansion is\\r\\n\\\\begin{align*}\\r\\n  \\\\zeta(z,\\\\tau) = z^{-1} - \\\\sum_{k=2}^\\\\infty G_{2k}(\\\\tau) z^{2k-1}.\\r\\n\\\\end{align*}\\r\\nIt will be more convenient for us to work with $\\\\ov\\\\zeta(z,\\\\tau) = \\\\zeta(z,\\\\tau) + \\\\pi i - G_2(\\\\tau)z$, which satisfies\\r\\n\\\\begin{align}\\\\label{zeta.Lambert}\\r\\n\\\\ov\\\\zeta(z,\\\\tau) = 2\\\\pi i \\\\frac{e^{2\\\\pi i z}}{e^{2\\\\pi i z}-1} - 2\\\\pi i \\\\sum_{n=1}^\\\\infty \\\\frac{q^n}{1-q^n} \\\\left[ e^{2\\\\pi i n z} - e^{-2\\\\pi i n z} \\\\right]\\r\\n\\\\end{align}\\r\\non the domain of convergence $|\\\\Imag(z)| < \\\\Imag(\\\\tau)$ of the right hand side.\\r\\n% Verified with Mathematica.\\r\\n\\r\\nOne has the relations\\r\\n\\\\begin{align}\\\\label{zeta.qp}\\r\\n\\\\ov\\\\zeta(z+1) = \\\\ov\\\\zeta(z) \\\\quad \\\\text{and} \\\\quad \\\\ov\\\\zeta(z+\\\\tau) = \\\\ov\\\\zeta(z) - 2\\\\pi i.\\r\\n\\\\end{align}\\r\\n\\r\\n\\\\begin{lemma}\\\\label{q.de}\\r\\nThe function\\r\\n\\\\begin{align}\\\\label{formula.q.de}\\r\\n(2\\\\pi i)^2 q \\\\partial_q \\\\ov{\\\\zeta} + \\\\ov{\\\\zeta} \\\\cdot \\\\ov{\\\\wp}\\r\\n\\\\end{align}\\r\\nis elliptic.\\r\\n\\\\end{lemma}\\r\\n\\r\\n\\\\begin{proof}\\r\\nLet $2\\\\pi i q \\\\partial_q \\\\ov\\\\zeta(z, \\\\tau) = \\\\partial_\\\\tau \\\\ov\\\\zeta(z, \\\\tau)$ be denoted $\\\\dot{\\\\ov\\\\zeta}(z, \\\\tau)$. Applying $\\\\partial_\\\\tau$ to the second part of (\\\\ref{zeta.qp}) yields\\r\\n\\\\[\\r\\n\\\\dot{\\\\ov\\\\zeta}(z+\\\\tau,\\\\tau) - \\\\dot{\\\\ov\\\\zeta}(z,\\\\tau) = -\\\\partial_z\\\\ov\\\\zeta(z,\\\\tau) = \\\\ov\\\\wp(z,\\\\tau).\\r\\n\\\\]\\r\\nOn the other hand we have\\r\\n\\\\[\\r\\n\\\\ov\\\\zeta(z+\\\\tau,\\\\tau)\\\\ov\\\\wp(z+\\\\tau,\\\\tau) - \\\\ov\\\\zeta(z,\\\\tau)\\\\ov\\\\wp(z,\\\\tau) = -2\\\\pi i \\\\ov\\\\wp(z,\\\\tau).\\r\\n\\\\]\\r\\nFrom these two equations it follows that the sum (\\\\ref{formula.q.de}) is elliptic.\\r\\n\\\\end{proof}\\r\\nBy differentiating (\\\\ref{formula.q.de}) with respect to $z$ it follows that the functions\\r\\n\\\\begin{align}\\\\label{formula.q.de.higher}\\r\\n(2\\\\pi i)^2 q \\\\partial_q \\\\partial_z^{k}\\\\ov\\\\wp - \\\\ov\\\\zeta \\\\cdot \\\\partial_z^{k+1}\\\\ov\\\\wp\\r\\n\\\\end{align}\\r\\nare also elliptic. In \\\\cite{JVEpisa} Ramanujan's differential equations on Eisenstein series were deduced from the $k=1$ case of this observation.\\r\\n\\r\\n\\r\\nWe now introduce the formal Laurent series\\r\\n\\\\begin{align*}\\r\\nP(x,q) &= \\\\frac{1+x}{x^2} + \\\\sum_{n=1}^\\\\infty \\\\frac{nq^n}{1-q^n} \\\\left[ (1+x)^{n} + (1+x)^{-n} \\\\right] \\\\\\\\\\r\\n%\\r\\n\\\\text{and} \\\\quad Z(x,q) &= \\\\frac{1+x}{x} - \\\\sum_{n=1}^\\\\infty \\\\frac{q^n}{1-q^n} \\\\left[ (1+x)^{n} - (1+x)^{-n} \\\\right].\\r\\n\\\\end{align*}\\r\\nUpon substitution of $x = e^{2\\\\pi i z}-1$, these become convergent series on the domain $|\\\\Imag(z)| < \\\\Imag(\\\\tau)$, and one has\\r\\n\\\\begin{align}\\\\label{PZ.converge}\\r\\n\\\\ov\\\\wp(z,\\\\tau) = (2\\\\pi i)^2 P(x,q) \\\\quad \\\\text{and} \\\\quad \\\\ov\\\\zeta(z,\\\\tau) = 2\\\\pi i Z(x,q).\\r\\n\\\\end{align}\\r\\n\\r\\n\\r\\n\\\\begin{lemma}\\\\label{zhu.closure}\\r\\nThe $\\\\C[[q]]$-module $\\\\left<\\\\partial_z^{(k)}P | k \\\\in \\\\Z_+ \\\\right>$ is closed under multiplication by $P$ and by $Z$ modulo $q\\\\,\\\\C[[q]]$. Let $f$ and $g$ be as in (\\\\ref{Zhu.solution}). The vector space $\\\\left<\\\\partial_z^{(k)} g | k \\\\in \\\\Z_+ \\\\right>$ is closed under multiplication by $f$ and by $g$.\\r\\n\\\\end{lemma}\\r\\n\\r\\n\\\\begin{proof}\\r\\nThe substitution $x = e^{cz}-1$ yields $f(z)=c(x^{-1}+1)$, $g(z)=-c^2(x^{-2}+x^{-1})$, and $\\\\partial_z = c(x+1)\\\\partial_x$. From this it is plain to see that $\\\\partial_z^{(j)}g$, $f \\\\partial_z^{(j)}g$ and $g \\\\partial_z^{(j)}g$ lie in $x^{-1}\\\\C[x^{-1}]$ for all $j \\\\in \\\\Z_+$.\\r\\n\\r\\nNow let $\\\\varepsilon : \\\\C((x))[[q]] \\\\rightarrow \\\\C((x))$ denote the quotient by the ideal generated by $q$. We observe that $\\\\varepsilon(Z) = f / c$ and $\\\\varepsilon(P) = -g / c^2$.\\r\\n\\r\\nSince $P$ is the Laurent expansion of an elliptic function it follows that, for each $j \\\\in \\\\Z_+$,\\r\\n\\\\[\\r\\nP \\\\partial_z^{(j)}P = \\\\al + \\\\sum_{k \\\\in \\\\Z_+} \\\\beta_k \\\\partial_z^{(k)}P,\\r\\n\\\\]\\r\\nfor some $\\\\al, \\\\beta_k \\\\in \\\\C[[q]]$. But since $\\\\varepsilon(P) = -g / c^2$ and $g \\\\partial_z^{(j)}g \\\\in x^{-1}\\\\C[x^{-1}]$ we see that $\\\\varepsilon(\\\\al) = 0$, hence $\\\\al \\\\in q\\\\,\\\\C[[q]]$. This proves at once the statements about closure with respect to $g$ and $P$.\\r\\n\\r\\nSince $\\\\varepsilon$ annihilates the image of $q \\\\partial_q$ and the functions (\\\\ref{formula.q.de.higher}) are elliptic, we may repeat the arguments above to deduce the statements about closure with respect to $f$ and $Z$ exactly as we did for $g$ and $P$.\\r\\n\\\\end{proof}\\r\\n\\r\\nAside from implying Proposition \\\\ref{zhu.is.assoc}, the Lemma \\\\ref{zhu.closure} is a source of classical identities among the constant terms of Eisenstein series. The following such identity is an example.\\r\\n\\\\begin{cor}\\r\\nFor each integer $n \\\\geq 2$ one has\\r\\n\\\\begin{align*}\\r\\n\\\\left( 1 - \\\\frac{n(n-1)}{2} \\\\right) \\\\frac{B_{n}}{n!} = \\\\sum_{i=2}^{n-2} (i-1) \\\\frac{B_{i}}{i!} \\\\cdot \\\\frac{B_{n-i}}{(n-i)!}.\\r\\n\\\\end{align*}\\r\\n\\r\\n\\\\end{cor}\\r\\n\\r\\n\\r\\n\\r\\nIt is easy to adapt the proof of Lemma \\\\ref{zhu.closure} to show that the algebra defined in (\\\\ref{higher.zhu.half}), henceforth referred to as $\\\\zhu_{1/2}(V)$, is associative. We observe that $f_{1/2} = f + g$ and $g_{1/2} = f_{1/2}'$. The substitution $x = e^{z}-1$ yields $f_{1/2} = x^{-2} + 2x^{-1} + 1$ and $g_{1/2} = -2(x^{-3}+2x^{-2}+x^{-1})$. Now $\\\\partial^{(j)}g_{1/2}$, $f_{1/2} \\\\partial^{(j)}g_{1/2}$ and $g_{1/2} \\\\partial^{(j)}g_{1/2}$ lie in $x^{-1}\\\\C[x^{-1}]$ for all $j \\\\in \\\\Z_+$. The rest of the argument is identical. In fact this argument applies more generally. Put $F = f + p$ where $p$ is any linear combination of $g$ and its derivatives. Then the quotient $\\\\zhu_F(V) = V/J_F$, where $J_F = V_{(F')}V + TV$, equipped with the $F$-product is a unital associative algebra.\\r\\n\\r\\n\\r\\n\\r\\n\\r\\n% \\\\section{Conformal Blocks and the Zhu Algebra}\\\\label{section.blocks}\\r\\n\\r\\n% Following \\\\cite{FBZ.Book} we write $\\\\OO$ and $\\\\CK$ for the topological rings $\\\\C[[t]]$ and $\\\\C((t))$ respectively, $D = \\\\spec{\\\\OO}$ and $D^\\\\times = \\\\spec{\\\\CK}$ for the disc and punctured disc, $\\\\der_0\\\\OO = t\\\\C[[t]]\\\\partial_t$ and $\\\\der{\\\\CK} = \\\\C((t))\\\\partial_t$ for the Lie algebras of vector fields on $D$ and $D^\\\\times$ respectively, and $\\\\aut{\\\\OO}$ for the group of smooth automorphisms of $\\\\OO$. We denote by $R(f)$ the image of $f(z)\\\\partial_z$ under the exponential map\\r\\n% \\\\[\\r\\n% \\\\exp : \\\\der_0\\\\OO \\\\rightarrow \\\\aut\\\\OO,\\r\\n% \\\\]\\r\\n% and we write $f_z$ for the series defined by $f_z(t) = f(z+t)-f(z)$.\\r\\n\\r\\n% Now $\\\\der\\\\CK$ is the completion of the Lie algebra $W$ of polynomial vector fields on $D^\\\\times$. The latter is spanned by $L_n = -t^{n+1} \\\\partial_t$ for $n \\\\in \\\\Z$, and has a unique central extension by $\\\\C$, namely the Virasoro algebra $\\\\vir$ defined by explicit Lie brackets\\r\\n% \\\\[\\r\\n% [L_m, L_n] = (m-n) L_{m+n} + \\\\delta_{m,-n} \\\\frac{m^3-m}{12} C, \\\\quad \\\\text{and} \\\\quad [C, \\\\vir] = 0.\\r\\n% \\\\]\\r\\n% The highest weight $\\\\vir$-module\\r\\n% \\\\[\\r\\n% \\\\vir^c = U(\\\\vir) \\\\otimes_{U(\\\\vir_{\\\\geq -1})} \\\\C v_c \\\\quad \\\\text{where $L_{\\\\geq -1}v_c = 0$ and $Cv_c = cv_c$},\\r\\n% \\\\]\\r\\n% carries a vertex algebra structure in which $\\\\vac = v_c$, and $T = L_{-1}$.\\r\\n\\r\\n% A graded vertex algebra $V = \\\\bigoplus_{n \\\\in \\\\Z_+} V_n$ is said to be conformal if there exists an embedding $\\\\vir^c \\\\rightarrow V$ relative to which ${L_0}|_{V_n} = n$. The number $c$ is called the central charge of $V$.\\r\\n\\r\\n\\r\\n% Let $V$ be a conformal vertex algebra. The exponential map allows one to define an action of $\\\\aut\\\\OO$ on $V$ (indeed on any $W$-module on which $L_0$ acts by integral eigenvalues, and $W_{\\\\geq 1}$ acts locally finitely). The behaviour of the vertex operation $Y$ in $V$ under change of coordinate $z$ is governed by Huang's formula {\\\\cite[????]{Huang.2dCFT.Book}}\\r\\n% \\\\begin{align}\\\\label{huang.formula}\\r\\n% Y(a, z) = R(f) Y(R(f_z)^{-1}a, f(z)) R(f)^{-1}.\\r\\n% \\\\end{align}\\r\\n\\r\\n% \\\\begin{rem}\\\\label{huang.isom}\\r\\n% In \\\\cite{Z96} Zhu introduced the modified vertex operation\\r\\n% \\\\[\\r\\n% Y[a,z] = Y(e^{2\\\\pi i z L_0}a, \\\\phi(z)).\\r\\n% \\\\]\\r\\n% Let $\\\\phi(z) = e^{2\\\\pi i z}-1$ and write $R = R(\\\\phi)$. Then $\\\\phi_z(t) = e^{2\\\\pi i z}\\\\phi(t)$, so $R(\\\\phi_z) = R(\\\\phi) e^{-2\\\\pi i z L_0}$, and (\\\\ref{huang.formula}) yields\\r\\n% \\\\[\\r\\n% Y[a,z] = R^{-1}Y(Ra,z)R.\\r\\n% \\\\]\\r\\n% So in fact $R : (V, Y[-,z]) \\\\rightarrow (V, Y(-,z))$ is a vertex algebra isomorphism. \\r\\n% %% \\\\[\\r\\n% %% Y(a, z) = R Y(e^{2\\\\pi i z L_0} R^{-1} a, \\\\phi(z)) R^{-1}.\\r\\n% %% \\\\]\\r\\n% This was used by Huang to uncover the presentation of $\\\\zhu(V)$ given in Proposition \\\\ref{zhu.is.assoc} above. In \\\\cite{Z96} the Zhu algebra is defined as $\\\\zhu(V) = V / V \\\\circ_{-2} V$ with the product $\\\\circ_{-1}$, where\\r\\n% \\\\[\\r\\n% a \\\\circ_{n} b = \\\\res_w w^n Y((1+w)^{L_0}a, w)b \\\\,dw.\\r\\n% \\\\]\\r\\n% From the formulas above it is easy to deduce $(Ra)_{(f)}(Rb) = R(a \\\\circ_{-1} b)$ and $(Ra)_{(g)}(Rb) = R(a \\\\circ_{-2} b)$, from which it follows that $R$ induces an isomorphism of algebra from $\\\\zhu(V)$ to $V/V_{(g)}V$ equipped with the $f$-product.\\r\\n% \\\\end{rem}\\r\\n\\r\\n% Let $X$ be a smooth algebraic curve over $\\\\C$. For $x$ a point of $X$ we denote by $\\\\OO_x$ the completed local ring at $x$. A choice of generator $t$ of the maximal ideal of $\\\\OO$ gives an isomorphism $\\\\OO_x \\\\cong \\\\OO$, and we repeat definitions of $\\\\CK_x$, $D_x$, $D_x^\\\\times$, etc. as above. The subscheme $J^\\\\circ{X}$ of the jet scheme $JX$ of $X$, consisting of jets with nonzero differential, can be thought of as a principal $\\\\aut{\\\\OO}$-bundle (denoted ${\\\\mathcal{A}ut}_X$ in \\\\cite{FBZ.Book}).\\r\\n\\r\\n% The conformal vertex algebra $V$ is, in particular, a Harish-Chandra $(\\\\g, K)$-module in the sense of {\\\\cite{BD.Hitchin}} where $\\\\g = \\\\vir_{\\\\geq -1}$, and $K = \\\\aut{\\\\OO}$. It follows that the machinery of Beilinson-Bernstein localisation can be applied to produce $\\\\V = J^\\\\circ{X} \\\\times_{\\\\aut{\\\\OO}} V$ an infinite rank vector bundle and left $\\\\CD$-module on $X$ {\\\\cite[Section 1.2]{BD.Hitchin}} {\\\\cite{FBZ.Book}}. The vertex algebra structure of $V$ translates into a chiral algebra structure $\\\\mu$ on the corresponding right $\\\\CD$-module $\\\\CA = \\\\V \\\\otimes \\\\Om_X$ {\\\\cite{BD.Chiral}} {\\\\cite{FBZ.Book}}.\\r\\n\\r\\n% These structures are easily described in local coordinates. Let $x$ be a point of $X$, and $z$ a local coordinate at $x$. The choice of $z$ induces identifications %Crummy typesetting here\\r\\n% \\\\begin{align*}\\r\\n%   \\\\xymatrix{\\r\\n%     \\\\G(D_x^\\\\times, \\\\CA) \\\\otimes \\\\CA_x \\\\ar@{->}[r]^\\\\mu \\\\ar@{->}[d]^{\\\\cong} & \\\\CA_x \\\\ar@{->}[d]^{\\\\cong} \\\\\\\\\\r\\n%     %\\r\\n%     V((z))\\\\,dz \\\\otimes V \\\\ar@{->}[r] & V, \\\\\\\\\\r\\n%   }\\r\\n% \\\\end{align*}\\r\\n% and the map on the lower line is simply our $f$-product\\r\\n% \\\\[\\r\\n% a f(z) \\\\,dz \\\\otimes b \\\\mapsto \\\\res_z f(z) a(z)b \\\\,dz = a_{(f)}b.\\r\\n% \\\\]\\r\\n% The $\\\\CD$-module structure of $\\\\V$ is given by\\r\\n% \\\\[\\r\\n% \\\\partial_z \\\\left( a \\\\otimes f(z) \\\\right) = Ta \\\\otimes f(z) + a \\\\otimes f'(z).\\r\\n% \\\\]\\r\\n% The grading $V = \\\\bigoplus_{n \\\\in \\\\Z_+} V_n$ induces an increasing filtration $F^\\\\bullet \\\\V$ of $\\\\V$ by finite rank subbundles, with associated graded bundle\\r\\n% \\\\[\\r\\n% \\\\gr^F\\\\V = \\\\bigoplus_{n \\\\in \\\\Z_+}\\\\gr^F_n\\\\V, \\\\quad \\\\text{where} \\\\quad \\\\gr^F_n \\\\V \\\\cong (\\\\Theta_X^{\\\\otimes n})^{\\\\oplus \\\\dim{V_n}}.\\r\\n% \\\\]\\r\\n\\r\\n% Given a point $x \\\\in X$, the space of conformal blocks, or one point functions, $C(X, x, V)$ may be defined as the vector space dual of the space of coinvariants\\r\\n% \\\\[\\r\\n% H(X, x, V) = \\\\frac{\\\\CA_x}{\\\\G(X \\\\backslash x, \\\\CA) \\\\cdot \\\\CA_x}.\\r\\n% \\\\]\\r\\n\\r\\n% The structure of $\\\\V$ simplifies considerably when $X$ is an elliptic curve, which we assume from now on. Indeed let $\\\\tau$ and $\\\\La$ be as in Section \\\\ref{section.elliptic} and $X = E_\\\\tau = \\\\C / \\\\Z + \\\\Z\\\\tau$ with $0=[\\\\La]$ the associated elliptic curve. The standard coordinate $z$ of $\\\\C$ induces local coordinates at all points of $X$, the transition maps between which are all the identity. Hence the extensions\\r\\n% \\\\[\\r\\n% 0 \\\\rightarrow F^{n-1}\\\\V \\\\rightarrow F^{n}\\\\V \\\\rightarrow (\\\\Theta_X^{\\\\otimes n})^{\\\\oplus \\\\dim{V_n}} \\\\rightarrow 0\\r\\n% \\\\]\\r\\n% are split. Since $\\\\Theta_X \\\\cong \\\\OO_X$ and $\\\\Om_X \\\\cong \\\\OO_X$ as well, we have $\\\\V \\\\cong V \\\\otimes \\\\OO_X$, and $\\\\CA \\\\cong V \\\\otimes \\\\OO_X$. We thus obtain identifications\\r\\n% \\\\[\\r\\n% \\\\G(E_\\\\tau \\\\backslash 0, \\\\CA) \\\\cong V \\\\otimes \\\\G(E_\\\\tau \\\\backslash 0, \\\\OO_X),\\r\\n% \\\\]\\r\\n% and\\r\\n% \\\\[\\r\\n% H(X, x, V) \\\\cong \\\\frac{V}{\\\\left<V_{(f)}V | f \\\\in \\\\G(E_\\\\tau \\\\backslash 0, \\\\OO_X)\\\\right>}.\\r\\n% \\\\]\\r\\n\\r\\n% The space $\\\\G(E_\\\\tau \\\\backslash 0, \\\\OO_X)$ is spanned by the constant function $1$, the Weierstrass function $\\\\ov{\\\\wp}$ and all of its derivatives. Since $a_{(\\\\partial f)}b = -a_{(f)}b$, we conclude\\r\\n% \\\\begin{align}\\\\label{Hdef}\\r\\n% H(E_\\\\tau, 0, V) \\\\cong \\\\frac{V}{\\\\left< V(0)V + V_{(\\\\ov{\\\\wp})}V \\\\right>}.\\r\\n% \\\\end{align}\\r\\n\\r\\n% If we work instead with a family $X \\\\rightarrow S$, $x : S \\\\rightarrow X$ of smooth pointed curves, then $H = H(X, x, V)$ describes a sheaf on $S$. The theory of Virasoro uniformisation explains how to give $H$ the structure of a twisted $\\\\CD$-module on $S$. Indeed $V$ is a Harish-Chandra $(\\\\vir, \\\\aut{\\\\OO})$-module while, and this is the key point, $\\\\M_{(X, x, t)} \\\\rightarrow \\\\M_{(X, x)}$ carries a $(\\\\vir, \\\\aut{\\\\OO})$-structure. Then $H$ is just the localisation $\\\\D(V)$.\\r\\n\\r\\n% Denote by $E \\\\rightarrow \\\\HH$ the quotient of the trivial family $\\\\C \\\\times \\\\HH \\\\rightarrow \\\\HH$ by the $\\\\Z^2$-action\\r\\n% \\\\[\\r\\n% (m, n) \\\\cdot (z, \\\\tau) = (z + m\\\\tau + n, \\\\tau).\\r\\n% \\\\]\\r\\n% This is a family of nonsingular elliptic curves. After unwinding definitions, the connection on $H \\\\rightarrow \\\\HH$ is equivalent to the differential equation\\r\\n% \\\\[\\r\\n% q \\\\frac{\\\\partial s}{\\\\partial q} = L_{(\\\\ov{\\\\zeta})}s,\\r\\n% \\\\]\\r\\n% on a section $s$.\\r\\n\\r\\n% All this suggests to us to consider the $\\\\ov{\\\\zeta}$-product on the quotient $V / V_{(\\\\ov{\\\\wp})}V$. More precisely, let\\r\\n% \\\\[\\r\\n% Z_q = V[[q]] / V_{(\\\\ov{\\\\wp})}V.\\r\\n% \\\\]\\r\\n% Then the quotient $\\\\varepsilon : \\\\C[[q]] \\\\rightarrow \\\\C$ by the ideal $(q)$ induces $\\\\varepsilon : V[[q]] \\\\rightarrow V$, and by (\\\\ref{wp.Lambert}) and (\\\\ref{zeta.Lambert}) we have\\r\\n% \\\\[\\r\\n% \\\\varepsilon(V_{(\\\\ov{\\\\wp})}V) = V_{(g)}V, \\\\quad \\\\text{and} \\\\quad \\\\varepsilon(a_{(\\\\ov{\\\\zeta})}b) = a_{(f)}b.\\r\\n% \\\\]\\r\\n% Thus the Zhu algebra is recovered as the $q=0$ limit of $Z_q$.% The subspace $V_{(\\\\ov{\\\\wp})}V \\\\subset V[[q]]$ is not, however, an ideal for the $\\\\ov{\\\\zeta}$-product, although in a sense it comes close.\\r\\n\\r\\n% It is well known that $V/TV$, equipped with the bracket $[a,b]=a(0)b$, is a Lie algebra. Since $a_{(\\\\ov{\\\\wp})}\\\\vac = a(-2)\\\\vac = -Ta$ we have $V_{(\\\\ov{\\\\wp})}V \\\\subset TV$. By (\\\\ref{idealstart}) and (\\\\ref{generalcomm}) the image of $V_{(\\\\ov{\\\\wp})}V$ in $V/TV$ is a Lie algebra ideal. \\r\\n% %% \\\\[\\r\\n% %% a(0)(b_{(\\\\ov{\\\\wp})}c) = b_{(\\\\ov{\\\\wp})}(a(0)c) + (a(0)b)_{(\\\\ov{\\\\wp})}c \\\\in V_{(\\\\ov{\\\\wp})}V\\r\\n% %% \\\\]\\r\\n% %% and\\r\\n% %% \\\\[\\r\\n% %% (b_{(\\\\ov{\\\\wp})}c)(0)a \\\\equiv -a(0)(b_{(\\\\ov{\\\\wp})}c) \\\\in V_{(\\\\ov{\\\\wp})}V.\\r\\n% %% \\\\]\\r\\n% On the other hand by (\\\\ref{generalcomm}) and the fact that $\\\\ov\\\\zeta(-z) = -\\\\ov\\\\zeta(z) + 2\\\\pi i$ we see that\\r\\n% \\\\[\\r\\n% [a,b]_{\\\\ov\\\\zeta} = a_{(\\\\ov\\\\zeta)}b - b_{(\\\\ov\\\\zeta)}a = 2\\\\pi i a(0)b \\\\mod{TV}.\\r\\n% \\\\]\\r\\n% Hence the commutator $[\\\\cdot,\\\\cdot]_{\\\\ov\\\\zeta}$ is well defined on $Z_q$, and $(Z_q, [\\\\cdot,\\\\cdot]_{\\\\ov\\\\zeta})$ is a quotient of the Lie algebra $V / TV$. Furthermore\\r\\n% \\\\[\\r\\n% H(E_\\\\tau, 0, V) \\\\cong \\\\frac{Z_q}{[Z_q, Z_q]_{\\\\ov\\\\zeta}}.\\r\\n% \\\\]\\r\\n% However $V_{(\\\\ov{\\\\wp})}V$ is not an ideal for the $\\\\ov\\\\zeta$-product itself.\\r\\n\\r\\n\\r\\n\\r\\n%% \\\\section{Families of Plane Cubics}\\\\label{section.cusp}\\r\\n\\r\\n%% In this last section we saw how the Zhu algebra arises in the nodal curve limit. In this section we study the cuspidal limit, and we see the $C_2$-algebra arise in a similar way. It is convenient to work with the cubic curve model for elliptic cuves.\\r\\n\\r\\n%% We consider the cubic curve $C \\\\subset \\\\C P^2$ defined by the equation\\r\\n%% \\\\begin{align}\\\\label{cubic.def}\\r\\n%% Y^2 U = 4X^3 - g_2 X U^2 - g_3 U^3.\\r\\n%% \\\\end{align}\\r\\n%% If $C$ is smooth then it has genus $1$, and is an elliptic curve. The map $\\\\C \\\\rightarrow \\\\C P^2$ defined by\\r\\n%% \\\\[\\r\\n%% \\\\text{$z \\\\mapsto [\\\\wp(z, \\\\tau) : \\\\wp'(z, \\\\tau) : 1]$ for $z \\\\neq 0$, and $0 \\\\mapsto [0 : 1 : 0]$}\\r\\n%% \\\\]\\r\\n%% induces an isomorphism $E_\\\\tau \\\\rightarrow C$, where\\r\\n%% \\\\[\\r\\n%% g_2 = 60 G_4(\\\\tau) \\\\quad \\\\text{and} \\\\quad g_3 = 140 G_6(\\\\tau).\\r\\n%% \\\\]\\r\\n\\r\\n%% The discriminant of $C$ is $\\\\D = g_2^3-27g_3^2$, and $C$ is smooth if and only if $\\\\D \\\\neq 0$. However $\\\\D$ is not an isomorphism invariant. The $j$-invariant $j = 1728 g_2^3/\\\\D$, defined for smooth $C$, is an isomorphism invariant. In terms of $q=e^{2\\\\pi i\\\\tau}$ it coincides with the $j$-function\\r\\n%% \\\\[\\r\\n%% j = q^{-1} + 744 + 196884q + \\\\cdots.\\r\\n%% \\\\]\\r\\n\\r\\n%% %The global $1$-form $dz$ on $E_\\\\tau$ corresponds to $dx / y$ on $U=1$ chart of the cubic.\\r\\n\\r\\n%% Even when $C$ defined by (\\\\ref{cubic.def}) is singular, the point $[0 : 1 : 0]$ is smooth. In the affine chart $Y=1$, equation (\\\\ref{cubic.def}) becomes\\r\\n%% \\\\[\\r\\n%% u = 4x^3 - g_2 x u^2 - g_3 u^3,\\r\\n%% \\\\]\\r\\n%% where $u=U/Y$ and $x=X/Y$. The local coordinate $x$ is related to $z$ by\\r\\n%% \\\\begin{align}\\\\label{xcoord}\\r\\n%% x = \\\\frac{\\\\wp(z, \\\\tau)}{\\\\wp'(z, \\\\tau)}.\\r\\n%% \\\\end{align}\\r\\n%% The right hand side here can be regarded as an element of $\\\\C[g_2,g_3][[z]]$. Clearly all coefficients beyond that of $z$ are polynomials in $g_2,g_3$ with vanishing constant coefficient. Explicitly\\r\\n%% \\\\[\\r\\n%% x = -\\\\frac{1}{2}z - \\\\frac{g_2}{20}z^5 - \\\\frac{3g_3}{56} z^7 - \\\\frac{g_2^2}{240} z^9 - \\\\frac{23g_2 g_3}{3080}z^{11} - \\\\left( \\\\frac{11g_2^3}{31200} + \\\\frac{3g_3^2}{728} \\\\right) z^{13} - \\\\cdots\\r\\n%%  \\\\]\\r\\n\\r\\n\\r\\n\\r\\n%% Now let us consider the family $X \\\\rightarrow B$ of cubics\\r\\n%% \\\\[\\r\\n%% Y^2 U = 4X^3 - \\\\frac{t(t-12^3)^3}{12} X U^2 - \\\\frac{t(t-12^3)^5}{216} U^3\\r\\n%% \\\\]\\r\\n%% over $B = \\\\spec \\\\C[t]$. One may compute $\\\\D = t^2(t-12^3)^9$ and $j = t$. The singular fibre $X_0$ is of type $\\\\text{II}$ in Kodaira's classification (a cuspidal cubic). See \\\\cite{Kodaira} \\\\cite{Schuett.Shioda}.\\r\\n\\r\\n%Every fibre of the family outside $t=0$ can be put in the form $X_t \\\\cong E_\\\\tau$ for some $\\\\tau$ depending on $t$. But looping once around $t=0$ induces a Dehn twist on the fibre. Indeed the singular fibre is of type II in Kodaira's classification, and he says that a loop around $t=0$ starting at $t_0$ must lift to a path in the upper half plane $\\\\HH$ that goes from $\\\\tau_0$ to $-1-1/\\\\tau_0$. Note that the cube of the transformation $\\\\tau \\\\mapsto -1-1/\\\\tau$ is the identity, and in fact the loop around $t=0$ gets lifted to a loop around the orbifold point of order $3$ in $\\\\HH / SL_2(\\\\Z)$. Consistent with all this is the fact that for this family $\\\\lim_{t \\\\rightarrow 0} j(t) = 0$, while indeed $j=0$ for the elliptic curve which corresponds to the orbifold point of order $3$.\\r\\n\\r\\n%% Using (\\\\ref{xcoord}) and Huang's formula (\\\\ref{huang.formula}), the quotient $H(X_t, 0, V) = V / \\\\left<V_{(\\\\wp)}V + V(0)V\\\\right>$ may be reexpressed in terms of $x$. At $t=0$ one has $x = -(1/2)z$ and $a_{(\\\\wp)}b = -2a(-2)b$. \\r\\n%% \\\\begin{prop}\\r\\n%% There is a coherent sheaf over $B$ whose fibre over $t \\\\neq 0$ is isomorphic to the space of coinvariants $H(X_t, 0, V)$ of the elliptic curve $X_t$, and whose fibre over $t=0$ is isomorphic to the $0^\\\\text{th}$ Poisson homology of the $C_2$-algebra $R_V$ of $V$.\\r\\n%%   \\\\end{prop}\\r\\n\\r\\n\\r\\n\\r\\n%% {\\\\color{blue}At $t=12^3$ the singular fibre type is of type $\\\\text{III}^*$ in Kodaira's classification (a chain of spheres intersecting in a pattern governed by $E_7$. In general (i.e., in all cases except for the nodal curve) not only the singular fibre is singular, but the surface has a surface singularity. One has to resolve the singularity by blow ups. This is what introduces the extra components of the singular fibres. The point is: things might be a lot more suble than I have been thinking.}\\r\\n\\r\\n\\r\\n\\r\\n\\r\\n%TO DO: explain why $R_V$ is a Poisson algebra, zeroth product, Poisson homology. Introduce $C_2$-cofiniteness, and why is needed in the theorem. Write out a corresponding theorem in the Zhu case.\\r\\n\\r\\n\\r\\n\\r\\n\\r\\n\\r\\n\\r\\n\\r\\n%% \\\\section{Antiholomorphic Forms}\\r\\n\\r\\n%% {\\\\color{red}I'm leaning towards deleting this section.}\\r\\n\\r\\n%% Let $X = E_\\\\tau$ and let $U = X \\\\backslash 0$.\\r\\n\\r\\n%% Let $\\\\Om^\\\\bullet$ denote the complex of holomorphic and $C^\\\\bullet$ the complex of $C^\\\\infty$ forms.\\r\\n\\r\\n%% Then the natural embedding\\r\\n%% \\\\[\\r\\n%% \\\\Om^\\\\bullet \\\\rightarrow C^\\\\bullet\\r\\n%% \\\\]\\r\\n%% induces a quasi-isomorphism at the level of derived categories.\\r\\n\\r\\n\\r\\n%% By (\\\\ref{zetaperiods}) the expression\\r\\n%% \\\\[\\r\\n%% \\\\zeta(z) - \\\\frac{z - \\\\ov{z}}{\\\\tau - \\\\ov\\\\tau}\\r\\n%% \\\\]\\r\\n%% represents a smooth function on $E_\\\\tau$ with pole at $z=0$. Thus\\r\\n%% \\\\[\\r\\n%% \\\\wp(z)dz - \\\\frac{dz - d\\\\ov{z}}{\\\\tau - \\\\ov\\\\tau}\\r\\n%% \\\\]\\r\\n%% is exact in $C^\\\\bullet$.\\r\\n\\r\\n%% %\\\\section{Chiral Homology}\\r\\n\\r\\n\\r\\n\\r\\n\\r\\n\\r\\n%\\\\newpage\\r\\n\\r\\n\\r\\n\\r\\n\\r\\n\\\\bibliographystyle{plain}\\r\\n\\\\begin{thebibliography}{1}\\n\\n\\\\bibitem{Apostol.Book}\\nTom~M. Apostol.\\n\\\\newblock {\\\\em Modular functions and {D}irichlet series in number theory},\\n  volume~41 of {\\\\em Graduate Texts in Mathematics}.\\n\\\\newblock Springer-Verlag, New York, second edition, 1990.\\n\\n\\\\bibitem{DK06}\\nAlberto De~Sole and Victor~G. Kac.\\n\\\\newblock Finite vs affine {$W$}-algebras.\\n\\\\newblock {\\\\em Jpn. J. Math.}, 1(1):137--261, 2006.\\n\\n\\\\bibitem{DLM.VA.and.assoc}\\nChongying Dong, Haisheng Li, and Geoffrey Mason.\\n\\\\newblock Vertex operator algebras and associative algebras.\\n\\\\newblock {\\\\em J. Algebra}, 206(1):67--96, 1998.\\n\\n\\\\bibitem{Huang.duality}\\nYi-Zhi Huang.\\n\\\\newblock Differential equations, duality and modular invariance.\\n\\\\newblock {\\\\em Commun. Contemp. Math.}, 7(5):649--706, 2005.\\n\\n\\\\bibitem{Kac.VA.Book}\\nVictor Kac.\\n\\\\newblock {\\\\em Vertex algebras for beginners}, volume~10 of {\\\\em University\\n  Lecture Series}.\\n\\\\newblock American Mathematical Society, Providence, RI, second edition, 1998.\\n\\n\\\\bibitem{Lang.Book.elliptic}\\nSerge Lang.\\n\\\\newblock {\\\\em Elliptic functions}, volume 112 of {\\\\em Graduate Texts in\\n  Mathematics}.\\n\\\\newblock Springer-Verlag, New York, second edition, 1987.\\n\\\\newblock With an appendix by J. Tate.\\n\\n\\\\bibitem{JVEpisa}\\nJethro van Ekeren.\\n\\\\newblock Vertex superalgebras and jacobi forms.\\n\\\\newblock Preprint, 2014.\\n\\n\\\\bibitem{Zhu-thesis}\\nYongchang Zhu.\\n\\\\newblock {\\\\em Vertex operator algebras, elliptic functions and modular forms}.\\n\\\\newblock ProQuest LLC, Ann Arbor, MI, 1990.\\n\\\\newblock Thesis (Ph.D.)--Yale University.\\n\\n\\\\bibitem{Z96}\\nYongchang Zhu.\\n\\\\newblock Modular invariance of characters of vertex operator algebras.\\n\\\\newblock {\\\\em J. Amer. Math. Soc.}, 9(1):237--302, 1996.\\n\\n\\\\end{thebibliography}\\n\\r\\n\\r\\n\\r\\n\\r\\n\\r\\n\\r\\n\\r\\n\\r\\n\\r\\n\\r\\n\\r\\n\\r\\n\\r\\n\\r\\n\\r\\n\\\\end{document}\\r\\n\"\n"
     ]
    }
   ],
   "source": [
    "print(zhu_str)"
   ]
  },
  {
   "cell_type": "code",
   "execution_count": 48,
   "metadata": {},
   "outputs": [
    {
     "data": {
      "text/plain": [
       "{'encoding': 'ISO-2022-JP', 'confidence': 0.99, 'language': 'Japanese'}"
      ]
     },
     "execution_count": 48,
     "metadata": {},
     "output_type": "execute_result"
    }
   ],
   "source": [
    "import gzip\n",
    "import chardet\n",
    "import tarfile\n",
    "file_tar = tarfile.open('/mnt/arXiv_src/src/arXiv_src_9904_001.tar')\n",
    "#for f in file_tar.getmembers():\n",
    "#    print(f.get_info())\n",
    "\n",
    "tar2 = file_tar.extractfile('9904/math9904086.gz')\n",
    "#print(chardet.detect(tar2))\n",
    "#with open('../todo_macizo.pdf','w') as todo_macizo:\n",
    "#    todo_macizo.write(tar2.read().decode('utf-8'))\n",
    "#with tarfile.open(fileobj=tar2) as tars:\n",
    "#    for t in tars:\n",
    " #       print(t.get_info()['name'])\n",
    "\n",
    "#gz = gzip.open(tar2, 'rb')\n",
    "\n",
    "with gzip.open(tar2,'r') as tars:\n",
    "    t = tars.read()\n",
    "\n",
    "\n",
    "#print(t.decode('utf-8'))\n",
    "chardet.detect(t)\n",
    "\n",
    "#with open('../holita.txt','w') as holaf:\n",
    "#    holaf.write(allfile.read().decode('utf-8'))\n",
    "    "
   ]
  },
  {
   "cell_type": "code",
   "execution_count": 50,
   "metadata": {
    "collapsed": true,
    "jupyter": {
     "outputs_hidden": true
    }
   },
   "outputs": [
    {
     "data": {
      "text/plain": [
       "'\\\\documentclass[12pt]{amsart}\\n\\\\usepackage{amssymb}\\n\\\\setlength{\\\\headheight}{8pt}\\n\\\\setlength{\\\\textheight}{22.4cm}\\n\\\\setlength{\\\\textwidth}{14.5cm}\\n\\\\setlength{\\\\oddsidemargin}{.1cm}\\n\\\\setlength{\\\\evensidemargin}{.1cm}\\n\\\\setlength{\\\\topmargin}{0.2cm}\\n\\\\input{xypic}\\n\\\\begin{document}\\n\\\\theoremstyle{plain}\\n\\\\newtheorem{thm}{Theorem}[section]\\n\\\\newtheorem*{thm1}{Theorem 1}\\n\\\\newtheorem*{thm2}{Theorem 2}\\n\\\\newtheorem{lemma}[thm]{Lemma}\\n\\\\newtheorem{lem}[thm]{Lemma}\\n\\\\newtheorem{cor}[thm]{Corollary}\\n\\\\newtheorem{prop}[thm]{Proposition}\\n\\\\newtheorem{propose}[thm]{Proposition}\\n\\\\newtheorem{variant}[thm]{Variant}\\n\\\\theoremstyle{definition}\\n\\\\newtheorem{notations}[thm]{Notations}\\n\\\\newtheorem{rem}[thm]{Remark}\\n\\\\newtheorem{rmk}[thm]{Remark}\\n\\\\newtheorem{rmks}[thm]{Remarks}\\n\\\\newtheorem{defn}[thm]{Definition}\\n\\\\newtheorem{ex}[thm]{Example}\\n\\\\newtheorem{claim}[thm]{Claim}\\n\\\\newtheorem{ass}[thm]{Assumption}\\n\\\\numberwithin{equation}{section}\\n\\\\newcounter{elno}                % This to number lists\\n\\\\def\\\\points{\\\\list\\n{\\\\hss\\\\llap{\\\\upshape{(\\\\roman{elno})}}}{\\\\usecounter{elno}}} \\n\\\\let\\\\endpoints=\\\\endlist\\n\\n%%%%%%%% Diagram macros, etc. \\n\\n% (Macros f\\x1b$B!S\\x1b(B komm. Diagr. mit schr\\x1b$B\\'H\\x1b(Ben Pfeilen)\\n%-----------------------------------------------------------------\\n\\\\catcode`\\\\@=11\\n%\\n% General macros\\n%\\n\\\\def\\\\opn#1#2{\\\\def#1{\\\\mathop{\\\\kern0pt\\\\fam0#2}\\\\nolimits}} % to make operators\\n%\\n\\\\def\\\\bold#1{{\\\\bf #1}}%\\n%\\n\\\\def\\\\underrightarrow{\\\\mathpalette\\\\underrightarrow@}\\n\\\\def\\\\underrightarrow@#1#2{\\\\vtop{\\\\ialign{$##$\\\\cr\\n \\\\hfil#1#2\\\\hfil\\\\cr\\\\noalign{\\\\nointerlineskip}%\\n #1{-}\\\\mkern-6mu\\\\cleaders\\\\hbox{$#1\\\\mkern-2mu{-}\\\\mkern-2mu$}\\\\hfill\\n \\\\mkern-6mu{\\\\to}\\\\cr}}}\\n\\\\let\\\\underarrow\\\\underrightarrow\\n\\\\def\\\\underleftarrow{\\\\mathpalette\\\\underleftarrow@}\\n\\\\def\\\\underleftarrow@#1#2{\\\\vtop{\\\\ialign{$##$\\\\cr\\n \\\\hfil#1#2\\\\hfil\\\\cr\\\\noalign{\\\\nointerlineskip}#1{\\\\leftarrow}\\\\mkern-6mu\\n \\\\cleaders\\\\hbox{$#1\\\\mkern-2mu{-}\\\\mkern-2mu$}\\\\hfill\\n \\\\mkern-6mu{-}\\\\cr}}}\\n% Standardization of Greek symbols\\n%\\n    %\\\\let\\\\phi=\\\\varphi\\n    %\\\\let\\\\epsilon=\\\\varepsilon\\n    %\\\\let\\\\theta=\\\\vartheta\\n%\\n\\n% Special typography\\n%\\n\\\\def\\\\:{\\\\colon}\\n%\\n\\\\let\\\\oldtilde=\\\\tilde\\n\\\\def\\\\tilde#1{\\\\mathchoice{\\\\widetilde{#1}}{\\\\widetilde{#1}}%\\n{\\\\indextil{#1}}{\\\\oldtilde{#1}}}\\n\\\\def\\\\indextil#1{\\\\lower2pt\\\\hbox{$\\\\textstyle{\\\\oldtilde{\\\\raise2pt%\\n\\\\hbox{$\\\\scriptstyle{#1}$}}}$}}\\n%\\n\\\\def\\\\pnt{{\\\\raise1.1pt\\\\hbox{$\\\\textstyle.$}}}\\n%\\n\\n% Rectangular Commutative diagrams\\n%\\n\\\\let\\\\amp@rs@nd@\\\\relax\\n\\\\newdimen\\\\ex@\\n\\\\ex@.2326ex\\n\\\\newdimen\\\\bigaw@\\n\\\\newdimen\\\\minaw@\\n\\\\minaw@16.08739\\\\ex@\\n\\\\newdimen\\\\minCDaw@\\n\\\\minCDaw@2.5pc\\n\\\\newif\\\\ifCD@\\n\\\\def\\\\minCDarrowwidth#1{\\\\minCDaw@#1}\\n\\\\newenvironment{CD}{\\\\@CD}{\\\\@endCD}\\n\\\\def\\\\@CD{\\\\def\\\\A##1A##2A{\\\\llap{$\\\\vcenter{\\\\hbox\\n {$\\\\scriptstyle##1$}}$}\\\\Big\\\\uparrow\\\\rlap{$\\\\vcenter{\\\\hbox{%\\n$\\\\scriptstyle##2$}}$}&&}%\\n\\\\def\\\\V##1V##2V{\\\\llap{$\\\\vcenter{\\\\hbox\\n {$\\\\scriptstyle##1$}}$}\\\\Big\\\\downarrow\\\\rlap{$\\\\vcenter{\\\\hbox{%\\n$\\\\scriptstyle##2$}}$}&&}%\\n\\\\def\\\\={&\\\\hskip.5em\\\\mathrel\\n {\\\\vbox{\\\\hrule width\\\\minCDaw@\\\\vskip3\\\\ex@\\\\hrule width\\n \\\\minCDaw@}}\\\\hskip.5em&}%\\n\\\\def\\\\verteq{\\\\Big\\\\Vert&&}%\\n\\\\def\\\\noarr{&&}%\\n\\\\def\\\\vspace##1{\\\\noalign{\\\\vskip##1\\\\relax}}\\\\relax\\\\iffalse{%\\n\\\\fi\\\\let\\\\amp@rs@nd@&\\\\iffalse}\\\\fi\\n \\\\CD@true\\\\vcenter\\\\bgroup\\\\relax\\\\iffalse{%\\n\\\\fi\\\\let\\\\\\\\=\\\\cr\\\\iffalse}\\\\fi\\\\tabskip\\\\z@skip\\\\baselineskip20\\\\ex@\\n \\\\lineskip3\\\\ex@\\\\lineskiplimit3\\\\ex@\\\\halign\\\\bgroup\\n &\\\\hfill$\\\\m@th##$\\\\hfill\\\\cr}\\n\\\\def\\\\@endCD{\\\\cr\\\\egroup\\\\egroup}\\n%----------------------------------------------------------\\n% Horizontal arrows with \"sliding\" length\\n%\\n\\\\def\\\\>#1>#2>{\\\\amp@rs@nd@\\\\setbox\\\\z@\\\\hbox{$\\\\scriptstyle\\n \\\\;{#1}\\\\;\\\\;$}\\\\setbox\\\\@ne\\\\hbox{$\\\\scriptstyle\\\\;{#2}\\\\;\\\\;$}\\\\setbox\\\\tw@\\n \\\\hbox{$#2$}\\\\ifCD@\\n \\\\global\\\\bigaw@\\\\minCDaw@\\\\else\\\\global\\\\bigaw@\\\\minaw@\\\\fi\\n \\\\ifdim\\\\wd\\\\z@>\\\\bigaw@\\\\global\\\\bigaw@\\\\wd\\\\z@\\\\fi\\n \\\\ifdim\\\\wd\\\\@ne>\\\\bigaw@\\\\global\\\\bigaw@\\\\wd\\\\@ne\\\\fi\\n \\\\ifCD@\\\\hskip.5em\\\\fi\\n \\\\ifdim\\\\wd\\\\tw@>\\\\z@\\n \\\\mathrel{\\\\mathop{\\\\hbox to\\\\bigaw@{\\\\rightarrowfill}}\\\\limits^{#1}_{#2}}\\\\else\\n \\\\mathrel{\\\\mathop{\\\\hbox to\\\\bigaw@{\\\\rightarrowfill}}\\\\limits^{#1}}\\\\fi\\n \\\\ifCD@\\\\hskip.5em\\\\fi\\\\amp@rs@nd@}\\n\\\\def\\\\<#1<#2<{\\\\amp@rs@nd@\\\\setbox\\\\z@\\\\hbox{$\\\\scriptstyle\\n \\\\;\\\\;{#1}\\\\;$}\\\\setbox\\\\@ne\\\\hbox{$\\\\scriptstyle\\\\;\\\\;{#2}\\\\;$}\\\\setbox\\\\tw@\\n \\\\hbox{$#2$}\\\\ifCD@\\n \\\\global\\\\bigaw@\\\\minCDaw@\\\\else\\\\global\\\\bigaw@\\\\minaw@\\\\fi\\n \\\\ifdim\\\\wd\\\\z@>\\\\bigaw@\\\\global\\\\bigaw@\\\\wd\\\\z@\\\\fi\\n \\\\ifdim\\\\wd\\\\@ne>\\\\bigaw@\\\\global\\\\bigaw@\\\\wd\\\\@ne\\\\fi\\n \\\\ifCD@\\\\hskip.5em\\\\fi\\n \\\\ifdim\\\\wd\\\\tw@>\\\\z@\\n \\\\mathrel{\\\\mathop{\\\\hbox to\\\\bigaw@{\\\\leftarrowfill}}\\\\limits^{#1}_{#2}}\\\\else\\n \\\\mathrel{\\\\mathop{\\\\hbox to\\\\bigaw@{\\\\leftarrowfill}}\\\\limits^{#1}}\\\\fi\\n \\\\ifCD@\\\\hskip.5em\\\\fi\\\\amp@rs@nd@}\\n%\\n%----------------------------------------------------------\\n% Rectangular commutative diagrams with diagonal arows\\n%\\n\\\\newenvironment{CDS}{\\\\@CDS}{\\\\@endCDS}\\n\\\\def\\\\@CDS{\\\\def\\\\A##1A##2A{\\\\llap{$\\\\vcenter{\\\\hbox\\n {$\\\\scriptstyle##1$}}$}\\\\Big\\\\uparrow\\\\rlap{$\\\\vcenter{\\\\hbox{%\\n$\\\\scriptstyle##2$}}$}&}%\\n\\\\def\\\\V##1V##2V{\\\\llap{$\\\\vcenter{\\\\hbox\\n {$\\\\scriptstyle##1$}}$}\\\\Big\\\\downarrow\\\\rlap{$\\\\vcenter{\\\\hbox{%\\n$\\\\scriptstyle##2$}}$}&}%\\n\\\\def\\\\={&\\\\hskip.5em\\\\mathrel\\n {\\\\vbox{\\\\hrule width\\\\minCDaw@\\\\vskip3\\\\ex@\\\\hrule width\\n \\\\minCDaw@}}\\\\hskip.5em&}\\n\\\\def\\\\verteq{\\\\Big\\\\Vert&}\\n\\\\def\\\\novarr{&}\\n\\\\def\\\\noharr{&&}\\n\\\\def\\\\SE##1E##2E{\\\\slantedarrow(0,18)(4,-3){##1}{##2}&}\\n\\\\def\\\\SW##1W##2W{\\\\slantedarrow(24,18)(-4,-3){##1}{##2}&}\\n\\\\def\\\\NE##1E##2E{\\\\slantedarrow(0,0)(4,3){##1}{##2}&}\\n\\\\def\\\\NW##1W##2W{\\\\slantedarrow(24,0)(-4,3){##1}{##2}&}\\n\\\\def\\\\slantedarrow(##1)(##2)##3##4{%\\n\\\\thinlines\\\\unitlength1pt\\\\lower 6.5pt\\\\hbox{\\\\begin{picture}(24,18)%\\n\\\\put(##1){\\\\vector(##2){24}}%\\n\\\\put(0,8){$\\\\scriptstyle##3$}%\\n\\\\put(20,8){$\\\\scriptstyle##4$}%\\n\\\\end{picture}}}\\n\\\\def\\\\vspace##1{\\\\noalign{\\\\vskip##1\\\\relax}}\\\\relax\\\\iffalse{%\\n\\\\fi\\\\let\\\\amp@rs@nd@&\\\\iffalse}\\\\fi\\n \\\\CD@true\\\\vcenter\\\\bgroup\\\\relax\\\\iffalse{%\\n\\\\fi\\\\let\\\\\\\\=\\\\cr\\\\iffalse}\\\\fi\\\\tabskip\\\\z@skip\\\\baselineskip20\\\\ex@\\n \\\\lineskip3\\\\ex@\\\\lineskiplimit3\\\\ex@\\\\halign\\\\bgroup\\n &\\\\hfill$\\\\m@th##$\\\\hfill\\\\cr}\\n\\\\def\\\\@endCDS{\\\\cr\\\\egroup\\\\egroup}\\n%----------------------------------------------------------\\n% Triangular commutative diagrams\\n%\\n\\\\newdimen\\\\TriCDarrw@\\n\\\\newif\\\\ifTriV@\\n\\\\newenvironment{TriCDV}{\\\\@TriCDV}{\\\\@endTriCD}\\n\\\\newenvironment{TriCDA}{\\\\@TriCDA}{\\\\@endTriCD}\\n\\\\def\\\\@TriCDV{\\\\TriV@true\\\\def\\\\TriCDpos@{6}\\\\@TriCD}\\n\\\\def\\\\@TriCDA{\\\\TriV@false\\\\def\\\\TriCDpos@{10}\\\\@TriCD}\\n\\\\def\\\\@TriCD#1#2#3#4#5#6{%\\n%\\n\\\\setbox0\\\\hbox{$\\\\ifTriV@#6\\\\else#1\\\\fi$}\\n\\\\TriCDarrw@=\\\\wd0 \\\\advance\\\\TriCDarrw@ 24pt\\n\\\\advance\\\\TriCDarrw@ -1em\\n%\\n\\\\def\\\\SE##1E##2E{\\\\slantedarrow(0,18)(2,-3){##1}{##2}&}\\n\\\\def\\\\SW##1W##2W{\\\\slantedarrow(12,18)(-2,-3){##1}{##2}&}\\n\\\\def\\\\NE##1E##2E{\\\\slantedarrow(0,0)(2,3){##1}{##2}&}\\n\\\\def\\\\NW##1W##2W{\\\\slantedarrow(12,0)(-2,3){##1}{##2}&}\\n%\\n\\\\def\\\\slantedarrow(##1)(##2)##3##4{\\\\thinlines\\\\unitlength1pt\\n\\\\lower 6.5pt\\\\hbox{\\\\begin{picture}(12,18)%\\n\\\\put(##1){\\\\vector(##2){12}}%\\n\\\\put(-4,\\\\TriCDpos@){$\\\\scriptstyle##3$}%\\n\\\\put(12,\\\\TriCDpos@){$\\\\scriptstyle##4$}%\\n\\\\end{picture}}}\\n%\\n\\\\def\\\\={\\\\mathrel {\\\\vbox{\\\\hrule\\n   width\\\\TriCDarrw@\\\\vskip3\\\\ex@\\\\hrule width\\n   \\\\TriCDarrw@}}}\\n%\\n\\\\def\\\\>##1>>{\\\\setbox\\\\z@\\\\hbox{$\\\\scriptstyle\\n \\\\;{##1}\\\\;\\\\;$}\\\\global\\\\bigaw@\\\\TriCDarrw@\\n \\\\ifdim\\\\wd\\\\z@>\\\\bigaw@\\\\global\\\\bigaw@\\\\wd\\\\z@\\\\fi\\n \\\\hskip.5em\\n \\\\mathrel{\\\\mathop{\\\\hbox to \\\\TriCDarrw@\\n{\\\\rightarrowfill}}\\\\limits^{##1}}\\n \\\\hskip.5em}\\n\\\\def\\\\<##1<<{\\\\setbox\\\\z@\\\\hbox{$\\\\scriptstyle\\n \\\\;{##1}\\\\;\\\\;$}\\\\global\\\\bigaw@\\\\TriCDarrw@\\n \\\\ifdim\\\\wd\\\\z@>\\\\bigaw@\\\\global\\\\bigaw@\\\\wd\\\\z@\\\\fi\\n %\\n \\\\mathrel{\\\\mathop{\\\\hbox to\\\\bigaw@{\\\\leftarrowfill}}\\\\limits^{##1}}\\n }\\n%\\n \\\\CD@true\\\\vcenter\\\\bgroup\\\\relax\\\\iffalse{\\\\fi\\\\let\\\\\\\\=\\\\cr\\\\iffalse}\\\\fi\\n \\\\tabskip\\\\z@skip\\\\baselineskip20\\\\ex@\\n \\\\lineskip3\\\\ex@\\\\lineskiplimit3\\\\ex@\\n%\\n \\\\ifTriV@\\n \\\\halign\\\\bgroup\\n &\\\\hfill$\\\\m@th##$\\\\hfill\\\\cr\\n%\\n#1&\\\\multispan3\\\\hfill$#2$\\\\hfill&#3\\\\\\\\\\n&#4&#5\\\\\\\\\\n&&#6\\\\cr\\\\egroup%\\n\\\\else\\n \\\\halign\\\\bgroup\\n &\\\\hfill$\\\\m@th##$\\\\hfill\\\\cr\\n%\\n&&#1\\\\\\\\%\\n&#2&#3\\\\\\\\\\n#4&\\\\multispan3\\\\hfill$#5$\\\\hfill&#6\\\\cr\\\\egroup\\n\\\\fi}\\n\\\\def\\\\@endTriCD{\\\\egroup}\\n%--------------------------------------------------------\\n%%%%% End of diagram macros.\\n\\\\newcommand{\\\\mc}{\\\\mathcal}\\n\\\\newcommand{\\\\mb}{\\\\mathbb}\\n\\\\newcommand{\\\\surj}{\\\\twoheadrightarrow}\\n\\\\newcommand{\\\\inj}{\\\\hookrightarrow}\\n\\\\newcommand{\\\\zar}{{\\\\rm zar}}\\n\\\\newcommand{\\\\an}{{\\\\rm an}} \\n\\\\newcommand{\\\\red}{{\\\\rm red}}\\n\\\\newcommand{\\\\codim}{{\\\\rm codim}}\\n\\\\newcommand{\\\\rank}{{\\\\rm rank}}\\n\\\\newcommand{\\\\Ker}{{\\\\rm Ker \\\\ }}\\n\\\\newcommand{\\\\Pic}{{\\\\rm Pic}}\\n\\\\newcommand{\\\\Div}{{\\\\rm Div}}\\n\\\\newcommand{\\\\Hom}{{\\\\rm Hom}}\\n\\\\newcommand{\\\\im}{{\\\\rm im}}\\n\\\\newcommand{\\\\Spec}{{\\\\rm Spec \\\\,}}\\n\\\\newcommand{\\\\Sing}{{\\\\rm Sing}}\\n\\\\newcommand{\\\\sing}{{\\\\rm sing}}\\n\\\\newcommand{\\\\reg}{{\\\\rm reg}}\\n\\\\newcommand{\\\\Char}{{\\\\rm char}}\\n\\\\newcommand{\\\\Tr}{{\\\\rm Tr}}\\n\\\\newcommand{\\\\Gal}{{\\\\rm Gal}}\\n\\\\newcommand{\\\\Min}{{\\\\rm Min \\\\ }}\\n\\\\newcommand{\\\\Max}{{\\\\rm Max \\\\ }}\\n\\\\newcommand{\\\\Alb}{{\\\\rm Alb}\\\\,}\\n\\\\newcommand{\\\\GL}{{\\\\rm GL}\\\\,}        % For the general linear group\\n\\\\newcommand{\\\\Ext}{{\\\\rm Ext}\\\\,}\\n\\\\newcommand{\\\\ie}{{\\\\it i.e.\\\\/},\\\\ }\\n\\\\newcommand{\\\\niso}{\\\\not\\\\cong}\\n\\\\newcommand{\\\\nin}{\\\\not\\\\in}\\n\\\\newcommand{\\\\soplus}[1]{\\\\stackrel{#1}{\\\\oplus}}\\n\\\\newcommand{\\\\by}[1]{\\\\stackrel{#1}{\\\\rightarrow}}\\n\\\\newcommand{\\\\longby}[1]{\\\\stackrel{#1}{\\\\longrightarrow}}\\n\\\\newcommand{\\\\vlongby}[1]{\\\\stackrel{#1}{\\\\mbox{\\\\large{$\\\\longrightarrow$}}}}\\n\\\\newcommand{\\\\ldownarrow}{\\\\mbox{\\\\Large{\\\\Large{$\\\\downarrow$}}}}\\n\\\\newcommand{\\\\lsearrow}{\\\\mbox{\\\\Large{$\\\\searrow$}}}\\n\\\\renewcommand{\\\\d}{\\\\stackrel{\\\\mbox{\\\\scriptsize{$\\\\bullet$}}}{}}\\n\\\\newcommand{\\\\dlog}{{\\\\rm dlog}\\\\,}    % For dlog\\n\\\\newcommand{\\\\longto}{\\\\longrightarrow}\\n\\\\newcommand{\\\\vlongto}{\\\\mbox{{\\\\Large{$\\\\longto$}}}}\\n\\\\newcommand{\\\\limdir}[1]{{\\\\displaystyle{\\\\mathop{\\\\rm lim}_{\\\\buildrel\\\\longrightarrow\\\\over{#1}}}}\\\\,}\\n\\\\newcommand{\\\\liminv}[1]{{\\\\displaystyle{\\\\mathop{\\\\rm lim}_{\\\\buildrel\\\\longleftarrow\\\\over{#1}}}}\\\\,}\\n\\\\newcommand{\\\\norm}[1]{\\\\mbox{$\\\\parallel{#1}\\\\parallel$}}\\n\\\\newcommand{\\\\boxtensor}{{\\\\Box\\\\kern-9.03pt\\\\raise1.42pt\\\\hbox{$\\\\times$}}}\\n\\\\newcommand{\\\\into}{\\\\hookrightarrow}\\n\\\\newcommand{\\\\image}{{\\\\rm image}\\\\,}\\n\\\\newcommand{\\\\Lie}{{\\\\rm Lie}\\\\,}      % For Lie algebra of groups\\n\\\\newcommand{\\\\CM}{\\\\rm CM}\\n\\\\newcommand{\\\\sext}{\\\\mbox{${\\\\mathcal E}xt\\\\,$}}  % For sheaf Ext\\n\\\\newcommand{\\\\shom}{\\\\mbox{${\\\\mathcal H}om\\\\,$}}  %For sheaf Hom\\n\\\\newcommand{\\\\coker}{{\\\\rm coker}\\\\,}  % For the cokernel of a morphism\\n\\\\newcommand{\\\\sm}{{\\\\rm sm}}\\n\\\\newcommand{\\\\tensor}{\\\\otimes}\\n\\\\renewcommand{\\\\iff}{\\\\mbox{ $\\\\Longleftrightarrow$ }}\\n\\\\newcommand{\\\\supp}{{\\\\rm supp}\\\\,}\\n\\\\newcommand{\\\\ext}[1]{\\\\stackrel{#1}{\\\\wedge}}\\n\\\\newcommand{\\\\onto}{\\\\mbox{$\\\\,\\\\>>>\\\\hspace{-.5cm}\\\\to\\\\hspace{.15cm}$}}\\n\\\\newcommand{\\\\propsubset}\\n{\\\\mbox{$\\\\textstyle{\\n\\\\subseteq_{\\\\kern-5pt\\\\raise-1pt\\\\hbox{\\\\mbox{\\\\tiny{$/$}}}}}$}}\\n\\\\newcommand{\\\\veq}{\\\\mbox{\\\\large $\\\\parallel$}}\\n% Skriptbuchstaben\\n\\\\newcommand{\\\\sA}{{\\\\mathcal A}}\\n\\\\newcommand{\\\\sB}{{\\\\mathcal B}}\\n%\\\\newcommand{\\\\sC}{{\\\\mathcal C}}\\n\\\\newcommand{\\\\sD}{{\\\\mathcal D}}\\n\\\\newcommand{\\\\sE}{{\\\\mathcal E}}\\n\\\\newcommand{\\\\sF}{{\\\\mathcal F}}\\n\\\\newcommand{\\\\sG}{{\\\\mathcal G}}\\n\\\\newcommand{\\\\sH}{{\\\\mathcal H}}\\n\\\\newcommand{\\\\sI}{{\\\\mathcal I}}\\n\\\\newcommand{\\\\sJ}{{\\\\mathcal J}}\\n\\\\newcommand{\\\\sK}{{\\\\mathcal K}}\\n\\\\newcommand{\\\\sL}{{\\\\mathcal L}}\\n\\\\newcommand{\\\\sM}{{\\\\mathcal M}}\\n\\\\newcommand{\\\\sN}{{\\\\mathcal N}}\\n\\\\newcommand{\\\\sO}{{\\\\mathcal O}}\\n%\\\\newcommand{\\\\sP}{{\\\\mathcal P}}\\n\\\\newcommand{\\\\sQ}{{\\\\mathcal Q}}\\n\\\\newcommand{\\\\sR}{{\\\\mathcal R}}\\n\\\\newcommand{\\\\sS}{{\\\\mathcal S}}\\n\\\\newcommand{\\\\sT}{{\\\\mathcal T}}\\n\\\\newcommand{\\\\sU}{{\\\\mathcal U}}\\n\\\\newcommand{\\\\sV}{{\\\\mathcal V}}\\n\\\\newcommand{\\\\sW}{{\\\\mathcal W}}\\n\\\\newcommand{\\\\sX}{{\\\\mathcal X}}\\n\\\\newcommand{\\\\sY}{{\\\\mathcal Y}}\\n%\\\\newcommand{\\\\sZ}{{\\\\mathcal Z}}\\n\\n\\\\newcommand{\\\\cal}{\\\\mathcal}\\n\\\\newcommand{\\\\cA}{\\\\sA}\\n\\\\newcommand{\\\\cC}{{\\\\mathcal C}}\\n\\\\newcommand{\\\\cF}{\\\\sF}\\n\\\\newcommand{\\\\cG}{\\\\sG}\\n\\\\newcommand{\\\\ccH}{\\\\sH}\\n\\\\newcommand{\\\\cHH}{\\\\sH}\\n\\\\newcommand{\\\\cI}{\\\\sI}\\n\\\\newcommand{\\\\ccL}{\\\\sL}\\n\\\\newcommand{\\\\cO}{\\\\sO}\\n\\\\newcommand{\\\\cV}{\\\\sV}\\n\\\\newcommand{\\\\cM}{\\\\sM}\\n\\n% Sonderbuchstaben mit Doppellinie\\n\\\\newcommand{\\\\A}{{\\\\mathbb A}}\\n\\\\newcommand{\\\\B}{{\\\\mathbb B}}\\n\\\\newcommand{\\\\C}{{\\\\mathbb C}}\\n\\\\newcommand{\\\\D}{{\\\\mathbb D}}\\n\\\\newcommand{\\\\E}{{\\\\mathbb E}}\\n\\\\newcommand{\\\\F}{{\\\\mathbb F}}\\n\\\\newcommand{\\\\G}{{\\\\mathbb G}}\\n\\\\newcommand{\\\\HH}{{\\\\mathbb H}}\\n%\\\\newcommand{\\\\I}{{\\\\mathbb I}}\\n\\\\newcommand{\\\\J}{{\\\\mathbb J}}\\n\\\\newcommand{\\\\M}{{\\\\mathbb M}}\\n\\\\newcommand{\\\\N}{{\\\\mathbb N}}\\n\\\\renewcommand{\\\\P}{{\\\\mathbb P}}\\n\\\\newcommand{\\\\Q}{{\\\\mathbb Q}}\\n\\\\newcommand{\\\\R}{{\\\\mathbb R}}\\n\\\\newcommand{\\\\T}{{\\\\mathbb T}}\\n\\\\newcommand{\\\\U}{{\\\\mathbb U}}\\n\\\\newcommand{\\\\V}{{\\\\mathbb V}}\\n\\\\newcommand{\\\\W}{{\\\\mathbb W}}\\n\\\\newcommand{\\\\X}{{\\\\mathbb X}}\\n\\\\newcommand{\\\\Y}{{\\\\mathbb Y}}\\n\\\\newcommand{\\\\Z}{{\\\\mathbb Z}}\\n%%%\\n\\\\newcommand{\\\\sC}{\\\\C}\\n\\\\newcommand{\\\\sP}{\\\\P}\\n\\\\newcommand{\\\\sZ}{\\\\Z}\\n%%%%%%%%%%%%%%%%%%%%%%%%%%%%%%%%%%%%%%%%%%%%%%%%%%%%%%%%%%%%%%\\n%%%%%%%%%%%%%%%%%%%%%%%%%%%%%%%%%%%%%%%%%%%%%%%%%%%%%%%%%%%%%%\\n\\\\title[A Lefschetz (1,1) Theorem]  \\n{A Lefschetz (1,1)-Theorem for normal projective complex varieties}  \\n\\\\author{J. Biswas} \\n\\\\address{Institute of Mathematical Sciences, Taramani, Chennai-600 113,\\nIndia}\\n\\\\email{jishnu@imsc.ernet.in}\\n\\\\author{V. Srinivas} \\n\\\\address{School of Mathematics, TIFR,\\nHomi Bhabha Road, Bombay-400005, India}\\n\\\\email{srinivas@math.tifr.res.in}\\n\\\\date{}\\n\\\\maketitle\\n\\n%\\\\input{intro}\\n\\\\section{Introduction}\\n\\nLet $X$ be a projective variety over $\\\\C.$ Let $X_{an}$ be the\\nanalytic space associated to $X.$ Let $c_1 : Pic(X) \\\\to H^{2}(X_{an},\\n\\\\Z)$ be the map which associates to a line bundle (or equivalently\\na Cartier divisor) on $X$ its cohomology class. We may identify the\\nN\\\\\\'eron-Severi group $NS(X)$ with the image of $Pic(X)$ in\\n$H^{2}(X_{an},\\\\Z)$ under the above map. \\n\\nIf $X$ is smooth, then by the Hodge decomposition theorem, we know that \\n$$H^{2}(X_{an}, \\\\C) = H^{2,0}(X_{an}) \\\\oplus H^{1,1}(X_{an}) \\\\oplus\\nH^{0,2}(X_{an}).$$ \\nLet $F^{1}H^{2}(X_{an},\\\\C) = H^{2,0}(X_{an}) \\\\oplus H^{1,1}(X_{an}).$  \\nThe {\\\\em Lefschetz theorem on $(1,1)$ classes} ([GH], [L]) states that if\\n$X$ is a smooth, projective variety, then \\n$$NS(X) = \\\\{\\\\alpha \\\\in H^{2}(X_{an},\\\\Z) | \\\\alpha_{\\\\sC} \\\\in\\nF^{1}H^{2}(X_{an},\\\\C)\\\\}.$$ \\n\\nIf $X$ is an arbitrary singular variety then by [D],~Theorem~8.2.2 the  \\ncohomology groups of $X$ with $\\\\Z$-coefficients carry mixed Hodge\\nstructures. Hence it makes sense to talk of $F^{1}H^{2}(X_{an},\\\\C)$ for\\nsuch a variety $X$. Spencer Bloch, in a letter to Jannsen [J, appendix A],\\nasks whether the  ``obvious\\'\\' extension of the Lefschetz $(1,1)$ \\ntheorem is true for singular projective varieties, i.e., is it true that\\n$$NS(X) = \\\\{ \\\\alpha \\\\in H^{2}(X_{an}, \\\\Z) | \\\\alpha_{\\\\sC} \\\\in\\nF^{1}H^{2}(X_{an},\\\\C)\\\\} ?$$\\n\\nBarbieri-Viale and Srinivas [BS1] gave a counterexample to this question.\\nLet $X$ be a surface defined by the homogenous equation $w(x^3 - y^2z) +\\nf(x,y,z) = 0$ in $\\\\P^3_{\\\\sC},$ where $x,y,z,w$ are homogenous coordinates\\nin $\\\\P^{3}_{\\\\sC}$ and $f$ is a ``general\\'\\' homogenous polynomial over $\\\\C$\\nof degree $4.$ They showed that for such an $X$, \\n\\\\[NS(X)\\\\propsubset\\\\{\\\\alpha \\\\in H^{2}(X_{an},\\\\Z) |\\n\\\\alpha_{\\\\sC} \\\\in F^{1}H^{2}(X_{an}, \\\\C)\\\\}.\\\\] \\nIn the same paper [BS1] the authors ask the following question.\\nLet $X$ be a complete variety over $\\\\C$. Let $H^{1}(X, {\\\\cal H}^{1}_{X})$\\nbe the subgroup of $H^{2}(X_{an},\\\\Z)$  consisting of Zariski-locally\\ntrivial cohomology classes, i.e., $\\\\eta \\\\in H^{2}(X_{an},\\\\Z)$ lies in\\n$H^{1}(X,{\\\\cal H}^{1}_{X})$ if and only if there exists a finite open\\ncover $\\\\{U_{i}\\\\}$ of $X$ by Zariski open sets such that $\\\\eta \\\\mapsto 0$\\nunder the restriction maps $H^{2}(X_{an}, \\\\Z) \\\\to H^{2}((U_i)_{an}, \\\\Z)$\\nfor all $i$. Is\\n$$NS(X) = \\\\{\\\\alpha \\\\in H^{1}(X,{\\\\cal H}_{X}^{1}) | \\\\alpha_{\\\\sC} \\\\in\\nF^{1}H^{2}(X_{an},\\\\C)\\\\} ?$$ \\n\\nWe remark that for a smooth, projective variety $X$, if a cohomology class\\n$\\\\eta \\\\in H^{2}(X_{an},\\\\Z)$ is zero when restricted to a nonempty Zariski\\nopen set $U \\\\subset X,$ then $\\\\eta$ is the class of a divisor. So\\n$H^{1}(X,{\\\\cal H}^{1}_{X}) = NS(X)$ and the above question has a positive\\nanswer for a smooth, projective variety $X$. For any\\nprojective variety $X$, there is an inclusion $NS(X)\\\\subset H^{1}(X,{\\\\cal\\nH}_{X}^{1})$;  Barbieri-Viale and Srinivas also give an example in [BS1]\\nof a singular variety for which this inclusion is strict. \\n\\nIn general, for any projective variety $X$ over $\\\\C,$\\n$$NS(X) \\\\subset \\\\{\\\\alpha \\\\in H^{1}(X,{\\\\cal H}^{1}_{X}) | \\\\alpha_{\\\\sC}\\n\\\\in F^1 H^2 (X_{an},\\\\C)\\\\}.$$ \\nThis follows from the inclusion $NS(X)\\\\subset H^{1}(X,{\\\\cal\\nH}_{X}^{1})$, combined with \\n$$Ker(H^{2}(X_{an},\\\\C) \\\\to H^{2}(X_{an}, {\\\\cal O}_{X_{an}})) \\\\subset F^1\\nH^2 (X_{an},\\\\C),$$ \\nwhich is a consequence of results of Du Bois [DB] (and is also implicit\\nin [D]). When $X$ is normal, we prove the reverse inclusion, thereby\\nanswering the question in the affirmative, for the normal case.\\nThe statement of our Main Theorem is\\n\\\\begin{thm}\\\\label{(1,1)} Let $X$ be a normal, projective variety over\\n$\\\\C.$ Then\\n$$NS(X) = \\\\{ \\\\alpha \\\\in H^{1}(X, {\\\\cal H}^{1}_{X}) | \\\\alpha_{\\\\sC} \\\\in F^1\\nH^2 (X_{an},\\\\C)\\\\}.$$\\n\\\\end{thm}\\nWe also describe a counterexample, of a non-normal irreducible projective\\n3-fold with smooth normalization (isomorphic to\\n$\\\\P^1\\\\times\\\\P^1\\\\times\\\\P^1$) for which the question has a {\\\\em negative}\\nanswer. However, it seems likely that the conclusion of the Theorem holds\\nfor any {\\\\it semi-normal} projective variety $X$ over $\\\\C$. \\n\\nOur proof of Theorem~\\\\ref{(1,1)} is in two steps: first we show that \\n$H^{1}(X, {\\\\cal H}^{1}_{X})\\\\subset H^2(X_{an},\\\\Z)$ is a sub-MHS of\\nlevel~1; hence by [D], it determines a 1-motive, which we show to be \\nan extension of a direct sum of Tate structures $\\\\Z(-1)$\\nby that of ($H^1$ of) an abelian variety. In the second part of the proof,\\nwe give a direct construction of a certain 1-motive, using the Zariski\\ntopology on $X$, and show that it is isogenous to the earlier one. The\\nTheorem will be an immediate corollary.\\n\\nIn a future work, we hope to use the second, algebraically defined\\n1-motive to also obtain the analogue of the Tate conjecture in our\\nsituation, which would similarly characterize the $\\\\Z_{\\\\ell}$-span of the \\nclasses of Cartier divisors in $H^2_{\\\\rm et\\\\/}(X_{\\\\bar{K}},\\\\Z_{\\\\ell}(1))$,\\nfor a normal projective variety $X$ over a number field $K$.\\n\\nIn another direction, our result suggests a question analogous to the\\nHodge conjecture. Let $X$ be a normal projective variety over $\\\\C$, and\\n$\\\\alpha:X_{an}\\\\to X$ be the obvious continuous map, leading to a Leray\\nspectral sequence \\n\\\\[E_2^{p,q}=H^p(X,R^q\\\\alpha_*\\\\Q_{X_{an}})\\\\implies H^{p+q}(X_{an},\\\\Q),\\\\]\\nwith an induced decreasing {\\\\em Leray filtration}\\n$\\\\{L^pH^n(X_{an},\\\\Q)\\\\}_{p\\\\geq 0}$ on each cohomology group\\n$H^n(X_{an},\\\\Q)$. Let \\n\\\\[{\\\\rm Hg}^p(X)=L^pH^{2p}(X_{an},\\\\Q)\\\\cap F^pH^{2p}(X_{an},\\\\C).\\\\]\\nIs ${\\\\rm Hg}^p(X)$ the image of the $p$-th Chern class\\nmap $c_p:K_0(X)\\\\tensor\\\\Q\\\\to H^{2p}(X,\\\\Q)$? Note that this does not hold\\nwithout some hypothesis like (at least) normality; for example, Bloch\\'s\\nletter to Jannsen [J,Appendix A] gives a counterexample. On the other\\nhand, results of Collino [Co] imply it when $X$ has a unique singular\\npoint. Note also that, unlike the standard Hodge conjecture, the positive\\nanswer (our Theorem above) for divisors does not automatically imply a\\npositive answer for the case of 1-cycles, since we do not have Poincar\\\\\\'e\\nduality. \\n\\nThis work formed part of the first author\\'s Ph.D. thesis, written at\\nthe Tata Institute of Fundamental Research, Mumbai, submitted to the\\nMumbai University in March, 1997.\\n\\n%\\\\input{lef3}\\n\\n\\\\section{Some preliminaries}\\n\\\\subsection{Constructible sheaves}\\nWe will need below some technical results on constructible sheaves on\\ncomplex algebraic varieties. We begin by recalling the appropriate\\ndefinitions, the first from [V] and the second from [BS2].  \\n\\n\\\\begin{defn} Let $X$ be a complex algebraic variety. We say that a sheaf\\n${\\\\cal F}$ of abelian groups on the analytic space $X_{an}$ is\\n(algebraically) {\\\\em $\\\\Z$-constructible} if there is a finite\\ndecomposition $X=\\\\cup_{i\\\\in I} X_i$, where each $X_i$ is irreducible and\\nZariski closed in $X$, such that if $U_i = X_i - \\\\cup_{X_j \\\\propsubset\\nX_i}X_{j}$, then each $U_i$ is non-singular, $X$ is the disjoint union of\\nthe $U_{i}$, and ${\\\\cal F}|_{(U_i)_{an}}$ is a locally constant sheaf\\nwhose fibre is a finitely generated group. We call any such collection of\\nsubsets $\\\\{X_i\\\\}_{i\\\\in I}$ an {\\\\em admissible family} of subsets for\\n$\\\\cF$.  \\\\end{defn}\\n\\n\\\\begin{defn} A sheaf ${\\\\cal G}$ on a scheme $X$ (over an algebraically\\nclosed field $k$, say) is said to be {\\\\em $\\\\Z$-constructible for the\\nZariski topology} if we can express $X$ as a finite union $X=\\\\cup X_i$,\\nwhere $X_i \\\\subset X$ are Zariski closed, such that if $U_{i}= X_{i} -\\n\\\\cup_{X_j \\\\propsubset X_i} X_{j}$, then each $U_i$ is non-singular, $X$ is\\nthe disjoint union of the $U_{i}$, and ${\\\\cal G}|_{U_i}$ is a {\\\\em\\nconstant sheaf} associated to a finitely generated abelian group. We call\\nany such collection of subsets $\\\\{X_i\\\\}_{i\\\\in I}$ an {\\\\em admissible\\nfamily} for $\\\\cG$. \\n\\\\end{defn}\\n\\n\\\\begin{rmk}\\nWe note that in the cited works, it is not required that the ``open\\nstrata\\'\\' $U_i$ are non-singular, but this may clearly be assumed as well\\nwithout loss of generality, by refining any given stratification which has\\nall the remaining properties.\\n\\\\end{rmk}\\n\\nNote that if $\\\\{X_i\\\\}_{i\\\\in I}$ is an admissible family of subsets for a\\n$\\\\Z$-constructible sheaf in either of the senses above, then there is a\\nnatural partial order on the index set $I$ given by $j\\\\leq i\\\\iff X_j\\\\subset\\nX_i$. Then we clearly have $U_i=X_i-\\\\cup_{j<i}X_j$. Note that $U_i=X_i$\\nprecisely when $i$ is a minimal element of $I$ with respect to the partial\\norder. \\n\\nWe recall the following basic result from [V], which is made use of\\nbelow. \\n\\\\begin{thm}\\\\label{Verdier} If $f:Y \\\\to X$ is a\\nmorphism of $\\\\C$-varieties and ${\\\\cal F}$ is a $\\\\Z$-constructible sheaf\\non $Y_{an},$ then $R^{i}f_{*}{\\\\cal F}$ is a $\\\\Z$-constructible sheaf on\\n$X_{an}$.\\n\\\\end{thm}\\n\\nWe also need a certain general sheaf-theoretic result, which is presumably\\nwell-known, but for which we do not know a reference.  Let $X$ be a\\ntopological space, $\\\\{U_i\\\\}_{i\\\\in I}$ any finite collection of locally\\nclosed subsets of $X$ which stratify $X$ (\\\\ie $X$ is the disjoint union of\\nthe $U_i$, and for each $i$, the closure $X_i:=\\\\bar{U_i}$ is again a union\\nof some $U_j$). Let $\\\\leq $ denote the obvious partial order on $I$,\\ngiven by $i\\\\leq j$ \\\\iff $X_i\\\\subset X_j$. \\n\\nLet $f_i:U_i\\\\to X$ be the inclusion. If $\\\\cF$ is a sheaf of abelian groups\\non $X$, and $\\\\{i_0\\\\leq i_1\\\\leq\\\\cdots\\\\leq i_p\\\\}$ is a $p$-chain in $I$, let\\n\\\\[\\\\cF_{i_0i_1\\\\cdots \\ni_p}:=(f_{i_0})_*f_{i_0}^{-1}(f_{i_1})_*f_{i_1}^{-1}\\\\cdots\\n(f_{i_p})_*f_{i_p}^{-1}\\\\cF.\\\\]\\nNote that the sheaves $\\\\cF_{i_0\\\\cdots i_p}$ define a cosimplicial sheaf on\\nthe simplicial space $X\\\\times N(I)$, where $N(I)$ denotes the nerve of $I$\\n(regarded as a discrete simplicial space). The augmentation $X\\\\times\\nN(I)\\\\to X$ gives rise to a complex of sheaves on $X$\\n\\\\[0\\\\to \\\\cF\\\\to \\\\bigoplus_{i\\\\in I}\\\\cF_i\\\\to\\\\bigoplus_{\\\\{i_0\\\\leq\\ni_1\\\\}\\\\in N_1(I)}\\\\cF_{i_0i_1}\\\\to\\\\cdots\\\\to \\\\bigoplus_{\\\\{i_0\\\\leq\\\\cdots\\\\leq\\ni_p\\\\}\\\\in N_p(I)}\\\\cF_{i_0\\\\cdots i_p}\\\\to\\\\cdots\\\\hspace{1cm}\\\\cdots\\\\;\\\\;(*)\\\\]\\n\\n\\\\begin{lemma}\\\\label{resol}\\nThe above complex $(*)$ is a resolution of $\\\\cF$.\\n\\\\end{lemma}\\n\\\\begin{proof}\\nIf $x\\\\in U_i$, then taking the stalks at $x$, we have an associated\\ncosimplicial abelian group $(\\\\cF_{i_0i_1\\\\cdots i_p})_x$, and\\na  corresponding augmented complex. Clearly $(\\\\cF_{i_0i_1\\\\cdots i_p})_x=0$\\nunless $i\\\\leq i_0$. Since the partially ordered subset $(I\\\\geq i)=\\\\{j\\\\in\\nI\\\\mid i\\\\leq j\\\\}$ has a minimal element, one sees easily that\\nthe stalk complex at $x$ is contractible (note that if $x\\\\in U_i$, and\\n$\\\\sigma=\\\\{i_0\\\\leq\\\\cdots\\\\leq i_p\\\\}$ is a $p$-simplex in the nerve of\\n$(I\\\\geq\\ni$), the stalks at $x$ of $\\\\cF_{i_0\\\\cdots i_p}$ and $\\\\cF_{ii_0\\\\cdots\\ni_p}$ are naturally isomorphic, where $\\\\{i\\\\leq i_0\\\\leq\\\\cdots\\\\leq i_p\\\\}$\\nis the cone over $\\\\sigma$ with vertex $i$).  \\n\\\\end{proof}\\n\\\\begin{rmk}\\nIn case $\\\\cF$ is  $\\\\Z$-constructible for the Zariski\\ntopology on a scheme $X$, and $\\\\{X_i\\\\}$ is an admissible family for $\\\\cF$,\\nsuch that $\\\\cF\\\\mid_{U_i}$ is the constant sheaf associated to $A_i$, then\\n$\\\\cF_{i_0i_1\\\\cdots i_p}$ is just the constant sheaf $(A_{i_p})_{X_{i_0}}$. \\nIn particular, for a $\\\\Z$-constructible sheaf in the Zariski topology, we\\nobtain a {\\\\em flasque resolution}.\\n\\\\end{rmk}\\n\\nThe key technical result of this section is the following.\\n\\\\begin{lemma}\\\\label{const1}\\nLet $\\\\cA=A_{X_{an}}$ be a constant sheaf on a complex algebraic variety $X$,\\nand let $\\\\cG$ be a $\\\\Z$-constructible sheaf on $X_{an}$. Let $f:\\\\cA\\\\to\\n\\\\cG$ be a sheaf homomorphism, and take $\\\\cF={\\\\rm image}\\\\, f$. Let\\n$a:X_{an}\\\\to X$ be the natural continuous map from the analytic space\\n$X_{an}$ to $X$, which is the identity on points. Then we have the\\nfollowing. \\n\\\\begin{points}\\n\\\\item $a_*\\\\cF$ is a constructible sheaf on $X$ for the Zariski topology.\\n\\\\item The natural map $a^{-1}a_*\\\\cF\\\\to\\\\cF$ is an isomorphism, and the\\nnatural map $a_*\\\\cA\\\\to a_*\\\\cF$ is surjective, \\\\ie $a_*\\\\cF$ is a quotient\\nof the constant sheaf on $X$ associated to the abelian group $A$. \\n\\\\item Let $\\\\{X_i\\\\}_{i\\\\in I}$ be an admissible family of subsets for $\\\\cG$.\\nThen it is also admissible for $\\\\cF$, and for $a_*\\\\cF$. \\nThere is an exact sequence \\n\\\\[0\\\\to H^0(X_{an},\\\\cF)\\\\to \\\\bigoplus_{i\\\\in\\nI}H^0((U_i)_{an},\\\\cF\\\\mid_{(U_i)_{an}})\\\\to\\n\\\\bigoplus_{\\\\begin{array}{c}i\\\\leq j\\\\\\\\\\ni,j\\\\in I\\\\end{array}}H^0((U_{j})_{an},\\\\cF\\\\mid_{(U_{j})_{an}})\\n\\\\]  \\n\\\\end{points}\\n\\\\end{lemma}\\n\\\\begin{proof} We first claim that if $U\\\\subset X$ is an irreducible\\n(Zariski) locally closed subset such that $\\\\cG\\\\mid_{U_{an}}$ is locally\\nfree, then $\\\\cF\\\\mid_{U_{an}}$ is a constant sheaf associated to a finitely\\ngenerated abelian group, which is a quotient of $A$. Indeed,\\n$\\\\cG\\\\mid_{U_{an}}$ corresponds to a representation of the fundamental\\ngroup of $U_{an}$ (with respect to any convenient base point), while\\n$A_{U_{an}}$ corresponds to the trivial representation. The sheaf map\\n$f\\\\mid_{U_{an}}$ is then a morphism of local systems, whose image\\n$\\\\cF\\\\mid_{U_{an}}$ is clearly a trivial (\\\\ie constant) local subsystem of \\n$\\\\cG\\\\mid_{U_{an}}$.\\n\\nNow let $\\\\{X_i\\\\}_{i\\\\in I}$ be admissible for $\\\\cG$. As observed above,\\n$\\\\cF\\\\mid_{(U_i)_{an}}$ is constant for each $i$, and so $\\\\{X_i\\\\}_{i\\\\in I}$\\nis also admissible for $\\\\cF$. From lemma~2 of [BS2], it follows that\\n$a_*\\\\cF$ is $\\\\Z$-constructible for the Zariski topology.\\n\\n>From the beginning of the exact sequence $(*)$ of lemma~\\\\ref{resol} (for\\n$\\\\cF$ on $X_{an}$) we have inclusions\\n\\\\[\\\\cF\\\\into\\\\bigoplus_{i\\\\in I}\\\\cF_i,\\\\;\\\\;a_*\\\\cF\\\\into\\\\bigoplus_{i\\\\in\\nI}a_*\\\\cF_i,\\\\;\\\\;a^{-1}a_*\\\\cF\\\\into\\\\bigoplus_{i\\\\in I}a^{-1}a_*\\\\cF_i. \\\\]\\nWe see at once from the definitions that $a_*\\\\cF_i$ is (the direct\\nimage on $X$ of) a constant sheaf on $X_i$, for\\neach $i$, and the natural sheaf map $a^{-1}a_*\\\\cF_i\\\\to\\\\cF_i$ is injective.\\nSince $\\\\cA$ is a constant sheaf, we also have that $a^{-1}a_*\\\\cA\\\\to \\\\cA$\\nis an isomorphism. Now from the commutative diagram\\n\\\\[\\\\diagram \\na^{-1}a_*\\\\cA \\\\dto_{\\\\cong}\\\\rto & a^{-1}a_*\\\\cF \\\\rto|<<\\\\ahook \\\\dto|<<\\\\ahook\\n& \\\\bigoplus_{i\\\\in I} a^{-1}a_*\\\\cF_i \\\\dto|<<\\\\ahook \\\\\\\\\\n\\\\cA\\\\rto|>>\\\\tip & \\\\cF \\\\rto|<<\\\\ahook & \\\\bigoplus_{i\\\\in I}\\\\cF_i\\n\\\\enddiagram\\n\\\\]\\nwe deduce that $a^{-1}a_*\\\\cF\\\\to \\\\cF$ is an isomorphism, and that the\\nnatural map $a^{-1}a_*\\\\cA\\\\to a^{-1}a_*\\\\cF$ is surjective. This implies\\nthat $a_*\\\\cA\\\\to a_*\\\\cF$ is surjective as well, and that $\\\\{X_i\\\\}$ is \\nadmissible for $a_*\\\\cF$. The exact sequence in (iii) of the lemma is \\nobtained from the resolution of lemma~\\\\ref{resol} for $a_*\\\\cF$.\\n\\\\end{proof}\\n\\n\\\\subsection{A homological lemma}\\n\\nWe prove here an abstract homological lemma (lemma~\\\\ref{[PS]}) which is a\\nvariant of a lemma in [PS], which we will need later. The lemma is\\nformulated and proved with abelian groups, but a similar argument yields\\nit in an arbitrary abelian category. \\nSuppose we have the following $9$-diagram, in the category\\nof complexes of abelian groups, with exact rows and columns. \\n$$\\\\diagram & 0 \\\\dto & 0 \\\\dto & 0 \\\\dto \\\\\\\\\\n0 \\\\rto & C_{11}^{\\\\d} \\\\rto \\\\dto & C_{12}^{\\\\d} \\\\rto \\n\\\\dto & C_{13}^{\\\\d} \\\\rto \\\\dto & 0 \\\\\\\\\\n0 \\\\rto & C_{21}^{\\\\d} \\\\rto \\\\dto & C_{22}^{\\\\d} \\\\rto\\n\\\\dto & C_{23}^{\\\\d} \\\\rto \\\\dto & 0 \\\\\\\\    \\n0 \\\\rto & C_{31}^{\\\\d} \\\\rto \\\\dto & C_{32}^{\\\\d} \\\\rto \\\\dto &\\nC_{33}^{\\\\d} \\\\rto \\\\dto & 0 \\\\\\\\\\n& 0 & 0 & 0 \\\\enddiagram$$    \\n\\nApplying the cohomology functor we get an infinite double sequence with\\nexact rows and columns as shown below:\\n\\n$$\\\\diagram H^{i-2}(C_{22}^{\\\\d}) \\\\rto \\\\dto & H^{i-2}(C_{23}^{\\\\d})\\n\\\\rto\\n\\\\dto & H^{i-1}(C_{21}^{\\\\d}) \\\\rto \\\\dto & H^{i-1}(C_{22}^{\\\\d}) \\\\rto\\n\\\\dto & H^{i-1}(C_{23}^{\\\\d}) \\\\dto \\\\rto &  \\\\\\\\ \\nH^{i-2}(C_{32}^{\\\\d}) \\\\rto \\\\dto & H^{i-2}(C_{33}^{\\\\d}) \\\\rto\\n\\\\dto & H^{i-1}(C_{31}^{\\\\d}) \\\\rto \\\\dto & H^{i-1}(C_{32}^{\\\\d}) \\\\rto \\n\\\\dto & H^{i-1}(C_{33}^{\\\\d}) \\\\dto \\\\rto & \\\\\\\\ \\nH^{i-1}(C_{12}^{\\\\d}) \\\\rto \\\\dto & H^{i-1}(C_{13}^{\\\\d}) \\\\rto\\n\\\\dto & H^{i}(C_{11}^{\\\\d}) \\\\rto \\\\dto & H^{i}(C_{12}^{\\\\d}) \\\\rto \\\\dto &\\nH^{i}(C_{13}^{\\\\d}) \\\\dto \\\\rto & \\\\\\\\  \\nH^{i-1}(C_{22}^{\\\\d}) \\\\rto \\\\dto & H^{i-1}(C_{23}^{\\\\d}) \\\\rto\\n\\\\dto & H^{i}(C_{21}^{\\\\d}) \\\\rto \\\\dto & H^{i}(C_{22}^{\\\\d}) \\\\rto \\\\dto &\\nH^{i}(C_{23}^{\\\\d}) \\\\dto \\\\rto & \\\\\\\\  \\nH^{i-1}(C_{32}^{\\\\d}) \\\\dto \\\\rto & H^{i-1}(C_{33}^{\\\\d})  \\n\\\\dto \\\\rto & H^{i}(C_{31}^{\\\\d}) \\\\dto \\\\rto & H^{i}(C_{32}^{\\\\d}) \\\\dto\\n\\\\rto & H^{i}(C_{33}^{\\\\d}) \\\\rto \\\\dto & \\\\\\\\\\n& & & & \\\\enddiagram$$\\n\\nSuppose now that we have an element $\\\\alpha \\\\in H^{i}(C^{\\\\d}_{rs})$ \\n(say for example $\\\\alpha \\\\in H^{i}(C^{\\\\d}_{22})$ in the above\\ndiagram) such that $\\\\alpha \\\\mapsto 0$ under both the maps with domain\\n$H^i(C^{\\\\d}_{rs})$. We can then do a diagram chase in the above\\ncohomology diagram in the following way. Suppose $\\\\alpha\\\\in\\nH^{i}(C^{\\\\d}_{22})$; arbitrarily choose lifts\\n$\\\\beta_{1} \\\\in H^{i}(C^{\\\\d}_{21})$ and\\n$\\\\beta_{2} \\\\in H^{i}(C^{\\\\d}_{12})$ lifting $\\\\alpha.$ \\nLet $\\\\beta_{1} \\\\mapsto \\\\gamma_{1} \\\\in H^{i}(C^{\\\\d}_{31})$ and let\\n$\\\\beta_{2} \\\\mapsto \\\\gamma_{2} \\\\in H^{i}(C^{\\\\d}_{13}).$ Then since \\n$\\\\gamma_{1} \\\\mapsto 0 \\\\in H^{i}(C^{\\\\d}_{32})$ and $\\\\gamma_{2}\\n\\\\mapsto 0 \\\\in H^{i}(C^{\\\\d}_{23})$, there exist $\\\\delta_{1}$ and\\n$\\\\delta_{2}$, both in $H^{i-1}(C^{\\\\d}_{33})$, lifting\\n$\\\\gamma_{1}$ and $\\\\gamma_{2}$ respectively. \\n\\nWe can do a similar diagram chase beginning with an element $\\\\alpha\\\\in\\nH^i(C^{\\\\d}_{rs})$, for arbitrary $i,r,s$, and end up with two elements\\n$\\\\delta_1,\\\\delta_2$ in the same group $H^j(C^{\\\\d}_{r+1\\\\;s+1})$, where we\\nread the subscripts modulo 3, and $j$ is either $i-1$, $i$ or $i+1$,\\ndepending on $(r,s)$ (we end up at  the two places  in the diagram which \\nhave the same entry, and are each 1 `knight\\'s move\\' away from the starting point). \\n\\nLet $\\\\bar{H^j}(C^{\\\\d}_{r+1\\\\;s+1})$ denote the quotient of\\n$H^j(C^{\\\\d}_{r+1\\\\;s+1})$ by the subgroup generated by the images of the\\ntwo maps in the large commutative cohomology diagram with range\\n$H^j(C^{\\\\d}_{r+1\\\\;s+1})$. For example, \\n\\\\[\\\\bar{H^{i-1}}(C^{\\\\d}_{3,3})=\\\\frac{H^{i-1}(C^{\\\\d}_{33})}{{\\\\rm \\nimage}\\\\,H^{i-1}(C^{\\\\d}_{23})+{\\\\rm image}\\\\,H^{i-1}(C^{\\\\d}_{32})}.\\\\]\\n\\n\\\\begin{lemma} \\\\label{[PS]} With the notation as above, we have \\n$$(\\\\delta_{1} - \\\\delta_{2})\\\\mapsto 0 \\\\in \\\\bar{H^{j}}(C^{\\\\d}_{r+1\\\\;s+1}).$$\\n\\\\end{lemma}\\n\\\\begin{proof} We first note that, by an argument with mapping cones and\\ncylinders (rotating the distinguished triangles in the 9-diagram), we may\\nassume that $\\\\alpha \\\\in H^{i}(C^{\\\\d}_{22})$ without loss\\nof generality. For such an $\\\\alpha$ the analogous result  for the\\ncohomology diagram arising from a 9-diagram in the category of sheaves\\nhas been proved by Parimala and Srinivas [PS, Sec 3]. The proof of this\\nlemma is entirely analogous: regarding the given 9-diagram as a (bounded)\\ndouble complex of complexes, one considers the total complex, which is a\\n5-term exact sequence of complexes, say\\n\\\\[0\\\\to \\\\cC_0\\\\to\\\\cC_1\\\\to\\\\cC_2\\\\to\\\\cC_3\\\\to\\\\cC_4\\\\to 0.\\\\]\\nRegarding this again as a double complex, there is a spectral sequence\\n\\\\[E_1^{r,s}=H^s(\\\\cC_r)\\\\implies H^{r+s}(Tot(\\\\cC_{\\\\d}))\\\\]\\n(the limit is in fact 0). Then the conclusion of the lemma is\\ninterpreted as giving two (equivalent) ways of computing the differential\\n$E_2^{2,i}\\\\to E_2^{4,i-1}$.\\n\\\\end{proof}\\n\\n\\\\begin{rmk} An analogue of lemma~\\\\ref{[PS]} can be formulated for a\\n9-diagram in the derived category of abelian groups\\n$$\\\\diagram \\n C_{11} \\\\rto \\\\dto & C_{12} \\\\rto \\n\\\\dto & C_{13} \\\\rto \\\\dto & C_{11}[1]\\\\dto \\\\\\\\\\n C_{21} \\\\rto \\\\dto & C_{22} \\\\rto\\n\\\\dto & C_{23} \\\\rto \\\\dto & C_{21}[1] \\\\dto\\\\\\\\    \\nC_{31} \\\\rto \\\\dto & C_{32} \\\\rto \\\\dto &\\nC_{33} \\\\rto \\\\dto & C_{31}[1]\\\\dto \\\\\\\\\\nC_{11}[1]\\\\rto& C_{12}[1]\\\\rto & C_{13}[1]\\\\rto & C_{11}[2] \\\\enddiagram$$    \\nwhere the rows and columns are distinguished triangles, and where the\\ncohomology diagram considered earlier is replaced by the diagram obtained\\nby applying any abelian group valued cohomological functor (of course a\\nstill more general formulation is also possible). This is {\\\\em false};\\nO.~Gabber has kindly shown us a counterexample. \\n\\\\end{rmk}\\n\\n\\\\begin{rmk} A version of the above lemma~\\\\ref{[PS]} also appears in a\\nletter from U. Jannsen to B. Gross.\\n\\\\end{rmk}\\n\\n%\\\\input{lef4}\\n\\\\section{A short exact sequence of mixed Hodge structures}\\nIn this section we make an analysis of the mixed Hodge structure on\\n\\\\[H^1(X,\\\\ccH^1_X)=\\\\mbox{ subgroup of Zariski locally trivial elements in\\n$H^2(X_{an},\\\\Z)$}.\\\\] \\nOur goal is to describe it as an extension of a direct sum of Tate Hodge\\nstructures $\\\\Z(-1)$ by a polarizable pure Hodge structure of weight 1. \\n\\nLet $X$ be our given normal projective variety over $\\\\C$. Let $Y$ be a\\nresolution of singularities of $X$, and let $Y_{an}$ be the \\nassociated analytic space of $Y$. We have the following commutative\\ndiagram\\n$$\\\\diagram Y_{an} \\\\rto^{a^{Y}} \\\\dto^{\\\\pi^{an}} & Y \\\\dto^{\\\\pi} \\\\\\\\\\nX_{an} \\\\rto^{a^{X}} & X \\\\enddiagram$$\\n\\nThe Leray spectral sequence for the constant sheaf $\\\\Z=\\\\Z_{Y_{an}}$ and\\nthe map $\\\\pi^{an}: Y_{an} \\\\to X_{an}$ leads to an exact sequence:\\n\\\\begin{equation}\\\\label{1} 0 \\\\to H^1 (X_{an}, \\\\Z) \\\\to H^1 (Y_{an},\\\\Z)  \\\\to \\nH^0(X_{an}, R^1 \\\\pi^{an}_{*}\\\\Z) \\\\to H^2 (X_{an},\\\\Z) \\\\to H^{2}(Y_{an}, \\\\Z)\\n\\\\end{equation}\\nNote that since $X$ is normal, we have $\\\\pi^{an}_{*}\\\\Z \\\\cong \\\\Z$. \\n\\nDefine a new sheaf ${\\\\cal F}_{\\\\Z}$ on $X_{an}$ by \\n\\\\begin{equation}\\\\label{FZ}\\n{\\\\cal F}_{\\\\Z} = {\\\\rm image}\\\\,(H^1 (Y_{an}, \\\\Z)_{X_{an}} \\\\to\\nR^{1}\\\\pi^{an}_{*}\\\\Z).\\n\\\\end{equation}\\nHere by $H^{1}(Y_{an},\\\\Z)_{X_{an}}$ we mean the constant sheaf on $X_{an}$\\nassociated to the group $H^1 (Y_{an}, \\\\Z),$ and the map on sheaves is\\ninduced at the level of presheaves by the restriction map on cohomology\\n$H^{1}(Y_{an},\\\\Z) \\\\to H^{1}((\\\\pi^{an})^{-1}(U_{an}),\\\\Z)$ where $U_{an}\\n\\\\subset X_{an}$ is open. By taking global sections we have the following\\ncommutative diagram,\\n$$\\\\diagram H^{1}(Y_{an},\\\\Z) \\\\rto \\\\drto & H^{0}(X_{an},{\\\\cal F}_{\\\\Z}) \\n\\\\dto|<<\\\\ahook \\\\\\\\ & H^{0}(X_{an},R^{1}\\\\pi^{an}_{*}\\\\Z) \\\\enddiagram$$\\n\\nHence we have an inclusion,\\n$$0 \\\\to \\\\frac{H^{0}(X_{an},{\\\\cal F}_{\\\\Z})}{{\\\\rm Im}(H^{1}(Y_{an},\\\\Z))}\\n\\\\to \\\\frac{H^{0}(X_{an},R^{1}\\\\pi^{an}_{*}\\\\Z)}{{\\\\rm Im}(H^{1}(Y_{an},\\\\Z))}\\n= Ker(H^{2}(X_{an},\\\\Z) \\\\to H^{2}(Y_{an},\\\\Z))$$\\nwhere the last equality is due to the above exact sequence (\\\\ref{1}) of \\nlow degree terms of the Leray spectral sequence. \\n\\nNote that $\\\\cF_{\\\\Z}$ satisfies the hypotheses of lemma~\\\\ref{const1}, with\\n$A=H^1(Y_{an},\\\\Z)$ and $\\\\cG=R^1\\\\pi^{an}_*\\\\Z$ (the latter is algebraically\\n$\\\\Z$-constructible by theorem~\\\\ref{Verdier}). Hence the following\\nproperties hold. \\n\\\\begin{points}\\n\\\\item $\\\\cF_{\\\\Z}$ is algebraically $\\\\Z$-constructible.\\n\\\\item  $a^X_*\\\\cF_{\\\\Z}:=\\\\cG_{\\\\Z}$ is $\\\\Z$-constructible for the Zariski\\ntopology, and $(a^X)^*\\\\cG_{\\\\Z}\\\\cong\\\\cF_{\\\\Z}$.\\n\\\\item  The natural sheaf map \\n\\\\begin{equation}\\\\label{eqsur}\\nH^1(Y_{an},\\\\Z)_X\\\\to a^X_*\\\\cF_{\\\\Z}\\n\\\\end{equation}\\nis surjective. \\n\\\\end{points}\\n\\n\\\\begin{lemma}\\\\label{incl}\\n $\\\\displaystyle{\\\\frac{H^{0}(X_{an},{\\\\cal\\nF}_{\\\\Z})}{Im(H^{1}(Y_{an},\\\\Z))} \\n\\\\subset H^{1}(X,{\\\\cal H}^{1}_{X})}.$\\n\\\\end{lemma}\\n\\\\begin{proof} Let $\\\\alpha \\\\in H^{0}(X_{an},{\\\\cal\\nF}_{\\\\Z})=H^0(X,a^X_*\\\\cF_{\\\\Z})$. Then by (\\\\ref{eqsur}), \\nthere exists a Zariski open cover\\n$\\\\{U_i\\\\}$ of $X$ such that $\\\\alpha|_{(U_i)_{an}} = Im(\\\\beta_{i})$ where\\n$\\\\beta_{i} \\\\in H^{1}(Y_{an},\\\\Z).$ Therefore $\\\\alpha|_{(U_{i})_{an}} \\\\to 0\\n\\\\in H^{2}((U_i)_{an},\\\\Z)$ as shown in the commutative diagram below (where\\n$U$ stands for any of the $U_i$)\\n$$\\\\diagram H^{1}(Y_{an},\\\\Z) \\\\dto \\\\rto & H^{0}(X_{an},{\\\\cal F}_{\\\\sZ}) \\\\rto \\n\\\\dto & H^{2}(X_{an},\\\\Z) \\\\dto \\\\\\\\\\nH^{1}((\\\\pi^{an})^{-1}(U_{an}),\\\\Z) \\\\rto & H^{0}(U_{an},{\\\\cal F}_{\\\\sZ}) \\n\\\\rto & H^{2}(U_{an}\\\\Z) \\\\enddiagram$$\\nThis finishes the proof of the lemma. \\n\\\\end{proof}\\n\\nIf $\\\\{X_i\\\\}_{i\\\\in I}$ is an admissible family of subsets\\nfor the constructible sheaf $R^1\\\\pi^{an}_*\\\\Z$ on $X_{an}$, then\\n(lemma~\\\\ref{const1}) it is also an admissible family for $\\\\cF_{\\\\sZ}$ and\\nfor $a^X_*\\\\cF_{\\\\sZ}=\\\\cG_{\\\\sZ}$. We fix such an admissible family once and\\nfor all, and fix base points $x_i\\\\in U_i$ with corresponding reduced\\nfibers $F_i=\\\\pi^{-1}(x_i)_{red}$. Let\\n$F=\\\\cup_iF_i=\\\\pi^{-1}(\\\\{x_i\\\\mid i\\\\in I\\\\})$. \\n\\nBy the proper base change theorem, the stalk\\n$(R^1\\\\pi^{an}_*\\\\Z)_{x_i}$ is naturally identified with\\n$H^1((F_i)_{an},\\\\Z)$; thus $R^1\\\\pi^{an}_*\\\\Z\\\\mid_{(U_i)_{an}}$ is a local\\nsystem with fiber $H^1((F_i)_{an},\\\\Z)$.  Note that the stalk\\n$(\\\\cF_{\\\\sZ})_{x_i}$ has the resulting description\\n\\\\begin{equation}\\\\label{stalk}\\n(\\\\cF_{\\\\sZ})_{x_i}={\\\\rm image}\\\\,\\\\left(H^1(Y_{an},\\\\Z)\\\\to\\nH^1((F_i)_{an},\\\\Z)\\\\right).\\n\\\\end{equation}\\nBy mixed Hodge theory [D], we deduce that $(\\\\cF_{\\\\sZ})_{x_i}$ naturally\\nsupports a pure Hodge structure of weight 1, which is a quotient Hodge\\nstructure of $H^1(Y_{an},\\\\Z)$ (depending only on $i\\\\in I$, and not on the \\nchosen base point $x_i\\\\in U_i$), as well as a Hodge sub-structure of\\n$H^1((F_i)_{an},\\\\Z)$. Finally note also that $\\\\cF_{\\\\sZ}\\\\mid_{(U_i)_{an}}$\\nis a constant sheaf whose fiber supports this pure Hodge structure (\\\\ie is\\nthe underlying lattice). \\n\\n\\\\begin{lemma} $H^{0}(X_{an},{\\\\cal F}_{\\\\sZ})$ carries a pure Hodge \\nstructure of weight one, such that $H^{1}(Y_{an},\\\\Z) \\\\to\\nH^{0}(X_{an},{\\\\cal F}_{\\\\sZ})$ is a morphism of Hodge structures.  \\n\\\\end{lemma}\\n\\\\begin{proof} \\n>From lemma~\\\\ref{const1}(iii) there exists an  \\nexact sequence of abelian groups \\n$$0 \\\\to H^{0}(X_{an}, {\\\\cal F}_{\\\\sZ}) \\\\to\\n\\\\bigoplus_{i\\\\in I}(\\\\cF_{\\\\sZ})_{x_i} \\\\to \\n\\\\bigoplus_{i_0,i_1\\\\in I,\\\\;i_0\\\\leq  \\ni_1}(\\\\cF_{\\\\sZ})_{x_{i_1}}$$\\nThe natural surjective maps $(\\\\cF_{\\\\sZ})_{x_i}\\\\to (\\\\cF_{\\\\sZ})_{x_j}$\\n(for $i\\\\leq j$) are maps of pure Hodge structures of weight one, which are\\nquotients of $H^{1}(Y_{an},\\\\Z)$. Hence $H^{0}(X_{an}, {\\\\cal F}_{\\\\sZ})$ is\\nidentified with the kernel of a morphism of pure Hodge structures of\\nweight~1, and hence itself supports a pure Hodge structure of weight one.\\nAlso it is clear from the construction that the composition \\n\\\\[H^1(Y_{an},\\\\Z)\\\\to H^0(X_{an},\\\\cF_{\\\\sZ})\\\\into\\n\\\\bigoplus_{i\\\\in I}(\\\\cF_{\\\\sZ})_{x_i}\\\\] \\nis a direct sum of the natural quotient maps $H^1(Y_{an},\\\\Z)\\\\to\\n(\\\\cF_{\\\\sZ})_{x_i}$, and hence is a morphism of Hodge structures. Hence\\n$H^1(Y_{an},\\\\Z)\\\\to H^0(X_{an},\\\\cF_{\\\\sZ})$ is one as well.\\n\\\\end{proof}\\n\\n\\\\begin{propose} \\\\label{MHS} $H^{0}(X_{an},{\\\\cal F}_{\\\\sZ}) \\\\to \\nH^{2}(X_{an},\\\\Z)$ is morphism of Hodge structures, i.e., the Hodge \\nstructures on $H^{0}(X_{an},{\\\\cal F}_{\\\\sZ})$ and $H^{2}(X_{an}, \\\\Z)$ \\nare compatible. \\n\\\\end{propose}\\n\\\\begin{proof} Let $F_i=\\\\pi^{-1}(x_i)$ as above, and let $F = \\\\cup_{i\\\\in I}\\nF_i$. We note that the natural map $H^{0}(X_{an}, R^{1}\\\\pi_{*}^{an}\\\\Z) \\\\to\\nH^{1}(F_{an},\\\\Z)$ is an injection (any section in the kernel must vanish\\nin all\\nstalks). This implies that the map $H^{2}(X_{an},\\\\Z) \\\\to\\nH^{2}(Y_{an},F_{an},\\\\Z)$ (which is a morphism of mixed Hodge structures)\\nis injective in the following commutative diagram (here\\n$G_i=(\\\\cF_{\\\\sZ})_{x_i}$). \\n\\n$$\\\\diagram \\\\displaystyle{\\\\frac{H^{0}(X_{an},{\\\\cal\\nF}_{\\\\sZ})}{Im(H^{1}(Y_{an},\\\\Z)}}  \\n\\\\rto|<<\\\\ahook \\\\dto|<<\\\\ahook & \\n\\\\displaystyle{\\\\frac{H^{0}(X_{an}, \\nR^{1}\\\\pi^{an}_{*}\\\\Z)}{Im(H^{1}(Y_{an},\\\\Z)}} \\n\\\\ddlto|<<\\\\ahook \\\\rto|<<\\\\ahook & H^{2}(X_{an},\\\\Z) \\\\ddto|<<\\\\ahook \\\\\\\\ \\n\\\\displaystyle{\\\\frac{\\\\oplus_{i}G_{i}}{Im(H^{1}(Y_{an},\\\\Z)}}\\n\\\\dto|<<\\\\ahook \\\\\\\\ \\n\\\\displaystyle{\\\\frac{\\\\oplus_{i}H^{1}((F_{i})_{an}, \\n\\\\Z)}{Im(H^{1}(Y_{an},\\\\Z))}} \\\\rrto|<<\\\\ahook & & \\nH^{2}(Y_{an},F_{an},\\\\Z) \\\\enddiagram$$\\nWe are done, because all the arrows in the above diagram are injections,\\nand the vertical arrows (on the left and right borders), as well as the\\nlower horizontal arrow, are morphisms of mixed Hodge structures.  \\n\\\\end{proof}\\n\\nLet $A \\\\subset B$ be an inclusion of abelian groups. Let $A \\\\subset A^s\\n\\\\subset B$ denote the saturation of $A$ in $B,$ i.e., $A^{s}$ is the\\nsmallest subgroup of $B$ containing $A$ such that\\n$\\\\displaystyle{\\\\frac{B}{A^{s}}}$ is torsion free. Let $H^{0}(X_{an}, {\\\\cal\\nF}_{\\\\sZ})^{s}$ be the saturation of $H^{0}(X_{an},{\\\\cal F}_{\\\\sZ})$ in\\n$H^{0}(X_{an}, R^{1}\\\\pi^{an}_{*}\\\\Z).$ \\n\\n\\\\begin{lemma}  $\\\\displaystyle{Ker(H^{1}(X,{\\\\cal H}^{1}_{X}) \\\\to\\nH^{2}(Y_{an},\\\\Z)) = \\\\frac{H^{0}(X_{an},{\\\\cal\\nF}_{\\\\Z})^{s}}{Im(H^{1}(Y_{an},\\\\Z))}}.$ \\n\\\\end{lemma} \\n\\\\begin{proof} It is easy to see, from lemma~\\\\ref{incl}, that \\n\\\\[Ker(H^{1}(X,{\\\\cal H}^{1}_{X}) \\\\to\\nH^{2}(Y_{an},\\\\Z)) \\\\supset \\\\frac{H^{0}(X_{an},{\\\\cal\\nF}_{\\\\Z})^{s}}{Im(H^{1}(Y_{an},\\\\Z))}.\\\\]\\nWe will prove, using lemma~\\\\ref{[PS]}, that given any element \\n$$\\\\alpha \\\\in ker(H^{1}(X,{\\\\cal H}^{1}_{X}) \\\\to H^{2}(Y_{an},\\\\Z)),$$ \\nand any preimage $\\\\beta_{1} \\\\in H^{0}(X_{an},R^{1}\\\\pi^{an}_{*}\\\\Z),$\\nsome non-zero (integral) multiple of $\\\\beta_{1}$ lies in\\n$H^{0}(X_{an},{\\\\cal F}_{\\\\Z}) \\\\subset H^{0}(X_{an},R^{1}\\\\pi^{an}_{*}\\\\Z).$\\nThis will prove the assertion of the lemma.\\n\\nSince $\\\\alpha \\\\in H^{1}(X,{\\\\cal H}^{1}_{X}),$ there exists a finite\\nZariski open cover $\\\\{U_{i}\\\\}$ of $X$ such that $\\\\alpha \\\\mapsto 0$ in\\n$H^{2}((U_{i})_{an},\\\\Z)$ for all $i.$ Let $U$ denote any one of these\\n$U_{i}$\\'s and consider again the above commutative diagram with exact\\nrows and columns.  \\n\\n$$\\\\hspace{-1cm}\\\\diagram & & & H^{1}(Y_{an},\\\\Z) \\\\dto \\\\\\\\\\n& & H^{1}(U_{an},\\\\Z) \\\\rto \\\\dto & H^{1}(\\\\pi^{-1}(U_{an},\\\\Z) \\\\dto \\\\\\\\\\n& & H^{2}(X_{an},U_{an},\\\\Z) \\\\rto \\\\dto & \\nH^{2}(Y_{an},\\\\pi^{-1}(U_{an}),\\\\Z) \\\\dto \\\\\\\\\\nH^{1}(Y_{an},\\\\Z) \\\\rto \\\\dto & \\nH^{0}(X_{an},R^{1}\\\\pi^{an}_{*}\\\\Z) \\\\rto \\\\dto & H^{2}(X_{an},\\\\Z) \\\\rto \\\\dto \\n& H^{2}(Y_{an},\\\\Z) \\\\dto \\\\\\\\\\nH^{1}(\\\\pi^{-1}(U_{an}),\\\\Z) \\\\rto &  \\n\\\\Gamma(U_{an},R^{1}\\\\pi_{*}^{an}\\\\Z) \\\\rto & H^{2}(U_{an},\\\\Z) \\\\rto & \\nH^{2}(\\\\pi^{-1}(U_{an},\\\\Z) \\\\enddiagram$$\\n\\nWe wish to apply lemma~\\\\ref{[PS]} to this diagram; for this, we need to\\nknow that this diagram arises by applying the cohomology functor to a\\nsuitable $9$-diagram in the category of complexes of abelian groups. It is\\nclear that the above diagram arises by applying the cohomology functor to\\nthe following $9$-diagram, where all the objects are in the (bounded\\nbelow) derived category of sheaves of abelian groups on $X$, and the rows\\nand columns are exact triangles; here $K_i$ are suitable cones. \\n$$\\\\diagram K_{1} \\\\rto \\\\dto & K_{2} \\\\rto \\\\dto & K_{3} \\\\dto \\\\rto & \\\\\\\\\\n\\\\Z_{X} \\\\rto \\\\dto & R\\\\pi_{*}\\\\Z_{Y} \\\\rto \\\\dto & C_{1} \\\\rto \\\\dto & \\\\\\\\\\nRj_{*}\\\\Z_{U} \\\\rto \\\\dto & Rj_{*}R\\\\pi_{*}\\\\Z_{\\\\pi^{-1}(U)} \\\\rto \\\\dto & \\nRj_{*}C_{2} \\\\rto \\\\dto & \\\\\\\\\\n& & & \\\\enddiagram$$\\n\\nApplying the functor $R\\\\Gamma(X,-)$ yields a $9$-diagram in the derived\\ncategory of abelian groups. Using Cartan-Eilenberg resolutions, this\\n$9$-diagram in the derived category is seen to be the image of a\\n$9$-diagram where all the objects are complexes of abelian groups and the\\nrows and columns are short exact sequences of complexes. Since the\\narguments are standard, we omit the details.\\n\\nReturning to our cohomology diagram, note that the relative cohomology\\nsequences  \\n$$\\\\to H^{1}(U_{an},\\\\Z) \\\\to H^{2}(X_{an},U_{an},\\\\Z) \\\\to H^{2}(X_{an},\\\\Z)\\n\\\\to H^{2}(U_{an},\\\\Z) \\\\to$$\\nand \\n$$\\\\hspace{-1cm}\\\\to H^{1}((\\\\pi^{an})^{-1}(U_{an}),\\\\Z) \\\\to \\nH^{2}(Y_{an},(\\\\pi^{an})^{-1}(U_{an}),\\\\Z) \\\\to\\nH^{2}(Y_{an},\\\\Z) \\\\to H^{2}((\\\\pi^{an})^{-1}(U_{an},\\\\Z)$$ \\nare sequences in the category of mixed Hodge structures by \\n[D]~(8.3.9). \\n\\nSince $\\\\alpha \\\\to 0 \\\\in H^{2}(Y_{an},\\\\Z)$ therefore $\\\\alpha_{\\\\Q} \\\\in\\nW_{1}H^{2}(X_{an},\\\\Q)$ by [D],~Proposition~8.2.5. This implies, by \\n[D],~Theorem~2.3.5 (\\\\ie strictness of morphisms of mixed Hodge structures\\nwith respect to $W$) that we can choose $\\\\beta_{2} \\\\in H^{2}(X_{an}, \\nU_{an},\\\\Z)$ such that \\n\\\\[(\\\\beta_{2})_{\\\\Q} \\\\in W_{1}H^{2}(X_{an},U_{an},\\\\Q),\\\\;\\\\;\\\\beta_{2} \\\\mapsto\\nn \\\\alpha,\\\\;\\\\;n\\\\in\\\\Z_{>0}.\\\\]\\nLet \\n\\\\[\\\\beta_2\\\\mapsto\\\\gamma_{2}\\\\in\\nH^{2}(Y_{an},(\\\\pi^{an})^{-1}(U_{an}),\\\\Z) \\\\cong \\\\Z(-1)^k,\\\\]\\nfor some $k\\\\geq 0$, where the last isomorphism is because  $Y$ is\\nnon-singular; then\\n\\\\[(\\\\gamma_{2})_{\\\\Q} \\\\in W_{1}H^{2}(Y_{an},(\\\\pi^{an})^{-1}(U_{an}),\\\\Q)=0,\\\\]\\n\\\\ie $\\\\gamma_2=0$. So we can choose a preimage $\\\\delta_{2} \\\\in\\nH^{1}((\\\\pi^{an})^{-1}(U_{an}),\\\\Z)$ of $\\\\gamma_{2}$ to be zero.\\nOn the other hand, chasing the diagram the other way, we get $n\\\\beta_{1}\\n\\\\in H^{0}(X_{an},R^{1}\\\\pi^{an}_{*}\\\\Z)$ which lifts $n \\n\\\\alpha$, and $n\\\\beta\\\\mapsto n\\\\gamma_{1} \\\\in \\nH^{0}(U_{an},R^{1}\\\\pi^{an}_{*}\\\\Z)$; now take a lift $n\\\\delta_{1} \\\\in\\nH^{1}((\\\\pi^{an})^{-1}(U_{an},\\\\Z).$ of $n\\\\gamma_1$.\\n\\nBy lemma~\\\\ref{[PS]}, we know that $n\\\\delta_{1} \\\\equiv \\\\delta_{2}=0$\\nmodulo the images of $H^{1}(Y_{an},\\\\Z)$ and $H^{1}(U_{an},\\\\Z).$ Therefore \\n\\\\[n\\\\gamma_{1} \\\\in Im(H^{1}(Y_{an},\\\\Z)\\\\to\\nH^{0}(U_{an},R^{1}\\\\pi^{an}_{*}\\\\Z)).\\\\]\\nThis proves that  \\n$n\\\\beta_{1}|_{U_{an}}$ comes from $H^{1}(Y_{an},\\\\Z).$ \\nSince $X$ has a finite cover by such open sets $U,$ we see that $\\\\beta_{1}\\n\\\\in H^{0}(X_{an},{\\\\cal F}_{\\\\sZ})^{s}.$ \\n\\\\end{proof}\\n\\n\\\\begin{cor}\\\\label{corexseq}\\nThere exists a short exact sequence of mixed Hodge structures\\n$$0 \\\\to\\n\\\\frac{H^{0}(X_{an},{\\\\cal F}_{\\\\sZ})^{s}}{Im(H^{1}(Y_{an},\\\\Z))} \\\\to\\nH^{1}(X,{\\\\cal H}^{1}_{X}) \\\\to \\nIm(H^{1}(X,{\\\\cal H}^{1}_{X}) \\\\to H^{2}(Y_{an},\\\\Z)) \\\\to 0.$$ \\n\\\\end{cor}\\n\\n\\nLet $Im(H^{1}(Y_{an},\\\\Z))^{s}$ denote the saturation of $H^{1}(Y_{an},\\\\Z)$\\nin $H^{0}(X_{an},{\\\\cal F}_{\\\\sZ})^{s}.$ Then\\n\\\\[\\\\frac{Im(H^{1}(Y_{an},\\\\Z))^{s}}{Im(H^{1}(Y_{an},\\\\Z)} =\\n\\\\left(\\\\frac{H^{0}(X_{an},{\\\\cal F}_{\\\\sZ})^{s}}\\n{Im(H^{1}(Y_{an},\\\\Z)}\\\\right)_{\\\\rm torsion}.\\\\] Since \\n$NS(X) \\\\subset F^{1}H^{2}(X_{an},\\\\Z)$ it follows that it has finite\\nintersection with $\\\\displaystyle{\\\\frac{H^{0}(X_{an},{\\\\cal\\nF}_{\\\\Z})^{s}}{Im(H^{1}(Y_{an},\\\\Z))}}$ which is a pure Hodge structure of\\nweight one. On the other hand, $H^{2}(X_{an},\\\\Z)_{\\\\rm torsion} \\\\subset\\nNS(X)$ from the exponential sequence. Thus, \\n$$\\\\left(\\n\\\\frac{H^{0}(X_{an},{\\\\cal F}_{\\\\sZ})^{s}}{Im(H^{1}(Y_{an},\\\\Z)}\\n\\\\right)_{\\\\rm torsion} = NS(X) \\\\cap\\n\\\\frac{H^{0}(X_{an},{\\\\cal F}_{\\\\sZ})^{s}}{Im(H^{1}(Y_{an},\\\\Z)}.$$\\nHence we get the exact sequence\\n$$0 \\\\to\\n\\\\displaystyle{\\\\frac{H^{0}(X_{an},{\\\\cal\\nF}_{\\\\sZ})^{s}}{Im(H^{1}(Y_{an},\\\\Z))^{s}}} \\\\to\\n\\\\displaystyle{\\\\frac{H^{1}(X,{\\\\cal H}^{1}_{X})}{NS(X)}}\\n\\\\stackrel{f}{\\\\to} \\\\displaystyle{\\\\frac{Im(H^{1}(X,{\\\\cal H}^{1}_{X}) \\\\to\\nH^{2}(Y_{an},\\\\Z))}{Im(NS(X))}} \\\\to 0,\\\\hspace{2mm}(+)$$ \\nIt is clear that the third term is pure of type $(1,1)$ as it lies\\ninside $\\\\displaystyle{\\\\frac{NS(Y)}{Im(NS(X))}}.$ \\n\\nLet $A =  \\\\displaystyle{\\\\frac{Im(H^{1}(X,{\\\\cal H}^{1}_{X}) \\\\to \\nH^{2}(Y_{an},\\\\Z))}{Im(NS(X))}}$ and let \\n$$M = f^{-1}(A_{\\\\rm torsion}).$$ \\nWe then have a short exact sequence of mixed Hodge structures\\n$$0 \\\\to M \\\\to \\\\frac{H^{1}(X,{\\\\cal H}^{1}_{X})}{NS(X)} \\\\to\\n\\\\frac{A}{A_{\\\\rm torsion}} \\\\cong \\\\Z(-1)^{r} \\\\to 0,\\\\hspace{2mm}(++)$$\\nwhere the third term is free of rank $r$ and pure of type $(1,1),$ and $M$\\nis a pure Hodge structure of weight $1.$ Further, all of the underlying\\nabelian groups are free. \\n\\nWe recall some facts about extensions of mixed Hodge structures (see [C],\\nfor example). Let $H$ be a finitely generated abelian \\ngroup which supports a pure  Hodge structure of weight one, and $G$ a\\nfinitely generated abelian group, regarded as a pure Hodge structure of\\ntype $(0,0)$. Then there is a natural identification of the abelian group\\n$\\\\Ext^{1}_{\\\\bf MHS}(G(-1),H)$ of extensions in the category ${\\\\bf MHS}$ of\\nmixed Hodge structures with the abelian group $\\\\Hom(G,J(H))$, where\\n$$J(H) = J^{1}(H) = \\\\frac{H_{\\\\sC}}{F^{1}H_{\\\\sC}{}+{}Im(H)};$$ \\nhere $H_{\\\\sC} = H \\\\tensor_{\\\\sZ}\\\\C$ and $F$ gives the Hodge filtration.\\nIn particular we have\\n\\\\[\\\\Ext^1_{\\\\bf MHS}(\\\\Z(-1),H)=J(H).\\\\]\\nIf \\n\\\\[0\\\\to H\\\\to E\\\\to G(-1)\\\\to 0\\\\]\\nis an extension of mixed Hodge structures, let $\\\\psi_E:G\\\\to J(H)$ be the\\ncorresponding homomorphism (which we call the {\\\\em extension class map} of\\n$E$). This may be described as follows: there is an identification\\n\\\\[\\\\alpha:\\\\frac{H_{\\\\sC}}{F^1H_{\\\\sC}}\\\\by{\\\\cong}\\\\frac{E_{\\\\sC}}{F^1E_{\\\\sC}},\\\\]\\ngiving\\n\\\\[\\\\beta:J(H)=\\\\frac{H_{\\\\sC}}{F^1H_{\\\\sC}+H}\\\\by{\\\\cong}\\\\frac{E_{\\\\sC}}{F^1E_{\\\\sC}+H},\\\\]\\nand $\\\\psi_E$ is the composition\\n\\\\[G\\\\cong \\\\frac{E}{H}\\\\to \\\\frac{E_{\\\\sC}}{F^1E_{\\\\sC}+H}\\n\\\\by{\\\\beta^{-1}}J(H).\\\\] \\nIn case $G=\\\\Z^{\\\\oplus r}$ is free abelian, we have that $\\\\Hom_{\\\\bf\\nMHS}(\\\\Z(-1),G)$ is naturally identified with $\\\\ker \\\\psi_E$. Also, if $G$\\nis free abelian and $H$ is polarizable, then $J(H)$ is an abelian\\nvariety, and for an extension $E$, the homomorphism $\\\\psi_E:G\\\\to J(H)$ is\\nthe 1-motive over $\\\\C$ associated to the mixed Hodge structure $E$ by the\\nprocedure in [D], (10.1.3). \\n\\nIn particular, the sequence of mixed Hodge structures $(+)$ is an \\nextension of a pure Hodge structure of type $(1,1)$ by a pure weight one\\nHodge structure and hence gives rise to an extension class homomorphism, \\n$$\\\\psi: \\\\frac{Im(H^{1}(X,{\\\\cal H}^{1}_{X}) \\\\to\\nH^{2}(Y_{an},\\\\Z))}{NS(X)}\\n\\\\to J\\\\left(\\\\frac{H^{0}(X_{an},{\\\\cal \\nF}_{\\\\sZ})^{s}}{(Im(H^{1}(Y_{an},\\\\Z)))^{s}}\\\\right).$$ \\nSimilarly, the sequence of mixed Hodge structures $(++)$ gives rise to a\\nrelated homomorphism\\n$$\\\\psi_{1}: \\\\Z^{\\\\oplus r} \\\\cong \\\\frac{A}{A_{tors}} \\\\to J(M),$$ \\nwhich is in fact a 1-motive. Note that $J(M)$ is isogenous to\\n$\\\\displaystyle{J\\\\left(\\\\frac{H^{0}(X_{an},{\\\\cal\\nF}_{\\\\Z})^{s}}{(Im(H^{1}(Y_{an},\\\\Z)))^{s}}\\\\right)}$ which in turn is\\nisogenous to $\\\\displaystyle{J\\\\left(\\\\frac{H^{0}(X_{an},{\\\\cal\\nF}_{\\\\Z})^{s}}{Im(H^{1}(Y_{an},\\\\Z))}\\\\right)}.$\\n\\nBy the above remarks, our main result Theorem~\\\\ref{(1,1)} is\\nequivalent to proving {\\\\em $\\\\psi_{1}$ is injective}. \\n\\n\\n%\\\\input{lef5}\\n\\\\section{Proof of the Main Theorem}\\n\\\\subsection{Construction of a 1-motive}\\nThe aim of this section is to directly construct a certain 1-motive over\\n$\\\\C$. The proof of the Main Theorem  will be by showing that it is\\nisogenous to that associated to $(H^1(X,\\\\ccH^1_X)/NS(X))\\\\tensor\\\\Z(1)$. \\n\\nLet $\\\\pi : Y \\\\to X$ be a desingularization of $X$ as before and let $U\\n\\\\subset X$ be a Zariski open subset. We have an exact sequence of groups\\n$$Pic^{0}(Y) \\\\to Pic(\\\\pi^{-1}(U)) \\\\to H^{1}(\\\\pi^{-1}(U),{\\\\cal H}^{1}_{Y}) \\n\\\\to 0.$$ \\nWe sheafify this on $X=X_{Zar}$ to get an exact sequence of\\nsheaves \\n$$Pic^{0}(Y)_{X} \\\\to R^{1}\\\\pi_{*}{\\\\cal O}^{*}_{Y} \\\\to R^{1}\\\\pi_{*}{\\\\cal\\nH}^{1}_{Y} \\\\to 0$$ \\nwhere $Pic^{0}(Y)_{X}$ is the constant sheaf on $X$ associated to the\\ngroup $Pic^{0}(Y).$ Define ${\\\\cal F}$ to be the Zariski sheaf \\n$${\\\\cal F}:=Im(Pic^{0}(Y)_{X} \\\\to R^{1}\\\\pi_{*}{\\\\cal O}^{*}_{Y})$$ on $X.$\\nHence we have short exact sequence \\nof sheaves \\n\\\\begin{equation}\\\\label{eq}\\n 0 \\\\to {\\\\cal F} \\\\to R^{1}\\\\pi_{*}{\\\\cal O}^{*}_{Y} \\\\to\\nR^{1}\\\\pi_{*}{\\\\cal H}^{1}_{Y} \\\\to 0\\n\\\\end{equation}\\n\\n\\\\begin{lemma} \\\\label{compare}(1) There is an injective map\\n\\\\[\\\\mu:J(H^0(X_{an},\\\\cF_{\\\\sZ})^s)\\\\to H^0(X,\\\\cF),\\\\]\\nwhose image $H^{0}(X,{\\\\cal F})^{0}$ is a subgroup of finite index, such\\nthat the natural map $Pic^{0}(Y) \\\\to  H^{0}(X,{\\\\cal F})$ factors\\nthrough $\\\\mu$. The induced map $Pic^{0}(Y) \\\\to  H^{0}(X,{\\\\cal F})^{0}$ is\\nthat determined by the map on Hodge structures $H^1(Y_{an},\\\\Z)\\\\to\\nH^0(X_{an},\\\\cF_{\\\\sZ})^s$. Thus $H^{0}(X,{\\\\cal F})^{0}$ is the group of\\n$\\\\C$-points of an abelian variety, such that $Pic^{0}(Y) \\\\to\\nH^{0}(X,{\\\\cal F})^{0}$ is a homomorphism of abelian varieties. \\n\\n(2)\\\\quad $\\\\displaystyle{J\\\\left(\\\\frac{H^{0}(X_{an},{\\\\cal \\nF}_{\\\\sZ})^{s}}{Im(H^{1}(Y_{an},\\\\Z)}\\\\right)}$ is isogenous to\\n$\\\\displaystyle{\\\\frac{H^{0}(X,{\\\\cal F})^{0}}{Im(Pic^{0}(Y))}},$ and hence\\nthe latter is isogenous to $J(M).$  \\n\\\\end{lemma}\\n\\\\begin{proof} \\nLet $x \\\\in X$ be any point and $F_{x} = \\\\pi^{-1}(x)_{red}.$ Let $Y_x =\\nSpec({\\\\cal O}_{X,x}) \\\\times_{X} Y$ and $\\\\displaystyle{F_{x}^{n} =\\nSpec\\\\left(\\\\frac{{\\\\cal O}_{X,x}}{{\\\\cal M}_{x}^{n}}\\\\right) \\\\times_{X}Y}$,\\nwhere ${\\\\cal M}\\\\subset {\\\\cal O}_{X,x}$ is the maximal ideal.\\nFor each $n$ we have the restriction maps $h_{n}: Pic(F^{n}_{x}) \\\\to\\nPic(F_{x}).$\\n\\nWe claim that the kernel of $h_{n},$ for each $n,$ is a $\\\\C$-vector\\nspace. To see this consider the short exact sequence of Zariski sheaves \\n$$\\\\diagram 0 \\\\rto & {\\\\cal I}_{F^{n}_{x}/F_{x}} \\\\rto^{exp} & {\\\\cal\\nO}^{*}_{F^{n}_{x}} \\\\rto^{h_n} & {\\\\cal O}^{*}_{F_{x}} \\\\rto & 0\\n\\\\enddiagram$$ \\nwhere $exp$ denotes the exponential map, which makes sense as ${\\\\cal\\nI}_{F^{n}_{x}/F_{x}}$ is nilpotent.   \\nConsidering the associated cohomology sequence we get \\n$$0 \\\\to H^{1}(F_{x}, {\\\\cal I}_{F^{n}_{x}|F_{x}}) \\\\to\\nPic(F^{n}_{x}) \\\\longby{h_n} Pic(F_{x})$$\\nwhich proves the kernel of $h_{n}$, for each $n$, is a $\\\\C$-vector space.\\n\\nFor each $n$ and for each $x \\\\in X,$ we have a commutative diagram\\n$$\\\\diagram Pic^{0}(Y) \\\\rrtou ^{f_{n}} \\\\rto \\\\drto^{g} & Pic(Y_{x}) \\\\dto\\n\\\\rto & Pic(F^{n}_{x}) \\\\dlto_{h_{n}} \\\\\\\\\\n& Pic(F_{x}) \\\\enddiagram$$\\n\\nLet $f_{n}$ be the composition $Pic^{0}(Y) \\\\to Pic(Y_{x}) \\\\to\\nPic(F^{n}_{x}).$ Then, $Ker(f_{n})$ and $Ker(g)$ are both closed  \\nsubgroups of $Pic^{0}(Y)$ hence are compact (topological) groups.\\nSince $Ker(h_{n})$ is a $\\\\C$-vector space it follows that\\n$Ker(f_{n}) = Ker(g),$ as any continuous homomorphism from a \\ncompact group to a $\\\\C$-vector space is zero (note that $Pic^{0}(Y),$\\n$Pic^{0}(F_{x}^{n}),$ and $Pic^{0}(F_{x})$ are isomorphic to the\\ncorresponding analytic groups, by GAGA, and hence from the exponential\\nsequence carry natural topologies, such that the restriction homomorphisms\\nare continuous). \\n  \\nPassing to the inverse limit we have a commutative diagram \\n$$\\\\diagram Pic^{0}(Y) \\\\rto^{f} \\\\drto^{g} & Pic(Y_{x}) \\\\dto \\\\rto|<<\\\\ahook & \\nPic(\\\\hat{Y_{x}}) \\\\dlto_{h} \\\\\\\\ \\n& Pic(F_{x}) \\\\enddiagram$$\\nwhere $\\\\hat{Y_{x}}$ stands for the completion of $Y_{x}$ along $F_x$.\\nBy Grothendieck\\'s Formal Function Theorem [H, Ch.III, Th.11.1] and the\\nfact that $Pic(\\\\hat{Y_{x}}) \\\\to \\\\liminv{n}(Pic(F^{n}_{x}))$ is an\\nisomorphism [H, Ch.II, Ex.9.6], we have that $Pic(Y_{x}) \\\\to\\nPic(\\\\hat{Y_{x}})$ is an injection. Thus it follows that $Ker(f) =\\nKer(g).$ We have from the definition of ${\\\\cal F}$ that the stalk of\\n${\\\\cal F}$ at $x$, ${\\\\cal F}_{x} = Im(Pic^{0}(Y) \\\\to Pic(Y_{x})).$ By\\nour analysis so far we have proved that the natural map ${\\\\cal F}_{x} \\\\to\\nPic(F_{x})$ is an inclusion, and it clearly factors through the the\\nsubgroup $Pic^{0}(F_{x}).$ \\n\\nBy the results of Du Bois [DB] there exists a commutative triangle  \\n$$\\\\diagram H^{1}(F_{x},\\\\C) \\\\rto \\\\drto & H^{1}(F_{x},{\\\\cal O}_{F_{x}}) \\n\\\\dto^{\\\\alpha} \\\\\\\\\\n& \\\\displaystyle{\\\\frac{H^{1}(F_{x},\\\\C)}{F^{1}H^{1}(F_{x},\\\\C)}}\\n\\\\enddiagram$$\\nNote that $Ker(\\\\alpha)$ is a $\\\\C$-vector space.\\nNow $\\\\alpha$ induces a map \\n$$\\\\beta : Pic^{0}(F_{x}) \\\\cong \\\\frac{H^{1}(F_{x},{\\\\cal\\nO})}{H^{1}(F_{x},\\\\Z)} \\\\to J(H^{1}(F_{x},\\\\Z)).$$ \\nThus we have a diagram\\n$$\\\\diagram H^{1}(F_{x},{\\\\cal O}_{F_{x}}) \\\\rto^{\\\\alpha} \\\\dto &\\n\\\\displaystyle{\\\\frac{H^{1}(F_{x},\\\\sC)}{F^{1}H^{1}(F_{x},\\\\sC)}} \\\\dto \\\\\\\\\\nPic^{0}(F_{x}) \\\\rto^{\\\\beta} & J(H^{1}(F_{x},\\\\Z)) \\\\enddiagram$$ \\nSince $H^{1}(F_{x},\\\\Z)$ is a mixed Hodge structure\\nwith weights $0$ and $1$ (by [D2], as $F_{x}$ is a projective variety),\\n$H^{1}(F_{x},\\\\Z)$ injects into    \\n$\\\\displaystyle{\\\\frac{H^{1}(F_{x},\\\\C)}{F^{1}H^{1}(F_{x},\\\\C)}}$.\\nThus it is clear from the above diagram $Ker(\\\\beta) = Ker(\\\\alpha)$ and\\nso $Ker(\\\\beta)$ is also a $\\\\C$-vector\\nspace. Hence the composite ${\\\\cal F}_{x} \\\\to Pic^{0}(F_{x}) \\\\to\\nJ(H^{1}(F_{x},\\\\Z))$ is injective, as ${\\\\cal F}_{x}$ is a compact group, \\nfrom its definition. \\n\\nLet ${\\\\cal F}_{\\\\sZ,x} = Im(H^{1}(Y,\\\\Z) \\\\to H^{1}(F_{x},\\\\Z))$ be the stalk \\nof ${\\\\cal F}_{\\\\sZ}$ at $x.$ Let ${\\\\cal F}_{\\\\sZ,x}^{s}$ be the saturation\\nof ${\\\\cal F}_{\\\\sZ,x}$ in $H^{1}(F_{x},\\\\Z).$ The inclusion  ${\\\\cal\\nF}_{\\\\sZ,x} \\\\to H^{1}(F_{x},\\\\Z)$ induces a natural map with finite kernel    \\n$J({\\\\cal F}_{\\\\sZ,x}) \\\\to J(H^{1}(F_{x},\\\\Z)).$ In fact this map factors\\nas  \\n$$\\\\diagram J({\\\\cal F}_{\\\\sZ,x}) \\\\rto|>>\\\\tip & J({\\\\cal F}^{s}_{\\\\sZ,x})   \\n\\\\rto & J(H^{1}(F_{x},\\\\Z)). \\\\enddiagram$$\\nThe second map is an inclusion and $J({\\\\cal F}^{s}_{\\\\sZ,x})$ is the\\nimage of $J({\\\\cal F}_{\\\\sZ,x})$ in $J(H^{1}(F_{x},\\\\Z)).$ \\n\\nWe thus have a commutative diagram with surjective and injective maps\\nas follows (where we identify $Pic^{0}(Y)$ with $J(H^{1}(Y_{an},\\\\Z)).$    \\n\\n$$\\\\diagram Pic^{0}(Y) \\\\rto|>>\\\\tip \\\\dto|>>\\\\tip & J({\\\\cal F}_{\\\\sZ,x}) \\n\\\\dto|>>\\\\tip \\\\rto & J({\\\\cal F}_{\\\\sZ,x}^{s}) \\\\dlto|<<\\\\ahook \\\\\\\\\\n{\\\\cal F}_{x} \\\\rto|<<\\\\ahook & J(H^{1}(F_{x},\\\\Z)) \\\\enddiagram$$\\n \\nSince it is clear from the diagram that $J({\\\\cal F}^{s}_{\\\\sZ,x})$ and \\n${\\\\cal F}_{x}$ are both the image of $Pic^{0}(Y)$ in\\n$J(H^{1}(F_{x},\\\\Z))$ it follows that $J({\\\\cal F}^{s}_{\\\\sZ,x}) \\\\cong {\\\\cal\\nF}_{x}.$ Therefore there exists a map $J({\\\\cal F}_{\\\\sZ,x}) \\\\to {\\\\cal\\nF}_{x}$ which is an isogeny. \\n\\nWe had proved that the sheaf ${\\\\cal F}_{\\\\sZ}$ was constructible, i.e.,\\nconstant with groups $G_{i}$ over locally closed sets $(U_{i})_{an},$ and\\nthis data gives rise to a flasque resolution of $a_*\\\\cF_{\\\\sZ}$ in the\\nZariski site (by lemma~\\\\ref{const1} and lemma~\\\\ref{resol}). It is then\\nclear that analogous results hold also for the sheaf ${\\\\cal F}_{\\\\sZ}^{s}$\\nwhere ${\\\\cal F}_{\\\\sZ}^{s}$ denotes the saturation of the sheaf ${\\\\cal\\nF}_{\\\\sZ}$ in $R^{1}\\\\pi^{an}_{*}\\\\Z$ (which is a torsion-free sheaf). Thus\\nthe abelian varieties $J({\\\\cal F}^{s}_{\\\\sZ,x})$ are constant quotients of\\n$Pic^{0}(Y)$ over the strata $U_{i},$ hence so are ${\\\\cal F}_{x}.$ This\\nproves that the sheaf ${\\\\cal F}$ is a constructible sheaf on $X$ for the\\nZariski topology, with admissible family $\\\\{X_{i}\\\\},$ and further (by\\nlemma~\\\\ref{resol}) ${\\\\cal F}$ has a flasque resolution similar to\\n$a_*{\\\\cal F}_{\\\\sZ}.$\\n\\nTaking global sections of the flasque resolution of $a_*{\\\\cal\\nF}^{s}_{\\\\sZ}$, we get an exact sequence \\n$$0 \\\\to H^{0}(X_{an},{\\\\cal F}^{s}_{\\\\sZ}) \\\\to \\\\bigoplus_{i}{\\\\cal\\nF}^{s}_{\\\\sZ,x_{i}} \\\\to \\\\bigoplus_{i<j}{\\\\cal F}^{s}_{\\\\sZ,x_{j}}.$$  \\nAlso it is clear from the definitions that\\n$H^{0}(X_{an},{\\\\cal F}^{s}_{\\\\sZ})=H^{0}(X_{an},{\\\\cal F}_{\\\\sZ})^s$.\\nApplying $J$ on all the terms, we obtain a complex \\n$$0 \\\\to J(H^{0}(X_{an},{\\\\cal F}^{s}_{\\\\sZ})) \\\\to \\\\oplus_{i}J({\\\\cal\\nF}^{s}_{\\\\sZ,x_{i}}) \\\\to \\\\oplus_{i<j}J({\\\\cal F}^{s}_{\\\\sZ,x_{j}})$$  \\nThis complex is exact on the left and has   \\nfinite homology in the middle, since $H^{0}(\\\\oplus_{i<j}{\\\\cal\\nF}^{s}_{\\\\sZ,x_{j}})$ is torsion-free. \\nSimilarly taking global sections of the flasque resolution of ${\\\\cal\\nF}$ we get an exact sequence\\n$$0 \\\\to H^{0}(X,{\\\\cal F}) \\\\to \\\\oplus_{i}{\\\\cal F}_{x_{i}} \\\\to\\n\\\\oplus_{i<j}{\\\\cal F}_{x_{j}}.$$ \\n\\nThere exists a commutative diagram \\n$$\\\\diagram & J(H^{0}(X,{\\\\cal F}_{\\\\sZ})^{s}) \\\\ddotted_{\\\\mu} \\\\rto &\\n\\\\oplus_{i}J({\\\\cal \\nF}_{\\\\sZ,x_{i}}^{s}) \\\\rto \\\\ddouble & \\\\oplus_{i<j}J({\\\\cal \\nF}_{\\\\sZ,x_{j}}^{s}) \\\\ddouble \\\\\\\\ \\n0 \\\\rto & H^{0}(X,{\\\\cal F}) \\\\rto & \\\\oplus_{i}{\\\\cal F}_{x_{i}} \\\\rto & \\n\\\\oplus_{i<j}{\\\\cal F}_{x_j} \\\\enddiagram$$\\nwhere the two vertical arrows are isomorphisms. Hence the dotted arrow \\n$\\\\mu$ exists, and is an inclusion with finite cokernel. \\n\\nDefine \\n$$H^{0}(X,{\\\\cal F})^{0} = Im(J(H^{0}(X,{\\\\cal F}_{\\\\sZ})^{s}).$$\\nClearly this is an abelian variety, and there is an isogeny \\n$J(H^{0}(X,{\\\\cal F}_{\\\\sZ})) \\\\to H^{0}(X,{\\\\cal F})^{0}.$ Also, by\\nconstruction, the natural\\nmap $\\\\Pic^0(Y)\\\\to H^0(X,\\\\cF)$ clearly factors through the map\\n\\\\[\\\\Pic^0(Y)=J(H^1(Y_{an},\\\\Z))\\\\to J(H^{0}(X,{\\\\cal F}_{\\\\sZ})).\\\\]\\n\\nThus we have \\nan isogeny $\\\\displaystyle{\\\\frac{J(H^{0}(X_{an},{\\\\cal  \\nF}_{\\\\sZ}))}{Im(Pic^{0}(Y))} \\\\to \\\\frac{H^{0}(X, {\\\\cal\\nF})^{0}}{Im(Pic^{0}(Y))}}.$                                         \\nWe finally note that there exists an isogeny \\n$$\\\\frac{J(H^{0}(X_{an},{\\\\cal F}_{\\\\sZ}))}{Im(Pic^{0}(Y)} \\\\to\\nJ\\\\left(\\\\frac{H^{0}(X_{an},{\\\\cal F}_{\\\\sZ})}{Im(H^{1}(Y_{an},\\\\Z)}\\\\right)$$ \\nsince $J(H^{1}(Y_{an},\\\\Z)) \\\\cong Pic^{0}(Y).$ \\n                                                                       \\nThis finishes the proof that $\\\\displaystyle{\\\\frac{H^{0}(X,{\\\\cal\\nF})^{0}}{Im(Pic^{0}(Y))}}$ and $\\\\displaystyle{J\\\\left  \\n(\\\\frac{H^{0}(X_{an},{\\\\cal\\nF}_{\\\\sZ})}{Im(H^{1}(Y_{an},\\\\Z)}\\\\right)}$ are isogenous. \\n\\\\end{proof}\\n\\nWe can now construct a 1-motive, as follows. Since $X$ is normal, we have\\nthat $\\\\pi_{*}{\\\\cal O}_{Y}= {\\\\cal O}_{X}$, and so we have an exact sequence \\n$$0 \\\\to Pic(X) \\\\to Pic(Y) \\\\to H^{0}(X,R^{1}\\\\pi_{*}{\\\\cal O}^{*}_{Y}).$$  \\nThis induces another exact sequence \\n\\\\[NS(X) \\\\to NS(Y) \\\\to \\\\frac{H^{0}(X,R^{1}\\\\pi_{*}{\\\\cal\\nO}^{*}_{Y})}{Im(Pic^{0}(Y))}.\\\\]\\nWe thus have an {\\\\em injective} map \\n\\\\begin{equation}\\\\label{eqq}\\n\\\\frac{NS(Y)}{Im(NS(X))} \\\\to \\\\frac{H^{0}(X,R^{1}\\\\pi_{*}{\\\\cal\\nO}^{*}_{Y})}{Im(Pic^{0}(Y))}\\\\end{equation} \\n\\n\\\\begin{lemma}\\\\label{lemphi}\\n The map (\\\\ref{eqq}) induces an (injective) map\\n\\\\[\\\\phi:\\\\frac{Im(H^{1}(X,{\\\\cal H}^{1}_{X}) \\\\to H^{2}(Y_{an},\\\\Z))}{Im(NS(X))}\\n\\\\to \\\\frac{\\\\Gamma(X,{\\\\cal F})}{Im(Pic^{0}(Y))}.\\\\]\\n\\\\end{lemma}\\n\\\\begin{proof}\\nUsing the short exact sequence of sheaves (\\\\ref{eq}), we get the following\\ncommutative diagram, whose right column is exact,  \\n\\\\[\\\\diagram \\\\displaystyle{\\\\frac{Im(H^{1}(X,{\\\\cal H}^{1}_{X}) \\\\to\\nH^{2}(Y_{an},\\\\Z))}{Im(NS(X))}} \\\\dto|<<\\\\ahook \\\\rdotted^>>>{\\\\phi} &\\n\\\\displaystyle{\\\\frac{\\\\Gamma(X,{\\\\cal F})}{Im(Pic^{0}(Y))}} \\\\dto \\\\\\\\\\n\\\\displaystyle{\\\\frac{NS(Y)}{Im(NS(X))}} \\\\rto|<<\\\\ahook &\\n\\\\displaystyle{\\\\frac{\\\\Gamma(X,R^{1}\\\\pi_{*}{\\\\cal O}^{*})}{Im(Pic^{0}(Y))}}\\n\\\\dto \\\\\\\\ & \\\\Gamma(X,R^{1}\\\\pi_{*}{\\\\cal H}^{1}_{Y}) \\\\enddiagram\\\\]\\nHere, we claim the dotted arrow $\\\\phi$ exists (and is also injective)\\nbecause the composition\\n\\\\[\\\\frac{Im(H^{1}(X,{\\\\cal H}^{1}_{X}) \\\\to H^{2}(Y_{an},\\\\Z))}{NS(X)} \\\\to\\nH^{0}(X,R^{1}\\\\pi_{*}{\\\\cal H}^{1}_{Y})\\\\]\\nis zero. This is obvious as this map can be described in the following\\nway: given the image in $H^1(Y,\\\\ccH^1_Y)=NS(Y)$  of a Zariski locally\\ntrivial cohomology class $\\\\eta\\\\in H^1(X,\\\\ccH^1_X)$, consider a line bundle \\n$L_{\\\\eta}$ on $Y$ which represents it, then consider the line bundle\\nrestricted to open sets $\\\\pi^{-1}(U) \\\\subset Y,$ \\n$L_{\\\\eta}|_{\\\\pi^{-1}(U)},$ (where $U \\\\subset X$ open) and take the Chern\\nclasses of these restrictions.  These give a global section of\\n$R^{1}\\\\pi_{*}{\\\\cal H}^{1}_{Y}$ which is zero as the line bundle came from\\na locally trivial cohomology class on $X.$  \\n\\\\end{proof}\\n\\nSince $\\\\displaystyle{\\\\frac{\\\\Gamma(X,{\\\\cal F})}{Im(Pic^{0}(Y))}}$ has a\\nsubgroup of finite index which is an abelian variety, $\\\\phi$ determines a\\n1-motive in an obvious way,\\n\\\\[B\\\\to  \\\\frac{\\\\Gamma(X,{\\\\cal F})^0}{Im(Pic^{0}(Y))},\\\\]\\nwhere $B$ is the inverse image under $\\\\phi$ of the abelian variety. \\n\\n\\\\begin{rmk} We do not know if $\\\\Gamma(X,\\\\cF)$ is itself an abelian\\nvariety, \\\\ie if $\\\\Gamma(X,\\\\cF)^0=\\\\Gamma(X,\\\\cF)$. \\n\\\\end{rmk}\\n\\n\\\\subsection{Comparison of the two 1-motives}\\n\\nWe now finish the proof of the theorem, by comparing the 1-motive\\nconstructed above using $\\\\phi$ with that constructed earlier, using the\\nextension class map $\\\\psi$ for the mixed Hodge structure on\\n$H^1(X,\\\\cHH^1_X)$.  \\n\\nRecall that $\\\\{X_i\\\\}_{i\\\\in I}$ is the chosen admissible family of subsets\\nfor $R^1\\\\pi^{an}_*\\\\Z$, and hence for $\\\\cF_{\\\\sZ}$ and $\\\\cF$ as well; recall\\nalso the corresponding (irreducible, non-singular) locally closed strata\\n$\\\\{U_i\\\\}_{i\\\\in I}$. Also recall the choice of points $x_i\\\\in U_i$, and\\n$F_i=\\\\pi^{-1}(x_i)$, $F=\\\\cup_{i\\\\in I}F_i$.\\n\\nSuitably blow up $Y$ to get $f:\\\\tilde{Y} \\\\to Y$, with $\\\\tilde{Y}$\\nnon-singular projective, so that the reduced strict transform of $F$ is a\\n{\\\\em smooth} possibly disconnected subvariety $\\\\tilde{F}.$ Note that there\\nexists the following diagram.\\n$$\\\\diagram \\\\tilde{F} \\\\rto|<<\\\\ahook \\\\dto & \\\\tilde{Y} \\\\dto^{f} \\\\\\\\\\nF \\\\rto|<<\\\\ahook & Y \\\\enddiagram$$\\n\\nNow consider the following commutative diagram which is a diagram in the\\ncategory of mixed Hodge structures \\n$$\\\\hspace{-2cm}\\\\diagram 0 \\\\rto &\\n\\\\displaystyle{\\\\frac{H^{0}(X_{an},{\\\\cal\\nF}_{\\\\sZ})^{s}}{Im(H^{1}(Y_{an},\\\\Z))}}\\\\rto \\\\dto & H^{1}(X,{\\\\cal\\nH}^{1}_{X}) \\\\rto \\\\dto & Im(H^{1}(X,{\\\\cal H}^{1}_{X}) \\\\to\\nH^{2}(Y_{an},\\\\Z)) \\\\rto \\\\dto & 0 \\\\\\\\ 0 \\\\rto &\\n\\\\displaystyle{\\\\frac{H^{1}(F_{an},\\\\Z)}{Im(H^{1}(Y_{an},\\\\Z))}} \\\\rto \\\\dto &\\nH^{2}(Y_{an},F_{an},\\\\Z) \\\\rto \\\\dto & Im(H^{2}(Y_{an},F_{an},\\\\Z) \\\\to\\nH^{2}(Y_{an},\\\\Z)) \\\\dto \\\\rto & 0 \\\\\\\\\\n0 \\\\rto &\\n\\\\displaystyle{\\\\frac{H^{1}(\\\\tilde{F_{an}},\\\\Z)}{Im(H^{1}(\\\\tilde{Y_{an}}  \\n,\\\\Z))}} \\\\rto & H^{2}(\\\\tilde{Y_{an}},\\\\tilde{F_{an}},\\\\Z) \\\\rto & \\nIm(H^{2}(\\\\tilde{Y_{an}},\\\\tilde{F_{an}},\\\\Z) \\\\to H^{2}(\\\\tilde{Y_{an}},\\\\Z))\\n\\\\rto & 0 \\\\enddiagram$$\\n\\nLet $Im(H^{1}(\\\\tilde{Y_{an}},\\\\Z))^{s}$ be the saturation of\\n$Im(H^{1}(\\\\tilde{Y_{an}},\\\\Z))$ in $H^{1}(\\\\tilde{F_{an}},\\\\Z).$ Then,\\narguing as before, \\n$$Im(NS(X)) \\\\cap  \\n\\\\frac{H^{1}(\\\\tilde{F_{an}},\\\\Z)}{Im(H^{1}(\\\\tilde{Y_{an}},\\\\Z))} =\\n\\\\frac{Im(H^{1}(\\\\tilde{Y_{an}},\\\\Z))^{s}}{Im(H^{1}(\\\\tilde{Y_{an}},\\\\Z))}.$$\\nSo we have a short exact sequence of mixed Hodge structures \\n$$\\\\diagram 0 \\\\rto &\\n\\\\displaystyle{\\\\frac{H^{1}(\\\\tilde{F_{an}},\\\\Z)}{Im(H^{1}(\\\\tilde{Y_{an}}\\n,\\\\Z))^{s}}} \\\\rto & \\n\\\\displaystyle{\\\\frac{H^{2}(\\\\tilde{Y_{an}},\\\\tilde{F_{an}},\\\\Z)}{Im(NS(X))}} \\n\\\\rto & \\n\\\\displaystyle{\\\\frac{Im(H^{2}(\\\\tilde{Y_{an}},\\\\tilde{F_{an}},\\\\Z) \\n\\\\to H^{2}(\\\\tilde{Y_{an}},\\\\Z))}{Im(NS(X))}} \\\\rto & 0 \\\\enddiagram$$ \\nand a commutative diagram \\n$$\\\\diagram 0 \\\\rto &\\n\\\\displaystyle{\\\\frac{H^{0}(X_{an},{\\\\cal F}_{\\\\sZ})^{s}}\\n{Im(H^{1}(Y_{an},\\\\Z))^{s}}} \\\\rto \\\\dto &\\n\\\\displaystyle{\\\\frac{H^{1}(X,{\\\\cal H}_{X}^{1})}{NS(X)}} \\\\rto \\\\dto &\\n\\\\displaystyle{\\\\frac{Im(H^{1}(X,{\\\\cal H}^{1}_{X}) \\n\\\\to H^{2}(Y_{an},\\\\Z))}{Im(NS(X))}} \\\\rto \\\\dto & 0 \\\\\\\\\\n0 \\\\rto & \\n\\\\displaystyle{\\\\frac{H^{1}(\\\\tilde{F_{an}},\\\\Z)}{Im(H^{1}(\\\\tilde{Y_{an}}\\n,\\\\Z))^{s}}} \\\\rto &\\n\\\\displaystyle{\\\\frac{H^{2}(\\\\tilde{Y_{an}},\\\\tilde{F_{an}},\\\\Z)}{Im(NS(X))}} \\n\\\\rto & \\\\displaystyle{\\\\frac{Im(H^{2}(\\\\tilde{Y_{an}},\\\\tilde{F_{an}},\\\\Z)\\n\\\\to H^{2}(\\\\tilde{Y_{an}},\\\\Z))}{Im(NS(X))}} \\\\rto & 0 \\\\enddiagram$$     \\nThe following diagram commutes by functoriality of the extension class \\nmaps. \\n\\n$$\\\\diagram Im(H^{1}(X,{\\\\cal H}_{X}^{1}) \\\\to H^{2}(Y_{an},\\\\Z)) \\n\\\\rto^{\\\\;\\\\;\\\\;\\\\psi} \\\\dto &\\n\\\\displaystyle{J\\\\left(\\\\frac{H^{0}(X_{an},{\\\\cal \\nF}_{\\\\sZ})^{s}}{Im(H^{1}(Y_{an},\\\\Z))}\\\\right)} \\\\dto \\\\\\\\ \\nIm(H^{2}(\\\\tilde{Y_{an}},\\\\tilde{F_{an}},\\\\Z) \\\\to H^{2}(\\\\tilde{Y_{an}},\\\\Z))\\n\\\\rto & \\\\displaystyle{J\\\\left(\\\\frac{H^{1} \\n(\\\\tilde{F_{an}},\\\\Z)}{Im(H^{1}(\\\\tilde{Y_{an}},\\\\Z))^{s}}\\\\right)} \\n\\\\enddiagram$$\\nwhere \\n$$J\\\\left(\\\\frac{H^{0}(X_{an},{\\\\cal\\nF}_{\\\\sZ})^{s}}{Im(H^{1}(Y_{an},\\\\Z))^{s}}  \\n\\\\right) \\\\to   \\nJ\\\\left(\\\\frac{H^{1} \\n(\\\\tilde{F_{an}},\\\\Z)}{Im(H^{1}(\\\\tilde{Y_{an}},\\\\Z))^{s}}\\\\right)$$\\nis induced from the map on the underlying Hodge structures.\\n\\nLet $$\\\\psi^{\\'}:Im(H^{1}(X,{\\\\cal H}_{X}^{1}) \\\\to H^{2}(Y_{an},\\\\Z)) \\\\to\\nJ\\\\left(\\\\frac{H^{1}(\\\\tilde{F_{an}},\\\\Z)}{Im(H^{1}(\\\\tilde{Y_{an}},\\\\Z))} \\n\\\\right)$$ \\nbe the composite in the diagram above.\\n\\nWe also have a natural \\\\lq\\\\lq sheaf theoretic\\\\rq\\\\rq map \\n$$\\\\phi^{\\'}: \\\\frac{Im(H^{1}(X,{\\\\cal H}^{1}_{X}) \\\\to\\nH^{2}(Y_{an},\\\\Z))}{NS(X)} \\\\to \\nJ\\\\left(\\\\frac{H^{1}(\\\\tilde{F_{an}},\\\\Z)}{Im(H^{1}(\\\\tilde{Y_{an}},\\\\Z))}\\n\\\\right)$$ \\nwhich is defined as follows. Let $\\\\eta \\\\in Im(H^{1}(X,{\\\\cal H}^{1}_{X})\\n\\\\to H^{2}(Y_{an},\\\\Z)).$ Consider a line bundle $L$ on $Y$ such that\\n$c_{1}(L)= \\\\eta.$ Then, $L|_{F}$ (where $F = \\\\cup_{i} F_{i}$) gives an \\nelement of $Pic^{0}(F)$ and hence an element of $J(H^{1}(F,\\\\Z))$ via the\\nmapping $Pic^{0}(F) \\\\to J(H^{1}(F,\\\\Z)).$ Under this mapping $NS(X)$\\ngoes to zero, hence we get a well defined mapping\\n$$\\\\frac{Im(H^{1}(X,{\\\\cal H}^{1}_{X}) \\\\to H^{2}(Y_{an},\\\\Z))}{NS(X)} \\n\\\\to J\\\\left(\\\\frac{H^{1}(F_{an},\\\\Z)}{Im(H^{1}(Y_{an},\\\\Z))}\\\\right).$$ \\nNow compose with the map (induced by the morphism of the underlying\\nHodge structures)\\n$$J\\\\left(\\\\frac{H^{1}(F_{an},\\\\Z)}{Im(H^{1}(Y_{an},\\\\Z))}\\\\right) \\\\to\\nJ\\\\left(\\\\frac{H^{1}(\\\\tilde{F_{an}},\\\\Z)}{Im(H^{1}(\\\\tilde{Y_{an}}, \\n\\\\Z))}\\\\right)$$  \\nto get\\n$$\\\\phi^{\\'}: \\\\frac{Im(H^{1}(X,{\\\\cal H}^{1}_{X}) \\\\to\\nH^{2}(Y_{an},\\\\Z))}{NS(X)} \\\\to   \\nJ\\\\left(\\\\frac{H^{1}(\\\\tilde{F_{an}},\\\\Z)}{Im(H^{1}(\\\\tilde{Y_{an}},\\\\Z))}\\n\\\\right).$$\\n\\nIt is easy to see the following diagram commutes\\n$$\\\\diagram \\\\displaystyle{\\\\frac{Im(H^{1}(X,{\\\\cal H}^1_X) \\\\to \\nH^2(Y_{an},\\\\Z))}{Im(NS(X))}} \\\\rto^{\\\\quad\\\\quad\\\\phi} \\\\drto^{\\\\phi^{\\'}} &\\n\\\\displaystyle{\\\\frac{H^0(X,{\\\\cal F})}{Im(Pic^0(Y))}} \\\\dto \\\\\\\\\\n& \\\\displaystyle{J\\\\left(   \\n\\\\frac{H^1(\\\\tilde{F_{an}},\\\\Z)}{Im(H^1(\\\\tilde{Y_{an}},\\\\Z))}\\\\right)}\\n\\\\enddiagram$$\\nwhere the map \\n$\\\\displaystyle{\\\\frac{H^{0}(X,{\\\\cal F})}{Im(Pic^{0}(Y))}} \\\\to \\n\\\\displaystyle{J\\\\left( \\n\\\\frac{H^{1}(\\\\tilde{F_{an}},\\\\Z)}{Im(H^{1}(\\\\tilde{Y_{an}},\\\\Z))}\\\\right)}$ \\nis the composition \\n$$\\\\frac{H^{0}(X,{\\\\cal F})}{Im(Pic^{0}(Y))} \\\\to\\n\\\\frac{Pic^{0}(F)}{Im(Pic^{0}(Y))} \\\\to \\n\\\\frac{Pic^{0}(\\\\tilde{F})}{Im(Pic^{0}(\\\\tilde{Y}))} \\\\to  \\nJ\\\\left(\\\\frac{H^{1}(\\\\tilde{F_{an}},\\\\Z)}{Im(H^{1}(\\\\tilde{Y_{an}} \\n,\\\\Z))}\\\\right).$$\\n\\nWe now note that the map $H^{0}(X_{an},{\\\\cal F}_{\\\\sZ})^{s} \\\\to\\nH^{1}(F_{an},\\\\Z)$ is an injective map. Since $W_{0}H^{1}(F_{an},\\\\Q) =\\nKer(H^{1}(F_{an},\\\\Q) \\\\to H^{1}(\\\\tilde{F_{an}},\\\\Q))$ and\\n$H^{0}(X_{an},{\\\\cal F}_{\\\\sZ})^{s}$ is pure of weight one, it follows that \\n$$(Ker(H^{1}(F_{an},\\\\Q) \\\\to H^{1}(\\\\tilde{F_{an}},\\\\Q)))\\n\\\\cap Im(H^{0}(X_{an},{\\\\cal F}_{\\\\sZ}) \\\\to H^{1}(F_{an},\\\\Q)) = 0.$$  \\nHence the composite $$H^{0}(X_{an},{\\\\cal F}_{\\\\sZ}) \\\\to\\nH^{1}(F_{an},\\\\Z) \\\\to\\nH^{1}(\\\\tilde{F_{an}},\\\\Z)$$ has finite kernel, and is hence injective (as \\n${\\\\cal F}_{\\\\sZ} \\\\subset R^{1}\\\\pi^{an}_{*}\\\\Z$ is torsion-free). \\nIt follows that\\n$$J\\\\left(\\\\frac{H^{0}(X_{an},{\\\\cal\\nF}_{\\\\sZ})^{s}}{Im(H^{1}(Y_{an},\\\\Z))^{s}}\\\\right) \\\\to \\nJ\\\\left(\\\\frac{H^{1}(\\\\tilde{F_{an}},\\\\Z)}{Im(H^{1}(\\\\tilde{Y_{an}},\\\\Z))^{s}}\\n\\\\right), \\\\hspace{2mm}(+++)$$\\nhas finite kernel.\\n \\nWe have the following diagram which shows all the maps we have \\nconstructed so far (the outer border is not yet known to commute).  \\n$$\\\\diagram\\n\\\\displaystyle{J\\\\left(\\\\frac{H^0(X_{an},{\\\\cal F}_{\\\\sZ})^s}\\n{Im(H^{1}(Y_{an},\\\\Z))^s} \\\\right)} \\\\ddto & &\\n\\\\displaystyle{\\n\\\\frac{Im(H^1(X,{\\\\cal H}^{1}_{X}) \\\\to H^{2}(Y_{an},\\\\Z))}{Im(NS(X))}}\\n\\\\llto_{\\\\psi} \\\\dto^{\\\\phi}|<<\\\\ahook \\\\\\\\ \\n& \\\\displaystyle{\\\\frac{J(H^{0}(X_{an},{\\\\cal F}_{\\\\sZ})^{s})}\\n{Im(Pic^{0}(Y))}} \\\\rto|<<\\\\ahook \\\\dto &\\n\\\\displaystyle{\\\\frac{H^{0}(X,{\\\\cal F})}{Im(Pic^{0}(Y))}}\\n\\\\dto \\\\\\\\ \\n\\\\displaystyle{J\\\\left(\\\\frac{H^1(\\\\tilde{F_{an}},\\\\Z)}\\n{Im(H^{1}(\\\\tilde{Y_{an}},\\\\Z))^s}\\\\right)} &\\n\\\\displaystyle{\\\\frac{J(H^1(\\\\tilde{F_{an}},\\\\Z))}{Im(Pic^0(\\\\tilde{Y}))}}\\n\\\\lto &\\n\\\\displaystyle{\\n\\\\frac{Pic^0(\\\\tilde{F})}\\n{Im(Pic^0(\\\\tilde{Y}))}} \\\\lto \\\\enddiagram$$\\n\\nWe will prove that the following subdiagram commutes \\n$$\\\\diagram \\n\\\\displaystyle{J\\\\left(\\\\frac{H^0(X_{an},{\\\\cal\\nF}_{\\\\sZ})^{s}}{Im(H^{1}(Y_{an},\\\\Z))^{s}}\\\\right)} \\\\dto &\\n\\\\displaystyle{\\\\frac{Im(H^{1}(X,{\\\\cal H}^{1}_{X}) \\\\to\\nH^{2}(Y_{an},\\\\Z))}{Im(NS(X))}} \\\\lto_{\\\\psi\\\\quad\\\\quad} \\\\dto^\\\\phi|<<\\\\ahook \\\\\\\\\\n\\\\displaystyle{J\\\\left(\\\\frac{H^{1}(\\\\tilde{F_{an}},\\\\Z)}\\n{Im(H^{1}(\\\\tilde{Y_{an}},\\\\Z))^s}\\\\right)} &\\n\\\\displaystyle{\\\\frac{H^0(X,{\\\\cal F})}{Im(Pic^{0}(Y))}} \\\\lto\\n\\\\enddiagram(*)$$ \\nNote that the composite map \\n$$\\\\frac{Im(H^{1}(X,{\\\\cal H}^{1}_{X}) \\\\to H^{2}(Y_{an},\\\\Z)}{Im(NS(Y))}\\n\\\\to \\\\frac{H^{0}(X,{\\\\cal F})}{Im(Pic^{0}(Y))} \\\\to  \\nJ\\\\left(\\\\frac{H^{1}(\\\\tilde{F_{an}},\\\\Z)}{Im(H^{1}(\\\\tilde{Y_{an}},\\\\Z))}\\\\right)  \\n$$ is the previously defined\\nmap $\\\\phi^{\\'},$ and the map \\n$$\\\\frac{Im(H^{1}(X,{\\\\cal H}^{1}_{X}) \\\\to H^{2}(Y_{an},\\\\Z)}{Im(NS(Y))}\\n\\\\to J\\\\left(\\\\frac{H^{0}(X_{an},{\\\\cal \\nF}_{\\\\sZ})^{s}}{Im(H^{1}(Y_{an},\\\\Z))^{s}}\\\\right) \\\\to\\nJ\\\\left(\\\\frac{H^{1}(\\\\tilde{F_{an}},\\\\Z)} \\n{Im(H^{1}(\\\\tilde{Y_{an}},\\\\Z))}\\\\right)$$  \\nis our previously defined map $\\\\psi^{\\'}.$ \\nThus the commutativity of the above diagram is equivalent to proving\\n$$\\\\psi^{\\'} = \\\\phi^{\\'}.$$\\n\\nAssuming this diagram commutes we finish the proof of Theorem~\\\\ref{(1,1)}\\nas follows. We claim that the composite map \\n$$\\\\frac{Im(H^{1}(X,{\\\\cal H}^{1}_{X}) \\\\to\\nH^{2}(Y_{an},\\\\Z))}{Im(NS(X))} \\\\to J\\\\left(\\\\frac{H^{1}(\\\\tilde{F_{an}},\\\\Z)}\\n{Im(H^{1}(\\\\tilde{Y_{an}},\\\\Z))^{s}}\\\\right)$$ \\nhas finite kernel, as $\\\\phi$ is injective and the map \\n$$\\\\frac{H^{0}(X,{\\\\cal F})}{Im(Pic^{0}(Y))} \\\\to\\nJ\\\\left(\\\\frac{H^{1}(\\\\tilde{F_{an}},\\\\Z)}\\n{Im(H^{1}(\\\\tilde{Y_{an}},\\\\Z))^s}\\\\right)$$ \\nhas finite kernel (combining lemma~\\\\ref{compare} with the fact that \\nthe map in $(+++)$ above has finite kernel). \\nThus, $\\\\psi$ has finite kernel. \\nNow recall the map $$\\\\psi_{1}:\\n\\\\Z^{r} \\\\cong \\\\frac{A}{A_{tors}} \\\\to J(M),$$ \\nwhere $A = \\\\displaystyle{\\\\frac{Im(H^{1}(X,{\\\\cal H}^{1}_{X}) \\\\to\\nH^{2}(Y_{an},\\\\Z))}{Im(NS(X))}}.$ It follows immediately that $\\\\psi_{1}$ has\\nfinite kernel. Since $\\\\displaystyle{\\\\frac{A}{A_{tors}}}$ is a free abelian group, it\\nfollows that $\\\\psi_{1}$ is injective. This is equivalent to proving our\\nmain result, Theorem~\\\\ref{(1,1)}, as has been remarked before.\\n\\nWe now finish the final part of the proof by showing the commutativity\\nof the diagram$~(*).$ Let $Z$ be a smooth projective variety over $\\\\C$\\nand $W \\\\subset Z$ be a smooth subvariety. Let $\\\\eta \\\\in H^{2}(Z_{an},\\\\Z)$\\nbe an algebraic class (i.e., let $\\\\eta \\\\in NS(Z)$), such that $\\\\eta\\n\\\\mapsto 0 \\\\in H^{2}(W_{an},\\\\Z).$ Then, $\\\\eta$ gives rise to the following\\npullback diagram \\n$$\\\\hspace{-2cm} \\\\diagram 0 \\\\rto &\\n\\\\displaystyle{\\\\frac{H^{1}(W_{an},\\\\Z)}{H^{1}(Z_{an},\\\\Z)}}\\n\\\\rto & H^{2}(Z_{an},W_{an},\\\\Z) \\\\rto & Ker(H^{2}(Z_{an},\\\\Z) \\\\to\\nH^{2}(W_{an},\\\\Z)) \\\\rto & 0 \\\\\\\\ \\n0 \\\\rto & \\\\displaystyle{\\\\frac{H^{1}(W_{an},\\\\Z)}{H^{1}(Z_{an},\\\\Z)}} \\\\rto\\n\\\\udouble & B \\\\rto \\\\uto & \\\\Z[\\\\eta] \\\\rto \\\\uto & 0 \\\\enddiagram$$ \\nThus we have an extension class map \\n$$\\\\diagram \\\\Z \\\\cong \\\\Z[\\\\eta] \\\\rto^{\\\\psi^{\\'\\'}\\\\quad\\\\quad} &\\n\\\\displaystyle{J\\\\left(\\\\frac{H^{1}(W_{an},\\\\Z)}{H^{1}(Z_{an},\\\\Z)}\\\\right)}.\\n\\\\enddiagram$$ \\nAgain given $\\\\eta$ as above consider $L_{\\\\eta},$ a line bundle on $Z$\\nwhich has Chern class $\\\\eta.$ Restrict this line bundle on $W$ to get\\n$L_{\\\\eta}|_{W} \\\\in Pic^{0}(W_{an}) \\\\cong J(H^{1}(W_{an},\\\\Z)).$ This gives\\nus a well-defined mapping \\n$$\\\\diagram \\\\Z \\\\cong \\\\Z[\\\\eta] \\\\rto^{\\\\phi^{\\'\\'}\\\\quad\\\\quad} &\\n\\\\displaystyle{J\\\\left(\\\\frac{H^{1}(W_{an},\\\\Z)}{H^{1}(Z_{an},\\\\Z)}\\\\right)}. \\n\\\\enddiagram$$    \\nWe now have the following lemma. \\n\\n\\\\begin{lemma} \\\\label{abstract} With the above notation $\\\\psi^{\\'\\'} =\\n\\\\phi{\\'\\'},$ i.e., the extension class map and the restriction map\\ncorresponding to the class\\n$\\\\eta$ are the same.\\n\\\\end{lemma}\\n\\n\\\\begin{proof} Consider the following diagram with exact rows and columns \\n\\n$$\\\\hspace{-1cm}\\\\diagram \\n\\\\rto & H^{0}(W_{an},\\\\Z) \\\\rto \\\\dto & H^{1}(Z_{an},W_{an},\\\\Z) \\\\rto \\\\dto &\\nH^{1}(Z_{an},\\\\Z) \\\\rto \\\\dto & H^{1}(W_{an},\\\\Z) \\\\rto \\\\dto & \\\\\\\\ \\n\\\\rto & \\\\displaystyle{\\\\frac{H^{0}(W_{an},\\\\C)}{F^{1}H^{0}(W_{an},\\\\C)}}\\n\\\\rto \\\\dto & \\\\displaystyle{\\\\frac{H^{1}(Z_{an},W_{an},\\\\C)}{F^{1} \\nH^{1}(Z_{an},W_{an},\\\\C)}} \\\\rto \\\\dto &\\n\\\\displaystyle{\\\\frac{H^{1}(Z_{an},\\\\C)}{F^{1}H^{1}(Z_{an},\\\\C)}} \\\\rto\\n\\\\dto &\\n\\\\displaystyle{\\\\frac{H^{1}(W_{an},\\\\C)}{F^{1}H^{1}(W_{an},\\\\C)}} \\\\rto\\n\\\\dto & \\\\\\\\ \\n\\\\rto & H^{0}(W_{an},{\\\\cal O}_{W_{an}}^{*}) \\\\rto \\\\dto & Pic(Z_{an},W_{an})  \\n\\\\rto \\\\dto & Pic(Z_{an}) \\\\rto \\\\dto & Pic(W_{an}) \\\\rto \\\\dto & \\\\\\\\ \\n\\\\rto & H^{1}(W_{an},\\\\Z) \\\\rto \\\\dto & H^{2}(Z_{an},W_{an},\\\\Z) \\\\rto \\\\dto &\\nH^{2}(Z_{an},\\\\Z) \\\\rto \\\\dto & H^{2}(W_{an},\\\\Z) \\\\rto \\\\dto & \\\\\\\\ \\n\\\\rto & \\\\displaystyle{\\\\frac{H^{1}(W_{an},\\\\C)}{F^{1}H^{1}(W_{an},\\\\C)}}\\n\\\\rto \\\\dto & \\\\displaystyle{\\\\frac{H^{2}(Z_{an},W_{an},\\\\C)}{F^{1} \\nH^{2}(Z_{an},W_{an},\\\\C)}} \\\\rto \\\\dto &\\n\\\\displaystyle{\\\\frac{H^{2}(Z_{an},\\\\C)}{F^{1}H^{2}(Z_{an},\\\\C)}} \\\\rto\\n\\\\dto & \\n\\\\displaystyle{\\\\frac{H^{2}(W_{an},\\\\C)}{F^{1}H^{2}(W_{an},\\\\C)}} \\\\rto\\n\\\\dto & \\\\\\\\\\n& & & & \\\\enddiagram$$  \\n\\nThe above diagram comes from the following $9$-diagram in the category\\nof sheaves (where the bottom row defines ${\\\\cal O}_{Z_{an}}(-W_{an})^{*},$ \\nand $j:Z_{an}-W_{an} \\\\hookrightarrow Z_{an}$ is the inclusion).\\n$$\\\\diagram  & 0  \\\\dto & 0 \\\\dto & 0 \\\\dto \\\\\\\\\\n0 \\\\rto & j_{!}\\\\Z_{Z_{an}-W_{an}} \\\\rto \\\\dto & \\\\Z_{Z_{an}} \\\\rto \\\\dto &\\n\\\\Z_{W_{an}} \\\\rto \\\\dto & 0 \\\\\\\\ \\n0 \\\\rto & {\\\\cal O}_{Z_{an}}(-W_{an}) \\\\rto \\\\dto & {\\\\cal O}_{Z_{an}} \\\\rto\\n\\\\dto & {\\\\cal O}_{W_{an}} \\\\rto \\\\dto & 0 \\\\\\\\  \\n0 \\\\rto & {\\\\cal O}_{Z_{an}}(-W_{an})^{*} \\\\rto \\\\dto & {\\\\cal O}_{Z_{an}}^{*}  \\n\\\\rto \\\\dto & {\\\\cal O}_{W_{an}}^{*} \\\\rto \\\\dto & 0 \\\\\\\\\\n& 0 & 0 & 0 \\\\enddiagram$$\\n\\nLet $\\\\eta \\\\in H^{2}(Z_{an},\\\\Z)$ such that $\\\\eta \\\\mapsto 0$ both in\\n$H^{2}(W_{an},\\\\Z)$ and  \\n$\\\\displaystyle{\\\\frac{H^{2}(Z_{an},\\\\C)}{F^{1}H^{2}(Z_{an},\\\\C)}}$ (i.e.,  \\n$\\\\eta \\\\in NS(Z)$). By a diagram chase as before we get elements\\n$\\\\delta_{1}$ and $\\\\delta_{2}$ in the group\\n$\\\\displaystyle{\\\\frac{H^{1}(W_{an},\\\\C)}{F^{1}H^{1}(W_{an},\\\\C)}}.$ Both\\n$\\\\delta_{1}$ and $\\\\delta_{2}$ are well-defined in the quotient group \\n$\\\\displaystyle{\\\\frac{H^{1}(W_{an},\\\\C)}{F^{1} \\nH^{1}(W_{an},\\\\C)}/\\\\left(Im(H^{1}(W_{an},\\\\Z)\\n+ Im\\\\left(\\\\frac{H^{1}(Z_{an},\\\\C)}{F^{1}\\nH^{1}(Z_{an},\\\\C)}\\\\right)\\\\right)}.$ \\n\\nNow note that  \\n$$\\\\frac{H^{1}(W_{an},\\\\C)}{F^{1}\\nH^{1}(W_{an},\\\\C)}/\\\\left(Im(H^{1}(W_{an},\\\\Z) +\\nIm\\\\left(\\\\frac{H^{1}(Z_{an},\\\\C)}{F^{1}H^{1}(Z_{an},\\\\C)}\\\\right)\\\\right)\\n\\\\cong J\\\\left(\\\\frac{H^{1}(W_{an},\\\\Z)}{H^{1}(Z_{an},\\\\Z)}\\\\right).$$ Hence\\nwe get 2 maps $\\\\eta \\\\mapsto \\\\bar{\\\\delta_{1}}$ and $\\\\eta \\\\mapsto\\n\\\\bar{\\\\delta_{2}}$ from  \\n$$\\\\Z \\\\cong \\\\Z[\\\\eta] \\\\to \\nJ\\\\left(\\\\frac{H^{1}(W_{an},\\\\Z)}{H^{1}(Z_{an},\\\\Z)}\\\\right)$$ \\nwhere $\\\\bar{\\\\delta}$ denotes the class of $\\\\delta$ in the quotient  \\n$\\\\displaystyle{J\\\\left( \\n\\\\frac{H^{1}(W_{an},\\\\Z)}{H^{1}(Z_{an},\\\\Z)}\\\\right)}.$\\n\\nWe claim that these two maps are nothing but our previously defined\\nmaps ${\\\\phi}^{\\'\\'}$ and ${\\\\psi}^{\\'\\'}$ respectively. It is clear that the \\nmap $\\\\eta \\\\mapsto \\\\bar{\\\\delta_{2}}$ is equal to $\\\\phi^{\\'\\'}(\\\\eta).$ This is\\nbecause we got $\\\\bar{\\\\delta_{2}}$ by first taking a lift of $\\\\eta,$ say \\n$\\\\beta_{2}$ in $Pic(Z_{an}),$ then restricting to $Pic(W_{an})$ to get \\n$\\\\gamma_{2}$ and finally taking the class $\\\\bar{\\\\delta_{2}} \\\\in \\n\\\\displaystyle{J\\\\left(\\\\frac{H^{1}(W_{an},\\\\Z)}{H^{1}(Z_{an},\\\\Z)}\\\\right)}.$\\nThis is exactly how $\\\\phi^{\\'\\'}(\\\\eta)$ was defined, so $\\\\bar{\\\\delta_{2}}\\n= \\\\phi^{\\'\\'}(\\\\eta).$ It is also clear that $\\\\bar{\\\\delta_{1}} = \\n\\\\psi^{\\'\\'}(\\\\eta)$ as the extension class map is defined exactly the same \\nway as the map $\\\\eta \\\\mapsto \\\\bar{\\\\delta_{1}}.$  Now by \\nlemma~\\\\ref{[PS]}, we have that $\\\\bar{\\\\delta_{1}} = \\\\bar{\\\\delta_{2}}.$  \\nThis implies that $\\\\phi^{\\'\\'} = \\\\psi^{\\'\\'}.$ \\n\\\\end{proof}\\n\\n\\\\begin{rmk} In a similar vein, using lemma~\\\\ref{[PS]}, one can show that\\nthe cycle class map with values in Deligne-Beilinson cohomology restricts\\nto the Abel-Jacobi mapping, on cycles which are homologically trivial.\\nThis is essentially the argument given in [EV], though the need to appeal\\nto lemma~\\\\ref{[PS]} is not brought out explicitly there. \\n\\\\end{rmk}\\n\\nLet $Z= \\\\tilde{Y}$ and $W= \\\\tilde{F}$ in lemma~\\\\ref{abstract}.  \\nLet $\\\\eta \\\\in Im(H^{1}(X,{\\\\cal H}^{1}_{X}) \\\\to H^{2}(Y_{an},\\\\Z)),$ \\nand let $\\\\eta \\\\mapsto \\\\tilde{\\\\eta} \\\\in H^{2}(\\\\tilde{Y_{an}},\\\\Z).$\\nThen, $\\\\tilde{\\\\eta}$ satifies the conditions of lemma~\\\\ref{abstract},\\ni.e., $\\\\tilde{\\\\eta} \\\\in NS(\\\\tilde{Y})$ and $\\\\tilde{\\\\eta} \\\\mapsto 0 \\\\in \\nH^{2}(\\\\tilde{F_{an}},\\\\Z).$ Clearly, \\n$$\\\\psi^{\\'}(\\\\eta) = \\\\psi^{\\'\\'}(\\\\tilde{\\\\eta}),$$ \\nand\\n$$\\\\phi^{\\'}(\\\\eta) = \\\\phi^{\\'\\'}(\\\\tilde{\\\\eta}).$$ \\nHence,\\n$$\\\\psi^{\\'} = \\\\phi^{\\'}$$ \\nwhich proves the commutativity of diagram$~(*).$\\nThis finishes the proof of our main result, Theorem~\\\\ref{(1,1)}. \\n\\n\\n%\\\\input{lef2}\\n\\\\section{An example}\\nIn this section we give an example of an integral projective variety $X$\\nover $\\\\C$ which is not normal, for which we have a strict inclusion\\n\\\\[NS(X)\\\\propsubset \\\\{\\\\alpha\\\\in H^2(X,\\\\Z)\\\\mid\\\\mbox{ $\\\\alpha$ is Zariski\\nlocally trivial and $\\\\alpha_{\\\\sC}\\\\in F^1H^2(X,\\\\Z)$}\\\\}.\\\\]\\nOur variety will have the property that its normalization $Y$ is\\nnon-singular, and the normalization map $\\\\pi:Y\\\\to X$ is bijective. Then\\n$H^2(X,\\\\Z)\\\\cong H^2(Y,\\\\Z)$ as mixed Hodge structures, and the subspaces of\\nZariski locally trivial classes correspond. Hence the desired property of\\n$X$ is equivalent to the strictness of the first inclusion\\n\\\\[NS(X)\\\\propsubset NS(Y)\\\\subset H^2(Y,\\\\Z).\\\\]\\n\\nWe will make use of a variant of a construction in [Ha], III, Ex. 5.9 (see\\nalso [Ha], II, Ex. 5.16b). If $V$ is a non-singular variety over $\\\\C$,\\nthen following [Ha], an {\\\\it infinitesimal extension} of $V$ by an\\ninvertible $\\\\cO_V$-module $\\\\ccL$ is a scheme $W$ with $W_{red}=V$, such\\nthat the nilradical $\\\\cI$ of $\\\\cO_W$ has square zero (so that it is an\\n$\\\\cO_V$-module), and there is an $\\\\cO_V$-isomorphism $\\\\cI\\\\cong \\\\ccL$. In\\nother words, there is an exact sequence of sheaves of $\\\\cO_W$-modules\\n\\\\[0\\\\to \\\\ccL\\\\to \\\\cO_W\\\\to \\\\cO_V\\\\to 0.\\\\]\\nThere is a corresponding exact sequence of sheaves\\n\\\\[0\\\\to \\\\ccL\\\\to \\\\cO_W^*\\\\to\\\\cO_V^*\\\\to 0,\\\\]\\nwhere $\\\\ccL$ is identified with the (multiplicative) subsheaf of units on\\n$W$ which restrict to $1$ on $V$ (the identification is given on sections\\nby $s\\\\mapsto 1+s$).  The latter exact sheaf sequence gives rise to an\\nexact sequence on cohomology\\n\\\\[ H^1(V,\\\\ccL)\\\\to \\\\Pic W\\\\to \\\\Pic V \\\\by{\\\\delta}  H^2(V,\\\\ccL).\\\\]\\n\\nThe following is an elaboration of [Ha], III, Ex. 5.9 (the proof is left\\nas an exercise!).\\n\\\\begin{lemma}\\\\label{infinitesimal}\\n\\\\begin{points}\\n\\\\item There is a natural bijection between isomorphism classes of\\ninfinitesimal extensions of $V$ by $\\\\ccL$ and elements\\n\\\\[\\\\alpha\\\\in H^1(V,\\\\shom_V(\\\\Omega^1_{V/\\\\sC},\\\\ccL)).\\\\]\\n\\\\item If $W$ is the infinitesimal extension corresponding to $\\\\alpha$, the\\nboundary map $\\\\delta=\\\\delta_{\\\\alpha}:\\\\Pic V\\\\to H^2(V,\\\\ccL)$ is expressible\\nas the composition  \\n\\\\[\\\\Pic V=H^1(V,\\\\cO_V^*)\\\\by{\\\\dlog} H^1(V,\\\\Omega^1_{V/\\\\sC})\\\\by{\\\\cup \\\\alpha} \\nH^2(V,\\\\ccL).\\\\]\\n\\\\item Let $f:\\\\ccL\\\\to\\\\cM$ be a morphism of $\\\\cO_X$-modules, and\\n$\\\\alpha\\\\mapsto f_*(\\\\alpha)$ under the natural map \\n\\\\[f_*:H^1(V,\\\\shom_V(\\\\Omega^1_{V/\\\\sC},\\\\ccL))\\\\to\\nH^1(V,\\\\shom_V(\\\\Omega^1_{V/\\\\sC},\\\\cM)).\\\\] \\nLet $Z$ be the infinitesimal extension of $V$ by $\\\\cM$ determined by\\n$f_*(\\\\alpha)$. Then there is a unique morphism of $\\\\C$-schemes\\n$\\\\tilde{f}:Z\\\\to W$, such that the corresponding morphism of reduced\\nschemes is the identity on $V$, and such that there are commutative\\ndiagrams with exact rows\\n\\\\[\\\\begin{array}{ccc}\\n0\\\\to \\\\ccL\\\\to & \\\\cO_W & \\\\to\\\\cO_V\\\\to 0\\\\\\\\\\nf\\\\downarrow\\\\quad & \\\\tilde{f}^*\\\\downarrow\\\\quad & \\\\veq\\\\quad\\\\\\\\\\n0\\\\to\\\\cM\\\\to & \\\\cO_Z & \\\\to\\\\cO_V\\\\to 0\\n\\\\end{array}\\\\]\\nand\\n\\\\[\\\\begin{array}{cccr}\\nH^1(V,\\\\ccL) & \\\\to \\\\Pic W \\\\to & \\\\Pic V & \\\\longby{\\\\delta_{\\\\alpha}}\\nH^2(V,\\\\ccL)\\\\\\\\  \\n\\\\quad f_*\\\\downarrow & \\\\tilde{f}^*\\\\downarrow\\\\quad & \\\\veq & \\\\downarrow f_*\\\\quad\\\\\\\\\\nH^1(V,\\\\cM) & \\\\to \\\\Pic Z \\\\to & \\\\Pic V & \\\\longby{\\\\delta_{f_*(\\\\alpha)}}\\nH^2(V,\\\\cM)  \\n\\\\end{array}\\\\]\\n\\\\end{points}\\n\\\\end{lemma}\\n\\n\\\\begin{ex} In the above lemma, take $V=\\\\P^1_{\\\\sC}\\\\times\\\\P^1_{\\\\sC}$,\\nand $\\\\ccL=\\\\omega_{V}$, $\\\\cM=\\\\cO_{V}$, $f:\\\\ccL\\\\into\\\\cM$ any non-zero\\nmap (since $\\\\omega_{V}\\\\cong\\\\cO_{\\\\sP^1}(-2)\\\\boxtimes\\\\cO_{\\\\sP^1}(-2)$, such\\nmaps $f$ exist). Infinitesimal extensions of $V$ by $\\\\ccL$ are classified\\nby elements of \\n\\\\[H^1(V,\\\\shom_V(\\\\Omega^1_{V/\\\\sC},\\\\omega_V))\\\\cong H^1(V,\\\\Omega^1_{V/\\\\sC}),\\\\]\\nwhere we have identified $\\\\shom_V(\\\\Omega^1_{V/\\\\sC},\\\\omega_V)$ with\\n$\\\\Omega^1_{V/\\\\sC}$ using the non-degenerate bilinear form \\n\\\\[\\\\Omega^1_{V/\\\\sC}\\\\tensor_{\\\\cO_V}\\\\Omega^1_{V/\\\\sC}\\\\to\\\\omega_V\\\\]\\ngiven by the exterior product of 1-forms. Thus if $\\\\alpha\\\\in\\nH^1(V,\\\\Omega^1_{V/\\\\sC})$, the corresponding cup-product map\\n\\\\[H^1(V,\\\\Omega^1_{V/\\\\sC})\\\\longby{\\\\cup\\\\alpha} H^2(V,\\\\omega_V)\\\\]\\nis just the product with $\\\\alpha$ in the commutative graded ring\\n\\\\[\\\\oplus_{n\\\\geq 0} H^n(V,\\\\Omega^n_{V/\\\\sC}).\\\\]\\nThus if $\\\\alpha$ is the cohomology class of a divisor $D$ on $V$, then for\\nany divisor $E$ on $V$, we see that by (ii) of the lemma, \\n\\\\[\\\\delta_{\\\\alpha}(E)=(D\\\\cdot E)\\\\in \\\\C= H^2(V,\\\\omega_V)\\\\]\\nis the intersection product of $D$ and $E$ on the non-singular projective\\nsurface $V$. \\n\\nWe will choose $\\\\alpha$ to be the cohomology class of $D=L_1-L_2$, where\\n$L_1=\\\\P^1_{\\\\sC}\\\\times\\\\{0\\\\}$ and $L_2=\\\\{0\\\\}\\\\times\\\\P^1_{\\\\sC}$ are elements\\nof the two rulings on $V=\\\\P^1_{\\\\sC}\\\\times\\\\P^1_{\\\\sC}$.  Since $D^2=-2$,\\n$\\\\alpha\\\\neq 0$ and $W=(V,\\\\cO(\\\\alpha))$ is a non-trivial infinitesimal\\nextension of $V$ by $\\\\omega_V$. Note that $H^1(V,\\\\omega_V)=0$, so that\\nthere is an exact sequence\\n\\\\[0\\\\to \\\\Pic W\\\\to \\\\Pic V \\\\longby{(D\\\\cdot \\\\;)} \\\\Z\\\\to 0\\\\]\\n($(D\\\\cdot L_2)=1$, so the map to $\\\\Z$ is surjective). Here $\\\\Pic V=\\\\Pic\\n(\\\\P^1_{\\\\sC}\\\\times\\\\P^1_{\\\\sC})=\\\\Z[L_1]\\\\oplus \\\\Z[L_2]$ is free abelian of rank\\n2, and as usual, we denote a representative of the class of\\n$a[L_1]+b[L_2]$ by $\\\\cO_V(a,b)$. \\n\\nNext, note that \\n\\\\[f_*(\\\\alpha)\\\\in H^1(V,\\\\shom_V(\\\\Omega^1_{V/\\\\sC},\\\\cO_V))=0,\\\\]\\nsince $\\\\Omega^1_{V/\\\\sC}\\\\cong \\\\cO_V(-2,0)\\\\oplus \\\\cO_V(0,-2)$. Hence the\\ninfinitesimal extension $Z$ of $V$ by $\\\\cO_V$ determined by $f_*(\\\\alpha)$\\nis the trivial extension $(V,\\\\cO_V[\\\\epsilon])$, where $\\\\cO_V[\\\\epsilon]$ is\\nthe sheaf of dual numbers over $\\\\cO_V$. \\n\\nThere is an obvious way in which we may regard $Z=(V,\\\\cO_V[\\\\epsilon])$ as\\na closed subscheme of\\n$Y=\\\\P^1_{\\\\sC}\\\\times\\\\P^1_{\\\\sC}\\\\times\\\\P^1_{\\\\sC}=V\\\\times\\\\P^1_{\\\\sC}$, whose\\nunderlying reduced scheme is $V\\\\times\\\\{0\\\\}$. \\n\\nFinally, we define $X$ to be the $\\\\C$-scheme which is the pushout of $Y$ and\\n$W$ along the morphisms $\\\\tilde{f}:Z\\\\to W$ and the above inclusion $i:Z\\\\into\\nY$, so that there is a commutative pushout diagram\\n\\\\[ \\\\begin{array}{ccc}\\nZ & \\\\longby{i} & Y=V\\\\times\\\\P^1_{\\\\sC}\\\\\\\\\\n\\\\tilde{f} \\\\downarrow &&\\\\quad \\\\downarrow \\\\pi\\\\\\\\\\nW & \\\\longby{j} & X\\n\\\\end{array}\\\\]\\nSince $\\\\tilde{f}$ is a finite and bijective morphism, we see that for each\\naffine open $U=\\\\Spec A$ in $Y$, $U\\\\cap Z=\\\\Spec A/I$ is affine, and finite\\nover the affine open subscheme $\\\\tilde{f}(U\\\\cap Z)=\\\\Spec B\\\\subset W$. The\\nimage of $U$ in $X$ is then defined as the affine scheme $\\\\Spec C$, where\\n$C$ is the inverse image of $B$ in $A$ under the surjection $A\\\\onto A/I$.\\nOne shows easily that $C$ is in fact a finitely generated $\\\\C$-subalgebra of\\n$A$, and $A$ is a finite $C$-module with conductor ideal $I$. Further, the\\nconstruction of $C$ localizes well. Hence the local schemes $\\\\Spec C$ can\\nbe glued together to yield the $\\\\C$-scheme $X$. \\n\\nWe claim that this scheme $X$ has the desired properties, \\\\ie $X$ is an\\nintegral projective scheme over $\\\\C$ with normalization $\\\\pi:Y\\\\to X$, such\\nthat  $Y$ is non-singular and bijective with $X$, while $NS(X)\\\\to NS(Y)$\\nis a strict inclusion.  \\n\\nThat $X$ is integral with $Y$ as its normalization is clear, from the\\ndescription of its affine open sets above. Next, since $\\\\alpha=[D]$, and\\n$(D\\\\cdot (L_1+L_2))=0$, there is a unique $\\\\ccH\\\\in\\\\Pic W$ such that\\n$\\\\ccH\\\\tensor\\\\cO_V=\\\\cO_V(1,1)$. Also $\\\\Pic Z\\\\to\\\\Pic V$ is an isomorphism.\\nWe have $\\\\Pic Y=\\\\Z^{\\\\oplus 3}$, where we may regard the restriction map\\n$\\\\Pic Y\\\\to\\\\Pic V\\\\times\\\\{0\\\\}=\\\\Pic V=\\\\Z^{\\\\oplus 2}$ as projection on the\\nfirst 2 factors. Hence we see that the very ample invertible sheaf\\n$\\\\cO_Y(1,1,1)$ has the property that there is an isomorphism\\n$\\\\tilde{f}^*\\\\ccH\\\\cong \\\\cO_Y(1,1,1)\\\\tensor\\\\cO_Z$. From the Mayer-Vietoris\\nsequence of sheaves of rings \\n\\\\[0\\\\to \\\\cO_X\\\\to \\\\pi_*\\\\cO_Y\\\\oplus j_*\\\\cO_W \\\\to (i\\\\circ \\\\pi)_*\\\\cO_Z\\\\to 0\\\\]\\nwe have a corresponding sequence of sheaves of unit groups\\n \\\\[0\\\\to \\\\cO_X^*\\\\to \\\\pi_*\\\\cO_Y^*\\\\oplus j_*\\\\cO_W^* \\\\to (i\\\\circ\\n\\\\pi)_*\\\\cO_Z^*\\\\to 0\\\\] \\nleading to an exact sequence\\n\\\\[H^0(Y,\\\\cO_Y^*)\\\\oplus H^0(W,\\\\cO_W^*)\\\\to H^0(Z,\\\\cO_Z^*)\\\\to \\\\Pic X \\\\to \\\\Pic\\nY\\\\oplus \\\\Pic W \\\\to \\\\Pic Z.\\\\] \\nHence there exists an invertible sheaf $\\\\cA$ on $X$ with\\n$\\\\pi^*\\\\cA=\\\\cO_Y(1,1,1)$ (and $j^*\\\\cA=\\\\ccH$). Since $\\\\pi$ is  finite, and\\n$\\\\pi^*\\\\cA$ is ample on $Y$, we have that $\\\\cA$ is ample on $X$. Hence $X$\\nis projective.  \\n\\n>From the exact sequence\\n\\\\[0\\\\to\\\\omega_V\\\\to\\\\cO_W\\\\to \\\\cO_V\\\\to 0,\\\\]\\nwe see that $H^0(W,\\\\cO_W)\\\\to H^0(V,\\\\cO_V)=\\\\C$ is an isomorphism. On the\\nother hand, we see at once that $H^0(Z,\\\\cO_Z)=\\\\C[\\\\epsilon]$ is the ring of\\ndual numbers. Hence we get analogous formulas for the unit groups. Thus\\nthere is an exact sequence \\n\\\\[0\\\\to \\\\C\\\\to \\\\Pic X\\\\to \\\\Pic Y\\\\oplus \\\\Pic W \\\\to \\\\Pic Z \\\\to 0\\\\] \\n(note that $\\\\Pic Z=\\\\Pic V$ is a quotient of $\\\\Pic Y$).\\nSince $\\\\Pic W\\\\into \\\\Pic Z$ is an inclusion $\\\\Z\\\\into \\\\Z^{\\\\oplus 2}$ as a\\ndirect summand, while $\\\\Pic Y\\\\to\\\\Pic Z$ is the projection $\\\\Z^{\\\\oplus\\n3}\\\\onto \\\\Z^{\\\\oplus 2}$, we see that ${\\\\rm image}\\\\,(\\\\Pic X\\\\to\\\\Pic Y=NS(Y))$\\nis a direct summand $\\\\Z^{\\\\oplus 2}\\\\into \\\\Z^{\\\\oplus 3}$. Thus\\n$NS(X)=\\\\Z^{\\\\oplus 2}$ is strictly contained in $NS(Y)=\\\\Z^{\\\\oplus 3}$. \\n$\\\\square$\\n\\\\end{ex}\\n\\n%\\\\input{refer}\\n\\\\begin{thebibliography}{}\\n\\\\bibitem[BS1]{BS1} L.~Barbieri-Viale and V.~Srinivas, { \\\\it The \\nN\\\\\\'eron-Severi group and the mixed Hodge structure on $H^2$}, J. reine \\nangew. Math. 450 (1994), 37-42. \\n\\\\bibitem[BS2]{BS2} L.~Barbieri-Viale and V.~Srinivas, {\\\\it On the \\nN\\\\\\'eron-Severi group of a singular variety}, J. reine angew. Math. 435 \\n(1993), 65-82. \\n\\\\bibitem[C]{C} J. Carlson, {\\\\it The extension class of a mixed Hodge\\nstructure}, in {\\\\it Algebraic Geometry, Bowdoin 1985}, Proc. Sym. Pure\\nMath. Vol. 46, Part 2, Amer. Math. Soc. (1987).\\n\\\\bibitem[Co]{Co} A. Collino, {\\\\it Washnitzer\\'s conjecture and the\\ncohomology of a variety with a single isolated singularity}, Ill. J. Math.\\n29 (1985) 353-364.\\n\\\\bibitem[D]{D} P.~Deligne, {\\\\it Th\\\\\\'eorie de Hodge, II, III}, Publ. Math.\\nIHES (1971) 5-57 and (1974) 5-77. \\n\\\\bibitem[DB]{DB} Ph. ~Du Bois, {\\\\it Complexe de De Rham filtr\\\\\\'e d\\'une \\nvari\\\\\\'eti\\\\\\'e singuli\\\\\\'ere}, Bull. Math. Soc. France 109 (1981), 41-81.\\n\\\\bibitem[EV]{EV} H. Esnault and E. Viehweg, {\\\\it Deligne-Beilinson\\ncohomology}, in {\\\\it Beilinson\\'s Conjectures on special values of\\n$L$-functions}, Perspectives in Math.~4, Academic Press, New York 1988.\\n\\\\bibitem[GH]{GH} P.A.~Griffiths and J.~Harris, {\\\\it Principles of \\nAlgebraic Geometry}, Wiley-Interscience, (1978), New York.\\n\\\\bibitem[H]{H} R.~Hartshorne, {\\\\it Algebraic Geometry}, Grad. Texts in \\nMath. No. 52, Springer-Verlag, (1977).\\n\\\\bibitem[J]{J} U.~Jannsen, {\\\\it Mixed motives and algebraic K-theory},\\nLect. Notes Math. 1400, Springer-Verlag, Berlin (1990).\\n\\\\bibitem[L]{L} S.~Lefschetz, {\\\\it L\\'analysis situs et la g\\\\\\'eom\\\\\\'etrie \\nalg\\\\\\'ebrique}, Gauthier-Villars, Paris, (1950).\\n\\\\bibitem[PS]{PS} R.~Parimala and V.~Srinivas, {\\\\it Analogues of the \\nBrauer group for algebras with involution}, Duke Math. J. 66 (1992), \\n207-237.  \\n\\\\bibitem[V]{V} J.-L.~Verdier, {\\\\it Classe d\\'homologie associ\\\\\\'ee a\\' un \\ncycle}, in: S\\\\\\'eminaire de G\\\\\\'eom\\\\\\'etrie Analytique, Ast\\\\\\'erisque, 36-37 \\n(1976), 101-151. \\n\\\\end{thebibliography}\\n\\n\\\\end{document}\\n\\n\\n'"
      ]
     },
     "execution_count": 50,
     "metadata": {},
     "output_type": "execute_result"
    }
   ],
   "source": [
    "t.decode('cp932')\n",
    "#t.decode(errors='ignore')"
   ]
  },
  {
   "cell_type": "code",
   "execution_count": 348,
   "metadata": {},
   "outputs": [
    {
     "name": "stdout",
     "output_type": "stream",
     "text": [
      "todo bien\n",
      "'utf-8' codec can't decode byte 0x8f in position 0: invalid start byte\n"
     ]
    }
   ],
   "source": [
    "try:\n",
    "    t.decode()\n",
    "except UnicodeDecodeError as e:\n",
    "    print('todo bien')\n",
    "    print(e)\n",
    "    "
   ]
  },
  {
   "cell_type": "code",
   "execution_count": 2,
   "metadata": {},
   "outputs": [
    {
     "ename": "NameError",
     "evalue": "name 't' is not defined",
     "output_type": "error",
     "traceback": [
      "\u001b[0;31m---------------------------------------------------------------------------\u001b[0m",
      "\u001b[0;31mNameError\u001b[0m                                 Traceback (most recent call last)",
      "\u001b[0;32m<ipython-input-2-d1dab70a7309>\u001b[0m in \u001b[0;36m<module>\u001b[0;34m\u001b[0m\n\u001b[1;32m      1\u001b[0m \u001b[0;32mimport\u001b[0m \u001b[0mdifflib\u001b[0m\u001b[0;34m\u001b[0m\u001b[0;34m\u001b[0m\u001b[0m\n\u001b[0;32m----> 2\u001b[0;31m \u001b[0mDiffs\u001b[0m \u001b[0;34m=\u001b[0m \u001b[0mdifflib\u001b[0m\u001b[0;34m.\u001b[0m\u001b[0munified_diff\u001b[0m\u001b[0;34m(\u001b[0m\u001b[0mt\u001b[0m\u001b[0;34m.\u001b[0m\u001b[0mdecode\u001b[0m\u001b[0;34m(\u001b[0m\u001b[0merrors\u001b[0m\u001b[0;34m=\u001b[0m\u001b[0;34m'ignore'\u001b[0m\u001b[0;34m)\u001b[0m\u001b[0;34m.\u001b[0m\u001b[0msplitlines\u001b[0m\u001b[0;34m(\u001b[0m\u001b[0;34m)\u001b[0m\u001b[0;34m,\u001b[0m \u001b[0mt\u001b[0m\u001b[0;34m.\u001b[0m\u001b[0mdecode\u001b[0m\u001b[0;34m(\u001b[0m\u001b[0;34m'koi8-r'\u001b[0m\u001b[0;34m)\u001b[0m\u001b[0;34m)\u001b[0m\u001b[0;34m\u001b[0m\u001b[0;34m\u001b[0m\u001b[0m\n\u001b[0m\u001b[1;32m      3\u001b[0m \u001b[0;32mfor\u001b[0m \u001b[0md\u001b[0m \u001b[0;32min\u001b[0m \u001b[0mDiffs\u001b[0m\u001b[0;34m:\u001b[0m\u001b[0;34m\u001b[0m\u001b[0;34m\u001b[0m\u001b[0m\n\u001b[1;32m      4\u001b[0m     \u001b[0mprint\u001b[0m\u001b[0;34m(\u001b[0m\u001b[0md\u001b[0m\u001b[0;34m)\u001b[0m\u001b[0;34m\u001b[0m\u001b[0;34m\u001b[0m\u001b[0m\n",
      "\u001b[0;31mNameError\u001b[0m: name 't' is not defined"
     ]
    }
   ],
   "source": [
    "import difflib\n",
    "Diffs = difflib.unified_diff(t.decode(errors='ignore').splitlines(), t.decode('koi8-r')) \n",
    "for d in Diffs:\n",
    "    print(d)"
   ]
  },
  {
   "cell_type": "code",
   "execution_count": 245,
   "metadata": {},
   "outputs": [
    {
     "data": {
      "text/plain": [
       "tarfile.ReadError()"
      ]
     },
     "execution_count": 245,
     "metadata": {},
     "output_type": "execute_result"
    }
   ],
   "source": [
    "tarfile.ReadError()"
   ]
  },
  {
   "cell_type": "code",
   "execution_count": 1,
   "metadata": {},
   "outputs": [
    {
     "ename": "NameError",
     "evalue": "name 'tarfile' is not defined",
     "output_type": "error",
     "traceback": [
      "\u001b[0;31m---------------------------------------------------------------------------\u001b[0m",
      "\u001b[0;31mNameError\u001b[0m                                 Traceback (most recent call last)",
      "\u001b[0;32m<ipython-input-1-dbd9e88f85da>\u001b[0m in \u001b[0;36m<module>\u001b[0;34m\u001b[0m\n\u001b[0;32m----> 1\u001b[0;31m \u001b[0;32mwith\u001b[0m \u001b[0mtarfile\u001b[0m\u001b[0;34m.\u001b[0m\u001b[0mopen\u001b[0m\u001b[0;34m(\u001b[0m\u001b[0;34m'tests/minitest.tar'\u001b[0m\u001b[0;34m)\u001b[0m \u001b[0;32mas\u001b[0m \u001b[0mmorgan\u001b[0m\u001b[0;34m:\u001b[0m\u001b[0;34m\u001b[0m\u001b[0;34m\u001b[0m\u001b[0m\n\u001b[0m\u001b[1;32m      2\u001b[0m     \u001b[0;32mfor\u001b[0m \u001b[0mmor\u001b[0m \u001b[0;32min\u001b[0m \u001b[0mmorgan\u001b[0m\u001b[0;34m:\u001b[0m\u001b[0;34m\u001b[0m\u001b[0;34m\u001b[0m\u001b[0m\n\u001b[1;32m      3\u001b[0m         \u001b[0mprint\u001b[0m\u001b[0;34m(\u001b[0m\u001b[0mmor\u001b[0m\u001b[0;34m.\u001b[0m\u001b[0mname\u001b[0m\u001b[0;34m)\u001b[0m\u001b[0;34m\u001b[0m\u001b[0;34m\u001b[0m\u001b[0m\n",
      "\u001b[0;31mNameError\u001b[0m: name 'tarfile' is not defined"
     ]
    }
   ],
   "source": [
    "with tarfile.open('tests/minitest.tar') as morgan:\n",
    "    for mor in morgan:\n",
    "        print(mor.name)\n"
   ]
  },
  {
   "cell_type": "code",
   "execution_count": 208,
   "metadata": {},
   "outputs": [],
   "source": [
    "file_tar.extract?"
   ]
  },
  {
   "cell_type": "code",
   "execution_count": 109,
   "metadata": {},
   "outputs": [],
   "source": [
    "tarfile.TarFile.extractall?"
   ]
  },
  {
   "cell_type": "code",
   "execution_count": 157,
   "metadata": {},
   "outputs": [
    {
     "data": {
      "text/plain": [
       "{'encoding': 'Windows-1252', 'confidence': 0.7292205811322673, 'language': ''}"
      ]
     },
     "execution_count": 157,
     "metadata": {},
     "output_type": "execute_result"
    }
   ],
   "source": [
    "import chardet\n",
    "chardet.detect(t)"
   ]
  },
  {
   "cell_type": "code",
   "execution_count": 222,
   "metadata": {},
   "outputs": [
    {
     "data": {
      "text/plain": [
       "['/mnt/arXiv_src/src/arXiv_src_1805_001.tar',\n",
       " '/mnt/arXiv_src/src/arXiv_src_1805_003.tar',\n",
       " '/mnt/arXiv_src/src/arXiv_src_1805_004.tar',\n",
       " '/mnt/arXiv_src/src/arXiv_src_1805_005.tar',\n",
       " '/mnt/arXiv_src/src/arXiv_src_1805_006.tar',\n",
       " '/mnt/arXiv_src/src/arXiv_src_1805_007.tar',\n",
       " '/mnt/arXiv_src/src/arXiv_src_1805_008.tar',\n",
       " '/mnt/arXiv_src/src/arXiv_src_1805_009.tar',\n",
       " '/mnt/arXiv_src/src/arXiv_src_1805_010.tar',\n",
       " '/mnt/arXiv_src/src/arXiv_src_1805_011.tar',\n",
       " '/mnt/arXiv_src/src/arXiv_src_1805_012.tar',\n",
       " '/mnt/arXiv_src/src/arXiv_src_1805_013.tar',\n",
       " '/mnt/arXiv_src/src/arXiv_src_1805_014.tar',\n",
       " '/mnt/arXiv_src/src/arXiv_src_1805_015.tar',\n",
       " '/mnt/arXiv_src/src/arXiv_src_1805_016.tar',\n",
       " '/mnt/arXiv_src/src/arXiv_src_1805_017.tar',\n",
       " '/mnt/arXiv_src/src/arXiv_src_1805_019.tar',\n",
       " '/mnt/arXiv_src/src/arXiv_src_1805_020.tar',\n",
       " '/mnt/arXiv_src/src/arXiv_src_1805_021.tar',\n",
       " '/mnt/arXiv_src/src/arXiv_src_1805_022.tar',\n",
       " '/mnt/arXiv_src/src/arXiv_src_1805_023.tar',\n",
       " '/mnt/arXiv_src/src/arXiv_src_1805_024.tar',\n",
       " '/mnt/arXiv_src/src/arXiv_src_1805_025.tar',\n",
       " '/mnt/arXiv_src/src/arXiv_src_1805_026.tar',\n",
       " '/mnt/arXiv_src/src/arXiv_src_1805_027.tar',\n",
       " '/mnt/arXiv_src/src/arXiv_src_1805_028.tar',\n",
       " '/mnt/arXiv_src/src/arXiv_src_1805_029.tar',\n",
       " '/mnt/arXiv_src/src/arXiv_src_1805_030.tar',\n",
       " '/mnt/arXiv_src/src/arXiv_src_1805_031.tar',\n",
       " '/mnt/arXiv_src/src/arXiv_src_1805_032.tar',\n",
       " '/mnt/arXiv_src/src/arXiv_src_1805_033.tar',\n",
       " '/mnt/arXiv_src/src/arXiv_src_1805_002.tar',\n",
       " '/mnt/arXiv_src/src/arXiv_src_1805_018.tar',\n",
       " '/mnt/arXiv_src/src/arXiv_src_1805_034.tar']"
      ]
     },
     "execution_count": 222,
     "metadata": {},
     "output_type": "execute_result"
    }
   ],
   "source": [
    "import glob\n",
    "glob.glob('/mnt/arXiv_src/src/arXiv_src_1805_*')"
   ]
  },
  {
   "cell_type": "code",
   "execution_count": 172,
   "metadata": {},
   "outputs": [],
   "source": [
    "bytes.decode?"
   ]
  },
  {
   "cell_type": "code",
   "execution_count": 171,
   "metadata": {},
   "outputs": [
    {
     "data": {
      "text/plain": [
       "bytes"
      ]
     },
     "execution_count": 171,
     "metadata": {},
     "output_type": "execute_result"
    }
   ],
   "source": [
    "type(t)"
   ]
  },
  {
   "cell_type": "code",
   "execution_count": 175,
   "metadata": {},
   "outputs": [],
   "source": [
    "import shutil\n",
    "shutil.rmtree('check_test/')"
   ]
  },
  {
   "cell_type": "code",
   "execution_count": 220,
   "metadata": {},
   "outputs": [
    {
     "name": "stdout",
     "output_type": "stream",
     "text": [
      "['\\\\documentclass[12pt]{amsart}\\n', '\\\\usepackage{tikz}\\n', '\\\\usepackage{amssymb}\\n', '\\\\overfullrule=10pt\\n', '\\\\parskip=0pt\\n', '\\\\raggedbottom\\n', '\\\\allowdisplaybreaks\\n', '\\n', '\\\\def\\\\Wnodal{W_{\\\\scriptstyle\\\\rm\\\\!nodal}}\\n', '\\\\def\\\\P{\\\\mathbb{P}}\\n']\n"
     ]
    }
   ],
   "source": [
    "with open('../check2/1601.00103/1601.00103.tex','r') as fu:\n",
    "    print(fu.readlines()[:10])"
   ]
  },
  {
   "cell_type": "code",
   "execution_count": 286,
   "metadata": {
    "collapsed": true,
    "jupyter": {
     "outputs_hidden": true
    }
   },
   "outputs": [
    {
     "data": {
      "text/plain": [
       "['math.0701750',\n",
       " 'math.0701670',\n",
       " 'math.0701246',\n",
       " 'math.0701046',\n",
       " 'math.0701036',\n",
       " 'math.0701409',\n",
       " 'math.0701532',\n",
       " 'math.0701662',\n",
       " 'math.0701002',\n",
       " 'math.0701374',\n",
       " 'math.0701091',\n",
       " 'math.0701559',\n",
       " 'math.0701566',\n",
       " 'math.0701105',\n",
       " 'math.0701903',\n",
       " 'math.0701213',\n",
       " 'math.0701319',\n",
       " 'math.0701734',\n",
       " 'math.0701669',\n",
       " 'math.0701507',\n",
       " 'math.0701671',\n",
       " 'math.0701402',\n",
       " 'math.0701538',\n",
       " 'math.0701683',\n",
       " 'math.0701782',\n",
       " 'math.0701885',\n",
       " 'math.0701475',\n",
       " 'math.0701388',\n",
       " 'math.0701895',\n",
       " 'math.0701590',\n",
       " 'math.0701823',\n",
       " 'math.0701459',\n",
       " 'math.0701667',\n",
       " 'math.0701874',\n",
       " 'math.0701641',\n",
       " 'math.0701257',\n",
       " 'math.0701663',\n",
       " 'math.0701053',\n",
       " 'math.0701680',\n",
       " 'math.0701336',\n",
       " 'math.0701889',\n",
       " 'math.0701511',\n",
       " 'math.0701074',\n",
       " 'math.0701312',\n",
       " 'math.0701522',\n",
       " 'math.0701115',\n",
       " 'math.0701720',\n",
       " 'math.0701407',\n",
       " 'math.0701839',\n",
       " 'math.0701194',\n",
       " 'math.0701472',\n",
       " 'math.0701466',\n",
       " 'math.0701936',\n",
       " 'math.0701894',\n",
       " 'math.0701479',\n",
       " 'math.0701138',\n",
       " 'math.0701672',\n",
       " 'math.0701255',\n",
       " 'math.0701596',\n",
       " 'math.0701311',\n",
       " 'math.0701456',\n",
       " 'math.0701521',\n",
       " 'math.0701376',\n",
       " 'math.0701546',\n",
       " 'math.0701353',\n",
       " 'math.0701867',\n",
       " 'math.0701487',\n",
       " 'math.0701502',\n",
       " 'math.0701423',\n",
       " 'math.0701297',\n",
       " 'math.0701877',\n",
       " 'math.0701620',\n",
       " 'math.0701110',\n",
       " 'math.0701315',\n",
       " 'math.0701406',\n",
       " 'math.0701642',\n",
       " 'math.0701597']"
      ]
     },
     "execution_count": 286,
     "metadata": {},
     "output_type": "execute_result"
    }
   ],
   "source": [
    "os.listdir('../check6')"
   ]
  },
  {
   "cell_type": "code",
   "execution_count": 287,
   "metadata": {},
   "outputs": [
    {
     "data": {
      "text/plain": [
       "True"
      ]
     },
     "execution_count": 287,
     "metadata": {},
     "output_type": "execute_result"
    }
   ],
   "source": [
    "set( ['commentary.txt', 'definitions.sty', 'hyperplane.bbl', 'hyperplane.tex'])== set(['commentary.txt', 'hyperplane.tex', 'definitions.sty', 'hyperplane.bbl'])"
   ]
  },
  {
   "cell_type": "code",
   "execution_count": null,
   "metadata": {},
   "outputs": [],
   "source": []
  }
 ],
 "metadata": {
  "kernelspec": {
   "display_name": "Python 3",
   "language": "python",
   "name": "python3"
  },
  "language_info": {
   "codemirror_mode": {
    "name": "ipython",
    "version": 3
   },
   "file_extension": ".py",
   "mimetype": "text/x-python",
   "name": "python",
   "nbconvert_exporter": "python",
   "pygments_lexer": "ipython3",
   "version": "3.8.0"
  }
 },
 "nbformat": 4,
 "nbformat_minor": 4
}
