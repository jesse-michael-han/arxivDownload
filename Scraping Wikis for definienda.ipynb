{
 "cells": [
  {
   "cell_type": "code",
   "execution_count": 268,
   "metadata": {},
   "outputs": [],
   "source": [
    "import requests \n",
    "from bs4 import BeautifulSoup as bs\n",
    "import re\n",
    "import urllib.parse as up \n",
    "import random"
   ]
  },
  {
   "cell_type": "code",
   "execution_count": 269,
   "metadata": {},
   "outputs": [
    {
     "name": "stdout",
     "output_type": "stream",
     "text": [
      "The autoreload extension is already loaded. To reload it, use:\n",
      "  %reload_ext autoreload\n"
     ]
    }
   ],
   "source": [
    "%load_ext autoreload\n",
    "%autoreload 2"
   ]
  },
  {
   "cell_type": "code",
   "execution_count": 270,
   "metadata": {},
   "outputs": [],
   "source": [
    "from definiendum import DefiniendumExtract as DE"
   ]
  },
  {
   "cell_type": "code",
   "execution_count": 359,
   "metadata": {},
   "outputs": [
    {
     "data": {
      "text/plain": [
       "[<p>In <a href=\"/wiki/Mathematics\" title=\"Mathematics\">mathematics</a>, a <b>submanifold</b> of a <a href=\"/wiki/Manifold\" title=\"Manifold\">manifold</a> <i>M</i> is a <a href=\"/wiki/Subset\" title=\"Subset\">subset</a> <i>S</i> which itself has the structure of a manifold, and for which the <a href=\"/wiki/Inclusion_map\" title=\"Inclusion map\">inclusion map</a> <i>S</i> → <i>M</i> satisfies certain properties. There are different types of submanifolds depending on exactly which properties are required. Different authors often have different definitions.\n",
       " </p>, <ul>\n",
       " <li class=\"toclevel-1 tocsection-1\"><a href=\"#Formal_definition\"><span class=\"tocnumber\">1</span> <span class=\"toctext\">Formal definition</span></a>\n",
       " <ul>\n",
       " <li class=\"toclevel-2 tocsection-2\"><a href=\"#Immersed_submanifolds\"><span class=\"tocnumber\">1.1</span> <span class=\"toctext\">Immersed submanifolds</span></a></li>\n",
       " <li class=\"toclevel-2 tocsection-3\"><a href=\"#Embedded_submanifolds\"><span class=\"tocnumber\">1.2</span> <span class=\"toctext\">Embedded submanifolds</span></a></li>\n",
       " <li class=\"toclevel-2 tocsection-4\"><a href=\"#Other_variations\"><span class=\"tocnumber\">1.3</span> <span class=\"toctext\">Other variations</span></a></li>\n",
       " </ul>\n",
       " </li>\n",
       " <li class=\"toclevel-1 tocsection-5\"><a href=\"#Properties\"><span class=\"tocnumber\">2</span> <span class=\"toctext\">Properties</span></a></li>\n",
       " <li class=\"toclevel-1 tocsection-6\"><a href=\"#Submanifolds_of_real_coordinate_space\"><span class=\"tocnumber\">3</span> <span class=\"toctext\">Submanifolds of real coordinate space</span></a></li>\n",
       " <li class=\"toclevel-1 tocsection-7\"><a href=\"#Notes\"><span class=\"tocnumber\">4</span> <span class=\"toctext\">Notes</span></a></li>\n",
       " <li class=\"toclevel-1 tocsection-8\"><a href=\"#References\"><span class=\"tocnumber\">5</span> <span class=\"toctext\">References</span></a></li>\n",
       " </ul>, <ul>\n",
       " <li class=\"toclevel-2 tocsection-2\"><a href=\"#Immersed_submanifolds\"><span class=\"tocnumber\">1.1</span> <span class=\"toctext\">Immersed submanifolds</span></a></li>\n",
       " <li class=\"toclevel-2 tocsection-3\"><a href=\"#Embedded_submanifolds\"><span class=\"tocnumber\">1.2</span> <span class=\"toctext\">Embedded submanifolds</span></a></li>\n",
       " <li class=\"toclevel-2 tocsection-4\"><a href=\"#Other_variations\"><span class=\"tocnumber\">1.3</span> <span class=\"toctext\">Other variations</span></a></li>\n",
       " </ul>, <p>In the following we assume all manifolds are <a href=\"/wiki/Differentiable_manifold\" title=\"Differentiable manifold\">differentiable manifolds</a> of <a class=\"mw-redirect\" href=\"/wiki/Differentiability_class\" title=\"Differentiability class\">class</a> <i>C</i><sup><i>r</i></sup> for a fixed <i>r</i> ≥ 1, and all morphisms are differentiable of class <i>C</i><sup><i>r</i></sup>.\n",
       " </p>, <p>An <b>immersed submanifold</b> of a manifold <i>M</i> is the image <i>S</i> of an <a href=\"/wiki/Immersion_(mathematics)\" title=\"Immersion (mathematics)\">immersion</a> map <i>f</i>: <i>N</i> → <i>M</i>; in general this image will not be a submanifold as a subset, and an immersion map need not even be <a class=\"mw-redirect\" href=\"/wiki/Injective\" title=\"Injective\">injective</a> (one-to-one) – it can have self-intersections.<sup class=\"reference\" id=\"cite_ref-1\"><a href=\"#cite_note-1\">[1]</a></sup>\n",
       " </p>, <p>More narrowly, one can require that the map <i>f</i>: <i>N</i> → <i>M</i> be an injection (one-to-one), in which we call it an <a class=\"mw-redirect\" href=\"/wiki/Injective\" title=\"Injective\">injective</a> <a href=\"/wiki/Immersion_(mathematics)\" title=\"Immersion (mathematics)\">immersion</a>, and define an <b>immersed submanifold</b> to be the image subset <i>S</i> together with a <a class=\"mw-redirect\" href=\"/wiki/Topology_(structure)\" title=\"Topology (structure)\">topology</a> and <a href=\"/wiki/Differential_structure\" title=\"Differential structure\">differential structure</a> such that <i>S</i> is a manifold and the inclusion <i>f</i> is a <a href=\"/wiki/Diffeomorphism\" title=\"Diffeomorphism\">diffeomorphism</a>: this is just the topology on <i>N,</i> which in general will not agree with the subset topology: in general the subset <i>S</i> is not a submanifold of <i>M,</i> in the subset topology.\n",
       " </p>, <p>Given any injective immersion <i>f</i> : <i>N</i> → <i>M</i> the <a href=\"/wiki/Image_(mathematics)\" title=\"Image (mathematics)\">image</a> of <i>N</i> in <i>M</i> can be uniquely given the structure of an immersed submanifold so that <i>f</i> : <i>N</i> → <i>f</i>(<i>N</i>) is a <a href=\"/wiki/Diffeomorphism\" title=\"Diffeomorphism\">diffeomorphism</a>. It follows that immersed submanifolds are precisely the images of injective immersions.\n",
       " </p>, <p>The submanifold topology on an immersed submanifold need not be the <a class=\"mw-redirect\" href=\"/wiki/Relative_topology\" title=\"Relative topology\">relative topology</a> inherited from <i>M</i>. In general, it will be <a class=\"mw-redirect\" href=\"/wiki/Finer_topology\" title=\"Finer topology\">finer</a> than the subspace topology (i.e. have more <a href=\"/wiki/Open_set\" title=\"Open set\">open sets</a>).\n",
       " </p>, <p>Immersed submanifolds occur in the theory of <a href=\"/wiki/Lie_group\" title=\"Lie group\">Lie groups</a> where <a class=\"mw-redirect\" href=\"/wiki/Lie_subgroup\" title=\"Lie subgroup\">Lie subgroups</a> are naturally immersed submanifolds.\n",
       " </p>, <p>An <b>embedded submanifold</b> (also called a <b>regular submanifold</b>), is an immersed submanifold for which the inclusion map is a <a class=\"mw-redirect\" href=\"/wiki/Topological_embedding\" title=\"Topological embedding\">topological embedding</a>. That is, the submanifold topology on <i>S</i> is the same as the subspace topology.\n",
       " </p>, <p>Given any <a href=\"/wiki/Embedding\" title=\"Embedding\">embedding</a> <i>f</i> : <i>N</i> → <i>M</i> of a manifold <i>N</i> in <i>M</i> the image <i>f</i>(<i>N</i>) naturally has the structure of an embedded submanifold. That is, embedded submanifolds are precisely the images of embeddings.\n",
       " </p>, <p>There is an intrinsic definition of an embedded submanifold which is often useful. Let <i>M</i> be an <i>n</i>-dimensional manifold, and let <i>k</i> be an integer such that 0 ≤ <i>k</i> ≤ <i>n</i>. A <i>k</i>-dimensional embedded submanifold of <i>M</i> is a subset <i>S</i> ⊂ <i>M</i> such that for every point <i>p</i> ∈ <i>S</i> there exists a <a class=\"mw-redirect\" href=\"/wiki/Chart_(topology)\" title=\"Chart (topology)\">chart</a> (<i>U</i> ⊂ <i>M</i>, φ : <i>U</i> → <b>R</b><sup><i>n</i></sup>) containing <i>p</i> such that φ(<i>S</i> ∩ <i>U</i>) is the intersection of a <i>k</i>-dimensional <a class=\"mw-redirect\" href=\"/wiki/Plane_(mathematics)\" title=\"Plane (mathematics)\">plane</a> with φ(<i>U</i>). The pairs (<i>S</i> ∩ <i>U</i>, φ|<sub><i>S</i> ∩ <i>U</i></sub>) form an <a href=\"/wiki/Atlas_(topology)\" title=\"Atlas (topology)\">atlas</a> for the differential structure on <i>S</i>.\n",
       " </p>, <p><a href=\"/wiki/Alexander%27s_theorem\" title=\"Alexander's theorem\">Alexander's theorem</a> and the <a class=\"mw-redirect\" href=\"/wiki/Schoenflies_theorem\" title=\"Schoenflies theorem\">Jordan–Schoenflies theorem</a> are good examples of smooth embeddings.\n",
       " </p>, <p>There are some other variations of submanifolds used in the literature. A <a href=\"/wiki/Neat_submanifold\" title=\"Neat submanifold\">neat submanifold</a> is a manifold whose boundary agrees with the boundary of the entire manifold.<sup class=\"reference\" id=\"cite_ref-2\"><a href=\"#cite_note-2\">[2]</a></sup> Sharpe (1997) defines a type of submanifold which lies somewhere between an embedded submanifold and an immersed submanifold.\n",
       " </p>, <p>Many authors define topological submanifolds also. These are the same as <i>C</i><sup><i>r</i></sup> submanifolds with <i>r</i> = 0.<sup class=\"reference\" id=\"cite_ref-3\"><a href=\"#cite_note-3\">[3]</a></sup> An embedded topological submanifold is not necessarily regular in the sense of the existence of a local chart at each point extending the embedding. Counterexamples include <a href=\"/wiki/Wild_arc\" title=\"Wild arc\">wild arcs</a> and <a href=\"/wiki/Wild_knot\" title=\"Wild knot\">wild knots</a>.\n",
       " </p>, <p>Given any immersed submanifold <i>S</i> of <i>M</i>, the <a href=\"/wiki/Tangent_space\" title=\"Tangent space\">tangent space</a> to a point <i>p</i> in <i>S</i> can naturally be thought of as a <a href=\"/wiki/Linear_subspace\" title=\"Linear subspace\">linear subspace</a> of the tangent space to <i>p</i> in <i>M</i>. This follows from the fact that the inclusion map is an immersion and provides an injection\n",
       " </p>, <p>Suppose <i>S</i> is an immersed submanifold of <i>M</i>. If the inclusion map <i>i</i> : <i>S</i> → <i>M</i> is <a class=\"mw-redirect\" href=\"/wiki/Closed_map\" title=\"Closed map\">closed</a> then <i>S</i> is actually an embedded submanifold of <i>M</i>. Conversely, if <i>S</i> is an embedded submanifold which is also a <a class=\"mw-redirect\" href=\"/wiki/Closed_subset\" title=\"Closed subset\">closed subset</a> then the inclusion map is closed. The inclusion map <i>i</i> : <i>S</i> → <i>M</i> is closed if and only if it is a <a href=\"/wiki/Proper_map\" title=\"Proper map\">proper map</a> (i.e. inverse images of <a class=\"mw-redirect\" href=\"/wiki/Compact_set\" title=\"Compact set\">compact sets</a> are compact). If <i>i</i> is closed then <i>S</i> is called a <b>closed embedded submanifold</b> of <i>M</i>. Closed embedded submanifolds form the nicest class of submanifolds.\n",
       " </p>, <p>Smooth manifolds are sometimes <i>defined</i> as embedded submanifolds of <a href=\"/wiki/Real_coordinate_space\" title=\"Real coordinate space\">real coordinate space</a> <b>R</b><sup><i>n</i></sup>, for some <i>n</i>. This point of view is equivalent to the usual, abstract approach, because, by the <a href=\"/wiki/Whitney_embedding_theorem\" title=\"Whitney embedding theorem\">Whitney embedding theorem</a>, any <a href=\"/wiki/Second-countable_space\" title=\"Second-countable space\">second-countable</a> smooth (abstract) <i>m</i>-manifold can be smoothly embedded in <b>R</b><sup>2<i>m</i></sup>.\n",
       " </p>, <ul><li><cite class=\"citation book\" id=\"CITEREFChoquet-Bruhat1968\"><a href=\"/wiki/Yvonne_Choquet-Bruhat\" title=\"Yvonne Choquet-Bruhat\">Choquet-Bruhat, Yvonne</a> (1968). <i>Géométrie différentielle et systèmes extérieurs</i>. Paris: Dunod.</cite><span class=\"Z3988\" title=\"ctx_ver=Z39.88-2004&amp;rft_val_fmt=info%3Aofi%2Ffmt%3Akev%3Amtx%3Abook&amp;rft.genre=book&amp;rft.btitle=G%C3%A9om%C3%A9trie+diff%C3%A9rentielle+et+syst%C3%A8mes+ext%C3%A9rieurs&amp;rft.place=Paris&amp;rft.pub=Dunod&amp;rft.date=1968&amp;rft.aulast=Choquet-Bruhat&amp;rft.aufirst=Yvonne&amp;rfr_id=info%3Asid%2Fen.wikipedia.org%3ASubmanifold\"></span><style data-mw-deduplicate=\"TemplateStyles:r879151008\">.mw-parser-output cite.citation{font-style:inherit}.mw-parser-output .citation q{quotes:\"\\\"\"\"\\\"\"\"'\"\"'\"}.mw-parser-output .citation .cs1-lock-free a{background:url(\"//upload.wikimedia.org/wikipedia/commons/thumb/6/65/Lock-green.svg/9px-Lock-green.svg.png\")no-repeat;background-position:right .1em center}.mw-parser-output .citation .cs1-lock-limited a,.mw-parser-output .citation .cs1-lock-registration a{background:url(\"//upload.wikimedia.org/wikipedia/commons/thumb/d/d6/Lock-gray-alt-2.svg/9px-Lock-gray-alt-2.svg.png\")no-repeat;background-position:right .1em center}.mw-parser-output .citation .cs1-lock-subscription a{background:url(\"//upload.wikimedia.org/wikipedia/commons/thumb/a/aa/Lock-red-alt-2.svg/9px-Lock-red-alt-2.svg.png\")no-repeat;background-position:right .1em center}.mw-parser-output .cs1-subscription,.mw-parser-output .cs1-registration{color:#555}.mw-parser-output .cs1-subscription span,.mw-parser-output .cs1-registration span{border-bottom:1px dotted;cursor:help}.mw-parser-output .cs1-ws-icon a{background:url(\"//upload.wikimedia.org/wikipedia/commons/thumb/4/4c/Wikisource-logo.svg/12px-Wikisource-logo.svg.png\")no-repeat;background-position:right .1em center}.mw-parser-output code.cs1-code{color:inherit;background:inherit;border:inherit;padding:inherit}.mw-parser-output .cs1-hidden-error{display:none;font-size:100%}.mw-parser-output .cs1-visible-error{font-size:100%}.mw-parser-output .cs1-maint{display:none;color:#33aa33;margin-left:0.3em}.mw-parser-output .cs1-subscription,.mw-parser-output .cs1-registration,.mw-parser-output .cs1-format{font-size:95%}.mw-parser-output .cs1-kern-left,.mw-parser-output .cs1-kern-wl-left{padding-left:0.2em}.mw-parser-output .cs1-kern-right,.mw-parser-output .cs1-kern-wl-right{padding-right:0.2em}</style></li>\n",
       " <li><cite class=\"citation book\" id=\"CITEREFKosinski2007\">Kosinski, Antoni Albert (2007) [1993]. <i>Differential manifolds</i>. Mineola, New York: Dover Publications. <a href=\"/wiki/International_Standard_Book_Number\" title=\"International Standard Book Number\">ISBN</a> <a href=\"/wiki/Special:BookSources/978-0-486-46244-8\" title=\"Special:BookSources/978-0-486-46244-8\">978-0-486-46244-8</a>.</cite><span class=\"Z3988\" title=\"ctx_ver=Z39.88-2004&amp;rft_val_fmt=info%3Aofi%2Ffmt%3Akev%3Amtx%3Abook&amp;rft.genre=book&amp;rft.btitle=Differential+manifolds&amp;rft.place=Mineola%2C+New+York&amp;rft.pub=Dover+Publications&amp;rft.date=2007&amp;rft.isbn=978-0-486-46244-8&amp;rft.aulast=Kosinski&amp;rft.aufirst=Antoni+Albert&amp;rfr_id=info%3Asid%2Fen.wikipedia.org%3ASubmanifold\"></span><link href=\"mw-data:TemplateStyles:r879151008\" rel=\"mw-deduplicated-inline-style\"/></li>\n",
       " <li><cite class=\"citation book\" id=\"CITEREFLang1999\"><a href=\"/wiki/Serge_Lang\" title=\"Serge Lang\">Lang, Serge</a> (1999). <i>Fundamentals of Differential Geometry</i>. <a href=\"/wiki/Graduate_Texts_in_Mathematics\" title=\"Graduate Texts in Mathematics\">Graduate Texts in Mathematics</a>. New York: Springer. <a href=\"/wiki/International_Standard_Book_Number\" title=\"International Standard Book Number\">ISBN</a> <a href=\"/wiki/Special:BookSources/978-0-387-98593-0\" title=\"Special:BookSources/978-0-387-98593-0\">978-0-387-98593-0</a>.</cite><span class=\"Z3988\" title=\"ctx_ver=Z39.88-2004&amp;rft_val_fmt=info%3Aofi%2Ffmt%3Akev%3Amtx%3Abook&amp;rft.genre=book&amp;rft.btitle=Fundamentals+of+Differential+Geometry&amp;rft.place=New+York&amp;rft.series=Graduate+Texts+in+Mathematics&amp;rft.pub=Springer&amp;rft.date=1999&amp;rft.isbn=978-0-387-98593-0&amp;rft.aulast=Lang&amp;rft.aufirst=Serge&amp;rfr_id=info%3Asid%2Fen.wikipedia.org%3ASubmanifold\"></span><link href=\"mw-data:TemplateStyles:r879151008\" rel=\"mw-deduplicated-inline-style\"/></li>\n",
       " <li><cite class=\"citation book\">Lee, John (2003). <i>Introduction to Smooth Manifolds</i>. Graduate Texts in Mathematics <b>218</b>. New York: Springer. <a href=\"/wiki/International_Standard_Book_Number\" title=\"International Standard Book Number\">ISBN</a> <a href=\"/wiki/Special:BookSources/0-387-95495-3\" title=\"Special:BookSources/0-387-95495-3\">0-387-95495-3</a>.</cite><span class=\"Z3988\" title=\"ctx_ver=Z39.88-2004&amp;rft_val_fmt=info%3Aofi%2Ffmt%3Akev%3Amtx%3Abook&amp;rft.genre=book&amp;rft.btitle=Introduction+to+Smooth+Manifolds&amp;rft.place=New+York&amp;rft.series=Graduate+Texts+in+Mathematics+%27%27%27218%27%27%27&amp;rft.pub=Springer&amp;rft.date=2003&amp;rft.isbn=0-387-95495-3&amp;rft.aulast=Lee&amp;rft.aufirst=John&amp;rfr_id=info%3Asid%2Fen.wikipedia.org%3ASubmanifold\"></span><link href=\"mw-data:TemplateStyles:r879151008\" rel=\"mw-deduplicated-inline-style\"/></li>\n",
       " <li><cite class=\"citation book\" id=\"CITEREFSharpe1997\">Sharpe, R. W. (1997). <i>Differential Geometry: Cartan's Generalization of Klein's Erlangen Program</i>. New York: Springer. <a href=\"/wiki/International_Standard_Book_Number\" title=\"International Standard Book Number\">ISBN</a> <a href=\"/wiki/Special:BookSources/0-387-94732-9\" title=\"Special:BookSources/0-387-94732-9\">0-387-94732-9</a>.</cite><span class=\"Z3988\" title=\"ctx_ver=Z39.88-2004&amp;rft_val_fmt=info%3Aofi%2Ffmt%3Akev%3Amtx%3Abook&amp;rft.genre=book&amp;rft.btitle=Differential+Geometry%3A+Cartan%27s+Generalization+of+Klein%27s+Erlangen+Program&amp;rft.place=New+York&amp;rft.pub=Springer&amp;rft.date=1997&amp;rft.isbn=0-387-94732-9&amp;rft.aulast=Sharpe&amp;rft.aufirst=R.+W.&amp;rfr_id=info%3Asid%2Fen.wikipedia.org%3ASubmanifold\"></span><link href=\"mw-data:TemplateStyles:r879151008\" rel=\"mw-deduplicated-inline-style\"/></li>\n",
       " <li><cite class=\"citation book\">Warner, Frank W. (1983). <i>Foundations of Differentiable Manifolds and Lie Groups</i>. New York: Springer. <a href=\"/wiki/International_Standard_Book_Number\" title=\"International Standard Book Number\">ISBN</a> <a href=\"/wiki/Special:BookSources/0-387-90894-3\" title=\"Special:BookSources/0-387-90894-3\">0-387-90894-3</a>.</cite><span class=\"Z3988\" title=\"ctx_ver=Z39.88-2004&amp;rft_val_fmt=info%3Aofi%2Ffmt%3Akev%3Amtx%3Abook&amp;rft.genre=book&amp;rft.btitle=Foundations+of+Differentiable+Manifolds+and+Lie+Groups&amp;rft.place=New+York&amp;rft.pub=Springer&amp;rft.date=1983&amp;rft.isbn=0-387-90894-3&amp;rft.aulast=Warner&amp;rft.aufirst=Frank+W.&amp;rfr_id=info%3Asid%2Fen.wikipedia.org%3ASubmanifold\"></span><link href=\"mw-data:TemplateStyles:r879151008\" rel=\"mw-deduplicated-inline-style\"/></li></ul>, <ul><li><a href=\"/wiki/Category:Differential_topology\" title=\"Category:Differential topology\">Differential topology</a></li><li><a href=\"/wiki/Category:Manifolds\" title=\"Category:Manifolds\">Manifolds</a></li></ul>, <ul>\n",
       " <li id=\"pt-anonuserpage\">Not logged in</li><li id=\"pt-anontalk\"><a accesskey=\"n\" href=\"/wiki/Special:MyTalk\" title=\"Discussion about edits from this IP address [n]\">Talk</a></li><li id=\"pt-anoncontribs\"><a accesskey=\"y\" href=\"/wiki/Special:MyContributions\" title=\"A list of edits made from this IP address [y]\">Contributions</a></li><li id=\"pt-createaccount\"><a href=\"/w/index.php?title=Special:CreateAccount&amp;returnto=Submanifold\" title=\"You are encouraged to create an account and log in; however, it is not mandatory\">Create account</a></li><li id=\"pt-login\"><a accesskey=\"o\" href=\"/w/index.php?title=Special:UserLogin&amp;returnto=Submanifold\" title=\"You're encouraged to log in; however, it's not mandatory. [o]\">Log in</a></li> </ul>, <ul>\n",
       " <li class=\"selected\" id=\"ca-nstab-main\"><span><a accesskey=\"c\" href=\"/wiki/Submanifold\" title=\"View the content page [c]\">Article</a></span></li><li id=\"ca-talk\"><span><a accesskey=\"t\" href=\"/wiki/Talk:Submanifold\" rel=\"discussion\" title=\"Discussion about the content page [t]\">Talk</a></span></li> </ul>, <ul class=\"menu\">\n",
       " </ul>, <ul>\n",
       " <li class=\"collapsible selected\" id=\"ca-view\"><span><a href=\"/wiki/Submanifold\">Read</a></span></li><li class=\"collapsible\" id=\"ca-edit\"><span><a accesskey=\"e\" href=\"/w/index.php?title=Submanifold&amp;action=edit\" title=\"Edit this page [e]\">Edit</a></span></li><li class=\"collapsible\" id=\"ca-history\"><span><a accesskey=\"h\" href=\"/w/index.php?title=Submanifold&amp;action=history\" title=\"Past revisions of this page [h]\">View history</a></span></li> </ul>, <ul class=\"menu\">\n",
       " </ul>, <ul>\n",
       " <li id=\"n-mainpage-description\"><a accesskey=\"z\" href=\"/wiki/Main_Page\" title=\"Visit the main page [z]\">Main page</a></li><li id=\"n-contents\"><a href=\"/wiki/Portal:Contents\" title=\"Guides to browsing Wikipedia\">Contents</a></li><li id=\"n-featuredcontent\"><a href=\"/wiki/Portal:Featured_content\" title=\"Featured content – the best of Wikipedia\">Featured content</a></li><li id=\"n-currentevents\"><a href=\"/wiki/Portal:Current_events\" title=\"Find background information on current events\">Current events</a></li><li id=\"n-randompage\"><a accesskey=\"x\" href=\"/wiki/Special:Random\" title=\"Load a random article [x]\">Random article</a></li><li id=\"n-sitesupport\"><a href=\"https://donate.wikimedia.org/wiki/Special:FundraiserRedirector?utm_source=donate&amp;utm_medium=sidebar&amp;utm_campaign=C13_en.wikipedia.org&amp;uselang=en\" title=\"Support us\">Donate to Wikipedia</a></li><li id=\"n-shoplink\"><a href=\"//shop.wikimedia.org\" title=\"Visit the Wikipedia store\">Wikipedia store</a></li> </ul>, <ul>\n",
       " <li id=\"n-help\"><a href=\"/wiki/Help:Contents\" title=\"Guidance on how to use and edit Wikipedia\">Help</a></li><li id=\"n-aboutsite\"><a href=\"/wiki/Wikipedia:About\" title=\"Find out about Wikipedia\">About Wikipedia</a></li><li id=\"n-portal\"><a href=\"/wiki/Wikipedia:Community_portal\" title=\"About the project, what you can do, where to find things\">Community portal</a></li><li id=\"n-recentchanges\"><a accesskey=\"r\" href=\"/wiki/Special:RecentChanges\" title=\"A list of recent changes in the wiki [r]\">Recent changes</a></li><li id=\"n-contactpage\"><a href=\"//en.wikipedia.org/wiki/Wikipedia:Contact_us\" title=\"How to contact Wikipedia\">Contact page</a></li> </ul>, <ul>\n",
       " <li id=\"t-whatlinkshere\"><a accesskey=\"j\" href=\"/wiki/Special:WhatLinksHere/Submanifold\" title=\"List of all English Wikipedia pages containing links to this page [j]\">What links here</a></li><li id=\"t-recentchangeslinked\"><a accesskey=\"k\" href=\"/wiki/Special:RecentChangesLinked/Submanifold\" rel=\"nofollow\" title=\"Recent changes in pages linked from this page [k]\">Related changes</a></li><li id=\"t-upload\"><a accesskey=\"u\" href=\"/wiki/Wikipedia:File_Upload_Wizard\" title=\"Upload files [u]\">Upload file</a></li><li id=\"t-specialpages\"><a accesskey=\"q\" href=\"/wiki/Special:SpecialPages\" title=\"A list of all special pages [q]\">Special pages</a></li><li id=\"t-permalink\"><a href=\"/w/index.php?title=Submanifold&amp;oldid=856973460\" title=\"Permanent link to this revision of the page\">Permanent link</a></li><li id=\"t-info\"><a href=\"/w/index.php?title=Submanifold&amp;action=info\" title=\"More information about this page\">Page information</a></li><li id=\"t-wikibase\"><a accesskey=\"g\" href=\"https://www.wikidata.org/wiki/Special:EntityPage/Q125539\" title=\"Link to connected data repository item [g]\">Wikidata item</a></li><li id=\"t-cite\"><a href=\"/w/index.php?title=Special:CiteThisPage&amp;page=Submanifold&amp;id=856973460\" title=\"Information on how to cite this page\">Cite this page</a></li> </ul>, <ul>\n",
       " <li id=\"coll-create_a_book\"><a href=\"/w/index.php?title=Special:Book&amp;bookcmd=book_creator&amp;referer=Submanifold\">Create a book</a></li><li id=\"coll-download-as-rdf2latex\"><a href=\"/w/index.php?title=Special:ElectronPdf&amp;page=Submanifold&amp;action=show-download-screen\">Download as PDF</a></li><li id=\"t-print\"><a accesskey=\"p\" href=\"/w/index.php?title=Submanifold&amp;printable=yes\" title=\"Printable version of this page [p]\">Printable version</a></li> </ul>, <ul>\n",
       " <li class=\"interlanguage-link interwiki-de\"><a class=\"interlanguage-link-target\" href=\"https://de.wikipedia.org/wiki/Untermannigfaltigkeit\" hreflang=\"de\" lang=\"de\" title=\"Untermannigfaltigkeit – German\">Deutsch</a></li><li class=\"interlanguage-link interwiki-nl\"><a class=\"interlanguage-link-target\" href=\"https://nl.wikipedia.org/wiki/Deelvari%C3%ABteit\" hreflang=\"nl\" lang=\"nl\" title=\"Deelvariëteit – Dutch\">Nederlands</a></li><li class=\"interlanguage-link interwiki-ja\"><a class=\"interlanguage-link-target\" href=\"https://ja.wikipedia.org/wiki/%E9%83%A8%E5%88%86%E5%A4%9A%E6%A7%98%E4%BD%93\" hreflang=\"ja\" lang=\"ja\" title=\"部分多様体 – Japanese\">日本語</a></li><li class=\"interlanguage-link interwiki-pt\"><a class=\"interlanguage-link-target\" href=\"https://pt.wikipedia.org/wiki/Subvariedade\" hreflang=\"pt\" lang=\"pt\" title=\"Subvariedade – Portuguese\">Português</a></li><li class=\"interlanguage-link interwiki-ru\"><a class=\"interlanguage-link-target\" href=\"https://ru.wikipedia.org/wiki/%D0%9F%D0%BE%D0%B4%D0%BC%D0%BD%D0%BE%D0%B3%D0%BE%D0%BE%D0%B1%D1%80%D0%B0%D0%B7%D0%B8%D0%B5\" hreflang=\"ru\" lang=\"ru\" title=\"Подмногообразие – Russian\">Русский</a></li><li class=\"interlanguage-link interwiki-uk\"><a class=\"interlanguage-link-target\" href=\"https://uk.wikipedia.org/wiki/%D0%9F%D1%96%D0%B4%D0%BC%D0%BD%D0%BE%D0%B3%D0%BE%D0%B2%D0%B8%D0%B4\" hreflang=\"uk\" lang=\"uk\" title=\"Підмноговид – Ukrainian\">Українська</a></li><li class=\"interlanguage-link interwiki-zh\"><a class=\"interlanguage-link-target\" href=\"https://zh.wikipedia.org/wiki/%E5%AD%90%E6%B5%81%E5%BD%A2\" hreflang=\"zh\" lang=\"zh\" title=\"子流形 – Chinese\">中文</a></li> </ul>, <ul id=\"footer-info\">\n",
       " <li id=\"footer-info-lastmod\"> This page was last edited on 28 August 2018, at 18:37<span class=\"anonymous-show\"> (UTC)</span>.</li>\n",
       " <li id=\"footer-info-copyright\">Text is available under the <a href=\"//en.wikipedia.org/wiki/Wikipedia:Text_of_Creative_Commons_Attribution-ShareAlike_3.0_Unported_License\" rel=\"license\">Creative Commons Attribution-ShareAlike License</a><a href=\"//creativecommons.org/licenses/by-sa/3.0/\" rel=\"license\" style=\"display:none;\"></a>;\n",
       " additional terms may apply.  By using this site, you agree to the <a href=\"//foundation.wikimedia.org/wiki/Terms_of_Use\">Terms of Use</a> and <a href=\"//foundation.wikimedia.org/wiki/Privacy_policy\">Privacy Policy</a>. Wikipedia® is a registered trademark of the <a href=\"//www.wikimediafoundation.org/\">Wikimedia Foundation, Inc.</a>, a non-profit organization.</li>\n",
       " </ul>, <ul id=\"footer-places\">\n",
       " <li id=\"footer-places-privacy\"><a class=\"extiw\" href=\"https://foundation.wikimedia.org/wiki/Privacy_policy\" title=\"wmf:Privacy policy\">Privacy policy</a></li>\n",
       " <li id=\"footer-places-about\"><a href=\"/wiki/Wikipedia:About\" title=\"Wikipedia:About\">About Wikipedia</a></li>\n",
       " <li id=\"footer-places-disclaimer\"><a href=\"/wiki/Wikipedia:General_disclaimer\" title=\"Wikipedia:General disclaimer\">Disclaimers</a></li>\n",
       " <li id=\"footer-places-contact\"><a href=\"//en.wikipedia.org/wiki/Wikipedia:Contact_us\">Contact Wikipedia</a></li>\n",
       " <li id=\"footer-places-developers\"><a href=\"https://www.mediawiki.org/wiki/Special:MyLanguage/How_to_contribute\">Developers</a></li>\n",
       " <li id=\"footer-places-cookiestatement\"><a href=\"https://foundation.wikimedia.org/wiki/Cookie_statement\">Cookie statement</a></li>\n",
       " <li id=\"footer-places-mobileview\"><a class=\"noprint stopMobileRedirectToggle\" href=\"//en.m.wikipedia.org/w/index.php?title=Submanifold&amp;mobileaction=toggle_view_mobile\">Mobile view</a></li>\n",
       " </ul>, <ul class=\"noprint\" id=\"footer-icons\">\n",
       " <li id=\"footer-copyrightico\">\n",
       " <a href=\"https://wikimediafoundation.org/\"><img alt=\"Wikimedia Foundation\" height=\"31\" src=\"/static/images/wikimedia-button.png\" srcset=\"/static/images/wikimedia-button-1.5x.png 1.5x, /static/images/wikimedia-button-2x.png 2x\" width=\"88\"/></a> </li>\n",
       " <li id=\"footer-poweredbyico\">\n",
       " <a href=\"//www.mediawiki.org/\"><img alt=\"Powered by MediaWiki\" height=\"31\" src=\"/static/images/poweredby_mediawiki_88x31.png\" srcset=\"/static/images/poweredby_mediawiki_132x47.png 1.5x, /static/images/poweredby_mediawiki_176x62.png 2x\" width=\"88\"/></a> </li>\n",
       " </ul>]"
      ]
     },
     "execution_count": 359,
     "metadata": {},
     "output_type": "execute_result"
    }
   ],
   "source": [
    "de = DE('https://en.wikipedia.org/wiki/Submanifold')\n",
    "#for i in range(10):\n",
    "#    print(de.def_pair_or_none())\n",
    "#    de = DE(de.next()[0])\n",
    "de.soup.findAll(['p','ul'])"
   ]
  },
  {
   "cell_type": "code",
   "execution_count": 362,
   "metadata": {},
   "outputs": [
    {
     "name": "stdout",
     "output_type": "stream",
     "text": [
      "None https://en.wikipedia.org/wiki/Conic_section\n",
      "https://en.wikipedia.org/wiki/Plane_(mathematics) YALA\n",
      "None https://en.wikipedia.org/wiki/Conic_section\n",
      "https://en.wikipedia.org/wiki/Plane_(mathematics) YALA\n",
      "None https://en.wikipedia.org/wiki/Conic_section\n",
      "https://en.wikipedia.org/wiki/Plane_(mathematics) YALA\n",
      "None https://en.wikipedia.org/wiki/Conic_section\n",
      "https://en.wikipedia.org/wiki/Plane_(mathematics) YALA\n",
      "None https://en.wikipedia.org/wiki/Conic_section\n",
      "https://en.wikipedia.org/wiki/Plane_(mathematics) YALA\n",
      "None https://en.wikipedia.org/wiki/Conic_section\n",
      "https://en.wikipedia.org/wiki/Plane_(mathematics) YALA\n",
      "None https://en.wikipedia.org/wiki/Conic_section\n",
      "https://en.wikipedia.org/wiki/Plane_(mathematics) YALA\n",
      "None https://en.wikipedia.org/wiki/Conic_section\n",
      "https://en.wikipedia.org/wiki/Plane_(mathematics) YALA\n",
      "None https://en.wikipedia.org/wiki/Conic_section\n",
      "https://en.wikipedia.org/wiki/Plane_(mathematics) YALA\n",
      "None https://en.wikipedia.org/wiki/Conic_section\n",
      "https://en.wikipedia.org/wiki/Plane_(mathematics) YALA\n",
      "None https://en.wikipedia.org/wiki/Conic_section\n",
      "https://en.wikipedia.org/wiki/Plane_(mathematics) YALA\n",
      "None https://en.wikipedia.org/wiki/Conic_section\n",
      "https://en.wikipedia.org/wiki/Plane_(mathematics) YALA\n",
      "None https://en.wikipedia.org/wiki/Conic_section\n",
      "https://en.wikipedia.org/wiki/Plane_(mathematics) YALA\n",
      "None https://en.wikipedia.org/wiki/Conic_section\n",
      "https://en.wikipedia.org/wiki/Plane_(mathematics) YALA\n",
      "None https://en.wikipedia.org/wiki/Conic_section\n",
      "https://en.wikipedia.org/wiki/Plane_(mathematics) YALA\n",
      "None https://en.wikipedia.org/wiki/Conic_section\n",
      "https://en.wikipedia.org/wiki/Plane_(mathematics) YALA\n",
      "None https://en.wikipedia.org/wiki/Conic_section\n",
      "https://en.wikipedia.org/wiki/Plane_(mathematics) YALA\n",
      "None https://en.wikipedia.org/wiki/Conic_section\n",
      "https://en.wikipedia.org/wiki/Plane_(mathematics) YALA\n",
      "None https://en.wikipedia.org/wiki/Conic_section\n",
      "https://en.wikipedia.org/wiki/Plane_(mathematics) YALA\n",
      "None https://en.wikipedia.org/wiki/Conic_section\n",
      "https://en.wikipedia.org/wiki/Plane_(mathematics) YALA\n",
      "None https://en.wikipedia.org/wiki/Conic_section\n",
      "https://en.wikipedia.org/wiki/Plane_(mathematics) YALA\n",
      "None https://en.wikipedia.org/wiki/Conic_section\n",
      "https://en.wikipedia.org/wiki/Plane_(mathematics) YALA\n",
      "None https://en.wikipedia.org/wiki/Conic_section\n",
      "https://en.wikipedia.org/wiki/Plane_(mathematics) YALA\n",
      "None https://en.wikipedia.org/wiki/Conic_section\n",
      "https://en.wikipedia.org/wiki/Plane_(mathematics) YALA\n",
      "None https://en.wikipedia.org/wiki/Conic_section\n",
      "https://en.wikipedia.org/wiki/Plane_(mathematics) YALA\n",
      "None https://en.wikipedia.org/wiki/Conic_section\n",
      "https://en.wikipedia.org/wiki/Plane_(mathematics) YALA\n",
      "None https://en.wikipedia.org/wiki/Conic_section\n",
      "https://en.wikipedia.org/wiki/Plane_(mathematics) YALA\n",
      "None https://en.wikipedia.org/wiki/Conic_section\n",
      "https://en.wikipedia.org/wiki/Plane_(mathematics) YALA\n",
      "None https://en.wikipedia.org/wiki/Conic_section\n",
      "https://en.wikipedia.org/wiki/Plane_(mathematics) YALA\n",
      "None https://en.wikipedia.org/wiki/Conic_section\n",
      "https://en.wikipedia.org/wiki/Plane_(mathematics) YALA\n",
      "None https://en.wikipedia.org/wiki/Conic_section\n",
      "https://en.wikipedia.org/wiki/Plane_(mathematics) YALA\n",
      "None https://en.wikipedia.org/wiki/Conic_section\n",
      "https://en.wikipedia.org/wiki/Plane_(mathematics) YALA\n",
      "None https://en.wikipedia.org/wiki/Conic_section\n",
      "https://en.wikipedia.org/wiki/Plane_(mathematics) YALA\n",
      "None https://en.wikipedia.org/wiki/Conic_section\n",
      "https://en.wikipedia.org/wiki/Plane_(mathematics) YALA\n",
      "None https://en.wikipedia.org/wiki/Conic_section\n",
      "https://en.wikipedia.org/wiki/Plane_(mathematics) YALA\n",
      "None https://en.wikipedia.org/wiki/Conic_section\n",
      "https://en.wikipedia.org/wiki/Plane_(mathematics) YALA\n",
      "None https://en.wikipedia.org/wiki/Conic_section\n",
      "https://en.wikipedia.org/wiki/Plane_(mathematics) YALA\n",
      "None https://en.wikipedia.org/wiki/Conic_section\n",
      "https://en.wikipedia.org/wiki/Plane_(mathematics) YALA\n",
      "None https://en.wikipedia.org/wiki/Conic_section\n",
      "https://en.wikipedia.org/wiki/Plane_(mathematics) YALA\n",
      "None https://en.wikipedia.org/wiki/Conic_section\n",
      "https://en.wikipedia.org/wiki/Plane_(mathematics) YALA\n",
      "None https://en.wikipedia.org/wiki/Conic_section\n",
      "https://en.wikipedia.org/wiki/Plane_(mathematics) YALA\n",
      "None https://en.wikipedia.org/wiki/Conic_section\n",
      "https://en.wikipedia.org/wiki/Plane_(mathematics) YALA\n",
      "None https://en.wikipedia.org/wiki/Conic_section\n",
      "https://en.wikipedia.org/wiki/Plane_(mathematics) YALA\n",
      "None https://en.wikipedia.org/wiki/Conic_section\n",
      "https://en.wikipedia.org/wiki/Plane_(mathematics) YALA\n",
      "None https://en.wikipedia.org/wiki/Conic_section\n",
      "https://en.wikipedia.org/wiki/Plane_(mathematics) YALA\n",
      "None https://en.wikipedia.org/wiki/Conic_section\n",
      "https://en.wikipedia.org/wiki/Plane_(mathematics) YALA\n",
      "None https://en.wikipedia.org/wiki/Conic_section\n",
      "https://en.wikipedia.org/wiki/Plane_(mathematics) YALA\n",
      "None https://en.wikipedia.org/wiki/Conic_section\n",
      "https://en.wikipedia.org/wiki/Plane_(mathematics) YALA\n",
      "None https://en.wikipedia.org/wiki/Conic_section\n",
      "https://en.wikipedia.org/wiki/Plane_(mathematics) YALA\n",
      "None https://en.wikipedia.org/wiki/Conic_section\n",
      "https://en.wikipedia.org/wiki/Plane_(mathematics) YALA\n"
     ]
    }
   ],
   "source": [
    "#link_lst = []\n",
    "#visited_lst = []\n",
    "for i in range(50):\n",
    "    print(de.def_pair_or_none(), de.url.geturl())\n",
    "    link_lst += de.next(num_links=10)\n",
    "    next_site = link_lst.pop()\n",
    "    if next_site in visited_lst:\n",
    "        print(next_site, 'YALA')\n",
    "    else:\n",
    "        de = DE(next_site)\n",
    "        visited_lst.insert(0,next_site)"
   ]
  },
  {
   "cell_type": "code",
   "execution_count": 364,
   "metadata": {},
   "outputs": [
    {
     "data": {
      "text/plain": [
       "['https://en.wikipedia.org/wiki/Mathematics',\n",
       " 'https://en.wikipedia.org/wiki/Manifold',\n",
       " 'https://en.wikipedia.org/wiki/Subset',\n",
       " 'https://en.wikipedia.org/wiki/Inclusion_map',\n",
       " 'https://en.wikipedia.org/wiki/Differentiable_manifold',\n",
       " 'https://en.wikipedia.org/wiki/Differentiability_class',\n",
       " 'https://en.wikipedia.org/wiki/Immersion_(mathematics)',\n",
       " 'https://en.wikipedia.org/wiki/Injective',\n",
       " 'https://en.wikipedia.org/wiki/Injective_module',\n",
       " 'https://en.wikipedia.org/wiki/Function_(mathematics)']"
      ]
     },
     "execution_count": 364,
     "metadata": {},
     "output_type": "execute_result"
    }
   ],
   "source": [
    "link_lst[:10]"
   ]
  },
  {
   "cell_type": "code",
   "execution_count": 277,
   "metadata": {},
   "outputs": [
    {
     "data": {
      "text/plain": [
       "'range '"
      ]
     },
     "execution_count": 277,
     "metadata": {},
     "output_type": "execute_result"
    }
   ],
   "source": [
    "ran = DE('https://en.wikipedia.org/wiki/Range_(mathematics)')\n",
    "ran.title().replace('(mathematics)','')"
   ]
  },
  {
   "cell_type": "code",
   "execution_count": 2,
   "metadata": {
    "scrolled": true
   },
   "outputs": [],
   "source": [
    "pedia = bs(requests.get('https://en.wikipedia.org/wiki/Submanifold').text,'lxml')\n",
    "prop = bs(requests.get('https://groupprops.subwiki.org/wiki/Trivial_group').text,'lxml')\n",
    "stacks = bs(requests.get('https://stacks.math.columbia.edu/tag/03NB').text,'lxml')"
   ]
  },
  {
   "cell_type": "code",
   "execution_count": 5,
   "metadata": {},
   "outputs": [
    {
     "data": {
      "text/plain": [
       "[<span class=\"mw-headline\" id=\"Formal_definition\">Formal definition</span>]"
      ]
     },
     "execution_count": 5,
     "metadata": {},
     "output_type": "execute_result"
    }
   ],
   "source": [
    "pedia.find_all('span',{'id':'Formal_definition'})"
   ]
  },
  {
   "cell_type": "code",
   "execution_count": 7,
   "metadata": {},
   "outputs": [
    {
     "data": {
      "text/plain": [
       "[<span class=\"mw-headline\" id=\"Definition\">Definition</span>]"
      ]
     },
     "execution_count": 7,
     "metadata": {},
     "output_type": "execute_result"
    }
   ],
   "source": [
    "prop.find_all(id='Definition')"
   ]
  },
  {
   "cell_type": "code",
   "execution_count": 237,
   "metadata": {},
   "outputs": [
    {
     "data": {
      "text/plain": [
       "1"
      ]
     },
     "execution_count": 237,
     "metadata": {},
     "output_type": "execute_result"
    }
   ],
   "source": [
    "True*True"
   ]
  },
  {
   "cell_type": "code",
   "execution_count": 8,
   "metadata": {},
   "outputs": [
    {
     "data": {
      "text/plain": [
       "[<span class=\"mw-headline\" id=\"Definition\">Definition</span>]"
      ]
     },
     "execution_count": 8,
     "metadata": {},
     "output_type": "execute_result"
    }
   ],
   "source": [
    "# CSS Selectors\n",
    "prop.select('span#Definition')"
   ]
  },
  {
   "cell_type": "code",
   "execution_count": 26,
   "metadata": {},
   "outputs": [
    {
     "data": {
      "text/plain": [
       "[<span class=\"mw-headline\" id=\"Definition\">Definition</span>]"
      ]
     },
     "execution_count": 26,
     "metadata": {},
     "output_type": "execute_result"
    }
   ],
   "source": [
    "# search with a function\n",
    "def insensitive_search(x, search_for='definition'):\n",
    "    if x:\n",
    "        return x.lower() == 'definition'\n",
    "    else:\n",
    "        return False\n",
    "    \n",
    "prop.findAll('span', id=insensitive_search)"
   ]
  },
  {
   "cell_type": "code",
   "execution_count": 117,
   "metadata": {
    "scrolled": true
   },
   "outputs": [
    {
     "name": "stdout",
     "output_type": "stream",
     "text": [
      "An immersed submanifold of a manifold M is the image S of an immersion map f: N → M; in general this image will not be a submanifold as a subset, and an immersion map need not even be injective (one-to-one) – it can have self-intersections.[1]\n",
      "\n",
      "More narrowly, one can require that the map f: N → M be an injection (one-to-one), in which we call it an injective immersion, and define an immersed submanifold to be the image subset S together with a topology and differential structure such that S is a manifold and the inclusion f is a diffeomorphism: this is just the topology on N, which in general will not agree with the subset topology: in general the subset S is not a submanifold of M, in the subset topology.\n",
      "\n",
      "Given any injective immersion f : N → M the image of N in M can be uniquely given the structure of an immersed submanifold so that f : N → f(N) is a diffeomorphism. It follows that immersed submanifolds are precisely the images of injective immersions.\n",
      "\n",
      "The submanifold topology on an immersed submanifold need not be the relative topology inherited from M. In general, it will be finer than the subspace topology (i.e. have more open sets).\n",
      "\n",
      "Immersed submanifolds occur in the theory of Lie groups where Lie subgroups are naturally immersed submanifolds.\n",
      "\n",
      "An embedded submanifold (also called a regular submanifold), is an immersed submanifold for which the inclusion map is a topological embedding. That is, the submanifold topology on S is the same as the subspace topology.\n",
      "\n",
      "Given any embedding f : N → M of a manifold N in M the image f(N) naturally has the structure of an embedded submanifold. That is, embedded submanifolds are precisely the images of embeddings.\n",
      "\n",
      "There is an intrinsic definition of an embedded submanifold which is often useful. Let M be an n-dimensional manifold, and let k be an integer such that 0 ≤ k ≤ n. A k-dimensional embedded submanifold of M is a subset S ⊂ M such that for every point p ∈ S there exists a chart (U ⊂ M, φ : U → Rn) containing p such that φ(S ∩ U) is the intersection of a k-dimensional plane with φ(U). The pairs (S ∩ U, φ|S ∩ U) form an atlas for the differential structure on S.\n",
      "\n",
      "There are some other variations of submanifolds used in the literature. A neat submanifold is a manifold whose boundary agrees with the boundary of the entire manifold.[2] Sharpe (1997) defines a type of submanifold which lies somewhere between an embedded submanifold and an immersed submanifold.\n",
      "\n",
      "Many authors define topological submanifolds also. These are the same as Cr submanifolds with r = 0.[3] An embedded topological submanifold is not necessarily regular in the sense of the existence of a local chart at each point extending the embedding. Counterexamples include wild arcs and wild knots.\n",
      "\n",
      "Given any immersed submanifold S of M, the tangent space to a point p in S can naturally be thought of as a linear subspace of the tangent space to p in M. This follows from the fact that the inclusion map is an immersion and provides an injection\n",
      "\n",
      "Suppose S is an immersed submanifold of M. If the inclusion map i : S → M is closed then S is actually an embedded submanifold of M. Conversely, if S is an embedded submanifold which is also a closed subset then the inclusion map is closed. The inclusion map i : S → M is closed if and only if it is a proper map (i.e. inverse images of compact sets are compact). If i is closed then S is called a closed embedded submanifold of M. Closed embedded submanifolds form the nicest class of submanifolds.\n",
      "\n",
      "Smooth manifolds are sometimes defined as embedded submanifolds of real coordinate space Rn, for some n. This point of view is equivalent to the usual, abstract approach, because, by the Whitney embedding theorem, any second-countable smooth (abstract) m-manifold can be smoothly embedded in R2m.\n",
      "\n"
     ]
    }
   ],
   "source": [
    "title = ped.findAll(id = 'firstHeading')[0].text.lower()\n",
    "reg_expr = re.compile('.*definition', re.I)\n",
    "Defin = pedia.findAll('span', id= reg_expr)[0]\n",
    "for p in P.parent.findAllNext('p'):\n",
    "    if title in p.text.lower():\n",
    "        print(p.text)"
   ]
  },
  {
   "cell_type": "code",
   "execution_count": 108,
   "metadata": {},
   "outputs": [
    {
     "name": "stdout",
     "output_type": "stream",
     "text": [
      "The trivial group is the group with only one element, which is its identity element. The trivial group is usually denoted as , , or .\n",
      "\n",
      "The trivial group is important in the following ways:\n",
      "\n"
     ]
    }
   ],
   "source": [
    "title = prop.findAll(id = 'firstHeading')[0].text.lower()\n",
    "reg_expr = re.compile('.*definition', re.I)\n",
    "Defin = prop.findAll('span', id= reg_expr)[0]\n",
    "for p in Defin.parent.findAllNext('p'):\n",
    "    if title in p.text.lower():\n",
    "        print(p.text)"
   ]
  },
  {
   "cell_type": "code",
   "execution_count": 111,
   "metadata": {},
   "outputs": [],
   "source": [
    "title = list(stacks.select('.tex-section')[0].strings)[-1]\n",
    "#reg_expr = re.compile('.*definition', re.I)\n",
    "#Defin = prop.findAll('span', id= reg_expr)[0]\n",
    "#for p in Defin.parent.findAllNext('p'):\n",
    "#    if title in p.text.lower():\n",
    "#        print(p.text)"
   ]
  },
  {
   "cell_type": "code",
   "execution_count": 55,
   "metadata": {},
   "outputs": [
    {
     "data": {
      "text/plain": [
       "[<article class=\"env-definition\" id=\"03NC\">\n",
       " <p><a class=\"environment-identifier\" href=\"/tag/03NC\">Definition <span data-tag=\"03NC\">54.9.1</span>.</a> Let $\\mathcal{C}$ be a category. A <em>presheaf of sets</em> (respectively, an <em>abelian presheaf</em>) on $\\mathcal{C}$ is a functor $\\mathcal{C}^{opp} \\to \\textit{Sets}$ (resp. $\\textit{Ab}$). </p>\n",
       " </article>]"
      ]
     },
     "execution_count": 55,
     "metadata": {},
     "output_type": "execute_result"
    }
   ],
   "source": [
    "stacks.findAll('article',{'class':'env-definition'})"
   ]
  },
  {
   "cell_type": "code",
   "execution_count": 68,
   "metadata": {},
   "outputs": [
    {
     "data": {
      "text/plain": [
       "[<article class=\"env-definition\" id=\"03NC\">\n",
       " <p><a class=\"environment-identifier\" href=\"/tag/03NC\">Definition <span data-tag=\"03NC\">54.9.1</span>.</a> Let $\\mathcal{C}$ be a category. A <em>presheaf of sets</em> (respectively, an <em>abelian presheaf</em>) on $\\mathcal{C}$ is a functor $\\mathcal{C}^{opp} \\to \\textit{Sets}$ (resp. $\\textit{Ab}$). </p>\n",
       " </article>]"
      ]
     },
     "execution_count": 68,
     "metadata": {},
     "output_type": "execute_result"
    }
   ],
   "source": [
    "stacks.find_all(attrs={'class': 'env-definition'})"
   ]
  },
  {
   "cell_type": "code",
   "execution_count": 121,
   "metadata": {},
   "outputs": [],
   "source": [
    "obj = stacks.select('.env-definition')[0]"
   ]
  },
  {
   "cell_type": "code",
   "execution_count": 123,
   "metadata": {},
   "outputs": [
    {
     "data": {
      "text/plain": [
       "'\\nDefinition 54.9.1. Let $\\\\mathcal{C}$ be a category. A presheaf of sets (respectively, an abelian presheaf) on $\\\\mathcal{C}$ is a functor $\\\\mathcal{C}^{opp} \\\\to \\\\textit{Sets}$ (resp. $\\\\textit{Ab}$). \\n'"
      ]
     },
     "execution_count": 123,
     "metadata": {},
     "output_type": "execute_result"
    }
   ],
   "source": [
    "obj.text"
   ]
  },
  {
   "cell_type": "code",
   "execution_count": 105,
   "metadata": {},
   "outputs": [
    {
     "data": {
      "text/plain": [
       "['54.9', ' Presheaves']"
      ]
     },
     "execution_count": 105,
     "metadata": {},
     "output_type": "execute_result"
    }
   ],
   "source": [
    "[o for o in obj.strings]"
   ]
  },
  {
   "cell_type": "code",
   "execution_count": null,
   "metadata": {},
   "outputs": [],
   "source": []
  }
 ],
 "metadata": {
  "kernelspec": {
   "display_name": "Python 3",
   "language": "python",
   "name": "python3"
  },
  "language_info": {
   "codemirror_mode": {
    "name": "ipython",
    "version": 3
   },
   "file_extension": ".py",
   "mimetype": "text/x-python",
   "name": "python",
   "nbconvert_exporter": "python",
   "pygments_lexer": "ipython3",
   "version": "3.7.1"
  }
 },
 "nbformat": 4,
 "nbformat_minor": 2
}
