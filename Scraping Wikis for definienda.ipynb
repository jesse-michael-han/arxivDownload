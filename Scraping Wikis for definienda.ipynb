{
 "cells": [
  {
   "cell_type": "code",
   "execution_count": 149,
   "metadata": {},
   "outputs": [],
   "source": [
    "import requests \n",
    "from bs4 import BeautifulSoup as bs\n",
    "import re\n",
    "import urllib.parse as up "
   ]
  },
  {
   "cell_type": "code",
   "execution_count": 125,
   "metadata": {},
   "outputs": [],
   "source": [
    "%load_ext autoreload\n",
    "%autoreload 2"
   ]
  },
  {
   "cell_type": "code",
   "execution_count": 127,
   "metadata": {},
   "outputs": [],
   "source": [
    "from definiendum import DefiniendumExtract as DE"
   ]
  },
  {
   "cell_type": "code",
   "execution_count": 261,
   "metadata": {},
   "outputs": [],
   "source": [
    "de = DE('https://groupprops.subwiki.org/wiki/Trivial_group')\n",
    "#for i in range(10):\n",
    "#    print(de.def_pair_or_none())\n",
    "#    de = DE(de.next()[0])"
   ]
  },
  {
   "cell_type": "code",
   "execution_count": 262,
   "metadata": {},
   "outputs": [
    {
     "name": "stdout",
     "output_type": "stream",
     "text": [
      "('trivial group', 'The trivial group is the group with only one element, which is its identity element. The trivial group is usually denoted as , , or .\\n') https://groupprops.subwiki.org/wiki/Trivial_group\n",
      "None https://groupprops.subwiki.org/wiki/Cyclic_group\n",
      "('isomorphic groups', 'Two groups  and  are termed isomorphic groups, in symbols  or , if there exists an isomorphism of groups from  to .\\n') https://groupprops.subwiki.org/wiki/Isomorphic_groups\n",
      "('group', 'A group is a set  with a binary operation  (termed the multiplication or product and denoted with infix notation -- so the product of  is denoted ) such that the following hold:\\n') https://groupprops.subwiki.org/wiki/Group\n",
      "None https://groupprops.subwiki.org/wiki/Understanding_the_definition_of_a_group\n",
      "None https://groupprops.subwiki.org/wiki/Understanding_the_definition_of_a_group\n",
      "None https://groupprops.subwiki.org/wiki/Understanding_the_definition_of_a_group\n",
      "None https://groupprops.subwiki.org/wiki/Understanding_the_definition_of_a_group\n",
      "None https://groupprops.subwiki.org/wiki/Understanding_the_definition_of_a_group\n",
      "None https://groupprops.subwiki.org/wiki/Understanding_the_definition_of_a_group\n"
     ]
    }
   ],
   "source": [
    "for i in range(10):\n",
    "    print(de.def_pair_or_none(), de.url.geturl())\n",
    "    de = DE(de.next()[0])"
   ]
  },
  {
   "cell_type": "code",
   "execution_count": 2,
   "metadata": {
    "scrolled": true
   },
   "outputs": [],
   "source": [
    "pedia = bs(requests.get('https://en.wikipedia.org/wiki/Submanifold').text,'lxml')\n",
    "prop = bs(requests.get('https://groupprops.subwiki.org/wiki/Trivial_group').text,'lxml')\n",
    "stacks = bs(requests.get('https://stacks.math.columbia.edu/tag/03NB').text,'lxml')"
   ]
  },
  {
   "cell_type": "code",
   "execution_count": 5,
   "metadata": {},
   "outputs": [
    {
     "data": {
      "text/plain": [
       "[<span class=\"mw-headline\" id=\"Formal_definition\">Formal definition</span>]"
      ]
     },
     "execution_count": 5,
     "metadata": {},
     "output_type": "execute_result"
    }
   ],
   "source": [
    "pedia.find_all('span',{'id':'Formal_definition'})"
   ]
  },
  {
   "cell_type": "code",
   "execution_count": 7,
   "metadata": {},
   "outputs": [
    {
     "data": {
      "text/plain": [
       "[<span class=\"mw-headline\" id=\"Definition\">Definition</span>]"
      ]
     },
     "execution_count": 7,
     "metadata": {},
     "output_type": "execute_result"
    }
   ],
   "source": [
    "prop.find_all(id='Definition')"
   ]
  },
  {
   "cell_type": "code",
   "execution_count": 237,
   "metadata": {},
   "outputs": [
    {
     "data": {
      "text/plain": [
       "1"
      ]
     },
     "execution_count": 237,
     "metadata": {},
     "output_type": "execute_result"
    }
   ],
   "source": [
    "True*True"
   ]
  },
  {
   "cell_type": "code",
   "execution_count": 8,
   "metadata": {},
   "outputs": [
    {
     "data": {
      "text/plain": [
       "[<span class=\"mw-headline\" id=\"Definition\">Definition</span>]"
      ]
     },
     "execution_count": 8,
     "metadata": {},
     "output_type": "execute_result"
    }
   ],
   "source": [
    "# CSS Selectors\n",
    "prop.select('span#Definition')"
   ]
  },
  {
   "cell_type": "code",
   "execution_count": 26,
   "metadata": {},
   "outputs": [
    {
     "data": {
      "text/plain": [
       "[<span class=\"mw-headline\" id=\"Definition\">Definition</span>]"
      ]
     },
     "execution_count": 26,
     "metadata": {},
     "output_type": "execute_result"
    }
   ],
   "source": [
    "# search with a function\n",
    "def insensitive_search(x, search_for='definition'):\n",
    "    if x:\n",
    "        return x.lower() == 'definition'\n",
    "    else:\n",
    "        return False\n",
    "    \n",
    "prop.findAll('span', id=insensitive_search)"
   ]
  },
  {
   "cell_type": "code",
   "execution_count": 117,
   "metadata": {
    "scrolled": true
   },
   "outputs": [
    {
     "name": "stdout",
     "output_type": "stream",
     "text": [
      "An immersed submanifold of a manifold M is the image S of an immersion map f: N → M; in general this image will not be a submanifold as a subset, and an immersion map need not even be injective (one-to-one) – it can have self-intersections.[1]\n",
      "\n",
      "More narrowly, one can require that the map f: N → M be an injection (one-to-one), in which we call it an injective immersion, and define an immersed submanifold to be the image subset S together with a topology and differential structure such that S is a manifold and the inclusion f is a diffeomorphism: this is just the topology on N, which in general will not agree with the subset topology: in general the subset S is not a submanifold of M, in the subset topology.\n",
      "\n",
      "Given any injective immersion f : N → M the image of N in M can be uniquely given the structure of an immersed submanifold so that f : N → f(N) is a diffeomorphism. It follows that immersed submanifolds are precisely the images of injective immersions.\n",
      "\n",
      "The submanifold topology on an immersed submanifold need not be the relative topology inherited from M. In general, it will be finer than the subspace topology (i.e. have more open sets).\n",
      "\n",
      "Immersed submanifolds occur in the theory of Lie groups where Lie subgroups are naturally immersed submanifolds.\n",
      "\n",
      "An embedded submanifold (also called a regular submanifold), is an immersed submanifold for which the inclusion map is a topological embedding. That is, the submanifold topology on S is the same as the subspace topology.\n",
      "\n",
      "Given any embedding f : N → M of a manifold N in M the image f(N) naturally has the structure of an embedded submanifold. That is, embedded submanifolds are precisely the images of embeddings.\n",
      "\n",
      "There is an intrinsic definition of an embedded submanifold which is often useful. Let M be an n-dimensional manifold, and let k be an integer such that 0 ≤ k ≤ n. A k-dimensional embedded submanifold of M is a subset S ⊂ M such that for every point p ∈ S there exists a chart (U ⊂ M, φ : U → Rn) containing p such that φ(S ∩ U) is the intersection of a k-dimensional plane with φ(U). The pairs (S ∩ U, φ|S ∩ U) form an atlas for the differential structure on S.\n",
      "\n",
      "There are some other variations of submanifolds used in the literature. A neat submanifold is a manifold whose boundary agrees with the boundary of the entire manifold.[2] Sharpe (1997) defines a type of submanifold which lies somewhere between an embedded submanifold and an immersed submanifold.\n",
      "\n",
      "Many authors define topological submanifolds also. These are the same as Cr submanifolds with r = 0.[3] An embedded topological submanifold is not necessarily regular in the sense of the existence of a local chart at each point extending the embedding. Counterexamples include wild arcs and wild knots.\n",
      "\n",
      "Given any immersed submanifold S of M, the tangent space to a point p in S can naturally be thought of as a linear subspace of the tangent space to p in M. This follows from the fact that the inclusion map is an immersion and provides an injection\n",
      "\n",
      "Suppose S is an immersed submanifold of M. If the inclusion map i : S → M is closed then S is actually an embedded submanifold of M. Conversely, if S is an embedded submanifold which is also a closed subset then the inclusion map is closed. The inclusion map i : S → M is closed if and only if it is a proper map (i.e. inverse images of compact sets are compact). If i is closed then S is called a closed embedded submanifold of M. Closed embedded submanifolds form the nicest class of submanifolds.\n",
      "\n",
      "Smooth manifolds are sometimes defined as embedded submanifolds of real coordinate space Rn, for some n. This point of view is equivalent to the usual, abstract approach, because, by the Whitney embedding theorem, any second-countable smooth (abstract) m-manifold can be smoothly embedded in R2m.\n",
      "\n"
     ]
    }
   ],
   "source": [
    "title = ped.findAll(id = 'firstHeading')[0].text.lower()\n",
    "reg_expr = re.compile('.*definition', re.I)\n",
    "Defin = pedia.findAll('span', id= reg_expr)[0]\n",
    "for p in P.parent.findAllNext('p'):\n",
    "    if title in p.text.lower():\n",
    "        print(p.text)"
   ]
  },
  {
   "cell_type": "code",
   "execution_count": 108,
   "metadata": {},
   "outputs": [
    {
     "name": "stdout",
     "output_type": "stream",
     "text": [
      "The trivial group is the group with only one element, which is its identity element. The trivial group is usually denoted as , , or .\n",
      "\n",
      "The trivial group is important in the following ways:\n",
      "\n"
     ]
    }
   ],
   "source": [
    "title = prop.findAll(id = 'firstHeading')[0].text.lower()\n",
    "reg_expr = re.compile('.*definition', re.I)\n",
    "Defin = prop.findAll('span', id= reg_expr)[0]\n",
    "for p in Defin.parent.findAllNext('p'):\n",
    "    if title in p.text.lower():\n",
    "        print(p.text)"
   ]
  },
  {
   "cell_type": "code",
   "execution_count": 111,
   "metadata": {},
   "outputs": [],
   "source": [
    "title = list(stacks.select('.tex-section')[0].strings)[-1]\n",
    "#reg_expr = re.compile('.*definition', re.I)\n",
    "#Defin = prop.findAll('span', id= reg_expr)[0]\n",
    "#for p in Defin.parent.findAllNext('p'):\n",
    "#    if title in p.text.lower():\n",
    "#        print(p.text)"
   ]
  },
  {
   "cell_type": "code",
   "execution_count": 55,
   "metadata": {},
   "outputs": [
    {
     "data": {
      "text/plain": [
       "[<article class=\"env-definition\" id=\"03NC\">\n",
       " <p><a class=\"environment-identifier\" href=\"/tag/03NC\">Definition <span data-tag=\"03NC\">54.9.1</span>.</a> Let $\\mathcal{C}$ be a category. A <em>presheaf of sets</em> (respectively, an <em>abelian presheaf</em>) on $\\mathcal{C}$ is a functor $\\mathcal{C}^{opp} \\to \\textit{Sets}$ (resp. $\\textit{Ab}$). </p>\n",
       " </article>]"
      ]
     },
     "execution_count": 55,
     "metadata": {},
     "output_type": "execute_result"
    }
   ],
   "source": [
    "stacks.findAll('article',{'class':'env-definition'})"
   ]
  },
  {
   "cell_type": "code",
   "execution_count": 68,
   "metadata": {},
   "outputs": [
    {
     "data": {
      "text/plain": [
       "[<article class=\"env-definition\" id=\"03NC\">\n",
       " <p><a class=\"environment-identifier\" href=\"/tag/03NC\">Definition <span data-tag=\"03NC\">54.9.1</span>.</a> Let $\\mathcal{C}$ be a category. A <em>presheaf of sets</em> (respectively, an <em>abelian presheaf</em>) on $\\mathcal{C}$ is a functor $\\mathcal{C}^{opp} \\to \\textit{Sets}$ (resp. $\\textit{Ab}$). </p>\n",
       " </article>]"
      ]
     },
     "execution_count": 68,
     "metadata": {},
     "output_type": "execute_result"
    }
   ],
   "source": [
    "stacks.find_all(attrs={'class': 'env-definition'})"
   ]
  },
  {
   "cell_type": "code",
   "execution_count": 121,
   "metadata": {},
   "outputs": [],
   "source": [
    "obj = stacks.select('.env-definition')[0]"
   ]
  },
  {
   "cell_type": "code",
   "execution_count": 123,
   "metadata": {},
   "outputs": [
    {
     "data": {
      "text/plain": [
       "'\\nDefinition 54.9.1. Let $\\\\mathcal{C}$ be a category. A presheaf of sets (respectively, an abelian presheaf) on $\\\\mathcal{C}$ is a functor $\\\\mathcal{C}^{opp} \\\\to \\\\textit{Sets}$ (resp. $\\\\textit{Ab}$). \\n'"
      ]
     },
     "execution_count": 123,
     "metadata": {},
     "output_type": "execute_result"
    }
   ],
   "source": [
    "obj.text"
   ]
  },
  {
   "cell_type": "code",
   "execution_count": 105,
   "metadata": {},
   "outputs": [
    {
     "data": {
      "text/plain": [
       "['54.9', ' Presheaves']"
      ]
     },
     "execution_count": 105,
     "metadata": {},
     "output_type": "execute_result"
    }
   ],
   "source": [
    "[o for o in obj.strings]"
   ]
  },
  {
   "cell_type": "code",
   "execution_count": null,
   "metadata": {},
   "outputs": [],
   "source": []
  }
 ],
 "metadata": {
  "kernelspec": {
   "display_name": "Python 3",
   "language": "python",
   "name": "python3"
  },
  "language_info": {
   "codemirror_mode": {
    "name": "ipython",
    "version": 3
   },
   "file_extension": ".py",
   "mimetype": "text/x-python",
   "name": "python",
   "nbconvert_exporter": "python",
   "pygments_lexer": "ipython3",
   "version": "3.7.1"
  }
 },
 "nbformat": 4,
 "nbformat_minor": 2
}
