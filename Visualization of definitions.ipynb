{
 "cells": [
  {
   "cell_type": "code",
   "execution_count": 49,
   "metadata": {},
   "outputs": [],
   "source": [
    "from yellowbrick.text import TSNEVisualizer\n",
    "from sklearn.feature_extraction.text import TfidfVectorizer\n",
    "from lxml import etree\n",
    "from nltk import word_tokenize\n",
    "import pickle\n",
    "import matplotlib\n",
    "import numpy as np\n",
    "import matplotlib.pyplot as plt"
   ]
  },
  {
   "cell_type": "code",
   "execution_count": 5,
   "metadata": {},
   "outputs": [],
   "source": [
    "ag = etree.parse('../mathAG_2015.xml').getroot()\n",
    "dg = etree.parse('../mathDG-2015.xml').getroot()"
   ]
  },
  {
   "cell_type": "code",
   "execution_count": 53,
   "metadata": {},
   "outputs": [],
   "source": [
    "perc = []\n",
    "for art in ag.iter(tag='article'):\n",
    "    N = int(art.attrib['num'])\n",
    "    perc += [int(n.attrib['index'])/N for n in art.findall('.//definition')]\n",
    "for art in dg.iter(tag='article'):\n",
    "    N = int(art.attrib['num'])\n",
    "    perc += [int(n.attrib['index'])/N for n in art.findall('.//definition')]"
   ]
  },
  {
   "cell_type": "code",
   "execution_count": 64,
   "metadata": {},
   "outputs": [
    {
     "data": {
      "image/png": "[encoded data removed]",
      "text/plain": [
       "<Figure size 432x360 with 1 Axes>"
      ]
     },
     "metadata": {
      "needs_background": "light"
     },
     "output_type": "display_data"
    }
   ],
   "source": [
    "fig=plt.figure(figsize=(6, 5))\n",
    "plt.xlabel('Percentile the def appears')\n",
    "plt.ylabel('Def count')\n",
    "plt.title('Distribution of appearance of definitions')\n",
    "hi = plt.hist(perc, 85)"
   ]
  },
  {
   "cell_type": "code",
   "execution_count": 45,
   "metadata": {
    "collapsed": true
   },
   "outputs": [
    {
     "name": "stdout",
     "output_type": "stream",
     "text": [
      "rigorous development  ---   A rigorous development of the SRVF metric. \n",
      "geodesic in  ---   Definition: A geodesic in _inline_math_ is a continuous function _inl\n",
      "disjoint union  ---   Let _inline_math_, and let _inline_math_ be a constant map, _inline_m\n",
      "Definition of P-segment  ---   Definition of P-segment: (Note that this is a long definition! It inc\n",
      "P-segment  ---   _inline_math_ is a sequence of P-segments and N-segments; i.e., there\n",
      "Lemma contains  ---   Note that this Lemma contains Lemma 20 as the special case in which t\n",
      "almost flat manifold  ---   An almost flat manifold whose 2-sylow subgroup of the holonomy group \n",
      "An infranilmanifold  ---   An infranilmanifold is a double coset space _inline_math_ where _inli\n",
      "normal subgroup  ---   Let _inline_math_. Then _inline_math_ is a normal subgroup of _inline\n",
      "central involution  ---   A central involution _inline_math_ of an infranilmanifold _inline_mat\n",
      "infranilmanifold  ---   Any infranilmanifold _inline_math_ with _inline_math_ a 2-group has a\n",
      "vector bundle  ---   A vector bundle _inline_math_ is flat if it has finite structure grou\n",
      "Tangent bundles of  ---   Tangent bundles of infranilmanifolds are flat: \n",
      "infranilmanifold  ---   Consider an infranilmanifold _inline_math_. Note that _inline_math_ i\n",
      "almost  ---   An almost flat manifold bounds provided that the 2-sylow subgroup of \n",
      "warped product  ---   The warped product provides a way to construct new pseudo-riemannian \n",
      "Dualistic structures  ---   Dualistic structures are closely related to statistical mathematics. \n",
      "affine connection  ---   In the notions of terms on statistical manifolds, for a torsion-free \n",
      "pseudo-Riemannian manifold  ---   Let _inline_math_ be a pseudo-Riemannian manifold and let _inline_mat\n",
      "real number  ---   For a real number _inline_math_, statistical manifolds _inline_math_ \n",
      "horizontal lift  ---   Let _inline_math_ in _inline_math_. The horizontal lift of _inline_ma\n",
      "vertical lift  ---   The vertical lift _inline_math_ of a function _inline_math_ to _inlin\n",
      "horizontal lift  ---   We define the horizontal lift of a covariant tensor _inline_math_ on \n",
      "Observe  ---   Observe that if _inline_math_ is the local basis of the vector fields\n",
      "Doubly warped product  ---   Let _inline_math_ and _inline_math_ be pseudo-Riemannian manifolds an\n",
      "warping function  ---   By analogy with _citation_ we will denote this structure by _inline_m\n",
      "statistical manifold  ---   _inline_math_ and _inline_math_ are statistical manifolds if and only\n",
      "symmetric tensor  ---   If the symmetric tensor field _inline_math_ of type _inline_math_ on \n",
      "gradient  ---   Let _inline_math_, _inline_math_ be two Riemannian manifolds and let \n",
      "gradient  ---   Let _inline_math_, _inline_math_ be two Riemannian manifolds and let \n",
      "Hessian of  ---   Let _inline_math_ and _inline_math_ be two dualistic structures on _i\n",
      "generalized warped product  ---   On a generalized warped product _inline_math_ with _inline_math_ and \n",
      "local frame  ---   On _inline_math_, if _inline_math_ is the local frame field with resp\n",
      "Riemannian curvature  ---   Let _inline_math_ and _inline_math_ be two Riemannian manifolds and l\n",
      "sum  ---   The sum _inline_math_ equals _display_math_ In the same way of _inlin\n",
      "connection  ---   The connection _inline_math_ on _inline_math_ induced by _inline_math\n",
      "statistical manifold  ---   _inline_math_ and _inline_math_ are statistical manifolds if only if \n",
      "Suppose  ---   Suppose _inline_math_ is a solution to (1). For any _inline_math_, th\n",
      "Kulkarni-Nomizu product  ---   Here, for _inline_math_, is the Kulkarni-Nomizu product of _inline_ma\n",
      "main ingredient  ---   The main ingredient is the following lemma concerning the second lead\n",
      "closed manifold  ---   Let _inline_math_ be a closed manifold equipped with a family of smoo\n",
      "sectional curvature  ---   Suppose that _inline_math_ has either strictly positive or strictly n\n",
      "Levi-Civita connection  ---   Let _inline_math_ be a solution to (38). The Levi-Civita connection a\n",
      "generalized complex structure  ---   A generalized complex structure on _inline_math_ defined via the Cour\n",
      "Kähler form  ---   Let _inline_math_ be integrable almost complex structures on _inline_\n",
      "generalized tangent bundle  ---   Consider the generalized tangent bundle _inline_math_, which admits a\n",
      "smooth Lie algebroid  ---   Let _inline_math_ be a smooth Lie algebroid. The Lie algebroid de Rha\n",
      "vector bundle  ---   Let _inline_math_ be a vector bundle, an _inline_math_-connection is \n",
      "Lie algebroid  ---   Let _inline_math_ be a holomorphic Lie algebroid. Two _inline_math_-m\n",
      "group  ---   The group _inline_math_ is obviously abelian. \n",
      "map  ---   The map _inline_math_ forgetting the _inline_math_-connection is a gr\n",
      "_inline_math_-eigensubbundle  ---   Let _inline_math_ be a generalized complex structure, with the _inlin\n",
      "generalized Kähler structure  ---   Let _inline_math_ be part of a generalized Kähler structure. A _inlin\n",
      "spectral sequences  ---   The spectral sequences associated to the double complex _inline_math_\n",
      "operators  ---   The operators _inline_math_ on _inline_math_ defined in (3.1) is indu\n",
      "spectral sequences  ---   The spectral sequences associated to the double complex _inline_math_\n",
      "complex vector bundle  ---   A complex vector bundle _inline_math_ is _inline_math_-holomorphic if\n",
      "_inline_math_-holomorphic vector bundle  ---   Let _inline_math_ be a _inline_math_-holomorphic vector bundle. Then \n",
      "spectral sequence  ---   _inline_math_. Moreover, the first page of the first spectral sequenc\n",
      "_inline_math_-holomorphic structure  ---   _inline_math_ is _inline_math_-holomorphic, with the _inline_math_-ho\n",
      "flat _inline_math_-connection  ---   together with a flat _inline_math_-connection, i.e. _inline_math_ and\n",
      "Dorfman bracket  ---   Let _inline_math_, we have the Dorfman bracket defined by _inline_mat\n",
      "natural spinor modules  ---   Consider the isomorphism of linear spaces with quadratic forms: _disp\n",
      "map  ---   The map _inline_math_ : _display_math_ is an isomorphism of spinor mo\n",
      "orbit  ---   Each orbit of the adjoint action of _inline_math_ on the space of Lag\n",
      "complex structure  ---   Since _inline_math_, a complex structure _inline_math_ on _inline_mat\n",
      "Pittie _citation_ showed  ---   Pittie _citation_ showed that there is a unique Borel subalgebra _inl\n",
      "Borel subalgebra  ---   _inline_math_ is a Borel subalgebra, and _inline_math_ is the corresp\n",
      "complex structure  ---   _inline_math_ is a complex structure on the corresponding real Cartan\n",
      "right invariant  ---   Let _inline_math_ be two integrable complex structures on _inline_mat\n",
      "Lemma 5.1  ---   By Lemma 5.1, a complex Lagrangian subalgebra _inline_math_ is of the\n",
      "generalized complex structure  ---   A generalized complex structure on _inline_math_ defined via the Cour\n",
      "generalized Belavin-Drinfeld triple  ---   _inline_math_ is trivial, i.e. the generalized Belavin-Drinfeld tripl\n",
      "induced generalized Kähler structure  ---   An induced generalized Kähler structure on _inline_math_ is a Lie alg\n",
      "maximal torus  ---   Up to group automorphisms, induced generalized Kähler structures on _\n",
      "semi-simple Lie group  ---   _inline_math_ when _inline_math_ is a semi-simple Lie group. \n",
      "pure spinor  ---   _inline_math_ as given above is a pure spinor defining _inline_math_,\n",
      "_inline_math_-canonical bundle  ---   The _inline_math_-canonical bundle of a Lie algebraic generalized Käh\n",
      "dimensional torus  ---   Let _inline_math_ be an even dimensional torus, then any invariant ge\n",
      "complex basis  ---   Let _inline_math_ be a complex basis of _inline_math_ and _inline_mat\n",
      "_inline_math_-eigensubspace  ---   _inline_math_, where _inline_math_ with _inline_math_ and _inline_mat\n",
      "vector bundles  ---   _inline_math_ are trivial as _inline_math_-holomorphic vector bundles\n",
      "first page  ---   The first page of the first spectral sequence associated to _inline_m\n",
      "first spectral sequence  ---   The first spectral sequence associated to _inline_math_ collapses at \n",
      "complete noncompact Kähler manifold  ---   Let _inline_math_ be a complete noncompact Kähler manifold with nonne\n",
      "complete Kähler manifold  ---   On a complete Kähler manifold _inline_math_, we say a holomorphic fun\n",
      "complete noncompact Kähler manifold  ---   Let _inline_math_ be a complete noncompact Kähler manifold with posit\n",
      "Scalar curvature  ---   Scalar curvature _inline_math_ for some _inline_math_; \n",
      "scalar curvature  ---   (3) there exists a constant _inline_math_ independent of _inline_math\n",
      "Gromov-Hausdorff topology  ---   Let _inline_math_ in the Gromov-Hausdorff topology. Assume _inline_ma\n",
      "Gromov-Hausdorff limit  ---   Let the complete pointed metric space _inline_math_ be the Gromov-Hau\n",
      "point  ---   A point _inline_math_ is called regular, if there exists some _inline\n",
      "complete noncompact Kähler manifold  ---   Let _inline_math_ be a complete noncompact Kähler manifold with nonne\n",
      "Hormander  ---   Hormander _inline_math_ theory: \n",
      "holomorphic chart  ---   _inline_math_ is a holomorphic chart in _inline_math_. \n",
      "standard cut-off function  ---   Now define _display_math_ Here _inline_math_ is a standard cut-off fu\n",
      "compact group  ---   _inline_math_ is a compact group. \n",
      "complete noncompact Kähler manifold  ---   Let _inline_math_ be a complete noncompact Kähler manifold with nonne\n",
      "heat equation  ---   _inline_math_ is a subsolution of the heat equation. Moreover, _inlin\n",
      "group  ---   A group _inline_math_ is reductive if every rational representation i\n",
      "Laplace-Beltrami operator  ---   Let _inline_math_ be a closed riemannian four manifold with scalar cu\n",
      "Dirac operator  ---   where _inline_math_, _inline_math_ is the positive component of the D\n"
     ]
    }
   ],
   "source": [
    "for k,D in enumerate(dg.iter(tag='definition')):\n",
    "    try:\n",
    "        print(D.find('.//dfndum').text,' --- ', (D.find('.//stmnt').text)[:70])\n",
    "    except:\n",
    "        pass\n",
    "    if k>200: break"
   ]
  },
  {
   "cell_type": "code",
   "execution_count": 35,
   "metadata": {},
   "outputs": [],
   "source": [
    "empty_if_none = lambda s: s if s else ''\n",
    "ag_lst = [p.text for p in ag.iter(tag='stmnt') if len(empty_if_none(p.text))> 5][:300]\n",
    "dg_lst = [p.text for p in dg.iter(tag='stmnt') if len(empty_if_none(p.text))> 5][:300]"
   ]
  },
  {
   "cell_type": "code",
   "execution_count": 7,
   "metadata": {},
   "outputs": [],
   "source": [
    "with open('../PickleJar/vectorizer.pickle', 'rb') as vzer_f:\n",
    "    vzer = pickle.load(vzer_f)"
   ]
  },
  {
   "cell_type": "code",
   "execution_count": 23,
   "metadata": {},
   "outputs": [],
   "source": [
    "tot_vec = vzer.transform(ag_lst + dg_lst)"
   ]
  },
  {
   "cell_type": "code",
   "execution_count": 32,
   "metadata": {},
   "outputs": [
    {
     "data": {
      "text/plain": [
       "(200, 205970)"
      ]
     },
     "execution_count": 32,
     "metadata": {},
     "output_type": "execute_result"
    }
   ],
   "source": [
    "tot_vec.shape"
   ]
  },
  {
   "cell_type": "code",
   "execution_count": 33,
   "metadata": {},
   "outputs": [],
   "source": [
    "# ag is zero and dg is 1\n",
    "labels_vec = len(ag_lst)*['math.AG'] + len(dg_lst)*['math.DG']"
   ]
  },
  {
   "cell_type": "code",
   "execution_count": 34,
   "metadata": {},
   "outputs": [
    {
     "name": "stderr",
     "output_type": "stream",
     "text": [
      "'c' argument looks like a single numeric RGB or RGBA sequence, which should be avoided as value-mapping will have precedence in case its length matches with 'x' & 'y'.  Please use a 2-D array with a single row if you really want to specify the same RGB or RGBA value for all points.\n",
      "'c' argument looks like a single numeric RGB or RGBA sequence, which should be avoided as value-mapping will have precedence in case its length matches with 'x' & 'y'.  Please use a 2-D array with a single row if you really want to specify the same RGB or RGBA value for all points.\n"
     ]
    },
    {
     "data": {
      "image/png": "[encoded data removed]",
      "text/plain": [
       "<Figure size 432x288 with 1 Axes>"
      ]
     },
     "metadata": {},
     "output_type": "display_data"
    }
   ],
   "source": [
    "tsne2 = TSNEVisualizer(labels=['math.AG','math.DG'])\n",
    "tsne2.fit(tot_vec, labels_vec)\n",
    "tsne2.poof(figsize=50)"
   ]
  },
  {
   "cell_type": "code",
   "execution_count": 21,
   "metadata": {
    "scrolled": true
   },
   "outputs": [],
   "source": []
  },
  {
   "cell_type": "code",
   "execution_count": null,
   "metadata": {},
   "outputs": [],
   "source": []
  }
 ],
 "metadata": {
  "kernelspec": {
   "display_name": "Python 3",
   "language": "python",
   "name": "python3"
  },
  "language_info": {
   "codemirror_mode": {
    "name": "ipython",
    "version": 3
   },
   "file_extension": ".py",
   "mimetype": "text/x-python",
   "name": "python",
   "nbconvert_exporter": "python",
   "pygments_lexer": "ipython3",
   "version": "3.7.1"
  }
 },
 "nbformat": 4,
 "nbformat_minor": 2
}
