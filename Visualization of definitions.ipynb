{
 "cells": [
  {
   "cell_type": "code",
   "execution_count": 36,
   "metadata": {},
   "outputs": [],
   "source": [
    "#from yellowbrick.text import TSNEVisualizer\n",
    "from sklearn.feature_extraction.text import TfidfVectorizer\n",
    "from lxml import etree\n",
    "from nltk import word_tokenize\n",
    "import pickle\n",
    "import matplotlib\n",
    "import numpy as np\n",
    "import matplotlib.pyplot as plt\n",
    "from collections import Counter\n",
    "import glob"
   ]
  },
  {
   "cell_type": "code",
   "execution_count": 25,
   "metadata": {},
   "outputs": [],
   "source": [
    "ag = etree.parse('/home/pi/hola_rm_me/1501_005.xml.gz').getroot()\n",
    "#dg = etree.parse('data/mathDG-2015.xml').getroot()"
   ]
  },
  {
   "cell_type": "code",
   "execution_count": 61,
   "metadata": {},
   "outputs": [],
   "source": [
    "dfndum_set = set()\n",
    "new_dfndum_lst = [0]\n",
    "tot_dfndum_lst = [0]\n",
    "rep_ratio = []\n",
    "term_cnt = Counter()\n",
    "for xml_path in glob.glob('/home/pi/hola_rm_me/15*.xml.gz'):\n",
    "    ag = etree.parse(xml_path).getroot()\n",
    "    for art in ag.iter(tag='article'):\n",
    "        d_lst = [d.text for d in art.findall('.//dfndum')]\n",
    "        dfndum_set.update(d_lst)\n",
    "        term_cnt.update(d_lst)\n",
    "        new_dfndum_lst.append(len(dfndum_set))\n",
    "        tot_dfndum_lst.append(tot_dfndum_lst[-1] + len(d_lst))\n",
    "        rep_ratio.append(len(dfndum_set)/tot_dfndum_lst[-1])"
   ]
  },
  {
   "cell_type": "code",
   "execution_count": 71,
   "metadata": {},
   "outputs": [
    {
     "name": "stdout",
     "output_type": "stream",
     "text": [
      "Total # of term:  992852\n",
      "# of distinct terms:  290994\n"
     ]
    },
    {
     "data": {
      "text/plain": [
       "[('de Rham space', 1),\n",
       " ('annular factor', 1),\n",
       " ('supersymmetry algebras', 1),\n",
       " ('internal bracket', 1),\n",
       " ('complex supertranslation', 1),\n",
       " ('Poincaré algebras', 1),\n",
       " ('supertranslation algebra', 1),\n",
       " ('bosonic piece', 1),\n",
       " ('supersymmetric field theory', 1),\n",
       " ('complexified Poincaré algebra', 1),\n",
       " ('super-translation algebra', 1),\n",
       " ('dimensional vector space', 1),\n",
       " ('local module structure', 1),\n",
       " ('formal derived moduli problem', 1),\n",
       " ('_inline_math_-shifted tangent complex', 1),\n",
       " ('formal derived', 1),\n",
       " ('Petersburg random variables', 1),\n",
       " ('_inline_math_-trimmed sum', 1),\n",
       " ('Petersburg sum', 1),\n",
       " ('1-trimmed sum', 1),\n",
       " ('generalized St. Petersburg distribution', 1),\n",
       " ('_inline_math_-path chromatic number', 1),\n",
       " ('_inline_math_-strong linear arboricity', 1),\n",
       " ('out-endvertex and', 1),\n",
       " ('out-endvertex', 1),\n",
       " ('directed _inline_math_-to-_inline_math_ subpath', 1),\n",
       " ('_inline_math_-vertex coloring', 1),\n",
       " ('row matrix', 1),\n",
       " ('multivariate concave function', 1),\n",
       " ('connected Eulerian digraph', 1),\n",
       " ('sink component', 1),\n",
       " ('digraph always', 1),\n",
       " ('pile of', 1),\n",
       " ('non-zero period vector', 1),\n",
       " ('so-called reachability question', 1),\n",
       " ('first necessary condition', 1),\n",
       " ('chip-firing reachability problem', 1),\n",
       " ('so-called chip-firing halting problem', 1),\n",
       " ('Chip-firing halting problem', 1),\n",
       " ('affine planar maps', 1),\n",
       " ('two-by-two Jacobian derivative matrix', 1),\n",
       " ('point _item_', 1),\n",
       " ('hyperbola _item_', 1),\n",
       " ('common point _item_', 1),\n",
       " ('parabola _item_', 1),\n",
       " ('coincident lines', 1),\n",
       " ('next subcase', 1),\n",
       " ('coincident pair', 1),\n",
       " ('right-half-plane', 1),\n",
       " ('left-half-plane', 1),\n",
       " ('_item_ point', 1),\n",
       " ('nondegenerate cusp', 1),\n",
       " ('Theorem statement', 1),\n",
       " ('twelve-parameter family of', 1),\n",
       " ('seven-parameter family', 1),\n",
       " ('Problem E.', 1),\n",
       " ('partial autocorrelation function', 1),\n",
       " ('finite predictor coefficients', 1),\n",
       " ('univariate fractional ARIMA_inline_math_ process', 1),\n",
       " ('multivariate FARIMA processes', 1),\n",
       " ('potent _inline_math_-group', 1),\n",
       " ('generalised _inline_math_-central _inline_math_-group', 1),\n",
       " ('Generalised _inline_math_-central _inline_math_-groups', 1),\n",
       " ('_inline_math_-central _inline_math_-groups', 1),\n",
       " ('metacyclic _inline_math_-group _inline_math_', 1),\n",
       " ('Beauville _inline_math_-group', 1),\n",
       " ('several occasions', 1),\n",
       " ('optimal receding horizon', 1),\n",
       " ('value functional', 1),\n",
       " ('Jacobian vector', 1),\n",
       " ('_item_ Model hypotheses', 1),\n",
       " ('Model hypotheses', 1),\n",
       " ('Initial starting', 1),\n",
       " ('_item_ Current state', 1),\n",
       " ('Current state', 1),\n",
       " ('simulated discretised trajectory', 1),\n",
       " ('Vice-versa', 1),\n",
       " ('characterizing set-valued function', 1),\n",
       " ('t-conorm', 1),\n",
       " ('oper', 1),\n",
       " ('Komatsu-Malgrange Formula', 1),\n",
       " ('states-fields correspondence', 1),\n",
       " ('Chervov-Molev-Talalaev vector', 1),\n",
       " ('Donald A.', 1),\n",
       " ('simple colony', 1),\n",
       " ('_inline_math_-type Fleming-Viot process', 1),\n",
       " ('Level II fitness', 1),\n",
       " ('alternative class', 1),\n",
       " ('Transitions at rate', 1),\n",
       " ('Level I Coalescence', 1),\n",
       " ('Level II coalescence', 1),\n",
       " ('interacting systems', 1),\n",
       " ('Mutation at rank', 1),\n",
       " ('Definition 5.12 and', 1),\n",
       " ('Coalescence at rate', 1),\n",
       " ('Migration at rate', 1),\n",
       " ('State-dependent', 1),\n",
       " ('unoccupied deme', 1),\n",
       " ('Selection at', 1),\n",
       " ('II selection', 1),\n",
       " ('corresponding set-valued transitions', 1),\n",
       " ('two-level coalescent', 1),\n",
       " ('migration rate', 1),\n",
       " ('deme fitness', 1),\n",
       " ('cooperative interaction', 1),\n",
       " ('emergence of', 1),\n",
       " ('relative fitness', 1),\n",
       " ('generalized Kesten-McKay', 1),\n",
       " ('cube _citation_', 1),\n",
       " ('falling power', 1),\n",
       " ('smaller slice', 1),\n",
       " ('cube-Boolean function', 1),\n",
       " ('striking form', 1),\n",
       " ('Lévy–Prokhorov distance', 1),\n",
       " ('Tal _citation_ proved', 1),\n",
       " ('Gelfand–Tsetlin basis', 1),\n",
       " ('Filmus _citation_', 1),\n",
       " ('harmonic projection', 1),\n",
       " ('parameter-dependent order', 1),\n",
       " ('parameter-dependent principal symbol', 1),\n",
       " ('parameter -dependent', 1),\n",
       " ('parameter-dependent operator', 1),\n",
       " ('canonical product decomposition', 1),\n",
       " ('Ellipticity with parameter', 1),\n",
       " ('parameter-dependent version', 1),\n",
       " ('Guillarmou _citation_', 1),\n",
       " ('two-tensor', 1),\n",
       " ('stationary aAdS spacetime', 1),\n",
       " ('Klein–Gordon operator', 1),\n",
       " ('Grisvard _citation_', 1),\n",
       " ('Bessel operators', 1),\n",
       " ('standard parameter-dependent norms', 1),\n",
       " ('parameter-dependent norms', 1),\n",
       " ('standard Lopatinskiǐ condition', 1),\n",
       " ('_inline_math_-independent boundary condition', 1),\n",
       " ('order regularity', 1),\n",
       " ('parametet-dependent Bessel operator', 1),\n",
       " ('scalar parameter-dependent boundary', 1),\n",
       " ('Zemanian space', 1),\n",
       " ('Counting Midpoints', 1),\n",
       " ('mass sequence', 1),\n",
       " ('big polygon', 1),\n",
       " ('Figure 4.1', 1),\n",
       " ('marked box', 1),\n",
       " ('pattern of', 1),\n",
       " ('normalized tree realization', 1),\n",
       " ('Realization Lemma', 1),\n",
       " ('corresponding classifying map', 1),\n",
       " ('core predecessor', 1),\n",
       " ('plaid tilings', 1),\n",
       " ('Figure 6.1', 1),\n",
       " ('local stabilitiy properties', 1),\n",
       " ('rot proportion', 1),\n",
       " ('Gauss-Manin invariants', 1),\n",
       " ('relative holomorphic structure', 1),\n",
       " ('relative _inline_math_-operator', 1),\n",
       " ('fiberwise restriction', 1),\n",
       " ('global integrable operator', 1),\n",
       " ('second kinds', 1),\n",
       " ('flat relative connection', 1),\n",
       " ('Deligne symbols', 1),\n",
       " ('proposition justifies', 1),\n",
       " ('rigidified connections satisyfing', 1),\n",
       " ('extended connection', 1),\n",
       " ('Deligne isomorphism', 1),\n",
       " ('HKLR form', 1),\n",
       " ('easy-to-compute form', 1),\n",
       " ('Reproducing Kernel Hilbert space', 1),\n",
       " ('Maximum Mean Discrepancy', 1),\n",
       " ('parametric bootstrap', 1),\n",
       " ('rejection region', 1),\n",
       " ('first implication', 1),\n",
       " ('Simulation design', 1),\n",
       " ('_citation_ suggest', 1),\n",
       " ('Kolmogorov-Smirnov test', 1),\n",
       " ('eigenexpansion of', 1),\n",
       " ('Exponential kernel', 1),\n",
       " ('empirical parameters', 1),\n",
       " ('boundary-unipotent representations', 1),\n",
       " ('2-3 move', 1),\n",
       " ('_inline_math_-representation is', 1),\n",
       " ('equivariant assignment of', 1),\n",
       " ('boundary-unipotent representation', 1),\n",
       " ('boundary-Borel representation', 1),\n",
       " ('boundary-nondegenerate _inline_math_-representation', 1),\n",
       " ('unique _inline_math_-decoration', 1),\n",
       " ('boundary-nondegenerate _inline_math_-representation generically', 1),\n",
       " ('Long edges', 1),\n",
       " ('one-to-one-correspondence', 1),\n",
       " ('cellular cocycle', 1),\n",
       " ('inkcol1rgb0.0,0.0,0.0 inkcol1_inline_math_ inkcol1rgb0.0,0.0,0.0 inkcol1_inline_math_ inkcol1rgb0.0,0.0,0.0 inkcol1_inline_math_ inkcol1rgb0.0,0.0,0.0 inkcol1_inline_math_ inkcol1rgb0.0,0.0,0.0 inkcol1_inline_math_ inkcol1rgb0.0,0.0,0.0 inkcol1_inline_math_ inkcol1rgb0.0,0.0,0.0 inkcol1_inline_math_ inkcol1rgb0.0,0.0,0.0 inkcol1_inline_math_ inkcol1rgb0.0,0.0,0.0 inkcol1_inline_math_ inkcol1rgb0.0,0.0,0.0 inkcol1_inline_math_ inkcol1rgb0.0,0.0,0.0 inkcol1_inline_math_ inkcol1rgb0.0,0.0,0.0 inkcol1_inline_math_ inkcol1rgb0.0,0.0,0.0 inkcol1_inline_math_ inkcol1rgb0.0,0.0,0.0 inkcol1_inline_math_ inkcol1rgb0.0,0.0,0.0 inkcol1_inline_math_ inkcol1rgb0.0,0.0,0.0 inkcol1_inline_math_ inkcol1rgb0.0,0.0,0.0 inkcol1_inline_math_ inkcol1rgb0.0,0.0,0.0 inkcol1_inline_math_ inkcol1rgb0.0,0.0,0.0 inkcol1_inline_math_ inkcol1rgb0.0,0.0,0.0 inkcol1_inline_math_ inkcol1rgb0.0,0.0,0.0 inkcol1_inline_math_ inkcol1rgb0.0,0.0,0.0 inkcol1_inline_math_ inkcol1rgb0.0,0.0,0.0 inkcol1_inline_math_ inkcol1rgb0.0,0.0,0.0 inkcol1_inline_math_ inkcol1rgb0.0,0.0,0.0 inkcol1_inline_math_ inkcol1rgb0.0,0.0,0.0 inkcol1_inline_math_ inkcol1rgb0.0,0.0,0.0',\n",
       "  1),\n",
       " ('inkcol1rgb0.0,0.0,0.0 inkcol1_inline_math_ inkcol1rgb0.0,0.0,0.0 inkcol1_inline_math_ inkcol1rgb0.0,0.0,0.0 inkcol1_inline_math_ inkcol1rgb0.0,0.0,0.0 inkcol1_inline_math_ inkcol1rgb0.0,0.0,0.0 inkcol1_inline_math_ inkcol1rgb0.0,0.0,0.0 inkcol1_inline_math_ inkcol1rgb0.0,0.0,0.0 inkcol1_inline_math_ inkcol1rgb0.0,0.0,0.0 inkcol1_inline_math_ inkcol1rgb0.0,0.0,0.0 inkcol1_inline_math_ inkcol1rgb0.0,0.0,0.0',\n",
       "  1),\n",
       " ('_inline_math_-decoration of', 1),\n",
       " ('_inline_math_-equivariant assignment of', 1),\n",
       " ('fattened natural cocycle', 1),\n",
       " ('_inline_math_-cocycle satisfying', 1),\n",
       " ('_inline_math_-cocycle labeling', 1),\n",
       " ('_inline_math_-valued zero-cochain', 1),\n",
       " ('inkcol1rgb0.0,0.0,0.0 inkcol1_inline_math_ inkcol1rgb0.0,0.0,0.0', 1),\n",
       " ('inkcol1rgb0.0,0.0,0.0 inkcol1_inline_math_ inkcol1rgb0.0,0.0,0.0 inkcol1_inline_math_ inkcol1rgb0.0,0.0,0.0 inkcol1_inline_math_ inkcol1rgb0.0,0.0,0.0 inkcol1_inline_math_ inkcol1rgb0.0,0.0,0.0 inkcol1_inline_math_ inkcol1rgb0.0,0.0,0.0 inkcol1_inline_math_ inkcol1rgb0.0,0.0,0.0 inkcol1_inline_math_ inkcol1rgb0.0,0.0,0.0 inkcol1_inline_math_ inkcol1rgb0.0,0.0,0.0 inkcol1_inline_math_ inkcol1rgb0.0,0.0,0.0 inkcol1_inline_math_ inkcol1rgb0.0,0.0,0.0 inkcol1_inline_math_ inkcol1rgb0.0,0.0,0.0 inkcol1_inline_math_ inkcol1rgb0.0,0.0,0.0 inkcol1_inline_math_ inkcol1rgb0.0,0.0,0.0 inkcol1_inline_math_ inkcol1rgb0.0,0.0,0.0 inkcol1_inline_math_ inkcol1rgb0.0,0.0,0.0 inkcol1_inline_math_ inkcol1rgb0.0,0.0,0.0 inkcol1_inline_math_ inkcol1rgb0.0,0.0,0.0',\n",
       "  1)]"
      ]
     },
     "execution_count": 71,
     "metadata": {},
     "output_type": "execute_result"
    }
   ],
   "source": [
    "print(\"Total # of term: \",tot_dfndum_lst[-1])\n",
    "print(\"# of distinct terms: \",new_dfndum_lst[-1])\n",
    "term_cnt.most_common()[100000:100200]\n",
    "#term_cnt['local stability properties']"
   ]
  },
  {
   "cell_type": "code",
   "execution_count": 65,
   "metadata": {},
   "outputs": [
    {
     "data": {
      "text/plain": [
       "[<matplotlib.lines.Line2D at 0xa78c98d0>]"
      ]
     },
     "execution_count": 65,
     "metadata": {},
     "output_type": "execute_result"
    },
    {
     "data": {
      "image/png": "[encoded data removed]",
      "text/plain": [
       "<Figure size 432x288 with 1 Axes>"
      ]
     },
     "metadata": {
      "needs_background": "light"
     },
     "output_type": "display_data"
    }
   ],
   "source": [
    "#plt.plot(term_cnt.values())\n",
    "plt.plot([min(100,t) for t in term_cnt.values()])"
   ]
  },
  {
   "cell_type": "code",
   "execution_count": 42,
   "metadata": {},
   "outputs": [
    {
     "data": {
      "text/plain": [
       "<matplotlib.legend.Legend at 0xa64dec70>"
      ]
     },
     "execution_count": 42,
     "metadata": {},
     "output_type": "execute_result"
    },
    {
     "data": {
      "image/png": "[encoded data removed]",
      "text/plain": [
       "<Figure size 432x360 with 1 Axes>"
      ]
     },
     "metadata": {
      "needs_background": "light"
     },
     "output_type": "display_data"
    }
   ],
   "source": [
    "plt.figure(figsize=(6,5))\n",
    "plt.plot(new_dfndum_lst, label='new')\n",
    "plt.plot(tot_dfndum_lst, label='total')\n",
    "#plt.title('New terms in math.AG 2015')\n",
    "plt.ylabel('Number of terms')\n",
    "plt.xlabel('Number of articles')\n",
    "plt.legend()"
   ]
  },
  {
   "cell_type": "code",
   "execution_count": 64,
   "metadata": {},
   "outputs": [
    {
     "data": {
      "text/plain": [
       "[<matplotlib.lines.Line2D at 0x9b13fdd0>]"
      ]
     },
     "execution_count": 64,
     "metadata": {},
     "output_type": "execute_result"
    },
    {
     "data": {
      "image/png": "[encoded data removed]",
      "text/plain": [
       "<Figure size 432x288 with 1 Axes>"
      ]
     },
     "metadata": {
      "needs_background": "light"
     },
     "output_type": "display_data"
    }
   ],
   "source": [
    "plt.plot(rep_ratio)"
   ]
  },
  {
   "cell_type": "code",
   "execution_count": 43,
   "metadata": {},
   "outputs": [
    {
     "ename": "NameError",
     "evalue": "name 'dg' is not defined",
     "output_type": "error",
     "traceback": [
      "\u001b[0;31m---------------------------------------------------------------------------\u001b[0m",
      "\u001b[0;31mNameError\u001b[0m                                 Traceback (most recent call last)",
      "\u001b[0;32m<ipython-input-43-add6ca7be8d4>\u001b[0m in \u001b[0;36m<module>\u001b[0;34m\u001b[0m\n\u001b[1;32m      3\u001b[0m     \u001b[0mN\u001b[0m \u001b[0;34m=\u001b[0m \u001b[0mint\u001b[0m\u001b[0;34m(\u001b[0m\u001b[0mart\u001b[0m\u001b[0;34m.\u001b[0m\u001b[0mattrib\u001b[0m\u001b[0;34m[\u001b[0m\u001b[0;34m'num'\u001b[0m\u001b[0;34m]\u001b[0m\u001b[0;34m)\u001b[0m\u001b[0;34m\u001b[0m\u001b[0;34m\u001b[0m\u001b[0m\n\u001b[1;32m      4\u001b[0m     \u001b[0mperc\u001b[0m \u001b[0;34m+=\u001b[0m \u001b[0;34m[\u001b[0m\u001b[0mint\u001b[0m\u001b[0;34m(\u001b[0m\u001b[0mn\u001b[0m\u001b[0;34m.\u001b[0m\u001b[0mattrib\u001b[0m\u001b[0;34m[\u001b[0m\u001b[0;34m'index'\u001b[0m\u001b[0;34m]\u001b[0m\u001b[0;34m)\u001b[0m\u001b[0;34m/\u001b[0m\u001b[0mN\u001b[0m \u001b[0;32mfor\u001b[0m \u001b[0mn\u001b[0m \u001b[0;32min\u001b[0m \u001b[0mart\u001b[0m\u001b[0;34m.\u001b[0m\u001b[0mfindall\u001b[0m\u001b[0;34m(\u001b[0m\u001b[0;34m'.//definition'\u001b[0m\u001b[0;34m)\u001b[0m\u001b[0;34m]\u001b[0m\u001b[0;34m\u001b[0m\u001b[0;34m\u001b[0m\u001b[0m\n\u001b[0;32m----> 5\u001b[0;31m \u001b[0;32mfor\u001b[0m \u001b[0mart\u001b[0m \u001b[0;32min\u001b[0m \u001b[0mdg\u001b[0m\u001b[0;34m.\u001b[0m\u001b[0miter\u001b[0m\u001b[0;34m(\u001b[0m\u001b[0mtag\u001b[0m\u001b[0;34m=\u001b[0m\u001b[0;34m'article'\u001b[0m\u001b[0;34m)\u001b[0m\u001b[0;34m:\u001b[0m\u001b[0;34m\u001b[0m\u001b[0;34m\u001b[0m\u001b[0m\n\u001b[0m\u001b[1;32m      6\u001b[0m     \u001b[0mN\u001b[0m \u001b[0;34m=\u001b[0m \u001b[0mint\u001b[0m\u001b[0;34m(\u001b[0m\u001b[0mart\u001b[0m\u001b[0;34m.\u001b[0m\u001b[0mattrib\u001b[0m\u001b[0;34m[\u001b[0m\u001b[0;34m'num'\u001b[0m\u001b[0;34m]\u001b[0m\u001b[0;34m)\u001b[0m\u001b[0;34m\u001b[0m\u001b[0;34m\u001b[0m\u001b[0m\n\u001b[1;32m      7\u001b[0m     \u001b[0mperc\u001b[0m \u001b[0;34m+=\u001b[0m \u001b[0;34m[\u001b[0m\u001b[0mint\u001b[0m\u001b[0;34m(\u001b[0m\u001b[0mn\u001b[0m\u001b[0;34m.\u001b[0m\u001b[0mattrib\u001b[0m\u001b[0;34m[\u001b[0m\u001b[0;34m'index'\u001b[0m\u001b[0;34m]\u001b[0m\u001b[0;34m)\u001b[0m\u001b[0;34m/\u001b[0m\u001b[0mN\u001b[0m \u001b[0;32mfor\u001b[0m \u001b[0mn\u001b[0m \u001b[0;32min\u001b[0m \u001b[0mart\u001b[0m\u001b[0;34m.\u001b[0m\u001b[0mfindall\u001b[0m\u001b[0;34m(\u001b[0m\u001b[0;34m'.//definition'\u001b[0m\u001b[0;34m)\u001b[0m\u001b[0;34m]\u001b[0m\u001b[0;34m\u001b[0m\u001b[0;34m\u001b[0m\u001b[0m\n",
      "\u001b[0;31mNameError\u001b[0m: name 'dg' is not defined"
     ]
    }
   ],
   "source": [
    "perc = []\n",
    "for art in ag.iter(tag='article'):\n",
    "    N = int(art.attrib['num'])\n",
    "    perc += [int(n.attrib['index'])/N for n in art.findall('.//definition')]\n",
    "for art in dg.iter(tag='article'):\n",
    "    N = int(art.attrib['num'])\n",
    "    perc += [int(n.attrib['index'])/N for n in art.findall('.//definition')]"
   ]
  },
  {
   "cell_type": "code",
   "execution_count": 64,
   "metadata": {},
   "outputs": [
    {
     "data": {
      "image/png": "[encoded data removed]",
      "text/plain": [
       "<Figure size 432x360 with 1 Axes>"
      ]
     },
     "metadata": {
      "needs_background": "light"
     },
     "output_type": "display_data"
    }
   ],
   "source": [
    "fig=plt.figure(figsize=(6, 5))\n",
    "plt.xlabel('Percentile the def appears')\n",
    "plt.ylabel('Def count')\n",
    "plt.title('Distribution of appearance of definitions')\n",
    "hi = plt.hist(perc, 85)"
   ]
  },
  {
   "cell_type": "code",
   "execution_count": 14,
   "metadata": {},
   "outputs": [],
   "source": [
    "with open('data/mathAG_2015_just_text.txt', 'w+') as mathag:\n",
    "    for k,D in enumerate(ag.iter(tag='definition')):\n",
    "        try:\n",
    "            print(D.find('.//dfndum').text,' --- ', (D.find('.//stmnt').text), file=mathag)\n",
    "            print('***', file=mathag)\n",
    "        except:\n",
    "            pass\n",
    "        if False: break"
   ]
  },
  {
   "cell_type": "code",
   "execution_count": 35,
   "metadata": {},
   "outputs": [],
   "source": [
    "empty_if_none = lambda s: s if s else ''\n",
    "ag_lst = [p.text for p in ag.iter(tag='stmnt') if len(empty_if_none(p.text))> 5][:300]\n",
    "dg_lst = [p.text for p in dg.iter(tag='stmnt') if len(empty_if_none(p.text))> 5][:300]"
   ]
  },
  {
   "cell_type": "code",
   "execution_count": 7,
   "metadata": {},
   "outputs": [],
   "source": [
    "with open('../PickleJar/vectorizer.pickle', 'rb') as vzer_f:\n",
    "    vzer = pickle.load(vzer_f)"
   ]
  },
  {
   "cell_type": "code",
   "execution_count": 23,
   "metadata": {},
   "outputs": [],
   "source": [
    "tot_vec = vzer.transform(ag_lst + dg_lst)"
   ]
  },
  {
   "cell_type": "code",
   "execution_count": 32,
   "metadata": {},
   "outputs": [
    {
     "data": {
      "text/plain": [
       "(200, 205970)"
      ]
     },
     "execution_count": 32,
     "metadata": {},
     "output_type": "execute_result"
    }
   ],
   "source": [
    "tot_vec.shape"
   ]
  },
  {
   "cell_type": "code",
   "execution_count": 33,
   "metadata": {},
   "outputs": [],
   "source": [
    "# ag is zero and dg is 1\n",
    "labels_vec = len(ag_lst)*['math.AG'] + len(dg_lst)*['math.DG']"
   ]
  },
  {
   "cell_type": "code",
   "execution_count": 34,
   "metadata": {},
   "outputs": [
    {
     "name": "stderr",
     "output_type": "stream",
     "text": [
      "'c' argument looks like a single numeric RGB or RGBA sequence, which should be avoided as value-mapping will have precedence in case its length matches with 'x' & 'y'.  Please use a 2-D array with a single row if you really want to specify the same RGB or RGBA value for all points.\n",
      "'c' argument looks like a single numeric RGB or RGBA sequence, which should be avoided as value-mapping will have precedence in case its length matches with 'x' & 'y'.  Please use a 2-D array with a single row if you really want to specify the same RGB or RGBA value for all points.\n"
     ]
    },
    {
     "data": {
      "image/png": "[encoded data removed]",
      "text/plain": [
       "<Figure size 432x288 with 1 Axes>"
      ]
     },
     "metadata": {},
     "output_type": "display_data"
    }
   ],
   "source": [
    "tsne2 = TSNEVisualizer(labels=['math.AG','math.DG'])\n",
    "tsne2.fit(tot_vec, labels_vec)\n",
    "tsne2.poof(figsize=50)"
   ]
  },
  {
   "cell_type": "code",
   "execution_count": null,
   "metadata": {},
   "outputs": [],
   "source": []
  }
 ],
 "metadata": {
  "kernelspec": {
   "display_name": "Python 3",
   "language": "python",
   "name": "python3"
  },
  "language_info": {
   "codemirror_mode": {
    "name": "ipython",
    "version": 3
   },
   "file_extension": ".py",
   "mimetype": "text/x-python",
   "name": "python",
   "nbconvert_exporter": "python",
   "pygments_lexer": "ipython3",
   "version": "3.7.3"
  }
 },
 "nbformat": 4,
 "nbformat_minor": 4
}
