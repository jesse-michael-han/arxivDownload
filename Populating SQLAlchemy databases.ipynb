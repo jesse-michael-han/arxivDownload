{
 "cells": [
  {
   "cell_type": "code",
   "execution_count": 62,
   "metadata": {},
   "outputs": [],
   "source": [
    "import xml.etree.ElementTree as ET\n",
    "import pandas as pd\n",
    "import sqlalchemy as sa\n",
    "\n",
    "with open('../manifest_jan_2019.xml', 'r') as f:\n",
    "    mani = ET.parse(f)"
   ]
  },
  {
   "cell_type": "code",
   "execution_count": 63,
   "metadata": {},
   "outputs": [
    {
     "name": "stdout",
     "output_type": "stream",
     "text": [
      "The autoreload extension is already loaded. To reload it, use:\n",
      "  %reload_ext autoreload\n"
     ]
    }
   ],
   "source": [
    "%load_ext autoreload\n",
    "%autoreload 2"
   ]
  },
  {
   "cell_type": "code",
   "execution_count": 64,
   "metadata": {},
   "outputs": [],
   "source": [
    "root = mani.getroot()\n",
    "def parse_element(elem):\n",
    "    return_dict = {}\n",
    "    for e in elem:\n",
    "        return_dict[e.tag] = e.text\n",
    "    return return_dict\n",
    "def parse_root(root):\n",
    "        return [parse_element(child) for child in iter(root) if child.tag != 'timestamp']\n",
    "\n",
    "filedf = pd.DataFrame(parse_root(root))\n",
    "filedf[['num_items', 'size']] = filedf[['num_items', 'size']].astype(int)\n",
    "filedf['filename'] = filedf['filename'].astype(str)"
   ]
  },
  {
   "cell_type": "code",
   "execution_count": 65,
   "metadata": {},
   "outputs": [],
   "source": [
    "import databases.create_db_define_models as cre"
   ]
  },
  {
   "cell_type": "code",
   "execution_count": 91,
   "metadata": {},
   "outputs": [
    {
     "data": {
      "text/plain": [
       "<sqlalchemy.engine.base.Connection at 0x7f76cdae5978>"
      ]
     },
     "execution_count": 91,
     "metadata": {},
     "output_type": "execute_result"
    }
   ],
   "source": [
    "eng = sa.create_engine('sqlite:///arxiv1.db') #, echo=True)\n",
    "eng.connect()"
   ]
  },
  {
   "cell_type": "code",
   "execution_count": 104,
   "metadata": {},
   "outputs": [],
   "source": [
    "for index, line in filedf.iterrows():\n",
    "    #line = filedf.iloc[50*k]\n",
    "    f = cre.ManifestTarFile(**line)\n",
    "    sess.add(f)\n",
    "    sess.commit()"
   ]
  },
  {
   "cell_type": "code",
   "execution_count": 98,
   "metadata": {},
   "outputs": [],
   "source": [
    "cre.ManifestTarFile.metadata.create_all(eng)"
   ]
  },
  {
   "cell_type": "code",
   "execution_count": 96,
   "metadata": {},
   "outputs": [],
   "source": [
    "SMaker = sa.orm.sessionmaker(bind=eng)\n",
    "sess = SMaker()"
   ]
  },
  {
   "cell_type": "code",
   "execution_count": 85,
   "metadata": {},
   "outputs": [],
   "source": [
    "sess.add(f)"
   ]
  },
  {
   "cell_type": "code",
   "execution_count": 86,
   "metadata": {},
   "outputs": [
    {
     "name": "stdout",
     "output_type": "stream",
     "text": [
      "2019-02-02 14:23:16,121 INFO sqlalchemy.engine.base.Engine BEGIN (implicit)\n",
      "2019-02-02 14:23:16,126 INFO sqlalchemy.engine.base.Engine INSERT INTO manifest (filename, content_md5sum, md5sum, first_item, last_item, num_items, seq_num, size, timestamp, yymm) VALUES (?, ?, ?, ?, ?, ?, ?, ?, ?, ?)\n",
      "2019-02-02 14:23:16,129 INFO sqlalchemy.engine.base.Engine ('src/arXiv_src_0006_001.tar', 'b5bea3821e15af75b831250e6ea0a031', 'ea268ff2bc89161c6998146fbb2d7515', 'astro-ph0006001', 'quant-ph0006136', 2438, '1', 242543048, '2010-12-23 00:34:56', '0006')\n",
      "2019-02-02 14:23:16,134 INFO sqlalchemy.engine.base.Engine COMMIT\n"
     ]
    }
   ],
   "source": [
    "sess.commit()"
   ]
  },
  {
   "cell_type": "code",
   "execution_count": null,
   "metadata": {},
   "outputs": [],
   "source": []
  }
 ],
 "metadata": {
  "kernelspec": {
   "display_name": "Python 3",
   "language": "python",
   "name": "python3"
  },
  "language_info": {
   "codemirror_mode": {
    "name": "ipython",
    "version": 3
   },
   "file_extension": ".py",
   "mimetype": "text/x-python",
   "name": "python",
   "nbconvert_exporter": "python",
   "pygments_lexer": "ipython3",
   "version": "3.7.1"
  }
 },
 "nbformat": 4,
 "nbformat_minor": 2
}
