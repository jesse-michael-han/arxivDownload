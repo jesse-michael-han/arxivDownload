{
 "cells": [
  {
   "cell_type": "code",
   "execution_count": 1,
   "metadata": {},
   "outputs": [],
   "source": [
    "from lxml import etree "
   ]
  },
  {
   "cell_type": "code",
   "execution_count": 2,
   "metadata": {},
   "outputs": [],
   "source": [
    "ll = ['art1', 'art2', 'art3', 'art4']"
   ]
  },
  {
   "cell_type": "code",
   "execution_count": 3,
   "metadata": {},
   "outputs": [],
   "source": [
    "root = etree.Element('root')\n",
    "for l in ll:\n",
    "    art = etree.SubElement(root, 'article', processed='False')\n",
    "    name = etree.SubElement(art, 'name')\n",
    "    name.text = l"
   ]
  },
  {
   "cell_type": "code",
   "execution_count": 5,
   "metadata": {},
   "outputs": [
    {
     "data": {
      "text/plain": [
       "[<Element article at 0x7f27100f1508>,\n",
       " <Element article at 0x7f271005b148>,\n",
       " <Element article at 0x7f271005b088>,\n",
       " <Element article at 0x7f27100d5b88>]"
      ]
     },
     "execution_count": 5,
     "metadata": {},
     "output_type": "execute_result"
    }
   ],
   "source": [
    "[t for t in root.getiterator(tag='article')]"
   ]
  },
  {
   "cell_type": "code",
   "execution_count": 24,
   "metadata": {},
   "outputs": [
    {
     "data": {
      "text/plain": [
       "[('True', 'art1'), ('False', 'art2'), ('False', 'art3'), ('False', 'art4')]"
      ]
     },
     "execution_count": 24,
     "metadata": {},
     "output_type": "execute_result"
    }
   ],
   "source": [
    "[(t.attrib['processed'], t.find('name').text) for t in root.getiterator(tag='article')]"
   ]
  },
  {
   "cell_type": "code",
   "execution_count": 23,
   "metadata": {},
   "outputs": [],
   "source": [
    "root[0].attrib['processed'] = 'True'"
   ]
  },
  {
   "cell_type": "code",
   "execution_count": 28,
   "metadata": {},
   "outputs": [],
   "source": [
    "with open('data/file.xml', 'w+') as xml_file:\n",
    "    print(etree.tostring(root, pretty_print=True).decode('utf8'),file=xml_file)"
   ]
  },
  {
   "cell_type": "code",
   "execution_count": 30,
   "metadata": {},
   "outputs": [
    {
     "name": "stdout",
     "output_type": "stream",
     "text": [
      "article\n"
     ]
    }
   ],
   "source": [
    "print(root[1].tag)"
   ]
  },
  {
   "cell_type": "code",
   "execution_count": 40,
   "metadata": {},
   "outputs": [
    {
     "data": {
      "text/plain": [
       "[{'processed': 'True'},\n",
       " {'processed': 'False'},\n",
       " {'processed': 'False'},\n",
       " {'processed': 'False'}]"
      ]
     },
     "execution_count": 40,
     "metadata": {},
     "output_type": "execute_result"
    }
   ],
   "source": [
    "T = etree.parse('data/file.xml')\n",
    "[t[1].attrib for t in etree.iterparse('data/file.xml', tag='article')]"
   ]
  },
  {
   "cell_type": "code",
   "execution_count": null,
   "metadata": {},
   "outputs": [],
   "source": []
  }
 ],
 "metadata": {
  "kernelspec": {
   "display_name": "Python 3",
   "language": "python",
   "name": "python3"
  },
  "language_info": {
   "codemirror_mode": {
    "name": "ipython",
    "version": 3
   },
   "file_extension": ".py",
   "mimetype": "text/x-python",
   "name": "python",
   "nbconvert_exporter": "python",
   "pygments_lexer": "ipython3",
   "version": "3.7.2"
  }
 },
 "nbformat": 4,
 "nbformat_minor": 2
}
