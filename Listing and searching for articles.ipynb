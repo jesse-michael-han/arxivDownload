{
 "cells": [
  {
   "cell_type": "code",
   "execution_count": 84,
   "metadata": {},
   "outputs": [],
   "source": [
    "from lxml import etree \n",
    "import sqlalchemy as sa\n",
    "from sqlalchemy.orm import sessionmaker\n",
    "import os\n",
    "import re\n",
    "import sys"
   ]
  },
  {
   "cell_type": "code",
   "execution_count": 83,
   "metadata": {},
   "outputs": [],
   "source": [
    "xml = etree.parse('data/xml_file.xml') \n",
    "art_dict = {}\n",
    "for k, x in enumerate(xml.iter('article')):\n",
    "    if x.get('searched') == 'True':\n",
    "        art_dict[x.find('id').text] = x.find('location').text"
   ]
  },
  {
   "cell_type": "code",
   "execution_count": 85,
   "metadata": {},
   "outputs": [
    {
     "data": {
      "text/plain": [
       "5242976"
      ]
     },
     "execution_count": 85,
     "metadata": {},
     "output_type": "execute_result"
    }
   ],
   "source": [
    "sys.getsizeof(art_dict)"
   ]
  },
  {
   "cell_type": "code",
   "execution_count": 45,
   "metadata": {},
   "outputs": [],
   "source": [
    "def resolve(article_str):\n",
    "    res = xml.xpath('.//article[@searched=\"True\"]/id[contains(text(), \"%s\")]/ancestor::article'%article_str)\n",
    "    if res:\n",
    "        out = res[0].find('location').text\n",
    "    else:\n",
    "        out = None\n",
    "    return out"
   ]
  },
  {
   "cell_type": "code",
   "execution_count": 44,
   "metadata": {},
   "outputs": [],
   "source": [
    "ifs = 'hola'"
   ]
  },
  {
   "cell_type": "code",
   "execution_count": 50,
   "metadata": {},
   "outputs": [
    {
     "data": {
      "text/plain": [
       "'/dataset-arXMLiv-08-2018/error/1801/1801.00261.html'"
      ]
     },
     "execution_count": 50,
     "metadata": {},
     "output_type": "execute_result"
    }
   ],
   "source": [
    "p1 = resolve(1801.00261)\n",
    "re.sub('^/mnt', '', p1)"
   ]
  },
  {
   "cell_type": "code",
   "execution_count": 6,
   "metadata": {},
   "outputs": [
    {
     "name": "stdout",
     "output_type": "stream",
     "text": [
      "2019-03-22 01:53:06,750 INFO sqlalchemy.engine.base.Engine SELECT CAST('test plain returns' AS VARCHAR(60)) AS anon_1\n",
      "2019-03-22 01:53:06,756 INFO sqlalchemy.engine.base.Engine ()\n",
      "2019-03-22 01:53:06,766 INFO sqlalchemy.engine.base.Engine SELECT CAST('test unicode returns' AS VARCHAR(60)) AS anon_1\n",
      "2019-03-22 01:53:06,774 INFO sqlalchemy.engine.base.Engine ()\n"
     ]
    }
   ],
   "source": [
    "eng = sa.create_engine('sqlite:///../arxiv1.db', echo=True)\n",
    "eng.connect()\n",
    "SMaker = sa.orm.sessionmaker(bind=eng)\n",
    "sess = SMaker()"
   ]
  },
  {
   "cell_type": "code",
   "execution_count": 20,
   "metadata": {},
   "outputs": [
    {
     "name": "stdout",
     "output_type": "stream",
     "text": [
      "2019-03-22 02:03:40,973 INFO sqlalchemy.engine.base.Engine SELECT DISTINCT id FROM articles WHERE tags LIKE \"%math%\" LIMIT 10;\n",
      "2019-03-22 02:03:40,983 INFO sqlalchemy.engine.base.Engine ()\n"
     ]
    }
   ],
   "source": [
    "qq = sess.execute('''SELECT DISTINCT id FROM articles WHERE tags LIKE \"%math%\" LIMIT 10;''')\n",
    "root = etree.Element('root')\n",
    "for l in qq:\n",
    "    art = etree.SubElement(root, 'article', processed='False')\n",
    "    id = etree.SubElement(art, 'id')\n",
    "    id.text = l[0]"
   ]
  },
  {
   "cell_type": "code",
   "execution_count": 22,
   "metadata": {
    "scrolled": true
   },
   "outputs": [],
   "source": [
    "with open('../xml_file.xml', 'w+') as xml_file:\n",
    "    print(etree.tounicode(root, pretty_print=True), file=xml_file)"
   ]
  },
  {
   "cell_type": "code",
   "execution_count": 4,
   "metadata": {},
   "outputs": [
    {
     "data": {
      "text/plain": [
       "[<Element article at 0x7f96d471e588>,\n",
       " <Element article at 0x7f96c51b2ec8>,\n",
       " <Element article at 0x7f96c51b2e88>,\n",
       " <Element article at 0x7f96d471e748>]"
      ]
     },
     "execution_count": 4,
     "metadata": {},
     "output_type": "execute_result"
    }
   ],
   "source": [
    "[t for t in root.getiterator(tag='article')]"
   ]
  },
  {
   "cell_type": "code",
   "execution_count": 7,
   "metadata": {},
   "outputs": [
    {
     "data": {
      "text/plain": [
       "[('True', 'art1'), ('False', 'art2'), ('False', 'art3'), ('False', 'art4')]"
      ]
     },
     "execution_count": 7,
     "metadata": {},
     "output_type": "execute_result"
    }
   ],
   "source": [
    "[(t.attrib['processed'], t.find('name').text) for t in root.getiterator(tag='article')]"
   ]
  },
  {
   "cell_type": "code",
   "execution_count": 6,
   "metadata": {},
   "outputs": [],
   "source": [
    "root[0].attrib['processed'] = 'True'"
   ]
  },
  {
   "cell_type": "code",
   "execution_count": 28,
   "metadata": {},
   "outputs": [],
   "source": [
    "with open('data/file.xml', 'w+') as xml_file:\n",
    "    print(etree.tostring(root, pretty_print=True).decode('utf8'),file=xml_file)"
   ]
  },
  {
   "cell_type": "code",
   "execution_count": 30,
   "metadata": {},
   "outputs": [
    {
     "name": "stdout",
     "output_type": "stream",
     "text": [
      "article\n"
     ]
    }
   ],
   "source": [
    "print(root[1].tag)"
   ]
  },
  {
   "cell_type": "code",
   "execution_count": 25,
   "metadata": {},
   "outputs": [
    {
     "data": {
      "text/plain": [
       "[{'processed': 'False'},\n",
       " {'processed': 'False'},\n",
       " {'processed': 'False'},\n",
       " {'processed': 'False'},\n",
       " {'processed': 'False'},\n",
       " {'processed': 'False'},\n",
       " {'processed': 'False'},\n",
       " {'processed': 'False'},\n",
       " {'processed': 'False'},\n",
       " {'processed': 'False'}]"
      ]
     },
     "execution_count": 25,
     "metadata": {},
     "output_type": "execute_result"
    }
   ],
   "source": [
    "#T = etree.parse('../xml_file.xml')\n",
    "[t[1].attrib for t in etree.iterparse('../xml_file.xml', tag='article')]"
   ]
  }
 ],
 "metadata": {
  "kernelspec": {
   "display_name": "Python 3",
   "language": "python",
   "name": "python3"
  },
  "language_info": {
   "codemirror_mode": {
    "name": "ipython",
    "version": 3
   },
   "file_extension": ".py",
   "mimetype": "text/x-python",
   "name": "python",
   "nbconvert_exporter": "python",
   "pygments_lexer": "ipython3",
   "version": "3.7.2"
  }
 },
 "nbformat": 4,
 "nbformat_minor": 2
}
