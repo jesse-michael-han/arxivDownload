{
 "cells": [
  {
   "cell_type": "code",
   "execution_count": 40,
   "metadata": {},
   "outputs": [
    {
     "name": "stdout",
     "output_type": "stream",
     "text": [
      "The autoreload extension is already loaded. To reload it, use:\n",
      "  %reload_ext autoreload\n"
     ]
    }
   ],
   "source": [
    "from lxml import etree \n",
    "import sqlalchemy as sa\n",
    "from sqlalchemy.orm import sessionmaker\n",
    "import os\n",
    "import re\n",
    "import sys\n",
    "%load_ext autoreload\n",
    "%autoreload 2\n",
    "import parsing_xml as px\n",
    "import random_sampling as rs"
   ]
  },
  {
   "cell_type": "code",
   "execution_count": 6,
   "metadata": {},
   "outputs": [],
   "source": [
    "xml = etree.parse('/home/luis/media_home/xml_file.xml') \n",
    "art_dict = {}\n",
    "for k, x in enumerate(xml.iter('article')):\n",
    "    if x.get('searched') == 'True':\n",
    "        art_dict[x.find('id').text] = x.find('location').text"
   ]
  },
  {
   "cell_type": "code",
   "execution_count": 17,
   "metadata": {},
   "outputs": [
    {
     "data": {
      "text/plain": [
       "'/mnt/dataset-arXMLiv-08-2018/error/1701/1701.00204.html'"
      ]
     },
     "execution_count": 17,
     "metadata": {},
     "output_type": "execute_result"
    }
   ],
   "source": [
    "art_dict['http://arxiv.org/abs/1701.00204v1']"
   ]
  },
  {
   "cell_type": "code",
   "execution_count": 45,
   "metadata": {},
   "outputs": [],
   "source": [
    "def resolve(article_str):\n",
    "    res = xml.xpath('.//article[@searched=\"True\"]/id[contains(text(), \"%s\")]/ancestor::article'%article_str)\n",
    "    if res:\n",
    "        out = res[0].find('location').text\n",
    "    else:\n",
    "        out = None\n",
    "    return out"
   ]
  },
  {
   "cell_type": "code",
   "execution_count": 44,
   "metadata": {},
   "outputs": [],
   "source": [
    "ifs = 'hola'"
   ]
  },
  {
   "cell_type": "code",
   "execution_count": 50,
   "metadata": {},
   "outputs": [
    {
     "data": {
      "text/plain": [
       "'/dataset-arXMLiv-08-2018/error/1801/1801.00261.html'"
      ]
     },
     "execution_count": 50,
     "metadata": {},
     "output_type": "execute_result"
    }
   ],
   "source": [
    "p1 = resolve(1801.00261)\n",
    "re.sub('^/mnt', '', p1)"
   ]
  },
  {
   "cell_type": "code",
   "execution_count": 15,
   "metadata": {},
   "outputs": [],
   "source": [
    "eng = sa.create_engine('sqlite:///../arxiv1.db')\n",
    "eng.connect()\n",
    "SMaker = sa.orm.sessionmaker(bind=eng)\n",
    "sess = SMaker()"
   ]
  },
  {
   "cell_type": "code",
   "execution_count": 61,
   "metadata": {},
   "outputs": [
    {
     "data": {
      "text/plain": [
       "{'real': [' Let _inline_math_ be a field. Let _inline_math_ be a nonzero element of the polynomial ring _inline_math_ and let _inline_math_. The Lazard valuation _inline_math_ of _inline_math_ at _inline_math_ is the element _inline_math_ of _inline_math_ least (with respect to _inline_math_) such that the partial derivative _inline_math_ does not vanish at _inline_math_. ',\n",
       "  ' Let _inline_math_ be a field. (In this section _inline_math_ or, when explicit computation is required, _inline_math_ is a suitable subfield of _inline_math_.) Let _inline_math_, _inline_math_ nonzero, and _inline_math_. The Lazard evaluation _inline_math_ of _inline_math_ at _inline_math_ is defined to be the result of the following process (which determines also nonnegative integers _inline_math_, with _inline_math_): ',\n",
       "  ' Let _inline_math_ be nonzero and _inline_math_ a subset of _inline_math_. We say that _inline_math_ is Lazard delineable on _inline_math_ if 1. 2. 3. We refer to the graphs of the _inline_math_ as the Lazard sections of _inline_math_ over _inline_math_; the regions between successive Lazard sections, together with the region below the lowest Lazard section and that above the highest Lazard section, are called Lazard sectors. '],\n",
       " 'nondef': []}"
      ]
     },
     "execution_count": 61,
     "metadata": {},
     "output_type": "execute_result"
    }
   ],
   "source": [
    "html_p = px.DefinitionsXML('tests/latexmled_files/1501.06563_shortened.html')\n",
    "html_p.get_def_sample_text_with()"
   ]
  },
  {
   "cell_type": "code",
   "execution_count": 55,
   "metadata": {},
   "outputs": [],
   "source": [
    "import random\n",
    "random.sample?"
   ]
  },
  {
   "cell_type": "code",
   "execution_count": 63,
   "metadata": {},
   "outputs": [
    {
     "name": "stdout",
     "output_type": "stream",
     "text": [
      "0 3\n",
      "0 3\n",
      "5 2\n",
      "3 3\n",
      "1 3\n",
      "8 3\n",
      "0 3\n",
      "0 2\n",
      "6 2\n",
      "0 2\n",
      "7 3\n",
      "0 3\n",
      "0 3\n",
      "0 3\n",
      "0 2\n",
      "14 2\n",
      "12 2\n"
     ]
    }
   ],
   "source": [
    "qq = sess.execute('''SELECT id FROM articles \n",
    "where tags LIKE  '[{''term'': ''math.AG''%' and  \n",
    "updated_parsed BETWEEN date('2017-05-01')  and date('2017-11-20') limit 20;''')\n",
    "\n",
    "loc_path = '/home/luis/media_home/'\n",
    "\n",
    "for l in qq:\n",
    "    nonlocal_path = art_dict.get(l[0])\n",
    "    if nonlocal_path:\n",
    "        prepath = re.sub('^/mnt/', '', nonlocal_path)\n",
    "        local_path = os.path.join(loc_path, prepath)\n",
    "        xml = px.DefinitionsXML(local_path)\n",
    "        tdict = xml.get_def_sample_text_with()\n",
    "        print(len(tdict['real']), len(tdict['nondef']))"
   ]
  },
  {
   "cell_type": "code",
   "execution_count": 22,
   "metadata": {
    "scrolled": true
   },
   "outputs": [],
   "source": [
    "#with open('../xml_file.xml', 'w+') as xml_file:\n",
    "    #print(etree.tounicode(root, pretty_print=True), file=xml_file)"
   ]
  },
  {
   "cell_type": "code",
   "execution_count": 4,
   "metadata": {},
   "outputs": [
    {
     "data": {
      "text/plain": [
       "[<Element article at 0x7f96d471e588>,\n",
       " <Element article at 0x7f96c51b2ec8>,\n",
       " <Element article at 0x7f96c51b2e88>,\n",
       " <Element article at 0x7f96d471e748>]"
      ]
     },
     "execution_count": 4,
     "metadata": {},
     "output_type": "execute_result"
    }
   ],
   "source": [
    "[t for t in root.getiterator(tag='article')]"
   ]
  },
  {
   "cell_type": "code",
   "execution_count": 7,
   "metadata": {},
   "outputs": [
    {
     "data": {
      "text/plain": [
       "[('True', 'art1'), ('False', 'art2'), ('False', 'art3'), ('False', 'art4')]"
      ]
     },
     "execution_count": 7,
     "metadata": {},
     "output_type": "execute_result"
    }
   ],
   "source": [
    "[(t.attrib['processed'], t.find('name').text) for t in root.getiterator(tag='article')]"
   ]
  },
  {
   "cell_type": "code",
   "execution_count": 6,
   "metadata": {},
   "outputs": [],
   "source": [
    "root[0].attrib['processed'] = 'True'"
   ]
  },
  {
   "cell_type": "code",
   "execution_count": 28,
   "metadata": {},
   "outputs": [],
   "source": [
    "with open('data/file.xml', 'w+') as xml_file:\n",
    "    print(etree.tostring(root, pretty_print=True).decode('utf8'),file=xml_file)"
   ]
  },
  {
   "cell_type": "code",
   "execution_count": 30,
   "metadata": {},
   "outputs": [
    {
     "name": "stdout",
     "output_type": "stream",
     "text": [
      "article\n"
     ]
    }
   ],
   "source": [
    "print(root[1].tag)"
   ]
  },
  {
   "cell_type": "code",
   "execution_count": 25,
   "metadata": {},
   "outputs": [
    {
     "data": {
      "text/plain": [
       "[{'processed': 'False'},\n",
       " {'processed': 'False'},\n",
       " {'processed': 'False'},\n",
       " {'processed': 'False'},\n",
       " {'processed': 'False'},\n",
       " {'processed': 'False'},\n",
       " {'processed': 'False'},\n",
       " {'processed': 'False'},\n",
       " {'processed': 'False'},\n",
       " {'processed': 'False'}]"
      ]
     },
     "execution_count": 25,
     "metadata": {},
     "output_type": "execute_result"
    }
   ],
   "source": [
    "#T = etree.parse('../xml_file.xml')\n",
    "[t[1].attrib for t in etree.iterparse('../xml_file.xml', tag='article')]"
   ]
  }
 ],
 "metadata": {
  "jupytext": {
   "formats": "ipynb,py:light"
  },
  "kernelspec": {
   "display_name": "Python 3",
   "language": "python",
   "name": "python3"
  },
  "language_info": {
   "codemirror_mode": {
    "name": "ipython",
    "version": 3
   },
   "file_extension": ".py",
   "mimetype": "text/x-python",
   "name": "python",
   "nbconvert_exporter": "python",
   "pygments_lexer": "ipython3",
   "version": "3.7.3"
  }
 },
 "nbformat": 4,
 "nbformat_minor": 2
}
