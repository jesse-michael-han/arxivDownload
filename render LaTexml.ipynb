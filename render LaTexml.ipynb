{
 "cells": [
  {
   "cell_type": "code",
   "execution_count": 1,
   "metadata": {},
   "outputs": [],
   "source": [
    "import xml.etree.ElementTree as ET\n",
    "import pandas as pd\n",
    "import re\n",
    "import nltk\n",
    "#with open('../2004_ends_with_3/math.0412433/math.0412433.xml', 'r') as fxml:\n",
    "exml = ET.parse('../2004_ends_with_3/math.0402243/math.0402243.xml')"
   ]
  },
  {
   "cell_type": "code",
   "execution_count": 181,
   "metadata": {},
   "outputs": [],
   "source": [
    "def find_theorems(exml):\n",
    "    return_lst = []\n",
    "    for e in exml.iter():\n",
    "        if 'theorem' in e.tag:\n",
    "            return_lst.append(e)\n",
    "    return return_lst\n",
    "\n",
    "def find_definitions(exml):\n",
    "    return_lst = []\n",
    "    for e in exml.iter():\n",
    "        att_class = e.attrib.get('class', None)\n",
    "        if att_class:\n",
    "            if re.match(r'ltx_theorem_[definto]+$', att_class):\n",
    "                return_lst.append(e)\n",
    "    return return_lst\n",
    "thm_lst = find_theorems(exml)\n",
    "thm = thm_lst[1]"
   ]
  },
  {
   "cell_type": "code",
   "execution_count": 232,
   "metadata": {},
   "outputs": [
    {
     "data": {
      "text/plain": [
       "<re.Match object; span=(0, 22), match='ltx_theorem_definition'>"
      ]
     },
     "execution_count": 232,
     "metadata": {},
     "output_type": "execute_result"
    }
   ],
   "source": [
    "fd_lst = find_definitions(exml)\n",
    "re.match(r'ltx_theorem_[definto]+$', fd_lst[2].attrib['class'])"
   ]
  },
  {
   "cell_type": "code",
   "execution_count": 98,
   "metadata": {},
   "outputs": [
    {
     "name": "stdout",
     "output_type": "stream",
     "text": [
      "[<Element '{http://dlmf.nist.gov/LaTeXML}XMath' at 0x7f08c597a9a8>]\n",
      "[<Element '{http://dlmf.nist.gov/LaTeXML}XMath' at 0x7f08c5980598>]\n",
      "[<Element '{http://dlmf.nist.gov/LaTeXML}XMath' at 0x7f08c5980688>]\n",
      "[<Element '{http://dlmf.nist.gov/LaTeXML}XMath' at 0x7f08c5980c28>]\n",
      "[<Element '{http://dlmf.nist.gov/LaTeXML}XMath' at 0x7f08c5908188>]\n",
      "[<Element '{http://dlmf.nist.gov/LaTeXML}XMath' at 0x7f08c5908368>]\n",
      "[]\n",
      "[<Element '{http://dlmf.nist.gov/LaTeXML}XMath' at 0x7f08c59084a8>]\n"
     ]
    }
   ],
   "source": [
    "para = list(thm)[1]\n",
    "p = list(para)[0]\n",
    "for t in p:\n",
    "    print(list(t))\n"
   ]
  },
  {
   "cell_type": "code",
   "execution_count": 148,
   "metadata": {},
   "outputs": [
    {
     "data": {
      "text/plain": [
       "'Let    ⊆   \\u2062    M  u        (  B  )    div     \\u2062    M  u      (  B  )       be\\nthe divisorial part of the unstable locus of   B   ; in other words,    \\u2062    M  u        (  B  )    div     is the union of the irreducible components\\nof    \\u2062    M  u      (  B  )      having codimension one in    ~  M    . We shall say\\nthat the Kirwan resolution   f   is mild if    ⊆   \\u2062  f     (   \\u2062    M  u        (  B  )    div    )      \\u2062    M  u      (  L  )       . '"
      ]
     },
     "execution_count": 148,
     "metadata": {},
     "output_type": "execute_result"
    }
   ],
   "source": [
    "Elst = ET.tostringlist(p,method='text',encoding='unicode')\n",
    "' '.join([e.strip() for e in Elst])"
   ]
  },
  {
   "cell_type": "code",
   "execution_count": 36,
   "metadata": {},
   "outputs": [
    {
     "data": {
      "text/plain": [
       "'Une orbifolde pure est un espace analytique complexe normal  n’ayant que des singularités quotient.'"
      ]
     },
     "execution_count": 36,
     "metadata": {},
     "output_type": "execute_result"
    }
   ],
   "source": [
    "p = X.para_p(X.def_lst[0])\n",
    "if p.text:\n",
    "    def_str = p.text\n",
    "else:\n",
    "    def_str = ''\n",
    "for pa in list(p):\n",
    "    if pa.text:\n",
    "        def_str += pa.text\n",
    "    math_elem = pa.findall('latexml:Math', ns)\n",
    "    for m in math_elem:\n",
    "        def_str += m.tail\n",
    "    if pa.tail:\n",
    "        def_str += pa.tail\n",
    "def_str.replace('\\n', ' ')"
   ]
  },
  {
   "cell_type": "code",
   "execution_count": 42,
   "metadata": {},
   "outputs": [
    {
     "data": {
      "text/plain": [
       "['CaCa', 'did', \"n't\", ',', 'ca', \"n't\", \"o'clock\", '.']"
      ]
     },
     "execution_count": 42,
     "metadata": {},
     "output_type": "execute_result"
    }
   ],
   "source": [
    "s = \"CaCa didn't, can't o'clock.\" \n",
    "nltk.word_tokenize(s)"
   ]
  },
  {
   "cell_type": "code",
   "execution_count": 249,
   "metadata": {},
   "outputs": [
    {
     "data": {
      "text/plain": [
       "b'Une orbifolde pure est un espace analytique complexe normal \\n              \\n                X\\n              \\n             n&#8217;ayant que des singularit&#233;s\\nquotient.\\n      '"
      ]
     },
     "execution_count": 249,
     "metadata": {},
     "output_type": "execute_result"
    }
   ],
   "source": [
    "ET.tostring(p,method='text')"
   ]
  },
  {
   "cell_type": "code",
   "execution_count": 29,
   "metadata": {},
   "outputs": [
    {
     "name": "stdout",
     "output_type": "stream",
     "text": [
      "{http://dlmf.nist.gov/LaTeXML}Math  n’ayant que des singularités\n",
      "quotient.\n"
     ]
    }
   ],
   "source": [
    "for n in p.findall('latexml:text/latexml:Math', ns):\n",
    "    print(n.tag, n.tail)\n",
    "#list(p)"
   ]
  },
  {
   "cell_type": "code",
   "execution_count": 260,
   "metadata": {},
   "outputs": [
    {
     "data": {
      "text/plain": [
       "' n’ayant que des singularités\\nquotient.'"
      ]
     },
     "execution_count": 260,
     "metadata": {},
     "output_type": "execute_result"
    }
   ],
   "source": [
    "list(pa)[0].tail"
   ]
  },
  {
   "cell_type": "code",
   "execution_count": 2,
   "metadata": {},
   "outputs": [],
   "source": [
    "%load_ext autoreload\n",
    "%autoreload 2"
   ]
  },
  {
   "cell_type": "code",
   "execution_count": 24,
   "metadata": {},
   "outputs": [],
   "source": [
    "import parsing_xml as px\n",
    "ns = {'latexml': 'http://dlmf.nist.gov/LaTeXML' }\n",
    "X = px.DefinitionsXML('/mnt/math.AG/2000/math.0012210/smaps.xml')\n",
    "dl = X.find_definitions()\n",
    "#D1 = X.get_def_text()[1]\n",
    "#nltk.word_tokenize(D1)"
   ]
  },
  {
   "cell_type": "code",
   "execution_count": 25,
   "metadata": {},
   "outputs": [
    {
     "name": "stdout",
     "output_type": "stream",
     "text": [
      "0 <Element '{http://dlmf.nist.gov/LaTeXML}para' at 0x7f4bda3d9048>\n",
      "1 <Element '{http://dlmf.nist.gov/LaTeXML}para' at 0x7f4bda3365e8>\n",
      "2 <Element '{http://dlmf.nist.gov/LaTeXML}para' at 0x7f4bda3196d8>\n",
      "3 <Element '{http://dlmf.nist.gov/LaTeXML}para' at 0x7f4bda2a0ea8>\n",
      "4 <Element '{http://dlmf.nist.gov/LaTeXML}para' at 0x7f4bda2617c8>\n",
      "5 <Element '{http://dlmf.nist.gov/LaTeXML}para' at 0x7f4bd842ad68>\n",
      "6 <Element '{http://dlmf.nist.gov/LaTeXML}para' at 0x7f4bd5d6b8b8>\n",
      "7 <Element '{http://dlmf.nist.gov/LaTeXML}para' at 0x7f4bd57deb88>\n",
      "8 <Element '{http://dlmf.nist.gov/LaTeXML}para' at 0x7f4bd9f7b6d8>\n",
      "9 <Element '{http://dlmf.nist.gov/LaTeXML}para' at 0x7f4bd9e88e58>\n",
      "10 <Element '{http://dlmf.nist.gov/LaTeXML}para' at 0x7f4bd87ce3b8>\n",
      "11 <Element '{http://dlmf.nist.gov/LaTeXML}para' at 0x7f4bd682fef8>\n",
      "12 <Element '{http://dlmf.nist.gov/LaTeXML}para' at 0x7f4bd8fa9a98>\n",
      "13 <Element '{http://dlmf.nist.gov/LaTeXML}para' at 0x7f4bd8fc9d18>\n",
      "14 <Element '{http://dlmf.nist.gov/LaTeXML}para' at 0x7f4bd8faf3b8>\n",
      "15 <Element '{http://dlmf.nist.gov/LaTeXML}para' at 0x7f4bd6379778>\n",
      "16 <Element '{http://dlmf.nist.gov/LaTeXML}para' at 0x7f4bd63608b8>\n",
      "17 <Element '{http://dlmf.nist.gov/LaTeXML}para' at 0x7f4bd63e49a8>\n",
      "18 <Element '{http://dlmf.nist.gov/LaTeXML}para' at 0x7f4bda53d0e8>\n",
      "19 <Element '{http://dlmf.nist.gov/LaTeXML}para' at 0x7f4bda54fe08>\n",
      "20 <Element '{http://dlmf.nist.gov/LaTeXML}para' at 0x7f4bd891f638>\n",
      "21 <Element '{http://dlmf.nist.gov/LaTeXML}para' at 0x7f4bd7221818>\n",
      "22 <Element '{http://dlmf.nist.gov/LaTeXML}para' at 0x7f4bd5c28368>\n",
      "23 <Element '{http://dlmf.nist.gov/LaTeXML}para' at 0x7f4bd53aa4a8>\n",
      "24 <Element '{http://dlmf.nist.gov/LaTeXML}para' at 0x7f4bd79bd7c8>\n",
      "25 <Element '{http://dlmf.nist.gov/LaTeXML}para' at 0x7f4bd7ea84f8>\n",
      "26 <Element '{http://dlmf.nist.gov/LaTeXML}para' at 0x7f4bd9963138>\n",
      "27 <Element '{http://dlmf.nist.gov/LaTeXML}para' at 0x7f4bd994c138>\n",
      "28 <Element '{http://dlmf.nist.gov/LaTeXML}para' at 0x7f4bd8632098>\n"
     ]
    }
   ],
   "source": [
    "for k,l in enumerate(dl):\n",
    "    print(k, X.para_p(l))"
   ]
  },
  {
   "cell_type": "code",
   "execution_count": 15,
   "metadata": {},
   "outputs": [
    {
     "data": {
      "text/plain": [
       "b'<ns0:theorem xmlns:ns0=\"http://dlmf.nist.gov/LaTeXML\" class=\"ltx_theorem_df\" frefnum=\"Definition 2.11\" refnum=\"2.11\" xml:id=\"S2.Thmthm11\">\\n        <ns0:title class=\"ltx_runin\" font=\"bold\"><ns0:tag>Definition 2.11</ns0:tag>.</ns0:title>\\n      </ns0:theorem>\\n      '"
      ]
     },
     "execution_count": 15,
     "metadata": {},
     "output_type": "execute_result"
    }
   ],
   "source": [
    "ET.tostring(l)"
   ]
  },
  {
   "cell_type": "code",
   "execution_count": 271,
   "metadata": {},
   "outputs": [
    {
     "data": {
      "text/plain": [
       "'fix . let \\xa0be a coherent system of type . the -slope is defined by                    we say \\xa0is -stable                    for all proper subsystems  i.e. for every non-zero subbundle  of  and every subspace  with . we define -semistability-polystable-stable coherent systems of the same -slope. we denote the moduli space-stable coherent systems of type  by .'"
      ]
     },
     "execution_count": 271,
     "metadata": {},
     "output_type": "execute_result"
    }
   ],
   "source": [
    "px.recutext1(list(dl[0])[1])"
   ]
  },
  {
   "cell_type": "code",
   "execution_count": 256,
   "metadata": {},
   "outputs": [
    {
     "data": {
      "text/plain": [
       "[<Element '{http://dlmf.nist.gov/LaTeXML}tag' at 0x7f79d63b4778>]"
      ]
     },
     "execution_count": 256,
     "metadata": {},
     "output_type": "execute_result"
    }
   ],
   "source": [
    "empty_if_none = lambda s: s if s else ''\n",
    "def recu(el):\n",
    "    if list(el) == []: # or el.tag == '{http://dlmf.nist.gov/LaTeXML}Math':\n",
    "        return []\n",
    "    else:\n",
    "        str_thingy = []\n",
    "        for ele in list(el):\n",
    "            if ele.tag != '{http://dlmf.nist.gov/LaTeXML}Math':\n",
    "                str_thingy.append(ele) \n",
    "                str_thingy += recu(ele)\n",
    "        return str_thingy\n",
    "            \n",
    "compare1 = recu(list(dl[1])[0])\n",
    "compare1\n"
   ]
  },
  {
   "cell_type": "code",
   "execution_count": 219,
   "metadata": {},
   "outputs": [
    {
     "data": {
      "text/plain": [
       "[<Element '{http://dlmf.nist.gov/LaTeXML}title' at 0x7f79d2346548>,\n",
       " <Element '{http://dlmf.nist.gov/LaTeXML}tag' at 0x7f79d2346598>,\n",
       " <Element '{http://dlmf.nist.gov/LaTeXML}para' at 0x7f79d23465e8>,\n",
       " <Element '{http://dlmf.nist.gov/LaTeXML}itemize' at 0x7f79d2346638>,\n",
       " <Element '{http://dlmf.nist.gov/LaTeXML}item' at 0x7f79d2346688>,\n",
       " <Element '{http://dlmf.nist.gov/LaTeXML}tag' at 0x7f79d23466d8>,\n",
       " <Element '{http://dlmf.nist.gov/LaTeXML}text' at 0x7f79d2346728>,\n",
       " <Element '{http://dlmf.nist.gov/LaTeXML}para' at 0x7f79d23467c8>,\n",
       " <Element '{http://dlmf.nist.gov/LaTeXML}p' at 0x7f79d2346818>,\n",
       " <Element '{http://dlmf.nist.gov/LaTeXML}text' at 0x7f79d2346868>,\n",
       " <Element '{http://dlmf.nist.gov/LaTeXML}Math' at 0x7f79d23468b8>,\n",
       " <Element '{http://dlmf.nist.gov/LaTeXML}XMath' at 0x7f79d2346908>,\n",
       " <Element '{http://dlmf.nist.gov/LaTeXML}XMApp' at 0x7f79d2346958>,\n",
       " <Element '{http://dlmf.nist.gov/LaTeXML}XMTok' at 0x7f79d23469a8>,\n",
       " <Element '{http://dlmf.nist.gov/LaTeXML}XMTok' at 0x7f79d23469f8>,\n",
       " <Element '{http://dlmf.nist.gov/LaTeXML}XMTok' at 0x7f79d2346a98>,\n",
       " <Element '{http://dlmf.nist.gov/LaTeXML}text' at 0x7f79d2346ae8>,\n",
       " <Element '{http://dlmf.nist.gov/LaTeXML}text' at 0x7f79d2346b88>,\n",
       " <Element '{http://dlmf.nist.gov/LaTeXML}text' at 0x7f79d2346bd8>,\n",
       " <Element '{http://dlmf.nist.gov/LaTeXML}cite' at 0x7f79d2346c28>,\n",
       " <Element '{http://dlmf.nist.gov/LaTeXML}text' at 0x7f79d2346c78>,\n",
       " <Element '{http://dlmf.nist.gov/LaTeXML}bibref' at 0x7f79d2346cc8>,\n",
       " <Element '{http://dlmf.nist.gov/LaTeXML}text' at 0x7f79d2346d18>,\n",
       " <Element '{http://dlmf.nist.gov/LaTeXML}text' at 0x7f79d2346d68>,\n",
       " <Element '{http://dlmf.nist.gov/LaTeXML}text' at 0x7f79d2346db8>,\n",
       " <Element '{http://dlmf.nist.gov/LaTeXML}text' at 0x7f79d2346e08>,\n",
       " <Element '{http://dlmf.nist.gov/LaTeXML}Math' at 0x7f79d2346ea8>,\n",
       " <Element '{http://dlmf.nist.gov/LaTeXML}XMath' at 0x7f79d2346ef8>,\n",
       " <Element '{http://dlmf.nist.gov/LaTeXML}XMDual' at 0x7f79d2346f48>,\n",
       " <Element '{http://dlmf.nist.gov/LaTeXML}XMApp' at 0x7f79d2346f98>,\n",
       " <Element '{http://dlmf.nist.gov/LaTeXML}XMTok' at 0x7f79d234d098>,\n",
       " <Element '{http://dlmf.nist.gov/LaTeXML}XMRef' at 0x7f79d234d138>,\n",
       " <Element '{http://dlmf.nist.gov/LaTeXML}XMRef' at 0x7f79d234d1d8>,\n",
       " <Element '{http://dlmf.nist.gov/LaTeXML}XMWrap' at 0x7f79d234d228>,\n",
       " <Element '{http://dlmf.nist.gov/LaTeXML}XMTok' at 0x7f79d234d2c8>,\n",
       " <Element '{http://dlmf.nist.gov/LaTeXML}XMApp' at 0x7f79d234d368>,\n",
       " <Element '{http://dlmf.nist.gov/LaTeXML}XMTok' at 0x7f79d234d408>,\n",
       " <Element '{http://dlmf.nist.gov/LaTeXML}XMTok' at 0x7f79d234d4a8>,\n",
       " <Element '{http://dlmf.nist.gov/LaTeXML}XMTok' at 0x7f79d234d548>,\n",
       " <Element '{http://dlmf.nist.gov/LaTeXML}XMTok' at 0x7f79d234d688>,\n",
       " <Element '{http://dlmf.nist.gov/LaTeXML}XMApp' at 0x7f79d234d728>,\n",
       " <Element '{http://dlmf.nist.gov/LaTeXML}XMTok' at 0x7f79d234d7c8>,\n",
       " <Element '{http://dlmf.nist.gov/LaTeXML}XMTok' at 0x7f79d234d868>,\n",
       " <Element '{http://dlmf.nist.gov/LaTeXML}XMTok' at 0x7f79d234d908>,\n",
       " <Element '{http://dlmf.nist.gov/LaTeXML}XMTok' at 0x7f79d234da48>,\n",
       " <Element '{http://dlmf.nist.gov/LaTeXML}text' at 0x7f79d234da98>,\n",
       " <Element '{http://dlmf.nist.gov/LaTeXML}Math' at 0x7f79d234dae8>,\n",
       " <Element '{http://dlmf.nist.gov/LaTeXML}XMath' at 0x7f79d234db38>,\n",
       " <Element '{http://dlmf.nist.gov/LaTeXML}XMApp' at 0x7f79d234db88>,\n",
       " <Element '{http://dlmf.nist.gov/LaTeXML}XMTok' at 0x7f79d234dbd8>,\n",
       " <Element '{http://dlmf.nist.gov/LaTeXML}XMApp' at 0x7f79d234dc78>,\n",
       " <Element '{http://dlmf.nist.gov/LaTeXML}XMTok' at 0x7f79d234dd18>,\n",
       " <Element '{http://dlmf.nist.gov/LaTeXML}XMApp' at 0x7f79d234ddb8>,\n",
       " <Element '{http://dlmf.nist.gov/LaTeXML}XMTok' at 0x7f79d234de58>,\n",
       " <Element '{http://dlmf.nist.gov/LaTeXML}XMTok' at 0x7f79d234def8>,\n",
       " <Element '{http://dlmf.nist.gov/LaTeXML}XMTok' at 0x7f79d234df98>,\n",
       " <Element '{http://dlmf.nist.gov/LaTeXML}XMApp' at 0x7f79d2351138>,\n",
       " <Element '{http://dlmf.nist.gov/LaTeXML}XMTok' at 0x7f79d23511d8>,\n",
       " <Element '{http://dlmf.nist.gov/LaTeXML}XMTok' at 0x7f79d2351278>,\n",
       " <Element '{http://dlmf.nist.gov/LaTeXML}XMTok' at 0x7f79d2351318>,\n",
       " <Element '{http://dlmf.nist.gov/LaTeXML}XMApp' at 0x7f79d2351408>,\n",
       " <Element '{http://dlmf.nist.gov/LaTeXML}XMTok' at 0x7f79d23514a8>,\n",
       " <Element '{http://dlmf.nist.gov/LaTeXML}XMTok' at 0x7f79d2351548>,\n",
       " <Element '{http://dlmf.nist.gov/LaTeXML}XMTok' at 0x7f79d23515e8>,\n",
       " <Element '{http://dlmf.nist.gov/LaTeXML}text' at 0x7f79d2351638>,\n",
       " <Element '{http://dlmf.nist.gov/LaTeXML}Math' at 0x7f79d23516d8>,\n",
       " <Element '{http://dlmf.nist.gov/LaTeXML}XMath' at 0x7f79d2351728>,\n",
       " <Element '{http://dlmf.nist.gov/LaTeXML}XMApp' at 0x7f79d2351778>,\n",
       " <Element '{http://dlmf.nist.gov/LaTeXML}XMTok' at 0x7f79d23517c8>,\n",
       " <Element '{http://dlmf.nist.gov/LaTeXML}XMApp' at 0x7f79d2351818>,\n",
       " <Element '{http://dlmf.nist.gov/LaTeXML}XMTok' at 0x7f79d23518b8>,\n",
       " <Element '{http://dlmf.nist.gov/LaTeXML}XMApp' at 0x7f79d23519a8>,\n",
       " <Element '{http://dlmf.nist.gov/LaTeXML}XMTok' at 0x7f79d2351a48>,\n",
       " <Element '{http://dlmf.nist.gov/LaTeXML}XMTok' at 0x7f79d2351ae8>,\n",
       " <Element '{http://dlmf.nist.gov/LaTeXML}XMTok' at 0x7f79d2351bd8>,\n",
       " <Element '{http://dlmf.nist.gov/LaTeXML}XMDual' at 0x7f79d2351d18>,\n",
       " <Element '{http://dlmf.nist.gov/LaTeXML}XMApp' at 0x7f79d2351db8>,\n",
       " <Element '{http://dlmf.nist.gov/LaTeXML}XMTok' at 0x7f79d2351e58>,\n",
       " <Element '{http://dlmf.nist.gov/LaTeXML}XMRef' at 0x7f79d2351ef8>,\n",
       " <Element '{http://dlmf.nist.gov/LaTeXML}XMRef' at 0x7f79d2351f98>,\n",
       " <Element '{http://dlmf.nist.gov/LaTeXML}XMWrap' at 0x7f79d23560e8>,\n",
       " <Element '{http://dlmf.nist.gov/LaTeXML}XMTok' at 0x7f79d2356188>,\n",
       " <Element '{http://dlmf.nist.gov/LaTeXML}XMApp' at 0x7f79d2356228>,\n",
       " <Element '{http://dlmf.nist.gov/LaTeXML}XMTok' at 0x7f79d23562c8>,\n",
       " <Element '{http://dlmf.nist.gov/LaTeXML}XMTok' at 0x7f79d2356368>,\n",
       " <Element '{http://dlmf.nist.gov/LaTeXML}XMTok' at 0x7f79d2356408>,\n",
       " <Element '{http://dlmf.nist.gov/LaTeXML}XMTok' at 0x7f79d2356548>,\n",
       " <Element '{http://dlmf.nist.gov/LaTeXML}XMApp' at 0x7f79d23565e8>,\n",
       " <Element '{http://dlmf.nist.gov/LaTeXML}XMTok' at 0x7f79d2356688>,\n",
       " <Element '{http://dlmf.nist.gov/LaTeXML}XMTok' at 0x7f79d2356728>,\n",
       " <Element '{http://dlmf.nist.gov/LaTeXML}XMTok' at 0x7f79d23567c8>,\n",
       " <Element '{http://dlmf.nist.gov/LaTeXML}XMTok' at 0x7f79d2356908>,\n",
       " <Element '{http://dlmf.nist.gov/LaTeXML}XMApp' at 0x7f79d23569f8>,\n",
       " <Element '{http://dlmf.nist.gov/LaTeXML}XMTok' at 0x7f79d2356a98>,\n",
       " <Element '{http://dlmf.nist.gov/LaTeXML}XMApp' at 0x7f79d2356b88>,\n",
       " <Element '{http://dlmf.nist.gov/LaTeXML}XMTok' at 0x7f79d2356c28>,\n",
       " <Element '{http://dlmf.nist.gov/LaTeXML}XMTok' at 0x7f79d2356cc8>,\n",
       " <Element '{http://dlmf.nist.gov/LaTeXML}XMTok' at 0x7f79d2356db8>,\n",
       " <Element '{http://dlmf.nist.gov/LaTeXML}XMDual' at 0x7f79d2356ef8>,\n",
       " <Element '{http://dlmf.nist.gov/LaTeXML}XMApp' at 0x7f79d2356f98>,\n",
       " <Element '{http://dlmf.nist.gov/LaTeXML}XMTok' at 0x7f79d22d9098>,\n",
       " <Element '{http://dlmf.nist.gov/LaTeXML}XMRef' at 0x7f79d22d9138>,\n",
       " <Element '{http://dlmf.nist.gov/LaTeXML}XMRef' at 0x7f79d22d91d8>,\n",
       " <Element '{http://dlmf.nist.gov/LaTeXML}XMWrap' at 0x7f79d22d92c8>,\n",
       " <Element '{http://dlmf.nist.gov/LaTeXML}XMTok' at 0x7f79d22d9368>,\n",
       " <Element '{http://dlmf.nist.gov/LaTeXML}XMTok' at 0x7f79d22d9408>,\n",
       " <Element '{http://dlmf.nist.gov/LaTeXML}XMTok' at 0x7f79d22d94a8>,\n",
       " <Element '{http://dlmf.nist.gov/LaTeXML}XMTok' at 0x7f79d22d9548>,\n",
       " <Element '{http://dlmf.nist.gov/LaTeXML}XMTok' at 0x7f79d22d95e8>,\n",
       " <Element '{http://dlmf.nist.gov/LaTeXML}text' at 0x7f79d22d96d8>,\n",
       " <Element '{http://dlmf.nist.gov/LaTeXML}Math' at 0x7f79d22d9728>,\n",
       " <Element '{http://dlmf.nist.gov/LaTeXML}XMath' at 0x7f79d22d9778>,\n",
       " <Element '{http://dlmf.nist.gov/LaTeXML}XMTok' at 0x7f79d22d97c8>,\n",
       " <Element '{http://dlmf.nist.gov/LaTeXML}text' at 0x7f79d22d9818>,\n",
       " <Element '{http://dlmf.nist.gov/LaTeXML}item' at 0x7f79d22d9868>,\n",
       " <Element '{http://dlmf.nist.gov/LaTeXML}tag' at 0x7f79d22d98b8>,\n",
       " <Element '{http://dlmf.nist.gov/LaTeXML}text' at 0x7f79d22d9908>,\n",
       " <Element '{http://dlmf.nist.gov/LaTeXML}para' at 0x7f79d22d99a8>,\n",
       " <Element '{http://dlmf.nist.gov/LaTeXML}p' at 0x7f79d22d99f8>,\n",
       " <Element '{http://dlmf.nist.gov/LaTeXML}text' at 0x7f79d22d9a48>,\n",
       " <Element '{http://dlmf.nist.gov/LaTeXML}Math' at 0x7f79d22d9a98>,\n",
       " <Element '{http://dlmf.nist.gov/LaTeXML}XMath' at 0x7f79d22d9ae8>,\n",
       " <Element '{http://dlmf.nist.gov/LaTeXML}XMTok' at 0x7f79d22d9b38>,\n",
       " <Element '{http://dlmf.nist.gov/LaTeXML}text' at 0x7f79d22d9bd8>,\n",
       " <Element '{http://dlmf.nist.gov/LaTeXML}text' at 0x7f79d22d9c28>,\n",
       " <Element '{http://dlmf.nist.gov/LaTeXML}text' at 0x7f79d22d9c78>,\n",
       " <Element '{http://dlmf.nist.gov/LaTeXML}text' at 0x7f79d22d9d18>,\n",
       " <Element '{http://dlmf.nist.gov/LaTeXML}Math' at 0x7f79d22d9db8>,\n",
       " <Element '{http://dlmf.nist.gov/LaTeXML}XMath' at 0x7f79d22d9e08>,\n",
       " <Element '{http://dlmf.nist.gov/LaTeXML}XMApp' at 0x7f79d22d9e58>,\n",
       " <Element '{http://dlmf.nist.gov/LaTeXML}XMTok' at 0x7f79d22d9ea8>,\n",
       " <Element '{http://dlmf.nist.gov/LaTeXML}XMDual' at 0x7f79d22d9ef8>,\n",
       " <Element '{http://dlmf.nist.gov/LaTeXML}XMApp' at 0x7f79d22d9f98>,\n",
       " <Element '{http://dlmf.nist.gov/LaTeXML}XMRef' at 0x7f79d22de098>,\n",
       " <Element '{http://dlmf.nist.gov/LaTeXML}XMRef' at 0x7f79d22de138>,\n",
       " <Element '{http://dlmf.nist.gov/LaTeXML}XMRef' at 0x7f79d22de1d8>,\n",
       " <Element '{http://dlmf.nist.gov/LaTeXML}XMRef' at 0x7f79d22de278>,\n",
       " <Element '{http://dlmf.nist.gov/LaTeXML}XMApp' at 0x7f79d22de368>,\n",
       " <Element '{http://dlmf.nist.gov/LaTeXML}XMTok' at 0x7f79d22de408>,\n",
       " <Element '{http://dlmf.nist.gov/LaTeXML}XMWrap' at 0x7f79d22de4a8>,\n",
       " <Element '{http://dlmf.nist.gov/LaTeXML}XMTok' at 0x7f79d22de548>,\n",
       " <Element '{http://dlmf.nist.gov/LaTeXML}XMTok' at 0x7f79d22de5e8>,\n",
       " <Element '{http://dlmf.nist.gov/LaTeXML}XMTok' at 0x7f79d22de688>,\n",
       " <Element '{http://dlmf.nist.gov/LaTeXML}XMTok' at 0x7f79d22de728>,\n",
       " <Element '{http://dlmf.nist.gov/LaTeXML}XMTok' at 0x7f79d22de7c8>,\n",
       " <Element '{http://dlmf.nist.gov/LaTeXML}XMTok' at 0x7f79d22de868>,\n",
       " <Element '{http://dlmf.nist.gov/LaTeXML}XMTok' at 0x7f79d22de908>,\n",
       " <Element '{http://dlmf.nist.gov/LaTeXML}XMTok' at 0x7f79d22de9f8>,\n",
       " <Element '{http://dlmf.nist.gov/LaTeXML}text' at 0x7f79d22dea48>,\n",
       " <Element '{http://dlmf.nist.gov/LaTeXML}Math' at 0x7f79d22dea98>,\n",
       " <Element '{http://dlmf.nist.gov/LaTeXML}XMath' at 0x7f79d22deae8>,\n",
       " <Element '{http://dlmf.nist.gov/LaTeXML}XMTok' at 0x7f79d22deb38>,\n",
       " <Element '{http://dlmf.nist.gov/LaTeXML}text' at 0x7f79d22debd8>,\n",
       " <Element '{http://dlmf.nist.gov/LaTeXML}Math' at 0x7f79d22dec28>,\n",
       " <Element '{http://dlmf.nist.gov/LaTeXML}XMath' at 0x7f79d22dec78>,\n",
       " <Element '{http://dlmf.nist.gov/LaTeXML}XMTok' at 0x7f79d22decc8>,\n",
       " <Element '{http://dlmf.nist.gov/LaTeXML}text' at 0x7f79d22ded68>,\n",
       " <Element '{http://dlmf.nist.gov/LaTeXML}Math' at 0x7f79d22dedb8>,\n",
       " <Element '{http://dlmf.nist.gov/LaTeXML}XMath' at 0x7f79d22dee08>,\n",
       " <Element '{http://dlmf.nist.gov/LaTeXML}XMTok' at 0x7f79d22dee58>,\n",
       " <Element '{http://dlmf.nist.gov/LaTeXML}text' at 0x7f79d22deef8>,\n",
       " <Element '{http://dlmf.nist.gov/LaTeXML}item' at 0x7f79d22def48>,\n",
       " <Element '{http://dlmf.nist.gov/LaTeXML}tag' at 0x7f79d22def98>,\n",
       " <Element '{http://dlmf.nist.gov/LaTeXML}text' at 0x7f79d22e3048>,\n",
       " <Element '{http://dlmf.nist.gov/LaTeXML}para' at 0x7f79d22e30e8>,\n",
       " <Element '{http://dlmf.nist.gov/LaTeXML}p' at 0x7f79d22e3138>,\n",
       " <Element '{http://dlmf.nist.gov/LaTeXML}text' at 0x7f79d22e3188>,\n",
       " <Element '{http://dlmf.nist.gov/LaTeXML}Math' at 0x7f79d22e31d8>,\n",
       " <Element '{http://dlmf.nist.gov/LaTeXML}XMath' at 0x7f79d22e3228>,\n",
       " <Element '{http://dlmf.nist.gov/LaTeXML}XMTok' at 0x7f79d22e3278>,\n",
       " <Element '{http://dlmf.nist.gov/LaTeXML}text' at 0x7f79d22e3318>,\n",
       " <Element '{http://dlmf.nist.gov/LaTeXML}Math' at 0x7f79d22e33b8>,\n",
       " <Element '{http://dlmf.nist.gov/LaTeXML}XMath' at 0x7f79d22e3408>,\n",
       " <Element '{http://dlmf.nist.gov/LaTeXML}XMApp' at 0x7f79d22e3458>,\n",
       " <Element '{http://dlmf.nist.gov/LaTeXML}XMTok' at 0x7f79d22e34a8>,\n",
       " <Element '{http://dlmf.nist.gov/LaTeXML}XMTok' at 0x7f79d22e34f8>,\n",
       " <Element '{http://dlmf.nist.gov/LaTeXML}XMTok' at 0x7f79d22e3598>,\n",
       " <Element '{http://dlmf.nist.gov/LaTeXML}text' at 0x7f79d22e35e8>,\n",
       " <Element '{http://dlmf.nist.gov/LaTeXML}Math' at 0x7f79d22e3638>,\n",
       " <Element '{http://dlmf.nist.gov/LaTeXML}XMath' at 0x7f79d22e3688>,\n",
       " <Element '{http://dlmf.nist.gov/LaTeXML}XMApp' at 0x7f79d22e36d8>,\n",
       " <Element '{http://dlmf.nist.gov/LaTeXML}XMTok' at 0x7f79d22e3728>,\n",
       " <Element '{http://dlmf.nist.gov/LaTeXML}XMApp' at 0x7f79d22e3778>,\n",
       " <Element '{http://dlmf.nist.gov/LaTeXML}XMTok' at 0x7f79d22e3818>,\n",
       " <Element '{http://dlmf.nist.gov/LaTeXML}XMTok' at 0x7f79d22e38b8>,\n",
       " <Element '{http://dlmf.nist.gov/LaTeXML}XMTok' at 0x7f79d22e39a8>,\n",
       " <Element '{http://dlmf.nist.gov/LaTeXML}XMTok' at 0x7f79d22e39f8>,\n",
       " <Element '{http://dlmf.nist.gov/LaTeXML}text' at 0x7f79d22e3a48>,\n",
       " <Element '{http://dlmf.nist.gov/LaTeXML}Math' at 0x7f79d22e3ae8>,\n",
       " <Element '{http://dlmf.nist.gov/LaTeXML}XMath' at 0x7f79d22e3b38>,\n",
       " <Element '{http://dlmf.nist.gov/LaTeXML}XMTok' at 0x7f79d22e3b88>,\n",
       " <Element '{http://dlmf.nist.gov/LaTeXML}text' at 0x7f79d22e3c28>,\n",
       " <Element '{http://dlmf.nist.gov/LaTeXML}Math' at 0x7f79d22e3d18>,\n",
       " <Element '{http://dlmf.nist.gov/LaTeXML}XMath' at 0x7f79d22e3d68>,\n",
       " <Element '{http://dlmf.nist.gov/LaTeXML}XMDual' at 0x7f79d22e3db8>,\n",
       " <Element '{http://dlmf.nist.gov/LaTeXML}XMApp' at 0x7f79d22e3e08>,\n",
       " <Element '{http://dlmf.nist.gov/LaTeXML}XMTok' at 0x7f79d22e3ea8>,\n",
       " <Element '{http://dlmf.nist.gov/LaTeXML}XMRef' at 0x7f79d22e3f48>,\n",
       " <Element '{http://dlmf.nist.gov/LaTeXML}XMRef' at 0x7f79d22e8048>,\n",
       " <Element '{http://dlmf.nist.gov/LaTeXML}XMWrap' at 0x7f79d22e8098>,\n",
       " <Element '{http://dlmf.nist.gov/LaTeXML}XMTok' at 0x7f79d22e8138>,\n",
       " <Element '{http://dlmf.nist.gov/LaTeXML}XMApp' at 0x7f79d22e81d8>,\n",
       " <Element '{http://dlmf.nist.gov/LaTeXML}XMTok' at 0x7f79d22e8278>,\n",
       " <Element '{http://dlmf.nist.gov/LaTeXML}XMTok' at 0x7f79d22e8318>,\n",
       " <Element '{http://dlmf.nist.gov/LaTeXML}XMTok' at 0x7f79d22e8408>,\n",
       " <Element '{http://dlmf.nist.gov/LaTeXML}XMTok' at 0x7f79d22e84f8>,\n",
       " <Element '{http://dlmf.nist.gov/LaTeXML}XMApp' at 0x7f79d22e8598>,\n",
       " <Element '{http://dlmf.nist.gov/LaTeXML}XMTok' at 0x7f79d22e8638>,\n",
       " <Element '{http://dlmf.nist.gov/LaTeXML}XMTok' at 0x7f79d22e86d8>,\n",
       " <Element '{http://dlmf.nist.gov/LaTeXML}XMApp' at 0x7f79d22e87c8>,\n",
       " <Element '{http://dlmf.nist.gov/LaTeXML}XMTok' at 0x7f79d22e8868>,\n",
       " <Element '{http://dlmf.nist.gov/LaTeXML}XMTok' at 0x7f79d22e8908>,\n",
       " <Element '{http://dlmf.nist.gov/LaTeXML}XMTok' at 0x7f79d22e89a8>,\n",
       " <Element '{http://dlmf.nist.gov/LaTeXML}XMTok' at 0x7f79d22e8ae8>,\n",
       " <Element '{http://dlmf.nist.gov/LaTeXML}text' at 0x7f79d22e8b38>,\n",
       " <Element '{http://dlmf.nist.gov/LaTeXML}Math' at 0x7f79d22e8bd8>,\n",
       " <Element '{http://dlmf.nist.gov/LaTeXML}XMath' at 0x7f79d22e8c28>,\n",
       " <Element '{http://dlmf.nist.gov/LaTeXML}XMDual' at 0x7f79d22e8c78>,\n",
       " <Element '{http://dlmf.nist.gov/LaTeXML}XMApp' at 0x7f79d22e8cc8>,\n",
       " <Element '{http://dlmf.nist.gov/LaTeXML}XMTok' at 0x7f79d22e8d68>,\n",
       " <Element '{http://dlmf.nist.gov/LaTeXML}XMRef' at 0x7f79d22e8e08>,\n",
       " <Element '{http://dlmf.nist.gov/LaTeXML}XMRef' at 0x7f79d22e8ea8>,\n",
       " <Element '{http://dlmf.nist.gov/LaTeXML}XMWrap' at 0x7f79d22e8ef8>,\n",
       " <Element '{http://dlmf.nist.gov/LaTeXML}XMTok' at 0x7f79d22e8f98>,\n",
       " <Element '{http://dlmf.nist.gov/LaTeXML}XMApp' at 0x7f79d22ea098>,\n",
       " <Element '{http://dlmf.nist.gov/LaTeXML}XMTok' at 0x7f79d22ea138>,\n",
       " <Element '{http://dlmf.nist.gov/LaTeXML}XMTok' at 0x7f79d22ea1d8>,\n",
       " <Element '{http://dlmf.nist.gov/LaTeXML}XMTok' at 0x7f79d22ea2c8>,\n",
       " <Element '{http://dlmf.nist.gov/LaTeXML}XMTok' at 0x7f79d22ea3b8>,\n",
       " <Element '{http://dlmf.nist.gov/LaTeXML}XMApp' at 0x7f79d22ea458>,\n",
       " <Element '{http://dlmf.nist.gov/LaTeXML}XMTok' at 0x7f79d22ea4f8>,\n",
       " <Element '{http://dlmf.nist.gov/LaTeXML}XMTok' at 0x7f79d22ea598>,\n",
       " <Element '{http://dlmf.nist.gov/LaTeXML}XMApp' at 0x7f79d22ea688>,\n",
       " <Element '{http://dlmf.nist.gov/LaTeXML}XMTok' at 0x7f79d22ea728>,\n",
       " <Element '{http://dlmf.nist.gov/LaTeXML}XMTok' at 0x7f79d22ea7c8>,\n",
       " <Element '{http://dlmf.nist.gov/LaTeXML}XMTok' at 0x7f79d22ea868>,\n",
       " <Element '{http://dlmf.nist.gov/LaTeXML}XMTok' at 0x7f79d22ea9a8>,\n",
       " <Element '{http://dlmf.nist.gov/LaTeXML}text' at 0x7f79d22ea9f8>,\n",
       " <Element '{http://dlmf.nist.gov/LaTeXML}Math' at 0x7f79d22eaa48>,\n",
       " <Element '{http://dlmf.nist.gov/LaTeXML}XMath' at 0x7f79d22eaa98>,\n",
       " <Element '{http://dlmf.nist.gov/LaTeXML}XMTok' at 0x7f79d22eaae8>,\n",
       " <Element '{http://dlmf.nist.gov/LaTeXML}text' at 0x7f79d22eab88>,\n",
       " <Element '{http://dlmf.nist.gov/LaTeXML}Math' at 0x7f79d22eac28>,\n",
       " <Element '{http://dlmf.nist.gov/LaTeXML}XMath' at 0x7f79d22eac78>,\n",
       " <Element '{http://dlmf.nist.gov/LaTeXML}XMTok' at 0x7f79d22eacc8>,\n",
       " <Element '{http://dlmf.nist.gov/LaTeXML}text' at 0x7f79d22ead68>,\n",
       " <Element '{http://dlmf.nist.gov/LaTeXML}Math' at 0x7f79d22eadb8>,\n",
       " <Element '{http://dlmf.nist.gov/LaTeXML}XMath' at 0x7f79d22eae08>,\n",
       " <Element '{http://dlmf.nist.gov/LaTeXML}XMApp' at 0x7f79d22eae58>,\n",
       " <Element '{http://dlmf.nist.gov/LaTeXML}XMTok' at 0x7f79d22eaea8>,\n",
       " <Element '{http://dlmf.nist.gov/LaTeXML}XMDual' at 0x7f79d22eaf48>,\n",
       " <Element '{http://dlmf.nist.gov/LaTeXML}XMApp' at 0x7f79d22ef048>,\n",
       " <Element '{http://dlmf.nist.gov/LaTeXML}XMTok' at 0x7f79d22ef0e8>,\n",
       " <Element '{http://dlmf.nist.gov/LaTeXML}XMRef' at 0x7f79d22ef188>,\n",
       " <Element '{http://dlmf.nist.gov/LaTeXML}XMRef' at 0x7f79d22ef228>,\n",
       " <Element '{http://dlmf.nist.gov/LaTeXML}XMWrap' at 0x7f79d22ef318>,\n",
       " <Element '{http://dlmf.nist.gov/LaTeXML}XMTok' at 0x7f79d22ef3b8>,\n",
       " <Element '{http://dlmf.nist.gov/LaTeXML}XMTok' at 0x7f79d22ef4a8>,\n",
       " <Element '{http://dlmf.nist.gov/LaTeXML}XMApp' at 0x7f79d22ef548>,\n",
       " <Element '{http://dlmf.nist.gov/LaTeXML}XMTok' at 0x7f79d22ef5e8>,\n",
       " <Element '{http://dlmf.nist.gov/LaTeXML}XMTok' at 0x7f79d22ef688>,\n",
       " <Element '{http://dlmf.nist.gov/LaTeXML}XMTok' at 0x7f79d22ef778>,\n",
       " <Element '{http://dlmf.nist.gov/LaTeXML}XMDual' at 0x7f79d22ef8b8>,\n",
       " <Element '{http://dlmf.nist.gov/LaTeXML}XMApp' at 0x7f79d22ef958>,\n",
       " <Element '{http://dlmf.nist.gov/LaTeXML}XMTok' at 0x7f79d22ef9f8>,\n",
       " <Element '{http://dlmf.nist.gov/LaTeXML}XMRef' at 0x7f79d22efa98>,\n",
       " <Element '{http://dlmf.nist.gov/LaTeXML}XMRef' at 0x7f79d22efb38>,\n",
       " <Element '{http://dlmf.nist.gov/LaTeXML}XMWrap' at 0x7f79d22efc28>,\n",
       " <Element '{http://dlmf.nist.gov/LaTeXML}XMTok' at 0x7f79d22efcc8>,\n",
       " <Element '{http://dlmf.nist.gov/LaTeXML}XMApp' at 0x7f79d22efd68>,\n",
       " <Element '{http://dlmf.nist.gov/LaTeXML}XMTok' at 0x7f79d22efe08>,\n",
       " <Element '{http://dlmf.nist.gov/LaTeXML}XMTok' at 0x7f79d22efea8>,\n",
       " <Element '{http://dlmf.nist.gov/LaTeXML}XMTok' at 0x7f79d22eff98>,\n",
       " <Element '{http://dlmf.nist.gov/LaTeXML}XMTok' at 0x7f79d22f30e8>,\n",
       " <Element '{http://dlmf.nist.gov/LaTeXML}XMApp' at 0x7f79d22f3188>,\n",
       " <Element '{http://dlmf.nist.gov/LaTeXML}XMTok' at 0x7f79d22f3228>,\n",
       " <Element '{http://dlmf.nist.gov/LaTeXML}XMTok' at 0x7f79d22f32c8>,\n",
       " <Element '{http://dlmf.nist.gov/LaTeXML}XMApp' at 0x7f79d22f33b8>,\n",
       " <Element '{http://dlmf.nist.gov/LaTeXML}XMTok' at 0x7f79d22f3458>,\n",
       " <Element '{http://dlmf.nist.gov/LaTeXML}XMTok' at 0x7f79d22f34f8>,\n",
       " <Element '{http://dlmf.nist.gov/LaTeXML}XMTok' at 0x7f79d22f3598>,\n",
       " <Element '{http://dlmf.nist.gov/LaTeXML}XMTok' at 0x7f79d22f36d8>,\n",
       " <Element '{http://dlmf.nist.gov/LaTeXML}text' at 0x7f79d22f3778>,\n",
       " <Element '{http://dlmf.nist.gov/LaTeXML}Math' at 0x7f79d22f37c8>,\n",
       " <Element '{http://dlmf.nist.gov/LaTeXML}XMath' at 0x7f79d22f3818>,\n",
       " <Element '{http://dlmf.nist.gov/LaTeXML}XMApp' at 0x7f79d22f3868>,\n",
       " <Element '{http://dlmf.nist.gov/LaTeXML}XMTok' at 0x7f79d22f38b8>,\n",
       " <Element '{http://dlmf.nist.gov/LaTeXML}XMApp' at 0x7f79d22f3908>,\n",
       " <Element '{http://dlmf.nist.gov/LaTeXML}XMTok' at 0x7f79d22f39a8>,\n",
       " <Element '{http://dlmf.nist.gov/LaTeXML}XMTok' at 0x7f79d22f3a98>,\n",
       " <Element '{http://dlmf.nist.gov/LaTeXML}XMDual' at 0x7f79d22f3b38>,\n",
       " <Element '{http://dlmf.nist.gov/LaTeXML}XMApp' at 0x7f79d22f3bd8>,\n",
       " <Element '{http://dlmf.nist.gov/LaTeXML}XMTok' at 0x7f79d22f3c78>,\n",
       " <Element '{http://dlmf.nist.gov/LaTeXML}XMRef' at 0x7f79d22f3d18>,\n",
       " <Element '{http://dlmf.nist.gov/LaTeXML}XMRef' at 0x7f79d22f3db8>,\n",
       " <Element '{http://dlmf.nist.gov/LaTeXML}XMRef' at 0x7f79d22f3e58>,\n",
       " <Element '{http://dlmf.nist.gov/LaTeXML}XMRef' at 0x7f79d22f3ef8>,\n",
       " <Element '{http://dlmf.nist.gov/LaTeXML}XMWrap' at 0x7f79d22f9048>,\n",
       " <Element '{http://dlmf.nist.gov/LaTeXML}XMTok' at 0x7f79d22f90e8>,\n",
       " <Element '{http://dlmf.nist.gov/LaTeXML}XMTok' at 0x7f79d22f9188>,\n",
       " <Element '{http://dlmf.nist.gov/LaTeXML}XMTok' at 0x7f79d22f9278>,\n",
       " <Element '{http://dlmf.nist.gov/LaTeXML}XMTok' at 0x7f79d22f9318>,\n",
       " <Element '{http://dlmf.nist.gov/LaTeXML}XMTok' at 0x7f79d22f93b8>,\n",
       " <Element '{http://dlmf.nist.gov/LaTeXML}XMTok' at 0x7f79d22f9458>,\n",
       " <Element '{http://dlmf.nist.gov/LaTeXML}XMTok' at 0x7f79d22f94f8>,\n",
       " <Element '{http://dlmf.nist.gov/LaTeXML}XMTok' at 0x7f79d22f9598>,\n",
       " <Element '{http://dlmf.nist.gov/LaTeXML}XMTok' at 0x7f79d22f9638>,\n",
       " <Element '{http://dlmf.nist.gov/LaTeXML}XMApp' at 0x7f79d22f9728>,\n",
       " <Element '{http://dlmf.nist.gov/LaTeXML}XMTok' at 0x7f79d22f97c8>,\n",
       " <Element '{http://dlmf.nist.gov/LaTeXML}XMTok' at 0x7f79d22f98b8>,\n",
       " <Element '{http://dlmf.nist.gov/LaTeXML}XMDual' at 0x7f79d22f9958>,\n",
       " <Element '{http://dlmf.nist.gov/LaTeXML}XMApp' at 0x7f79d22f99f8>,\n",
       " <Element '{http://dlmf.nist.gov/LaTeXML}XMTok' at 0x7f79d22f9a98>,\n",
       " <Element '{http://dlmf.nist.gov/LaTeXML}XMRef' at 0x7f79d22f9b38>,\n",
       " <Element '{http://dlmf.nist.gov/LaTeXML}XMRef' at 0x7f79d22f9bd8>,\n",
       " <Element '{http://dlmf.nist.gov/LaTeXML}XMRef' at 0x7f79d22f9c78>,\n",
       " <Element '{http://dlmf.nist.gov/LaTeXML}XMRef' at 0x7f79d22f9d18>,\n",
       " <Element '{http://dlmf.nist.gov/LaTeXML}XMWrap' at 0x7f79d22f9e08>,\n",
       " <Element '{http://dlmf.nist.gov/LaTeXML}XMTok' at 0x7f79d22f9ea8>,\n",
       " <Element '{http://dlmf.nist.gov/LaTeXML}XMApp' at 0x7f79d22f9f48>,\n",
       " <Element '{http://dlmf.nist.gov/LaTeXML}XMTok' at 0x7f79d22fc048>,\n",
       " <Element '{http://dlmf.nist.gov/LaTeXML}XMTok' at 0x7f79d22fc0e8>,\n",
       " <Element '{http://dlmf.nist.gov/LaTeXML}XMTok' at 0x7f79d22fc1d8>,\n",
       " <Element '{http://dlmf.nist.gov/LaTeXML}XMTok' at 0x7f79d22fc318>,\n",
       " <Element '{http://dlmf.nist.gov/LaTeXML}XMTok' at 0x7f79d22fc3b8>,\n",
       " <Element '{http://dlmf.nist.gov/LaTeXML}XMTok' at 0x7f79d22fc458>,\n",
       " <Element '{http://dlmf.nist.gov/LaTeXML}XMTok' at 0x7f79d22fc4f8>,\n",
       " <Element '{http://dlmf.nist.gov/LaTeXML}XMTok' at 0x7f79d22fc598>,\n",
       " <Element '{http://dlmf.nist.gov/LaTeXML}XMTok' at 0x7f79d22fc638>,\n",
       " <Element '{http://dlmf.nist.gov/LaTeXML}XMTok' at 0x7f79d22fc6d8>,\n",
       " <Element '{http://dlmf.nist.gov/LaTeXML}text' at 0x7f79d22fc7c8>,\n",
       " <Element '{http://dlmf.nist.gov/LaTeXML}Math' at 0x7f79d22fc818>,\n",
       " <Element '{http://dlmf.nist.gov/LaTeXML}XMath' at 0x7f79d22fc868>,\n",
       " <Element '{http://dlmf.nist.gov/LaTeXML}XMApp' at 0x7f79d22fc8b8>,\n",
       " <Element '{http://dlmf.nist.gov/LaTeXML}XMTok' at 0x7f79d22fc908>,\n",
       " <Element '{http://dlmf.nist.gov/LaTeXML}XMApp' at 0x7f79d22fc958>,\n",
       " <Element '{http://dlmf.nist.gov/LaTeXML}XMTok' at 0x7f79d22fc9f8>,\n",
       " <Element '{http://dlmf.nist.gov/LaTeXML}XMTok' at 0x7f79d22fca98>,\n",
       " <Element '{http://dlmf.nist.gov/LaTeXML}XMTok' at 0x7f79d22fcb38>,\n",
       " <Element '{http://dlmf.nist.gov/LaTeXML}XMApp' at 0x7f79d22fcb88>,\n",
       " <Element '{http://dlmf.nist.gov/LaTeXML}XMTok' at 0x7f79d22fcc28>,\n",
       " <Element '{http://dlmf.nist.gov/LaTeXML}XMApp' at 0x7f79d22fcd18>,\n",
       " <Element '{http://dlmf.nist.gov/LaTeXML}XMTok' at 0x7f79d22fcdb8>,\n",
       " <Element '{http://dlmf.nist.gov/LaTeXML}XMTok' at 0x7f79d22fce58>,\n",
       " <Element '{http://dlmf.nist.gov/LaTeXML}XMTok' at 0x7f79d22fcef8>,\n",
       " <Element '{http://dlmf.nist.gov/LaTeXML}XMDual' at 0x7f79d22ff048>,\n",
       " <Element '{http://dlmf.nist.gov/LaTeXML}XMApp' at 0x7f79d22ff0e8>,\n",
       " <Element '{http://dlmf.nist.gov/LaTeXML}XMTok' at 0x7f79d22ff188>,\n",
       " <Element '{http://dlmf.nist.gov/LaTeXML}XMRef' at 0x7f79d22ff228>,\n",
       " <Element '{http://dlmf.nist.gov/LaTeXML}XMRef' at 0x7f79d22ff2c8>,\n",
       " <Element '{http://dlmf.nist.gov/LaTeXML}XMRef' at 0x7f79d22ff368>,\n",
       " <Element '{http://dlmf.nist.gov/LaTeXML}XMWrap' at 0x7f79d22ff458>,\n",
       " <Element '{http://dlmf.nist.gov/LaTeXML}XMTok' at 0x7f79d22ff4f8>,\n",
       " <Element '{http://dlmf.nist.gov/LaTeXML}XMTok' at 0x7f79d22ff598>,\n",
       " <Element '{http://dlmf.nist.gov/LaTeXML}XMTok' at 0x7f79d22ff638>,\n",
       " <Element '{http://dlmf.nist.gov/LaTeXML}XMTok' at 0x7f79d22ff6d8>,\n",
       " <Element '{http://dlmf.nist.gov/LaTeXML}XMTok' at 0x7f79d22ff778>,\n",
       " <Element '{http://dlmf.nist.gov/LaTeXML}XMTok' at 0x7f79d22ff818>,\n",
       " <Element '{http://dlmf.nist.gov/LaTeXML}XMTok' at 0x7f79d22ff8b8>,\n",
       " <Element '{http://dlmf.nist.gov/LaTeXML}text' at 0x7f79d22ff9a8>]"
      ]
     },
     "execution_count": 219,
     "metadata": {},
     "output_type": "execute_result"
    }
   ],
   "source": [
    "def recu2(root):\n",
    "    ret_lst = []\n",
    "    for el in list(root):\n",
    "        ret_lst.append(el)\n",
    "        ret_lst += recu2(el)\n",
    "    return ret_lst\n",
    "recu2(dl[1])"
   ]
  },
  {
   "cell_type": "code",
   "execution_count": 218,
   "metadata": {
    "collapsed": true
   },
   "outputs": [
    {
     "data": {
      "text/plain": [
       "[<Element '{http://dlmf.nist.gov/LaTeXML}title' at 0x7f79d2346548>,\n",
       " <Element '{http://dlmf.nist.gov/LaTeXML}tag' at 0x7f79d2346598>,\n",
       " <Element '{http://dlmf.nist.gov/LaTeXML}para' at 0x7f79d23465e8>,\n",
       " <Element '{http://dlmf.nist.gov/LaTeXML}itemize' at 0x7f79d2346638>,\n",
       " <Element '{http://dlmf.nist.gov/LaTeXML}item' at 0x7f79d2346688>,\n",
       " <Element '{http://dlmf.nist.gov/LaTeXML}tag' at 0x7f79d23466d8>,\n",
       " <Element '{http://dlmf.nist.gov/LaTeXML}text' at 0x7f79d2346728>,\n",
       " <Element '{http://dlmf.nist.gov/LaTeXML}para' at 0x7f79d23467c8>,\n",
       " <Element '{http://dlmf.nist.gov/LaTeXML}p' at 0x7f79d2346818>,\n",
       " <Element '{http://dlmf.nist.gov/LaTeXML}text' at 0x7f79d2346868>,\n",
       " <Element '{http://dlmf.nist.gov/LaTeXML}text' at 0x7f79d2346ae8>,\n",
       " <Element '{http://dlmf.nist.gov/LaTeXML}text' at 0x7f79d2346b88>,\n",
       " <Element '{http://dlmf.nist.gov/LaTeXML}text' at 0x7f79d2346bd8>,\n",
       " <Element '{http://dlmf.nist.gov/LaTeXML}cite' at 0x7f79d2346c28>,\n",
       " <Element '{http://dlmf.nist.gov/LaTeXML}text' at 0x7f79d2346c78>,\n",
       " <Element '{http://dlmf.nist.gov/LaTeXML}bibref' at 0x7f79d2346cc8>,\n",
       " <Element '{http://dlmf.nist.gov/LaTeXML}text' at 0x7f79d2346d18>,\n",
       " <Element '{http://dlmf.nist.gov/LaTeXML}text' at 0x7f79d2346d68>,\n",
       " <Element '{http://dlmf.nist.gov/LaTeXML}text' at 0x7f79d2346db8>,\n",
       " <Element '{http://dlmf.nist.gov/LaTeXML}text' at 0x7f79d2346e08>,\n",
       " <Element '{http://dlmf.nist.gov/LaTeXML}text' at 0x7f79d234da98>,\n",
       " <Element '{http://dlmf.nist.gov/LaTeXML}text' at 0x7f79d2351638>,\n",
       " <Element '{http://dlmf.nist.gov/LaTeXML}text' at 0x7f79d22d96d8>,\n",
       " <Element '{http://dlmf.nist.gov/LaTeXML}text' at 0x7f79d22d9818>,\n",
       " <Element '{http://dlmf.nist.gov/LaTeXML}item' at 0x7f79d22d9868>,\n",
       " <Element '{http://dlmf.nist.gov/LaTeXML}tag' at 0x7f79d22d98b8>,\n",
       " <Element '{http://dlmf.nist.gov/LaTeXML}text' at 0x7f79d22d9908>,\n",
       " <Element '{http://dlmf.nist.gov/LaTeXML}para' at 0x7f79d22d99a8>,\n",
       " <Element '{http://dlmf.nist.gov/LaTeXML}p' at 0x7f79d22d99f8>,\n",
       " <Element '{http://dlmf.nist.gov/LaTeXML}text' at 0x7f79d22d9a48>,\n",
       " <Element '{http://dlmf.nist.gov/LaTeXML}text' at 0x7f79d22d9bd8>,\n",
       " <Element '{http://dlmf.nist.gov/LaTeXML}text' at 0x7f79d22d9c28>,\n",
       " <Element '{http://dlmf.nist.gov/LaTeXML}text' at 0x7f79d22d9c78>,\n",
       " <Element '{http://dlmf.nist.gov/LaTeXML}text' at 0x7f79d22d9d18>,\n",
       " <Element '{http://dlmf.nist.gov/LaTeXML}text' at 0x7f79d22dea48>,\n",
       " <Element '{http://dlmf.nist.gov/LaTeXML}text' at 0x7f79d22debd8>,\n",
       " <Element '{http://dlmf.nist.gov/LaTeXML}text' at 0x7f79d22ded68>,\n",
       " <Element '{http://dlmf.nist.gov/LaTeXML}text' at 0x7f79d22deef8>,\n",
       " <Element '{http://dlmf.nist.gov/LaTeXML}item' at 0x7f79d22def48>,\n",
       " <Element '{http://dlmf.nist.gov/LaTeXML}tag' at 0x7f79d22def98>,\n",
       " <Element '{http://dlmf.nist.gov/LaTeXML}text' at 0x7f79d22e3048>,\n",
       " <Element '{http://dlmf.nist.gov/LaTeXML}para' at 0x7f79d22e30e8>,\n",
       " <Element '{http://dlmf.nist.gov/LaTeXML}p' at 0x7f79d22e3138>,\n",
       " <Element '{http://dlmf.nist.gov/LaTeXML}text' at 0x7f79d22e3188>,\n",
       " <Element '{http://dlmf.nist.gov/LaTeXML}text' at 0x7f79d22e3318>,\n",
       " <Element '{http://dlmf.nist.gov/LaTeXML}text' at 0x7f79d22e35e8>,\n",
       " <Element '{http://dlmf.nist.gov/LaTeXML}text' at 0x7f79d22e3a48>,\n",
       " <Element '{http://dlmf.nist.gov/LaTeXML}text' at 0x7f79d22e3c28>,\n",
       " <Element '{http://dlmf.nist.gov/LaTeXML}text' at 0x7f79d22e8b38>,\n",
       " <Element '{http://dlmf.nist.gov/LaTeXML}text' at 0x7f79d22ea9f8>,\n",
       " <Element '{http://dlmf.nist.gov/LaTeXML}text' at 0x7f79d22eab88>,\n",
       " <Element '{http://dlmf.nist.gov/LaTeXML}text' at 0x7f79d22ead68>,\n",
       " <Element '{http://dlmf.nist.gov/LaTeXML}text' at 0x7f79d22f3778>,\n",
       " <Element '{http://dlmf.nist.gov/LaTeXML}text' at 0x7f79d22fc7c8>,\n",
       " <Element '{http://dlmf.nist.gov/LaTeXML}text' at 0x7f79d22ff9a8>]"
      ]
     },
     "execution_count": 218,
     "metadata": {},
     "output_type": "execute_result"
    }
   ],
   "source": [
    "recu2(dl[1])"
   ]
  },
  {
   "cell_type": "code",
   "execution_count": 220,
   "metadata": {},
   "outputs": [
    {
     "data": {
      "text/plain": [
       "True"
      ]
     },
     "execution_count": 220,
     "metadata": {},
     "output_type": "execute_result"
    }
   ],
   "source": [
    "dl[1].findall('.//') == recu2(dl[1])"
   ]
  },
  {
   "cell_type": "code",
   "execution_count": 153,
   "metadata": {},
   "outputs": [
    {
     "data": {
      "text/plain": [
       "[<Element {http://dlmf.nist.gov/LaTeXML}title at 0x7f79d2644c08>,\n",
       " <Element {http://dlmf.nist.gov/LaTeXML}tag at 0x7f79d27aa1c8>,\n",
       " <Element {http://dlmf.nist.gov/LaTeXML}para at 0x7f79d2631dc8>,\n",
       " <Element {http://dlmf.nist.gov/LaTeXML}itemize at 0x7f79d2631ec8>,\n",
       " <Element {http://dlmf.nist.gov/LaTeXML}item at 0x7f79d2631e88>,\n",
       " <Element {http://dlmf.nist.gov/LaTeXML}tag at 0x7f79d29fe1c8>,\n",
       " <Element {http://dlmf.nist.gov/LaTeXML}text at 0x7f79d29fe188>,\n",
       " <Element {http://dlmf.nist.gov/LaTeXML}para at 0x7f79d29fe208>,\n",
       " <Element {http://dlmf.nist.gov/LaTeXML}p at 0x7f79d29fe248>,\n",
       " <Element {http://dlmf.nist.gov/LaTeXML}text at 0x7f79d29fe148>,\n",
       " <Element {http://dlmf.nist.gov/LaTeXML}XMath at 0x7f79d29fe288>,\n",
       " <Element {http://dlmf.nist.gov/LaTeXML}XMApp at 0x7f79d29fe2c8>,\n",
       " <Element {http://dlmf.nist.gov/LaTeXML}XMTok at 0x7f79d29fe308>,\n",
       " <Element {http://dlmf.nist.gov/LaTeXML}XMTok at 0x7f79d29fe348>,\n",
       " <Element {http://dlmf.nist.gov/LaTeXML}XMTok at 0x7f79d29fe388>,\n",
       " <Element {http://dlmf.nist.gov/LaTeXML}text at 0x7f79d29fe3c8>,\n",
       " <Element {http://dlmf.nist.gov/LaTeXML}text at 0x7f79d29fe408>,\n",
       " <Element {http://dlmf.nist.gov/LaTeXML}text at 0x7f79d29fe448>,\n",
       " <Element {http://dlmf.nist.gov/LaTeXML}cite at 0x7f79d29fe488>,\n",
       " <Element {http://dlmf.nist.gov/LaTeXML}text at 0x7f79d29fe4c8>,\n",
       " <Element {http://dlmf.nist.gov/LaTeXML}bibref at 0x7f79d29fe508>,\n",
       " <Element {http://dlmf.nist.gov/LaTeXML}text at 0x7f79d29fe548>,\n",
       " <Element {http://dlmf.nist.gov/LaTeXML}text at 0x7f79d29fe588>,\n",
       " <Element {http://dlmf.nist.gov/LaTeXML}text at 0x7f79d29fe5c8>,\n",
       " <Element {http://dlmf.nist.gov/LaTeXML}text at 0x7f79d29fe608>,\n",
       " <Element {http://dlmf.nist.gov/LaTeXML}XMath at 0x7f79d29fe648>,\n",
       " <Element {http://dlmf.nist.gov/LaTeXML}XMDual at 0x7f79d29fe688>,\n",
       " <Element {http://dlmf.nist.gov/LaTeXML}XMApp at 0x7f79d29fe6c8>,\n",
       " <Element {http://dlmf.nist.gov/LaTeXML}XMTok at 0x7f79d29fe708>,\n",
       " <Element {http://dlmf.nist.gov/LaTeXML}XMRef at 0x7f79d29fe748>,\n",
       " <Element {http://dlmf.nist.gov/LaTeXML}XMRef at 0x7f79d29fe788>,\n",
       " <Element {http://dlmf.nist.gov/LaTeXML}XMWrap at 0x7f79d29fe7c8>,\n",
       " <Element {http://dlmf.nist.gov/LaTeXML}XMTok at 0x7f79d29fe808>,\n",
       " <Element {http://dlmf.nist.gov/LaTeXML}XMApp at 0x7f79d29fe848>,\n",
       " <Element {http://dlmf.nist.gov/LaTeXML}XMTok at 0x7f79d29fe888>,\n",
       " <Element {http://dlmf.nist.gov/LaTeXML}XMTok at 0x7f79d29fe8c8>,\n",
       " <Element {http://dlmf.nist.gov/LaTeXML}XMTok at 0x7f79d29fe908>,\n",
       " <Element {http://dlmf.nist.gov/LaTeXML}XMTok at 0x7f79d29fe948>,\n",
       " <Element {http://dlmf.nist.gov/LaTeXML}XMApp at 0x7f79d29fe988>,\n",
       " <Element {http://dlmf.nist.gov/LaTeXML}XMTok at 0x7f79d29fe9c8>,\n",
       " <Element {http://dlmf.nist.gov/LaTeXML}XMTok at 0x7f79d29fea08>,\n",
       " <Element {http://dlmf.nist.gov/LaTeXML}XMTok at 0x7f79d29fea48>,\n",
       " <Element {http://dlmf.nist.gov/LaTeXML}XMTok at 0x7f79d29fea88>,\n",
       " <Element {http://dlmf.nist.gov/LaTeXML}text at 0x7f79d29feac8>,\n",
       " <Element {http://dlmf.nist.gov/LaTeXML}XMath at 0x7f79d29feb08>,\n",
       " <Element {http://dlmf.nist.gov/LaTeXML}XMApp at 0x7f79d29feb48>,\n",
       " <Element {http://dlmf.nist.gov/LaTeXML}XMTok at 0x7f79d29feb88>,\n",
       " <Element {http://dlmf.nist.gov/LaTeXML}XMApp at 0x7f79d29febc8>,\n",
       " <Element {http://dlmf.nist.gov/LaTeXML}XMTok at 0x7f79d29fec08>,\n",
       " <Element {http://dlmf.nist.gov/LaTeXML}XMApp at 0x7f79d29fec48>,\n",
       " <Element {http://dlmf.nist.gov/LaTeXML}XMTok at 0x7f79d29fec88>,\n",
       " <Element {http://dlmf.nist.gov/LaTeXML}XMTok at 0x7f79d29fecc8>,\n",
       " <Element {http://dlmf.nist.gov/LaTeXML}XMTok at 0x7f79d29fed08>,\n",
       " <Element {http://dlmf.nist.gov/LaTeXML}XMApp at 0x7f79d29fed48>,\n",
       " <Element {http://dlmf.nist.gov/LaTeXML}XMTok at 0x7f79d29fed88>,\n",
       " <Element {http://dlmf.nist.gov/LaTeXML}XMTok at 0x7f79d29fedc8>,\n",
       " <Element {http://dlmf.nist.gov/LaTeXML}XMTok at 0x7f79d29fee08>,\n",
       " <Element {http://dlmf.nist.gov/LaTeXML}XMApp at 0x7f79d29fee48>,\n",
       " <Element {http://dlmf.nist.gov/LaTeXML}XMTok at 0x7f79d29fee88>,\n",
       " <Element {http://dlmf.nist.gov/LaTeXML}XMTok at 0x7f79d29feec8>,\n",
       " <Element {http://dlmf.nist.gov/LaTeXML}XMTok at 0x7f79d29fef08>,\n",
       " <Element {http://dlmf.nist.gov/LaTeXML}text at 0x7f79d29fef48>,\n",
       " <Element {http://dlmf.nist.gov/LaTeXML}XMath at 0x7f79d29fef88>,\n",
       " <Element {http://dlmf.nist.gov/LaTeXML}XMApp at 0x7f79d29fefc8>,\n",
       " <Element {http://dlmf.nist.gov/LaTeXML}XMTok at 0x7f79d3846048>,\n",
       " <Element {http://dlmf.nist.gov/LaTeXML}XMApp at 0x7f79d3846088>,\n",
       " <Element {http://dlmf.nist.gov/LaTeXML}XMTok at 0x7f79d38460c8>,\n",
       " <Element {http://dlmf.nist.gov/LaTeXML}XMApp at 0x7f79d3846108>,\n",
       " <Element {http://dlmf.nist.gov/LaTeXML}XMTok at 0x7f79d3846148>,\n",
       " <Element {http://dlmf.nist.gov/LaTeXML}XMTok at 0x7f79d3846188>,\n",
       " <Element {http://dlmf.nist.gov/LaTeXML}XMTok at 0x7f79d38461c8>,\n",
       " <Element {http://dlmf.nist.gov/LaTeXML}XMDual at 0x7f79d3846208>,\n",
       " <Element {http://dlmf.nist.gov/LaTeXML}XMApp at 0x7f79d3846248>,\n",
       " <Element {http://dlmf.nist.gov/LaTeXML}XMTok at 0x7f79d3846288>,\n",
       " <Element {http://dlmf.nist.gov/LaTeXML}XMRef at 0x7f79d38462c8>,\n",
       " <Element {http://dlmf.nist.gov/LaTeXML}XMRef at 0x7f79d3846308>,\n",
       " <Element {http://dlmf.nist.gov/LaTeXML}XMWrap at 0x7f79d3846348>,\n",
       " <Element {http://dlmf.nist.gov/LaTeXML}XMTok at 0x7f79d3846388>,\n",
       " <Element {http://dlmf.nist.gov/LaTeXML}XMApp at 0x7f79d38463c8>,\n",
       " <Element {http://dlmf.nist.gov/LaTeXML}XMTok at 0x7f79d3846408>,\n",
       " <Element {http://dlmf.nist.gov/LaTeXML}XMTok at 0x7f79d3846448>,\n",
       " <Element {http://dlmf.nist.gov/LaTeXML}XMTok at 0x7f79d3846488>,\n",
       " <Element {http://dlmf.nist.gov/LaTeXML}XMTok at 0x7f79d38464c8>,\n",
       " <Element {http://dlmf.nist.gov/LaTeXML}XMApp at 0x7f79d3846508>,\n",
       " <Element {http://dlmf.nist.gov/LaTeXML}XMTok at 0x7f79d3846548>,\n",
       " <Element {http://dlmf.nist.gov/LaTeXML}XMTok at 0x7f79d3846588>,\n",
       " <Element {http://dlmf.nist.gov/LaTeXML}XMTok at 0x7f79d38465c8>,\n",
       " <Element {http://dlmf.nist.gov/LaTeXML}XMTok at 0x7f79d3846608>,\n",
       " <Element {http://dlmf.nist.gov/LaTeXML}XMApp at 0x7f79d3846648>,\n",
       " <Element {http://dlmf.nist.gov/LaTeXML}XMTok at 0x7f79d3846688>,\n",
       " <Element {http://dlmf.nist.gov/LaTeXML}XMApp at 0x7f79d38466c8>,\n",
       " <Element {http://dlmf.nist.gov/LaTeXML}XMTok at 0x7f79d3846708>,\n",
       " <Element {http://dlmf.nist.gov/LaTeXML}XMTok at 0x7f79d3846748>,\n",
       " <Element {http://dlmf.nist.gov/LaTeXML}XMTok at 0x7f79d3846788>,\n",
       " <Element {http://dlmf.nist.gov/LaTeXML}XMDual at 0x7f79d38467c8>,\n",
       " <Element {http://dlmf.nist.gov/LaTeXML}XMApp at 0x7f79d3846808>,\n",
       " <Element {http://dlmf.nist.gov/LaTeXML}XMTok at 0x7f79d3846848>,\n",
       " <Element {http://dlmf.nist.gov/LaTeXML}XMRef at 0x7f79d3846888>,\n",
       " <Element {http://dlmf.nist.gov/LaTeXML}XMRef at 0x7f79d38468c8>,\n",
       " <Element {http://dlmf.nist.gov/LaTeXML}XMWrap at 0x7f79d3846908>,\n",
       " <Element {http://dlmf.nist.gov/LaTeXML}XMTok at 0x7f79d3846948>,\n",
       " <Element {http://dlmf.nist.gov/LaTeXML}XMTok at 0x7f79d3846988>,\n",
       " <Element {http://dlmf.nist.gov/LaTeXML}XMTok at 0x7f79d38469c8>,\n",
       " <Element {http://dlmf.nist.gov/LaTeXML}XMTok at 0x7f79d3846a08>,\n",
       " <Element {http://dlmf.nist.gov/LaTeXML}XMTok at 0x7f79d3846a48>,\n",
       " <Element {http://dlmf.nist.gov/LaTeXML}text at 0x7f79d3846a88>,\n",
       " <Element {http://dlmf.nist.gov/LaTeXML}XMath at 0x7f79d3846ac8>,\n",
       " <Element {http://dlmf.nist.gov/LaTeXML}XMTok at 0x7f79d3846b08>,\n",
       " <Element {http://dlmf.nist.gov/LaTeXML}text at 0x7f79d3846b48>,\n",
       " <Element {http://dlmf.nist.gov/LaTeXML}item at 0x7f79d3846b88>,\n",
       " <Element {http://dlmf.nist.gov/LaTeXML}tag at 0x7f79d3846bc8>,\n",
       " <Element {http://dlmf.nist.gov/LaTeXML}text at 0x7f79d3846c08>,\n",
       " <Element {http://dlmf.nist.gov/LaTeXML}para at 0x7f79d3846c48>,\n",
       " <Element {http://dlmf.nist.gov/LaTeXML}p at 0x7f79d3846c88>,\n",
       " <Element {http://dlmf.nist.gov/LaTeXML}text at 0x7f79d3846cc8>,\n",
       " <Element {http://dlmf.nist.gov/LaTeXML}XMath at 0x7f79d3846d08>,\n",
       " <Element {http://dlmf.nist.gov/LaTeXML}XMTok at 0x7f79d3846d48>,\n",
       " <Element {http://dlmf.nist.gov/LaTeXML}text at 0x7f79d3846d88>,\n",
       " <Element {http://dlmf.nist.gov/LaTeXML}text at 0x7f79d3846dc8>,\n",
       " <Element {http://dlmf.nist.gov/LaTeXML}text at 0x7f79d3846e08>,\n",
       " <Element {http://dlmf.nist.gov/LaTeXML}text at 0x7f79d3846e48>,\n",
       " <Element {http://dlmf.nist.gov/LaTeXML}XMath at 0x7f79d3846e88>,\n",
       " <Element {http://dlmf.nist.gov/LaTeXML}XMApp at 0x7f79d3846ec8>,\n",
       " <Element {http://dlmf.nist.gov/LaTeXML}XMTok at 0x7f79d3846f08>,\n",
       " <Element {http://dlmf.nist.gov/LaTeXML}XMDual at 0x7f79d3846f48>,\n",
       " <Element {http://dlmf.nist.gov/LaTeXML}XMApp at 0x7f79d3846f88>,\n",
       " <Element {http://dlmf.nist.gov/LaTeXML}XMRef at 0x7f79d3846fc8>,\n",
       " <Element {http://dlmf.nist.gov/LaTeXML}XMRef at 0x7f79d29fa048>,\n",
       " <Element {http://dlmf.nist.gov/LaTeXML}XMRef at 0x7f79d29fa088>,\n",
       " <Element {http://dlmf.nist.gov/LaTeXML}XMRef at 0x7f79d29fa0c8>,\n",
       " <Element {http://dlmf.nist.gov/LaTeXML}XMApp at 0x7f79d29fa108>,\n",
       " <Element {http://dlmf.nist.gov/LaTeXML}XMTok at 0x7f79d29fa148>,\n",
       " <Element {http://dlmf.nist.gov/LaTeXML}XMWrap at 0x7f79d29fa188>,\n",
       " <Element {http://dlmf.nist.gov/LaTeXML}XMTok at 0x7f79d29fa1c8>,\n",
       " <Element {http://dlmf.nist.gov/LaTeXML}XMTok at 0x7f79d29fa208>,\n",
       " <Element {http://dlmf.nist.gov/LaTeXML}XMTok at 0x7f79d29fa248>,\n",
       " <Element {http://dlmf.nist.gov/LaTeXML}XMTok at 0x7f79d29fa288>,\n",
       " <Element {http://dlmf.nist.gov/LaTeXML}XMTok at 0x7f79d29fa2c8>,\n",
       " <Element {http://dlmf.nist.gov/LaTeXML}XMTok at 0x7f79d29fa308>,\n",
       " <Element {http://dlmf.nist.gov/LaTeXML}XMTok at 0x7f79d29fa348>,\n",
       " <Element {http://dlmf.nist.gov/LaTeXML}XMTok at 0x7f79d29fa388>,\n",
       " <Element {http://dlmf.nist.gov/LaTeXML}text at 0x7f79d29fa3c8>,\n",
       " <Element {http://dlmf.nist.gov/LaTeXML}XMath at 0x7f79d29fa408>,\n",
       " <Element {http://dlmf.nist.gov/LaTeXML}XMTok at 0x7f79d29fa448>,\n",
       " <Element {http://dlmf.nist.gov/LaTeXML}text at 0x7f79d29fa488>,\n",
       " <Element {http://dlmf.nist.gov/LaTeXML}XMath at 0x7f79d29fa4c8>,\n",
       " <Element {http://dlmf.nist.gov/LaTeXML}XMTok at 0x7f79d29fa508>,\n",
       " <Element {http://dlmf.nist.gov/LaTeXML}text at 0x7f79d29fa548>,\n",
       " <Element {http://dlmf.nist.gov/LaTeXML}XMath at 0x7f79d29fa588>,\n",
       " <Element {http://dlmf.nist.gov/LaTeXML}XMTok at 0x7f79d29fa5c8>,\n",
       " <Element {http://dlmf.nist.gov/LaTeXML}text at 0x7f79d29fa608>,\n",
       " <Element {http://dlmf.nist.gov/LaTeXML}item at 0x7f79d29fa648>,\n",
       " <Element {http://dlmf.nist.gov/LaTeXML}tag at 0x7f79d29fa688>,\n",
       " <Element {http://dlmf.nist.gov/LaTeXML}text at 0x7f79d29fa6c8>,\n",
       " <Element {http://dlmf.nist.gov/LaTeXML}para at 0x7f79d29fa708>,\n",
       " <Element {http://dlmf.nist.gov/LaTeXML}p at 0x7f79d29fa748>,\n",
       " <Element {http://dlmf.nist.gov/LaTeXML}text at 0x7f79d29fa788>,\n",
       " <Element {http://dlmf.nist.gov/LaTeXML}XMath at 0x7f79d29fa7c8>,\n",
       " <Element {http://dlmf.nist.gov/LaTeXML}XMTok at 0x7f79d29fa808>,\n",
       " <Element {http://dlmf.nist.gov/LaTeXML}text at 0x7f79d29fa848>,\n",
       " <Element {http://dlmf.nist.gov/LaTeXML}XMath at 0x7f79d29fa888>,\n",
       " <Element {http://dlmf.nist.gov/LaTeXML}XMApp at 0x7f79d29fa8c8>,\n",
       " <Element {http://dlmf.nist.gov/LaTeXML}XMTok at 0x7f79d29fa908>,\n",
       " <Element {http://dlmf.nist.gov/LaTeXML}XMTok at 0x7f79d29fa948>,\n",
       " <Element {http://dlmf.nist.gov/LaTeXML}XMTok at 0x7f79d29fa988>,\n",
       " <Element {http://dlmf.nist.gov/LaTeXML}text at 0x7f79d29fa9c8>,\n",
       " <Element {http://dlmf.nist.gov/LaTeXML}XMath at 0x7f79d29faa08>,\n",
       " <Element {http://dlmf.nist.gov/LaTeXML}XMApp at 0x7f79d29faa48>,\n",
       " <Element {http://dlmf.nist.gov/LaTeXML}XMTok at 0x7f79d29faa88>,\n",
       " <Element {http://dlmf.nist.gov/LaTeXML}XMApp at 0x7f79d29faac8>,\n",
       " <Element {http://dlmf.nist.gov/LaTeXML}XMTok at 0x7f79d29fab08>,\n",
       " <Element {http://dlmf.nist.gov/LaTeXML}XMTok at 0x7f79d29fab48>,\n",
       " <Element {http://dlmf.nist.gov/LaTeXML}XMTok at 0x7f79d29fab88>,\n",
       " <Element {http://dlmf.nist.gov/LaTeXML}XMTok at 0x7f79d29fabc8>,\n",
       " <Element {http://dlmf.nist.gov/LaTeXML}text at 0x7f79d29fac08>,\n",
       " <Element {http://dlmf.nist.gov/LaTeXML}XMath at 0x7f79d29fac48>,\n",
       " <Element {http://dlmf.nist.gov/LaTeXML}XMTok at 0x7f79d29fac88>,\n",
       " <Element {http://dlmf.nist.gov/LaTeXML}text at 0x7f79d29facc8>,\n",
       " <Element {http://dlmf.nist.gov/LaTeXML}XMath at 0x7f79d29fad08>,\n",
       " <Element {http://dlmf.nist.gov/LaTeXML}XMDual at 0x7f79d29fad48>,\n",
       " <Element {http://dlmf.nist.gov/LaTeXML}XMApp at 0x7f79d29fad88>,\n",
       " <Element {http://dlmf.nist.gov/LaTeXML}XMTok at 0x7f79d29fadc8>,\n",
       " <Element {http://dlmf.nist.gov/LaTeXML}XMRef at 0x7f79d29fae08>,\n",
       " <Element {http://dlmf.nist.gov/LaTeXML}XMRef at 0x7f79d29fae48>,\n",
       " <Element {http://dlmf.nist.gov/LaTeXML}XMWrap at 0x7f79d29fae88>,\n",
       " <Element {http://dlmf.nist.gov/LaTeXML}XMTok at 0x7f79d29faec8>,\n",
       " <Element {http://dlmf.nist.gov/LaTeXML}XMApp at 0x7f79d29faf08>,\n",
       " <Element {http://dlmf.nist.gov/LaTeXML}XMTok at 0x7f79d29faf48>,\n",
       " <Element {http://dlmf.nist.gov/LaTeXML}XMTok at 0x7f79d29faf88>,\n",
       " <Element {http://dlmf.nist.gov/LaTeXML}XMTok at 0x7f79d29fafc8>,\n",
       " <Element {http://dlmf.nist.gov/LaTeXML}XMTok at 0x7f79d29ef048>,\n",
       " <Element {http://dlmf.nist.gov/LaTeXML}XMApp at 0x7f79d29ef088>,\n",
       " <Element {http://dlmf.nist.gov/LaTeXML}XMTok at 0x7f79d29ef0c8>,\n",
       " <Element {http://dlmf.nist.gov/LaTeXML}XMTok at 0x7f79d29ef108>,\n",
       " <Element {http://dlmf.nist.gov/LaTeXML}XMApp at 0x7f79d29ef148>,\n",
       " <Element {http://dlmf.nist.gov/LaTeXML}XMTok at 0x7f79d29ef188>,\n",
       " <Element {http://dlmf.nist.gov/LaTeXML}XMTok at 0x7f79d29ef1c8>,\n",
       " <Element {http://dlmf.nist.gov/LaTeXML}XMTok at 0x7f79d29ef208>,\n",
       " <Element {http://dlmf.nist.gov/LaTeXML}XMTok at 0x7f79d29ef248>,\n",
       " <Element {http://dlmf.nist.gov/LaTeXML}text at 0x7f79d29ef288>,\n",
       " <Element {http://dlmf.nist.gov/LaTeXML}XMath at 0x7f79d29ef2c8>,\n",
       " <Element {http://dlmf.nist.gov/LaTeXML}XMDual at 0x7f79d29ef308>,\n",
       " <Element {http://dlmf.nist.gov/LaTeXML}XMApp at 0x7f79d29ef348>,\n",
       " <Element {http://dlmf.nist.gov/LaTeXML}XMTok at 0x7f79d29ef388>,\n",
       " <Element {http://dlmf.nist.gov/LaTeXML}XMRef at 0x7f79d29ef3c8>,\n",
       " <Element {http://dlmf.nist.gov/LaTeXML}XMRef at 0x7f79d29ef408>,\n",
       " <Element {http://dlmf.nist.gov/LaTeXML}XMWrap at 0x7f79d29ef448>,\n",
       " <Element {http://dlmf.nist.gov/LaTeXML}XMTok at 0x7f79d29ef488>,\n",
       " <Element {http://dlmf.nist.gov/LaTeXML}XMApp at 0x7f79d29ef4c8>,\n",
       " <Element {http://dlmf.nist.gov/LaTeXML}XMTok at 0x7f79d29ef508>,\n",
       " <Element {http://dlmf.nist.gov/LaTeXML}XMTok at 0x7f79d29ef548>,\n",
       " <Element {http://dlmf.nist.gov/LaTeXML}XMTok at 0x7f79d29ef588>,\n",
       " <Element {http://dlmf.nist.gov/LaTeXML}XMTok at 0x7f79d29ef5c8>,\n",
       " <Element {http://dlmf.nist.gov/LaTeXML}XMApp at 0x7f79d29ef608>,\n",
       " <Element {http://dlmf.nist.gov/LaTeXML}XMTok at 0x7f79d29ef648>,\n",
       " <Element {http://dlmf.nist.gov/LaTeXML}XMTok at 0x7f79d29ef688>,\n",
       " <Element {http://dlmf.nist.gov/LaTeXML}XMApp at 0x7f79d29ef6c8>,\n",
       " <Element {http://dlmf.nist.gov/LaTeXML}XMTok at 0x7f79d29ef708>,\n",
       " <Element {http://dlmf.nist.gov/LaTeXML}XMTok at 0x7f79d29ef748>,\n",
       " <Element {http://dlmf.nist.gov/LaTeXML}XMTok at 0x7f79d29ef788>,\n",
       " <Element {http://dlmf.nist.gov/LaTeXML}XMTok at 0x7f79d29ef7c8>,\n",
       " <Element {http://dlmf.nist.gov/LaTeXML}text at 0x7f79d29ef808>,\n",
       " <Element {http://dlmf.nist.gov/LaTeXML}XMath at 0x7f79d29ef848>,\n",
       " <Element {http://dlmf.nist.gov/LaTeXML}XMTok at 0x7f79d29ef888>,\n",
       " <Element {http://dlmf.nist.gov/LaTeXML}text at 0x7f79d29ef8c8>,\n",
       " <Element {http://dlmf.nist.gov/LaTeXML}XMath at 0x7f79d29ef908>,\n",
       " <Element {http://dlmf.nist.gov/LaTeXML}XMTok at 0x7f79d29ef948>,\n",
       " <Element {http://dlmf.nist.gov/LaTeXML}text at 0x7f79d29ef988>,\n",
       " <Element {http://dlmf.nist.gov/LaTeXML}XMath at 0x7f79d29ef9c8>,\n",
       " <Element {http://dlmf.nist.gov/LaTeXML}XMApp at 0x7f79d29efa08>,\n",
       " <Element {http://dlmf.nist.gov/LaTeXML}XMTok at 0x7f79d29efa48>,\n",
       " <Element {http://dlmf.nist.gov/LaTeXML}XMDual at 0x7f79d29efa88>,\n",
       " <Element {http://dlmf.nist.gov/LaTeXML}XMApp at 0x7f79d29efac8>,\n",
       " <Element {http://dlmf.nist.gov/LaTeXML}XMTok at 0x7f79d29efb08>,\n",
       " <Element {http://dlmf.nist.gov/LaTeXML}XMRef at 0x7f79d29efb48>,\n",
       " <Element {http://dlmf.nist.gov/LaTeXML}XMRef at 0x7f79d29efb88>,\n",
       " <Element {http://dlmf.nist.gov/LaTeXML}XMWrap at 0x7f79d29efbc8>,\n",
       " <Element {http://dlmf.nist.gov/LaTeXML}XMTok at 0x7f79d29efc08>,\n",
       " <Element {http://dlmf.nist.gov/LaTeXML}XMTok at 0x7f79d29efc48>,\n",
       " <Element {http://dlmf.nist.gov/LaTeXML}XMApp at 0x7f79d29efc88>,\n",
       " <Element {http://dlmf.nist.gov/LaTeXML}XMTok at 0x7f79d29efcc8>,\n",
       " <Element {http://dlmf.nist.gov/LaTeXML}XMTok at 0x7f79d29efd08>,\n",
       " <Element {http://dlmf.nist.gov/LaTeXML}XMTok at 0x7f79d29efd48>,\n",
       " <Element {http://dlmf.nist.gov/LaTeXML}XMDual at 0x7f79d29efd88>,\n",
       " <Element {http://dlmf.nist.gov/LaTeXML}XMApp at 0x7f79d29efdc8>,\n",
       " <Element {http://dlmf.nist.gov/LaTeXML}XMTok at 0x7f79d29efe08>,\n",
       " <Element {http://dlmf.nist.gov/LaTeXML}XMRef at 0x7f79d29efe48>,\n",
       " <Element {http://dlmf.nist.gov/LaTeXML}XMRef at 0x7f79d29efe88>,\n",
       " <Element {http://dlmf.nist.gov/LaTeXML}XMWrap at 0x7f79d29efec8>,\n",
       " <Element {http://dlmf.nist.gov/LaTeXML}XMTok at 0x7f79d29eff08>,\n",
       " <Element {http://dlmf.nist.gov/LaTeXML}XMApp at 0x7f79d29eff48>,\n",
       " <Element {http://dlmf.nist.gov/LaTeXML}XMTok at 0x7f79d29eff88>,\n",
       " <Element {http://dlmf.nist.gov/LaTeXML}XMTok at 0x7f79d29effc8>,\n",
       " <Element {http://dlmf.nist.gov/LaTeXML}XMTok at 0x7f79d29f1048>,\n",
       " <Element {http://dlmf.nist.gov/LaTeXML}XMTok at 0x7f79d29f1088>,\n",
       " <Element {http://dlmf.nist.gov/LaTeXML}XMApp at 0x7f79d29f10c8>,\n",
       " <Element {http://dlmf.nist.gov/LaTeXML}XMTok at 0x7f79d29f1108>,\n",
       " <Element {http://dlmf.nist.gov/LaTeXML}XMTok at 0x7f79d29f1148>,\n",
       " <Element {http://dlmf.nist.gov/LaTeXML}XMApp at 0x7f79d29f1188>,\n",
       " <Element {http://dlmf.nist.gov/LaTeXML}XMTok at 0x7f79d29f11c8>,\n",
       " <Element {http://dlmf.nist.gov/LaTeXML}XMTok at 0x7f79d29f1208>,\n",
       " <Element {http://dlmf.nist.gov/LaTeXML}XMTok at 0x7f79d29f1248>,\n",
       " <Element {http://dlmf.nist.gov/LaTeXML}XMTok at 0x7f79d29f1288>,\n",
       " <Element {http://dlmf.nist.gov/LaTeXML}text at 0x7f79d29f12c8>,\n",
       " <Element {http://dlmf.nist.gov/LaTeXML}XMath at 0x7f79d29f1308>,\n",
       " <Element {http://dlmf.nist.gov/LaTeXML}XMApp at 0x7f79d29f1348>,\n",
       " <Element {http://dlmf.nist.gov/LaTeXML}XMTok at 0x7f79d29f1388>,\n",
       " <Element {http://dlmf.nist.gov/LaTeXML}XMApp at 0x7f79d29f13c8>,\n",
       " <Element {http://dlmf.nist.gov/LaTeXML}XMTok at 0x7f79d29f1408>,\n",
       " <Element {http://dlmf.nist.gov/LaTeXML}XMTok at 0x7f79d29f1448>,\n",
       " <Element {http://dlmf.nist.gov/LaTeXML}XMDual at 0x7f79d29f1488>,\n",
       " <Element {http://dlmf.nist.gov/LaTeXML}XMApp at 0x7f79d29f14c8>,\n",
       " <Element {http://dlmf.nist.gov/LaTeXML}XMTok at 0x7f79d29f1508>,\n",
       " <Element {http://dlmf.nist.gov/LaTeXML}XMRef at 0x7f79d29f1548>,\n",
       " <Element {http://dlmf.nist.gov/LaTeXML}XMRef at 0x7f79d29f1588>,\n",
       " <Element {http://dlmf.nist.gov/LaTeXML}XMRef at 0x7f79d29f15c8>,\n",
       " <Element {http://dlmf.nist.gov/LaTeXML}XMRef at 0x7f79d29f1608>,\n",
       " <Element {http://dlmf.nist.gov/LaTeXML}XMWrap at 0x7f79d29f1648>,\n",
       " <Element {http://dlmf.nist.gov/LaTeXML}XMTok at 0x7f79d29f1688>,\n",
       " <Element {http://dlmf.nist.gov/LaTeXML}XMTok at 0x7f79d29f16c8>,\n",
       " <Element {http://dlmf.nist.gov/LaTeXML}XMTok at 0x7f79d29f1708>,\n",
       " <Element {http://dlmf.nist.gov/LaTeXML}XMTok at 0x7f79d29f1748>,\n",
       " <Element {http://dlmf.nist.gov/LaTeXML}XMTok at 0x7f79d29f1788>,\n",
       " <Element {http://dlmf.nist.gov/LaTeXML}XMTok at 0x7f79d29f17c8>,\n",
       " <Element {http://dlmf.nist.gov/LaTeXML}XMTok at 0x7f79d29f1808>,\n",
       " <Element {http://dlmf.nist.gov/LaTeXML}XMTok at 0x7f79d29f1848>,\n",
       " <Element {http://dlmf.nist.gov/LaTeXML}XMTok at 0x7f79d29f1888>,\n",
       " <Element {http://dlmf.nist.gov/LaTeXML}XMApp at 0x7f79d29f18c8>,\n",
       " <Element {http://dlmf.nist.gov/LaTeXML}XMTok at 0x7f79d29f1908>,\n",
       " <Element {http://dlmf.nist.gov/LaTeXML}XMTok at 0x7f79d29f1948>,\n",
       " <Element {http://dlmf.nist.gov/LaTeXML}XMDual at 0x7f79d29f1988>,\n",
       " <Element {http://dlmf.nist.gov/LaTeXML}XMApp at 0x7f79d29f19c8>,\n",
       " <Element {http://dlmf.nist.gov/LaTeXML}XMTok at 0x7f79d29f1a08>,\n",
       " <Element {http://dlmf.nist.gov/LaTeXML}XMRef at 0x7f79d29f1a48>,\n",
       " <Element {http://dlmf.nist.gov/LaTeXML}XMRef at 0x7f79d29f1a88>,\n",
       " <Element {http://dlmf.nist.gov/LaTeXML}XMRef at 0x7f79d29f1ac8>,\n",
       " <Element {http://dlmf.nist.gov/LaTeXML}XMRef at 0x7f79d29f1b08>,\n",
       " <Element {http://dlmf.nist.gov/LaTeXML}XMWrap at 0x7f79d29f1b48>,\n",
       " <Element {http://dlmf.nist.gov/LaTeXML}XMTok at 0x7f79d29f1b88>,\n",
       " <Element {http://dlmf.nist.gov/LaTeXML}XMApp at 0x7f79d29f1bc8>,\n",
       " <Element {http://dlmf.nist.gov/LaTeXML}XMTok at 0x7f79d29f1c08>,\n",
       " <Element {http://dlmf.nist.gov/LaTeXML}XMTok at 0x7f79d29f1c48>,\n",
       " <Element {http://dlmf.nist.gov/LaTeXML}XMTok at 0x7f79d29f1c88>,\n",
       " <Element {http://dlmf.nist.gov/LaTeXML}XMTok at 0x7f79d29f1cc8>,\n",
       " <Element {http://dlmf.nist.gov/LaTeXML}XMTok at 0x7f79d29f1d08>,\n",
       " <Element {http://dlmf.nist.gov/LaTeXML}XMTok at 0x7f79d29f1d48>,\n",
       " <Element {http://dlmf.nist.gov/LaTeXML}XMTok at 0x7f79d29f1d88>,\n",
       " <Element {http://dlmf.nist.gov/LaTeXML}XMTok at 0x7f79d29f1dc8>,\n",
       " <Element {http://dlmf.nist.gov/LaTeXML}XMTok at 0x7f79d29f1e08>,\n",
       " <Element {http://dlmf.nist.gov/LaTeXML}XMTok at 0x7f79d29f1e48>,\n",
       " <Element {http://dlmf.nist.gov/LaTeXML}text at 0x7f79d29f1e88>,\n",
       " <Element {http://dlmf.nist.gov/LaTeXML}XMath at 0x7f79d29f1ec8>,\n",
       " <Element {http://dlmf.nist.gov/LaTeXML}XMApp at 0x7f79d29f1f08>,\n",
       " <Element {http://dlmf.nist.gov/LaTeXML}XMTok at 0x7f79d29f1f48>,\n",
       " <Element {http://dlmf.nist.gov/LaTeXML}XMApp at 0x7f79d29f1f88>,\n",
       " <Element {http://dlmf.nist.gov/LaTeXML}XMTok at 0x7f79d29f1fc8>,\n",
       " <Element {http://dlmf.nist.gov/LaTeXML}XMTok at 0x7f79d29e6048>,\n",
       " <Element {http://dlmf.nist.gov/LaTeXML}XMTok at 0x7f79d29e6088>,\n",
       " <Element {http://dlmf.nist.gov/LaTeXML}XMApp at 0x7f79d29e60c8>,\n",
       " <Element {http://dlmf.nist.gov/LaTeXML}XMTok at 0x7f79d29e6108>,\n",
       " <Element {http://dlmf.nist.gov/LaTeXML}XMApp at 0x7f79d29e6148>,\n",
       " <Element {http://dlmf.nist.gov/LaTeXML}XMTok at 0x7f79d29e6188>,\n",
       " <Element {http://dlmf.nist.gov/LaTeXML}XMTok at 0x7f79d29e61c8>,\n",
       " <Element {http://dlmf.nist.gov/LaTeXML}XMTok at 0x7f79d29e6208>,\n",
       " <Element {http://dlmf.nist.gov/LaTeXML}XMDual at 0x7f79d29e6248>,\n",
       " <Element {http://dlmf.nist.gov/LaTeXML}XMApp at 0x7f79d29e6288>,\n",
       " <Element {http://dlmf.nist.gov/LaTeXML}XMTok at 0x7f79d29e62c8>,\n",
       " <Element {http://dlmf.nist.gov/LaTeXML}XMRef at 0x7f79d29e6308>,\n",
       " <Element {http://dlmf.nist.gov/LaTeXML}XMRef at 0x7f79d29e6348>,\n",
       " <Element {http://dlmf.nist.gov/LaTeXML}XMRef at 0x7f79d29e6388>,\n",
       " <Element {http://dlmf.nist.gov/LaTeXML}XMWrap at 0x7f79d29e63c8>,\n",
       " <Element {http://dlmf.nist.gov/LaTeXML}XMTok at 0x7f79d29e6408>,\n",
       " <Element {http://dlmf.nist.gov/LaTeXML}XMTok at 0x7f79d29e6448>,\n",
       " <Element {http://dlmf.nist.gov/LaTeXML}XMTok at 0x7f79d29e6488>,\n",
       " <Element {http://dlmf.nist.gov/LaTeXML}XMTok at 0x7f79d29e64c8>,\n",
       " <Element {http://dlmf.nist.gov/LaTeXML}XMTok at 0x7f79d29e6508>,\n",
       " <Element {http://dlmf.nist.gov/LaTeXML}XMTok at 0x7f79d29e6548>,\n",
       " <Element {http://dlmf.nist.gov/LaTeXML}XMTok at 0x7f79d29e6588>,\n",
       " <Element {http://dlmf.nist.gov/LaTeXML}text at 0x7f79d29e65c8>]"
      ]
     },
     "execution_count": 153,
     "metadata": {},
     "output_type": "execute_result"
    }
   ],
   "source": [
    "from lxml import etree\n",
    "root = etree.parse('../2004_ends_with_3/math.0407523/math.0407523.xml')\n",
    "dd = root.findall('.//latexml:theorem[@class=\"ltx_theorem_definition\"]', ns)[1]\n",
    "dd.xpath('.//*[not(self::latexml:Math)]', namespaces=ns)"
   ]
  },
  {
   "cell_type": "code",
   "execution_count": 20,
   "metadata": {},
   "outputs": [
    {
     "data": {
      "text/plain": [
       "True"
      ]
     },
     "execution_count": 20,
     "metadata": {},
     "output_type": "execute_result"
    }
   ],
   "source": [
    "Y = px.DefinitionsXML('../2004_ends_with_3/math.0412433/math.0412433.xml')\n",
    "Y.get_def_text()\n",
    "TT = nltk.tokenize.TweetTokenizer()\n",
    "ss.issubset(set(Y.get_def_text()[0].split()))"
   ]
  },
  {
   "cell_type": "code",
   "execution_count": 19,
   "metadata": {},
   "outputs": [],
   "source": [
    "ss = {'.',\n",
    " ';',\n",
    " 'Kirwan',\n",
    " 'Let',\n",
    " 'We',\n",
    " 'be',\n",
    " 'codimension',\n",
    " 'components',\n",
    " 'divisorial',\n",
    " 'having',\n",
    " 'if',\n",
    " 'in',\n",
    " 'irreducible',\n",
    " 'is',\n",
    " 'locus',\n",
    " 'mild',\n",
    " 'of',\n",
    " 'one',\n",
    " 'other',\n",
    " 'part',\n",
    " 'resolution',\n",
    " 'say',\n",
    " 'shall',\n",
    " 'that',\n",
    " 'the',\n",
    " 'union',\n",
    " 'unstable',\n",
    " 'words,'}"
   ]
  },
  {
   "cell_type": "code",
   "execution_count": 272,
   "metadata": {},
   "outputs": [],
   "source": [
    "# CASE STUDY 1\n",
    "import parsing_xml as px\n",
    "ns = {'latexml': 'http://dlmf.nist.gov/LaTeXML' }\n",
    "X = px.DefinitionsXML('tests/latexmled_files/math.0402243.xml')\n",
    "dl = X.find_definitions()"
   ]
  },
  {
   "cell_type": "code",
   "execution_count": 273,
   "metadata": {},
   "outputs": [
    {
     "data": {
      "text/plain": [
       "'                '"
      ]
     },
     "execution_count": 273,
     "metadata": {},
     "output_type": "execute_result"
    }
   ],
   "source": [
    "px.text1(X.para_p(dl[3]))"
   ]
  },
  {
   "cell_type": "code",
   "execution_count": 274,
   "metadata": {},
   "outputs": [
    {
     "data": {
      "text/plain": [
       "'une orbifolde pure  de dimension complexe  est dite de calabi-yau (resp. hyperkälérienne) si elle est compacte, simplement connexe au sens orbifolde, et si elle admet une métrique kählérienne ricci plate dont la restriction à sa partie lisse est d’holonomie irréductible égale à  (resp. ). '"
      ]
     },
     "execution_count": 274,
     "metadata": {},
     "output_type": "execute_result"
    }
   ],
   "source": [
    "px.recutext1(X.para_p(dl[3]))"
   ]
  },
  {
   "cell_type": "code",
   "execution_count": 280,
   "metadata": {},
   "outputs": [
    {
     "data": {
      "text/plain": [
       "['let               be the divisorial part of the unstable locus of              ; in other words,               is the union of the irreducible components of               having codimension one in              . we shall say that the kirwan resolution               is mild if              .']"
      ]
     },
     "execution_count": 280,
     "metadata": {},
     "output_type": "execute_result"
    }
   ],
   "source": [
    "# CASE STUDY 2\n",
    "import parsing_xml as px\n",
    "ns = {'latexml': 'http://dlmf.nist.gov/LaTeXML' }\n",
    "X = px.DefinitionsXML('tests/latexmled_files/math.0412433.xml')\n",
    "dl = X.find_definitions()\n",
    "X.get_def_text()"
   ]
  },
  {
   "cell_type": "code",
   "execution_count": 281,
   "metadata": {},
   "outputs": [
    {
     "data": {
      "text/plain": [
       "'       definition 1.              let         be the divisorial part of the unstable locus of ; in other words,  is the union of the irreducible components of  having codimension one in . we shall say that the kirwan resolution  is mild if .'"
      ]
     },
     "execution_count": 281,
     "metadata": {},
     "output_type": "execute_result"
    }
   ],
   "source": [
    "px.recutext1(dl[0])"
   ]
  },
  {
   "cell_type": "code",
   "execution_count": null,
   "metadata": {},
   "outputs": [],
   "source": []
  }
 ],
 "metadata": {
  "kernelspec": {
   "display_name": "Python 3",
   "language": "python",
   "name": "python3"
  },
  "language_info": {
   "codemirror_mode": {
    "name": "ipython",
    "version": 3
   },
   "file_extension": ".py",
   "mimetype": "text/x-python",
   "name": "python",
   "nbconvert_exporter": "python",
   "pygments_lexer": "ipython3",
   "version": "3.7.0"
  }
 },
 "nbformat": 4,
 "nbformat_minor": 2
}
