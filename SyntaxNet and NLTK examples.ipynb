{
 "cells": [
  {
   "cell_type": "code",
   "execution_count": 7,
   "metadata": {},
   "outputs": [],
   "source": [
    "#USING THIS TUTORIAL\n",
    "#  https://github.com/krikit/syntaxnet/blob/master/syntaxnet.ipynb\n",
    "import nltk\n",
    "from IPython.display import Image, display\n",
    "from nltk import Tree\n",
    "from nltk.draw.util import CanvasFrame\n",
    "from nltk.draw import TreeWidget"
   ]
  },
  {
   "cell_type": "code",
   "execution_count": 8,
   "metadata": {},
   "outputs": [],
   "source": [
    "import os\n",
    "from nltk.parse import stanford"
   ]
  },
  {
   "cell_type": "code",
   "execution_count": 9,
   "metadata": {},
   "outputs": [],
   "source": [
    "with open('data/out_defs.txt','r') as f1:\n",
    "    all_data_texts = f1.readlines()"
   ]
  },
  {
   "cell_type": "code",
   "execution_count": 31,
   "metadata": {},
   "outputs": [
    {
     "name": "stdout",
     "output_type": "stream",
     "text": [
      "========== SENTENCES ==========\n",
      "       a coherent system  is injective if the evaluation morphism  is injective as a morphism of sheaves.\n",
      "moreover  is torsion-free if it is injective and the quotient sheaf  is torsion-free.\n",
      "========== TOKENIZED ==========\n",
      "a coherent system is injective if the evaluation morphism is injective as a morphism of sheaves .\n",
      "moreover is torsion-free if it is injective and the quotient sheaf is torsion-free .\n"
     ]
    }
   ],
   "source": [
    "raw = all_data_texts[65]\n",
    "sent_detector = nltk.data.load('tokenizers/punkt/english.pickle')\n",
    "sents = sent_detector.tokenize(raw)\n",
    "\n",
    "print('========== SENTENCES ==========')\n",
    "print('\\n'.join(sents))\n",
    "\n",
    "print('========== TOKENIZED ==========')\n",
    "tokenized_sents = []\n",
    "for sent in sents:\n",
    "    words = nltk.word_tokenize(sent)\n",
    "    tokenized_sents.append(words)\n",
    "    print(' '.join(words))"
   ]
  },
  {
   "cell_type": "code",
   "execution_count": 32,
   "metadata": {},
   "outputs": [
    {
     "name": "stdout",
     "output_type": "stream",
     "text": [
      "a/DT coherent/NN system/NN is/VBZ injective/JJ if/IN the/DT evaluation/NN morphism/NN is/VBZ injective/JJ as/IN a/DT morphism/NN of/IN sheaves/NNS ./.\n",
      "moreover/NN is/VBZ torsion-free/JJ if/IN it/PRP is/VBZ injective/JJ and/CC the/DT quotient/NN sheaf/NN is/VBZ torsion-free/JJ ./.\n"
     ]
    }
   ],
   "source": [
    "tagged_sents = []\n",
    "for tokens in tokenized_sents:\n",
    "    tagged_pairs = nltk.pos_tag(tokens)\n",
    "    tagged_sents.append(tagged_pairs)\n",
    "    print(' '.join(['%s/%s' % (word, tag) for word, tag in tagged_pairs]))\n"
   ]
  },
  {
   "cell_type": "code",
   "execution_count": 33,
   "metadata": {},
   "outputs": [
    {
     "name": "stderr",
     "output_type": "stream",
     "text": [
      "/usr/lib/python3.7/site-packages/ipykernel_launcher.py:6: DeprecationWarning: The StanfordParser will be deprecated\n",
      "Please use \u001b[91mnltk.parse.corenlp.StanforCoreNLPParser\u001b[0m instead.\n",
      "  \n"
     ]
    },
    {
     "name": "stdout",
     "output_type": "stream",
     "text": [
      "(ROOT\n",
      "  (S\n",
      "    (NP (DT a) (NN coherent) (NN system))\n",
      "    (VP\n",
      "      (VBZ is)\n",
      "      (ADJP (JJ injective))\n",
      "      (SBAR\n",
      "        (IN if)\n",
      "        (S\n",
      "          (NP (DT the) (NN evaluation) (NN morphism))\n",
      "          (VP\n",
      "            (VBZ is)\n",
      "            (ADJP\n",
      "              (JJ injective)\n",
      "              (PP\n",
      "                (IN as)\n",
      "                (NP\n",
      "                  (NP (DT a) (NN morphism))\n",
      "                  (PP (IN of) (NP (NNS sheaves))))))))))\n",
      "    (. .)))\n",
      "(ROOT\n",
      "  (S\n",
      "    (S\n",
      "      (NP (NN moreover))\n",
      "      (VP\n",
      "        (VBZ is)\n",
      "        (ADJP (JJ torsion-free))\n",
      "        (SBAR\n",
      "          (IN if)\n",
      "          (S (NP (PRP it)) (VP (VBZ is) (ADJP (JJ injective)))))))\n",
      "    (CC and)\n",
      "    (S\n",
      "      (NP (DT the) (NN quotient) (NN sheaf))\n",
      "      (VP (VBZ is) (ADJP (JJ torsion-free))))\n",
      "    (. .)))\n"
     ]
    }
   ],
   "source": [
    "import os\n",
    "from nltk.parse import stanford\n",
    "STANFORD_DIR = '/home/luis/Paquetes/stanford-parser-full-2018-02-27/' \n",
    "os.environ['STANFORD_PARSER'] = '%s/stanford-parser.jar' % STANFORD_DIR\n",
    "os.environ['STANFORD_MODELS'] = '%s/stanford-parser-3.9.1-models.jar' % STANFORD_DIR\n",
    "parser = stanford.StanfordParser(model_path='%s/models/edu/stanford/nlp/models/lexparser/englishPCFG.ser.gz' % STANFORD_DIR)\n",
    "parsed_sents = []\n",
    "for tree in parser.tagged_parse_sents(tagged_sents):\n",
    "    tree_sent = '\\n'.join([str(_) for _ in tree])\n",
    "    parsed_sents.append(tree_sent)\n",
    "    print(tree_sent)"
   ]
  },
  {
   "cell_type": "code",
   "execution_count": 34,
   "metadata": {},
   "outputs": [
    {
     "data": {
      "image/png": "[encoded data removed]",
      "text/plain": [
       "<IPython.core.display.Image object>"
      ]
     },
     "metadata": {},
     "output_type": "display_data"
    },
    {
     "data": {
      "image/png": "[encoded data removed]",
      "text/plain": [
       "<IPython.core.display.Image object>"
      ]
     },
     "metadata": {},
     "output_type": "display_data"
    }
   ],
   "source": [
    "for idx, tree_str in enumerate(parsed_sents):\n",
    "    cf = CanvasFrame()\n",
    "    tree = Tree.fromstring(tree_str)\n",
    "    tc = TreeWidget(cf.canvas(), tree)\n",
    "    tc['node_font'] = 'arial 13 bold'\n",
    "    tc['leaf_font'] = 'arial 14'\n",
    "    tc['node_color'] = '#005990'\n",
    "    tc['leaf_color'] = '#3F8F57'\n",
    "    tc['line_color'] = '#175252'\n",
    "    cf.add_widget(tc, 10, 10)\n",
    "    cf.print_to_file('tmp.ps')\n",
    "    cf.destroy()\n",
    "    os.system('convert tmp.ps tmp.png')    # need install: libpng, ghostscript, imagemagic\n",
    "    display(Image(filename='tmp.png'))\n",
    "    #os.remove('tmp.ps')\n",
    "    #os.remove('tmp.png')"
   ]
  },
  {
   "cell_type": "code",
   "execution_count": null,
   "metadata": {},
   "outputs": [],
   "source": []
  }
 ],
 "metadata": {
  "kernelspec": {
   "display_name": "Python 3",
   "language": "python",
   "name": "python3"
  },
  "language_info": {
   "codemirror_mode": {
    "name": "ipython",
    "version": 3
   },
   "file_extension": ".py",
   "mimetype": "text/x-python",
   "name": "python",
   "nbconvert_exporter": "python",
   "pygments_lexer": "ipython3",
   "version": "3.7.0"
  }
 },
 "nbformat": 4,
 "nbformat_minor": 2
}
