{
 "cells": [
  {
   "cell_type": "code",
   "execution_count": 1,
   "metadata": {},
   "outputs": [],
   "source": [
    "from lxml import etree\n",
    "from bs4 import BeautifulSoup as bs\n",
    "import re\n",
    "ns = {'ltx': 'http://dlmf.nist.gov/LaTeXML'}"
   ]
  },
  {
   "cell_type": "code",
   "execution_count": 2,
   "metadata": {},
   "outputs": [],
   "source": [
    "%load_ext autoreload\n",
    "%autoreload 2\n",
    "import parsing_xml as px"
   ]
  },
  {
   "cell_type": "code",
   "execution_count": 131,
   "metadata": {},
   "outputs": [
    {
     "data": {
      "text/plain": [
       "[' Let _inline_math_ be a field. Let _inline_math_ be a nonzero element of the polynomial ring _inline_math_ and let _inline_math_. The Lazard valuation _inline_math_ of _inline_math_ at _inline_math_ is the element _inline_math_ of _inline_math_ least (with respect to _inline_math_) such that the partial derivative _inline_math_ does not vanish at _inline_math_. ',\n",
       " ' Let _inline_math_ be a field. (In this section _inline_math_ or, when explicit computation is required, _inline_math_ is a suitable subfield of _inline_math_.) Let _inline_math_, _inline_math_ nonzero, and _inline_math_. The Lazard evaluation _inline_math_ of _inline_math_ at _inline_math_ is defined to be the result of the following process (which determines also nonnegative integers _inline_math_, with _inline_math_): _inline_math_ For _inline_math_ to _inline_math_ do _inline_math_ the greatest integer _inline_math_ such that _inline_math_ _inline_math_ _inline_math_ ',\n",
       " ' Let _inline_math_ be nonzero and _inline_math_ a subset of _inline_math_. We say that _inline_math_ is Lazard delineable on _inline_math_ if 1. the Lazard valuation of _inline_math_ on _inline_math_ is the same for each point _inline_math_; 2. there exist finitely many continuous functions _inline_math_ from _inline_math_ to _inline_math_, with _inline_math_, such that, for all _inline_math_, the set of real roots of _inline_math_ is _inline_math_; and 3. there exist positive integers _inline_math_ such that, for all _inline_math_ and all _inline_math_, _inline_math_ is the multiplicity of _inline_math_ as a root of _inline_math_. We refer to the graphs of the _inline_math_ as the Lazard sections of _inline_math_ over _inline_math_; the regions between successive Lazard sections, together with the region below the lowest Lazard section and that above the highest Lazard section, are called Lazard sectors. ']"
      ]
     },
     "execution_count": 131,
     "metadata": {},
     "output_type": "execute_result"
    }
   ],
   "source": [
    "test_d = px.DefinitionsXML('tests/latexmled_files/1501.06563.xml')\n",
    "test_d.get_def_text()"
   ]
  },
  {
   "cell_type": "code",
   "execution_count": 132,
   "metadata": {},
   "outputs": [
    {
     "data": {
      "text/plain": [
       "[' Let _inline_math_ be a field. Let _inline_math_ be a nonzero element of the polynomial ring _inline_math_ and let _inline_math_. The Lazard valuation _inline_math_ of _inline_math_ at _inline_math_ is the element _inline_math_ of _inline_math_ least (with respect to _inline_math_) such that the partial derivative _inline_math_ does not vanish at _inline_math_. ',\n",
       " ' Let _inline_math_ be a field. (In this section _inline_math_ or, when explicit computation is required, _inline_math_ is a suitable subfield of _inline_math_.) Let _inline_math_, _inline_math_ nonzero, and _inline_math_. The Lazard evaluation _inline_math_ of _inline_math_ at _inline_math_ is defined to be the result of the following process (which determines also nonnegative integers _inline_math_, with _inline_math_): _inline_math_ For _inline_math_ to _inline_math_ do _inline_math_ the greatest integer _inline_math_ such that _inline_math_ _inline_math_ _inline_math_ ',\n",
       " ' Let _inline_math_ be nonzero and _inline_math_ a subset of _inline_math_. We say that _inline_math_ is Lazard delineable on _inline_math_ if 1. the Lazard valuation of _inline_math_ on _inline_math_ is the same for each point _inline_math_; 2. there exist finitely many continuous functions _inline_math_ from _inline_math_ to _inline_math_, with _inline_math_, such that, for all _inline_math_, the set of real roots of _inline_math_ is _inline_math_; and 3. there exist positive integers _inline_math_ such that, for all _inline_math_ and all _inline_math_, _inline_math_ is the multiplicity of _inline_math_ as a root of _inline_math_. We refer to the graphs of the _inline_math_ as the Lazard sections of _inline_math_ over _inline_math_; the regions between successive Lazard sections, together with the region below the lowest Lazard section and that above the highest Lazard section, are called Lazard sectors. ']"
      ]
     },
     "execution_count": 132,
     "metadata": {},
     "output_type": "execute_result"
    }
   ],
   "source": [
    "dtest = px.DefinitionsXML('tests/latexmled_files/1501.06563.html')\n",
    "dtest.exml.xpath(\".//div[re:match(@class, 'ltx_theorem_[definto]+$')]\", \n",
    "                namespaces={\"re\": \"http://exslt.org/regular-expressions\"})\n",
    "list(map(px.recutext_html, dtest.find_definitions()))\n",
    "dtest.get_def_text()"
   ]
  },
  {
   "cell_type": "code",
   "execution_count": 57,
   "metadata": {
    "scrolled": true
   },
   "outputs": [],
   "source": [
    "#np_html = bs(open('../examples/1501.06563.html'), 'lxml')\n",
    "np_html = etree.parse('data/examples/1501.06563.html', etree.HTMLParser(remove_comments=True))\n",
    "np_xml = etree.parse('data/examples/1501.06563/1501.06563.xml', etree.XMLParser(remove_comments=True))"
   ]
  },
  {
   "cell_type": "code",
   "execution_count": 58,
   "metadata": {},
   "outputs": [],
   "source": [
    "para_lst = list(map(px.recutext_xml, np_xml.findall('.//ltx:para', namespaces=ns)))"
   ]
  },
  {
   "cell_type": "code",
   "execution_count": 97,
   "metadata": {},
   "outputs": [],
   "source": [
    "regexpNS = \"http://exslt.org/regular-expressions\"\n",
    "html_lst = list(map(px.recutext_html, np_html.xpath(\".//div[contains(@class, 'ltx_para')]\", namespaces={'re': regexpNS})))\n",
    "#list(filter( lambda x: x[0] != x[1], list(zip(px.recutext_html(html_lst[9]).split(), l1))))"
   ]
  },
  {
   "cell_type": "code",
   "execution_count": 98,
   "metadata": {},
   "outputs": [
    {
     "data": {
      "text/plain": [
       "67"
      ]
     },
     "execution_count": 98,
     "metadata": {},
     "output_type": "execute_result"
    }
   ],
   "source": [
    "len(html_lst)"
   ]
  },
  {
   "cell_type": "code",
   "execution_count": 86,
   "metadata": {},
   "outputs": [
    {
     "data": {
      "text/plain": [
       "[<Element div at 0x7fd59911ad88>]"
      ]
     },
     "execution_count": 86,
     "metadata": {},
     "output_type": "execute_result"
    }
   ],
   "source": [
    "np_html.xpath('.//div[@class=\"ltx_para ltx_align_center\"]')"
   ]
  },
  {
   "cell_type": "code",
   "execution_count": 66,
   "metadata": {},
   "outputs": [
    {
     "name": "stdout",
     "output_type": "stream",
     "text": [
      " Let _inline_math_ be a finite irreducible basis in _inline_math_, where _inline_math_. Let _inline_math_ be a connected subset of _inline_math_. Suppose that each element of _inline_math_ is valuation-invariant in _inline_math_. Then each element of _inline_math_ is Lazard delineable on _inline_math_, the Lazard sections over _inline_math_ of the elements of _inline_math_ are pairwise disjoint, and each element of _inline_math_ is valuation-invariant in every Lazard section and sector over _inline_math_ so determined. \n",
      "----------\n",
      " This claim concerns valuation-invariant lifting in relation to _inline_math_: it asserts that the condition, ‘each element of _inline_math_ is valuation-invariant in _inline_math_’, is sufficient for an _inline_math_-valuation-invariant stack in _inline_math_ to exist over _inline_math_. \n"
     ]
    }
   ],
   "source": [
    "print(para_lst[50])\n",
    "print('----------')\n",
    "print(html_lst[50])"
   ]
  },
  {
   "cell_type": "code",
   "execution_count": 26,
   "metadata": {},
   "outputs": [
    {
     "data": {
      "text/plain": [
       "0"
      ]
     },
     "execution_count": 26,
     "metadata": {},
     "output_type": "execute_result"
    }
   ],
   "source": [
    "L = list(filter( lambda x: x[0] != x[1], zip(html_lst, para_lst)))\n",
    "#show_diff = lambda x: \n",
    "len(L)"
   ]
  },
  {
   "cell_type": "code",
   "execution_count": 169,
   "metadata": {},
   "outputs": [
    {
     "data": {
      "text/plain": [
       "'With _inline_math_, _inline_math_, _inline_math_, _inline_math_ and the _inline_math_ as in the above definition of Lazard evaluation, notice that _inline_math_ (identically) if and only if _inline_math_, for some _inline_math_ in the range _inline_math_. With _inline_math_ arbitrary, notice also that the integers _inline_math_, with _inline_math_, are the first _inline_math_ coordinates of _inline_math_. It will be handy on occasion to refer to the _inline_math_-tuple _inline_math_ as the Lazard valuation of _inline_math_ on _inline_math_.'"
      ]
     },
     "execution_count": 169,
     "metadata": {},
     "output_type": "execute_result"
    }
   ],
   "source": [
    "q_lst = np_xml.findall('.//ltx:p', namespaces=ns)\n",
    "px.recutext_xml(q_lst[44])"
   ]
  },
  {
   "cell_type": "code",
   "execution_count": 170,
   "metadata": {},
   "outputs": [
    {
     "data": {
      "text/plain": [
       "'Lazard valuation ofWith _inline_math_, _inline_math_, _inline_math_, _inline_math_ and the _inline_math_ as in the above definition of Lazard evaluation, notice that _inline_math_ (identically) if and only if _inline_math_, for some _inline_math_ in the range _inline_math_. With _inline_math_ arbitrary, notice also that the integers _inline_math_, with _inline_math_, are the first _inline_math_ coordinates of _inline_math_. It will be handy on occasion to refer to the _inline_math_-tuple _inline_math_ as the on _inline_math_  _inline_math_.'"
      ]
     },
     "execution_count": 170,
     "metadata": {},
     "output_type": "execute_result"
    }
   ],
   "source": [
    "p_lst = np_html.findall('.//p', namespaces=ns)\n",
    "px.recutext_html(p_lst[44], nsstr='')"
   ]
  },
  {
   "cell_type": "code",
   "execution_count": 165,
   "metadata": {},
   "outputs": [
    {
     "name": "stdout",
     "output_type": "stream",
     "text": [
      "#tag {http://dlmf.nist.gov/LaTeXML}XMath #text \n",
      "             #tail \n",
      "        \n"
     ]
    }
   ],
   "source": [
    "for t in list(q_lst[9][-1]):\n",
    "    print(\"#tag\", t.tag, \"#text\", t.text, \"#tail\", t.tail)"
   ]
  },
  {
   "cell_type": "code",
   "execution_count": 146,
   "metadata": {},
   "outputs": [
    {
     "data": {
      "text/plain": [
       "'In this section we first prove a result which implies, roughly speaking,\\nthat many of the cells produced by a CAD algorithm applied to '"
      ]
     },
     "execution_count": 146,
     "metadata": {},
     "output_type": "execute_result"
    }
   ],
   "source": [
    "q_lst[33].text"
   ]
  },
  {
   "cell_type": "code",
   "execution_count": 25,
   "metadata": {
    "scrolled": true
   },
   "outputs": [],
   "source": [
    "pprint = lambda para: print(etree.tostring(para, pretty_print=True).decode('utf8'))"
   ]
  },
  {
   "cell_type": "code",
   "execution_count": 66,
   "metadata": {},
   "outputs": [
    {
     "name": "stdout",
     "output_type": "stream",
     "text": [
      "CPU times: user 6 µs, sys: 1 µs, total: 7 µs\n",
      "Wall time: 14.5 µs\n"
     ]
    }
   ],
   "source": [
    "# Time recutext1\n",
    "%time\n",
    "for q in q_lst:\n",
    "    res = px.recutext1(q)"
   ]
  },
  {
   "cell_type": "code",
   "execution_count": 11,
   "metadata": {
    "collapsed": true
   },
   "outputs": [
    {
     "ename": "OSError",
     "evalue": "Error reading file '<hola> caquieta </nada>': failed to load external entity \"<hola> caquieta </nada>\"",
     "output_type": "error",
     "traceback": [
      "\u001b[0;31m---------------------------------------------------------------------------\u001b[0m",
      "\u001b[0;31mOSError\u001b[0m                                   Traceback (most recent call last)",
      "\u001b[0;32m<ipython-input-11-081384d12282>\u001b[0m in \u001b[0;36m<module>\u001b[0;34m\u001b[0m\n\u001b[0;32m----> 1\u001b[0;31m \u001b[0metree\u001b[0m\u001b[0;34m.\u001b[0m\u001b[0mparse\u001b[0m\u001b[0;34m(\u001b[0m\u001b[0;34m'<hola> caquieta </nada>'\u001b[0m\u001b[0;34m)\u001b[0m\u001b[0;34m\u001b[0m\u001b[0;34m\u001b[0m\u001b[0m\n\u001b[0m",
      "\u001b[0;32msrc/lxml/etree.pyx\u001b[0m in \u001b[0;36mlxml.etree.parse\u001b[0;34m()\u001b[0m\n",
      "\u001b[0;32msrc/lxml/parser.pxi\u001b[0m in \u001b[0;36mlxml.etree._parseDocument\u001b[0;34m()\u001b[0m\n",
      "\u001b[0;32msrc/lxml/parser.pxi\u001b[0m in \u001b[0;36mlxml.etree._parseDocumentFromURL\u001b[0;34m()\u001b[0m\n",
      "\u001b[0;32msrc/lxml/parser.pxi\u001b[0m in \u001b[0;36mlxml.etree._parseDocFromFile\u001b[0;34m()\u001b[0m\n",
      "\u001b[0;32msrc/lxml/parser.pxi\u001b[0m in \u001b[0;36mlxml.etree._BaseParser._parseDocFromFile\u001b[0;34m()\u001b[0m\n",
      "\u001b[0;32msrc/lxml/parser.pxi\u001b[0m in \u001b[0;36mlxml.etree._ParserContext._handleParseResultDoc\u001b[0;34m()\u001b[0m\n",
      "\u001b[0;32msrc/lxml/parser.pxi\u001b[0m in \u001b[0;36mlxml.etree._handleParseResult\u001b[0;34m()\u001b[0m\n",
      "\u001b[0;32msrc/lxml/parser.pxi\u001b[0m in \u001b[0;36mlxml.etree._raiseParseError\u001b[0;34m()\u001b[0m\n",
      "\u001b[0;31mOSError\u001b[0m: Error reading file '<hola> caquieta </nada>': failed to load external entity \"<hola> caquieta </nada>\""
     ]
    }
   ],
   "source": [
    "etree.parse('<hola> caquieta </nada>')"
   ]
  },
  {
   "cell_type": "code",
   "execution_count": 12,
   "metadata": {},
   "outputs": [],
   "source": [
    "import search"
   ]
  },
  {
   "cell_type": "code",
   "execution_count": 14,
   "metadata": {
    "collapsed": true
   },
   "outputs": [
    {
     "ename": "FileNotFoundError",
     "evalue": "[Errno 2] No such file or directory: 'locate': 'locate'",
     "output_type": "error",
     "traceback": [
      "\u001b[0;31m---------------------------------------------------------------------------\u001b[0m",
      "\u001b[0;31mFileNotFoundError\u001b[0m                         Traceback (most recent call last)",
      "\u001b[0;32m<ipython-input-14-9d4ab3eb04e6>\u001b[0m in \u001b[0;36m<module>\u001b[0;34m\u001b[0m\n\u001b[0;32m----> 1\u001b[0;31m \u001b[0msearch\u001b[0m\u001b[0;34m.\u001b[0m\u001b[0mlocate_wait_split\u001b[0m\u001b[0;34m(\u001b[0m\u001b[0;34m'1501.01266'\u001b[0m\u001b[0;34m)\u001b[0m\u001b[0;34m\u001b[0m\u001b[0;34m\u001b[0m\u001b[0m\n\u001b[0m",
      "\u001b[0;32m~/MisDocumentos/arxivBulkDownload/arxivDownload/search.py\u001b[0m in \u001b[0;36mlocate_wait_split\u001b[0;34m(searchable)\u001b[0m\n\u001b[1;32m      7\u001b[0m \u001b[0;34m\u001b[0m\u001b[0m\n\u001b[1;32m      8\u001b[0m \u001b[0;32mdef\u001b[0m \u001b[0mlocate_wait_split\u001b[0m\u001b[0;34m(\u001b[0m\u001b[0msearchable\u001b[0m\u001b[0;34m)\u001b[0m\u001b[0;34m:\u001b[0m\u001b[0;34m\u001b[0m\u001b[0;34m\u001b[0m\u001b[0m\n\u001b[0;32m----> 9\u001b[0;31m     \u001b[0mrun_res\u001b[0m \u001b[0;34m=\u001b[0m \u001b[0msubprocess\u001b[0m\u001b[0;34m.\u001b[0m\u001b[0mPopen\u001b[0m\u001b[0;34m(\u001b[0m\u001b[0;34m[\u001b[0m\u001b[0;34m'locate'\u001b[0m\u001b[0;34m,\u001b[0m \u001b[0msearchable\u001b[0m\u001b[0;34m]\u001b[0m\u001b[0;34m,\u001b[0m \u001b[0mstdout\u001b[0m\u001b[0;34m=\u001b[0m\u001b[0msubprocess\u001b[0m\u001b[0;34m.\u001b[0m\u001b[0mPIPE\u001b[0m\u001b[0;34m)\u001b[0m\u001b[0;34m\u001b[0m\u001b[0;34m\u001b[0m\u001b[0m\n\u001b[0m\u001b[1;32m     10\u001b[0m     \u001b[0mrun_res\u001b[0m\u001b[0;34m.\u001b[0m\u001b[0mwait\u001b[0m\u001b[0;34m(\u001b[0m\u001b[0;34m)\u001b[0m\u001b[0;34m\u001b[0m\u001b[0;34m\u001b[0m\u001b[0m\n\u001b[1;32m     11\u001b[0m     \u001b[0;32mif\u001b[0m \u001b[0;32mnot\u001b[0m \u001b[0mrun_res\u001b[0m\u001b[0;34m.\u001b[0m\u001b[0mreturncode\u001b[0m\u001b[0;34m:\u001b[0m\u001b[0;34m\u001b[0m\u001b[0;34m\u001b[0m\u001b[0m\n",
      "\u001b[0;32m/usr/lib/python3.7/subprocess.py\u001b[0m in \u001b[0;36m__init__\u001b[0;34m(self, args, bufsize, executable, stdin, stdout, stderr, preexec_fn, close_fds, shell, cwd, env, universal_newlines, startupinfo, creationflags, restore_signals, start_new_session, pass_fds, encoding, errors, text)\u001b[0m\n\u001b[1;32m    767\u001b[0m                                 \u001b[0mc2pread\u001b[0m\u001b[0;34m,\u001b[0m \u001b[0mc2pwrite\u001b[0m\u001b[0;34m,\u001b[0m\u001b[0;34m\u001b[0m\u001b[0;34m\u001b[0m\u001b[0m\n\u001b[1;32m    768\u001b[0m                                 \u001b[0merrread\u001b[0m\u001b[0;34m,\u001b[0m \u001b[0merrwrite\u001b[0m\u001b[0;34m,\u001b[0m\u001b[0;34m\u001b[0m\u001b[0;34m\u001b[0m\u001b[0m\n\u001b[0;32m--> 769\u001b[0;31m                                 restore_signals, start_new_session)\n\u001b[0m\u001b[1;32m    770\u001b[0m         \u001b[0;32mexcept\u001b[0m\u001b[0;34m:\u001b[0m\u001b[0;34m\u001b[0m\u001b[0;34m\u001b[0m\u001b[0m\n\u001b[1;32m    771\u001b[0m             \u001b[0;31m# Cleanup if the child failed starting.\u001b[0m\u001b[0;34m\u001b[0m\u001b[0;34m\u001b[0m\u001b[0;34m\u001b[0m\u001b[0m\n",
      "\u001b[0;32m/usr/lib/python3.7/subprocess.py\u001b[0m in \u001b[0;36m_execute_child\u001b[0;34m(self, args, executable, preexec_fn, close_fds, pass_fds, cwd, env, startupinfo, creationflags, shell, p2cread, p2cwrite, c2pread, c2pwrite, errread, errwrite, restore_signals, start_new_session)\u001b[0m\n\u001b[1;32m   1514\u001b[0m                         \u001b[0;32mif\u001b[0m \u001b[0merrno_num\u001b[0m \u001b[0;34m==\u001b[0m \u001b[0merrno\u001b[0m\u001b[0;34m.\u001b[0m\u001b[0mENOENT\u001b[0m\u001b[0;34m:\u001b[0m\u001b[0;34m\u001b[0m\u001b[0;34m\u001b[0m\u001b[0m\n\u001b[1;32m   1515\u001b[0m                             \u001b[0merr_msg\u001b[0m \u001b[0;34m+=\u001b[0m \u001b[0;34m': '\u001b[0m \u001b[0;34m+\u001b[0m \u001b[0mrepr\u001b[0m\u001b[0;34m(\u001b[0m\u001b[0merr_filename\u001b[0m\u001b[0;34m)\u001b[0m\u001b[0;34m\u001b[0m\u001b[0;34m\u001b[0m\u001b[0m\n\u001b[0;32m-> 1516\u001b[0;31m                     \u001b[0;32mraise\u001b[0m \u001b[0mchild_exception_type\u001b[0m\u001b[0;34m(\u001b[0m\u001b[0merrno_num\u001b[0m\u001b[0;34m,\u001b[0m \u001b[0merr_msg\u001b[0m\u001b[0;34m,\u001b[0m \u001b[0merr_filename\u001b[0m\u001b[0;34m)\u001b[0m\u001b[0;34m\u001b[0m\u001b[0;34m\u001b[0m\u001b[0m\n\u001b[0m\u001b[1;32m   1517\u001b[0m                 \u001b[0;32mraise\u001b[0m \u001b[0mchild_exception_type\u001b[0m\u001b[0;34m(\u001b[0m\u001b[0merr_msg\u001b[0m\u001b[0;34m)\u001b[0m\u001b[0;34m\u001b[0m\u001b[0;34m\u001b[0m\u001b[0m\n\u001b[1;32m   1518\u001b[0m \u001b[0;34m\u001b[0m\u001b[0m\n",
      "\u001b[0;31mFileNotFoundError\u001b[0m: [Errno 2] No such file or directory: 'locate': 'locate'"
     ]
    }
   ],
   "source": [
    "search.locate_wait_split('1501.01266')"
   ]
  },
  {
   "cell_type": "code",
   "execution_count": 28,
   "metadata": {},
   "outputs": [
    {
     "data": {
      "text/plain": [
       "'A coherent system _inline_math_ is injective if the evaluation morphism _inline_math_ is injective as a morphism of sheaves. Moreover _inline_math_ is torsion-free if it is injective and the quotient sheaf _inline_math_ is torsion-free.'"
      ]
     },
     "execution_count": 28,
     "metadata": {},
     "output_type": "execute_result"
    }
   ],
   "source": [
    "old_xml = etree.parse('tests/latexmled_files/math.0402243.xml')\n",
    "old_lst = old_xml.findall('.//ltx:p', namespaces=ns)\n",
    "px.recutext_xml(old_lst[55])"
   ]
  },
  {
   "cell_type": "markdown",
   "metadata": {},
   "source": [
    "A coherent system (E, V ) is injective if the evaluation morphism\n",
    "V ⊗ O → E is injective as a morphism of sheaves. Moreover (E, V ) is torsion-free if it\n",
    "is injective and the quotient sheaf E/(V ⊗ O) is torsion-free."
   ]
  },
  {
   "cell_type": "code",
   "execution_count": 26,
   "metadata": {},
   "outputs": [
    {
     "name": "stdout",
     "output_type": "stream",
     "text": [
      "<p xmlns=\"http://dlmf.nist.gov/LaTeXML\">\n",
      "  <text font=\"normal\">A coherent system <Math mode=\"inline\" tex=\"(E,V)\" text=\"open-interval@(E, V)\" xml:id=\"S2.Thmtheorem1.p1.m1\">\n",
      "              <XMath>\n",
      "                <XMDual>\n",
      "                  <XMApp>\n",
      "                    <XMTok meaning=\"open-interval\"/>\n",
      "                    <XMRef idref=\"S2.Thmtheorem1.p1.m1.1\"/>\n",
      "                    <XMRef idref=\"S2.Thmtheorem1.p1.m1.2\"/>\n",
      "                  </XMApp>\n",
      "                  <XMWrap>\n",
      "                    <XMTok font=\"upright\" role=\"OPEN\" stretchy=\"false\">(</XMTok>\n",
      "                    <XMTok font=\"italic\" role=\"UNKNOWN\" xml:id=\"S2.Thmtheorem1.p1.m1.1\">E</XMTok>\n",
      "                    <XMTok font=\"upright\" role=\"PUNCT\">,</XMTok>\n",
      "                    <XMTok font=\"italic\" role=\"UNKNOWN\" xml:id=\"S2.Thmtheorem1.p1.m1.2\">V</XMTok>\n",
      "                    <XMTok font=\"upright\" role=\"CLOSE\" stretchy=\"false\">)</XMTok>\n",
      "                  </XMWrap>\n",
      "                </XMDual>\n",
      "              </XMath>\n",
      "            </Math> is <text font=\"italic\">injective</text> if the evaluation\n",
      "morphism <Math mode=\"inline\" tex=\"V\\otimes{\\mathcal{O}}\\rightarrow E\" text=\"V tensor-product O rightarrow E\" xml:id=\"S2.Thmtheorem1.p1.m2\">\n",
      "              <XMath>\n",
      "                <XMApp>\n",
      "                  <XMTok font=\"upright\" name=\"rightarrow\" role=\"ARROW\">&#8594;</XMTok>\n",
      "                  <XMApp>\n",
      "                    <XMTok font=\"upright\" meaning=\"tensor-product\" name=\"otimes\" role=\"MULOP\">&#8855;</XMTok>\n",
      "                    <XMTok font=\"italic\" role=\"UNKNOWN\">V</XMTok>\n",
      "                    <XMTok font=\"caligraphic upright\" role=\"UNKNOWN\">O</XMTok>\n",
      "                  </XMApp>\n",
      "                  <XMTok font=\"italic\" role=\"UNKNOWN\">E</XMTok>\n",
      "                </XMApp>\n",
      "              </XMath>\n",
      "            </Math> is injective as a morphism of sheaves.\n",
      "Moreover <Math mode=\"inline\" tex=\"(E,V)\" text=\"open-interval@(E, V)\" xml:id=\"S2.Thmtheorem1.p1.m3\">\n",
      "              <XMath>\n",
      "                <XMDual>\n",
      "                  <XMApp>\n",
      "                    <XMTok meaning=\"open-interval\"/>\n",
      "                    <XMRef idref=\"S2.Thmtheorem1.p1.m3.1\"/>\n",
      "                    <XMRef idref=\"S2.Thmtheorem1.p1.m3.2\"/>\n",
      "                  </XMApp>\n",
      "                  <XMWrap>\n",
      "                    <XMTok font=\"upright\" role=\"OPEN\" stretchy=\"false\">(</XMTok>\n",
      "                    <XMTok font=\"italic\" role=\"UNKNOWN\" xml:id=\"S2.Thmtheorem1.p1.m3.1\">E</XMTok>\n",
      "                    <XMTok font=\"upright\" role=\"PUNCT\">,</XMTok>\n",
      "                    <XMTok font=\"italic\" role=\"UNKNOWN\" xml:id=\"S2.Thmtheorem1.p1.m3.2\">V</XMTok>\n",
      "                    <XMTok font=\"upright\" role=\"CLOSE\" stretchy=\"false\">)</XMTok>\n",
      "                  </XMWrap>\n",
      "                </XMDual>\n",
      "              </XMath>\n",
      "            </Math> is <text font=\"italic\">torsion-free</text> if it is injective and the\n",
      "quotient sheaf <Math mode=\"inline\" tex=\"E/(V\\otimes{\\mathcal{O}})\" text=\"E / (V tensor-product O)\" xml:id=\"S2.Thmtheorem1.p1.m4\">\n",
      "              <XMath>\n",
      "                <XMApp>\n",
      "                  <XMTok font=\"upright\" meaning=\"divide\" role=\"MULOP\">/</XMTok>\n",
      "                  <XMTok font=\"italic\" role=\"UNKNOWN\">E</XMTok>\n",
      "                  <XMDual>\n",
      "                    <XMRef idref=\"S2.Thmtheorem1.p1.m4.1\"/>\n",
      "                    <XMWrap>\n",
      "                      <XMTok font=\"upright\" role=\"OPEN\" stretchy=\"false\">(</XMTok>\n",
      "                      <XMApp xml:id=\"S2.Thmtheorem1.p1.m4.1\">\n",
      "                        <XMTok font=\"upright\" meaning=\"tensor-product\" name=\"otimes\" role=\"MULOP\">&#8855;</XMTok>\n",
      "                        <XMTok font=\"italic\" role=\"UNKNOWN\">V</XMTok>\n",
      "                        <XMTok font=\"caligraphic upright\" role=\"UNKNOWN\">O</XMTok>\n",
      "                      </XMApp>\n",
      "                      <XMTok font=\"upright\" role=\"CLOSE\" stretchy=\"false\">)</XMTok>\n",
      "                    </XMWrap>\n",
      "                  </XMDual>\n",
      "                </XMApp>\n",
      "              </XMath>\n",
      "            </Math> is torsion-free.<text font=\"italic\"/></text>\n",
      "</p>\n",
      "      \n",
      "\n"
     ]
    }
   ],
   "source": [
    "old_lst[55]"
   ]
  }
 ],
 "metadata": {
  "kernelspec": {
   "display_name": "Python 3",
   "language": "python",
   "name": "python3"
  },
  "language_info": {
   "codemirror_mode": {
    "name": "ipython",
    "version": 3
   },
   "file_extension": ".py",
   "mimetype": "text/x-python",
   "name": "python",
   "nbconvert_exporter": "python",
   "pygments_lexer": "ipython3",
   "version": "3.7.2"
  }
 },
 "nbformat": 4,
 "nbformat_minor": 2
}
