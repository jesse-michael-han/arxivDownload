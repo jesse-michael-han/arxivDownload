{
 "cells": [
  {
   "cell_type": "code",
   "execution_count": 1,
   "metadata": {},
   "outputs": [],
   "source": [
    "from lxml import etree\n",
    "from bs4 import BeautifulSoup as bs\n",
    "ns = {'ltx': 'http://dlmf.nist.gov/LaTeXML'}"
   ]
  },
  {
   "cell_type": "code",
   "execution_count": 2,
   "metadata": {},
   "outputs": [],
   "source": [
    "%load_ext autoreload\n",
    "%autoreload 2\n",
    "import parsing_xml as px"
   ]
  },
  {
   "cell_type": "code",
   "execution_count": 42,
   "metadata": {
    "scrolled": true
   },
   "outputs": [],
   "source": [
    "#np_html = bs(open('../examples/1501.06563.html'), 'lxml')\n",
    "np_html = etree.parse('data/examples/1501.06563.html', etree.HTMLParser(remove_comments=True))\n",
    "np_xml = etree.parse('data/examples/1501.06563/1501.06563.xml', etree.XMLParser(remove_comments=True))"
   ]
  },
  {
   "cell_type": "code",
   "execution_count": 159,
   "metadata": {},
   "outputs": [
    {
     "name": "stdout",
     "output_type": "stream",
     "text": [
      "root is {http://dlmf.nist.gov/LaTeXML}p By the same axioms one could define the notion of valuation of a ring  \n",
      "      \n",
      "inside {http://dlmf.nist.gov/LaTeXML}cite tag  [ . (In such a case \n",
      "inside {http://dlmf.nist.gov/LaTeXML}Math tag  \n",
      "            could be a totally ordered abelian\n",
      "monoid.) Perhaps the simplest and most familiar example of a valuation in\n",
      "algebraic geometry is the order of an \n",
      "inside {http://dlmf.nist.gov/LaTeXML}Math tag  \n",
      "           -variate polynomial over a field \n",
      "inside {http://dlmf.nist.gov/LaTeXML}Math tag  \n",
      "           \n",
      "at a point \n",
      "inside {http://dlmf.nist.gov/LaTeXML}Math tag  \n",
      "           . That is, the mapping \n",
      "inside {http://dlmf.nist.gov/LaTeXML}Math tag  \n",
      "            defined by\n"
     ]
    },
    {
     "data": {
      "text/plain": [
       "'By the same axioms one could define the notion of valuation of a ring _citation_. (In such a case _inline_math_ could be a totally ordered abelian monoid.) Perhaps the simplest and most familiar example of a valuation in algebraic geometry is the order of an _inline_math_-variate polynomial over a field _inline_math_ at a point _inline_math_. That is, the mapping _inline_math_ defined by'"
      ]
     },
     "execution_count": 159,
     "metadata": {},
     "output_type": "execute_result"
    }
   ],
   "source": [
    "q_lst = np_xml.findall('.//ltx:p', namespaces=ns)\n",
    "px.recutext_xml(q_lst[9])"
   ]
  },
  {
   "cell_type": "code",
   "execution_count": 86,
   "metadata": {},
   "outputs": [
    {
     "data": {
      "text/plain": [
       "'Let  and let f∈r\\u2062[x,xn]𝑓normal-r𝑥subscript𝑥𝑛italic-f relop:element-of blackboard-r open:[ italic-x punct:, italic-x postsubscript:start italic-n postsubscript:end close:]f\\\\in\\\\mathbb{r}[x,x_{n}] be a connected subset of s𝑆italic-ss. suppose that rn-1superscriptnormal-r𝑛1blackboard-r postsuperscript:start italic-n addop:minus number:1 postsuperscript:end\\\\mathbb{r}^{n-1} is delineable on f𝑓italic-ff. then s𝑆italic-ss is valuation-invariant in each section (and trivially each sector) of f𝑓italic-ff over f𝑓italic-ff. s𝑆italic-ss'"
      ]
     },
     "execution_count": 86,
     "metadata": {},
     "output_type": "execute_result"
    }
   ],
   "source": [
    "p_lst = np_html.findall('.//p', namespaces=ns)\n",
    "px.recutext_xml(p_lst[35], nsstr='')"
   ]
  },
  {
   "cell_type": "code",
   "execution_count": 165,
   "metadata": {},
   "outputs": [
    {
     "name": "stdout",
     "output_type": "stream",
     "text": [
      "#tag {http://dlmf.nist.gov/LaTeXML}XMath #text \n",
      "             #tail \n",
      "        \n"
     ]
    }
   ],
   "source": [
    "for t in list(q_lst[9][-1]):\n",
    "    print(\"#tag\", t.tag, \"#text\", t.text, \"#tail\", t.tail)"
   ]
  },
  {
   "cell_type": "code",
   "execution_count": 146,
   "metadata": {},
   "outputs": [
    {
     "data": {
      "text/plain": [
       "'In this section we first prove a result which implies, roughly speaking,\\nthat many of the cells produced by a CAD algorithm applied to '"
      ]
     },
     "execution_count": 146,
     "metadata": {},
     "output_type": "execute_result"
    }
   ],
   "source": [
    "q_lst[33].text"
   ]
  },
  {
   "cell_type": "code",
   "execution_count": 166,
   "metadata": {
    "scrolled": true
   },
   "outputs": [
    {
     "name": "stdout",
     "output_type": "stream",
     "text": [
      "<p xmlns=\"http://dlmf.nist.gov/LaTeXML\">By the same axioms one could define the notion of valuation of a ring <cite class=\"ltx_citemacro_cite\">[<bibref bibrefs=\"Danilov\" separator=\",\" yyseparator=\",\"/>]</cite>. (In such a case <Math mode=\"inline\" tex=\"\\Gamma\" text=\"Gamma\" xml:id=\"S2.p5.m1\">\n",
      "          <XMath>\n",
      "            <XMTok name=\"Gamma\" role=\"UNKNOWN\">&#915;</XMTok>\n",
      "          </XMath>\n",
      "        </Math> could be a totally ordered abelian\n",
      "monoid.) Perhaps the simplest and most familiar example of a valuation in\n",
      "algebraic geometry is the order of an <Math mode=\"inline\" tex=\"n\" text=\"n\" xml:id=\"S2.p5.m2\">\n",
      "          <XMath>\n",
      "            <XMTok font=\"italic\" role=\"UNKNOWN\">n</XMTok>\n",
      "          </XMath>\n",
      "        </Math>-variate polynomial over a field <Math mode=\"inline\" tex=\"k\" text=\"k\" xml:id=\"S2.p5.m3\">\n",
      "          <XMath>\n",
      "            <XMTok font=\"italic\" role=\"UNKNOWN\">k</XMTok>\n",
      "          </XMath>\n",
      "        </Math>\n",
      "at a point <Math mode=\"inline\" tex=\"a\\in k^{n}\" text=\"a element-of k ^ n\" xml:id=\"S2.p5.m4\">\n",
      "          <XMath>\n",
      "            <XMApp>\n",
      "              <XMTok meaning=\"element-of\" name=\"in\" role=\"RELOP\">&#8712;</XMTok>\n",
      "              <XMTok font=\"italic\" role=\"UNKNOWN\">a</XMTok>\n",
      "              <XMApp>\n",
      "                <XMTok role=\"SUPERSCRIPTOP\" scriptpos=\"post2\"/>\n",
      "                <XMTok font=\"italic\" role=\"UNKNOWN\">k</XMTok>\n",
      "                <XMTok font=\"italic\" fontsize=\"70%\" role=\"UNKNOWN\">n</XMTok>\n",
      "              </XMApp>\n",
      "            </XMApp>\n",
      "          </XMath>\n",
      "        </Math>. That is, the mapping <Math mode=\"inline\" tex=\"\\mathrm{ord}_{a}~{}:~{}k[x_{1},\\ldots,x_{n}]-\\{0\\}~{}\\rightarrow~{}\\mathbb{N}\" text=\"ord _ a colon k * list@(x _ 1, ldots, x _ n) - set@(0) rightarrow N\" xml:id=\"S2.p5.m5\">\n",
      "          <XMath>\n",
      "            <XMApp>\n",
      "              <XMTok name=\"colon\" role=\"METARELOP\" rpadding=\"3.3pt\">:</XMTok>\n",
      "              <XMApp rpadding=\"3.3pt\">\n",
      "                <XMTok role=\"SUBSCRIPTOP\" scriptpos=\"post2\"/>\n",
      "                <XMTok role=\"UNKNOWN\">ord</XMTok>\n",
      "                <XMTok font=\"italic\" fontsize=\"70%\" role=\"UNKNOWN\">a</XMTok>\n",
      "              </XMApp>\n",
      "              <XMApp>\n",
      "                <XMTok name=\"rightarrow\" role=\"ARROW\" rpadding=\"3.3pt\">&#8594;</XMTok>\n",
      "                <XMApp>\n",
      "                  <XMTok meaning=\"minus\" role=\"ADDOP\">-</XMTok>\n",
      "                  <XMApp>\n",
      "                    <XMTok meaning=\"times\" role=\"MULOP\">&#8290;</XMTok>\n",
      "                    <XMTok font=\"italic\" role=\"UNKNOWN\">k</XMTok>\n",
      "                    <XMDual>\n",
      "                      <XMApp>\n",
      "                        <XMTok meaning=\"list\"/>\n",
      "                        <XMRef idref=\"S2.p5.m5.3\"/>\n",
      "                        <XMRef idref=\"S2.p5.m5.1\"/>\n",
      "                        <XMRef idref=\"S2.p5.m5.4\"/>\n",
      "                      </XMApp>\n",
      "                      <XMWrap>\n",
      "                        <XMTok role=\"OPEN\" stretchy=\"false\">[</XMTok>\n",
      "                        <XMApp xml:id=\"S2.p5.m5.3\">\n",
      "                          <XMTok role=\"SUBSCRIPTOP\" scriptpos=\"post2\"/>\n",
      "                          <XMTok font=\"italic\" role=\"UNKNOWN\">x</XMTok>\n",
      "                          <XMTok fontsize=\"70%\" meaning=\"1\" role=\"NUMBER\">1</XMTok>\n",
      "                        </XMApp>\n",
      "                        <XMTok role=\"PUNCT\">,</XMTok>\n",
      "                        <XMTok name=\"ldots\" role=\"ID\" xml:id=\"S2.p5.m5.1\">&#8230;</XMTok>\n",
      "                        <XMTok role=\"PUNCT\">,</XMTok>\n",
      "                        <XMApp xml:id=\"S2.p5.m5.4\">\n",
      "                          <XMTok role=\"SUBSCRIPTOP\" scriptpos=\"post2\"/>\n",
      "                          <XMTok font=\"italic\" role=\"UNKNOWN\">x</XMTok>\n",
      "                          <XMTok font=\"italic\" fontsize=\"70%\" role=\"UNKNOWN\">n</XMTok>\n",
      "                        </XMApp>\n",
      "                        <XMTok role=\"CLOSE\" stretchy=\"false\">]</XMTok>\n",
      "                      </XMWrap>\n",
      "                    </XMDual>\n",
      "                  </XMApp>\n",
      "                  <XMDual>\n",
      "                    <XMApp>\n",
      "                      <XMTok meaning=\"set\"/>\n",
      "                      <XMRef idref=\"S2.p5.m5.2\"/>\n",
      "                    </XMApp>\n",
      "                    <XMWrap>\n",
      "                      <XMTok role=\"OPEN\" stretchy=\"false\">{</XMTok>\n",
      "                      <XMTok meaning=\"0\" role=\"NUMBER\" xml:id=\"S2.p5.m5.2\">0</XMTok>\n",
      "                      <XMTok role=\"CLOSE\" rpadding=\"3.3pt\" stretchy=\"false\">}</XMTok>\n",
      "                    </XMWrap>\n",
      "                  </XMDual>\n",
      "                </XMApp>\n",
      "                <XMTok font=\"blackboard\" role=\"UNKNOWN\">N</XMTok>\n",
      "              </XMApp>\n",
      "            </XMApp>\n",
      "          </XMath>\n",
      "        </Math> defined by</p>\n",
      "      \n",
      "\n"
     ]
    }
   ],
   "source": [
    "print(etree.tostring(q_lst[9], pretty_print=True).decode('utf8'))"
   ]
  },
  {
   "cell_type": "code",
   "execution_count": 66,
   "metadata": {},
   "outputs": [
    {
     "name": "stdout",
     "output_type": "stream",
     "text": [
      "CPU times: user 6 µs, sys: 1 µs, total: 7 µs\n",
      "Wall time: 14.5 µs\n"
     ]
    }
   ],
   "source": [
    "# Time recutext1\n",
    "%time\n",
    "for q in q_lst:\n",
    "    res = px.recutext1(q)"
   ]
  },
  {
   "cell_type": "code",
   "execution_count": null,
   "metadata": {},
   "outputs": [],
   "source": []
  }
 ],
 "metadata": {
  "kernelspec": {
   "display_name": "Python 3",
   "language": "python",
   "name": "python3"
  },
  "language_info": {
   "codemirror_mode": {
    "name": "ipython",
    "version": 3
   },
   "file_extension": ".py",
   "mimetype": "text/x-python",
   "name": "python",
   "nbconvert_exporter": "python",
   "pygments_lexer": "ipython3",
   "version": "3.7.2"
  }
 },
 "nbformat": 4,
 "nbformat_minor": 2
}
