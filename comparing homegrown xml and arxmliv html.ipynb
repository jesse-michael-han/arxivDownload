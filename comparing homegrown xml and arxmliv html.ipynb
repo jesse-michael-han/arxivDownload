{
 "cells": [
  {
   "cell_type": "code",
   "execution_count": 1,
   "metadata": {},
   "outputs": [],
   "source": [
    "from lxml import etree\n",
    "from bs4 import BeautifulSoup as bs\n",
    "ns = {'ltx': 'http://dlmf.nist.gov/LaTeXML'}"
   ]
  },
  {
   "cell_type": "code",
   "execution_count": 2,
   "metadata": {},
   "outputs": [],
   "source": [
    "%load_ext autoreload\n",
    "%autoreload 2\n",
    "import parsing_xml as px"
   ]
  },
  {
   "cell_type": "code",
   "execution_count": 3,
   "metadata": {
    "scrolled": true
   },
   "outputs": [],
   "source": [
    "#np_html = bs(open('../examples/1501.06563.html'), 'lxml')\n",
    "np_html = etree.parse('../examples/1501.06563.html', etree.HTMLParser())\n",
    "np_xml = etree.parse('../examples/1501.06563/1501.06563.xml')"
   ]
  },
  {
   "cell_type": "code",
   "execution_count": 4,
   "metadata": {},
   "outputs": [
    {
     "name": "stdout",
     "output_type": "stream",
     "text": [
      "{http://dlmf.nist.gov/LaTeXML}Math\n",
      "{http://dlmf.nist.gov/LaTeXML}Math\n",
      "{http://dlmf.nist.gov/LaTeXML}Math\n",
      "{http://dlmf.nist.gov/LaTeXML}Math\n",
      "{http://dlmf.nist.gov/LaTeXML}Math\n",
      "{http://dlmf.nist.gov/LaTeXML}Math\n",
      "{http://dlmf.nist.gov/LaTeXML}Math\n",
      "{http://dlmf.nist.gov/LaTeXML}Math\n",
      "{http://dlmf.nist.gov/LaTeXML}Math\n",
      "{http://dlmf.nist.gov/LaTeXML}Math\n",
      "{http://dlmf.nist.gov/LaTeXML}Math\n",
      "{http://dlmf.nist.gov/LaTeXML}Math\n",
      "{http://dlmf.nist.gov/LaTeXML}text\n",
      "{http://dlmf.nist.gov/LaTeXML}Math\n",
      "{http://dlmf.nist.gov/LaTeXML}Math\n",
      "{http://dlmf.nist.gov/LaTeXML}Math\n",
      "{http://dlmf.nist.gov/LaTeXML}Math\n"
     ]
    },
    {
     "data": {
      "text/plain": [
       "'            of                       s                      . the concepts are the same in case                                                                k               n                         because order and valuation are the same for this case. for                                                 =               n               1                         order-invariance in                                                 =               n               2                         does not imply valuation-invariance in                       s                      . (for consider the unit circle                       s                       about the origin in                       s                      . the order of                                                                k               2                         at every point of                                                 =                                               \\u2062                 f                                                                                                                                                                                              (                     x                     ,                     y                     )                                                 -                                                     +                                                                                x                     2                                                                              y                     2                   1                           is 1. the valuation of                       s                       at every point                       f                                                                       ∈                                                                                                                                                                            (                   α                   ,                   β                   )                 s             except             is                                                                                                                                                                (                                                     ±                   1                 ,                 0                 )                          . but                                                                                                                                                                (                 0                 ,                 1                 )                          .) however for                                                 =                                               \\u2062                                                                        v                                                                                                                                                                                                                  (                                                                       ±                         1                       ,                       0                       )                                                                                                                (                     f                     )                                                                                                                                                                              (                   0                   ,                   2                   )                             we can prove the following.                                                =               n               2             '"
      ]
     },
     "execution_count": 4,
     "metadata": {},
     "output_type": "execute_result"
    }
   ],
   "source": [
    "q_lst = np_xml.findall('.//ltx:p', namespaces=ns)\n",
    "px.recutext2(q_lst[28])"
   ]
  },
  {
   "cell_type": "code",
   "execution_count": 8,
   "metadata": {},
   "outputs": [
    {
     "data": {
      "text/plain": [
       "'let _inline_math_ be nonzero and _inline_math_ be connected. if _inline_math_ is valuation-invariant in _inline_math_ then _inline_math_ is order-invariant in _inline_math_.'"
      ]
     },
     "execution_count": 8,
     "metadata": {},
     "output_type": "execute_result"
    }
   ],
   "source": [
    "p_lst = np_html.findall('.//p', namespaces=ns)\n",
    "px.recutext2(p_lst[29], nsstr='')"
   ]
  },
  {
   "cell_type": "code",
   "execution_count": 91,
   "metadata": {},
   "outputs": [
    {
     "name": "stdout",
     "output_type": "stream",
     "text": [
      "<p id=\"Thmproposition4.p1.1\" class=\"ltx_p\">\n",
      "  <span id=\"Thmproposition4.p1.1.1\" class=\"ltx_text ltx_font_italic\">Let <math id=\"Thmproposition4.p1.1.1.m1.1\" class=\"ltx_Math\" alttext=\"f\\in k[x,y]\" display=\"inline\"><semantics id=\"Thmproposition4.p1.1.1.m1.1a\"><mrow id=\"Thmproposition4.p1.1.1.m1.1.9\" xref=\"Thmproposition4.p1.1.1.m1.1.9.cmml\"><mi id=\"Thmproposition4.p1.1.1.m1.1.1\" xref=\"Thmproposition4.p1.1.1.m1.1.1.cmml\">f</mi><mo mathvariant=\"normal\" id=\"Thmproposition4.p1.1.1.m1.1.2\" xref=\"Thmproposition4.p1.1.1.m1.1.2.cmml\">&#8712;</mo><mrow id=\"Thmproposition4.p1.1.1.m1.1.9.1\" xref=\"Thmproposition4.p1.1.1.m1.1.9.1.cmml\"><mi id=\"Thmproposition4.p1.1.1.m1.1.3\" xref=\"Thmproposition4.p1.1.1.m1.1.3.cmml\">k</mi><mo mathvariant=\"italic\" id=\"Thmproposition4.p1.1.1.m1.1.9.1.1\" xref=\"Thmproposition4.p1.1.1.m1.1.9.1.1.cmml\">&#8290;</mo><mrow id=\"Thmproposition4.p1.1.1.m1.1.9.1.2\" xref=\"Thmproposition4.p1.1.1.m1.1.9.1.2.1.cmml\"><mo mathvariant=\"normal\" stretchy=\"false\" id=\"Thmproposition4.p1.1.1.m1.1.4\" xref=\"Thmproposition4.p1.1.1.m1.1.9.1.2.1.cmml\">[</mo><mi id=\"Thmproposition4.p1.1.1.m1.1.5\" xref=\"Thmproposition4.p1.1.1.m1.1.5.cmml\">x</mi><mo mathvariant=\"normal\" id=\"Thmproposition4.p1.1.1.m1.1.6\" xref=\"Thmproposition4.p1.1.1.m1.1.9.1.2.1.cmml\">,</mo><mi id=\"Thmproposition4.p1.1.1.m1.1.7\" xref=\"Thmproposition4.p1.1.1.m1.1.7.cmml\">y</mi><mo mathvariant=\"normal\" stretchy=\"false\" id=\"Thmproposition4.p1.1.1.m1.1.8\" xref=\"Thmproposition4.p1.1.1.m1.1.9.1.2.1.cmml\">]</mo></mrow></mrow></mrow><annotation-xml encoding=\"MathML-Content\" id=\"Thmproposition4.p1.1.1.m1.1b\"><apply id=\"Thmproposition4.p1.1.1.m1.1.9.cmml\" xref=\"Thmproposition4.p1.1.1.m1.1.9\"><in id=\"Thmproposition4.p1.1.1.m1.1.2.cmml\" xref=\"Thmproposition4.p1.1.1.m1.1.2\"/><ci id=\"Thmproposition4.p1.1.1.m1.1.1.cmml\" xref=\"Thmproposition4.p1.1.1.m1.1.1\">&#119891;</ci><apply id=\"Thmproposition4.p1.1.1.m1.1.9.1.cmml\" xref=\"Thmproposition4.p1.1.1.m1.1.9.1\"><times id=\"Thmproposition4.p1.1.1.m1.1.9.1.1.cmml\" xref=\"Thmproposition4.p1.1.1.m1.1.9.1.1\"/><ci id=\"Thmproposition4.p1.1.1.m1.1.3.cmml\" xref=\"Thmproposition4.p1.1.1.m1.1.3\">&#119896;</ci><interval closure=\"closed\" id=\"Thmproposition4.p1.1.1.m1.1.9.1.2.1.cmml\" xref=\"Thmproposition4.p1.1.1.m1.1.9.1.2\"><ci id=\"Thmproposition4.p1.1.1.m1.1.5.cmml\" xref=\"Thmproposition4.p1.1.1.m1.1.5\">&#119909;</ci><ci id=\"Thmproposition4.p1.1.1.m1.1.7.cmml\" xref=\"Thmproposition4.p1.1.1.m1.1.7\">&#119910;</ci></interval></apply></apply></annotation-xml><annotation encoding=\"application/x-llamapun\" id=\"Thmproposition4.p1.1.1.m1.1c\">italic-f RELOP:element-of italic-k OPEN:[ italic-x PUNCT:, italic-y CLOSE:]</annotation><annotation encoding=\"application/x-tex\" id=\"Thmproposition4.p1.1.1.m1.1d\">f\\in k[x,y]</annotation></semantics></math> be nonzero and <math id=\"Thmproposition4.p1.1.1.m2.1\" class=\"ltx_Math\" alttext=\"S\\subset k^{2}\" display=\"inline\"><semantics id=\"Thmproposition4.p1.1.1.m2.1a\"><mrow id=\"Thmproposition4.p1.1.1.m2.1.5\" xref=\"Thmproposition4.p1.1.1.m2.1.5.cmml\"><mi id=\"Thmproposition4.p1.1.1.m2.1.1\" xref=\"Thmproposition4.p1.1.1.m2.1.1.cmml\">S</mi><mo mathvariant=\"normal\" id=\"Thmproposition4.p1.1.1.m2.1.2\" xref=\"Thmproposition4.p1.1.1.m2.1.2.cmml\">&#8834;</mo><msup id=\"Thmproposition4.p1.1.1.m2.1.5.1\" xref=\"Thmproposition4.p1.1.1.m2.1.5.1.cmml\"><mi id=\"Thmproposition4.p1.1.1.m2.1.3\" xref=\"Thmproposition4.p1.1.1.m2.1.3.cmml\">k</mi><mn mathvariant=\"normal\" id=\"Thmproposition4.p1.1.1.m2.1.4.1\" xref=\"Thmproposition4.p1.1.1.m2.1.4.1.cmml\">2</mn></msup></mrow><annotation-xml encoding=\"MathML-Content\" id=\"Thmproposition4.p1.1.1.m2.1b\"><apply id=\"Thmproposition4.p1.1.1.m2.1.5.cmml\" xref=\"Thmproposition4.p1.1.1.m2.1.5\"><subset id=\"Thmproposition4.p1.1.1.m2.1.2.cmml\" xref=\"Thmproposition4.p1.1.1.m2.1.2\"/><ci id=\"Thmproposition4.p1.1.1.m2.1.1.cmml\" xref=\"Thmproposition4.p1.1.1.m2.1.1\">&#119878;</ci><apply id=\"Thmproposition4.p1.1.1.m2.1.5.1.cmml\" xref=\"Thmproposition4.p1.1.1.m2.1.5.1\"><csymbol cd=\"ambiguous\" id=\"Thmproposition4.p1.1.1.m2.1.5.1.1.cmml\" xref=\"Thmproposition4.p1.1.1.m2.1.5.1\">superscript</csymbol><ci id=\"Thmproposition4.p1.1.1.m2.1.3.cmml\" xref=\"Thmproposition4.p1.1.1.m2.1.3\">&#119896;</ci><cn type=\"integer\" id=\"Thmproposition4.p1.1.1.m2.1.4.1.cmml\" xref=\"Thmproposition4.p1.1.1.m2.1.4.1\">2</cn></apply></apply></annotation-xml><annotation encoding=\"application/x-llamapun\" id=\"Thmproposition4.p1.1.1.m2.1c\">italic-S RELOP:subset-of italic-k POSTSUPERSCRIPT:start NUMBER:2 POSTSUPERSCRIPT:end</annotation><annotation encoding=\"application/x-tex\" id=\"Thmproposition4.p1.1.1.m2.1d\">S\\subset k^{2}</annotation></semantics></math> be connected. If <math id=\"Thmproposition4.p1.1.1.m3.1\" class=\"ltx_Math\" alttext=\"f\" display=\"inline\"><semantics id=\"Thmproposition4.p1.1.1.m3.1a\"><mi id=\"Thmproposition4.p1.1.1.m3.1.1\" xref=\"Thmproposition4.p1.1.1.m3.1.1.cmml\">f</mi><annotation-xml encoding=\"MathML-Content\" id=\"Thmproposition4.p1.1.1.m3.1b\"><ci id=\"Thmproposition4.p1.1.1.m3.1.1.cmml\" xref=\"Thmproposition4.p1.1.1.m3.1.1\">&#119891;</ci></annotation-xml><annotation encoding=\"application/x-llamapun\" id=\"Thmproposition4.p1.1.1.m3.1c\">italic-f</annotation><annotation encoding=\"application/x-tex\" id=\"Thmproposition4.p1.1.1.m3.1d\">f</annotation></semantics></math> is\n",
      "valuation-invariant in <math id=\"Thmproposition4.p1.1.1.m4.1\" class=\"ltx_Math\" alttext=\"S\" display=\"inline\"><semantics id=\"Thmproposition4.p1.1.1.m4.1a\"><mi id=\"Thmproposition4.p1.1.1.m4.1.1\" xref=\"Thmproposition4.p1.1.1.m4.1.1.cmml\">S</mi><annotation-xml encoding=\"MathML-Content\" id=\"Thmproposition4.p1.1.1.m4.1b\"><ci id=\"Thmproposition4.p1.1.1.m4.1.1.cmml\" xref=\"Thmproposition4.p1.1.1.m4.1.1\">&#119878;</ci></annotation-xml><annotation encoding=\"application/x-llamapun\" id=\"Thmproposition4.p1.1.1.m4.1c\">italic-S</annotation><annotation encoding=\"application/x-tex\" id=\"Thmproposition4.p1.1.1.m4.1d\">S</annotation></semantics></math> then <math id=\"Thmproposition4.p1.1.1.m5.1\" class=\"ltx_Math\" alttext=\"f\" display=\"inline\"><semantics id=\"Thmproposition4.p1.1.1.m5.1a\"><mi id=\"Thmproposition4.p1.1.1.m5.1.1\" xref=\"Thmproposition4.p1.1.1.m5.1.1.cmml\">f</mi><annotation-xml encoding=\"MathML-Content\" id=\"Thmproposition4.p1.1.1.m5.1b\"><ci id=\"Thmproposition4.p1.1.1.m5.1.1.cmml\" xref=\"Thmproposition4.p1.1.1.m5.1.1\">&#119891;</ci></annotation-xml><annotation encoding=\"application/x-llamapun\" id=\"Thmproposition4.p1.1.1.m5.1c\">italic-f</annotation><annotation encoding=\"application/x-tex\" id=\"Thmproposition4.p1.1.1.m5.1d\">f</annotation></semantics></math> is order-invariant in <math id=\"Thmproposition4.p1.1.1.m6.1\" class=\"ltx_Math\" alttext=\"S\" display=\"inline\"><semantics id=\"Thmproposition4.p1.1.1.m6.1a\"><mi id=\"Thmproposition4.p1.1.1.m6.1.1\" xref=\"Thmproposition4.p1.1.1.m6.1.1.cmml\">S</mi><annotation-xml encoding=\"MathML-Content\" id=\"Thmproposition4.p1.1.1.m6.1b\"><ci id=\"Thmproposition4.p1.1.1.m6.1.1.cmml\" xref=\"Thmproposition4.p1.1.1.m6.1.1\">&#119878;</ci></annotation-xml><annotation encoding=\"application/x-llamapun\" id=\"Thmproposition4.p1.1.1.m6.1c\">italic-S</annotation><annotation encoding=\"application/x-tex\" id=\"Thmproposition4.p1.1.1.m6.1d\">S</annotation></semantics></math>.</span>\n",
      "</p>\n",
      "\n",
      "\n"
     ]
    }
   ],
   "source": [
    "print(etree.tostring(p_lst[29], pretty_print=True ).decode('utf8'))"
   ]
  },
  {
   "cell_type": "code",
   "execution_count": 6,
   "metadata": {},
   "outputs": [
    {
     "name": "stdout",
     "output_type": "stream",
     "text": [
      "span Let  None\n"
     ]
    }
   ],
   "source": [
    "for t in list(p_lst[29]):\n",
    "    print(t.tag, t.text, t.tail)"
   ]
  },
  {
   "cell_type": "code",
   "execution_count": 108,
   "metadata": {},
   "outputs": [],
   "source": [
    "empty_if_none = lambda s: s if s else ''\n",
    "\n",
    "def recutext2(root, nsstr='{http://dlmf.nist.gov/LaTeXML}'):\n",
    "    ret_str = '' #empty_if_none(root.text)\n",
    "    for el in root.children:\n",
    "        if el.name != (nsstr + 'Math'):\n",
    "            ret_str += empty_if_none(el.text)\n",
    "            ret_str += empty_if_none(el.tail)\n",
    "            ret_str += recutext2(el, nsstr)\n",
    "        else:\n",
    "            ret_str += empty_if_none(el.tail)\n",
    "    return ret_str.lower().replace('\\n', ' ')\n",
    "\n"
   ]
  },
  {
   "cell_type": "code",
   "execution_count": 151,
   "metadata": {
    "scrolled": true
   },
   "outputs": [],
   "source": [
    "etree.tostring?"
   ]
  },
  {
   "cell_type": "code",
   "execution_count": null,
   "metadata": {},
   "outputs": [],
   "source": []
  }
 ],
 "metadata": {
  "kernelspec": {
   "display_name": "Python 3",
   "language": "python",
   "name": "python3"
  },
  "language_info": {
   "codemirror_mode": {
    "name": "ipython",
    "version": 3
   },
   "file_extension": ".py",
   "mimetype": "text/x-python",
   "name": "python",
   "nbconvert_exporter": "python",
   "pygments_lexer": "ipython3",
   "version": "3.7.1"
  }
 },
 "nbformat": 4,
 "nbformat_minor": 2
}
