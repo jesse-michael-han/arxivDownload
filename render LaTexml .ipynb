{
 "cells": [
  {
   "cell_type": "code",
   "execution_count": 18,
   "metadata": {},
   "outputs": [],
   "source": [
    "import xml.etree.ElementTree as ET\n",
    "import pandas as pd\n",
    "with open('../2004_ends_with_3/math.0412433/math.0412433.xml', 'r') as fxml:\n",
    "    exml = ET.parse(fxml)"
   ]
  },
  {
   "cell_type": "code",
   "execution_count": 26,
   "metadata": {},
   "outputs": [
    {
     "name": "stdout",
     "output_type": "stream",
     "text": [
      "{http://dlmf.nist.gov/LaTeXML}theorem   ---  \n",
      "      \n",
      "{http://dlmf.nist.gov/LaTeXML}theorem   ---  \n",
      "      \n",
      "{http://dlmf.nist.gov/LaTeXML}theorem   ---  \n",
      "      \n",
      "{http://dlmf.nist.gov/LaTeXML}theorem   ---  \n",
      "      \n",
      "{http://dlmf.nist.gov/LaTeXML}theorem   ---  \n",
      "      \n",
      "{http://dlmf.nist.gov/LaTeXML}theorem   ---  \n",
      "      \n",
      "{http://dlmf.nist.gov/LaTeXML}theorem   ---  \n",
      "      \n",
      "{http://dlmf.nist.gov/LaTeXML}theorem   ---  \n",
      "      \n",
      "{http://dlmf.nist.gov/LaTeXML}theorem   ---  \n",
      "      \n",
      "{http://dlmf.nist.gov/LaTeXML}theorem   ---  \n",
      "      \n",
      "{http://dlmf.nist.gov/LaTeXML}theorem   ---  \n",
      "      \n"
     ]
    }
   ],
   "source": [
    "for e in exml.iter():\n",
    "    if 'theorem' in e.tag:\n",
    "        print(e.tag, '  --- ', e.text)"
   ]
  },
  {
   "cell_type": "code",
   "execution_count": 29,
   "metadata": {},
   "outputs": [],
   "source": [
    "exml.find('{http://dlmf.nist.gov/LaTeXML}theorem')"
   ]
  },
  {
   "cell_type": "code",
   "execution_count": null,
   "metadata": {},
   "outputs": [],
   "source": []
  }
 ],
 "metadata": {
  "kernelspec": {
   "display_name": "Python 3",
   "language": "python",
   "name": "python3"
  },
  "language_info": {
   "codemirror_mode": {
    "name": "ipython",
    "version": 3
   },
   "file_extension": ".py",
   "mimetype": "text/x-python",
   "name": "python",
   "nbconvert_exporter": "python",
   "pygments_lexer": "ipython3",
   "version": "3.7.0"
  }
 },
 "nbformat": 4,
 "nbformat_minor": 2
}
