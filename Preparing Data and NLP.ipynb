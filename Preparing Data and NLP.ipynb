{
 "cells": [
  {
   "cell_type": "code",
   "execution_count": 44,
   "metadata": {},
   "outputs": [],
   "source": [
    "# Modules\n",
    "import xml.etree.ElementTree as ET\n",
    "import random\n",
    "import os\n",
    "import glob"
   ]
  },
  {
   "cell_type": "code",
   "execution_count": 2,
   "metadata": {},
   "outputs": [],
   "source": [
    "%load_ext autoreload\n",
    "%autoreload 2"
   ]
  },
  {
   "cell_type": "code",
   "execution_count": 4,
   "metadata": {},
   "outputs": [],
   "source": [
    "# Local\n",
    "import parsing_xml as px"
   ]
  },
  {
   "cell_type": "code",
   "execution_count": 5,
   "metadata": {},
   "outputs": [],
   "source": [
    "exml = ET.parse('tests/latexmled_files/math.0407523.xml')"
   ]
  },
  {
   "cell_type": "code",
   "execution_count": 39,
   "metadata": {},
   "outputs": [],
   "source": [
    "ns = {'latexml': 'http://dlmf.nist.gov/LaTeXML' }\n",
    "para_lst_nonrand = exml.findall('.//latexml:para',ns)\n",
    "para_lst = random.sample(para_lst, 10)"
   ]
  },
  {
   "cell_type": "code",
   "execution_count": 40,
   "metadata": {},
   "outputs": [
    {
     "data": {
      "text/plain": [
       "['       theorem b [corollary   and theorem ]suppose that  and . for all  such that                     ',\n",
       " '     proof. (i) is standard, while (ii) follows at once from lemma .',\n",
       " 'it remains to prove (iv) and (v). when      , the necessity of the conditions () and () has already been proved in lemma , [ and lemma , lemma 4.1]. for , () and () both reduce to , which is a necessary condition for non-emptiness by [., remark 5.7]',\n",
       " '     proof. (i) follows from proposition  and corollary . for (ii), note that . finally, for (iii), recall that  and  because  is a principally polarized abelian variety. ∎',\n",
       " '         suppose that  and that ( holds. then, ) and  are smooth and irreducible. moreover these varieties are isomorphic outside subvarieties of codimension at least .',\n",
       " '(ii) is proved by interchanging the subscripts       in the proof of (i) ∎',\n",
       " '             if , .',\n",
       " '             if , .',\n",
       " '             ,',\n",
       " 'now the        -semistability criterion implies that  and hence                       or equivalently                              since        , we necessarily have  and the above inequality gives                       using the inequalities      ,  and the condition , we obtain (i).']"
      ]
     },
     "execution_count": 40,
     "metadata": {},
     "output_type": "execute_result"
    }
   ],
   "source": [
    "[px.recutext1(par) for par in para_lst]"
   ]
  },
  {
   "cell_type": "code",
   "execution_count": 54,
   "metadata": {},
   "outputs": [
    {
     "name": "stdout",
     "output_type": "stream",
     "text": [
      "article ../2004_ends_with_3/math.0412073/psfrag.xml has few paragraphs\n",
      "article ../2004_ends_with_3/math.0412073/bibliography.xml has few paragraphs\n",
      "article ../2004_ends_with_3/math.0412073/preamble.xml has few paragraphs\n",
      "article ../2004_ends_with_3/math.0412533/gtoutput.xml has few paragraphs\n"
     ]
    }
   ],
   "source": [
    "out_file = open('../out_rand.txt','a')\n",
    "ns = {'latexml': 'http://dlmf.nist.gov/LaTeXML' }\n",
    "for f in glob.glob('../2004_ends_with_3/*/*.xml'):\n",
    "    try:\n",
    "        exml = ET.parse(f)\n",
    "        para_lst_nonrand = exml.findall('.//latexml:para',ns)\n",
    "        para_lst = random.sample(para_lst_nonrand, 2)\n",
    "        for p in para_lst:\n",
    "            out_file.write(px.recutext1(p) + \"\\n\")\n",
    "    except ET.ParseError:\n",
    "        pass\n",
    "    except ValueError:\n",
    "        print('article %s has few paragraphs'%f)\n",
    "out_file.close()"
   ]
  },
  {
   "cell_type": "code",
   "execution_count": 48,
   "metadata": {},
   "outputs": [
    {
     "data": {
      "text/plain": [
       "['../2004_ends_with_3/math.0406533/june25.xml',\n",
       " '../2004_ends_with_3/math.0401443/math.0401443.xml',\n",
       " '../2004_ends_with_3/math.0404453/math.0404453.xml',\n",
       " '../2004_ends_with_3/math.0411373/weakhs2.xml',\n",
       " '../2004_ends_with_3/math.0411213/math.0411213.xml',\n",
       " '../2004_ends_with_3/math.0402143/math.0402143.xml',\n",
       " '../2004_ends_with_3/math.0412103/math.0412103.xml',\n",
       " '../2004_ends_with_3/math.0410133/math.0410133.xml',\n",
       " '../2004_ends_with_3/math.0405303/math.0405303.xml',\n",
       " '../2004_ends_with_3/math.0405073/29juni08goodcomp.xml',\n",
       " '../2004_ends_with_3/math.0410203/cluckers_loeser_inv_final.xml',\n",
       " '../2004_ends_with_3/math.0403543/ryb-final.xml',\n",
       " '../2004_ends_with_3/math.0410283/math.0410283.xml',\n",
       " '../2004_ends_with_3/math.0404463/t2new.xml',\n",
       " '../2004_ends_with_3/math.0412503/math.0412503.xml',\n",
       " '../2004_ends_with_3/math.0407123/math.0407123.xml',\n",
       " '../2004_ends_with_3/math.0407143/nbCarreDePoints.xml',\n",
       " '../2004_ends_with_3/math.0409243/math.0409243.xml',\n",
       " '../2004_ends_with_3/math.0407193/math.0407193.xml',\n",
       " '../2004_ends_with_3/math.0403033/math.0403033.xml',\n",
       " '../2004_ends_with_3/math.0410393/paper.xml',\n",
       " '../2004_ends_with_3/math.0412073/psfrag.xml',\n",
       " '../2004_ends_with_3/math.0412073/bibliography.xml',\n",
       " '../2004_ends_with_3/math.0412073/preamble.xml',\n",
       " '../2004_ends_with_3/math.0412073/anformula.xml',\n",
       " '../2004_ends_with_3/math.0403153/math.0403153.xml',\n",
       " '../2004_ends_with_3/math.0405233/th.xml',\n",
       " '../2004_ends_with_3/math.0409053/math.0409053.xml',\n",
       " '../2004_ends_with_3/math.0408123/math.0408123.xml',\n",
       " '../2004_ends_with_3/math.0407523/math.0407523.xml',\n",
       " '../2004_ends_with_3/math.0402373/math.0402373.xml',\n",
       " '../2004_ends_with_3/math.0409123/survey_4.xml',\n",
       " '../2004_ends_with_3/math.0402453/math.0402453.xml',\n",
       " '../2004_ends_with_3/math.0408283/math.0408283.xml',\n",
       " '../2004_ends_with_3/math.0403553/math.0403553.xml',\n",
       " '../2004_ends_with_3/math.0410383/math.0410383.xml',\n",
       " '../2004_ends_with_3/math.0407323/math.0407323.xml',\n",
       " '../2004_ends_with_3/math.0404393/tancone.xml',\n",
       " '../2004_ends_with_3/math.0407253/publication.xml',\n",
       " '../2004_ends_with_3/math.0402363/math.0402363.xml',\n",
       " '../2004_ends_with_3/math.0412533/gtoutput.xml',\n",
       " '../2004_ends_with_3/math.0412533/2005-14.xml',\n",
       " '../2004_ends_with_3/math.0412523/math.0412523.xml',\n",
       " '../2004_ends_with_3/math.0407033/phylogeneticag.xml',\n",
       " '../2004_ends_with_3/math.0405093/math.0405093.xml',\n",
       " '../2004_ends_with_3/math.0403173/math.0403173.xml',\n",
       " '../2004_ends_with_3/math.0410513/math.0410513.xml',\n",
       " '../2004_ends_with_3/math.0407343/math.0407343.xml',\n",
       " '../2004_ends_with_3/math.0406383/math.0406383.xml',\n",
       " '../2004_ends_with_3/math.0411073/vertices.xml',\n",
       " '../2004_ends_with_3/math.0406143/math.0406143.xml',\n",
       " '../2004_ends_with_3/math.0401173/math.0401173.xml',\n",
       " '../2004_ends_with_3/math.0409373/lambdaconn.xml',\n",
       " '../2004_ends_with_3/math.0404373/math.0404373.xml',\n",
       " '../2004_ends_with_3/math.0410313/math.0410313.xml',\n",
       " '../2004_ends_with_3/math.0404363/PullbackHG.xml',\n",
       " '../2004_ends_with_3/math.0405223/math.0405223.xml',\n",
       " '../2004_ends_with_3/math.0412433/math.0412433.xml',\n",
       " '../2004_ends_with_3/math.0411573/math.0411573.xml',\n",
       " '../2004_ends_with_3/math.0407293/math.0407293.xml',\n",
       " '../2004_ends_with_3/math.0406493/math.0406493.xml',\n",
       " '../2004_ends_with_3/math.0401403/implicitjalg.xml',\n",
       " '../2004_ends_with_3/math.0405113/math.0405113.xml',\n",
       " '../2004_ends_with_3/math.0410613/headers.xml',\n",
       " '../2004_ends_with_3/math.0410613/chap-iv.xml',\n",
       " '../2004_ends_with_3/math.0406113/math.0406113.xml',\n",
       " '../2004_ends_with_3/math.0403313/math.0403313.xml',\n",
       " '../2004_ends_with_3/math.0409493/deu.xml',\n",
       " '../2004_ends_with_3/math.0407113/jets1.xml',\n",
       " '../2004_ends_with_3/math.0402243/math.0402243.xml',\n",
       " '../2004_ends_with_3/math.0402043/math.0402043.xml',\n",
       " '../2004_ends_with_3/math.0410223/miami_16_07_2004.xml',\n",
       " '../2004_ends_with_3/math.0410323/headerstemplate.xml',\n",
       " '../2004_ends_with_3/math.0410323/crys-lex.xml',\n",
       " '../2004_ends_with_3/math.0411613/math.0411613.xml',\n",
       " '../2004_ends_with_3/math.0405453/math.0405453.xml']"
      ]
     },
     "execution_count": 48,
     "metadata": {},
     "output_type": "execute_result"
    }
   ],
   "source": [
    "glob.glob('../2004_ends_with_3/*/*.xml')"
   ]
  },
  {
   "cell_type": "code",
   "execution_count": null,
   "metadata": {},
   "outputs": [],
   "source": []
  }
 ],
 "metadata": {
  "kernelspec": {
   "display_name": "Python 3",
   "language": "python",
   "name": "python3"
  },
  "language_info": {
   "codemirror_mode": {
    "name": "ipython",
    "version": 3
   },
   "file_extension": ".py",
   "mimetype": "text/x-python",
   "name": "python",
   "nbconvert_exporter": "python",
   "pygments_lexer": "ipython3",
   "version": "3.7.0"
  }
 },
 "nbformat": 4,
 "nbformat_minor": 2
}
