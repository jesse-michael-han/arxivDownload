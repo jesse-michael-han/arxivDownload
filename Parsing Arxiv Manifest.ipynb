{
 "cells": [
  {
   "cell_type": "code",
   "execution_count": 5,
   "metadata": {},
   "outputs": [],
   "source": [
    "import xml.etree.ElementTree as ET\n",
    "import pandas as pd\n",
    "with open('./arXiv_src_manifest.xml', 'r') as f:\n",
    "    mani = ET.parse(f)"
   ]
  },
  {
   "cell_type": "code",
   "execution_count": 15,
   "metadata": {},
   "outputs": [],
   "source": [
    "root = mani.getroot()\n",
    "def parse_element(elem):\n",
    "    return_dict = {}\n",
    "    for e in elem:\n",
    "        return_dict[e.tag] = e.text\n",
    "    return return_dict\n",
    "def parse_root(root):\n",
    "        return [parse_element(child) for child in iter(root) if child.tag != 'timestamp']\n",
    "\n",
    "filedf = pd.DataFrame(parse_root(root))\n",
    "filedf[['num_items', 'size']] = filedf[['num_items', 'size']].astype(int)\n",
    "filedf['filename'] = filedf['filename'].astype(str)"
   ]
  },
  {
   "cell_type": "code",
   "execution_count": 16,
   "metadata": {},
   "outputs": [],
   "source": [
    "import hashlib "
   ]
  },
  {
   "cell_type": "code",
   "execution_count": 71,
   "metadata": {},
   "outputs": [
    {
     "data": {
      "text/plain": [
       "'fe34df50d3426c745ea9a8b5ed924859'"
      ]
     },
     "execution_count": 71,
     "metadata": {},
     "output_type": "execute_result"
    }
   ],
   "source": [
    "hash_md5 = hashlib.md5()\n",
    "with open('../arXiv_src_1804_001.tar', \"rb\") as f:\n",
    "    for chunk in iter(lambda: f.read(4096), b\"\"):\n",
    "        hash_md5.update(chunk)\n",
    "hash_md5.hexdigest()"
   ]
  },
  {
   "cell_type": "code",
   "execution_count": 72,
   "metadata": {},
   "outputs": [
    {
     "data": {
      "text/html": [
       "<div>\n",
       "<style scoped>\n",
       "    .dataframe tbody tr th:only-of-type {\n",
       "        vertical-align: middle;\n",
       "    }\n",
       "\n",
       "    .dataframe tbody tr th {\n",
       "        vertical-align: top;\n",
       "    }\n",
       "\n",
       "    .dataframe thead th {\n",
       "        text-align: right;\n",
       "    }\n",
       "</style>\n",
       "<table border=\"1\" class=\"dataframe\">\n",
       "  <thead>\n",
       "    <tr style=\"text-align: right;\">\n",
       "      <th></th>\n",
       "      <th>content_md5sum</th>\n",
       "      <th>filename</th>\n",
       "      <th>first_item</th>\n",
       "      <th>last_item</th>\n",
       "      <th>md5sum</th>\n",
       "      <th>num_items</th>\n",
       "      <th>seq_num</th>\n",
       "      <th>size</th>\n",
       "      <th>timestamp</th>\n",
       "      <th>yymm</th>\n",
       "    </tr>\n",
       "  </thead>\n",
       "  <tbody>\n",
       "    <tr>\n",
       "      <th>1742</th>\n",
       "      <td>d2ca6595ddb8055262ea1c6adf4cd4e3</td>\n",
       "      <td>src/arXiv_src_1804_001.tar</td>\n",
       "      <td>1804.00001</td>\n",
       "      <td>1804.00262</td>\n",
       "      <td>fe34df50d3426c745ea9a8b5ed924859</td>\n",
       "      <td>262</td>\n",
       "      <td>1</td>\n",
       "      <td>526207253</td>\n",
       "      <td>2018-06-05 04:56:42</td>\n",
       "      <td>1804</td>\n",
       "    </tr>\n",
       "  </tbody>\n",
       "</table>\n",
       "</div>"
      ],
      "text/plain": [
       "                        content_md5sum                    filename  \\\n",
       "1742  d2ca6595ddb8055262ea1c6adf4cd4e3  src/arXiv_src_1804_001.tar   \n",
       "\n",
       "      first_item   last_item                            md5sum  num_items  \\\n",
       "1742  1804.00001  1804.00262  fe34df50d3426c745ea9a8b5ed924859        262   \n",
       "\n",
       "     seq_num       size            timestamp  yymm  \n",
       "1742       1  526207253  2018-06-05 04:56:42  1804  "
      ]
     },
     "execution_count": 72,
     "metadata": {},
     "output_type": "execute_result"
    }
   ],
   "source": [
    "filedf.loc[filedf['filename'].str.contains('1804_001')]"
   ]
  },
  {
   "cell_type": "code",
   "execution_count": 7,
   "metadata": {},
   "outputs": [],
   "source": [
    "S = filedf['size']"
   ]
  },
  {
   "cell_type": "code",
   "execution_count": 9,
   "metadata": {},
   "outputs": [
    {
     "data": {
      "text/plain": [
       "924382365733"
      ]
     },
     "execution_count": 9,
     "metadata": {},
     "output_type": "execute_result"
    }
   ],
   "source": [
    "S.sum()"
   ]
  },
  {
   "cell_type": "code",
   "execution_count": 46,
   "metadata": {},
   "outputs": [],
   "source": [
    "import subprocess\n",
    "P = subprocess.run(['/bin/s3cmd', 'get', '--requester-pays', 's3://arxiv/src/arXiv_src_1804_006.tar', '..'], \n",
    "                   stderr=subprocess.PIPE,\n",
    "                   stdout=subprocess.PIPE)"
   ]
  },
  {
   "cell_type": "code",
   "execution_count": 41,
   "metadata": {
    "scrolled": true
   },
   "outputs": [
    {
     "data": {
      "text/plain": [
       "b\"download: 's3://arxiv/src/arXiv_src_1804_006sab.tar' -> '../arXiv_src_1804_006sab.tar'  [1 of 1]\\ndownload: 's3://arxiv/src/arXiv_src_1804_006sab.tar' -> '../arXiv_src_1804_006sab.tar'  [1 of 1]\\n\""
      ]
     },
     "execution_count": 41,
     "metadata": {},
     "output_type": "execute_result"
    }
   ],
   "source": [
    "P.stdout"
   ]
  },
  {
   "cell_type": "code",
   "execution_count": 42,
   "metadata": {},
   "outputs": [
    {
     "data": {
      "text/plain": [
       "b'ERROR: S3 error: 404 (NoSuchKey): The specified key does not exist.\\n'"
      ]
     },
     "execution_count": 42,
     "metadata": {},
     "output_type": "execute_result"
    }
   ],
   "source": [
    "P.stderr"
   ]
  },
  {
   "cell_type": "code",
   "execution_count": 45,
   "metadata": {
    "scrolled": true
   },
   "outputs": [
    {
     "ename": "CalledProcessError",
     "evalue": "Command '['/bin/s3cmd', 'get', '--requester-pays', 's3://arxiv/src/arXiv_src_1804_006sab.tar', '..']' returned non-zero exit status 12.",
     "output_type": "error",
     "traceback": [
      "\u001b[0;31m---------------------------------------------------------------------------\u001b[0m",
      "\u001b[0;31mCalledProcessError\u001b[0m                        Traceback (most recent call last)",
      "\u001b[0;32m<ipython-input-45-3e67dcb1c608>\u001b[0m in \u001b[0;36m<module>\u001b[0;34m()\u001b[0m\n\u001b[0;32m----> 1\u001b[0;31m \u001b[0mP\u001b[0m\u001b[0;34m.\u001b[0m\u001b[0mcheck_returncode\u001b[0m\u001b[0;34m(\u001b[0m\u001b[0;34m)\u001b[0m\u001b[0;34m\u001b[0m\u001b[0m\n\u001b[0m",
      "\u001b[0;32m/usr/lib/python3.6/subprocess.py\u001b[0m in \u001b[0;36mcheck_returncode\u001b[0;34m(self)\u001b[0m\n\u001b[1;32m    367\u001b[0m         \u001b[0;32mif\u001b[0m \u001b[0mself\u001b[0m\u001b[0;34m.\u001b[0m\u001b[0mreturncode\u001b[0m\u001b[0;34m:\u001b[0m\u001b[0;34m\u001b[0m\u001b[0m\n\u001b[1;32m    368\u001b[0m             raise CalledProcessError(self.returncode, self.args, self.stdout,\n\u001b[0;32m--> 369\u001b[0;31m                                      self.stderr)\n\u001b[0m\u001b[1;32m    370\u001b[0m \u001b[0;34m\u001b[0m\u001b[0m\n\u001b[1;32m    371\u001b[0m \u001b[0;34m\u001b[0m\u001b[0m\n",
      "\u001b[0;31mCalledProcessError\u001b[0m: Command '['/bin/s3cmd', 'get', '--requester-pays', 's3://arxiv/src/arXiv_src_1804_006sab.tar', '..']' returned non-zero exit status 12."
     ]
    }
   ],
   "source": [
    "P.check_returncode()"
   ]
  },
  {
   "cell_type": "code",
   "execution_count": 19,
   "metadata": {},
   "outputs": [],
   "source": [
    "df = filedf.head()\n",
    "notdf = pd.DataFrame([{'filename': 'src/arXiv_src_0001_001.tar'}])"
   ]
  },
  {
   "cell_type": "code",
   "execution_count": 74,
   "metadata": {},
   "outputs": [
    {
     "data": {
      "text/plain": [
       "content_md5sum    d90df481661ccdd7e8be883796539743\n",
       "filename                src/arXiv_src_0002_001.tar\n",
       "first_item                         astro-ph0002001\n",
       "last_item                          quant-ph0002094\n",
       "md5sum            4592ab506cf775afecf4ad560d982a00\n",
       "num_items                                     2365\n",
       "seq_num                                          1\n",
       "size                                     227036528\n",
       "timestamp                      2010-12-23 00:18:09\n",
       "yymm                                          0002\n",
       "Name: 1, dtype: object"
      ]
     },
     "execution_count": 74,
     "metadata": {},
     "output_type": "execute_result"
    }
   ],
   "source": [
    "idx = df.filename.isin(notdf.filename)\n",
    "df[~idx].iloc[0]"
   ]
  },
  {
   "cell_type": "code",
   "execution_count": 55,
   "metadata": {},
   "outputs": [
    {
     "data": {
      "text/plain": [
       "0    False\n",
       "1     True\n",
       "2    False\n",
       "3    False\n",
       "4    False\n",
       "Name: filename, dtype: bool"
      ]
     },
     "execution_count": 55,
     "metadata": {},
     "output_type": "execute_result"
    }
   ],
   "source": [
    "df.filename.isin(notdf.filename)"
   ]
  },
  {
   "cell_type": "code",
   "execution_count": 57,
   "metadata": {},
   "outputs": [],
   "source": [
    "df.to_csv('head_df.csv')"
   ]
  },
  {
   "cell_type": "code",
   "execution_count": 58,
   "metadata": {},
   "outputs": [],
   "source": [
    "notdf.to_csv('notdf.csv')"
   ]
  },
  {
   "cell_type": "code",
   "execution_count": 35,
   "metadata": {},
   "outputs": [
    {
     "name": "stderr",
     "output_type": "stream",
     "text": [
      "/usr/lib/python3.6/site-packages/pandas/core/frame.py:6211: FutureWarning: Sorting because non-concatenation axis is not aligned. A future version\n",
      "of pandas will change to not sort by default.\n",
      "\n",
      "To accept the future behavior, pass 'sort=False'.\n",
      "\n",
      "To retain the current behavior and silence the warning, pass 'sort=True'.\n",
      "\n",
      "  sort=sort)\n"
     ]
    },
    {
     "data": {
      "text/html": [
       "<div>\n",
       "<style scoped>\n",
       "    .dataframe tbody tr th:only-of-type {\n",
       "        vertical-align: middle;\n",
       "    }\n",
       "\n",
       "    .dataframe tbody tr th {\n",
       "        vertical-align: top;\n",
       "    }\n",
       "\n",
       "    .dataframe thead th {\n",
       "        text-align: right;\n",
       "    }\n",
       "</style>\n",
       "<table border=\"1\" class=\"dataframe\">\n",
       "  <thead>\n",
       "    <tr style=\"text-align: right;\">\n",
       "      <th></th>\n",
       "      <th>Unnamed: 0.1</th>\n",
       "      <th>filename</th>\n",
       "    </tr>\n",
       "  </thead>\n",
       "  <tbody>\n",
       "    <tr>\n",
       "      <th>0</th>\n",
       "      <td>NaN</td>\n",
       "      <td>hola</td>\n",
       "    </tr>\n",
       "  </tbody>\n",
       "</table>\n",
       "</div>"
      ],
      "text/plain": [
       "  Unnamed: 0.1 filename\n",
       "0          NaN     hola"
      ]
     },
     "execution_count": 35,
     "metadata": {},
     "output_type": "execute_result"
    }
   ],
   "source": [
    "nondf = pd.read_csv('/home/luis/mountpoint/arXiv_src/downloaded_log.csv',index_col=0)\n",
    "nondf.append(pd.DataFrame([{'filename':'hola'}]), ignore_index=True)"
   ]
  },
  {
   "cell_type": "code",
   "execution_count": 63,
   "metadata": {},
   "outputs": [
    {
     "data": {
      "text/plain": [
       "False"
      ]
     },
     "execution_count": 63,
     "metadata": {},
     "output_type": "execute_result"
    }
   ],
   "source": [
    "import os\n",
    "os.path.ismount('/home/luis/mnt')"
   ]
  },
  {
   "cell_type": "code",
   "execution_count": 39,
   "metadata": {},
   "outputs": [
    {
     "data": {
      "text/html": [
       "<div>\n",
       "<style scoped>\n",
       "    .dataframe tbody tr th:only-of-type {\n",
       "        vertical-align: middle;\n",
       "    }\n",
       "\n",
       "    .dataframe tbody tr th {\n",
       "        vertical-align: top;\n",
       "    }\n",
       "\n",
       "    .dataframe thead th {\n",
       "        text-align: right;\n",
       "    }\n",
       "</style>\n",
       "<table border=\"1\" class=\"dataframe\">\n",
       "  <thead>\n",
       "    <tr style=\"text-align: right;\">\n",
       "      <th></th>\n",
       "      <th>filename</th>\n",
       "    </tr>\n",
       "  </thead>\n",
       "  <tbody>\n",
       "    <tr>\n",
       "      <th>0</th>\n",
       "      <td>src/arXiv_src_0001_001.tar</td>\n",
       "    </tr>\n",
       "  </tbody>\n",
       "</table>\n",
       "</div>"
      ],
      "text/plain": [
       "                     filename\n",
       "0  src/arXiv_src_0001_001.tar"
      ]
     },
     "execution_count": 39,
     "metadata": {},
     "output_type": "execute_result"
    }
   ],
   "source": [
    "notdf"
   ]
  },
  {
   "cell_type": "code",
   "execution_count": 40,
   "metadata": {},
   "outputs": [],
   "source": [
    "#filedf.to_csv('/home/luis/mountpoint/allfiles.csv')\n",
    "notdf.to_csv('/home/luis/mountpoint/arXiv_src/downloaded_log.csv')"
   ]
  },
  {
   "cell_type": "code",
   "execution_count": 1,
   "metadata": {},
   "outputs": [],
   "source": [
    "%load_ext autoreload\n",
    "%autoreload 2"
   ]
  },
  {
   "cell_type": "code",
   "execution_count": 6,
   "metadata": {},
   "outputs": [],
   "source": [
    "from dload import DownloadMan, parse_manifest\n",
    "mountpoint = '/mnt/arXiv_src/'\n",
    "allfiles = 'allfiles.csv'\n",
    "doun = 'downloaded_log.csv'\n",
    "error_log = 'error.log'\n",
    "D = DownloadMan(mountpoint, allfiles, doun, error_log)"
   ]
  },
  {
   "cell_type": "code",
   "execution_count": 5,
   "metadata": {},
   "outputs": [
    {
     "name": "stdout",
     "output_type": "stream",
     "text": [
      "Download of file src/arXiv_src_manifest.xml successful\n"
     ]
    },
    {
     "data": {
      "text/plain": [
       "0"
      ]
     },
     "execution_count": 5,
     "metadata": {},
     "output_type": "execute_result"
    }
   ],
   "source": [
    "D.get_src_manifest()"
   ]
  },
  {
   "cell_type": "code",
   "execution_count": 10,
   "metadata": {},
   "outputs": [
    {
     "data": {
      "text/plain": [
       "False"
      ]
     },
     "execution_count": 10,
     "metadata": {},
     "output_type": "execute_result"
    }
   ],
   "source": [
    "D.check_md5()"
   ]
  },
  {
   "cell_type": "code",
   "execution_count": 7,
   "metadata": {},
   "outputs": [],
   "source": [
    "new_all = parse_manifest('/mnt/arXiv_src/src/arXiv_src_manifest.xml')"
   ]
  },
  {
   "cell_type": "code",
   "execution_count": 12,
   "metadata": {},
   "outputs": [
    {
     "data": {
      "text/plain": [
       "'1b621f41cd46b9d3388351ba9e3aefaf'"
      ]
     },
     "execution_count": 12,
     "metadata": {},
     "output_type": "execute_result"
    }
   ],
   "source": [
    "fname = 'src/arXiv_src_1607_002.tar'\n",
    "D.md5sum(fname)"
   ]
  },
  {
   "cell_type": "code",
   "execution_count": 13,
   "metadata": {},
   "outputs": [
    {
     "data": {
      "text/html": [
       "<div>\n",
       "<style scoped>\n",
       "    .dataframe tbody tr th:only-of-type {\n",
       "        vertical-align: middle;\n",
       "    }\n",
       "\n",
       "    .dataframe tbody tr th {\n",
       "        vertical-align: top;\n",
       "    }\n",
       "\n",
       "    .dataframe thead th {\n",
       "        text-align: right;\n",
       "    }\n",
       "</style>\n",
       "<table border=\"1\" class=\"dataframe\">\n",
       "  <thead>\n",
       "    <tr style=\"text-align: right;\">\n",
       "      <th></th>\n",
       "      <th>content_md5sum</th>\n",
       "      <th>filename</th>\n",
       "      <th>first_item</th>\n",
       "      <th>last_item</th>\n",
       "      <th>md5sum</th>\n",
       "      <th>num_items</th>\n",
       "      <th>seq_num</th>\n",
       "      <th>size</th>\n",
       "      <th>timestamp</th>\n",
       "      <th>yymm</th>\n",
       "    </tr>\n",
       "  </thead>\n",
       "  <tbody>\n",
       "    <tr>\n",
       "      <th>1218</th>\n",
       "      <td>8979b2424c6d31c8be791aa675ef05ba</td>\n",
       "      <td>src/arXiv_src_1607_002.tar</td>\n",
       "      <td>1607.00463</td>\n",
       "      <td>1607.00988</td>\n",
       "      <td>a29303e80c4f753e17209a9f6238f2c5</td>\n",
       "      <td>526</td>\n",
       "      <td>2</td>\n",
       "      <td>545216578</td>\n",
       "      <td>2017-07-05 05:41:14</td>\n",
       "      <td>1607</td>\n",
       "    </tr>\n",
       "  </tbody>\n",
       "</table>\n",
       "</div>"
      ],
      "text/plain": [
       "                        content_md5sum                    filename  \\\n",
       "1218  8979b2424c6d31c8be791aa675ef05ba  src/arXiv_src_1607_002.tar   \n",
       "\n",
       "      first_item   last_item                            md5sum  num_items  \\\n",
       "1218  1607.00463  1607.00988  a29303e80c4f753e17209a9f6238f2c5        526   \n",
       "\n",
       "      seq_num       size            timestamp  yymm  \n",
       "1218        2  545216578  2017-07-05 05:41:14  1607  "
      ]
     },
     "execution_count": 13,
     "metadata": {},
     "output_type": "execute_result"
    }
   ],
   "source": [
    "D.allfiles_df[D.allfiles_df.filename == fname]"
   ]
  },
  {
   "cell_type": "code",
   "execution_count": 14,
   "metadata": {},
   "outputs": [
    {
     "data": {
      "text/html": [
       "<div>\n",
       "<style scoped>\n",
       "    .dataframe tbody tr th:only-of-type {\n",
       "        vertical-align: middle;\n",
       "    }\n",
       "\n",
       "    .dataframe tbody tr th {\n",
       "        vertical-align: top;\n",
       "    }\n",
       "\n",
       "    .dataframe thead th {\n",
       "        text-align: right;\n",
       "    }\n",
       "</style>\n",
       "<table border=\"1\" class=\"dataframe\">\n",
       "  <thead>\n",
       "    <tr style=\"text-align: right;\">\n",
       "      <th></th>\n",
       "      <th>content_md5sum</th>\n",
       "      <th>filename</th>\n",
       "      <th>first_item</th>\n",
       "      <th>last_item</th>\n",
       "      <th>md5sum</th>\n",
       "      <th>num_items</th>\n",
       "      <th>seq_num</th>\n",
       "      <th>size</th>\n",
       "      <th>timestamp</th>\n",
       "      <th>yymm</th>\n",
       "    </tr>\n",
       "  </thead>\n",
       "  <tbody>\n",
       "    <tr>\n",
       "      <th>1218</th>\n",
       "      <td>2446538d56ddee4f0e28ee65937b6189</td>\n",
       "      <td>src/arXiv_src_1607_002.tar</td>\n",
       "      <td>1607.00463</td>\n",
       "      <td>1607.00988</td>\n",
       "      <td>1b621f41cd46b9d3388351ba9e3aefaf</td>\n",
       "      <td>526</td>\n",
       "      <td>2</td>\n",
       "      <td>556653925</td>\n",
       "      <td>2018-07-05 06:37:36</td>\n",
       "      <td>1607</td>\n",
       "    </tr>\n",
       "  </tbody>\n",
       "</table>\n",
       "</div>"
      ],
      "text/plain": [
       "                        content_md5sum                    filename  \\\n",
       "1218  2446538d56ddee4f0e28ee65937b6189  src/arXiv_src_1607_002.tar   \n",
       "\n",
       "      first_item   last_item                            md5sum num_items  \\\n",
       "1218  1607.00463  1607.00988  1b621f41cd46b9d3388351ba9e3aefaf       526   \n",
       "\n",
       "     seq_num       size            timestamp  yymm  \n",
       "1218       2  556653925  2018-07-05 06:37:36  1607  "
      ]
     },
     "execution_count": 14,
     "metadata": {},
     "output_type": "execute_result"
    }
   ],
   "source": [
    "new_all[new_all.filename == fname]"
   ]
  },
  {
   "cell_type": "code",
   "execution_count": 22,
   "metadata": {},
   "outputs": [
    {
     "data": {
      "text/plain": [
       "'5c0c499b3cc7c4961e522aa55e8974a5'"
      ]
     },
     "execution_count": 22,
     "metadata": {},
     "output_type": "execute_result"
    }
   ],
   "source": [
    "D.allfiles_df[D.allfiles_df.filename == fname].md5sum.iloc[0]"
   ]
  },
  {
   "cell_type": "code",
   "execution_count": 24,
   "metadata": {},
   "outputs": [
    {
     "data": {
      "text/plain": [
       "116.614211313"
      ]
     },
     "execution_count": 24,
     "metadata": {},
     "output_type": "execute_result"
    }
   ],
   "source": [
    "sum([D.filesize(fn[0]) for fn in list(D.downloaded_df.values)])/1e9"
   ]
  },
  {
   "cell_type": "code",
   "execution_count": null,
   "metadata": {
    "scrolled": true
   },
   "outputs": [
    {
     "name": "stdout",
     "output_type": "stream",
     "text": [
      "Dowloand of file src/arXiv_src_0003_001.tar successful\n",
      "Dowloand of file src/arXiv_src_0004_001.tar successful\n",
      "Dowloand of file src/arXiv_src_0005_001.tar successful\n",
      "Dowloand of file src/arXiv_src_0006_001.tar successful\n",
      "Dowloand of file src/arXiv_src_0007_001.tar successful\n",
      "Dowloand of file src/arXiv_src_0008_001.tar successful\n",
      "Dowloand of file src/arXiv_src_0009_001.tar successful\n",
      "Dowloand of file src/arXiv_src_0010_001.tar successful\n",
      "Dowloand of file src/arXiv_src_0011_001.tar successful\n",
      "Dowloand of file src/arXiv_src_0012_001.tar successful\n",
      "Dowloand of file src/arXiv_src_0101_001.tar successful\n",
      "Dowloand of file src/arXiv_src_0102_001.tar successful\n",
      "Dowloand of file src/arXiv_src_0103_001.tar successful\n",
      "Dowloand of file src/arXiv_src_0104_001.tar successful\n",
      "Dowloand of file src/arXiv_src_0105_001.tar successful\n",
      "Dowloand of file src/arXiv_src_0106_001.tar successful\n",
      "Dowloand of file src/arXiv_src_0107_001.tar successful\n",
      "Dowloand of file src/arXiv_src_0108_001.tar successful\n",
      "Dowloand of file src/arXiv_src_0109_001.tar successful\n",
      "Dowloand of file src/arXiv_src_0110_001.tar successful\n",
      "Dowloand of file src/arXiv_src_0111_001.tar successful\n",
      "Dowloand of file src/arXiv_src_0112_001.tar successful\n",
      "Dowloand of file src/arXiv_src_0201_001.tar successful\n",
      "Dowloand of file src/arXiv_src_0202_001.tar successful\n",
      "Dowloand of file src/arXiv_src_0203_001.tar successful\n",
      "Dowloand of file src/arXiv_src_0204_001.tar successful\n",
      "Dowloand of file src/arXiv_src_0205_001.tar successful\n",
      "Dowloand of file src/arXiv_src_0206_001.tar successful\n",
      "Dowloand of file src/arXiv_src_0207_001.tar successful\n",
      "Dowloand of file src/arXiv_src_0208_001.tar successful\n",
      "Dowloand of file src/arXiv_src_0209_001.tar successful\n",
      "Dowloand of file src/arXiv_src_0210_001.tar successful\n",
      "Dowloand of file src/arXiv_src_0211_001.tar successful\n",
      "Dowloand of file src/arXiv_src_0212_001.tar successful\n",
      "Dowloand of file src/arXiv_src_0301_001.tar successful\n",
      "Dowloand of file src/arXiv_src_0302_001.tar successful\n",
      "Dowloand of file src/arXiv_src_0303_001.tar successful\n",
      "Dowloand of file src/arXiv_src_0304_001.tar successful\n",
      "Dowloand of file src/arXiv_src_0305_001.tar successful\n",
      "Dowloand of file src/arXiv_src_0306_001.tar successful\n",
      "Dowloand of file src/arXiv_src_0307_001.tar successful\n",
      "Dowloand of file src/arXiv_src_0308_001.tar successful\n",
      "Dowloand of file src/arXiv_src_0309_001.tar successful\n",
      "Dowloand of file src/arXiv_src_0310_001.tar successful\n",
      "Dowloand of file src/arXiv_src_0311_001.tar successful\n",
      "Dowloand of file src/arXiv_src_0312_001.tar successful\n",
      "Dowloand of file src/arXiv_src_0401_001.tar successful\n",
      "Dowloand of file src/arXiv_src_0402_001.tar successful\n",
      "Dowloand of file src/arXiv_src_0403_001.tar successful\n",
      "Dowloand of file src/arXiv_src_0404_001.tar successful\n",
      "Dowloand of file src/arXiv_src_0405_001.tar successful\n",
      "Dowloand of file src/arXiv_src_0406_001.tar successful\n",
      "Dowloand of file src/arXiv_src_0406_002.tar successful\n",
      "Dowloand of file src/arXiv_src_0407_001.tar successful\n",
      "Dowloand of file src/arXiv_src_0407_002.tar successful\n",
      "Dowloand of file src/arXiv_src_0408_001.tar successful\n",
      "Dowloand of file src/arXiv_src_0409_001.tar successful\n",
      "Dowloand of file src/arXiv_src_0409_002.tar successful\n",
      "Dowloand of file src/arXiv_src_0410_001.tar successful\n",
      "Dowloand of file src/arXiv_src_0410_002.tar successful\n",
      "Dowloand of file src/arXiv_src_0411_001.tar successful\n",
      "Dowloand of file src/arXiv_src_0411_002.tar successful\n",
      "Dowloand of file src/arXiv_src_0412_001.tar successful\n",
      "Dowloand of file src/arXiv_src_0412_002.tar successful\n",
      "Dowloand of file src/arXiv_src_0501_001.tar successful\n",
      "Dowloand of file src/arXiv_src_0501_002.tar successful\n",
      "Dowloand of file src/arXiv_src_0502_001.tar successful\n",
      "Dowloand of file src/arXiv_src_0502_002.tar successful\n",
      "Dowloand of file src/arXiv_src_0503_001.tar successful\n",
      "Dowloand of file src/arXiv_src_0503_002.tar successful\n",
      "Dowloand of file src/arXiv_src_0504_001.tar successful\n",
      "Dowloand of file src/arXiv_src_0504_002.tar successful\n",
      "Dowloand of file src/arXiv_src_0505_001.tar successful\n",
      "Dowloand of file src/arXiv_src_0505_002.tar successful\n",
      "Dowloand of file src/arXiv_src_0506_001.tar successful\n",
      "Dowloand of file src/arXiv_src_0506_002.tar successful\n",
      "Dowloand of file src/arXiv_src_0507_001.tar successful\n",
      "Dowloand of file src/arXiv_src_0507_002.tar successful\n",
      "Dowloand of file src/arXiv_src_0508_001.tar successful\n",
      "Dowloand of file src/arXiv_src_0508_002.tar successful\n"
     ]
    }
   ],
   "source": [
    "keep_going = 0\n",
    "while keep_going == 0:\n",
    "    keep_going = D.get_next()\n",
    "    if D.check_md5():\n",
    "        pass\n",
    "    else:\n",
    "        break"
   ]
  },
  {
   "cell_type": "code",
   "execution_count": 45,
   "metadata": {},
   "outputs": [
    {
     "ename": "AttributeError",
     "evalue": "'NoneType' object has no attribute 'text'",
     "output_type": "error",
     "traceback": [
      "\u001b[0;31m---------------------------------------------------------------------------\u001b[0m",
      "\u001b[0;31mAttributeError\u001b[0m                            Traceback (most recent call last)",
      "\u001b[0;32m<ipython-input-45-4a7c3b7db0bc>\u001b[0m in \u001b[0;36m<module>\u001b[0;34m()\u001b[0m\n\u001b[1;32m      4\u001b[0m \u001b[0mroot\u001b[0m \u001b[0;34m=\u001b[0m \u001b[0mET\u001b[0m\u001b[0;34m.\u001b[0m\u001b[0mfromstring\u001b[0m\u001b[0;34m(\u001b[0m\u001b[0mdata\u001b[0m\u001b[0;34m)\u001b[0m\u001b[0;34m\u001b[0m\u001b[0m\n\u001b[1;32m      5\u001b[0m \u001b[0mres\u001b[0m \u001b[0;34m=\u001b[0m \u001b[0mroot\u001b[0m\u001b[0;34m.\u001b[0m\u001b[0mgetchildren\u001b[0m\u001b[0;34m(\u001b[0m\u001b[0;34m)\u001b[0m\u001b[0;34m[\u001b[0m\u001b[0;34m-\u001b[0m\u001b[0;36m1\u001b[0m\u001b[0;34m]\u001b[0m\u001b[0;34m\u001b[0m\u001b[0m\n\u001b[0;32m----> 6\u001b[0;31m \u001b[0mres\u001b[0m\u001b[0;34m.\u001b[0m\u001b[0mfind\u001b[0m\u001b[0;34m(\u001b[0m\u001b[0;34m'title'\u001b[0m\u001b[0;34m)\u001b[0m\u001b[0;34m.\u001b[0m\u001b[0mtext\u001b[0m\u001b[0;34m\u001b[0m\u001b[0m\n\u001b[0m",
      "\u001b[0;31mAttributeError\u001b[0m: 'NoneType' object has no attribute 'text'"
     ]
    }
   ],
   "source": [
    "import urllib.request as req\n",
    "url = 'http://export.arxiv.org/api/query?search_query=id:1804.00020&start=0&max_results=5'\n",
    "data = req.urlopen(url).read()\n",
    "root = ET.fromstring(data)\n",
    "res = root.getchildren()[-1]\n",
    "res.find('title').text"
   ]
  },
  {
   "cell_type": "code",
   "execution_count": 38,
   "metadata": {
    "collapsed": true
   },
   "outputs": [
    {
     "name": "stdout",
     "output_type": "stream",
     "text": [
      "{http://www.w3.org/2005/Atom}id\n",
      "{http://www.w3.org/2005/Atom}updated\n",
      "{http://www.w3.org/2005/Atom}published\n",
      "{http://www.w3.org/2005/Atom}title\n",
      "{http://www.w3.org/2005/Atom}summary\n",
      "{http://www.w3.org/2005/Atom}author\n",
      "{http://www.w3.org/2005/Atom}author\n",
      "{http://arxiv.org/schemas/atom}comment\n",
      "{http://www.w3.org/2005/Atom}link\n",
      "{http://www.w3.org/2005/Atom}link\n",
      "{http://arxiv.org/schemas/atom}primary_category\n",
      "{http://www.w3.org/2005/Atom}category\n"
     ]
    }
   ],
   "source": [
    "for el in res.getchildren():\n",
    "    print(el.tag)"
   ]
  },
  {
   "cell_type": "code",
   "execution_count": null,
   "metadata": {},
   "outputs": [],
   "source": []
  }
 ],
 "metadata": {
  "kernelspec": {
   "display_name": "Python 3",
   "language": "python",
   "name": "python3"
  },
  "language_info": {
   "codemirror_mode": {
    "name": "ipython",
    "version": 3
   },
   "file_extension": ".py",
   "mimetype": "text/x-python",
   "name": "python",
   "nbconvert_exporter": "python",
   "pygments_lexer": "ipython3",
   "version": "3.6.5"
  }
 },
 "nbformat": 4,
 "nbformat_minor": 2
}
