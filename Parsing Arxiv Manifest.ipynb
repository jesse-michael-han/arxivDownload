{
 "cells": [
  {
   "cell_type": "code",
   "execution_count": 5,
   "metadata": {},
   "outputs": [],
   "source": [
    "import xml.etree.ElementTree as ET\n",
    "import pandas as pd\n",
    "with open('./arXiv_src_manifest.xml', 'r') as f:\n",
    "    mani = ET.parse(f)"
   ]
  },
  {
   "cell_type": "code",
   "execution_count": 15,
   "metadata": {},
   "outputs": [],
   "source": [
    "root = mani.getroot()\n",
    "def parse_element(elem):\n",
    "    return_dict = {}\n",
    "    for e in elem:\n",
    "        return_dict[e.tag] = e.text\n",
    "    return return_dict\n",
    "def parse_root(root):\n",
    "        return [parse_element(child) for child in iter(root) if child.tag != 'timestamp']\n",
    "\n",
    "filedf = pd.DataFrame(parse_root(root))\n",
    "filedf[['num_items', 'size']] = filedf[['num_items', 'size']].astype(int)\n",
    "filedf['filename'] = filedf['filename'].astype(str)"
   ]
  },
  {
   "cell_type": "code",
   "execution_count": 16,
   "metadata": {},
   "outputs": [],
   "source": [
    "import hashlib "
   ]
  },
  {
   "cell_type": "code",
   "execution_count": 71,
   "metadata": {},
   "outputs": [
    {
     "data": {
      "text/plain": [
       "'fe34df50d3426c745ea9a8b5ed924859'"
      ]
     },
     "execution_count": 71,
     "metadata": {},
     "output_type": "execute_result"
    }
   ],
   "source": [
    "hash_md5 = hashlib.md5()\n",
    "with open('../arXiv_src_1804_001.tar', \"rb\") as f:\n",
    "    for chunk in iter(lambda: f.read(4096), b\"\"):\n",
    "        hash_md5.update(chunk)\n",
    "hash_md5.hexdigest()"
   ]
  },
  {
   "cell_type": "code",
   "execution_count": 72,
   "metadata": {},
   "outputs": [
    {
     "data": {
      "text/html": [
       "<div>\n",
       "<style scoped>\n",
       "    .dataframe tbody tr th:only-of-type {\n",
       "        vertical-align: middle;\n",
       "    }\n",
       "\n",
       "    .dataframe tbody tr th {\n",
       "        vertical-align: top;\n",
       "    }\n",
       "\n",
       "    .dataframe thead th {\n",
       "        text-align: right;\n",
       "    }\n",
       "</style>\n",
       "<table border=\"1\" class=\"dataframe\">\n",
       "  <thead>\n",
       "    <tr style=\"text-align: right;\">\n",
       "      <th></th>\n",
       "      <th>content_md5sum</th>\n",
       "      <th>filename</th>\n",
       "      <th>first_item</th>\n",
       "      <th>last_item</th>\n",
       "      <th>md5sum</th>\n",
       "      <th>num_items</th>\n",
       "      <th>seq_num</th>\n",
       "      <th>size</th>\n",
       "      <th>timestamp</th>\n",
       "      <th>yymm</th>\n",
       "    </tr>\n",
       "  </thead>\n",
       "  <tbody>\n",
       "    <tr>\n",
       "      <th>1742</th>\n",
       "      <td>d2ca6595ddb8055262ea1c6adf4cd4e3</td>\n",
       "      <td>src/arXiv_src_1804_001.tar</td>\n",
       "      <td>1804.00001</td>\n",
       "      <td>1804.00262</td>\n",
       "      <td>fe34df50d3426c745ea9a8b5ed924859</td>\n",
       "      <td>262</td>\n",
       "      <td>1</td>\n",
       "      <td>526207253</td>\n",
       "      <td>2018-06-05 04:56:42</td>\n",
       "      <td>1804</td>\n",
       "    </tr>\n",
       "  </tbody>\n",
       "</table>\n",
       "</div>"
      ],
      "text/plain": [
       "                        content_md5sum                    filename  \\\n",
       "1742  d2ca6595ddb8055262ea1c6adf4cd4e3  src/arXiv_src_1804_001.tar   \n",
       "\n",
       "      first_item   last_item                            md5sum  num_items  \\\n",
       "1742  1804.00001  1804.00262  fe34df50d3426c745ea9a8b5ed924859        262   \n",
       "\n",
       "     seq_num       size            timestamp  yymm  \n",
       "1742       1  526207253  2018-06-05 04:56:42  1804  "
      ]
     },
     "execution_count": 72,
     "metadata": {},
     "output_type": "execute_result"
    }
   ],
   "source": [
    "filedf.loc[filedf['filename'].str.contains('1804_001')]"
   ]
  },
  {
   "cell_type": "code",
   "execution_count": 7,
   "metadata": {},
   "outputs": [],
   "source": [
    "S = filedf['size']"
   ]
  },
  {
   "cell_type": "code",
   "execution_count": 9,
   "metadata": {},
   "outputs": [
    {
     "data": {
      "text/plain": [
       "924382365733"
      ]
     },
     "execution_count": 9,
     "metadata": {},
     "output_type": "execute_result"
    }
   ],
   "source": [
    "S.sum()"
   ]
  },
  {
   "cell_type": "code",
   "execution_count": 46,
   "metadata": {},
   "outputs": [],
   "source": [
    "import subprocess\n",
    "P = subprocess.run(['/bin/s3cmd', 'get', '--requester-pays', 's3://arxiv/src/arXiv_src_1804_006.tar', '..'], \n",
    "                   stderr=subprocess.PIPE,\n",
    "                   stdout=subprocess.PIPE)"
   ]
  },
  {
   "cell_type": "code",
   "execution_count": 41,
   "metadata": {
    "scrolled": true
   },
   "outputs": [
    {
     "data": {
      "text/plain": [
       "b\"download: 's3://arxiv/src/arXiv_src_1804_006sab.tar' -> '../arXiv_src_1804_006sab.tar'  [1 of 1]\\ndownload: 's3://arxiv/src/arXiv_src_1804_006sab.tar' -> '../arXiv_src_1804_006sab.tar'  [1 of 1]\\n\""
      ]
     },
     "execution_count": 41,
     "metadata": {},
     "output_type": "execute_result"
    }
   ],
   "source": [
    "P.stdout"
   ]
  },
  {
   "cell_type": "code",
   "execution_count": 42,
   "metadata": {},
   "outputs": [
    {
     "data": {
      "text/plain": [
       "b'ERROR: S3 error: 404 (NoSuchKey): The specified key does not exist.\\n'"
      ]
     },
     "execution_count": 42,
     "metadata": {},
     "output_type": "execute_result"
    }
   ],
   "source": [
    "P.stderr"
   ]
  },
  {
   "cell_type": "code",
   "execution_count": 45,
   "metadata": {
    "scrolled": true
   },
   "outputs": [
    {
     "ename": "CalledProcessError",
     "evalue": "Command '['/bin/s3cmd', 'get', '--requester-pays', 's3://arxiv/src/arXiv_src_1804_006sab.tar', '..']' returned non-zero exit status 12.",
     "output_type": "error",
     "traceback": [
      "\u001b[0;31m---------------------------------------------------------------------------\u001b[0m",
      "\u001b[0;31mCalledProcessError\u001b[0m                        Traceback (most recent call last)",
      "\u001b[0;32m<ipython-input-45-3e67dcb1c608>\u001b[0m in \u001b[0;36m<module>\u001b[0;34m()\u001b[0m\n\u001b[0;32m----> 1\u001b[0;31m \u001b[0mP\u001b[0m\u001b[0;34m.\u001b[0m\u001b[0mcheck_returncode\u001b[0m\u001b[0;34m(\u001b[0m\u001b[0;34m)\u001b[0m\u001b[0;34m\u001b[0m\u001b[0m\n\u001b[0m",
      "\u001b[0;32m/usr/lib/python3.6/subprocess.py\u001b[0m in \u001b[0;36mcheck_returncode\u001b[0;34m(self)\u001b[0m\n\u001b[1;32m    367\u001b[0m         \u001b[0;32mif\u001b[0m \u001b[0mself\u001b[0m\u001b[0;34m.\u001b[0m\u001b[0mreturncode\u001b[0m\u001b[0;34m:\u001b[0m\u001b[0;34m\u001b[0m\u001b[0m\n\u001b[1;32m    368\u001b[0m             raise CalledProcessError(self.returncode, self.args, self.stdout,\n\u001b[0;32m--> 369\u001b[0;31m                                      self.stderr)\n\u001b[0m\u001b[1;32m    370\u001b[0m \u001b[0;34m\u001b[0m\u001b[0m\n\u001b[1;32m    371\u001b[0m \u001b[0;34m\u001b[0m\u001b[0m\n",
      "\u001b[0;31mCalledProcessError\u001b[0m: Command '['/bin/s3cmd', 'get', '--requester-pays', 's3://arxiv/src/arXiv_src_1804_006sab.tar', '..']' returned non-zero exit status 12."
     ]
    }
   ],
   "source": [
    "P.check_returncode()"
   ]
  },
  {
   "cell_type": "code",
   "execution_count": 19,
   "metadata": {},
   "outputs": [],
   "source": [
    "df = filedf.head()\n",
    "notdf = pd.DataFrame([{'filename': 'src/arXiv_src_0001_001.tar'}])"
   ]
  },
  {
   "cell_type": "code",
   "execution_count": 74,
   "metadata": {},
   "outputs": [
    {
     "data": {
      "text/plain": [
       "content_md5sum    d90df481661ccdd7e8be883796539743\n",
       "filename                src/arXiv_src_0002_001.tar\n",
       "first_item                         astro-ph0002001\n",
       "last_item                          quant-ph0002094\n",
       "md5sum            4592ab506cf775afecf4ad560d982a00\n",
       "num_items                                     2365\n",
       "seq_num                                          1\n",
       "size                                     227036528\n",
       "timestamp                      2010-12-23 00:18:09\n",
       "yymm                                          0002\n",
       "Name: 1, dtype: object"
      ]
     },
     "execution_count": 74,
     "metadata": {},
     "output_type": "execute_result"
    }
   ],
   "source": [
    "idx = df.filename.isin(notdf.filename)\n",
    "df[~idx].iloc[0]"
   ]
  },
  {
   "cell_type": "code",
   "execution_count": 55,
   "metadata": {},
   "outputs": [
    {
     "data": {
      "text/plain": [
       "0    False\n",
       "1     True\n",
       "2    False\n",
       "3    False\n",
       "4    False\n",
       "Name: filename, dtype: bool"
      ]
     },
     "execution_count": 55,
     "metadata": {},
     "output_type": "execute_result"
    }
   ],
   "source": [
    "df.filename.isin(notdf.filename)"
   ]
  },
  {
   "cell_type": "code",
   "execution_count": 57,
   "metadata": {},
   "outputs": [],
   "source": [
    "df.to_csv('head_df.csv')"
   ]
  },
  {
   "cell_type": "code",
   "execution_count": 58,
   "metadata": {},
   "outputs": [],
   "source": [
    "notdf.to_csv('notdf.csv')"
   ]
  },
  {
   "cell_type": "code",
   "execution_count": 35,
   "metadata": {
    "collapsed": true
   },
   "outputs": [
    {
     "name": "stderr",
     "output_type": "stream",
     "text": [
      "/usr/lib/python3.6/site-packages/pandas/core/frame.py:6211: FutureWarning: Sorting because non-concatenation axis is not aligned. A future version\n",
      "of pandas will change to not sort by default.\n",
      "\n",
      "To accept the future behavior, pass 'sort=False'.\n",
      "\n",
      "To retain the current behavior and silence the warning, pass 'sort=True'.\n",
      "\n",
      "  sort=sort)\n"
     ]
    },
    {
     "data": {
      "text/html": [
       "<div>\n",
       "<style scoped>\n",
       "    .dataframe tbody tr th:only-of-type {\n",
       "        vertical-align: middle;\n",
       "    }\n",
       "\n",
       "    .dataframe tbody tr th {\n",
       "        vertical-align: top;\n",
       "    }\n",
       "\n",
       "    .dataframe thead th {\n",
       "        text-align: right;\n",
       "    }\n",
       "</style>\n",
       "<table border=\"1\" class=\"dataframe\">\n",
       "  <thead>\n",
       "    <tr style=\"text-align: right;\">\n",
       "      <th></th>\n",
       "      <th>Unnamed: 0.1</th>\n",
       "      <th>filename</th>\n",
       "    </tr>\n",
       "  </thead>\n",
       "  <tbody>\n",
       "    <tr>\n",
       "      <th>0</th>\n",
       "      <td>NaN</td>\n",
       "      <td>hola</td>\n",
       "    </tr>\n",
       "  </tbody>\n",
       "</table>\n",
       "</div>"
      ],
      "text/plain": [
       "  Unnamed: 0.1 filename\n",
       "0          NaN     hola"
      ]
     },
     "execution_count": 35,
     "metadata": {},
     "output_type": "execute_result"
    }
   ],
   "source": [
    "nondf = pd.read_csv('/home/luis/mountpoint/arXiv_src/downloaded_log.csv',index_col=0)\n",
    "nondf.append(pd.DataFrame([{'filename':'hola'}]), ignore_index=True)"
   ]
  },
  {
   "cell_type": "code",
   "execution_count": 88,
   "metadata": {},
   "outputs": [
    {
     "data": {
      "text/plain": [
       "True"
      ]
     },
     "execution_count": 88,
     "metadata": {},
     "output_type": "execute_result"
    }
   ],
   "source": [
    "import os\n",
    "os.path.ismount('/mnt')"
   ]
  },
  {
   "cell_type": "code",
   "execution_count": 39,
   "metadata": {},
   "outputs": [
    {
     "data": {
      "text/html": [
       "<div>\n",
       "<style scoped>\n",
       "    .dataframe tbody tr th:only-of-type {\n",
       "        vertical-align: middle;\n",
       "    }\n",
       "\n",
       "    .dataframe tbody tr th {\n",
       "        vertical-align: top;\n",
       "    }\n",
       "\n",
       "    .dataframe thead th {\n",
       "        text-align: right;\n",
       "    }\n",
       "</style>\n",
       "<table border=\"1\" class=\"dataframe\">\n",
       "  <thead>\n",
       "    <tr style=\"text-align: right;\">\n",
       "      <th></th>\n",
       "      <th>filename</th>\n",
       "    </tr>\n",
       "  </thead>\n",
       "  <tbody>\n",
       "    <tr>\n",
       "      <th>0</th>\n",
       "      <td>src/arXiv_src_0001_001.tar</td>\n",
       "    </tr>\n",
       "  </tbody>\n",
       "</table>\n",
       "</div>"
      ],
      "text/plain": [
       "                     filename\n",
       "0  src/arXiv_src_0001_001.tar"
      ]
     },
     "execution_count": 39,
     "metadata": {},
     "output_type": "execute_result"
    }
   ],
   "source": [
    "notdf"
   ]
  },
  {
   "cell_type": "code",
   "execution_count": 69,
   "metadata": {},
   "outputs": [
    {
     "ename": "NameError",
     "evalue": "name 'notdf' is not defined",
     "output_type": "error",
     "traceback": [
      "\u001b[0;31m---------------------------------------------------------------------------\u001b[0m",
      "\u001b[0;31mNameError\u001b[0m                                 Traceback (most recent call last)",
      "\u001b[0;32m<ipython-input-69-a7001cd9ccdb>\u001b[0m in \u001b[0;36m<module>\u001b[0;34m()\u001b[0m\n\u001b[1;32m      1\u001b[0m \u001b[0;31m#filedf.to_csv('/home/luis/mountpoint/allfiles.csv')\u001b[0m\u001b[0;34m\u001b[0m\u001b[0;34m\u001b[0m\u001b[0m\n\u001b[0;32m----> 2\u001b[0;31m \u001b[0mnotdf\u001b[0m\u001b[0;34m.\u001b[0m\u001b[0mto_csv\u001b[0m\u001b[0;34m(\u001b[0m\u001b[0;34m'/home/luis/mountpoint/arXiv_src/downloaded_log2.csv'\u001b[0m\u001b[0;34m)\u001b[0m\u001b[0;34m\u001b[0m\u001b[0m\n\u001b[0m",
      "\u001b[0;31mNameError\u001b[0m: name 'notdf' is not defined"
     ]
    }
   ],
   "source": [
    "#filedf.to_csv('/home/luis/mountpoint/allfiles.csv')\n",
    "# CAReFulll notdf.to_csv('/home/luis/mountpoint/arXiv_src/downloaded_log.csv')"
   ]
  },
  {
   "cell_type": "code",
   "execution_count": 82,
   "metadata": {},
   "outputs": [],
   "source": [
    "%load_ext autoreload\n",
    "%autoreload 2"
   ]
  },
  {
   "cell_type": "code",
   "execution_count": 67,
   "metadata": {},
   "outputs": [],
   "source": [
    "from dload import DownloadMan, parse_manifest\n",
    "mountpoint = '/mnt/arXiv_src/'\n",
    "allfiles = 'allfiles.csv'\n",
    "doun = 'downloaded_log.csv'\n",
    "error_log = 'error.log'\n",
    "D = DownloadMan(mountpoint, allfiles, doun, error_log)"
   ]
  },
  {
   "cell_type": "code",
   "execution_count": 97,
   "metadata": {},
   "outputs": [
    {
     "name": "stdout",
     "output_type": "stream",
     "text": [
      "untaring file: /mnt/arXiv_src/src/arXiv_src_1804_001.tar\n",
      "querying the arxiv\n",
      "query successful\n"
     ]
    }
   ],
   "source": [
    "import process as P\n",
    "xx = P.Xtraction('/mnt/arXiv_src/src/arXiv_src_1804_001.tar')"
   ]
  },
  {
   "cell_type": "code",
   "execution_count": 102,
   "metadata": {},
   "outputs": [
    {
     "data": {
      "text/plain": [
       "'/mnt/arXiv_src/src/arXiv_src_1804_001.tar'"
      ]
     },
     "execution_count": 102,
     "metadata": {},
     "output_type": "execute_result"
    }
   ],
   "source": [
    "xx.tar_path"
   ]
  },
  {
   "cell_type": "code",
   "execution_count": 105,
   "metadata": {},
   "outputs": [
    {
     "data": {
      "text/plain": [
       "'../mathy/1804_001'"
      ]
     },
     "execution_count": 105,
     "metadata": {},
     "output_type": "execute_result"
    }
   ],
   "source": [
    "xx.path_dir('../mathy')"
   ]
  },
  {
   "cell_type": "code",
   "execution_count": 99,
   "metadata": {},
   "outputs": [
    {
     "ename": "NameError",
     "evalue": "name 'D' is not defined",
     "output_type": "error",
     "traceback": [
      "\u001b[0;31m---------------------------------------------------------------------------\u001b[0m",
      "\u001b[0;31mNameError\u001b[0m                                 Traceback (most recent call last)",
      "\u001b[0;32m<ipython-input-99-86f0eb2ad4c1>\u001b[0m in \u001b[0;36m<module>\u001b[0;34m()\u001b[0m\n\u001b[0;32m----> 1\u001b[0;31m \u001b[0mD\u001b[0m\u001b[0;34m.\u001b[0m\u001b[0mcheck_md5\u001b[0m\u001b[0;34m(\u001b[0m\u001b[0;34m)\u001b[0m\u001b[0;34m\u001b[0m\u001b[0m\n\u001b[0m",
      "\u001b[0;31mNameError\u001b[0m: name 'D' is not defined"
     ]
    }
   ],
   "source": [
    "D.check_md5()"
   ]
  },
  {
   "cell_type": "code",
   "execution_count": 68,
   "metadata": {},
   "outputs": [],
   "source": [
    "new_all = parse_manifest('/mnt/arXiv_src/src/arXiv_src_manifest.xml')"
   ]
  },
  {
   "cell_type": "code",
   "execution_count": 12,
   "metadata": {},
   "outputs": [
    {
     "data": {
      "text/plain": [
       "'1b621f41cd46b9d3388351ba9e3aefaf'"
      ]
     },
     "execution_count": 12,
     "metadata": {},
     "output_type": "execute_result"
    }
   ],
   "source": [
    "fname = 'src/arXiv_src_1607_002.tar'\n",
    "D.md5sum(fname)"
   ]
  },
  {
   "cell_type": "code",
   "execution_count": 13,
   "metadata": {},
   "outputs": [
    {
     "data": {
      "text/html": [
       "<div>\n",
       "<style scoped>\n",
       "    .dataframe tbody tr th:only-of-type {\n",
       "        vertical-align: middle;\n",
       "    }\n",
       "\n",
       "    .dataframe tbody tr th {\n",
       "        vertical-align: top;\n",
       "    }\n",
       "\n",
       "    .dataframe thead th {\n",
       "        text-align: right;\n",
       "    }\n",
       "</style>\n",
       "<table border=\"1\" class=\"dataframe\">\n",
       "  <thead>\n",
       "    <tr style=\"text-align: right;\">\n",
       "      <th></th>\n",
       "      <th>content_md5sum</th>\n",
       "      <th>filename</th>\n",
       "      <th>first_item</th>\n",
       "      <th>last_item</th>\n",
       "      <th>md5sum</th>\n",
       "      <th>num_items</th>\n",
       "      <th>seq_num</th>\n",
       "      <th>size</th>\n",
       "      <th>timestamp</th>\n",
       "      <th>yymm</th>\n",
       "    </tr>\n",
       "  </thead>\n",
       "  <tbody>\n",
       "    <tr>\n",
       "      <th>1218</th>\n",
       "      <td>8979b2424c6d31c8be791aa675ef05ba</td>\n",
       "      <td>src/arXiv_src_1607_002.tar</td>\n",
       "      <td>1607.00463</td>\n",
       "      <td>1607.00988</td>\n",
       "      <td>a29303e80c4f753e17209a9f6238f2c5</td>\n",
       "      <td>526</td>\n",
       "      <td>2</td>\n",
       "      <td>545216578</td>\n",
       "      <td>2017-07-05 05:41:14</td>\n",
       "      <td>1607</td>\n",
       "    </tr>\n",
       "  </tbody>\n",
       "</table>\n",
       "</div>"
      ],
      "text/plain": [
       "                        content_md5sum                    filename  \\\n",
       "1218  8979b2424c6d31c8be791aa675ef05ba  src/arXiv_src_1607_002.tar   \n",
       "\n",
       "      first_item   last_item                            md5sum  num_items  \\\n",
       "1218  1607.00463  1607.00988  a29303e80c4f753e17209a9f6238f2c5        526   \n",
       "\n",
       "      seq_num       size            timestamp  yymm  \n",
       "1218        2  545216578  2017-07-05 05:41:14  1607  "
      ]
     },
     "execution_count": 13,
     "metadata": {},
     "output_type": "execute_result"
    }
   ],
   "source": [
    "D.allfiles_df[D.allfiles_df.filename == fname]"
   ]
  },
  {
   "cell_type": "code",
   "execution_count": 14,
   "metadata": {},
   "outputs": [
    {
     "data": {
      "text/html": [
       "<div>\n",
       "<style scoped>\n",
       "    .dataframe tbody tr th:only-of-type {\n",
       "        vertical-align: middle;\n",
       "    }\n",
       "\n",
       "    .dataframe tbody tr th {\n",
       "        vertical-align: top;\n",
       "    }\n",
       "\n",
       "    .dataframe thead th {\n",
       "        text-align: right;\n",
       "    }\n",
       "</style>\n",
       "<table border=\"1\" class=\"dataframe\">\n",
       "  <thead>\n",
       "    <tr style=\"text-align: right;\">\n",
       "      <th></th>\n",
       "      <th>content_md5sum</th>\n",
       "      <th>filename</th>\n",
       "      <th>first_item</th>\n",
       "      <th>last_item</th>\n",
       "      <th>md5sum</th>\n",
       "      <th>num_items</th>\n",
       "      <th>seq_num</th>\n",
       "      <th>size</th>\n",
       "      <th>timestamp</th>\n",
       "      <th>yymm</th>\n",
       "    </tr>\n",
       "  </thead>\n",
       "  <tbody>\n",
       "    <tr>\n",
       "      <th>1218</th>\n",
       "      <td>2446538d56ddee4f0e28ee65937b6189</td>\n",
       "      <td>src/arXiv_src_1607_002.tar</td>\n",
       "      <td>1607.00463</td>\n",
       "      <td>1607.00988</td>\n",
       "      <td>1b621f41cd46b9d3388351ba9e3aefaf</td>\n",
       "      <td>526</td>\n",
       "      <td>2</td>\n",
       "      <td>556653925</td>\n",
       "      <td>2018-07-05 06:37:36</td>\n",
       "      <td>1607</td>\n",
       "    </tr>\n",
       "  </tbody>\n",
       "</table>\n",
       "</div>"
      ],
      "text/plain": [
       "                        content_md5sum                    filename  \\\n",
       "1218  2446538d56ddee4f0e28ee65937b6189  src/arXiv_src_1607_002.tar   \n",
       "\n",
       "      first_item   last_item                            md5sum num_items  \\\n",
       "1218  1607.00463  1607.00988  1b621f41cd46b9d3388351ba9e3aefaf       526   \n",
       "\n",
       "     seq_num       size            timestamp  yymm  \n",
       "1218       2  556653925  2018-07-05 06:37:36  1607  "
      ]
     },
     "execution_count": 14,
     "metadata": {},
     "output_type": "execute_result"
    }
   ],
   "source": [
    "new_all[new_all.filename == fname]"
   ]
  },
  {
   "cell_type": "code",
   "execution_count": 22,
   "metadata": {},
   "outputs": [
    {
     "data": {
      "text/plain": [
       "'5c0c499b3cc7c4961e522aa55e8974a5'"
      ]
     },
     "execution_count": 22,
     "metadata": {},
     "output_type": "execute_result"
    }
   ],
   "source": [
    "D.allfiles_df[D.allfiles_df.filename == fname].md5sum.iloc[0]"
   ]
  },
  {
   "cell_type": "code",
   "execution_count": 24,
   "metadata": {},
   "outputs": [
    {
     "data": {
      "text/plain": [
       "116.614211313"
      ]
     },
     "execution_count": 24,
     "metadata": {},
     "output_type": "execute_result"
    }
   ],
   "source": [
    "sum([D.filesize(fn[0]) for fn in list(D.downloaded_df.values)])/1e9"
   ]
  },
  {
   "cell_type": "code",
   "execution_count": null,
   "metadata": {
    "collapsed": true
   },
   "outputs": [
    {
     "name": "stdout",
     "output_type": "stream",
     "text": [
      "Dowloand of file src/arXiv_src_0003_001.tar successful\n",
      "Dowloand of file src/arXiv_src_0004_001.tar successful\n",
      "Dowloand of file src/arXiv_src_0005_001.tar successful\n",
      "Dowloand of file src/arXiv_src_0006_001.tar successful\n",
      "Dowloand of file src/arXiv_src_0007_001.tar successful\n",
      "Dowloand of file src/arXiv_src_0008_001.tar successful\n",
      "Dowloand of file src/arXiv_src_0009_001.tar successful\n",
      "Dowloand of file src/arXiv_src_0010_001.tar successful\n",
      "Dowloand of file src/arXiv_src_0011_001.tar successful\n",
      "Dowloand of file src/arXiv_src_0012_001.tar successful\n",
      "Dowloand of file src/arXiv_src_0101_001.tar successful\n",
      "Dowloand of file src/arXiv_src_0102_001.tar successful\n",
      "Dowloand of file src/arXiv_src_0103_001.tar successful\n",
      "Dowloand of file src/arXiv_src_0104_001.tar successful\n",
      "Dowloand of file src/arXiv_src_0105_001.tar successful\n",
      "Dowloand of file src/arXiv_src_0106_001.tar successful\n",
      "Dowloand of file src/arXiv_src_0107_001.tar successful\n",
      "Dowloand of file src/arXiv_src_0108_001.tar successful\n",
      "Dowloand of file src/arXiv_src_0109_001.tar successful\n",
      "Dowloand of file src/arXiv_src_0110_001.tar successful\n",
      "Dowloand of file src/arXiv_src_0111_001.tar successful\n",
      "Dowloand of file src/arXiv_src_0112_001.tar successful\n",
      "Dowloand of file src/arXiv_src_0201_001.tar successful\n",
      "Dowloand of file src/arXiv_src_0202_001.tar successful\n",
      "Dowloand of file src/arXiv_src_0203_001.tar successful\n",
      "Dowloand of file src/arXiv_src_0204_001.tar successful\n",
      "Dowloand of file src/arXiv_src_0205_001.tar successful\n",
      "Dowloand of file src/arXiv_src_0206_001.tar successful\n",
      "Dowloand of file src/arXiv_src_0207_001.tar successful\n",
      "Dowloand of file src/arXiv_src_0208_001.tar successful\n",
      "Dowloand of file src/arXiv_src_0209_001.tar successful\n",
      "Dowloand of file src/arXiv_src_0210_001.tar successful\n",
      "Dowloand of file src/arXiv_src_0211_001.tar successful\n",
      "Dowloand of file src/arXiv_src_0212_001.tar successful\n",
      "Dowloand of file src/arXiv_src_0301_001.tar successful\n",
      "Dowloand of file src/arXiv_src_0302_001.tar successful\n",
      "Dowloand of file src/arXiv_src_0303_001.tar successful\n",
      "Dowloand of file src/arXiv_src_0304_001.tar successful\n",
      "Dowloand of file src/arXiv_src_0305_001.tar successful\n",
      "Dowloand of file src/arXiv_src_0306_001.tar successful\n",
      "Dowloand of file src/arXiv_src_0307_001.tar successful\n",
      "Dowloand of file src/arXiv_src_0308_001.tar successful\n",
      "Dowloand of file src/arXiv_src_0309_001.tar successful\n",
      "Dowloand of file src/arXiv_src_0310_001.tar successful\n",
      "Dowloand of file src/arXiv_src_0311_001.tar successful\n",
      "Dowloand of file src/arXiv_src_0312_001.tar successful\n",
      "Dowloand of file src/arXiv_src_0401_001.tar successful\n",
      "Dowloand of file src/arXiv_src_0402_001.tar successful\n",
      "Dowloand of file src/arXiv_src_0403_001.tar successful\n",
      "Dowloand of file src/arXiv_src_0404_001.tar successful\n",
      "Dowloand of file src/arXiv_src_0405_001.tar successful\n",
      "Dowloand of file src/arXiv_src_0406_001.tar successful\n",
      "Dowloand of file src/arXiv_src_0406_002.tar successful\n",
      "Dowloand of file src/arXiv_src_0407_001.tar successful\n",
      "Dowloand of file src/arXiv_src_0407_002.tar successful\n",
      "Dowloand of file src/arXiv_src_0408_001.tar successful\n",
      "Dowloand of file src/arXiv_src_0409_001.tar successful\n",
      "Dowloand of file src/arXiv_src_0409_002.tar successful\n",
      "Dowloand of file src/arXiv_src_0410_001.tar successful\n",
      "Dowloand of file src/arXiv_src_0410_002.tar successful\n",
      "Dowloand of file src/arXiv_src_0411_001.tar successful\n",
      "Dowloand of file src/arXiv_src_0411_002.tar successful\n",
      "Dowloand of file src/arXiv_src_0412_001.tar successful\n",
      "Dowloand of file src/arXiv_src_0412_002.tar successful\n",
      "Dowloand of file src/arXiv_src_0501_001.tar successful\n",
      "Dowloand of file src/arXiv_src_0501_002.tar successful\n",
      "Dowloand of file src/arXiv_src_0502_001.tar successful\n",
      "Dowloand of file src/arXiv_src_0502_002.tar successful\n",
      "Dowloand of file src/arXiv_src_0503_001.tar successful\n",
      "Dowloand of file src/arXiv_src_0503_002.tar successful\n",
      "Dowloand of file src/arXiv_src_0504_001.tar successful\n",
      "Dowloand of file src/arXiv_src_0504_002.tar successful\n",
      "Dowloand of file src/arXiv_src_0505_001.tar successful\n",
      "Dowloand of file src/arXiv_src_0505_002.tar successful\n",
      "Dowloand of file src/arXiv_src_0506_001.tar successful\n",
      "Dowloand of file src/arXiv_src_0506_002.tar successful\n",
      "Dowloand of file src/arXiv_src_0507_001.tar successful\n",
      "Dowloand of file src/arXiv_src_0507_002.tar successful\n",
      "Dowloand of file src/arXiv_src_0508_001.tar successful\n",
      "Dowloand of file src/arXiv_src_0508_002.tar successful\n"
     ]
    }
   ],
   "source": [
    "keep_going = 0\n",
    "while keep_going == 0:\n",
    "    keep_going = D.get_next()\n",
    "    if D.check_md5():\n",
    "        pass\n",
    "    else:\n",
    "        break"
   ]
  },
  {
   "cell_type": "code",
   "execution_count": 45,
   "metadata": {},
   "outputs": [
    {
     "ename": "AttributeError",
     "evalue": "'NoneType' object has no attribute 'text'",
     "output_type": "error",
     "traceback": [
      "\u001b[0;31m---------------------------------------------------------------------------\u001b[0m",
      "\u001b[0;31mAttributeError\u001b[0m                            Traceback (most recent call last)",
      "\u001b[0;32m<ipython-input-45-4a7c3b7db0bc>\u001b[0m in \u001b[0;36m<module>\u001b[0;34m()\u001b[0m\n\u001b[1;32m      4\u001b[0m \u001b[0mroot\u001b[0m \u001b[0;34m=\u001b[0m \u001b[0mET\u001b[0m\u001b[0;34m.\u001b[0m\u001b[0mfromstring\u001b[0m\u001b[0;34m(\u001b[0m\u001b[0mdata\u001b[0m\u001b[0;34m)\u001b[0m\u001b[0;34m\u001b[0m\u001b[0m\n\u001b[1;32m      5\u001b[0m \u001b[0mres\u001b[0m \u001b[0;34m=\u001b[0m \u001b[0mroot\u001b[0m\u001b[0;34m.\u001b[0m\u001b[0mgetchildren\u001b[0m\u001b[0;34m(\u001b[0m\u001b[0;34m)\u001b[0m\u001b[0;34m[\u001b[0m\u001b[0;34m-\u001b[0m\u001b[0;36m1\u001b[0m\u001b[0;34m]\u001b[0m\u001b[0;34m\u001b[0m\u001b[0m\n\u001b[0;32m----> 6\u001b[0;31m \u001b[0mres\u001b[0m\u001b[0;34m.\u001b[0m\u001b[0mfind\u001b[0m\u001b[0;34m(\u001b[0m\u001b[0;34m'title'\u001b[0m\u001b[0;34m)\u001b[0m\u001b[0;34m.\u001b[0m\u001b[0mtext\u001b[0m\u001b[0;34m\u001b[0m\u001b[0m\n\u001b[0m",
      "\u001b[0;31mAttributeError\u001b[0m: 'NoneType' object has no attribute 'text'"
     ]
    }
   ],
   "source": [
    "import urllib.request as req\n",
    "url = 'http://export.arxiv.org/api/query?search_query=id:1804.00020&start=0&max_results=5'\n",
    "data = req.urlopen(url).read()\n",
    "root = ET.fromstring(data)\n",
    "res = root.getchildren()[-1]\n",
    "res.find('title').text"
   ]
  },
  {
   "cell_type": "code",
   "execution_count": 38,
   "metadata": {
    "collapsed": true
   },
   "outputs": [
    {
     "name": "stdout",
     "output_type": "stream",
     "text": [
      "{http://www.w3.org/2005/Atom}id\n",
      "{http://www.w3.org/2005/Atom}updated\n",
      "{http://www.w3.org/2005/Atom}published\n",
      "{http://www.w3.org/2005/Atom}title\n",
      "{http://www.w3.org/2005/Atom}summary\n",
      "{http://www.w3.org/2005/Atom}author\n",
      "{http://www.w3.org/2005/Atom}author\n",
      "{http://arxiv.org/schemas/atom}comment\n",
      "{http://www.w3.org/2005/Atom}link\n",
      "{http://www.w3.org/2005/Atom}link\n",
      "{http://arxiv.org/schemas/atom}primary_category\n",
      "{http://www.w3.org/2005/Atom}category\n"
     ]
    }
   ],
   "source": [
    "for el in res.getchildren():\n",
    "    print(el.tag)"
   ]
  },
  {
   "cell_type": "code",
   "execution_count": 24,
   "metadata": {},
   "outputs": [],
   "source": [
    "import sys\n",
    "sys.path.insert(0,'arxiv.py/')\n",
    "import arxiv"
   ]
  },
  {
   "cell_type": "code",
   "execution_count": 218,
   "metadata": {},
   "outputs": [
    {
     "name": "stdout",
     "output_type": "stream",
     "text": [
      "id http://arxiv.org/abs/1805.02612v2\n",
      "guidislink True\n",
      "updated 2018-06-27T06:49:34Z\n",
      "updated_parsed time.struct_time(tm_year=2018, tm_mon=6, tm_mday=27, tm_hour=6, tm_min=49, tm_sec=34, tm_wday=2, tm_yday=178, tm_isdst=0)\n",
      "published 2018-05-07T16:45:08Z\n",
      "published_parsed time.struct_time(tm_year=2018, tm_mon=5, tm_mday=7, tm_hour=16, tm_min=45, tm_sec=8, tm_wday=0, tm_yday=127, tm_isdst=0)\n",
      "title Infinitely many new families of complete cohomogeneity one\n",
      "  G_2-manifolds: G_2 analogues of the Taub-NUT and Eguchi-Hanson spaces\n",
      "title_detail {'type': 'text/plain', 'language': None, 'base': 'http://export.arxiv.org/api/query?search_query=&id_list=1805.02612&start=0&max_results=10&sortBy=relevance&sortOrder=descending', 'value': 'Infinitely many new families of complete cohomogeneity one\\n  G_2-manifolds: G_2 analogues of the Taub-NUT and Eguchi-Hanson spaces'}\n",
      "summary We construct infinitely many new 1-parameter families of simply connected\n",
      "complete noncompact G_2-manifolds with controlled geometry at infinity. The\n",
      "generic member of each family has so-called asymptotically locally conical\n",
      "(ALC) geometry. However, the nature of the asymptotic geometry changes at two\n",
      "special parameter values: at one special value we obtain a unique member of\n",
      "each family with asymptotically conical (AC) geometry; on approach to the other\n",
      "special parameter value the family of metrics collapses to an AC Calabi-Yau\n",
      "3-fold. Our infinitely many new diffeomorphism types of AC G_2-manifolds are\n",
      "particularly noteworthy: previously the three examples constructed by Bryant\n",
      "and Salamon in 1989 furnished the only known simply connected AC G_2-manifolds.\n",
      "  We also construct a closely related conically singular G_2 holonomy space:\n",
      "away from a single isolated conical singularity, where the geometry becomes\n",
      "asymptotic to the G_2-cone over the standard nearly Kaehler structure on the\n",
      "product of a pair of 3-spheres, the metric is smooth and it has ALC geometry at\n",
      "infinity. We argue that this conically singular ALC G_2-space is the natural\n",
      "G_2 analogue of the Taub-NUT metric in 4-dimensional hyperKaehler geometry and\n",
      "that our new AC G_2-metrics are all analogues of the Eguchi-Hanson metric, the\n",
      "simplest ALE hyperKaehler manifold. Like the Taub-NUT and Eguchi-Hanson\n",
      "metrics, all our examples are cohomogeneity one, i.e. they admit an isometric\n",
      "Lie group action whose generic orbit has codimension one.\n",
      "summary_detail {'type': 'text/plain', 'language': None, 'base': 'http://export.arxiv.org/api/query?search_query=&id_list=1805.02612&start=0&max_results=10&sortBy=relevance&sortOrder=descending', 'value': 'We construct infinitely many new 1-parameter families of simply connected\\ncomplete noncompact G_2-manifolds with controlled geometry at infinity. The\\ngeneric member of each family has so-called asymptotically locally conical\\n(ALC) geometry. However, the nature of the asymptotic geometry changes at two\\nspecial parameter values: at one special value we obtain a unique member of\\neach family with asymptotically conical (AC) geometry; on approach to the other\\nspecial parameter value the family of metrics collapses to an AC Calabi-Yau\\n3-fold. Our infinitely many new diffeomorphism types of AC G_2-manifolds are\\nparticularly noteworthy: previously the three examples constructed by Bryant\\nand Salamon in 1989 furnished the only known simply connected AC G_2-manifolds.\\n  We also construct a closely related conically singular G_2 holonomy space:\\naway from a single isolated conical singularity, where the geometry becomes\\nasymptotic to the G_2-cone over the standard nearly Kaehler structure on the\\nproduct of a pair of 3-spheres, the metric is smooth and it has ALC geometry at\\ninfinity. We argue that this conically singular ALC G_2-space is the natural\\nG_2 analogue of the Taub-NUT metric in 4-dimensional hyperKaehler geometry and\\nthat our new AC G_2-metrics are all analogues of the Eguchi-Hanson metric, the\\nsimplest ALE hyperKaehler manifold. Like the Taub-NUT and Eguchi-Hanson\\nmetrics, all our examples are cohomogeneity one, i.e. they admit an isometric\\nLie group action whose generic orbit has codimension one.'}\n",
      "authors ['Lorenzo Foscolo', 'Mark Haskins', 'Johannes Nordström']\n",
      "author_detail {'name': 'Johannes Nordström'}\n",
      "author Johannes Nordström\n",
      "arxiv_comment 53 pages, 1 figure. v2: Added Theorem 7.3 showing that we have found\n",
      "  all complete simply-connected G_2-manifolds with cohomogeneity one action by\n",
      "  SU(2) x SU(2) x U(1)\n",
      "links [{'href': 'http://arxiv.org/abs/1805.02612v2', 'rel': 'alternate', 'type': 'text/html'}, {'title': 'pdf', 'href': 'http://arxiv.org/pdf/1805.02612v2', 'rel': 'related', 'type': 'application/pdf'}]\n",
      "arxiv_primary_category {'term': 'math.DG', 'scheme': 'http://arxiv.org/schemas/atom'}\n",
      "tags [{'term': 'math.DG', 'scheme': 'http://arxiv.org/schemas/atom', 'label': None}, {'term': 'hep-th', 'scheme': 'http://arxiv.org/schemas/atom', 'label': None}, {'term': '53C10, 53C25, 53C29, 53C80', 'scheme': 'http://arxiv.org/schemas/atom', 'label': None}]\n",
      "pdf_url http://arxiv.org/pdf/1805.02612v2\n",
      "affiliation None\n",
      "arxiv_url http://arxiv.org/abs/1805.02612v2\n",
      "journal_reference None\n",
      "doi None\n"
     ]
    }
   ],
   "source": [
    "import arxiv\n",
    "D = arxiv.query(id_list=['1805.02612'])\n",
    "for d in D[0].keys():\n",
    "    print(d,D[0][d])"
   ]
  },
  {
   "cell_type": "code",
   "execution_count": 219,
   "metadata": {},
   "outputs": [
    {
     "data": {
      "text/plain": [
       "[{'href': 'http://arxiv.org/abs/1805.02612v2',\n",
       "  'rel': 'alternate',\n",
       "  'type': 'text/html'},\n",
       " {'title': 'pdf',\n",
       "  'href': 'http://arxiv.org/pdf/1805.02612v2',\n",
       "  'rel': 'related',\n",
       "  'type': 'application/pdf'}]"
      ]
     },
     "execution_count": 219,
     "metadata": {},
     "output_type": "execute_result"
    }
   ],
   "source": [
    "D[0].links"
   ]
  },
  {
   "cell_type": "code",
   "execution_count": 221,
   "metadata": {},
   "outputs": [
    {
     "data": {
      "text/plain": [
       "[{'href': 'http://arxiv.org/abs/1805.02773v1',\n",
       "  'rel': 'alternate',\n",
       "  'type': 'text/html'},\n",
       " {'title': 'pdf',\n",
       "  'href': 'http://arxiv.org/pdf/1805.02773v1',\n",
       "  'rel': 'related',\n",
       "  'type': 'application/pdf'}]"
      ]
     },
     "execution_count": 221,
     "metadata": {},
     "output_type": "execute_result"
    }
   ],
   "source": [
    "arxiv.query(id_list=['1805.02773'])[0].links"
   ]
  },
  {
   "cell_type": "code",
   "execution_count": 26,
   "metadata": {},
   "outputs": [],
   "source": [
    "year_month = '1804.'\n",
    "id_list = [year_month + str(k).zfill(5) for k in range(1,263)]\n",
    "dicts = arxiv.query(id_list=id_list, max_results=300)"
   ]
  },
  {
   "cell_type": "code",
   "execution_count": 89,
   "metadata": {},
   "outputs": [
    {
     "data": {
      "text/plain": [
       "[{'id': 'http://arxiv.org/abs/1804.00018v1',\n",
       "  'guidislink': True,\n",
       "  'updated': '2018-03-30T18:11:49Z',\n",
       "  'updated_parsed': time.struct_time(tm_year=2018, tm_mon=3, tm_mday=30, tm_hour=18, tm_min=11, tm_sec=49, tm_wday=4, tm_yday=89, tm_isdst=0),\n",
       "  'published': '2018-03-30T18:11:49Z',\n",
       "  'published_parsed': time.struct_time(tm_year=2018, tm_mon=3, tm_mday=30, tm_hour=18, tm_min=11, tm_sec=49, tm_wday=4, tm_yday=89, tm_isdst=0),\n",
       "  'title': 'Uniqueness of convex ancient solutions to mean curvature flow in higher\\n  dimensions',\n",
       "  'title_detail': {'type': 'text/plain',\n",
       "   'language': None,\n",
       "   'base': 'http://export.arxiv.org/api/query?search_query=&id_list=1804.00001%2C1804.00002%2C1804.00003%2C1804.00004%2C1804.00005%2C1804.00006%2C1804.00007%2C1804.00008%2C1804.00009%2C1804.00010%2C1804.00011%2C1804.00012%2C1804.00013%2C1804.00014%2C1804.00015%2C1804.00016%2C1804.00017%2C1804.00018%2C1804.00019%2C1804.00020%2C1804.00021%2C1804.00022%2C1804.00023%2C1804.00024%2C1804.00025%2C1804.00026%2C1804.00027%2C1804.00028%2C1804.00029%2C1804.00030%2C1804.00031%2C1804.00032%2C1804.00033%2C1804.00034%2C1804.00035%2C1804.00036%2C1804.00037%2C1804.00038%2C1804.00039%2C1804.00040%2C1804.00041%2C1804.00042%2C1804.00043%2C1804.00044%2C1804.00045%2C1804.00046%2C1804.00047%2C1804.00048%2C1804.00049%2C1804.00050%2C1804.00051%2C1804.00052%2C1804.00053%2C1804.00054%2C1804.00055%2C1804.00056%2C1804.00057%2C1804.00058%2C1804.00059%2C1804.00060%2C1804.00061%2C1804.00062%2C1804.00063%2C1804.00064%2C1804.00065%2C1804.00066%2C1804.00067%2C1804.00068%2C1804.00069%2C1804.00070%2C1804.00071%2C1804.00072%2C1804.00073%2C1804.00074%2C1804.00075%2C1804.00076%2C1804.00077%2C1804.00078%2C1804.00079%2C1804.00080%2C1804.00081%2C1804.00082%2C1804.00083%2C1804.00084%2C1804.00085%2C1804.00086%2C1804.00087%2C1804.00088%2C1804.00089%2C1804.00090%2C1804.00091%2C1804.00092%2C1804.00093%2C1804.00094%2C1804.00095%2C1804.00096%2C1804.00097%2C1804.00098%2C1804.00099%2C1804.00100%2C1804.00101%2C1804.00102%2C1804.00103%2C1804.00104%2C1804.00105%2C1804.00106%2C1804.00107%2C1804.00108%2C1804.00109%2C1804.00110%2C1804.00111%2C1804.00112%2C1804.00113%2C1804.00114%2C1804.00115%2C1804.00116%2C1804.00117%2C1804.00118%2C1804.00119%2C1804.00120%2C1804.00121%2C1804.00122%2C1804.00123%2C1804.00124%2C1804.00125%2C1804.00126%2C1804.00127%2C1804.00128%2C1804.00129%2C1804.00130%2C1804.00131%2C1804.00132%2C1804.00133%2C1804.00134%2C1804.00135%2C1804.00136%2C1804.00137%2C1804.00138%2C1804.00139%2C1804.00140%2C1804.00141%2C1804.00142%2C1804.00143%2C1804.00144%2C1804.00145%2C1804.00146%2C1804.00147%2C1804.00148%2C1804.00149%2C1804.00150%2C1804.00151%2C1804.00152%2C1804.00153%2C1804.00154%2C1804.00155%2C1804.00156%2C1804.00157%2C1804.00158%2C1804.00159%2C1804.00160%2C1804.00161%2C1804.00162%2C1804.00163%2C1804.00164%2C1804.00165%2C1804.00166%2C1804.00167%2C1804.00168%2C1804.00169%2C1804.00170%2C1804.00171%2C1804.00172%2C1804.00173%2C1804.00174%2C1804.00175%2C1804.00176%2C1804.00177%2C1804.00178%2C1804.00179%2C1804.00180%2C1804.00181%2C1804.00182%2C1804.00183%2C1804.00184%2C1804.00185%2C1804.00186%2C1804.00187%2C1804.00188%2C1804.00189%2C1804.00190%2C1804.00191%2C1804.00192%2C1804.00193%2C1804.00194%2C1804.00195%2C1804.00196%2C1804.00197%2C1804.00198%2C1804.00199%2C1804.00200%2C1804.00201%2C1804.00202%2C1804.00203%2C1804.00204%2C1804.00205%2C1804.00206%2C1804.00207%2C1804.00208%2C1804.00209%2C1804.00210%2C1804.00211%2C1804.00212%2C1804.00213%2C1804.00214%2C1804.00215%2C1804.00216%2C1804.00217%2C1804.00218%2C1804.00219%2C1804.00220%2C1804.00221%2C1804.00222%2C1804.00223%2C1804.00224%2C1804.00225%2C1804.00226%2C1804.00227%2C1804.00228%2C1804.00229%2C1804.00230%2C1804.00231%2C1804.00232%2C1804.00233%2C1804.00234%2C1804.00235%2C1804.00236%2C1804.00237%2C1804.00238%2C1804.00239%2C1804.00240%2C1804.00241%2C1804.00242%2C1804.00243%2C1804.00244%2C1804.00245%2C1804.00246%2C1804.00247%2C1804.00248%2C1804.00249%2C1804.00250%2C1804.00251%2C1804.00252%2C1804.00253%2C1804.00254%2C1804.00255%2C1804.00256%2C1804.00257%2C1804.00258%2C1804.00259%2C1804.00260%2C1804.00261%2C1804.00262&start=0&max_results=300&sortBy=relevance&sortOrder=descending',\n",
       "   'value': 'Uniqueness of convex ancient solutions to mean curvature flow in higher\\n  dimensions'},\n",
       "  'summary': 'In this paper, we consider noncompact ancient solutions to the mean curvature\\nflow in $\\\\mathbb{R}^{n+1}$ ($n \\\\geq 3$) which are strictly convex, uniformly\\ntwo-convex, and noncollapsed. We prove that such an ancient solution is a\\nrotationally symmetric translating soliton.',\n",
       "  'summary_detail': {'type': 'text/plain',\n",
       "   'language': None,\n",
       "   'base': 'http://export.arxiv.org/api/query?search_query=&id_list=1804.00001%2C1804.00002%2C1804.00003%2C1804.00004%2C1804.00005%2C1804.00006%2C1804.00007%2C1804.00008%2C1804.00009%2C1804.00010%2C1804.00011%2C1804.00012%2C1804.00013%2C1804.00014%2C1804.00015%2C1804.00016%2C1804.00017%2C1804.00018%2C1804.00019%2C1804.00020%2C1804.00021%2C1804.00022%2C1804.00023%2C1804.00024%2C1804.00025%2C1804.00026%2C1804.00027%2C1804.00028%2C1804.00029%2C1804.00030%2C1804.00031%2C1804.00032%2C1804.00033%2C1804.00034%2C1804.00035%2C1804.00036%2C1804.00037%2C1804.00038%2C1804.00039%2C1804.00040%2C1804.00041%2C1804.00042%2C1804.00043%2C1804.00044%2C1804.00045%2C1804.00046%2C1804.00047%2C1804.00048%2C1804.00049%2C1804.00050%2C1804.00051%2C1804.00052%2C1804.00053%2C1804.00054%2C1804.00055%2C1804.00056%2C1804.00057%2C1804.00058%2C1804.00059%2C1804.00060%2C1804.00061%2C1804.00062%2C1804.00063%2C1804.00064%2C1804.00065%2C1804.00066%2C1804.00067%2C1804.00068%2C1804.00069%2C1804.00070%2C1804.00071%2C1804.00072%2C1804.00073%2C1804.00074%2C1804.00075%2C1804.00076%2C1804.00077%2C1804.00078%2C1804.00079%2C1804.00080%2C1804.00081%2C1804.00082%2C1804.00083%2C1804.00084%2C1804.00085%2C1804.00086%2C1804.00087%2C1804.00088%2C1804.00089%2C1804.00090%2C1804.00091%2C1804.00092%2C1804.00093%2C1804.00094%2C1804.00095%2C1804.00096%2C1804.00097%2C1804.00098%2C1804.00099%2C1804.00100%2C1804.00101%2C1804.00102%2C1804.00103%2C1804.00104%2C1804.00105%2C1804.00106%2C1804.00107%2C1804.00108%2C1804.00109%2C1804.00110%2C1804.00111%2C1804.00112%2C1804.00113%2C1804.00114%2C1804.00115%2C1804.00116%2C1804.00117%2C1804.00118%2C1804.00119%2C1804.00120%2C1804.00121%2C1804.00122%2C1804.00123%2C1804.00124%2C1804.00125%2C1804.00126%2C1804.00127%2C1804.00128%2C1804.00129%2C1804.00130%2C1804.00131%2C1804.00132%2C1804.00133%2C1804.00134%2C1804.00135%2C1804.00136%2C1804.00137%2C1804.00138%2C1804.00139%2C1804.00140%2C1804.00141%2C1804.00142%2C1804.00143%2C1804.00144%2C1804.00145%2C1804.00146%2C1804.00147%2C1804.00148%2C1804.00149%2C1804.00150%2C1804.00151%2C1804.00152%2C1804.00153%2C1804.00154%2C1804.00155%2C1804.00156%2C1804.00157%2C1804.00158%2C1804.00159%2C1804.00160%2C1804.00161%2C1804.00162%2C1804.00163%2C1804.00164%2C1804.00165%2C1804.00166%2C1804.00167%2C1804.00168%2C1804.00169%2C1804.00170%2C1804.00171%2C1804.00172%2C1804.00173%2C1804.00174%2C1804.00175%2C1804.00176%2C1804.00177%2C1804.00178%2C1804.00179%2C1804.00180%2C1804.00181%2C1804.00182%2C1804.00183%2C1804.00184%2C1804.00185%2C1804.00186%2C1804.00187%2C1804.00188%2C1804.00189%2C1804.00190%2C1804.00191%2C1804.00192%2C1804.00193%2C1804.00194%2C1804.00195%2C1804.00196%2C1804.00197%2C1804.00198%2C1804.00199%2C1804.00200%2C1804.00201%2C1804.00202%2C1804.00203%2C1804.00204%2C1804.00205%2C1804.00206%2C1804.00207%2C1804.00208%2C1804.00209%2C1804.00210%2C1804.00211%2C1804.00212%2C1804.00213%2C1804.00214%2C1804.00215%2C1804.00216%2C1804.00217%2C1804.00218%2C1804.00219%2C1804.00220%2C1804.00221%2C1804.00222%2C1804.00223%2C1804.00224%2C1804.00225%2C1804.00226%2C1804.00227%2C1804.00228%2C1804.00229%2C1804.00230%2C1804.00231%2C1804.00232%2C1804.00233%2C1804.00234%2C1804.00235%2C1804.00236%2C1804.00237%2C1804.00238%2C1804.00239%2C1804.00240%2C1804.00241%2C1804.00242%2C1804.00243%2C1804.00244%2C1804.00245%2C1804.00246%2C1804.00247%2C1804.00248%2C1804.00249%2C1804.00250%2C1804.00251%2C1804.00252%2C1804.00253%2C1804.00254%2C1804.00255%2C1804.00256%2C1804.00257%2C1804.00258%2C1804.00259%2C1804.00260%2C1804.00261%2C1804.00262&start=0&max_results=300&sortBy=relevance&sortOrder=descending',\n",
       "   'value': 'In this paper, we consider noncompact ancient solutions to the mean curvature\\nflow in $\\\\mathbb{R}^{n+1}$ ($n \\\\geq 3$) which are strictly convex, uniformly\\ntwo-convex, and noncollapsed. We prove that such an ancient solution is a\\nrotationally symmetric translating soliton.'},\n",
       "  'authors': ['S. Brendle', 'K. Choi'],\n",
       "  'author_detail': {'name': 'K. Choi'},\n",
       "  'author': 'K. Choi',\n",
       "  'arxiv_comment': 'In this paper, we extend the result in arxiv:1711.00823 to higher\\n  dimensions, assuming uniform two-convex',\n",
       "  'links': [{'href': 'http://arxiv.org/abs/1804.00018v1',\n",
       "    'rel': 'alternate',\n",
       "    'type': 'text/html'},\n",
       "   {'title': 'pdf',\n",
       "    'href': 'http://arxiv.org/pdf/1804.00018v1',\n",
       "    'rel': 'related',\n",
       "    'type': 'application/pdf'}],\n",
       "  'arxiv_primary_category': {'term': 'math.DG',\n",
       "   'scheme': 'http://arxiv.org/schemas/atom'},\n",
       "  'tags': [{'term': 'math.DG',\n",
       "    'scheme': 'http://arxiv.org/schemas/atom',\n",
       "    'label': None}],\n",
       "  'pdf_url': 'http://arxiv.org/pdf/1804.00018v1',\n",
       "  'affiliation': 'None',\n",
       "  'arxiv_url': 'http://arxiv.org/abs/1804.00018v1',\n",
       "  'journal_reference': None,\n",
       "  'doi': None},\n",
       " {'id': 'http://arxiv.org/abs/1804.00193v1',\n",
       "  'guidislink': True,\n",
       "  'updated': '2018-03-31T16:44:00Z',\n",
       "  'updated_parsed': time.struct_time(tm_year=2018, tm_mon=3, tm_mday=31, tm_hour=16, tm_min=44, tm_sec=0, tm_wday=5, tm_yday=90, tm_isdst=0),\n",
       "  'published': '2018-03-31T16:44:00Z',\n",
       "  'published_parsed': time.struct_time(tm_year=2018, tm_mon=3, tm_mday=31, tm_hour=16, tm_min=44, tm_sec=0, tm_wday=5, tm_yday=90, tm_isdst=0),\n",
       "  'title': 'An almost splitting theorem for a warped product space',\n",
       "  'title_detail': {'type': 'text/plain',\n",
       "   'language': None,\n",
       "   'base': 'http://export.arxiv.org/api/query?search_query=&id_list=1804.00001%2C1804.00002%2C1804.00003%2C1804.00004%2C1804.00005%2C1804.00006%2C1804.00007%2C1804.00008%2C1804.00009%2C1804.00010%2C1804.00011%2C1804.00012%2C1804.00013%2C1804.00014%2C1804.00015%2C1804.00016%2C1804.00017%2C1804.00018%2C1804.00019%2C1804.00020%2C1804.00021%2C1804.00022%2C1804.00023%2C1804.00024%2C1804.00025%2C1804.00026%2C1804.00027%2C1804.00028%2C1804.00029%2C1804.00030%2C1804.00031%2C1804.00032%2C1804.00033%2C1804.00034%2C1804.00035%2C1804.00036%2C1804.00037%2C1804.00038%2C1804.00039%2C1804.00040%2C1804.00041%2C1804.00042%2C1804.00043%2C1804.00044%2C1804.00045%2C1804.00046%2C1804.00047%2C1804.00048%2C1804.00049%2C1804.00050%2C1804.00051%2C1804.00052%2C1804.00053%2C1804.00054%2C1804.00055%2C1804.00056%2C1804.00057%2C1804.00058%2C1804.00059%2C1804.00060%2C1804.00061%2C1804.00062%2C1804.00063%2C1804.00064%2C1804.00065%2C1804.00066%2C1804.00067%2C1804.00068%2C1804.00069%2C1804.00070%2C1804.00071%2C1804.00072%2C1804.00073%2C1804.00074%2C1804.00075%2C1804.00076%2C1804.00077%2C1804.00078%2C1804.00079%2C1804.00080%2C1804.00081%2C1804.00082%2C1804.00083%2C1804.00084%2C1804.00085%2C1804.00086%2C1804.00087%2C1804.00088%2C1804.00089%2C1804.00090%2C1804.00091%2C1804.00092%2C1804.00093%2C1804.00094%2C1804.00095%2C1804.00096%2C1804.00097%2C1804.00098%2C1804.00099%2C1804.00100%2C1804.00101%2C1804.00102%2C1804.00103%2C1804.00104%2C1804.00105%2C1804.00106%2C1804.00107%2C1804.00108%2C1804.00109%2C1804.00110%2C1804.00111%2C1804.00112%2C1804.00113%2C1804.00114%2C1804.00115%2C1804.00116%2C1804.00117%2C1804.00118%2C1804.00119%2C1804.00120%2C1804.00121%2C1804.00122%2C1804.00123%2C1804.00124%2C1804.00125%2C1804.00126%2C1804.00127%2C1804.00128%2C1804.00129%2C1804.00130%2C1804.00131%2C1804.00132%2C1804.00133%2C1804.00134%2C1804.00135%2C1804.00136%2C1804.00137%2C1804.00138%2C1804.00139%2C1804.00140%2C1804.00141%2C1804.00142%2C1804.00143%2C1804.00144%2C1804.00145%2C1804.00146%2C1804.00147%2C1804.00148%2C1804.00149%2C1804.00150%2C1804.00151%2C1804.00152%2C1804.00153%2C1804.00154%2C1804.00155%2C1804.00156%2C1804.00157%2C1804.00158%2C1804.00159%2C1804.00160%2C1804.00161%2C1804.00162%2C1804.00163%2C1804.00164%2C1804.00165%2C1804.00166%2C1804.00167%2C1804.00168%2C1804.00169%2C1804.00170%2C1804.00171%2C1804.00172%2C1804.00173%2C1804.00174%2C1804.00175%2C1804.00176%2C1804.00177%2C1804.00178%2C1804.00179%2C1804.00180%2C1804.00181%2C1804.00182%2C1804.00183%2C1804.00184%2C1804.00185%2C1804.00186%2C1804.00187%2C1804.00188%2C1804.00189%2C1804.00190%2C1804.00191%2C1804.00192%2C1804.00193%2C1804.00194%2C1804.00195%2C1804.00196%2C1804.00197%2C1804.00198%2C1804.00199%2C1804.00200%2C1804.00201%2C1804.00202%2C1804.00203%2C1804.00204%2C1804.00205%2C1804.00206%2C1804.00207%2C1804.00208%2C1804.00209%2C1804.00210%2C1804.00211%2C1804.00212%2C1804.00213%2C1804.00214%2C1804.00215%2C1804.00216%2C1804.00217%2C1804.00218%2C1804.00219%2C1804.00220%2C1804.00221%2C1804.00222%2C1804.00223%2C1804.00224%2C1804.00225%2C1804.00226%2C1804.00227%2C1804.00228%2C1804.00229%2C1804.00230%2C1804.00231%2C1804.00232%2C1804.00233%2C1804.00234%2C1804.00235%2C1804.00236%2C1804.00237%2C1804.00238%2C1804.00239%2C1804.00240%2C1804.00241%2C1804.00242%2C1804.00243%2C1804.00244%2C1804.00245%2C1804.00246%2C1804.00247%2C1804.00248%2C1804.00249%2C1804.00250%2C1804.00251%2C1804.00252%2C1804.00253%2C1804.00254%2C1804.00255%2C1804.00256%2C1804.00257%2C1804.00258%2C1804.00259%2C1804.00260%2C1804.00261%2C1804.00262&start=0&max_results=300&sortBy=relevance&sortOrder=descending',\n",
       "   'value': 'An almost splitting theorem for a warped product space'},\n",
       "  'summary': 'We prove an almost splitting theorem for the warped product space with warped\\nfunction $f(r)=\\\\cosh\\\\left(r\\\\sqrt{\\\\frac{\\\\lambda}{n-2}}\\\\right)$.',\n",
       "  'summary_detail': {'type': 'text/plain',\n",
       "   'language': None,\n",
       "   'base': 'http://export.arxiv.org/api/query?search_query=&id_list=1804.00001%2C1804.00002%2C1804.00003%2C1804.00004%2C1804.00005%2C1804.00006%2C1804.00007%2C1804.00008%2C1804.00009%2C1804.00010%2C1804.00011%2C1804.00012%2C1804.00013%2C1804.00014%2C1804.00015%2C1804.00016%2C1804.00017%2C1804.00018%2C1804.00019%2C1804.00020%2C1804.00021%2C1804.00022%2C1804.00023%2C1804.00024%2C1804.00025%2C1804.00026%2C1804.00027%2C1804.00028%2C1804.00029%2C1804.00030%2C1804.00031%2C1804.00032%2C1804.00033%2C1804.00034%2C1804.00035%2C1804.00036%2C1804.00037%2C1804.00038%2C1804.00039%2C1804.00040%2C1804.00041%2C1804.00042%2C1804.00043%2C1804.00044%2C1804.00045%2C1804.00046%2C1804.00047%2C1804.00048%2C1804.00049%2C1804.00050%2C1804.00051%2C1804.00052%2C1804.00053%2C1804.00054%2C1804.00055%2C1804.00056%2C1804.00057%2C1804.00058%2C1804.00059%2C1804.00060%2C1804.00061%2C1804.00062%2C1804.00063%2C1804.00064%2C1804.00065%2C1804.00066%2C1804.00067%2C1804.00068%2C1804.00069%2C1804.00070%2C1804.00071%2C1804.00072%2C1804.00073%2C1804.00074%2C1804.00075%2C1804.00076%2C1804.00077%2C1804.00078%2C1804.00079%2C1804.00080%2C1804.00081%2C1804.00082%2C1804.00083%2C1804.00084%2C1804.00085%2C1804.00086%2C1804.00087%2C1804.00088%2C1804.00089%2C1804.00090%2C1804.00091%2C1804.00092%2C1804.00093%2C1804.00094%2C1804.00095%2C1804.00096%2C1804.00097%2C1804.00098%2C1804.00099%2C1804.00100%2C1804.00101%2C1804.00102%2C1804.00103%2C1804.00104%2C1804.00105%2C1804.00106%2C1804.00107%2C1804.00108%2C1804.00109%2C1804.00110%2C1804.00111%2C1804.00112%2C1804.00113%2C1804.00114%2C1804.00115%2C1804.00116%2C1804.00117%2C1804.00118%2C1804.00119%2C1804.00120%2C1804.00121%2C1804.00122%2C1804.00123%2C1804.00124%2C1804.00125%2C1804.00126%2C1804.00127%2C1804.00128%2C1804.00129%2C1804.00130%2C1804.00131%2C1804.00132%2C1804.00133%2C1804.00134%2C1804.00135%2C1804.00136%2C1804.00137%2C1804.00138%2C1804.00139%2C1804.00140%2C1804.00141%2C1804.00142%2C1804.00143%2C1804.00144%2C1804.00145%2C1804.00146%2C1804.00147%2C1804.00148%2C1804.00149%2C1804.00150%2C1804.00151%2C1804.00152%2C1804.00153%2C1804.00154%2C1804.00155%2C1804.00156%2C1804.00157%2C1804.00158%2C1804.00159%2C1804.00160%2C1804.00161%2C1804.00162%2C1804.00163%2C1804.00164%2C1804.00165%2C1804.00166%2C1804.00167%2C1804.00168%2C1804.00169%2C1804.00170%2C1804.00171%2C1804.00172%2C1804.00173%2C1804.00174%2C1804.00175%2C1804.00176%2C1804.00177%2C1804.00178%2C1804.00179%2C1804.00180%2C1804.00181%2C1804.00182%2C1804.00183%2C1804.00184%2C1804.00185%2C1804.00186%2C1804.00187%2C1804.00188%2C1804.00189%2C1804.00190%2C1804.00191%2C1804.00192%2C1804.00193%2C1804.00194%2C1804.00195%2C1804.00196%2C1804.00197%2C1804.00198%2C1804.00199%2C1804.00200%2C1804.00201%2C1804.00202%2C1804.00203%2C1804.00204%2C1804.00205%2C1804.00206%2C1804.00207%2C1804.00208%2C1804.00209%2C1804.00210%2C1804.00211%2C1804.00212%2C1804.00213%2C1804.00214%2C1804.00215%2C1804.00216%2C1804.00217%2C1804.00218%2C1804.00219%2C1804.00220%2C1804.00221%2C1804.00222%2C1804.00223%2C1804.00224%2C1804.00225%2C1804.00226%2C1804.00227%2C1804.00228%2C1804.00229%2C1804.00230%2C1804.00231%2C1804.00232%2C1804.00233%2C1804.00234%2C1804.00235%2C1804.00236%2C1804.00237%2C1804.00238%2C1804.00239%2C1804.00240%2C1804.00241%2C1804.00242%2C1804.00243%2C1804.00244%2C1804.00245%2C1804.00246%2C1804.00247%2C1804.00248%2C1804.00249%2C1804.00250%2C1804.00251%2C1804.00252%2C1804.00253%2C1804.00254%2C1804.00255%2C1804.00256%2C1804.00257%2C1804.00258%2C1804.00259%2C1804.00260%2C1804.00261%2C1804.00262&start=0&max_results=300&sortBy=relevance&sortOrder=descending',\n",
       "   'value': 'We prove an almost splitting theorem for the warped product space with warped\\nfunction $f(r)=\\\\cosh\\\\left(r\\\\sqrt{\\\\frac{\\\\lambda}{n-2}}\\\\right)$.'},\n",
       "  'authors': ['Paul Woon Yin Lee'],\n",
       "  'author_detail': {'name': 'Paul Woon Yin Lee'},\n",
       "  'author': 'Paul Woon Yin Lee',\n",
       "  'arxiv_comment': '20 pages',\n",
       "  'links': [{'href': 'http://arxiv.org/abs/1804.00193v1',\n",
       "    'rel': 'alternate',\n",
       "    'type': 'text/html'},\n",
       "   {'title': 'pdf',\n",
       "    'href': 'http://arxiv.org/pdf/1804.00193v1',\n",
       "    'rel': 'related',\n",
       "    'type': 'application/pdf'}],\n",
       "  'arxiv_primary_category': {'term': 'math.DG',\n",
       "   'scheme': 'http://arxiv.org/schemas/atom'},\n",
       "  'tags': [{'term': 'math.DG',\n",
       "    'scheme': 'http://arxiv.org/schemas/atom',\n",
       "    'label': None},\n",
       "   {'term': '53C21, 53C24',\n",
       "    'scheme': 'http://arxiv.org/schemas/atom',\n",
       "    'label': None}],\n",
       "  'pdf_url': 'http://arxiv.org/pdf/1804.00193v1',\n",
       "  'affiliation': 'None',\n",
       "  'arxiv_url': 'http://arxiv.org/abs/1804.00193v1',\n",
       "  'journal_reference': None,\n",
       "  'doi': None},\n",
       " {'id': 'http://arxiv.org/abs/1804.00259v2',\n",
       "  'guidislink': True,\n",
       "  'updated': '2018-04-11T20:54:51Z',\n",
       "  'updated_parsed': time.struct_time(tm_year=2018, tm_mon=4, tm_mday=11, tm_hour=20, tm_min=54, tm_sec=51, tm_wday=2, tm_yday=101, tm_isdst=0),\n",
       "  'published': '2018-04-01T05:38:29Z',\n",
       "  'published_parsed': time.struct_time(tm_year=2018, tm_mon=4, tm_mday=1, tm_hour=5, tm_min=38, tm_sec=29, tm_wday=6, tm_yday=91, tm_isdst=0),\n",
       "  'title': 'Surfaces of revolution with prescribed mean and skew curvatures in\\n  Lorentz-Minkowski space',\n",
       "  'title_detail': {'type': 'text/plain',\n",
       "   'language': None,\n",
       "   'base': 'http://export.arxiv.org/api/query?search_query=&id_list=1804.00001%2C1804.00002%2C1804.00003%2C1804.00004%2C1804.00005%2C1804.00006%2C1804.00007%2C1804.00008%2C1804.00009%2C1804.00010%2C1804.00011%2C1804.00012%2C1804.00013%2C1804.00014%2C1804.00015%2C1804.00016%2C1804.00017%2C1804.00018%2C1804.00019%2C1804.00020%2C1804.00021%2C1804.00022%2C1804.00023%2C1804.00024%2C1804.00025%2C1804.00026%2C1804.00027%2C1804.00028%2C1804.00029%2C1804.00030%2C1804.00031%2C1804.00032%2C1804.00033%2C1804.00034%2C1804.00035%2C1804.00036%2C1804.00037%2C1804.00038%2C1804.00039%2C1804.00040%2C1804.00041%2C1804.00042%2C1804.00043%2C1804.00044%2C1804.00045%2C1804.00046%2C1804.00047%2C1804.00048%2C1804.00049%2C1804.00050%2C1804.00051%2C1804.00052%2C1804.00053%2C1804.00054%2C1804.00055%2C1804.00056%2C1804.00057%2C1804.00058%2C1804.00059%2C1804.00060%2C1804.00061%2C1804.00062%2C1804.00063%2C1804.00064%2C1804.00065%2C1804.00066%2C1804.00067%2C1804.00068%2C1804.00069%2C1804.00070%2C1804.00071%2C1804.00072%2C1804.00073%2C1804.00074%2C1804.00075%2C1804.00076%2C1804.00077%2C1804.00078%2C1804.00079%2C1804.00080%2C1804.00081%2C1804.00082%2C1804.00083%2C1804.00084%2C1804.00085%2C1804.00086%2C1804.00087%2C1804.00088%2C1804.00089%2C1804.00090%2C1804.00091%2C1804.00092%2C1804.00093%2C1804.00094%2C1804.00095%2C1804.00096%2C1804.00097%2C1804.00098%2C1804.00099%2C1804.00100%2C1804.00101%2C1804.00102%2C1804.00103%2C1804.00104%2C1804.00105%2C1804.00106%2C1804.00107%2C1804.00108%2C1804.00109%2C1804.00110%2C1804.00111%2C1804.00112%2C1804.00113%2C1804.00114%2C1804.00115%2C1804.00116%2C1804.00117%2C1804.00118%2C1804.00119%2C1804.00120%2C1804.00121%2C1804.00122%2C1804.00123%2C1804.00124%2C1804.00125%2C1804.00126%2C1804.00127%2C1804.00128%2C1804.00129%2C1804.00130%2C1804.00131%2C1804.00132%2C1804.00133%2C1804.00134%2C1804.00135%2C1804.00136%2C1804.00137%2C1804.00138%2C1804.00139%2C1804.00140%2C1804.00141%2C1804.00142%2C1804.00143%2C1804.00144%2C1804.00145%2C1804.00146%2C1804.00147%2C1804.00148%2C1804.00149%2C1804.00150%2C1804.00151%2C1804.00152%2C1804.00153%2C1804.00154%2C1804.00155%2C1804.00156%2C1804.00157%2C1804.00158%2C1804.00159%2C1804.00160%2C1804.00161%2C1804.00162%2C1804.00163%2C1804.00164%2C1804.00165%2C1804.00166%2C1804.00167%2C1804.00168%2C1804.00169%2C1804.00170%2C1804.00171%2C1804.00172%2C1804.00173%2C1804.00174%2C1804.00175%2C1804.00176%2C1804.00177%2C1804.00178%2C1804.00179%2C1804.00180%2C1804.00181%2C1804.00182%2C1804.00183%2C1804.00184%2C1804.00185%2C1804.00186%2C1804.00187%2C1804.00188%2C1804.00189%2C1804.00190%2C1804.00191%2C1804.00192%2C1804.00193%2C1804.00194%2C1804.00195%2C1804.00196%2C1804.00197%2C1804.00198%2C1804.00199%2C1804.00200%2C1804.00201%2C1804.00202%2C1804.00203%2C1804.00204%2C1804.00205%2C1804.00206%2C1804.00207%2C1804.00208%2C1804.00209%2C1804.00210%2C1804.00211%2C1804.00212%2C1804.00213%2C1804.00214%2C1804.00215%2C1804.00216%2C1804.00217%2C1804.00218%2C1804.00219%2C1804.00220%2C1804.00221%2C1804.00222%2C1804.00223%2C1804.00224%2C1804.00225%2C1804.00226%2C1804.00227%2C1804.00228%2C1804.00229%2C1804.00230%2C1804.00231%2C1804.00232%2C1804.00233%2C1804.00234%2C1804.00235%2C1804.00236%2C1804.00237%2C1804.00238%2C1804.00239%2C1804.00240%2C1804.00241%2C1804.00242%2C1804.00243%2C1804.00244%2C1804.00245%2C1804.00246%2C1804.00247%2C1804.00248%2C1804.00249%2C1804.00250%2C1804.00251%2C1804.00252%2C1804.00253%2C1804.00254%2C1804.00255%2C1804.00256%2C1804.00257%2C1804.00258%2C1804.00259%2C1804.00260%2C1804.00261%2C1804.00262&start=0&max_results=300&sortBy=relevance&sortOrder=descending',\n",
       "   'value': 'Surfaces of revolution with prescribed mean and skew curvatures in\\n  Lorentz-Minkowski space'},\n",
       "  'summary': 'In this work, we investigate the problem of finding surfaces in the\\nLorentz-Minkowski 3-space with prescribed skew (S) and mean (H) curvatures,\\nwhich are defined through the discriminant of the characteristic polynomial of\\nthe shape operator and its trace, respectively. After showing that H and S can\\nbe interpreted in terms of the expected value and standard deviation of the\\nnormal curvature seen as a random variable, we address the problem of\\nprescribed curvatures for surfaces of revolution. For surfaces with a\\nnon-lightlike axis and prescribed H, the strategy consists in rewriting the\\nequation for H, which is initially a nonlinear second order Ordinary\\nDifferential Equation (ODE), as a linear first order ODE with coefficients in a\\ncertain ring of hypercomplex numbers along the generating curves: complex\\nnumbers for curves on a spacelike plane and Lorentz numbers for curves on a\\ntimelike plane. We also solve the problem for revolution surfaces with a\\nlightlike axis by using a certain ODE with real coefficients. On the other\\nhand, for the skew curvature problem, we rewrite the equation for S, which is\\ninitially a nonlinear second order ODE, as a linear first order ODE with real\\ncoefficients. In all the problems, we are able to find the parameterization for\\nthe generating curves in terms of certain integrals of H and S.',\n",
       "  'summary_detail': {'type': 'text/plain',\n",
       "   'language': None,\n",
       "   'base': 'http://export.arxiv.org/api/query?search_query=&id_list=1804.00001%2C1804.00002%2C1804.00003%2C1804.00004%2C1804.00005%2C1804.00006%2C1804.00007%2C1804.00008%2C1804.00009%2C1804.00010%2C1804.00011%2C1804.00012%2C1804.00013%2C1804.00014%2C1804.00015%2C1804.00016%2C1804.00017%2C1804.00018%2C1804.00019%2C1804.00020%2C1804.00021%2C1804.00022%2C1804.00023%2C1804.00024%2C1804.00025%2C1804.00026%2C1804.00027%2C1804.00028%2C1804.00029%2C1804.00030%2C1804.00031%2C1804.00032%2C1804.00033%2C1804.00034%2C1804.00035%2C1804.00036%2C1804.00037%2C1804.00038%2C1804.00039%2C1804.00040%2C1804.00041%2C1804.00042%2C1804.00043%2C1804.00044%2C1804.00045%2C1804.00046%2C1804.00047%2C1804.00048%2C1804.00049%2C1804.00050%2C1804.00051%2C1804.00052%2C1804.00053%2C1804.00054%2C1804.00055%2C1804.00056%2C1804.00057%2C1804.00058%2C1804.00059%2C1804.00060%2C1804.00061%2C1804.00062%2C1804.00063%2C1804.00064%2C1804.00065%2C1804.00066%2C1804.00067%2C1804.00068%2C1804.00069%2C1804.00070%2C1804.00071%2C1804.00072%2C1804.00073%2C1804.00074%2C1804.00075%2C1804.00076%2C1804.00077%2C1804.00078%2C1804.00079%2C1804.00080%2C1804.00081%2C1804.00082%2C1804.00083%2C1804.00084%2C1804.00085%2C1804.00086%2C1804.00087%2C1804.00088%2C1804.00089%2C1804.00090%2C1804.00091%2C1804.00092%2C1804.00093%2C1804.00094%2C1804.00095%2C1804.00096%2C1804.00097%2C1804.00098%2C1804.00099%2C1804.00100%2C1804.00101%2C1804.00102%2C1804.00103%2C1804.00104%2C1804.00105%2C1804.00106%2C1804.00107%2C1804.00108%2C1804.00109%2C1804.00110%2C1804.00111%2C1804.00112%2C1804.00113%2C1804.00114%2C1804.00115%2C1804.00116%2C1804.00117%2C1804.00118%2C1804.00119%2C1804.00120%2C1804.00121%2C1804.00122%2C1804.00123%2C1804.00124%2C1804.00125%2C1804.00126%2C1804.00127%2C1804.00128%2C1804.00129%2C1804.00130%2C1804.00131%2C1804.00132%2C1804.00133%2C1804.00134%2C1804.00135%2C1804.00136%2C1804.00137%2C1804.00138%2C1804.00139%2C1804.00140%2C1804.00141%2C1804.00142%2C1804.00143%2C1804.00144%2C1804.00145%2C1804.00146%2C1804.00147%2C1804.00148%2C1804.00149%2C1804.00150%2C1804.00151%2C1804.00152%2C1804.00153%2C1804.00154%2C1804.00155%2C1804.00156%2C1804.00157%2C1804.00158%2C1804.00159%2C1804.00160%2C1804.00161%2C1804.00162%2C1804.00163%2C1804.00164%2C1804.00165%2C1804.00166%2C1804.00167%2C1804.00168%2C1804.00169%2C1804.00170%2C1804.00171%2C1804.00172%2C1804.00173%2C1804.00174%2C1804.00175%2C1804.00176%2C1804.00177%2C1804.00178%2C1804.00179%2C1804.00180%2C1804.00181%2C1804.00182%2C1804.00183%2C1804.00184%2C1804.00185%2C1804.00186%2C1804.00187%2C1804.00188%2C1804.00189%2C1804.00190%2C1804.00191%2C1804.00192%2C1804.00193%2C1804.00194%2C1804.00195%2C1804.00196%2C1804.00197%2C1804.00198%2C1804.00199%2C1804.00200%2C1804.00201%2C1804.00202%2C1804.00203%2C1804.00204%2C1804.00205%2C1804.00206%2C1804.00207%2C1804.00208%2C1804.00209%2C1804.00210%2C1804.00211%2C1804.00212%2C1804.00213%2C1804.00214%2C1804.00215%2C1804.00216%2C1804.00217%2C1804.00218%2C1804.00219%2C1804.00220%2C1804.00221%2C1804.00222%2C1804.00223%2C1804.00224%2C1804.00225%2C1804.00226%2C1804.00227%2C1804.00228%2C1804.00229%2C1804.00230%2C1804.00231%2C1804.00232%2C1804.00233%2C1804.00234%2C1804.00235%2C1804.00236%2C1804.00237%2C1804.00238%2C1804.00239%2C1804.00240%2C1804.00241%2C1804.00242%2C1804.00243%2C1804.00244%2C1804.00245%2C1804.00246%2C1804.00247%2C1804.00248%2C1804.00249%2C1804.00250%2C1804.00251%2C1804.00252%2C1804.00253%2C1804.00254%2C1804.00255%2C1804.00256%2C1804.00257%2C1804.00258%2C1804.00259%2C1804.00260%2C1804.00261%2C1804.00262&start=0&max_results=300&sortBy=relevance&sortOrder=descending',\n",
       "   'value': 'In this work, we investigate the problem of finding surfaces in the\\nLorentz-Minkowski 3-space with prescribed skew (S) and mean (H) curvatures,\\nwhich are defined through the discriminant of the characteristic polynomial of\\nthe shape operator and its trace, respectively. After showing that H and S can\\nbe interpreted in terms of the expected value and standard deviation of the\\nnormal curvature seen as a random variable, we address the problem of\\nprescribed curvatures for surfaces of revolution. For surfaces with a\\nnon-lightlike axis and prescribed H, the strategy consists in rewriting the\\nequation for H, which is initially a nonlinear second order Ordinary\\nDifferential Equation (ODE), as a linear first order ODE with coefficients in a\\ncertain ring of hypercomplex numbers along the generating curves: complex\\nnumbers for curves on a spacelike plane and Lorentz numbers for curves on a\\ntimelike plane. We also solve the problem for revolution surfaces with a\\nlightlike axis by using a certain ODE with real coefficients. On the other\\nhand, for the skew curvature problem, we rewrite the equation for S, which is\\ninitially a nonlinear second order ODE, as a linear first order ODE with real\\ncoefficients. In all the problems, we are able to find the parameterization for\\nthe generating curves in terms of certain integrals of H and S.'},\n",
       "  'authors': ['Luiz C. B. da Silva'],\n",
       "  'author_detail': {'name': 'Luiz C. B. da Silva'},\n",
       "  'author': 'Luiz C. B. da Silva',\n",
       "  'arxiv_comment': '25 pages, 4 figures. For this 2nd version we corrected some typos and\\n  also established an Euler theorem for the normal curvature along with an\\n  interpretation of H and S as the expected value and standard deviation of the\\n  normal curvature seen as a random variable',\n",
       "  'links': [{'href': 'http://arxiv.org/abs/1804.00259v2',\n",
       "    'rel': 'alternate',\n",
       "    'type': 'text/html'},\n",
       "   {'title': 'pdf',\n",
       "    'href': 'http://arxiv.org/pdf/1804.00259v2',\n",
       "    'rel': 'related',\n",
       "    'type': 'application/pdf'}],\n",
       "  'arxiv_primary_category': {'term': 'math.DG',\n",
       "   'scheme': 'http://arxiv.org/schemas/atom'},\n",
       "  'tags': [{'term': 'math.DG',\n",
       "    'scheme': 'http://arxiv.org/schemas/atom',\n",
       "    'label': None},\n",
       "   {'term': '53A10, 53A55, 53B30',\n",
       "    'scheme': 'http://arxiv.org/schemas/atom',\n",
       "    'label': None}],\n",
       "  'pdf_url': 'http://arxiv.org/pdf/1804.00259v2',\n",
       "  'affiliation': 'None',\n",
       "  'arxiv_url': 'http://arxiv.org/abs/1804.00259v2',\n",
       "  'journal_reference': None,\n",
       "  'doi': None}]"
      ]
     },
     "execution_count": 89,
     "metadata": {},
     "output_type": "execute_result"
    }
   ],
   "source": [
    "diff_geom = [d for d in dicts if d.get('tags',None)[0]['term']=='math.DG']\n",
    "diff_geom"
   ]
  },
  {
   "cell_type": "code",
   "execution_count": 90,
   "metadata": {},
   "outputs": [
    {
     "data": {
      "text/plain": [
       "['Uniqueness of convex ancient solutions to mean curvature flow in higher\\n  dimensions',\n",
       " 'An almost splitting theorem for a warped product space',\n",
       " 'Surfaces of revolution with prescribed mean and skew curvatures in\\n  Lorentz-Minkowski space']"
      ]
     },
     "execution_count": 90,
     "metadata": {},
     "output_type": "execute_result"
    }
   ],
   "source": [
    "[d.title for d in diff_geom]"
   ]
  },
  {
   "cell_type": "code",
   "execution_count": 29,
   "metadata": {},
   "outputs": [],
   "source": [
    "math = [d for d in dicts if 'math' in d['tags'][0]['term']]"
   ]
  },
  {
   "cell_type": "code",
   "execution_count": 43,
   "metadata": {},
   "outputs": [
    {
     "data": {
      "text/plain": [
       "{'math-ph',\n",
       " 'math.AG',\n",
       " 'math.AP',\n",
       " 'math.CO',\n",
       " 'math.CV',\n",
       " 'math.DG',\n",
       " 'math.DS',\n",
       " 'math.FA',\n",
       " 'math.HO',\n",
       " 'math.KT',\n",
       " 'math.LO',\n",
       " 'math.MG',\n",
       " 'math.NA',\n",
       " 'math.NT',\n",
       " 'math.OA',\n",
       " 'math.OC',\n",
       " 'math.PR',\n",
       " 'math.QA',\n",
       " 'math.RA',\n",
       " 'math.RT',\n",
       " 'math.SP',\n",
       " 'math.ST'}"
      ]
     },
     "execution_count": 43,
     "metadata": {},
     "output_type": "execute_result"
    }
   ],
   "source": [
    "set([d['tags'][0]['term'] for d in math])"
   ]
  },
  {
   "cell_type": "code",
   "execution_count": 86,
   "metadata": {},
   "outputs": [
    {
     "data": {
      "text/plain": [
       "['1804/1804.00018.gz', '1804/1804.00193.gz', '1804/1804.00259.gz']"
      ]
     },
     "execution_count": 86,
     "metadata": {},
     "output_type": "execute_result"
    }
   ],
   "source": [
    "import re\n",
    "def api2tar(id_str):\n",
    "    '''\n",
    "    The arxiv API produces ids in the format:\n",
    "    http://arxiv.org/abs/1804.00018v1',\n",
    " http://arxiv.org/abs/1804.00193v1',\n",
    " http://arxiv.org/abs/1804.00259v2\n",
    "    The tar files have name format:\n",
    "    <TarInfo '1804/1804.00020.gz' at 0x7f0ba68c8cc8>\n",
    "    '''\n",
    "    name = re.match(r'.*([0-9]{4})\\.([0-9]{5})',id_str)\n",
    "    return name.group(1) + '/' + name.group(1) + '.' + name.group(2) + '.gz'\n",
    "    \n",
    "    \n",
    "[api2tar(d.id) for d in dicts if d.get('tags',None)[0]['term']=='math.DG']"
   ]
  },
  {
   "cell_type": "code",
   "execution_count": 78,
   "metadata": {},
   "outputs": [
    {
     "data": {
      "text/plain": [
       "{'id': 'http://arxiv.org/abs/1804.00001v1',\n",
       " 'guidislink': True,\n",
       " 'updated': '2018-03-30T11:08:38Z',\n",
       " 'updated_parsed': time.struct_time(tm_year=2018, tm_mon=3, tm_mday=30, tm_hour=11, tm_min=8, tm_sec=38, tm_wday=4, tm_yday=89, tm_isdst=0),\n",
       " 'published': '2018-03-30T11:08:38Z',\n",
       " 'published_parsed': time.struct_time(tm_year=2018, tm_mon=3, tm_mday=30, tm_hour=11, tm_min=8, tm_sec=38, tm_wday=4, tm_yday=89, tm_isdst=0),\n",
       " 'title': 'Phenomenological analysis of densification mechanism during spark plasma\\n  sintering of MgAl2O4',\n",
       " 'title_detail': {'type': 'text/plain',\n",
       "  'language': None,\n",
       "  'base': 'http://export.arxiv.org/api/query?search_query=&id_list=1804.00001%2C1804.00002%2C1804.00003%2C1804.00004%2C1804.00005%2C1804.00006%2C1804.00007%2C1804.00008%2C1804.00009%2C1804.00010%2C1804.00011%2C1804.00012%2C1804.00013%2C1804.00014%2C1804.00015%2C1804.00016%2C1804.00017%2C1804.00018%2C1804.00019%2C1804.00020%2C1804.00021%2C1804.00022%2C1804.00023%2C1804.00024%2C1804.00025%2C1804.00026%2C1804.00027%2C1804.00028%2C1804.00029%2C1804.00030%2C1804.00031%2C1804.00032%2C1804.00033%2C1804.00034%2C1804.00035%2C1804.00036%2C1804.00037%2C1804.00038%2C1804.00039%2C1804.00040%2C1804.00041%2C1804.00042%2C1804.00043%2C1804.00044%2C1804.00045%2C1804.00046%2C1804.00047%2C1804.00048%2C1804.00049%2C1804.00050%2C1804.00051%2C1804.00052%2C1804.00053%2C1804.00054%2C1804.00055%2C1804.00056%2C1804.00057%2C1804.00058%2C1804.00059%2C1804.00060%2C1804.00061%2C1804.00062%2C1804.00063%2C1804.00064%2C1804.00065%2C1804.00066%2C1804.00067%2C1804.00068%2C1804.00069%2C1804.00070%2C1804.00071%2C1804.00072%2C1804.00073%2C1804.00074%2C1804.00075%2C1804.00076%2C1804.00077%2C1804.00078%2C1804.00079%2C1804.00080%2C1804.00081%2C1804.00082%2C1804.00083%2C1804.00084%2C1804.00085%2C1804.00086%2C1804.00087%2C1804.00088%2C1804.00089%2C1804.00090%2C1804.00091%2C1804.00092%2C1804.00093%2C1804.00094%2C1804.00095%2C1804.00096%2C1804.00097%2C1804.00098%2C1804.00099%2C1804.00100%2C1804.00101%2C1804.00102%2C1804.00103%2C1804.00104%2C1804.00105%2C1804.00106%2C1804.00107%2C1804.00108%2C1804.00109%2C1804.00110%2C1804.00111%2C1804.00112%2C1804.00113%2C1804.00114%2C1804.00115%2C1804.00116%2C1804.00117%2C1804.00118%2C1804.00119%2C1804.00120%2C1804.00121%2C1804.00122%2C1804.00123%2C1804.00124%2C1804.00125%2C1804.00126%2C1804.00127%2C1804.00128%2C1804.00129%2C1804.00130%2C1804.00131%2C1804.00132%2C1804.00133%2C1804.00134%2C1804.00135%2C1804.00136%2C1804.00137%2C1804.00138%2C1804.00139%2C1804.00140%2C1804.00141%2C1804.00142%2C1804.00143%2C1804.00144%2C1804.00145%2C1804.00146%2C1804.00147%2C1804.00148%2C1804.00149%2C1804.00150%2C1804.00151%2C1804.00152%2C1804.00153%2C1804.00154%2C1804.00155%2C1804.00156%2C1804.00157%2C1804.00158%2C1804.00159%2C1804.00160%2C1804.00161%2C1804.00162%2C1804.00163%2C1804.00164%2C1804.00165%2C1804.00166%2C1804.00167%2C1804.00168%2C1804.00169%2C1804.00170%2C1804.00171%2C1804.00172%2C1804.00173%2C1804.00174%2C1804.00175%2C1804.00176%2C1804.00177%2C1804.00178%2C1804.00179%2C1804.00180%2C1804.00181%2C1804.00182%2C1804.00183%2C1804.00184%2C1804.00185%2C1804.00186%2C1804.00187%2C1804.00188%2C1804.00189%2C1804.00190%2C1804.00191%2C1804.00192%2C1804.00193%2C1804.00194%2C1804.00195%2C1804.00196%2C1804.00197%2C1804.00198%2C1804.00199%2C1804.00200%2C1804.00201%2C1804.00202%2C1804.00203%2C1804.00204%2C1804.00205%2C1804.00206%2C1804.00207%2C1804.00208%2C1804.00209%2C1804.00210%2C1804.00211%2C1804.00212%2C1804.00213%2C1804.00214%2C1804.00215%2C1804.00216%2C1804.00217%2C1804.00218%2C1804.00219%2C1804.00220%2C1804.00221%2C1804.00222%2C1804.00223%2C1804.00224%2C1804.00225%2C1804.00226%2C1804.00227%2C1804.00228%2C1804.00229%2C1804.00230%2C1804.00231%2C1804.00232%2C1804.00233%2C1804.00234%2C1804.00235%2C1804.00236%2C1804.00237%2C1804.00238%2C1804.00239%2C1804.00240%2C1804.00241%2C1804.00242%2C1804.00243%2C1804.00244%2C1804.00245%2C1804.00246%2C1804.00247%2C1804.00248%2C1804.00249%2C1804.00250%2C1804.00251%2C1804.00252%2C1804.00253%2C1804.00254%2C1804.00255%2C1804.00256%2C1804.00257%2C1804.00258%2C1804.00259%2C1804.00260%2C1804.00261%2C1804.00262&start=0&max_results=300&sortBy=relevance&sortOrder=descending',\n",
       "  'value': 'Phenomenological analysis of densification mechanism during spark plasma\\n  sintering of MgAl2O4'},\n",
       " 'summary': 'Spark plasma sintering (SPS) of MgAl2O4 powder was investigated at\\ntemperatures between 1200 and 1300{\\\\deg}C. A significant grain growth was\\nobserved during densification. The densification rate always exhibits at least\\none strong minimum, and resumes after an incubation period. Transmission\\nelectron microscopy investigations performed on sintered samples never revealed\\nextensive dislocation activity in the elemental grains. The densification\\nmechanism involved during SPS was determined by anisothermal (investigation of\\nthe heating stage of a SPS run) and isothermal methods (investigation at given\\nsoak temperatures). Grain-boundary sliding, accommodated by an in-series\\n{interface-reaction/lattice diffusion of the O$^2$-anions} mechanism controlled\\nby the interface-reaction step, governs densification. The\\nzero-densification-rate period, detected for all soak temperatures, arise from\\nthe difficulty of annealing vacancies, necessary for the densification to\\nproceed. The detection of atomic ledges at grain boundaries and the\\nmodification of the stoichiometry of spinel during SPS could be related to the\\ndifficulty to anneal vacancies at temperature soaks.',\n",
       " 'summary_detail': {'type': 'text/plain',\n",
       "  'language': None,\n",
       "  'base': 'http://export.arxiv.org/api/query?search_query=&id_list=1804.00001%2C1804.00002%2C1804.00003%2C1804.00004%2C1804.00005%2C1804.00006%2C1804.00007%2C1804.00008%2C1804.00009%2C1804.00010%2C1804.00011%2C1804.00012%2C1804.00013%2C1804.00014%2C1804.00015%2C1804.00016%2C1804.00017%2C1804.00018%2C1804.00019%2C1804.00020%2C1804.00021%2C1804.00022%2C1804.00023%2C1804.00024%2C1804.00025%2C1804.00026%2C1804.00027%2C1804.00028%2C1804.00029%2C1804.00030%2C1804.00031%2C1804.00032%2C1804.00033%2C1804.00034%2C1804.00035%2C1804.00036%2C1804.00037%2C1804.00038%2C1804.00039%2C1804.00040%2C1804.00041%2C1804.00042%2C1804.00043%2C1804.00044%2C1804.00045%2C1804.00046%2C1804.00047%2C1804.00048%2C1804.00049%2C1804.00050%2C1804.00051%2C1804.00052%2C1804.00053%2C1804.00054%2C1804.00055%2C1804.00056%2C1804.00057%2C1804.00058%2C1804.00059%2C1804.00060%2C1804.00061%2C1804.00062%2C1804.00063%2C1804.00064%2C1804.00065%2C1804.00066%2C1804.00067%2C1804.00068%2C1804.00069%2C1804.00070%2C1804.00071%2C1804.00072%2C1804.00073%2C1804.00074%2C1804.00075%2C1804.00076%2C1804.00077%2C1804.00078%2C1804.00079%2C1804.00080%2C1804.00081%2C1804.00082%2C1804.00083%2C1804.00084%2C1804.00085%2C1804.00086%2C1804.00087%2C1804.00088%2C1804.00089%2C1804.00090%2C1804.00091%2C1804.00092%2C1804.00093%2C1804.00094%2C1804.00095%2C1804.00096%2C1804.00097%2C1804.00098%2C1804.00099%2C1804.00100%2C1804.00101%2C1804.00102%2C1804.00103%2C1804.00104%2C1804.00105%2C1804.00106%2C1804.00107%2C1804.00108%2C1804.00109%2C1804.00110%2C1804.00111%2C1804.00112%2C1804.00113%2C1804.00114%2C1804.00115%2C1804.00116%2C1804.00117%2C1804.00118%2C1804.00119%2C1804.00120%2C1804.00121%2C1804.00122%2C1804.00123%2C1804.00124%2C1804.00125%2C1804.00126%2C1804.00127%2C1804.00128%2C1804.00129%2C1804.00130%2C1804.00131%2C1804.00132%2C1804.00133%2C1804.00134%2C1804.00135%2C1804.00136%2C1804.00137%2C1804.00138%2C1804.00139%2C1804.00140%2C1804.00141%2C1804.00142%2C1804.00143%2C1804.00144%2C1804.00145%2C1804.00146%2C1804.00147%2C1804.00148%2C1804.00149%2C1804.00150%2C1804.00151%2C1804.00152%2C1804.00153%2C1804.00154%2C1804.00155%2C1804.00156%2C1804.00157%2C1804.00158%2C1804.00159%2C1804.00160%2C1804.00161%2C1804.00162%2C1804.00163%2C1804.00164%2C1804.00165%2C1804.00166%2C1804.00167%2C1804.00168%2C1804.00169%2C1804.00170%2C1804.00171%2C1804.00172%2C1804.00173%2C1804.00174%2C1804.00175%2C1804.00176%2C1804.00177%2C1804.00178%2C1804.00179%2C1804.00180%2C1804.00181%2C1804.00182%2C1804.00183%2C1804.00184%2C1804.00185%2C1804.00186%2C1804.00187%2C1804.00188%2C1804.00189%2C1804.00190%2C1804.00191%2C1804.00192%2C1804.00193%2C1804.00194%2C1804.00195%2C1804.00196%2C1804.00197%2C1804.00198%2C1804.00199%2C1804.00200%2C1804.00201%2C1804.00202%2C1804.00203%2C1804.00204%2C1804.00205%2C1804.00206%2C1804.00207%2C1804.00208%2C1804.00209%2C1804.00210%2C1804.00211%2C1804.00212%2C1804.00213%2C1804.00214%2C1804.00215%2C1804.00216%2C1804.00217%2C1804.00218%2C1804.00219%2C1804.00220%2C1804.00221%2C1804.00222%2C1804.00223%2C1804.00224%2C1804.00225%2C1804.00226%2C1804.00227%2C1804.00228%2C1804.00229%2C1804.00230%2C1804.00231%2C1804.00232%2C1804.00233%2C1804.00234%2C1804.00235%2C1804.00236%2C1804.00237%2C1804.00238%2C1804.00239%2C1804.00240%2C1804.00241%2C1804.00242%2C1804.00243%2C1804.00244%2C1804.00245%2C1804.00246%2C1804.00247%2C1804.00248%2C1804.00249%2C1804.00250%2C1804.00251%2C1804.00252%2C1804.00253%2C1804.00254%2C1804.00255%2C1804.00256%2C1804.00257%2C1804.00258%2C1804.00259%2C1804.00260%2C1804.00261%2C1804.00262&start=0&max_results=300&sortBy=relevance&sortOrder=descending',\n",
       "  'value': 'Spark plasma sintering (SPS) of MgAl2O4 powder was investigated at\\ntemperatures between 1200 and 1300{\\\\deg}C. A significant grain growth was\\nobserved during densification. The densification rate always exhibits at least\\none strong minimum, and resumes after an incubation period. Transmission\\nelectron microscopy investigations performed on sintered samples never revealed\\nextensive dislocation activity in the elemental grains. The densification\\nmechanism involved during SPS was determined by anisothermal (investigation of\\nthe heating stage of a SPS run) and isothermal methods (investigation at given\\nsoak temperatures). Grain-boundary sliding, accommodated by an in-series\\n{interface-reaction/lattice diffusion of the O$^2$-anions} mechanism controlled\\nby the interface-reaction step, governs densification. The\\nzero-densification-rate period, detected for all soak temperatures, arise from\\nthe difficulty of annealing vacancies, necessary for the densification to\\nproceed. The detection of atomic ledges at grain boundaries and the\\nmodification of the stoichiometry of spinel during SPS could be related to the\\ndifficulty to anneal vacancies at temperature soaks.'},\n",
       " 'authors': ['Guillaume Bernard-Granger',\n",
       "  'Nassira Benameur',\n",
       "  'Ahmed Addad',\n",
       "  'Mats Nygren',\n",
       "  'Christian Guizard',\n",
       "  'Sylvain Deville'],\n",
       " 'author_detail': {'name': 'Sylvain Deville'},\n",
       " 'author': 'Sylvain Deville',\n",
       " 'links': [{'title': 'doi',\n",
       "   'href': 'http://dx.doi.org/10.1557/jmr.2009.0243',\n",
       "   'rel': 'related',\n",
       "   'type': 'text/html'},\n",
       "  {'href': 'http://arxiv.org/abs/1804.00001v1',\n",
       "   'rel': 'alternate',\n",
       "   'type': 'text/html'},\n",
       "  {'title': 'pdf',\n",
       "   'href': 'http://arxiv.org/pdf/1804.00001v1',\n",
       "   'rel': 'related',\n",
       "   'type': 'application/pdf'}],\n",
       " 'arxiv_comment': '22 pages, 12 figures',\n",
       " 'arxiv_primary_category': {'term': 'cond-mat.mtrl-sci',\n",
       "  'scheme': 'http://arxiv.org/schemas/atom'},\n",
       " 'tags': [{'term': 'cond-mat.mtrl-sci',\n",
       "   'scheme': 'http://arxiv.org/schemas/atom',\n",
       "   'label': None}],\n",
       " 'pdf_url': 'http://arxiv.org/pdf/1804.00001v1',\n",
       " 'affiliation': 'None',\n",
       " 'arxiv_url': 'http://arxiv.org/abs/1804.00001v1',\n",
       " 'journal_reference': 'Journal of Materials Research, Volume 24, Issue 6, June 2009 , pp.\\n  2011-2020',\n",
       " 'doi': '10.1557/jmr.2009.0243'}"
      ]
     },
     "execution_count": 78,
     "metadata": {},
     "output_type": "execute_result"
    }
   ],
   "source": [
    "DD = dicts[0]\n",
    "DD"
   ]
  },
  {
   "cell_type": "code",
   "execution_count": 6,
   "metadata": {},
   "outputs": [],
   "source": [
    "import tarfile\n",
    "\n",
    "with tarfile.open('/home/luis/MisDocumentos/arxivBulkDownload/arXiv_src_1804_001.tar') as ff:\n",
    "    art_lst = [k for k in ff.getmembers()]"
   ]
  },
  {
   "cell_type": "code",
   "execution_count": 80,
   "metadata": {},
   "outputs": [
    {
     "data": {
      "text/plain": [
       "<TarInfo '1804/1804.00020.gz' at 0x7f0ba68c8cc8>"
      ]
     },
     "execution_count": 80,
     "metadata": {},
     "output_type": "execute_result"
    }
   ],
   "source": [
    "ti = art_lst[1]\n",
    "ti"
   ]
  },
  {
   "cell_type": "code",
   "execution_count": 52,
   "metadata": {
    "scrolled": true
   },
   "outputs": [
    {
     "data": {
      "text/plain": [
       "{'name': '1804/1804.00020.gz',\n",
       " 'mode': 420,\n",
       " 'uid': 10519,\n",
       " 'gid': 10519,\n",
       " 'size': 15177,\n",
       " 'mtime': 1522713637,\n",
       " 'chksum': 5742,\n",
       " 'type': b'0',\n",
       " 'linkname': '',\n",
       " 'uname': 'e-prints',\n",
       " 'gname': 'e-prints',\n",
       " 'devmajor': 0,\n",
       " 'devminor': 0}"
      ]
     },
     "execution_count": 52,
     "metadata": {},
     "output_type": "execute_result"
    }
   ],
   "source": [
    "ti.get_info()"
   ]
  },
  {
   "cell_type": "code",
   "execution_count": 45,
   "metadata": {},
   "outputs": [],
   "source": [
    "import gzip\n",
    "with tarfile.open('/home/luis/MisDocumentos/arxivBulkDownload/arXiv_src_1804_001.tar') as ff:\n",
    "    zhu_gz = ff.extractfile('1804/1804.00020.gz')\n",
    "    zhu = gzip.open(zhu_gz,'rb')\n",
    "    zhu_str = zhu.read()"
   ]
  },
  {
   "cell_type": "code",
   "execution_count": 95,
   "metadata": {},
   "outputs": [],
   "source": [
    "with open('./zhu_untared.tex', 'w') as f:\n",
    "    f.write(zhu_str.decode('utf-8'))"
   ]
  },
  {
   "cell_type": "code",
   "execution_count": 93,
   "metadata": {},
   "outputs": [
    {
     "name": "stdout",
     "output_type": "stream",
     "text": [
      "b\"\\\\documentclass[psamsfonts,a4paper]{amsart}\\r\\n\\r\\n%-------Packages---------\\r\\n\\\\usepackage{amssymb,amsfonts}\\r\\n\\\\usepackage{amsaddr}\\r\\n\\\\usepackage[all,arc]{xy}\\r\\n\\\\usepackage{enumerate}\\r\\n%\\\\usepackage{mathrsfs}\\r\\n\\\\usepackage{tikz}\\r\\n\\\\usepackage{parskip}\\r\\n\\\\usepackage[margin=2.5cm]{geometry}\\r\\n\\\\usepackage{eucal}\\r\\n\\r\\n%--------Theorem Environments--------\\r\\n%theoremstyle{plain} --- default\\r\\n\\r\\n\\r\\n\\\\newtheorem{thm}{Theorem}[section]\\r\\n\\r\\n% Reinsert ``[section]'' here if you want theorems numbered by section.\\r\\n\\r\\n\\\\newtheorem{cor}[thm]{Corollary}\\r\\n\\\\newtheorem{prop}[thm]{Proposition}\\r\\n\\\\newtheorem{lemma}[thm]{Lemma}\\r\\n\\\\newtheorem{conj}[thm]{Conjecture}\\r\\n\\\\newtheorem{quest}[thm]{Question}\\r\\n\\r\\n\\\\theoremstyle{definition}\\r\\n\\\\newtheorem{defn}[thm]{Definition}\\r\\n\\\\newtheorem{defns}[thm]{Definitions}\\r\\n\\\\newtheorem{con}[thm]{Construction}\\r\\n\\\\newtheorem{exmp}[thm]{Example}\\r\\n\\\\newtheorem{exmps}[thm]{Examples}\\r\\n\\\\newtheorem{notn}[thm]{Notation}\\r\\n\\\\newtheorem{notns}[thm]{Notations}\\r\\n\\\\newtheorem{addm}[thm]{Addendum}\\r\\n\\\\newtheorem{exer}[thm]{Exercise}\\r\\n\\\\newtheorem{nolabel}[thm]{}\\r\\n\\r\\n\\\\theoremstyle{remark}\\r\\n\\\\newtheorem{rem}[thm]{Remark}\\r\\n\\\\newtheorem{rems}[thm]{Remarks}\\r\\n\\\\newtheorem{warn}[thm]{Warning}\\r\\n\\\\newtheorem{sch}[thm]{Scholium}\\r\\n\\r\\n\\\\makeatletter\\r\\n\\\\let\\\\c@equation\\\\c@thm\\r\\n\\\\makeatother\\r\\n\\\\numberwithin{equation}{section}\\r\\n\\r\\n\\r\\n\\r\\n\\r\\n% ---------------- Mathematical commands ----------------\\r\\n\\r\\n\\\\DeclareMathOperator{\\\\ad}{ad}\\r\\n\\\\DeclareMathOperator{\\\\ber}{Ber}\\r\\n\\\\DeclareMathOperator{\\\\der}{Der}\\r\\n\\\\DeclareMathOperator{\\\\ann}{Ann}\\r\\n\\\\DeclareMathOperator{\\\\aut}{Aut}\\r\\n\\\\DeclareMathOperator{\\\\ch}{Ch}\\r\\n\\\\DeclareMathOperator{\\\\en}{End}\\r\\n\\\\DeclareMathOperator{\\\\gr}{gr}\\r\\n\\\\DeclareMathOperator{\\\\Hom}{Hom}\\r\\n\\\\DeclareMathOperator{\\\\Imag}{Im}\\r\\n\\\\DeclareMathOperator{\\\\ind}{Ind}\\r\\n\\\\DeclareMathOperator{\\\\Real}{Re}\\r\\n\\\\DeclareMathOperator{\\\\res}{Res}\\r\\n\\\\DeclareMathOperator{\\\\spec}{Spec}\\r\\n\\\\DeclareMathOperator{\\\\str}{STr}\\r\\n\\\\DeclareMathOperator{\\\\tr}{Tr}\\r\\n\\\\DeclareMathOperator{\\\\zhu}{Zhu}\\r\\n\\r\\n\\\\newcommand{\\\\modd}[1]{#1\\\\text{{\\\\sf -mod}}}\\r\\n\\r\\n\\\\newcommand{\\\\C}{\\\\mathbb{C}}\\r\\n\\\\newcommand{\\\\F}{\\\\mathbb{F}}\\r\\n\\\\newcommand{\\\\PP}{\\\\mathbb{P}}\\r\\n\\\\newcommand{\\\\Q}{\\\\mathbb{Q}}\\r\\n\\\\newcommand{\\\\R}{\\\\mathbb{R}}\\r\\n\\\\newcommand{\\\\Z}{\\\\mathbb{Z}}\\r\\n\\r\\n\\\\newcommand{\\\\CG}{\\\\mathcal{G}}\\r\\n\\\\newcommand{\\\\CK}{\\\\mathcal{K}}\\r\\n\\\\newcommand{\\\\CA}{\\\\mathcal{A}}\\r\\n\\r\\n\\\\newcommand{\\\\B}{\\\\mathcal{B}}\\r\\n\\\\newcommand{\\\\CC}{\\\\mathcal{C}}\\r\\n\\\\newcommand{\\\\CD}{\\\\mathcal{D}}\\r\\n\\\\newcommand{\\\\HH}{\\\\mathcal{H}}\\r\\n\\\\newcommand{\\\\LL}{\\\\mathcal{L}}\\r\\n\\\\newcommand{\\\\M}{\\\\mathcal{M}}\\r\\n\\\\newcommand{\\\\OO}{\\\\mathcal{O}}\\r\\n\\\\newcommand{\\\\SSS}{\\\\mathcal{S}}\\r\\n\\\\newcommand{\\\\V}{\\\\mathcal{V}}\\r\\n\\\\newcommand{\\\\W}{\\\\mathcal{W}}\\r\\n\\\\newcommand{\\\\Y}{\\\\mathcal{Y}}\\r\\n\\\\newcommand{\\\\CF}{\\\\mathcal{F}}\\r\\n\\\\newcommand{\\\\KK}{\\\\mathcal{K}}\\r\\n\\r\\n\\\\newcommand{\\\\ma}{\\\\mathfrak{a}}\\r\\n\\\\newcommand{\\\\g}{\\\\mathfrak{g}}\\r\\n\\\\newcommand{\\\\h}{\\\\mathfrak{h}}\\r\\n\\\\newcommand{\\\\m}{\\\\mathfrak{m}}\\r\\n\\\\newcommand{\\\\n}{\\\\mathfrak{n}}\\r\\n\\r\\n\\\\newcommand{\\\\al}{\\\\alpha}\\r\\n\\\\newcommand{\\\\ga}{\\\\gamma}\\r\\n\\\\newcommand{\\\\G}{\\\\Gamma}\\r\\n\\\\newcommand{\\\\D}{\\\\Delta}\\r\\n\\\\newcommand{\\\\eps}{\\\\epsilon}\\r\\n\\\\newcommand{\\\\la}{\\\\lambda}\\r\\n\\\\newcommand{\\\\La}{\\\\Lambda}\\r\\n\\\\newcommand{\\\\om}{\\\\omega}\\r\\n\\\\newcommand{\\\\vp}{\\\\varphi}\\r\\n\\\\newcommand{\\\\Om}{\\\\Omega}\\r\\n\\r\\n\\\\newcommand{\\\\ov}{\\\\overline}\\r\\n\\r\\n%\\\\newcommand{\\\\vac}{{\\\\left|0\\\\right>}}\\r\\n\\\\newcommand{\\\\vac}{\\\\mathbf{1}}\\r\\n\\r\\n\\\\newcommand{\\\\DD}{\\\\nabla}\\r\\n\\r\\n\\\\newcommand{\\\\coord}{\\\\text{Coord}}\\r\\n\\\\newcommand{\\\\vir}{\\\\text{Vir}}\\r\\n\\r\\n\\r\\n\\\\newcommand{\\\\op}{\\\\text{op}}\\r\\n\\r\\n\\r\\n\\r\\n\\r\\n\\r\\n%--------Meta Data: Fill in your info------\\r\\n\\\\title[A short construction of the Zhu Algebra]{A short construction of the Zhu Algebra}\\r\\n\\\\author[*]{Jethro van Ekeren}\\r\\n\\\\author[**]{Reimundo Heluani}\\r\\n\\r\\n\\r\\n\\r\\n\\\\begin{document}\\r\\n\\r\\n\\r\\n%% ----------------------------------------------------- %%\\r\\n\\r\\n\\r\\n\\r\\n\\r\\n\\\\begin{center}\\r\\n{\\\\LARGE \\\\bf A short construction of the Zhu Algebra} \\\\par \\\\bigskip\\r\\n\\r\\n\\\\renewcommand*{\\\\thefootnote}{\\\\fnsymbol{footnote}}\\r\\n{\\\\normalsize\\r\\nJethro van Ekeren\\\\footnote{email: \\\\texttt{jethrovanekeren@gmail.com}}\\\\textsuperscript{1},\\r\\nReimundo Heluani\\\\textsuperscript{2}\\r\\n}\\r\\n\\r\\n\\\\par \\\\bigskip\\r\\n\\r\\n\\\\textsuperscript{1}{\\\\footnotesize Instituto de Matem\\\\'{a}tica e Estat\\\\'{i}stica (GMA), UFF, Niter\\\\'{o}i RJ, Brazil}\\r\\n\\r\\n\\\\par\\r\\n\\\\textsuperscript{2}{\\\\footnotesize Instituto Nacional de Matem\\\\'{a}tica Pura e Aplicada, Rio de Janeiro, RJ, Brazil}\\r\\n\\r\\n\\r\\n\\\\par \\\\bigskip\\r\\n\\\\end{center}\\r\\n\\r\\n\\r\\n\\\\vspace*{10mm}\\r\\n\\r\\n\\\\noindent\\r\\n\\\\textbf{Abstract.} We investigate associative quotients of vertex algebras. We also give a short construction of the Zhu algebra, and a proof of its associativity using elliptic functions.\\r\\n\\r\\n\\\\vspace*{10mm}\\r\\n\\r\\n\\r\\n\\r\\n\\r\\n\\\\section{Introduction}\\\\label{section.intro}\\r\\n\\r\\n\\\\begin{nolabel}\\nLet $V$ be a vertex algebra. In \\\\cite{Zhu-thesis} and \\\\cite{Z96} Y. Zhu introduced two associative algebras $\\\\zhu(V)$ and $R_V$ constructed as quotients of $V$ equipped with products defined explicitly in terms of its $n^{\\\\text{th}}$ products. The purpose of this note is to present a brief and uniform construction of $\\\\zhu(V)$ and $R_V$ as well as a short proof of the associativity of $\\\\zhu(V)$ utilising elliptic functions.\\r\\n\\r\\nThe representation theory of $\\\\zhu(V)$ is closely connected with that of $V$ (for $V$ a conformal vertex algebra now). There are adjoint functors between the categories of $\\\\zhu(V)$-modules and of positive energy $V$-modules, and these functors induce bijections between the sets of isomorphism classes of simple objects in each category. The existence of an associative algebra with these properties is not in itself surprising since the category of all $V$-modules is equivalent to the category of smooth modules of its enveloping algebra $U(V) = \\\\bigoplus_{n \\\\in \\\\Z} U(V)_n$, and so the algebra $\\\\widetilde{U} = UU(V)_0 / (U(V) \\\\cdot U(V)_{>0})_0$ does the job. And indeed $\\\\zhu(V) \\\\cong \\\\widetilde{U}$. What is nontrivial is the presentation of $\\\\zhu(V)$ as an explicit quotient of $V$, which lends itself to practical applications.\\r\\n\\r\\nThe algebra $\\\\zhu(V)$ was introduced by Zhu in the context of his study of the behaviour of conformal blocks for singular families of elliptic curves with nodal singular fibre. Our use of elliptic functions to prove associativity of $\\\\zhu(V)$ lies closer, in fact, to this point of view on the latter than to its representation theoretic interpretation.\\r \\n\\\\end{nolabel} \\n\\n\\\\begin{nolabel}\\nLet $V$ be a vertex algebra and $f \\\\in \\\\mathbb{C}\\\\left( (t) \\\\right)$ a Laurent series. We have a bilinear operation $V \\\\otimes V \\\\rightarrow V$, \\\\[ a \\\\otimes b \\\\mapsto a_{(f)}b := \\\\res_t f(t)a(t)b \\\\]\\nwhich we refer to as the $(f)$-product. We study quotients of the form $Z_f(V) := V/\\\\left(V_{(f)}(T V ) \\\\right)$ equipped with the algebraic structure of $(f)$-product. Here $V_{(f)}(T V )$ is the  ideal in $V$ generated by $TV$ under the $(f)$-product. It turns out that associativity of such quotients (when well defined) imposes very restrictive conditions on $f$. Let $f(t) = \\\\zeta(t, \\\\omega_1, \\\\omega_2)$ be Weierstrass' zeta function, depending on the two periods $\\\\omega_{1},\\\\omega_2 \\\\in \\\\mathbb{C}$. This function does not quite satisfy the conditions guaranteeing associativity of $Z_f(V)$, but its limit $\\\\omega_1 \\\\rightarrow \\\\infty$ does satisfy these conditions, and one recovers Zhu's algebra $\\\\zhu(V)$ (or rather an isomorphic algebra found by Huang \\\\cite{Huang.duality} ). On the other hand the limit $\\\\omega_2 \\\\mapsto \\\\infty$ recovers Zhu's $C_2$-algebra $R_V$.\\n\\\\label{no:limits}\\n\\\\end{nolabel}\\n\\r\\n%The role played by $R_V$ in Zhu's work is more technical. Finite dimensionality of $R_V$ guarantees the existence of differential equations of Fuchsian type satisfied by the torus $1$-point functions of $V$ and consequently the convergence of the formal series defining the latter. Subsequent work has nevertheless revealed that $R_V$ and the scheme $X_V = \\\\spec{R_V}$ known as the \\\\emph{associated variety} have representation theoretic significance. Miyamoto showed that $\\\\dim{R_V} < \\\\infty$ is enough to guarantee modular behaviour of torus $1$-point functions \\\\cite{MiyaC2}, and work of Arakawa has made $X_V$ into a useful tool in the representation theory of $W$-algebras \\\\cite{Arakawa.assoc}. Mention Higgs Branch maybe ????\\r\\n\\r\\n%% The grading of $V$ by eigenvalues of $L_0$ induces a grading of $R_V$, and a filtration of $\\\\zhu(V)$. There is a surjection\\r\\n%% \\\\[\\r\\n%% R_V \\\\rightarrow \\\\gr^\\\\bullet \\\\zhu(V).\\r\\n%% \\\\]\\r\\n\\r\\n\\r\\n\\r\\n\\r\\n\\r\\n\\r\\n\\r\\n\\r\\n\\r\\n\\r\\n\\r\\n\\r\\n\\\\section{Vertex Algebras}\\\\label{section.notation}\\r\\n\\r\\nFor the basics of formal calculus and the definition of vertex algebra we refer to Kac's book \\\\cite{Kac.VA.Book}. The formal delta function is defined to be\\r\\n\\\\[\\r\\n\\\\delta(z, w) = \\\\sum_{n \\\\in \\\\Z} z^{-n-1} w^n \\\\in \\\\C[[z^{\\\\pm 1}, w^{\\\\pm 1}]].\\r\\n\\\\]\\r\\nThe ring morphism\\r\\n\\\\[\\r\\ni_{z,w} : \\\\C[[z, w]][z^{-1}, w^{-1}, (z-w)^{-1}] \\\\rightarrow \\\\C((z))((w))\\r\\n\\\\]\\r\\nis defined by Taylor expansion of $(z-w)^n$ in positive powers of $w$. Note that the image of $i_{w,z}$ is $\\\\C((w))((z))$ which is distinct from $\\\\C((z))((w))$. We denote differentiation by $\\\\partial$, appending the variable as a subscript when necessary to avoid confusion. We abbreviate $\\\\tfrac{1}{j!}\\\\partial^j$ as $\\\\partial^{(j)}$. The formal residue of $f(z) = \\\\sum_{n\\\\in \\\\Z} f_n z^n$ is defined to be\\r\\n\\\\[\\r\\n\\\\res_z f(z) dz = f_{-1}.\\r\\n\\\\]\\r\\nThe relations \\r\\n\\\\begin{align}\\\\label{totalderivative}\\r\\n\\\\partial_w^{(j)}\\\\delta(z,w) = (-1)^j \\\\partial_z^{(j)}\\\\delta(z,w) \\\\quad \\\\text{and} \\\\quad \\\\res_z\\\\left( f(z)\\\\partial_z^{(j)}\\\\delta(z, w) \\\\right) dz = (-1)^j \\\\partial_w^{(j)}f(w).\\r\\n\\\\end{align}\\r\\nare easily verified.\\r\\n\\r\\nA vertex algebra is a vector space $V$ together with a linear map\\r\\n\\\\[\\r\\nV \\\\otimes V \\\\rightarrow V((z)), \\\\quad \\\\text{written} \\\\quad a \\\\otimes b \\\\mapsto a(z)b = \\\\sum_{n\\\\in \\\\Z} a(n)b z^{-n-1},\\r\\n\\\\]\\r\\nas well as a vacuum vector $\\\\vac$ and translation operator $T \\\\in \\\\en(V)$, which satisfy the Borcherds identity\\r\\n\\\\begin{align}\\\\label{borfor}\\r\\n[a(x)b](w) = \\\\res_z\\\\left(a(z)b(w)i_{z,w} - b(w)a(z)i_{w,z}\\\\right)\\\\delta(x,z-w)dz,\\r\\n\\\\end{align}\\r\\nthe vacuum axiom\\r\\n\\\\[\\r\\n\\\\vac(z) = 1_V \\\\quad \\\\text{and} \\\\quad a(z)\\\\vac \\\\in a + zV[[z]],\\r\\n\\\\]\\r\\nand the translation invariance axiom\\r\\n\\\\[\\r\\n[Ta](z) = \\\\partial_z a(z).\\r\\n\\\\]\\r\\nSome useful consequences of the axioms are the commutator formula\\r\\n\\\\begin{align}\\\\label{commfor}\\r\\n[a(z),b(w)] = \\\\sum_{j \\\\in \\\\Z_+} [a(j)b](w)\\\\partial_w^{(j)}\\\\delta(z,w),\\r\\n\\\\end{align}\\r\\nand the skew-symmetry formula\\r\\n\\\\begin{align}\\\\label{sksym}\\r\\na(z)b = e^{zT}b(-z)a.\\r\\n\\\\end{align}\\r\\n\\r\\n\\\\section{Associative Quotients of Vertex Algebras}\\\\label{section.quotients}\\r\\n\\r\\nLet $V$ be a vertex algebra, and let $f$ be a Laurent series. For any $a, b \\\\in V$ we denote by $a_{(f)}b$ the vector $\\\\res_z f(z)a(z)b \\\\,dz \\\\in V$. For example $a_{(1)}b = a(0)b$ and $(Ta)_{(f)}b = -a_{(\\\\partial f)}b$. We call the bilinear operation\\r\\n\\\\[\\r\\nV \\\\otimes V \\\\rightarrow V, \\\\quad a \\\\otimes b \\\\mapsto a_{(f)}b\\r\\n\\\\]\\r\\nthe $f$-product. Sometimes we abuse this notation, writing for example $a_{(f(-z))}b$ to designate the product $a_{(g)}b$ where $g(z) = f(-z)$.\\r\\n\\r\\nIn this section we study $f$-products and subspaces of $V$ of the form\\r\\n\\\\[\\r\\nV_{(f)}V = \\\\left< a_{(f)}b | a, b \\\\in V \\\\right>,\\r\\n\\\\]\\r\\nwhere here, and throughout the paper, $\\\\left<\\\\cdots \\\\right>$ denotes $\\\\C$-linear span. In particular, we should like to determine natural conditions on Laurent series $f, g$ under which $V_{(g)}V$ becomes an ideal for the $f$-product.\\r\\n\\r\\n\\r\\n\\r\\n\\r\\nDirect computation with the commutator formula (\\\\ref{commfor}) yields\\r\\n\\\\begin{align}\\\\label{idealstart}\\r\\n\\\\begin{split}\\r\\na_{(f)}(b_{(g)}c)\\r\\n%\\r\\n&= \\\\res_z \\\\res_w f(z) g(w) a(z)b(w) c \\\\,dw \\\\,dz \\\\\\\\\\r\\n%\\r\\n&= \\\\res_z \\\\res_w f(z) g(w) b(w)a(z) c \\\\,dw \\\\,dz + \\\\res_z \\\\res_w f(z) g(w) [a(z),b(w)] c \\\\,dw \\\\,dz \\\\\\\\\\r\\n%\\r\\n&= b_{(g)}(a_{(f)}c) + \\\\sum_{j \\\\in \\\\Z_+} \\\\res_z \\\\res_w f(z) g(w) [a{(j)}b](w) c \\\\partial_w^{(j)}\\\\delta(z,w) \\\\,dw \\\\,dz.\\r\\n\\\\end{split}\\r\\n\\\\end{align}\\r\\nUsing (\\\\ref{totalderivative}) the $j^{\\\\text{th}}$ summand here simplifies to\\r\\n\\\\begin{align*}\\r\\n(-1)^j \\\\res_z \\\\res_w f(z) g(w) [a{(j)}b](w) c \\\\partial_z^{(j)}\\\\delta(z,w) \\\\,dw \\\\,dz\\r\\n%\\r\\n&= \\\\res_z \\\\res_w (\\\\partial_z^{(j)}f(z)) g(w) [a{(j)}b](w) c \\\\delta(z,w) \\\\,dw \\\\,dz \\\\\\\\\\r\\n%\\r\\n&= \\\\res_w (\\\\partial_w^{(j)}f(w)) g(w) [a{(j)}b](w) c \\\\,dw \\\\,dz.\\r\\n\\\\end{align*}\\r\\n%% \\\\begin{align*}\\r\\n%% \\\\res_z \\\\res_w f(z) g(w) [a{(j)}b](w) c \\\\partial_w^{(j)}\\\\delta(z,w)\\r\\n%% %\\r\\n%% &= (-1)^j \\\\res_z \\\\res_w f(z) g(w) [a{(j)}b](w) c \\\\partial_z^{(j)}\\\\delta(z,w) \\\\\\\\\\r\\n%% %\\r\\n%% &= \\\\res_z \\\\res_w (\\\\partial_z^{(j)}f(z)) g(w) [a{(j)}b](w) c \\\\delta(z,w) \\\\\\\\\\r\\n%% %\\r\\n%% &= \\\\res_w (\\\\partial_w^{(j)}f(w)) g(w) [a{(j)}b](w) c.\\r\\n%% \\\\end{align*}\\r\\n\\r\\nThe only universal way (that is, by placing conditions on $f$ and $g$ but not on $V$) to guarantee $a_{(f)}(b_{(g)}c) \\\\in V_{(g)}V$ is to require\\r\\n\\\\begin{align}\\\\label{leftideal.condition}\\r\\ng(z) \\\\partial_z^{(j)}f(z) \\\\in \\\\left<\\\\partial_z^{(k)} g(z) | k \\\\in \\\\Z_+ \\\\right> \\\\quad \\\\text{for all $j \\\\in \\\\Z_+$}.\\r\\n\\\\end{align}\\r\\n\\r\\n\\r\\n%% {\\\\color{red}One might wish to require it only for $j \\\\geq 1$, and somehow deal with\\r\\n%% \\\\[\\r\\n%% (a{(0)}b)_{(fg)}c.\\r\\n%% \\\\]\\r\\n%% }\\r\\n\\r\\n\\r\\nSimilarly, direct computation with the Borcherds identity (\\\\ref{borfor}) yields\\r\\n\\\\begin{align}\\\\label{assocstart}\\r\\n  \\\\begin{split}\\r\\n(a_{(f)}b)_{(f)}c\\r\\n%\\r\\n&= \\\\res_x \\\\res_w f(x) f(w) [a(x)b](w) c \\\\,dw \\\\,dx \\\\\\\\\\r\\n%\\r\\n&= \\\\res_x \\\\res_w \\\\res_z f(x) f(w) \\\\left(a(z)b(w)c i_{z,w} - b(w)a(z)c i_{w,z}\\\\right)\\\\delta(x,z-w) \\\\,dz \\\\,dw \\\\,dx \\\\\\\\\\r\\n%\\r\\n&= \\\\res_w \\\\res_z f(w) \\\\left(a(z)b(w)c i_{z,w} - b(w)a(z)c i_{w,z}\\\\right) f(z-w) \\\\,dz \\\\,dw.\\r\\n\\\\end{split}\\r\\n\\\\end{align}\\r\\nSubstituting the expansions\\r\\n\\\\[\\r\\ni_{z,w}f(z-w) = \\\\sum_{j \\\\in \\\\Z_+} (-w)^j f^{(j)}(z) \\\\quad \\\\text{and} \\\\quad i_{w,z}f(z-w) = \\\\sum_{j \\\\in \\\\Z_+} z^j f^{(j)}(-w)\\r\\n\\\\]\\r\\ninto the final line of (\\\\ref{assocstart}) reduces the two summands there to\\r\\n\\\\begin{align*}\\r\\na_{(f)}(b_{(f)}c) + \\\\sum_{j \\\\in \\\\Z_{\\\\geq 1}} (-1)^j a_{(\\\\partial^{(j)}f)}(b_{(z^j f(z))}c) \\\\quad \\\\text{and} \\\\quad -\\\\sum_{j \\\\in \\\\Z_+} b_{(\\\\partial^{(j)}f(-z) f(z))}(a(j)c),\\r\\n\\\\end{align*}\\r\\nrespectively.\\r\\n% {\\\\color{red}Awkward notation here. Need functional notation for $z^n$ and $f(-z)$}\\r\\n\\r\\n\\r\\n\\r\\n\\r\\n% \\\\begin{align*}\\r\\n% &= \\\\res_w \\\\res_z f(w) a(z)b(w)c i_{z,w} f(z-w) \\\\\\\\\\r\\n% %\\r\\n% &= \\\\sum_{j \\\\geq 0} \\\\res_w \\\\res_z  (-w)^j [\\\\partial_z^{(j)} f](z) f(w) a(z)b(w)c \\\\\\\\\\r\\n% %\\r\\n% &= a_{(f)}(b_{(f)}c) + \\\\sum_{j \\\\geq 1} (-1)^j a_{(\\\\partial^{(j)}f)}(b_{(w^j f)}c)\\r\\n% \\\\end{align*}\\r\\n\\r\\n\\r\\n% \\\\begin{align*}\\r\\n% &= \\\\res_w \\\\res_z f(w) b(w)a(z)c i_{w,z}f(z-w) \\\\\\\\\\r\\n% %\\r\\n% &= \\\\sum_{j \\\\geq 0} \\\\res_w \\\\res_z z^j f^{(j)}(-w) f(w) b(w)a(z)c \\\\\\\\\\r\\n% %\\r\\n% &= \\\\sum_{j \\\\geq 0} \\\\res_w f^{(j)}(-w) f(w) b(w) a(j)c \\\\\\\\\\r\\n% %\\r\\n% &= \\\\sum_{j \\\\geq 0} b_{(f^{(j)}(-w) f(w))}(a(j)c)\\r\\n% \\\\end{align*}\\r\\n\\r\\nThe relation\\r\\n\\\\[\\r\\n(a_{(f)}b)_{(f)}c - a_{(f)}(b_{(f)}c) \\\\in V_{(g)}V\\r\\n\\\\]\\r\\nis thus assured by the conditions\\r\\n\\\\begin{align}\\\\label{associativity.condition1}\\r\\n\\\\partial_z^{(j)}f(z) &\\\\in \\\\left<\\\\partial_z^{(k)} g(z) | k \\\\in \\\\Z_+ \\\\right> \\\\quad \\\\text{for all $j \\\\in \\\\Z_{\\\\geq 1}$}, \\\\\\\\\\r\\n%\\r\\n\\\\label{associativity.condition2} \\\\text{and} \\\\quad \\r\\n%\\r\\nf(z) \\\\partial_z^{(j)}f(-z) &\\\\in \\\\left<\\\\partial_z^{(k)} g(z) | k \\\\in \\\\Z_+ \\\\right> \\\\quad \\\\text{for all $j \\\\in \\\\Z_+$}.\\r\\n\\\\end{align}\\r\\n\\r\\n\\r\\n\\r\\n%% \\\\begin{align*}\\r\\n%%   \\\\begin{split}\\r\\n%% (a_{(g)}b)_{(f)}c\\r\\n%% %\\r\\n%% &= \\\\res_x \\\\res_w g(x) f(w) [a(x)b](w) c \\\\\\\\\\r\\n%% %\\r\\n%% &= \\\\res_x \\\\res_w \\\\res_z g(x) f(w) \\\\left(a(z)b(w)c i_{z,w} - b(w)a(z)c i_{w,z}\\\\right)\\\\delta(x,z-w) \\\\\\\\\\r\\n%% %\\r\\n%% &= \\\\res_w \\\\res_z f(w) \\\\left(a(z)b(w)c i_{z,w} - b(w)a(z)c i_{w,z}\\\\right) g(z-w).\\r\\n%% \\\\end{split}\\r\\n%% \\\\end{align*}\\r\\n\\r\\nBy repeating the last calculation with $g(x)$ in place of $f(x)$ we see that the relation $(a_{(g)}b)_{(f)}c \\\\in V_{(g)}V$ is assured by\\r\\n\\\\begin{align}\\\\label{rightideal.condition}\\r\\nf(z) \\\\partial_z^{(j)}g(-z) &\\\\in \\\\left<\\\\partial_z^{(k)} g(z) | k \\\\in \\\\Z_+ \\\\right> \\\\quad \\\\text{for all $j \\\\in \\\\Z_+$}.\\r\\n\\\\end{align}\\r\\n\\r\\n\\r\\n\\r\\n\\r\\n\\r\\nIf the $z^{-1}$ coefficient of $g(z) = \\\\sum g_n z^n$ is nonzero then $V_{(g)}V = V$. So we exclude this case as trivial. On the other hand we should like $\\\\vac$ to be a unit of $V / V_{(g)}V$. But $\\\\vac_{(f)}a = f_{-1} a$, so we are forced to require\\r\\n\\\\begin{align}\\\\label{unit.condition}\\r\\nf_{-1} = 1.\\r\\n\\\\end{align}\\r\\nIt follows from this and (\\\\ref{leftideal.condition}) that $g(z)$ has nonzero singular part. \\r\\n%Suppose the lowest nontrivial coefficient of $f(z) = \\\\sum f_n z^n$ is $f_N$\\r\\n\\r\\nIf we impose the condition\\r\\n\\\\begin{align}\\\\label{non.higher.condition}\\r\\nf(z) \\\\in z^{-1} + \\\\C[[z]]\\r\\n\\\\end{align}\\r\\nthen (\\\\ref{associativity.condition1}) forces $g = \\\\partial f$ (after a possible rescaling). Hence by (\\\\ref{associativity.condition2}) we have\\r\\n\\\\begin{align}\\\\label{f.ODE}\\r\\nf(-z)f(z) = \\\\partial_z f(z).\\r\\n\\\\end{align}\\r\\nObserve that $f(-z)f(z)$ is an even function of $z$, hence $\\\\partial_z f(z)$ is too, and so $f(z)$ takes the form $c/2 + F(z)$ for some constant $c$ and odd function $F(z)$. Then (\\\\ref{f.ODE}) becomes\\r\\n\\\\[\\r\\n\\\\partial_z F(z) = c^2/4 - F(z)^2.\\r\\n\\\\]\\r\\nIntegrating this equation, and reimposing (\\\\ref{unit.condition}), yields the two solutions\\r\\n\\\\begin{align}\\r\\nf(z) &= z^{-1}, \\\\label{C2.solution} \\\\\\\\\\r\\n%\\r\\n\\\\text{or} \\\\quad f(z) &= c \\\\frac{e^{cz}}{e^{cz}-1} \\\\quad \\\\quad \\\\text{for some $c \\\\neq 0$}. \\\\label{Zhu.solution}\\r\\n\\\\end{align}\\r\\n%% \\\\begin{align*}\\r\\n%% f(z) &= Az^{-1} & \\\\text{if $c = 0$}, \\\\\\\\\\r\\n%% %\\r\\n%% \\\\text{and} \\\\quad f(z) &= 2c \\\\frac{Ae^{2cz}}{Ae^{2cz}-1} & \\\\text{if $c \\\\neq 0$}.\\r\\n%% \\\\end{align*}\\r\\n\\r\\n\\r\\n\\r\\n\\r\\n% Now {\\\\color{red}as noted by HUANG} this is isomorphic to the Zhu algebra. But the change of coordinates is due to Zhu. See if it is explained in \\\\cite{Zhu96}\\r\\n\\r\\n\\r\\n\\\\begin{prop}\\\\label{zhu.is.assoc}\\r\\nFor $f$ either solution \\\\textup{(}\\\\ref{C2.solution}\\\\textup{)} or \\\\textup{(}\\\\ref{Zhu.solution}\\\\textup{)} and $g = \\\\partial f$, the quotient $V / V_{(g)}V$ is an associative algebra with respect to the $f$-product, and $\\\\vac$ is a unit.\\r\\n\\\\end{prop}\\r\\n\\r\\n\\\\begin{proof}\\r\\nConditions (\\\\ref{unit.condition}) and (\\\\ref{associativity.condition1}) are satisfied already, as is (\\\\ref{associativity.condition2}) for $j=0$. Condition (\\\\ref{rightideal.condition}) follows from (\\\\ref{associativity.condition2}) since $g = \\\\partial f$. It remains to verify that (\\\\ref{leftideal.condition}) and the remaining parts of (\\\\ref{associativity.condition2}) hold. In other words it remains to show that\\r\\n  \\\\[\\r\\n\\\\left<\\\\partial^{(k)} g | k \\\\in \\\\Z_+ \\\\right>\\r\\n\\\\]\\r\\nis closed under multiplication by $g$ and by $f$. This follows from Lemma \\\\ref{zhu.closure} of the next section. The algebras are unital because of condition (\\\\ref{non.higher.condition}).\\r\\n\\\\end{proof}\\r\\n\\r\\nWe denote by $\\\\zhu_c(V)$ the algebra associated with (\\\\ref{Zhu.solution}). It was shown by Huang {\\\\cite[Proposition 6.3]{Huang.duality}} that $\\\\zhu_{2\\\\pi i}(V)$ is isomorphic to Zhu's algebra $A(V)$ as defined in \\\\cite{Z96}. In fact the $\\\\zhu_c(V)$ are isomorphic \\\\cite{DK06} for all $c \\\\neq 0$. The algebra associated with (\\\\ref{C2.solution}) is Zhu's $C_2$-algebra, denoted $R_V$. The bracket $\\\\{a,b\\\\} = a(0)b$ is well defined on $R_V$ and makes it into a Poisson algebra.\\r\\n\\r\\n\\r\\n\\r\\n%% Recall that a formal deformation of an associative $\\\\C$-algebra $A$ is an assocative product $\\\\circ_t$ on the $\\\\C[[t]]$-algebra $A[[t]]$ that extends the product on $A$ in the sense that\\r\\n%% \\\\[\\r\\n%% \\\\left.{a \\\\circ_t b}\\\\right|_{t=0} = ab.\\r\\n%% \\\\]\\r\\n%% A formal deformation of a commutative algebra $A$ gives it the structure of a Poisson algebra via\\r\\n%% \\\\[\\r\\n%% \\\\{a,b\\\\} = \\\\left.\\\\frac{a \\\\circ_t b - b \\\\circ_t a}{t}\\\\right|_{t=0},\\r\\n%% \\\\]\\r\\n%% and the formal deformation is then said to be a deformation quantisation of the Poisson algebra $(A, \\\\{\\\\cdot,\\\\cdot\\\\})$.\\r\\n\\r\\nBefore proceeding we record a useful computation. Since $a_{(g)}\\\\vac = a_{(-2)}\\\\vac = -Ta$ we have $TV \\\\subset V_{(g)}V$. The skew-symmetry formula (\\\\ref{sksym}) implies in general that\\r\\n\\\\begin{align}\\\\label{generalcomm}\\r\\n  \\\\begin{split}\\r\\n  a_{(f)}b = \\\\res_z f(z) e^{zT}b(-z)a \\\\,dz\\r\\n  = -b_{(f(-z))}a \\\\mod{TV}.\\r\\n  \\\\end{split}\\r\\n\\\\end{align}\\r\\nFor the function (\\\\ref{Zhu.solution}), which satisfies $f(-z) = -f(z) + c$, we obtain\\r\\n\\\\begin{align}\\\\label{fcomm}\\r\\na_{(f)}b - b_{(f)}a = c \\\\,\\\\, a(0)b \\\\mod{V_{(g)}V}.\\r\\n\\\\end{align}\\r\\n\\r\\nClearly the $c \\\\rightarrow 0$ limit of (\\\\ref{Zhu.solution}), i.e.,\\r\\n\\\\[\\r\\nf(z) = z^{-1} + \\\\frac{c}{2} + \\\\frac{c^2}{12} z + \\\\cdots\\r\\n\\\\]\\r\\nrecovers (\\\\ref{C2.solution}).\\r\\n\\r\\n\\r\\n\\r\\n\\r\\n\\\\begin{rem}\\\\label{higher.zhu.remark}\\r\\nBy relaxing condition (\\\\ref{non.higher.condition}) one may obtain many additional solutions $(f, g)$ to the remaining relations, hence many additional associative, but no longer unital, quotients of $V$. If $g$ is taken to be $\\\\partial f$ then replacement of the ideal $V_{(g)}V$ with $TV + V_{(g)}V$ permits one to dispense with condition (\\\\ref{non.higher.condition}) while maintaining unitality of the quotient. This follows from the obvious inclusions\\r\\n\\\\[\\r\\n(TV)_{(f)}V \\\\subset V_{(\\\\partial f)}V, \\\\quad \\\\text{and} \\\\quad V_{(f)}(TV) \\\\subset TV + (TV)_{(f)}V.\\r\\n\\\\]\\r\\nIn this way further associative quotients of $V$ are obtained, such as\\r\\n\\\\begin{align}\\\\label{higher.zhu.half}\\r\\nV/(TV + V_{(\\\\partial f_{1/2})}V), \\\\quad \\\\text{equipped with the $f$-product, where} \\\\quad f_{1/2}(z) = \\\\frac{e^{2z}}{(e^z-1)^2}.\\r\\n\\\\end{align}\\r\\nThe higher Zhu algebras of Dong, Li and Mason \\\\cite{DLM.VA.and.assoc} are obtained in a very similar way. For instance $\\\\zhu_1(V)$ may be presented as $V / (TV + V_{(g)}V)$ equipped with the $f$-product, where\\r\\n\\\\[\\r\\ng(z) = \\\\frac{e^{2z}}{(e^z-1)^4}, \\\\quad \\\\text{and} \\\\quad f(z) = \\\\frac{e^{3z}-3e^{2z}}{(e^z-1)^3}.\\r\\n\\\\]\\r\\n%In fact these algebras are obtained \\\\cite{JVE.higher.Zhu} as quotients $V/J$ equipped with an $f$-product, where $J$ is the two-sided ideal generated under the $f$-product by $TV$.\\r\\n\\\\end{rem}\\r\\n\\r\\n\\r\\n\\r\\n\\r\\n\\r\\n\\\\section{Elliptic Functions}\\\\label{section.elliptic}\\r\\n\\r\\nIn this section we recall some facts about elliptic function following the standard references {\\\\cite{Apostol.Book}} and {\\\\cite{Lang.Book.elliptic}}. We then complete the proof of Proposition \\\\ref{zhu.is.assoc}.\\r\\n\\r\\n%The fact that the solutions to (\\\\ref{f.ODE}) satisfy the many other conditions (...) necessary to ensure that $J$ be an ideal, and associativity of $(V/J, *)$ seems surprising on the face of it. In fact it can be somewhat demystified in the context of elliptic functions.\\r\\n\\r\\nLet $\\\\HH$ denote the upper half complex plane. For some $\\\\tau \\\\in \\\\HH$ let $\\\\La = \\\\La_\\\\tau$ denote the lattice $\\\\Z + \\\\Z\\\\tau \\\\subset \\\\C$. Then the Weierstrass elliptic function is defined to be\\r\\n\\\\begin{align*}\\r\\n\\\\wp(z,\\\\tau) = \\\\frac{1}{z^2} + \\\\sum_{\\\\la \\\\in \\\\La \\\\backslash 0} \\\\left(\\\\frac{1}{(z-\\\\la)^2} - \\\\frac{1}{\\\\la^2}\\\\right).\\r\\n  \\\\end{align*}\\r\\nIt is $\\\\La$-periodic and meromorphic on $\\\\C$ with poles on $\\\\La$. The ring of elliptic functions, i.e., of $\\\\La$-periodic mermorphic functions on $\\\\C$ with poles on $\\\\La$, is spanned over $\\\\C$ by $\\\\ov\\\\wp(z,\\\\tau)$ and its derivatives in $z$ together with the constant function $1$. The Laurent series expansion of $\\\\wp$ at $z=0$ takes the form\\r\\n\\\\begin{align}\\\\label{wp.laurent}\\r\\n\\\\wp(z,\\\\tau) = z^{-2} + \\\\sum_{k=2}^\\\\infty (2k-1) G_{2k}(\\\\tau) z^{2k-2},\\r\\n\\\\end{align}\\r\\nwhere the Eisenstein series $G_{2k}(\\\\tau)$ is defined by\\r\\n\\\\begin{align}\\\\label{eisenstein.fourier}\\r\\nG_{2k}(\\\\tau) = \\\\sum_{n \\\\in \\\\Z \\\\backslash 0} \\\\frac{1}{n^{2k}} + \\\\sum_{m \\\\in \\\\Z \\\\backslash 0} \\\\sum_{n \\\\in \\\\Z} \\\\frac{1}{(m\\\\tau+n)^{2k}}\\r\\n\\\\end{align}\\r\\nfor all $k \\\\geq 1$. The well known Fourier expansion of $G_{2k}$ in powers of $q = e^{2\\\\pi i \\\\tau}$ is given by\\r\\n\\\\[\\r\\nG_{2k}(\\\\tau) = (-1)^{k+1}(2\\\\pi)^{2k}\\\\frac{B_{2k }}{(2k)!}E_{2k}, \\\\quad \\\\text{where} \\\\quad E_{2k}=1- \\\\frac{4k}{B_{2k }} \\\\sum_{n=1}^\\\\infty \\\\frac{n^{2k-1} q^n}{1-q^n},\\r\\n\\\\]\\r\\nand where the Bernoulli numbers $B_n$ are defined by $\\\\sum_{n=0}^\\\\infty B_n / n! = x / (e^x-1)$.\\r\\n\\r\\nIt will be more convenient for us to work with $\\\\ov\\\\wp(z,\\\\tau)=\\\\wp(z,\\\\tau)+G_2(\\\\tau)$, which can be expressed as\\r\\n\\\\begin{align}\\\\label{wp.Lambert}\\r\\n  \\\\ov\\\\wp(z,\\\\tau) = (2\\\\pi i)^2 \\\\frac{e^{2\\\\pi i z}}{(e^{2\\\\pi i z}-1)^2} + (2\\\\pi i)^2 \\\\sum_{n=1}^\\\\infty \\\\frac{n q^n}{1-q^n} \\\\left[e^{2\\\\pi i n z} + e^{-2\\\\pi i n z}\\\\right],\\r\\n\\\\end{align}\\r\\non the domain of convergence $|\\\\Imag(z)| < \\\\Imag(\\\\tau)$ of the right hand side.\\r\\n% Verified with Mathematica.\\r\\n\\r\\n\\r\\nThe Weierstrass quasiperiodic function is defined to be\\r\\n\\\\begin{align*}\\r\\n  \\\\zeta(z,\\\\tau) = \\\\frac{1}{z} + \\\\sum_{\\\\la \\\\in \\\\La \\\\backslash 0} \\\\left( \\\\frac{1}{z-\\\\la} + \\\\frac{z+\\\\la}{\\\\la^2} \\\\right).\\r\\n\\\\end{align*}\\r\\nIts Laurent series expansion is\\r\\n\\\\begin{align*}\\r\\n  \\\\zeta(z,\\\\tau) = z^{-1} - \\\\sum_{k=2}^\\\\infty G_{2k}(\\\\tau) z^{2k-1}.\\r\\n\\\\end{align*}\\r\\nIt will be more convenient for us to work with $\\\\ov\\\\zeta(z,\\\\tau) = \\\\zeta(z,\\\\tau) + \\\\pi i - G_2(\\\\tau)z$, which satisfies\\r\\n\\\\begin{align}\\\\label{zeta.Lambert}\\r\\n\\\\ov\\\\zeta(z,\\\\tau) = 2\\\\pi i \\\\frac{e^{2\\\\pi i z}}{e^{2\\\\pi i z}-1} - 2\\\\pi i \\\\sum_{n=1}^\\\\infty \\\\frac{q^n}{1-q^n} \\\\left[ e^{2\\\\pi i n z} - e^{-2\\\\pi i n z} \\\\right]\\r\\n\\\\end{align}\\r\\non the domain of convergence $|\\\\Imag(z)| < \\\\Imag(\\\\tau)$ of the right hand side.\\r\\n% Verified with Mathematica.\\r\\n\\r\\nOne has the relations\\r\\n\\\\begin{align}\\\\label{zeta.qp}\\r\\n\\\\ov\\\\zeta(z+1) = \\\\ov\\\\zeta(z) \\\\quad \\\\text{and} \\\\quad \\\\ov\\\\zeta(z+\\\\tau) = \\\\ov\\\\zeta(z) - 2\\\\pi i.\\r\\n\\\\end{align}\\r\\n\\r\\n\\\\begin{lemma}\\\\label{q.de}\\r\\nThe function\\r\\n\\\\begin{align}\\\\label{formula.q.de}\\r\\n(2\\\\pi i)^2 q \\\\partial_q \\\\ov{\\\\zeta} + \\\\ov{\\\\zeta} \\\\cdot \\\\ov{\\\\wp}\\r\\n\\\\end{align}\\r\\nis elliptic.\\r\\n\\\\end{lemma}\\r\\n\\r\\n\\\\begin{proof}\\r\\nLet $2\\\\pi i q \\\\partial_q \\\\ov\\\\zeta(z, \\\\tau) = \\\\partial_\\\\tau \\\\ov\\\\zeta(z, \\\\tau)$ be denoted $\\\\dot{\\\\ov\\\\zeta}(z, \\\\tau)$. Applying $\\\\partial_\\\\tau$ to the second part of (\\\\ref{zeta.qp}) yields\\r\\n\\\\[\\r\\n\\\\dot{\\\\ov\\\\zeta}(z+\\\\tau,\\\\tau) - \\\\dot{\\\\ov\\\\zeta}(z,\\\\tau) = -\\\\partial_z\\\\ov\\\\zeta(z,\\\\tau) = \\\\ov\\\\wp(z,\\\\tau).\\r\\n\\\\]\\r\\nOn the other hand we have\\r\\n\\\\[\\r\\n\\\\ov\\\\zeta(z+\\\\tau,\\\\tau)\\\\ov\\\\wp(z+\\\\tau,\\\\tau) - \\\\ov\\\\zeta(z,\\\\tau)\\\\ov\\\\wp(z,\\\\tau) = -2\\\\pi i \\\\ov\\\\wp(z,\\\\tau).\\r\\n\\\\]\\r\\nFrom these two equations it follows that the sum (\\\\ref{formula.q.de}) is elliptic.\\r\\n\\\\end{proof}\\r\\nBy differentiating (\\\\ref{formula.q.de}) with respect to $z$ it follows that the functions\\r\\n\\\\begin{align}\\\\label{formula.q.de.higher}\\r\\n(2\\\\pi i)^2 q \\\\partial_q \\\\partial_z^{k}\\\\ov\\\\wp - \\\\ov\\\\zeta \\\\cdot \\\\partial_z^{k+1}\\\\ov\\\\wp\\r\\n\\\\end{align}\\r\\nare also elliptic. In \\\\cite{JVEpisa} Ramanujan's differential equations on Eisenstein series were deduced from the $k=1$ case of this observation.\\r\\n\\r\\n\\r\\nWe now introduce the formal Laurent series\\r\\n\\\\begin{align*}\\r\\nP(x,q) &= \\\\frac{1+x}{x^2} + \\\\sum_{n=1}^\\\\infty \\\\frac{nq^n}{1-q^n} \\\\left[ (1+x)^{n} + (1+x)^{-n} \\\\right] \\\\\\\\\\r\\n%\\r\\n\\\\text{and} \\\\quad Z(x,q) &= \\\\frac{1+x}{x} - \\\\sum_{n=1}^\\\\infty \\\\frac{q^n}{1-q^n} \\\\left[ (1+x)^{n} - (1+x)^{-n} \\\\right].\\r\\n\\\\end{align*}\\r\\nUpon substitution of $x = e^{2\\\\pi i z}-1$, these become convergent series on the domain $|\\\\Imag(z)| < \\\\Imag(\\\\tau)$, and one has\\r\\n\\\\begin{align}\\\\label{PZ.converge}\\r\\n\\\\ov\\\\wp(z,\\\\tau) = (2\\\\pi i)^2 P(x,q) \\\\quad \\\\text{and} \\\\quad \\\\ov\\\\zeta(z,\\\\tau) = 2\\\\pi i Z(x,q).\\r\\n\\\\end{align}\\r\\n\\r\\n\\r\\n\\\\begin{lemma}\\\\label{zhu.closure}\\r\\nThe $\\\\C[[q]]$-module $\\\\left<\\\\partial_z^{(k)}P | k \\\\in \\\\Z_+ \\\\right>$ is closed under multiplication by $P$ and by $Z$ modulo $q\\\\,\\\\C[[q]]$. Let $f$ and $g$ be as in (\\\\ref{Zhu.solution}). The vector space $\\\\left<\\\\partial_z^{(k)} g | k \\\\in \\\\Z_+ \\\\right>$ is closed under multiplication by $f$ and by $g$.\\r\\n\\\\end{lemma}\\r\\n\\r\\n\\\\begin{proof}\\r\\nThe substitution $x = e^{cz}-1$ yields $f(z)=c(x^{-1}+1)$, $g(z)=-c^2(x^{-2}+x^{-1})$, and $\\\\partial_z = c(x+1)\\\\partial_x$. From this it is plain to see that $\\\\partial_z^{(j)}g$, $f \\\\partial_z^{(j)}g$ and $g \\\\partial_z^{(j)}g$ lie in $x^{-1}\\\\C[x^{-1}]$ for all $j \\\\in \\\\Z_+$.\\r\\n\\r\\nNow let $\\\\varepsilon : \\\\C((x))[[q]] \\\\rightarrow \\\\C((x))$ denote the quotient by the ideal generated by $q$. We observe that $\\\\varepsilon(Z) = f / c$ and $\\\\varepsilon(P) = -g / c^2$.\\r\\n\\r\\nSince $P$ is the Laurent expansion of an elliptic function it follows that, for each $j \\\\in \\\\Z_+$,\\r\\n\\\\[\\r\\nP \\\\partial_z^{(j)}P = \\\\al + \\\\sum_{k \\\\in \\\\Z_+} \\\\beta_k \\\\partial_z^{(k)}P,\\r\\n\\\\]\\r\\nfor some $\\\\al, \\\\beta_k \\\\in \\\\C[[q]]$. But since $\\\\varepsilon(P) = -g / c^2$ and $g \\\\partial_z^{(j)}g \\\\in x^{-1}\\\\C[x^{-1}]$ we see that $\\\\varepsilon(\\\\al) = 0$, hence $\\\\al \\\\in q\\\\,\\\\C[[q]]$. This proves at once the statements about closure with respect to $g$ and $P$.\\r\\n\\r\\nSince $\\\\varepsilon$ annihilates the image of $q \\\\partial_q$ and the functions (\\\\ref{formula.q.de.higher}) are elliptic, we may repeat the arguments above to deduce the statements about closure with respect to $f$ and $Z$ exactly as we did for $g$ and $P$.\\r\\n\\\\end{proof}\\r\\n\\r\\nAside from implying Proposition \\\\ref{zhu.is.assoc}, the Lemma \\\\ref{zhu.closure} is a source of classical identities among the constant terms of Eisenstein series. The following such identity is an example.\\r\\n\\\\begin{cor}\\r\\nFor each integer $n \\\\geq 2$ one has\\r\\n\\\\begin{align*}\\r\\n\\\\left( 1 - \\\\frac{n(n-1)}{2} \\\\right) \\\\frac{B_{n}}{n!} = \\\\sum_{i=2}^{n-2} (i-1) \\\\frac{B_{i}}{i!} \\\\cdot \\\\frac{B_{n-i}}{(n-i)!}.\\r\\n\\\\end{align*}\\r\\n\\r\\n\\\\end{cor}\\r\\n\\r\\n\\r\\n\\r\\nIt is easy to adapt the proof of Lemma \\\\ref{zhu.closure} to show that the algebra defined in (\\\\ref{higher.zhu.half}), henceforth referred to as $\\\\zhu_{1/2}(V)$, is associative. We observe that $f_{1/2} = f + g$ and $g_{1/2} = f_{1/2}'$. The substitution $x = e^{z}-1$ yields $f_{1/2} = x^{-2} + 2x^{-1} + 1$ and $g_{1/2} = -2(x^{-3}+2x^{-2}+x^{-1})$. Now $\\\\partial^{(j)}g_{1/2}$, $f_{1/2} \\\\partial^{(j)}g_{1/2}$ and $g_{1/2} \\\\partial^{(j)}g_{1/2}$ lie in $x^{-1}\\\\C[x^{-1}]$ for all $j \\\\in \\\\Z_+$. The rest of the argument is identical. In fact this argument applies more generally. Put $F = f + p$ where $p$ is any linear combination of $g$ and its derivatives. Then the quotient $\\\\zhu_F(V) = V/J_F$, where $J_F = V_{(F')}V + TV$, equipped with the $F$-product is a unital associative algebra.\\r\\n\\r\\n\\r\\n\\r\\n\\r\\n% \\\\section{Conformal Blocks and the Zhu Algebra}\\\\label{section.blocks}\\r\\n\\r\\n% Following \\\\cite{FBZ.Book} we write $\\\\OO$ and $\\\\CK$ for the topological rings $\\\\C[[t]]$ and $\\\\C((t))$ respectively, $D = \\\\spec{\\\\OO}$ and $D^\\\\times = \\\\spec{\\\\CK}$ for the disc and punctured disc, $\\\\der_0\\\\OO = t\\\\C[[t]]\\\\partial_t$ and $\\\\der{\\\\CK} = \\\\C((t))\\\\partial_t$ for the Lie algebras of vector fields on $D$ and $D^\\\\times$ respectively, and $\\\\aut{\\\\OO}$ for the group of smooth automorphisms of $\\\\OO$. We denote by $R(f)$ the image of $f(z)\\\\partial_z$ under the exponential map\\r\\n% \\\\[\\r\\n% \\\\exp : \\\\der_0\\\\OO \\\\rightarrow \\\\aut\\\\OO,\\r\\n% \\\\]\\r\\n% and we write $f_z$ for the series defined by $f_z(t) = f(z+t)-f(z)$.\\r\\n\\r\\n% Now $\\\\der\\\\CK$ is the completion of the Lie algebra $W$ of polynomial vector fields on $D^\\\\times$. The latter is spanned by $L_n = -t^{n+1} \\\\partial_t$ for $n \\\\in \\\\Z$, and has a unique central extension by $\\\\C$, namely the Virasoro algebra $\\\\vir$ defined by explicit Lie brackets\\r\\n% \\\\[\\r\\n% [L_m, L_n] = (m-n) L_{m+n} + \\\\delta_{m,-n} \\\\frac{m^3-m}{12} C, \\\\quad \\\\text{and} \\\\quad [C, \\\\vir] = 0.\\r\\n% \\\\]\\r\\n% The highest weight $\\\\vir$-module\\r\\n% \\\\[\\r\\n% \\\\vir^c = U(\\\\vir) \\\\otimes_{U(\\\\vir_{\\\\geq -1})} \\\\C v_c \\\\quad \\\\text{where $L_{\\\\geq -1}v_c = 0$ and $Cv_c = cv_c$},\\r\\n% \\\\]\\r\\n% carries a vertex algebra structure in which $\\\\vac = v_c$, and $T = L_{-1}$.\\r\\n\\r\\n% A graded vertex algebra $V = \\\\bigoplus_{n \\\\in \\\\Z_+} V_n$ is said to be conformal if there exists an embedding $\\\\vir^c \\\\rightarrow V$ relative to which ${L_0}|_{V_n} = n$. The number $c$ is called the central charge of $V$.\\r\\n\\r\\n\\r\\n% Let $V$ be a conformal vertex algebra. The exponential map allows one to define an action of $\\\\aut\\\\OO$ on $V$ (indeed on any $W$-module on which $L_0$ acts by integral eigenvalues, and $W_{\\\\geq 1}$ acts locally finitely). The behaviour of the vertex operation $Y$ in $V$ under change of coordinate $z$ is governed by Huang's formula {\\\\cite[????]{Huang.2dCFT.Book}}\\r\\n% \\\\begin{align}\\\\label{huang.formula}\\r\\n% Y(a, z) = R(f) Y(R(f_z)^{-1}a, f(z)) R(f)^{-1}.\\r\\n% \\\\end{align}\\r\\n\\r\\n% \\\\begin{rem}\\\\label{huang.isom}\\r\\n% In \\\\cite{Z96} Zhu introduced the modified vertex operation\\r\\n% \\\\[\\r\\n% Y[a,z] = Y(e^{2\\\\pi i z L_0}a, \\\\phi(z)).\\r\\n% \\\\]\\r\\n% Let $\\\\phi(z) = e^{2\\\\pi i z}-1$ and write $R = R(\\\\phi)$. Then $\\\\phi_z(t) = e^{2\\\\pi i z}\\\\phi(t)$, so $R(\\\\phi_z) = R(\\\\phi) e^{-2\\\\pi i z L_0}$, and (\\\\ref{huang.formula}) yields\\r\\n% \\\\[\\r\\n% Y[a,z] = R^{-1}Y(Ra,z)R.\\r\\n% \\\\]\\r\\n% So in fact $R : (V, Y[-,z]) \\\\rightarrow (V, Y(-,z))$ is a vertex algebra isomorphism. \\r\\n% %% \\\\[\\r\\n% %% Y(a, z) = R Y(e^{2\\\\pi i z L_0} R^{-1} a, \\\\phi(z)) R^{-1}.\\r\\n% %% \\\\]\\r\\n% This was used by Huang to uncover the presentation of $\\\\zhu(V)$ given in Proposition \\\\ref{zhu.is.assoc} above. In \\\\cite{Z96} the Zhu algebra is defined as $\\\\zhu(V) = V / V \\\\circ_{-2} V$ with the product $\\\\circ_{-1}$, where\\r\\n% \\\\[\\r\\n% a \\\\circ_{n} b = \\\\res_w w^n Y((1+w)^{L_0}a, w)b \\\\,dw.\\r\\n% \\\\]\\r\\n% From the formulas above it is easy to deduce $(Ra)_{(f)}(Rb) = R(a \\\\circ_{-1} b)$ and $(Ra)_{(g)}(Rb) = R(a \\\\circ_{-2} b)$, from which it follows that $R$ induces an isomorphism of algebra from $\\\\zhu(V)$ to $V/V_{(g)}V$ equipped with the $f$-product.\\r\\n% \\\\end{rem}\\r\\n\\r\\n% Let $X$ be a smooth algebraic curve over $\\\\C$. For $x$ a point of $X$ we denote by $\\\\OO_x$ the completed local ring at $x$. A choice of generator $t$ of the maximal ideal of $\\\\OO$ gives an isomorphism $\\\\OO_x \\\\cong \\\\OO$, and we repeat definitions of $\\\\CK_x$, $D_x$, $D_x^\\\\times$, etc. as above. The subscheme $J^\\\\circ{X}$ of the jet scheme $JX$ of $X$, consisting of jets with nonzero differential, can be thought of as a principal $\\\\aut{\\\\OO}$-bundle (denoted ${\\\\mathcal{A}ut}_X$ in \\\\cite{FBZ.Book}).\\r\\n\\r\\n% The conformal vertex algebra $V$ is, in particular, a Harish-Chandra $(\\\\g, K)$-module in the sense of {\\\\cite{BD.Hitchin}} where $\\\\g = \\\\vir_{\\\\geq -1}$, and $K = \\\\aut{\\\\OO}$. It follows that the machinery of Beilinson-Bernstein localisation can be applied to produce $\\\\V = J^\\\\circ{X} \\\\times_{\\\\aut{\\\\OO}} V$ an infinite rank vector bundle and left $\\\\CD$-module on $X$ {\\\\cite[Section 1.2]{BD.Hitchin}} {\\\\cite{FBZ.Book}}. The vertex algebra structure of $V$ translates into a chiral algebra structure $\\\\mu$ on the corresponding right $\\\\CD$-module $\\\\CA = \\\\V \\\\otimes \\\\Om_X$ {\\\\cite{BD.Chiral}} {\\\\cite{FBZ.Book}}.\\r\\n\\r\\n% These structures are easily described in local coordinates. Let $x$ be a point of $X$, and $z$ a local coordinate at $x$. The choice of $z$ induces identifications %Crummy typesetting here\\r\\n% \\\\begin{align*}\\r\\n%   \\\\xymatrix{\\r\\n%     \\\\G(D_x^\\\\times, \\\\CA) \\\\otimes \\\\CA_x \\\\ar@{->}[r]^\\\\mu \\\\ar@{->}[d]^{\\\\cong} & \\\\CA_x \\\\ar@{->}[d]^{\\\\cong} \\\\\\\\\\r\\n%     %\\r\\n%     V((z))\\\\,dz \\\\otimes V \\\\ar@{->}[r] & V, \\\\\\\\\\r\\n%   }\\r\\n% \\\\end{align*}\\r\\n% and the map on the lower line is simply our $f$-product\\r\\n% \\\\[\\r\\n% a f(z) \\\\,dz \\\\otimes b \\\\mapsto \\\\res_z f(z) a(z)b \\\\,dz = a_{(f)}b.\\r\\n% \\\\]\\r\\n% The $\\\\CD$-module structure of $\\\\V$ is given by\\r\\n% \\\\[\\r\\n% \\\\partial_z \\\\left( a \\\\otimes f(z) \\\\right) = Ta \\\\otimes f(z) + a \\\\otimes f'(z).\\r\\n% \\\\]\\r\\n% The grading $V = \\\\bigoplus_{n \\\\in \\\\Z_+} V_n$ induces an increasing filtration $F^\\\\bullet \\\\V$ of $\\\\V$ by finite rank subbundles, with associated graded bundle\\r\\n% \\\\[\\r\\n% \\\\gr^F\\\\V = \\\\bigoplus_{n \\\\in \\\\Z_+}\\\\gr^F_n\\\\V, \\\\quad \\\\text{where} \\\\quad \\\\gr^F_n \\\\V \\\\cong (\\\\Theta_X^{\\\\otimes n})^{\\\\oplus \\\\dim{V_n}}.\\r\\n% \\\\]\\r\\n\\r\\n% Given a point $x \\\\in X$, the space of conformal blocks, or one point functions, $C(X, x, V)$ may be defined as the vector space dual of the space of coinvariants\\r\\n% \\\\[\\r\\n% H(X, x, V) = \\\\frac{\\\\CA_x}{\\\\G(X \\\\backslash x, \\\\CA) \\\\cdot \\\\CA_x}.\\r\\n% \\\\]\\r\\n\\r\\n% The structure of $\\\\V$ simplifies considerably when $X$ is an elliptic curve, which we assume from now on. Indeed let $\\\\tau$ and $\\\\La$ be as in Section \\\\ref{section.elliptic} and $X = E_\\\\tau = \\\\C / \\\\Z + \\\\Z\\\\tau$ with $0=[\\\\La]$ the associated elliptic curve. The standard coordinate $z$ of $\\\\C$ induces local coordinates at all points of $X$, the transition maps between which are all the identity. Hence the extensions\\r\\n% \\\\[\\r\\n% 0 \\\\rightarrow F^{n-1}\\\\V \\\\rightarrow F^{n}\\\\V \\\\rightarrow (\\\\Theta_X^{\\\\otimes n})^{\\\\oplus \\\\dim{V_n}} \\\\rightarrow 0\\r\\n% \\\\]\\r\\n% are split. Since $\\\\Theta_X \\\\cong \\\\OO_X$ and $\\\\Om_X \\\\cong \\\\OO_X$ as well, we have $\\\\V \\\\cong V \\\\otimes \\\\OO_X$, and $\\\\CA \\\\cong V \\\\otimes \\\\OO_X$. We thus obtain identifications\\r\\n% \\\\[\\r\\n% \\\\G(E_\\\\tau \\\\backslash 0, \\\\CA) \\\\cong V \\\\otimes \\\\G(E_\\\\tau \\\\backslash 0, \\\\OO_X),\\r\\n% \\\\]\\r\\n% and\\r\\n% \\\\[\\r\\n% H(X, x, V) \\\\cong \\\\frac{V}{\\\\left<V_{(f)}V | f \\\\in \\\\G(E_\\\\tau \\\\backslash 0, \\\\OO_X)\\\\right>}.\\r\\n% \\\\]\\r\\n\\r\\n% The space $\\\\G(E_\\\\tau \\\\backslash 0, \\\\OO_X)$ is spanned by the constant function $1$, the Weierstrass function $\\\\ov{\\\\wp}$ and all of its derivatives. Since $a_{(\\\\partial f)}b = -a_{(f)}b$, we conclude\\r\\n% \\\\begin{align}\\\\label{Hdef}\\r\\n% H(E_\\\\tau, 0, V) \\\\cong \\\\frac{V}{\\\\left< V(0)V + V_{(\\\\ov{\\\\wp})}V \\\\right>}.\\r\\n% \\\\end{align}\\r\\n\\r\\n% If we work instead with a family $X \\\\rightarrow S$, $x : S \\\\rightarrow X$ of smooth pointed curves, then $H = H(X, x, V)$ describes a sheaf on $S$. The theory of Virasoro uniformisation explains how to give $H$ the structure of a twisted $\\\\CD$-module on $S$. Indeed $V$ is a Harish-Chandra $(\\\\vir, \\\\aut{\\\\OO})$-module while, and this is the key point, $\\\\M_{(X, x, t)} \\\\rightarrow \\\\M_{(X, x)}$ carries a $(\\\\vir, \\\\aut{\\\\OO})$-structure. Then $H$ is just the localisation $\\\\D(V)$.\\r\\n\\r\\n% Denote by $E \\\\rightarrow \\\\HH$ the quotient of the trivial family $\\\\C \\\\times \\\\HH \\\\rightarrow \\\\HH$ by the $\\\\Z^2$-action\\r\\n% \\\\[\\r\\n% (m, n) \\\\cdot (z, \\\\tau) = (z + m\\\\tau + n, \\\\tau).\\r\\n% \\\\]\\r\\n% This is a family of nonsingular elliptic curves. After unwinding definitions, the connection on $H \\\\rightarrow \\\\HH$ is equivalent to the differential equation\\r\\n% \\\\[\\r\\n% q \\\\frac{\\\\partial s}{\\\\partial q} = L_{(\\\\ov{\\\\zeta})}s,\\r\\n% \\\\]\\r\\n% on a section $s$.\\r\\n\\r\\n% All this suggests to us to consider the $\\\\ov{\\\\zeta}$-product on the quotient $V / V_{(\\\\ov{\\\\wp})}V$. More precisely, let\\r\\n% \\\\[\\r\\n% Z_q = V[[q]] / V_{(\\\\ov{\\\\wp})}V.\\r\\n% \\\\]\\r\\n% Then the quotient $\\\\varepsilon : \\\\C[[q]] \\\\rightarrow \\\\C$ by the ideal $(q)$ induces $\\\\varepsilon : V[[q]] \\\\rightarrow V$, and by (\\\\ref{wp.Lambert}) and (\\\\ref{zeta.Lambert}) we have\\r\\n% \\\\[\\r\\n% \\\\varepsilon(V_{(\\\\ov{\\\\wp})}V) = V_{(g)}V, \\\\quad \\\\text{and} \\\\quad \\\\varepsilon(a_{(\\\\ov{\\\\zeta})}b) = a_{(f)}b.\\r\\n% \\\\]\\r\\n% Thus the Zhu algebra is recovered as the $q=0$ limit of $Z_q$.% The subspace $V_{(\\\\ov{\\\\wp})}V \\\\subset V[[q]]$ is not, however, an ideal for the $\\\\ov{\\\\zeta}$-product, although in a sense it comes close.\\r\\n\\r\\n% It is well known that $V/TV$, equipped with the bracket $[a,b]=a(0)b$, is a Lie algebra. Since $a_{(\\\\ov{\\\\wp})}\\\\vac = a(-2)\\\\vac = -Ta$ we have $V_{(\\\\ov{\\\\wp})}V \\\\subset TV$. By (\\\\ref{idealstart}) and (\\\\ref{generalcomm}) the image of $V_{(\\\\ov{\\\\wp})}V$ in $V/TV$ is a Lie algebra ideal. \\r\\n% %% \\\\[\\r\\n% %% a(0)(b_{(\\\\ov{\\\\wp})}c) = b_{(\\\\ov{\\\\wp})}(a(0)c) + (a(0)b)_{(\\\\ov{\\\\wp})}c \\\\in V_{(\\\\ov{\\\\wp})}V\\r\\n% %% \\\\]\\r\\n% %% and\\r\\n% %% \\\\[\\r\\n% %% (b_{(\\\\ov{\\\\wp})}c)(0)a \\\\equiv -a(0)(b_{(\\\\ov{\\\\wp})}c) \\\\in V_{(\\\\ov{\\\\wp})}V.\\r\\n% %% \\\\]\\r\\n% On the other hand by (\\\\ref{generalcomm}) and the fact that $\\\\ov\\\\zeta(-z) = -\\\\ov\\\\zeta(z) + 2\\\\pi i$ we see that\\r\\n% \\\\[\\r\\n% [a,b]_{\\\\ov\\\\zeta} = a_{(\\\\ov\\\\zeta)}b - b_{(\\\\ov\\\\zeta)}a = 2\\\\pi i a(0)b \\\\mod{TV}.\\r\\n% \\\\]\\r\\n% Hence the commutator $[\\\\cdot,\\\\cdot]_{\\\\ov\\\\zeta}$ is well defined on $Z_q$, and $(Z_q, [\\\\cdot,\\\\cdot]_{\\\\ov\\\\zeta})$ is a quotient of the Lie algebra $V / TV$. Furthermore\\r\\n% \\\\[\\r\\n% H(E_\\\\tau, 0, V) \\\\cong \\\\frac{Z_q}{[Z_q, Z_q]_{\\\\ov\\\\zeta}}.\\r\\n% \\\\]\\r\\n% However $V_{(\\\\ov{\\\\wp})}V$ is not an ideal for the $\\\\ov\\\\zeta$-product itself.\\r\\n\\r\\n\\r\\n\\r\\n%% \\\\section{Families of Plane Cubics}\\\\label{section.cusp}\\r\\n\\r\\n%% In this last section we saw how the Zhu algebra arises in the nodal curve limit. In this section we study the cuspidal limit, and we see the $C_2$-algebra arise in a similar way. It is convenient to work with the cubic curve model for elliptic cuves.\\r\\n\\r\\n%% We consider the cubic curve $C \\\\subset \\\\C P^2$ defined by the equation\\r\\n%% \\\\begin{align}\\\\label{cubic.def}\\r\\n%% Y^2 U = 4X^3 - g_2 X U^2 - g_3 U^3.\\r\\n%% \\\\end{align}\\r\\n%% If $C$ is smooth then it has genus $1$, and is an elliptic curve. The map $\\\\C \\\\rightarrow \\\\C P^2$ defined by\\r\\n%% \\\\[\\r\\n%% \\\\text{$z \\\\mapsto [\\\\wp(z, \\\\tau) : \\\\wp'(z, \\\\tau) : 1]$ for $z \\\\neq 0$, and $0 \\\\mapsto [0 : 1 : 0]$}\\r\\n%% \\\\]\\r\\n%% induces an isomorphism $E_\\\\tau \\\\rightarrow C$, where\\r\\n%% \\\\[\\r\\n%% g_2 = 60 G_4(\\\\tau) \\\\quad \\\\text{and} \\\\quad g_3 = 140 G_6(\\\\tau).\\r\\n%% \\\\]\\r\\n\\r\\n%% The discriminant of $C$ is $\\\\D = g_2^3-27g_3^2$, and $C$ is smooth if and only if $\\\\D \\\\neq 0$. However $\\\\D$ is not an isomorphism invariant. The $j$-invariant $j = 1728 g_2^3/\\\\D$, defined for smooth $C$, is an isomorphism invariant. In terms of $q=e^{2\\\\pi i\\\\tau}$ it coincides with the $j$-function\\r\\n%% \\\\[\\r\\n%% j = q^{-1} + 744 + 196884q + \\\\cdots.\\r\\n%% \\\\]\\r\\n\\r\\n%% %The global $1$-form $dz$ on $E_\\\\tau$ corresponds to $dx / y$ on $U=1$ chart of the cubic.\\r\\n\\r\\n%% Even when $C$ defined by (\\\\ref{cubic.def}) is singular, the point $[0 : 1 : 0]$ is smooth. In the affine chart $Y=1$, equation (\\\\ref{cubic.def}) becomes\\r\\n%% \\\\[\\r\\n%% u = 4x^3 - g_2 x u^2 - g_3 u^3,\\r\\n%% \\\\]\\r\\n%% where $u=U/Y$ and $x=X/Y$. The local coordinate $x$ is related to $z$ by\\r\\n%% \\\\begin{align}\\\\label{xcoord}\\r\\n%% x = \\\\frac{\\\\wp(z, \\\\tau)}{\\\\wp'(z, \\\\tau)}.\\r\\n%% \\\\end{align}\\r\\n%% The right hand side here can be regarded as an element of $\\\\C[g_2,g_3][[z]]$. Clearly all coefficients beyond that of $z$ are polynomials in $g_2,g_3$ with vanishing constant coefficient. Explicitly\\r\\n%% \\\\[\\r\\n%% x = -\\\\frac{1}{2}z - \\\\frac{g_2}{20}z^5 - \\\\frac{3g_3}{56} z^7 - \\\\frac{g_2^2}{240} z^9 - \\\\frac{23g_2 g_3}{3080}z^{11} - \\\\left( \\\\frac{11g_2^3}{31200} + \\\\frac{3g_3^2}{728} \\\\right) z^{13} - \\\\cdots\\r\\n%%  \\\\]\\r\\n\\r\\n\\r\\n\\r\\n%% Now let us consider the family $X \\\\rightarrow B$ of cubics\\r\\n%% \\\\[\\r\\n%% Y^2 U = 4X^3 - \\\\frac{t(t-12^3)^3}{12} X U^2 - \\\\frac{t(t-12^3)^5}{216} U^3\\r\\n%% \\\\]\\r\\n%% over $B = \\\\spec \\\\C[t]$. One may compute $\\\\D = t^2(t-12^3)^9$ and $j = t$. The singular fibre $X_0$ is of type $\\\\text{II}$ in Kodaira's classification (a cuspidal cubic). See \\\\cite{Kodaira} \\\\cite{Schuett.Shioda}.\\r\\n\\r\\n%Every fibre of the family outside $t=0$ can be put in the form $X_t \\\\cong E_\\\\tau$ for some $\\\\tau$ depending on $t$. But looping once around $t=0$ induces a Dehn twist on the fibre. Indeed the singular fibre is of type II in Kodaira's classification, and he says that a loop around $t=0$ starting at $t_0$ must lift to a path in the upper half plane $\\\\HH$ that goes from $\\\\tau_0$ to $-1-1/\\\\tau_0$. Note that the cube of the transformation $\\\\tau \\\\mapsto -1-1/\\\\tau$ is the identity, and in fact the loop around $t=0$ gets lifted to a loop around the orbifold point of order $3$ in $\\\\HH / SL_2(\\\\Z)$. Consistent with all this is the fact that for this family $\\\\lim_{t \\\\rightarrow 0} j(t) = 0$, while indeed $j=0$ for the elliptic curve which corresponds to the orbifold point of order $3$.\\r\\n\\r\\n%% Using (\\\\ref{xcoord}) and Huang's formula (\\\\ref{huang.formula}), the quotient $H(X_t, 0, V) = V / \\\\left<V_{(\\\\wp)}V + V(0)V\\\\right>$ may be reexpressed in terms of $x$. At $t=0$ one has $x = -(1/2)z$ and $a_{(\\\\wp)}b = -2a(-2)b$. \\r\\n%% \\\\begin{prop}\\r\\n%% There is a coherent sheaf over $B$ whose fibre over $t \\\\neq 0$ is isomorphic to the space of coinvariants $H(X_t, 0, V)$ of the elliptic curve $X_t$, and whose fibre over $t=0$ is isomorphic to the $0^\\\\text{th}$ Poisson homology of the $C_2$-algebra $R_V$ of $V$.\\r\\n%%   \\\\end{prop}\\r\\n\\r\\n\\r\\n\\r\\n%% {\\\\color{blue}At $t=12^3$ the singular fibre type is of type $\\\\text{III}^*$ in Kodaira's classification (a chain of spheres intersecting in a pattern governed by $E_7$. In general (i.e., in all cases except for the nodal curve) not only the singular fibre is singular, but the surface has a surface singularity. One has to resolve the singularity by blow ups. This is what introduces the extra components of the singular fibres. The point is: things might be a lot more suble than I have been thinking.}\\r\\n\\r\\n\\r\\n\\r\\n\\r\\n%TO DO: explain why $R_V$ is a Poisson algebra, zeroth product, Poisson homology. Introduce $C_2$-cofiniteness, and why is needed in the theorem. Write out a corresponding theorem in the Zhu case.\\r\\n\\r\\n\\r\\n\\r\\n\\r\\n\\r\\n\\r\\n\\r\\n%% \\\\section{Antiholomorphic Forms}\\r\\n\\r\\n%% {\\\\color{red}I'm leaning towards deleting this section.}\\r\\n\\r\\n%% Let $X = E_\\\\tau$ and let $U = X \\\\backslash 0$.\\r\\n\\r\\n%% Let $\\\\Om^\\\\bullet$ denote the complex of holomorphic and $C^\\\\bullet$ the complex of $C^\\\\infty$ forms.\\r\\n\\r\\n%% Then the natural embedding\\r\\n%% \\\\[\\r\\n%% \\\\Om^\\\\bullet \\\\rightarrow C^\\\\bullet\\r\\n%% \\\\]\\r\\n%% induces a quasi-isomorphism at the level of derived categories.\\r\\n\\r\\n\\r\\n%% By (\\\\ref{zetaperiods}) the expression\\r\\n%% \\\\[\\r\\n%% \\\\zeta(z) - \\\\frac{z - \\\\ov{z}}{\\\\tau - \\\\ov\\\\tau}\\r\\n%% \\\\]\\r\\n%% represents a smooth function on $E_\\\\tau$ with pole at $z=0$. Thus\\r\\n%% \\\\[\\r\\n%% \\\\wp(z)dz - \\\\frac{dz - d\\\\ov{z}}{\\\\tau - \\\\ov\\\\tau}\\r\\n%% \\\\]\\r\\n%% is exact in $C^\\\\bullet$.\\r\\n\\r\\n%% %\\\\section{Chiral Homology}\\r\\n\\r\\n\\r\\n\\r\\n\\r\\n\\r\\n%\\\\newpage\\r\\n\\r\\n\\r\\n\\r\\n\\r\\n\\\\bibliographystyle{plain}\\r\\n\\\\begin{thebibliography}{1}\\n\\n\\\\bibitem{Apostol.Book}\\nTom~M. Apostol.\\n\\\\newblock {\\\\em Modular functions and {D}irichlet series in number theory},\\n  volume~41 of {\\\\em Graduate Texts in Mathematics}.\\n\\\\newblock Springer-Verlag, New York, second edition, 1990.\\n\\n\\\\bibitem{DK06}\\nAlberto De~Sole and Victor~G. Kac.\\n\\\\newblock Finite vs affine {$W$}-algebras.\\n\\\\newblock {\\\\em Jpn. J. Math.}, 1(1):137--261, 2006.\\n\\n\\\\bibitem{DLM.VA.and.assoc}\\nChongying Dong, Haisheng Li, and Geoffrey Mason.\\n\\\\newblock Vertex operator algebras and associative algebras.\\n\\\\newblock {\\\\em J. Algebra}, 206(1):67--96, 1998.\\n\\n\\\\bibitem{Huang.duality}\\nYi-Zhi Huang.\\n\\\\newblock Differential equations, duality and modular invariance.\\n\\\\newblock {\\\\em Commun. Contemp. Math.}, 7(5):649--706, 2005.\\n\\n\\\\bibitem{Kac.VA.Book}\\nVictor Kac.\\n\\\\newblock {\\\\em Vertex algebras for beginners}, volume~10 of {\\\\em University\\n  Lecture Series}.\\n\\\\newblock American Mathematical Society, Providence, RI, second edition, 1998.\\n\\n\\\\bibitem{Lang.Book.elliptic}\\nSerge Lang.\\n\\\\newblock {\\\\em Elliptic functions}, volume 112 of {\\\\em Graduate Texts in\\n  Mathematics}.\\n\\\\newblock Springer-Verlag, New York, second edition, 1987.\\n\\\\newblock With an appendix by J. Tate.\\n\\n\\\\bibitem{JVEpisa}\\nJethro van Ekeren.\\n\\\\newblock Vertex superalgebras and jacobi forms.\\n\\\\newblock Preprint, 2014.\\n\\n\\\\bibitem{Zhu-thesis}\\nYongchang Zhu.\\n\\\\newblock {\\\\em Vertex operator algebras, elliptic functions and modular forms}.\\n\\\\newblock ProQuest LLC, Ann Arbor, MI, 1990.\\n\\\\newblock Thesis (Ph.D.)--Yale University.\\n\\n\\\\bibitem{Z96}\\nYongchang Zhu.\\n\\\\newblock Modular invariance of characters of vertex operator algebras.\\n\\\\newblock {\\\\em J. Amer. Math. Soc.}, 9(1):237--302, 1996.\\n\\n\\\\end{thebibliography}\\n\\r\\n\\r\\n\\r\\n\\r\\n\\r\\n\\r\\n\\r\\n\\r\\n\\r\\n\\r\\n\\r\\n\\r\\n\\r\\n\\r\\n\\r\\n\\\\end{document}\\r\\n\"\n"
     ]
    }
   ],
   "source": [
    "print(zhu_str)"
   ]
  },
  {
   "cell_type": "code",
   "execution_count": 243,
   "metadata": {},
   "outputs": [
    {
     "ename": "ReadError",
     "evalue": "file could not be opened successfully",
     "output_type": "error",
     "traceback": [
      "\u001b[0;31m---------------------------------------------------------------------------\u001b[0m",
      "\u001b[0;31mReadError\u001b[0m                                 Traceback (most recent call last)",
      "\u001b[0;32m<ipython-input-243-06450ae3a12d>\u001b[0m in \u001b[0;36m<module>\u001b[0;34m()\u001b[0m\n\u001b[1;32m      6\u001b[0m \u001b[0;31m#with open('../todo_macizo.pdf','w') as todo_macizo:\u001b[0m\u001b[0;34m\u001b[0m\u001b[0;34m\u001b[0m\u001b[0m\n\u001b[1;32m      7\u001b[0m \u001b[0;31m#    todo_macizo.write(tar2.read().decode('utf-8'))\u001b[0m\u001b[0;34m\u001b[0m\u001b[0;34m\u001b[0m\u001b[0m\n\u001b[0;32m----> 8\u001b[0;31m \u001b[0;32mwith\u001b[0m \u001b[0mtarfile\u001b[0m\u001b[0;34m.\u001b[0m\u001b[0mopen\u001b[0m\u001b[0;34m(\u001b[0m\u001b[0mfileobj\u001b[0m\u001b[0;34m=\u001b[0m\u001b[0mtar2\u001b[0m\u001b[0;34m)\u001b[0m \u001b[0;32mas\u001b[0m \u001b[0mtars\u001b[0m\u001b[0;34m:\u001b[0m\u001b[0;34m\u001b[0m\u001b[0m\n\u001b[0m\u001b[1;32m      9\u001b[0m     \u001b[0;32mfor\u001b[0m \u001b[0mt\u001b[0m \u001b[0;32min\u001b[0m \u001b[0mtars\u001b[0m\u001b[0;34m:\u001b[0m\u001b[0;34m\u001b[0m\u001b[0m\n\u001b[1;32m     10\u001b[0m         \u001b[0mprint\u001b[0m\u001b[0;34m(\u001b[0m\u001b[0mt\u001b[0m\u001b[0;34m.\u001b[0m\u001b[0mget_info\u001b[0m\u001b[0;34m(\u001b[0m\u001b[0;34m)\u001b[0m\u001b[0;34m[\u001b[0m\u001b[0;34m'name'\u001b[0m\u001b[0;34m]\u001b[0m\u001b[0;34m)\u001b[0m\u001b[0;34m\u001b[0m\u001b[0m\n",
      "\u001b[0;32m/usr/lib/python3.6/tarfile.py\u001b[0m in \u001b[0;36mopen\u001b[0;34m(cls, name, mode, fileobj, bufsize, **kwargs)\u001b[0m\n\u001b[1;32m   1572\u001b[0m                         \u001b[0mfileobj\u001b[0m\u001b[0;34m.\u001b[0m\u001b[0mseek\u001b[0m\u001b[0;34m(\u001b[0m\u001b[0msaved_pos\u001b[0m\u001b[0;34m)\u001b[0m\u001b[0;34m\u001b[0m\u001b[0m\n\u001b[1;32m   1573\u001b[0m                     \u001b[0;32mcontinue\u001b[0m\u001b[0;34m\u001b[0m\u001b[0m\n\u001b[0;32m-> 1574\u001b[0;31m             \u001b[0;32mraise\u001b[0m \u001b[0mReadError\u001b[0m\u001b[0;34m(\u001b[0m\u001b[0;34m\"file could not be opened successfully\"\u001b[0m\u001b[0;34m)\u001b[0m\u001b[0;34m\u001b[0m\u001b[0m\n\u001b[0m\u001b[1;32m   1575\u001b[0m \u001b[0;34m\u001b[0m\u001b[0m\n\u001b[1;32m   1576\u001b[0m         \u001b[0;32melif\u001b[0m \u001b[0;34m\":\"\u001b[0m \u001b[0;32min\u001b[0m \u001b[0mmode\u001b[0m\u001b[0;34m:\u001b[0m\u001b[0;34m\u001b[0m\u001b[0m\n",
      "\u001b[0;31mReadError\u001b[0m: file could not be opened successfully"
     ]
    }
   ],
   "source": [
    "import gzip\n",
    "import chardet\n",
    "file_tar = tarfile.open('/mnt/arXiv_src/src/arXiv_src_1708_017.tar')\n",
    "tar2 = file_tar.extractfile('1708/1708.06614.gz')\n",
    "#print(chardet.detect(tar2))\n",
    "#with open('../todo_macizo.pdf','w') as todo_macizo:\n",
    "#    todo_macizo.write(tar2.read().decode('utf-8'))\n",
    "with tarfile.open(fileobj=tar2) as tars:\n",
    "    for t in tars:\n",
    "        print(t.get_info()['name'])\n",
    "#gz = gzip.open(tar2, 'rb')\n",
    "#with gzip.open(tar2) as tars:\n",
    "#    t = tars.read()\n",
    "#print(t.decode('utf-8'))\n",
    "#chardet.detect(t)\n",
    "\n",
    "#with open('../holita.txt','w') as holaf:\n",
    "#    holaf.write(allfile.read().decode('utf-8'))\n",
    "    "
   ]
  },
  {
   "cell_type": "code",
   "execution_count": 245,
   "metadata": {},
   "outputs": [
    {
     "data": {
      "text/plain": [
       "tarfile.ReadError()"
      ]
     },
     "execution_count": 245,
     "metadata": {},
     "output_type": "execute_result"
    }
   ],
   "source": [
    "tarfile.ReadError()"
   ]
  },
  {
   "cell_type": "code",
   "execution_count": 238,
   "metadata": {},
   "outputs": [
    {
     "name": "stdout",
     "output_type": "stream",
     "text": [
      "1708\n",
      "1708/1708.06770.gz\n",
      "1708/1708.06466.gz\n",
      "1708/1708.06631.gz\n",
      "1708/1708.06467.gz\n",
      "1708/1708.06796.gz\n",
      "1708/1708.06536.gz\n",
      "1708/1708.06588.gz\n",
      "1708/1708.06447.gz\n",
      "1708/1708.06760.gz\n",
      "1708/1708.06797.gz\n",
      "1708/1708.06553.gz\n",
      "1708/1708.06564.gz\n",
      "1708/1708.06657.gz\n",
      "1708/1708.06502.gz\n",
      "1708/1708.06566.gz\n",
      "1708/1708.06526.gz\n",
      "1708/1708.06479.gz\n",
      "1708/1708.06570.gz\n",
      "1708/1708.06713.gz\n",
      "1708/1708.06780.gz\n",
      "1708/1708.06601.pdf\n",
      "1708/1708.06711.gz\n",
      "1708/1708.06599.gz\n",
      "1708/1708.06712.gz\n",
      "1708/1708.06605.gz\n",
      "1708/1708.06636.pdf\n",
      "1708/1708.06789.gz\n",
      "1708/1708.06758.gz\n",
      "1708/1708.06775.gz\n",
      "1708/1708.06730.gz\n",
      "1708/1708.06620.gz\n",
      "1708/1708.06518.pdf\n",
      "1708/1708.06670.gz\n",
      "1708/1708.06700.gz\n",
      "1708/1708.06475.gz\n",
      "1708/1708.06490.gz\n",
      "1708/1708.06523.gz\n",
      "1708/1708.06672.gz\n",
      "1708/1708.06668.gz\n",
      "1708/1708.06471.gz\n",
      "1708/1708.06571.gz\n",
      "1708/1708.06759.pdf\n",
      "1708/1708.06737.pdf\n",
      "1708/1708.06698.gz\n",
      "1708/1708.06489.gz\n",
      "1708/1708.06783.gz\n",
      "1708/1708.06692.gz\n",
      "1708/1708.06598.gz\n",
      "1708/1708.06615.gz\n",
      "1708/1708.06485.gz\n",
      "1708/1708.06632.gz\n",
      "1708/1708.06575.gz\n",
      "1708/1708.06543.gz\n",
      "1708/1708.06540.gz\n",
      "1708/1708.06454.pdf\n",
      "1708/1708.06582.gz\n",
      "1708/1708.06443.gz\n",
      "1708/1708.06612.gz\n",
      "1708/1708.06720.gz\n",
      "1708/1708.06559.gz\n",
      "1708/1708.06573.gz\n",
      "1708/1708.06581.gz\n",
      "1708/1708.06470.gz\n",
      "1708/1708.06714.gz\n",
      "1708/1708.06483.gz\n",
      "1708/1708.06666.gz\n",
      "1708/1708.06688.gz\n",
      "1708/1708.06805.gz\n",
      "1708/1708.06652.gz\n",
      "1708/1708.06583.gz\n",
      "1708/1708.06449.gz\n",
      "1708/1708.06699.pdf\n",
      "1708/1708.06644.gz\n",
      "1708/1708.06576.gz\n",
      "1708/1708.06550.gz\n",
      "1708/1708.06691.gz\n",
      "1708/1708.06558.gz\n",
      "1708/1708.06431.gz\n",
      "1708/1708.06611.gz\n",
      "1708/1708.06755.gz\n",
      "1708/1708.06781.gz\n",
      "1708/1708.06432.gz\n",
      "1708/1708.06524.pdf\n",
      "1708/1708.06704.pdf\n",
      "1708/1708.06762.gz\n",
      "1708/1708.06663.gz\n",
      "1708/1708.06537.gz\n",
      "1708/1708.06677.gz\n",
      "1708/1708.06419.pdf\n",
      "1708/1708.06671.gz\n",
      "1708/1708.06460.gz\n",
      "1708/1708.06423.gz\n",
      "1708/1708.06665.gz\n",
      "1708/1708.06779.gz\n",
      "1708/1708.06621.gz\n",
      "1708/1708.06752.gz\n",
      "1708/1708.06515.gz\n",
      "1708/1708.06608.gz\n",
      "1708/1708.06776.gz\n",
      "1708/1708.06469.gz\n",
      "1708/1708.06499.gz\n",
      "1708/1708.06473.gz\n",
      "1708/1708.06678.gz\n",
      "1708/1708.06465.gz\n",
      "1708/1708.06603.gz\n",
      "1708/1708.06667.gz\n",
      "1708/1708.06765.gz\n",
      "1708/1708.06552.gz\n",
      "1708/1708.06739.gz\n",
      "1708/1708.06800.gz\n",
      "1708/1708.06790.gz\n",
      "1708/1708.06560.gz\n",
      "1708/1708.06468.gz\n",
      "1708/1708.06764.gz\n",
      "1708/1708.06674.gz\n",
      "1708/1708.06429.gz\n",
      "1708/1708.06646.gz\n",
      "1708/1708.06513.gz\n",
      "1708/1708.06733.gz\n",
      "1708/1708.06771.gz\n",
      "1708/1708.06642.gz\n",
      "1708/1708.06421.pdf\n",
      "1708/1708.06422.gz\n",
      "1708/1708.06464.gz\n",
      "1708/1708.06726.gz\n",
      "1708/1708.06634.gz\n",
      "1708/1708.06614.gz\n",
      "1708/1708.06607.gz\n",
      "1708/1708.06511.gz\n",
      "1708/1708.06809.gz\n",
      "1708/1708.06600.pdf\n",
      "1708/1708.06577.gz\n",
      "1708/1708.06769.gz\n",
      "1708/1708.06625.gz\n",
      "1708/1708.06613.pdf\n",
      "1708/1708.06629.gz\n",
      "1708/1708.06794.pdf\n",
      "1708/1708.06461.gz\n",
      "1708/1708.06455.gz\n",
      "1708/1708.06456.gz\n",
      "1708/1708.06448.gz\n",
      "1708/1708.06643.gz\n",
      "1708/1708.06618.gz\n",
      "1708/1708.06557.gz\n",
      "1708/1708.06680.gz\n",
      "1708/1708.06506.gz\n",
      "1708/1708.06441.gz\n",
      "1708/1708.06659.gz\n",
      "1708/1708.06622.gz\n",
      "1708/1708.06428.gz\n",
      "1708/1708.06527.gz\n",
      "1708/1708.06507.gz\n",
      "1708/1708.06504.pdf\n",
      "1708/1708.06662.gz\n",
      "1708/1708.06686.gz\n",
      "1708/1708.06624.gz\n",
      "1708/1708.06727.gz\n",
      "1708/1708.06745.gz\n",
      "1708/1708.06722.gz\n",
      "1708/1708.06563.gz\n",
      "1708/1708.06446.gz\n",
      "1708/1708.06791.gz\n",
      "1708/1708.06641.gz\n",
      "1708/1708.06750.gz\n",
      "1708/1708.06450.gz\n",
      "1708/1708.06736.pdf\n",
      "1708/1708.06627.gz\n",
      "1708/1708.06426.gz\n",
      "1708/1708.06478.gz\n",
      "1708/1708.06706.gz\n",
      "1708/1708.06767.gz\n",
      "1708/1708.06787.gz\n",
      "1708/1708.06549.gz\n",
      "1708/1708.06690.gz\n",
      "1708/1708.06538.gz\n",
      "1708/1708.06763.gz\n",
      "1708/1708.06732.gz\n",
      "1708/1708.06635.pdf\n",
      "1708/1708.06457.gz\n",
      "1708/1708.06434.gz\n",
      "1708/1708.06778.gz\n",
      "1708/1708.06529.gz\n",
      "1708/1708.06772.gz\n",
      "1708/1708.06554.gz\n",
      "1708/1708.06528.gz\n",
      "1708/1708.06520.gz\n",
      "1708/1708.06585.gz\n",
      "1708/1708.06451.gz\n",
      "1708/1708.06684.pdf\n",
      "1708/1708.06751.gz\n",
      "1708/1708.06793.gz\n",
      "1708/1708.06798.gz\n",
      "1708/1708.06458.gz\n",
      "1708/1708.06649.gz\n",
      "1708/1708.06517.gz\n",
      "1708/1708.06494.gz\n",
      "1708/1708.06533.gz\n",
      "1708/1708.06756.pdf\n",
      "1708/1708.06579.pdf\n",
      "1708/1708.06459.gz\n",
      "1708/1708.06574.gz\n",
      "1708/1708.06696.gz\n",
      "1708/1708.06806.gz\n",
      "1708/1708.06725.gz\n",
      "1708/1708.06604.gz\n",
      "1708/1708.06768.gz\n",
      "1708/1708.06555.gz\n",
      "1708/1708.06592.gz\n",
      "1708/1708.06748.gz\n",
      "1708/1708.06749.gz\n",
      "1708/1708.06430.gz\n",
      "1708/1708.06438.gz\n",
      "1708/1708.06595.gz\n",
      "1708/1708.06650.gz\n",
      "1708/1708.06654.gz\n",
      "1708/1708.06753.gz\n",
      "1708/1708.06676.gz\n",
      "1708/1708.06568.gz\n",
      "1708/1708.06619.gz\n",
      "1708/1708.06548.gz\n",
      "1708/1708.06673.gz\n",
      "1708/1708.06522.gz\n",
      "1708/1708.06539.gz\n",
      "1708/1708.06734.gz\n",
      "1708/1708.06741.pdf\n",
      "1708/1708.06701.gz\n",
      "1708/1708.06617.gz\n",
      "1708/1708.06440.gz\n",
      "1708/1708.06491.gz\n",
      "1708/1708.06697.gz\n",
      "1708/1708.06556.gz\n",
      "1708/1708.06532.gz\n",
      "1708/1708.06738.gz\n",
      "1708/1708.06724.gz\n",
      "1708/1708.06661.gz\n",
      "1708/1708.06766.gz\n",
      "1708/1708.06561.pdf\n",
      "1708/1708.06487.gz\n",
      "1708/1708.06669.gz\n",
      "1708/1708.06442.gz\n",
      "1708/1708.06609.gz\n",
      "1708/1708.06773.gz\n",
      "1708/1708.06761.gz\n",
      "1708/1708.06435.pdf\n",
      "1708/1708.06505.gz\n",
      "1708/1708.06695.pdf\n",
      "1708/1708.06637.gz\n",
      "1708/1708.06463.gz\n",
      "1708/1708.06546.pdf\n",
      "1708/1708.06436.gz\n",
      "1708/1708.06757.gz\n",
      "1708/1708.06420.gz\n",
      "1708/1708.06444.gz\n",
      "1708/1708.06589.gz\n",
      "1708/1708.06424.pdf\n",
      "1708/1708.06746.pdf\n",
      "1708/1708.06572.gz\n",
      "1708/1708.06510.gz\n",
      "1708/1708.06580.gz\n",
      "1708/1708.06804.gz\n",
      "1708/1708.06810.gz\n",
      "1708/1708.06486.gz\n",
      "1708/1708.06462.gz\n",
      "1708/1708.06628.gz\n",
      "1708/1708.06651.gz\n",
      "1708/1708.06744.pdf\n",
      "1708/1708.06514.gz\n",
      "1708/1708.06777.gz\n",
      "1708/1708.06710.gz\n",
      "1708/1708.06610.gz\n",
      "1708/1708.06803.gz\n",
      "1708/1708.06630.gz\n",
      "1708/1708.06689.gz\n",
      "1708/1708.06481.gz\n",
      "1708/1708.06708.pdf\n",
      "1708/1708.06715.gz\n",
      "1708/1708.06658.gz\n",
      "1708/1708.06547.gz\n",
      "1708/1708.06735.gz\n",
      "1708/1708.06623.gz\n",
      "1708/1708.06594.gz\n",
      "1708/1708.06493.gz\n",
      "1708/1708.06788.pdf\n",
      "1708/1708.06785.gz\n",
      "1708/1708.06495.gz\n",
      "1708/1708.06488.gz\n",
      "1708/1708.06685.pdf\n",
      "1708/1708.06501.gz\n",
      "1708/1708.06477.gz\n",
      "1708/1708.06587.gz\n",
      "1708/1708.06784.gz\n",
      "1708/1708.06503.gz\n",
      "1708/1708.06508.gz\n",
      "1708/1708.06754.gz\n",
      "1708/1708.06445.gz\n",
      "1708/1708.06476.pdf\n",
      "1708/1708.06683.gz\n",
      "1708/1708.06801.gz\n",
      "1708/1708.06639.gz\n",
      "1708/1708.06498.gz\n",
      "1708/1708.06497.gz\n",
      "1708/1708.06707.gz\n",
      "1708/1708.06439.gz\n",
      "1708/1708.06664.pdf\n",
      "1708/1708.06512.gz\n",
      "1708/1708.06427.gz\n",
      "1708/1708.06569.gz\n",
      "1708/1708.06541.gz\n",
      "1708/1708.06808.gz\n",
      "1708/1708.06675.gz\n",
      "1708/1708.06681.gz\n",
      "1708/1708.06716.pdf\n",
      "1708/1708.06452.gz\n",
      "1708/1708.06565.gz\n",
      "1708/1708.06656.gz\n",
      "1708/1708.06638.gz\n",
      "1708/1708.06731.gz\n",
      "1708/1708.06703.gz\n",
      "1708/1708.06679.gz\n",
      "1708/1708.06516.gz\n",
      "1708/1708.06530.gz\n",
      "1708/1708.06723.gz\n",
      "1708/1708.06718.gz\n",
      "1708/1708.06743.gz\n",
      "1708/1708.06653.gz\n",
      "1708/1708.06799.gz\n",
      "1708/1708.06437.gz\n",
      "1708/1708.06740.gz\n",
      "1708/1708.06687.gz\n",
      "1708/1708.06453.gz\n",
      "1708/1708.06535.gz\n",
      "1708/1708.06616.pdf\n",
      "1708/1708.06721.gz\n",
      "1708/1708.06531.gz\n",
      "1708/1708.06694.gz\n",
      "1708/1708.06728.gz\n",
      "1708/1708.06606.gz\n",
      "1708/1708.06786.gz\n",
      "1708/1708.06648.gz\n",
      "1708/1708.06774.gz\n",
      "1708/1708.06593.gz\n",
      "1708/1708.06702.gz\n",
      "1708/1708.06792.gz\n",
      "1708/1708.06719.pdf\n",
      "1708/1708.06472.gz\n",
      "1708/1708.06534.gz\n",
      "1708/1708.06729.gz\n",
      "1708/1708.06709.gz\n",
      "1708/1708.06645.pdf\n",
      "1708/1708.06425.gz\n",
      "1708/1708.06795.gz\n",
      "1708/1708.06509.gz\n",
      "1708/1708.06492.gz\n",
      "1708/1708.06567.gz\n",
      "1708/1708.06542.gz\n",
      "1708/1708.06742.gz\n",
      "1708/1708.06640.gz\n",
      "1708/1708.06597.pdf\n",
      "1708/1708.06602.gz\n",
      "1708/1708.06584.gz\n",
      "1708/1708.06433.pdf\n",
      "1708/1708.06591.gz\n",
      "1708/1708.06519.gz\n",
      "1708/1708.06551.gz\n",
      "1708/1708.06521.gz\n",
      "1708/1708.06747.gz\n",
      "1708/1708.06474.gz\n",
      "1708/1708.06596.gz\n",
      "1708/1708.06626.gz\n",
      "1708/1708.06484.gz\n",
      "1708/1708.06586.gz\n",
      "1708/1708.06544.gz\n",
      "1708/1708.06782.gz\n",
      "1708/1708.06705.gz\n",
      "1708/1708.06802.pdf\n",
      "1708/1708.06633.gz\n",
      "1708/1708.06660.gz\n",
      "1708/1708.06682.gz\n",
      "1708/1708.06562.gz\n",
      "1708/1708.06525.gz\n",
      "1708/1708.06647.gz\n",
      "1708/1708.06590.gz\n",
      "1708/1708.06693.gz\n",
      "1708/1708.06500.gz\n",
      "1708/1708.06578.gz\n",
      "1708/1708.06496.gz\n",
      "1708/1708.06482.gz\n",
      "1708/1708.06480.gz\n",
      "1708/1708.06545.gz\n",
      "1708/1708.06717.gz\n",
      "1708/1708.06807.gz\n",
      "1708/1708.06655.gz\n"
     ]
    }
   ],
   "source": [
    "with tarfile.open('/mnt/arXiv_src/src/arXiv_src_1708_017.tar') as morgan:\n",
    "    for mor in morgan:\n",
    "        print(mor.name)\n"
   ]
  },
  {
   "cell_type": "code",
   "execution_count": 208,
   "metadata": {},
   "outputs": [],
   "source": [
    "file_tar.extract?"
   ]
  },
  {
   "cell_type": "code",
   "execution_count": 109,
   "metadata": {},
   "outputs": [],
   "source": [
    "tarfile.TarFile.extractall?"
   ]
  },
  {
   "cell_type": "code",
   "execution_count": 157,
   "metadata": {},
   "outputs": [
    {
     "data": {
      "text/plain": [
       "{'encoding': 'Windows-1252', 'confidence': 0.7292205811322673, 'language': ''}"
      ]
     },
     "execution_count": 157,
     "metadata": {},
     "output_type": "execute_result"
    }
   ],
   "source": [
    "import chardet\n",
    "chardet.detect(t)"
   ]
  },
  {
   "cell_type": "code",
   "execution_count": 222,
   "metadata": {},
   "outputs": [
    {
     "data": {
      "text/plain": [
       "['/mnt/arXiv_src/src/arXiv_src_1805_001.tar',\n",
       " '/mnt/arXiv_src/src/arXiv_src_1805_003.tar',\n",
       " '/mnt/arXiv_src/src/arXiv_src_1805_004.tar',\n",
       " '/mnt/arXiv_src/src/arXiv_src_1805_005.tar',\n",
       " '/mnt/arXiv_src/src/arXiv_src_1805_006.tar',\n",
       " '/mnt/arXiv_src/src/arXiv_src_1805_007.tar',\n",
       " '/mnt/arXiv_src/src/arXiv_src_1805_008.tar',\n",
       " '/mnt/arXiv_src/src/arXiv_src_1805_009.tar',\n",
       " '/mnt/arXiv_src/src/arXiv_src_1805_010.tar',\n",
       " '/mnt/arXiv_src/src/arXiv_src_1805_011.tar',\n",
       " '/mnt/arXiv_src/src/arXiv_src_1805_012.tar',\n",
       " '/mnt/arXiv_src/src/arXiv_src_1805_013.tar',\n",
       " '/mnt/arXiv_src/src/arXiv_src_1805_014.tar',\n",
       " '/mnt/arXiv_src/src/arXiv_src_1805_015.tar',\n",
       " '/mnt/arXiv_src/src/arXiv_src_1805_016.tar',\n",
       " '/mnt/arXiv_src/src/arXiv_src_1805_017.tar',\n",
       " '/mnt/arXiv_src/src/arXiv_src_1805_019.tar',\n",
       " '/mnt/arXiv_src/src/arXiv_src_1805_020.tar',\n",
       " '/mnt/arXiv_src/src/arXiv_src_1805_021.tar',\n",
       " '/mnt/arXiv_src/src/arXiv_src_1805_022.tar',\n",
       " '/mnt/arXiv_src/src/arXiv_src_1805_023.tar',\n",
       " '/mnt/arXiv_src/src/arXiv_src_1805_024.tar',\n",
       " '/mnt/arXiv_src/src/arXiv_src_1805_025.tar',\n",
       " '/mnt/arXiv_src/src/arXiv_src_1805_026.tar',\n",
       " '/mnt/arXiv_src/src/arXiv_src_1805_027.tar',\n",
       " '/mnt/arXiv_src/src/arXiv_src_1805_028.tar',\n",
       " '/mnt/arXiv_src/src/arXiv_src_1805_029.tar',\n",
       " '/mnt/arXiv_src/src/arXiv_src_1805_030.tar',\n",
       " '/mnt/arXiv_src/src/arXiv_src_1805_031.tar',\n",
       " '/mnt/arXiv_src/src/arXiv_src_1805_032.tar',\n",
       " '/mnt/arXiv_src/src/arXiv_src_1805_033.tar',\n",
       " '/mnt/arXiv_src/src/arXiv_src_1805_002.tar',\n",
       " '/mnt/arXiv_src/src/arXiv_src_1805_018.tar',\n",
       " '/mnt/arXiv_src/src/arXiv_src_1805_034.tar']"
      ]
     },
     "execution_count": 222,
     "metadata": {},
     "output_type": "execute_result"
    }
   ],
   "source": [
    "import glob\n",
    "glob.glob('/mnt/arXiv_src/src/arXiv_src_1805_*')"
   ]
  },
  {
   "cell_type": "code",
   "execution_count": 172,
   "metadata": {},
   "outputs": [],
   "source": [
    "bytes.decode?"
   ]
  },
  {
   "cell_type": "code",
   "execution_count": 171,
   "metadata": {},
   "outputs": [
    {
     "data": {
      "text/plain": [
       "bytes"
      ]
     },
     "execution_count": 171,
     "metadata": {},
     "output_type": "execute_result"
    }
   ],
   "source": [
    "type(t)"
   ]
  },
  {
   "cell_type": "code",
   "execution_count": null,
   "metadata": {},
   "outputs": [],
   "source": []
  }
 ],
 "metadata": {
  "kernelspec": {
   "display_name": "Python 3",
   "language": "python",
   "name": "python3"
  },
  "language_info": {
   "codemirror_mode": {
    "name": "ipython",
    "version": 3
   },
   "file_extension": ".py",
   "mimetype": "text/x-python",
   "name": "python",
   "nbconvert_exporter": "python",
   "pygments_lexer": "ipython3",
   "version": "3.6.5"
  }
 },
 "nbformat": 4,
 "nbformat_minor": 2
}
